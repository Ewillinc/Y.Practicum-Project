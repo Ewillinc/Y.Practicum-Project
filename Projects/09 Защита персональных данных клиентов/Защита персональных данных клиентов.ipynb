{
 "cells": [
  {
   "cell_type": "markdown",
   "metadata": {},
   "source": [
    "# Защита персональных данных клиентов"
   ]
  },
  {
   "cell_type": "markdown",
   "metadata": {},
   "source": [
    "## Проект:"
   ]
  },
  {
   "cell_type": "markdown",
   "metadata": {},
   "source": [
    "Нужно защитить данные клиентов страховой компании «Хоть потоп». Разработать такой метод преобразования данных, чтобы по ним было сложно восстановить персональную информацию. Обосновать корректность его работы.\n",
    "\n",
    "Нужно защитить данные, чтобы при преобразовании качество моделей машинного обучения не ухудшилось, без подбора наилучшего качества модели."
   ]
  },
  {
   "cell_type": "markdown",
   "metadata": {},
   "source": [
    "**Описание данных:**"
   ]
  },
  {
   "cell_type": "markdown",
   "metadata": {},
   "source": [
    "**Признаки:** пол, возраст и зарплата застрахованного, количество членов его семьи.\n",
    "\n",
    "\n",
    "**Целевой признак:** количество страховых выплат клиенту за последние 5 лет."
   ]
  },
  {
   "cell_type": "markdown",
   "metadata": {},
   "source": [
    "## Загрузка данных"
   ]
  },
  {
   "cell_type": "code",
   "execution_count": 81,
   "metadata": {},
   "outputs": [],
   "source": [
    "import pandas as pd\n",
    "import numpy as np\n",
    "import seaborn as sns\n",
    "import matplotlib.pyplot as plt\n",
    "\n",
    "from sklearn.linear_model import LinearRegression\n",
    "from sklearn.metrics import r2_score"
   ]
  },
  {
   "cell_type": "code",
   "execution_count": 82,
   "metadata": {},
   "outputs": [],
   "source": [
    "dt = pd.read_csv('/datasets/insurance.csv')"
   ]
  },
  {
   "cell_type": "code",
   "execution_count": 83,
   "metadata": {},
   "outputs": [
    {
     "name": "stdout",
     "output_type": "stream",
     "text": [
      "<class 'pandas.core.frame.DataFrame'>\n",
      "RangeIndex: 5000 entries, 0 to 4999\n",
      "Data columns (total 5 columns):\n",
      " #   Column             Non-Null Count  Dtype  \n",
      "---  ------             --------------  -----  \n",
      " 0   Пол                5000 non-null   int64  \n",
      " 1   Возраст            5000 non-null   float64\n",
      " 2   Зарплата           5000 non-null   float64\n",
      " 3   Члены семьи        5000 non-null   int64  \n",
      " 4   Страховые выплаты  5000 non-null   int64  \n",
      "dtypes: float64(2), int64(3)\n",
      "memory usage: 195.4 KB\n"
     ]
    },
    {
     "data": {
      "text/html": [
       "<div>\n",
       "<style scoped>\n",
       "    .dataframe tbody tr th:only-of-type {\n",
       "        vertical-align: middle;\n",
       "    }\n",
       "\n",
       "    .dataframe tbody tr th {\n",
       "        vertical-align: top;\n",
       "    }\n",
       "\n",
       "    .dataframe thead th {\n",
       "        text-align: right;\n",
       "    }\n",
       "</style>\n",
       "<table border=\"1\" class=\"dataframe\">\n",
       "  <thead>\n",
       "    <tr style=\"text-align: right;\">\n",
       "      <th></th>\n",
       "      <th>Пол</th>\n",
       "      <th>Возраст</th>\n",
       "      <th>Зарплата</th>\n",
       "      <th>Члены семьи</th>\n",
       "      <th>Страховые выплаты</th>\n",
       "    </tr>\n",
       "  </thead>\n",
       "  <tbody>\n",
       "    <tr>\n",
       "      <th>0</th>\n",
       "      <td>1</td>\n",
       "      <td>41.0</td>\n",
       "      <td>49600.0</td>\n",
       "      <td>1</td>\n",
       "      <td>0</td>\n",
       "    </tr>\n",
       "    <tr>\n",
       "      <th>1</th>\n",
       "      <td>0</td>\n",
       "      <td>46.0</td>\n",
       "      <td>38000.0</td>\n",
       "      <td>1</td>\n",
       "      <td>1</td>\n",
       "    </tr>\n",
       "    <tr>\n",
       "      <th>2</th>\n",
       "      <td>0</td>\n",
       "      <td>29.0</td>\n",
       "      <td>21000.0</td>\n",
       "      <td>0</td>\n",
       "      <td>0</td>\n",
       "    </tr>\n",
       "    <tr>\n",
       "      <th>3</th>\n",
       "      <td>0</td>\n",
       "      <td>21.0</td>\n",
       "      <td>41700.0</td>\n",
       "      <td>2</td>\n",
       "      <td>0</td>\n",
       "    </tr>\n",
       "    <tr>\n",
       "      <th>4</th>\n",
       "      <td>1</td>\n",
       "      <td>28.0</td>\n",
       "      <td>26100.0</td>\n",
       "      <td>0</td>\n",
       "      <td>0</td>\n",
       "    </tr>\n",
       "  </tbody>\n",
       "</table>\n",
       "</div>"
      ],
      "text/plain": [
       "   Пол  Возраст  Зарплата  Члены семьи  Страховые выплаты\n",
       "0    1     41.0   49600.0            1                  0\n",
       "1    0     46.0   38000.0            1                  1\n",
       "2    0     29.0   21000.0            0                  0\n",
       "3    0     21.0   41700.0            2                  0\n",
       "4    1     28.0   26100.0            0                  0"
      ]
     },
     "metadata": {},
     "output_type": "display_data"
    },
    {
     "data": {
      "text/plain": [
       "Index(['Пол', 'Возраст', 'Зарплата', 'Члены семьи', 'Страховые выплаты'], dtype='object')"
      ]
     },
     "metadata": {},
     "output_type": "display_data"
    },
    {
     "data": {
      "text/plain": [
       "None"
      ]
     },
     "metadata": {},
     "output_type": "display_data"
    }
   ],
   "source": [
    "display(dt.head(), dt.columns, dt.info())"
   ]
  },
  {
   "cell_type": "code",
   "execution_count": 84,
   "metadata": {},
   "outputs": [],
   "source": [
    "dt['Возраст'] = dt['Возраст'].astype(int)\n",
    "dt['Зарплата'] = dt['Зарплата'].astype(int)"
   ]
  },
  {
   "cell_type": "code",
   "execution_count": 85,
   "metadata": {
    "scrolled": true
   },
   "outputs": [
    {
     "data": {
      "text/plain": [
       "<AxesSubplot:>"
      ]
     },
     "execution_count": 85,
     "metadata": {},
     "output_type": "execute_result"
    },
    {
     "data": {
      "image/png": "[encoded data removed]",
      "text/plain": [
       "<Figure size 432x288 with 2 Axes>"
      ]
     },
     "metadata": {
      "needs_background": "light"
     },
     "output_type": "display_data"
    }
   ],
   "source": [
    "sns.heatmap(dt.corr(), annot = True, fmt = '.1g')"
   ]
  },
  {
   "cell_type": "code",
   "execution_count": 86,
   "metadata": {},
   "outputs": [
    {
     "data": {
      "text/html": [
       "<div>\n",
       "<style scoped>\n",
       "    .dataframe tbody tr th:only-of-type {\n",
       "        vertical-align: middle;\n",
       "    }\n",
       "\n",
       "    .dataframe tbody tr th {\n",
       "        vertical-align: top;\n",
       "    }\n",
       "\n",
       "    .dataframe thead th {\n",
       "        text-align: right;\n",
       "    }\n",
       "</style>\n",
       "<table border=\"1\" class=\"dataframe\">\n",
       "  <thead>\n",
       "    <tr style=\"text-align: right;\">\n",
       "      <th></th>\n",
       "      <th>Пол</th>\n",
       "      <th>Возраст</th>\n",
       "      <th>Зарплата</th>\n",
       "      <th>Члены семьи</th>\n",
       "      <th>Страховые выплаты</th>\n",
       "    </tr>\n",
       "  </thead>\n",
       "  <tbody>\n",
       "    <tr>\n",
       "      <th>count</th>\n",
       "      <td>5000.000000</td>\n",
       "      <td>5000.000000</td>\n",
       "      <td>5000.000000</td>\n",
       "      <td>5000.000000</td>\n",
       "      <td>5000.000000</td>\n",
       "    </tr>\n",
       "    <tr>\n",
       "      <th>mean</th>\n",
       "      <td>0.499000</td>\n",
       "      <td>30.952800</td>\n",
       "      <td>39916.359400</td>\n",
       "      <td>1.194200</td>\n",
       "      <td>0.148000</td>\n",
       "    </tr>\n",
       "    <tr>\n",
       "      <th>std</th>\n",
       "      <td>0.500049</td>\n",
       "      <td>8.440807</td>\n",
       "      <td>9900.082063</td>\n",
       "      <td>1.091387</td>\n",
       "      <td>0.463183</td>\n",
       "    </tr>\n",
       "    <tr>\n",
       "      <th>min</th>\n",
       "      <td>0.000000</td>\n",
       "      <td>18.000000</td>\n",
       "      <td>5300.000000</td>\n",
       "      <td>0.000000</td>\n",
       "      <td>0.000000</td>\n",
       "    </tr>\n",
       "    <tr>\n",
       "      <th>25%</th>\n",
       "      <td>0.000000</td>\n",
       "      <td>24.000000</td>\n",
       "      <td>33300.000000</td>\n",
       "      <td>0.000000</td>\n",
       "      <td>0.000000</td>\n",
       "    </tr>\n",
       "    <tr>\n",
       "      <th>50%</th>\n",
       "      <td>0.000000</td>\n",
       "      <td>30.000000</td>\n",
       "      <td>40200.000000</td>\n",
       "      <td>1.000000</td>\n",
       "      <td>0.000000</td>\n",
       "    </tr>\n",
       "    <tr>\n",
       "      <th>75%</th>\n",
       "      <td>1.000000</td>\n",
       "      <td>37.000000</td>\n",
       "      <td>46600.000000</td>\n",
       "      <td>2.000000</td>\n",
       "      <td>0.000000</td>\n",
       "    </tr>\n",
       "    <tr>\n",
       "      <th>max</th>\n",
       "      <td>1.000000</td>\n",
       "      <td>65.000000</td>\n",
       "      <td>79000.000000</td>\n",
       "      <td>6.000000</td>\n",
       "      <td>5.000000</td>\n",
       "    </tr>\n",
       "  </tbody>\n",
       "</table>\n",
       "</div>"
      ],
      "text/plain": [
       "               Пол      Возраст      Зарплата  Члены семьи  Страховые выплаты\n",
       "count  5000.000000  5000.000000   5000.000000  5000.000000        5000.000000\n",
       "mean      0.499000    30.952800  39916.359400     1.194200           0.148000\n",
       "std       0.500049     8.440807   9900.082063     1.091387           0.463183\n",
       "min       0.000000    18.000000   5300.000000     0.000000           0.000000\n",
       "25%       0.000000    24.000000  33300.000000     0.000000           0.000000\n",
       "50%       0.000000    30.000000  40200.000000     1.000000           0.000000\n",
       "75%       1.000000    37.000000  46600.000000     2.000000           0.000000\n",
       "max       1.000000    65.000000  79000.000000     6.000000           5.000000"
      ]
     },
     "execution_count": 86,
     "metadata": {},
     "output_type": "execute_result"
    }
   ],
   "source": [
    " dt.describe()"
   ]
  },
  {
   "cell_type": "code",
   "execution_count": 87,
   "metadata": {},
   "outputs": [
    {
     "name": "stdout",
     "output_type": "stream",
     "text": [
      "Index(['Пол', 'Возраст', 'Зарплата', 'Члены семьи', 'Страховые выплаты'], dtype='object')\n",
      "[2, 13, 25, 7, 6]\n"
     ]
    }
   ],
   "source": [
    "print(fc := dt.columns)\n",
    "bins = [int(dt[x].max())+1 for x in dt.columns]\n",
    "for i in range(len(bins)):\n",
    "    x = bins[i]\n",
    "    while x > 50:\n",
    "        x //= 5\n",
    "    bins[i] = x\n",
    "print(bins)"
   ]
  },
  {
   "cell_type": "code",
   "execution_count": 88,
   "metadata": {},
   "outputs": [
    {
     "data": {
      "image/png": "[encoded data removed]",
      "text/plain": [
       "<Figure size 432x288 with 1 Axes>"
      ]
     },
     "metadata": {
      "needs_background": "light"
     },
     "output_type": "display_data"
    },
    {
     "data": {
      "image/png": "[encoded data removed]",
      "text/plain": [
       "<Figure size 432x288 with 1 Axes>"
      ]
     },
     "metadata": {
      "needs_background": "light"
     },
     "output_type": "display_data"
    },
    {
     "data": {
      "image/png": "[encoded data removed]",
      "text/plain": [
       "<Figure size 432x288 with 1 Axes>"
      ]
     },
     "metadata": {
      "needs_background": "light"
     },
     "output_type": "display_data"
    },
    {
     "data": {
      "image/png": "[encoded data removed]",
      "text/plain": [
       "<Figure size 432x288 with 1 Axes>"
      ]
     },
     "metadata": {
      "needs_background": "light"
     },
     "output_type": "display_data"
    },
    {
     "data": {
      "image/png": "[encoded data removed]",
      "text/plain": [
       "<Figure size 432x288 with 1 Axes>"
      ]
     },
     "metadata": {
      "needs_background": "light"
     },
     "output_type": "display_data"
    }
   ],
   "source": [
    "\n",
    "for i,m in zip(fc,bins):\n",
    "    plt.hist(dt[i], bins = m, color = 'lightblue', ec = 'red')\n",
    "    plt.title(i)\n",
    "    plt.show()\n"
   ]
  },
  {
   "cell_type": "code",
   "execution_count": 89,
   "metadata": {},
   "outputs": [
    {
     "data": {
      "text/plain": [
       "'Всего дубликатов:'"
      ]
     },
     "metadata": {},
     "output_type": "display_data"
    },
    {
     "data": {
      "text/plain": [
       "153"
      ]
     },
     "metadata": {},
     "output_type": "display_data"
    },
    {
     "data": {
      "text/plain": [
       "'Процент дублей от общего:'"
      ]
     },
     "metadata": {},
     "output_type": "display_data"
    },
    {
     "data": {
      "text/plain": [
       "3.06"
      ]
     },
     "metadata": {},
     "output_type": "display_data"
    }
   ],
   "source": [
    "display('Всего дубликатов:',dt.duplicated().sum())\n",
    "display('Процент дублей от общего:',((dt.duplicated().sum() / dt.shape[0]) * 100),)"
   ]
  },
  {
   "cell_type": "markdown",
   "metadata": {},
   "source": [
    "## **Умножение матриц**"
   ]
  },
  {
   "cell_type": "markdown",
   "metadata": {},
   "source": [
    "Обозначения:\n",
    "\n",
    "- $X$ — матрица признаков (нулевой столбец состоит из единиц)\n",
    "\n",
    "- $y$ — вектор целевого признака\n",
    "\n",
    "- $P$ — матрица, на которую умножаются признаки (является обратимой)\n",
    "\n",
    "- $w$ — вектор весов линейной регрессии (нулевой элемент равен сдвигу)"
   ]
  },
  {
   "cell_type": "markdown",
   "metadata": {},
   "source": [
    "\n",
    "Предсказания:\n",
    "\n",
    "$$\n",
    "a = Xw\n",
    "$$\n",
    "\n",
    "Задача обучения:\n",
    "\n",
    "$$\n",
    "w = \\arg\\min_w MSE(Xw, y)\n",
    "$$\n",
    "\n",
    "\n",
    "Формула обучения:\n",
    "\n",
    "$$\n",
    "w = (X^T X)^{-1} X^T y\n",
    "$$"
   ]
  },
  {
   "cell_type": "markdown",
   "metadata": {},
   "source": [
    "\n",
    "\n",
    "* **Обозначим предсказание с учётом умножение на обратимую матрицу:**\n",
    "    \n",
    "    \n",
    "* $$a_p = X_i P w_p$$\n",
    "\n",
    "    \n",
    "***Введём формулу обучение с учётом умножения всех признаков на обратимую матрицу:**    \n",
    "\n",
    "    \n",
    "* $$w_p =  ((XP)^T (XP))^{-1} (XP)^T y$$\n",
    "\n",
    "    \n",
    "* **Раскроем все возможные скобки:**\n",
    "    \n",
    "\n",
    "* $$w_p = P^{-1} (X^T X)^{-1} P^{-1} P X^T y $$\n",
    "\n",
    "\n",
    "*  **Сократим единичную матрицу:**  \n",
    "    \n",
    "\n",
    "* $$w_p = P^{-1} (X^T X)^{-1} X^T y$$\n",
    "\n",
    " \n",
    "*  **Используем равенство: $$w = (X^T X)^{-1} X^T y $$**    \n",
    "    \n",
    "    \n",
    "* $$ следовательно>  w_p = P^{-1} w $$\n",
    "    "
   ]
  },
  {
   "cell_type": "markdown",
   "metadata": {},
   "source": [
    "\n",
    "\n",
    "*  **Докажем равенство предсказаний изменённой и обычной линейной регрессии:**\n",
    "\n",
    "    \n",
    "Предсказание для обычной линейной регрессии:    \n",
    "* $$a = Xw $$\n",
    "\n",
    "    \n",
    "Предсказание с признаками, умноженными на обратимую матрицу:\n",
    "* $$a_p = X P w_p$$ \n",
    "    \n",
    "\n",
    "* **Произведем подмену используя ревенство:** $$w_p = P^{-1} w $$\n",
    "        \n",
    "    \n",
    "* $$a_p = X P w_p = X P P^{-1} w $$\n",
    "    \n",
    "   \n",
    " Составим полное равенство:   \n",
    "   \n",
    "    \n",
    "* $$ a_p = X P w_p = X P P^{-1} w = Xw = a $$\n",
    "    \n",
    "    \n",
    " Из чего доказано, что эффективность линейной регрессии не изменится:    \n",
    "    \n",
    "    \n",
    "* $$ a_p = a $$"
   ]
  },
  {
   "cell_type": "markdown",
   "metadata": {},
   "source": [
    "## Алгоритм преобразования"
   ]
  },
  {
   "cell_type": "markdown",
   "metadata": {},
   "source": [
    "~~**Алгоритм**~~\n",
    "\n",
    "\n",
    "На основе доказательства из пункта 3:\n",
    "\n",
    "\n",
    "Для защиты персональных данных клиентов будет произведено умножение мтрицы исходных данных на случайную матрицу эквивалентного размера, инициированную случайными весами, для которой сущуствует обратная матрица.\n",
    "\n",
    "Такое перемножение не повлияет на результат работы алгоритма машинного обучения, однако, возобновить и интерпретировать данные клиентов без знания обратной матрицы будет практически невозможно. \n"
   ]
  },
  {
   "cell_type": "markdown",
   "metadata": {},
   "source": [
    "Для защиты персональных данных клиентов будет произведено умножение мтрицы исходных данных **X**(**i** x **j**) на случайную матрицу **P** (**j** x **j**), для которой сущуствует обратная матрица.\n",
    "\n",
    "Исходя из теории в пункте 4 - такое перемножение не повлияет на результат работы алгоритма машинного обучения, однако, возобновить и интерпретировать данные клиентов без знания обратной матрицы будет практически невозможно. \n"
   ]
  },
  {
   "cell_type": "markdown",
   "metadata": {},
   "source": [
    "* **Алгоритм преобразования данных для решения задачи:**\n",
    "\n",
    "1. Создаем функцию, которая будет генерировать случайную матрицу $$P$$ и обратную матрицу(для возвращения исходных данных) $$P^{-1}$$ до тех пор, пока она не окажется обратимой.\n",
    "\n",
    "\n",
    "2. Преобразуем данные путем умножения данных клиентов **Х** на матрицу обратимую **P**.\n",
    "3. Измеряем точность линейной регрессии на преобразованных и исходных данных.\n",
    "4. Составлям заключение."
   ]
  },
  {
   "cell_type": "markdown",
   "metadata": {},
   "source": [
    "## Проверка алгоритма"
   ]
  },
  {
   "cell_type": "markdown",
   "metadata": {},
   "source": [
    "Напомним:\n",
    "* **Признаки:** пол, возраст и зарплата застрахованного, количество членов его семьи.\n",
    "* **Целевой признак:** количество страховых выплат клиенту за последние 5 лет."
   ]
  },
  {
   "cell_type": "code",
   "execution_count": 90,
   "metadata": {
    "scrolled": true
   },
   "outputs": [
    {
     "name": "stdout",
     "output_type": "stream",
     "text": [
      "(5000, 4)\n",
      "(5000,)\n"
     ]
    }
   ],
   "source": [
    "# Разделение данных\n",
    "print((features := dt.drop(['Страховые выплаты'], axis = 1)).shape)\n",
    "print((target := dt['Страховые выплаты']).shape)\n"
   ]
  },
  {
   "cell_type": "code",
   "execution_count": 91,
   "metadata": {},
   "outputs": [
    {
     "name": "stdout",
     "output_type": "stream",
     "text": [
      "[[1666.90541792 1667.92555875 1667.1200941  1666.13042487]\n",
      " [1667.55054371 1667.3852692  1666.78923763 1666.0065277 ]\n",
      " [1667.50367378 1667.89081335 1670.2356388  1666.00990583]\n",
      " [1667.5984896  1667.38466101 1666.92002575 1668.32831796]] \n",
      " [[-0.82599054  1.03702768 -0.05165712 -0.15909677]\n",
      " [ 0.95099969 -0.37682125 -0.25813227 -0.31567643]\n",
      " [-0.15075831 -0.22034843  0.32733711  0.04371924]\n",
      " [ 0.02579847 -0.43980348 -0.01744001  0.43144211]]\n"
     ]
    }
   ],
   "source": [
    "# Создание обратимой матрицы в качестве будущего домножителя признаков\n",
    "def go_go_inv_matrix():\n",
    "    det = 0\n",
    "    while det == 0:\n",
    "        mtrx = np.random.normal(1667, size =(features.shape[1],features.shape[1]))\n",
    "        det = np.linalg.det(mtrx)\n",
    "        mtrx_inv = np.linalg.inv(mtrx)\n",
    "    return mtrx, mtrx_inv\n",
    "\n",
    "mtrx, mtrx_inv = go_go_inv_matrix()\n",
    "\n",
    "# Простой просмотр получившейся матрицы:\n",
    "print(mtrx,'\\n', mtrx_inv)\n"
   ]
  },
  {
   "cell_type": "code",
   "execution_count": 92,
   "metadata": {},
   "outputs": [
    {
     "name": "stdout",
     "output_type": "stream",
     "text": [
      "(5000, 4)\n"
     ]
    }
   ],
   "source": [
    "# Создание новой матрицы признаков\n",
    "# Умножаем матрицу признаков на обратимую матрицу\n",
    "print((new_features := features.dot(mtrx_inv)).shape)"
   ]
  },
  {
   "cell_type": "code",
   "execution_count": 93,
   "metadata": {},
   "outputs": [
    {
     "name": "stdout",
     "output_type": "stream",
     "text": [
      "old_features r2_score: 0.42494550308169177\n",
      "new_features r2_score: 0.42494550308148826\n"
     ]
    }
   ],
   "source": [
    "for matrix,name in zip([features, new_features],['old_features','new_features']):\n",
    "    model = LinearRegression(normalize = True).fit(matrix, target)\n",
    "    predictions = model.predict(matrix)\n",
    "    print(name,'r2_score:', score := r2_score(target, predictions))"
   ]
  },
  {
   "cell_type": "markdown",
   "metadata": {},
   "source": [
    "## Вывод"
   ]
  },
  {
   "cell_type": "markdown",
   "metadata": {},
   "source": [
    "**На основе эквивалентных результатов точности двух наборов данных:**\n",
    "\n",
    "* Алгоритм для защиты персональных данных клиентов был успешно создан и протестирован."
   ]
  }
 ],
 "metadata": {
  "ExecuteTimeLog": [
   {
    "duration": 380,
    "start_time": "2023-08-25T14:53:43.380Z"
   },
   {
    "duration": 108,
    "start_time": "2023-08-25T14:54:12.353Z"
   },
   {
    "duration": 16,
    "start_time": "2023-08-25T14:55:26.579Z"
   },
   {
    "duration": 70,
    "start_time": "2023-08-25T14:55:35.574Z"
   },
   {
    "duration": 13,
    "start_time": "2023-08-25T14:55:39.862Z"
   },
   {
    "duration": 40,
    "start_time": "2023-08-25T14:56:01.735Z"
   },
   {
    "duration": 40,
    "start_time": "2023-08-25T14:56:58.250Z"
   },
   {
    "duration": 1352,
    "start_time": "2023-09-02T00:32:05.727Z"
   },
   {
    "duration": 78,
    "start_time": "2023-09-02T00:32:09.690Z"
   },
   {
    "duration": 41,
    "start_time": "2023-09-02T00:32:10.389Z"
   },
   {
    "duration": 349,
    "start_time": "2023-09-02T00:32:28.509Z"
   },
   {
    "duration": 368,
    "start_time": "2023-09-02T00:33:08.713Z"
   },
   {
    "duration": 349,
    "start_time": "2023-09-02T00:33:42.743Z"
   },
   {
    "duration": 391,
    "start_time": "2023-09-02T00:33:50.772Z"
   },
   {
    "duration": 126,
    "start_time": "2023-09-02T00:34:13.856Z"
   },
   {
    "duration": 121,
    "start_time": "2023-09-02T00:34:33.680Z"
   },
   {
    "duration": 102,
    "start_time": "2023-09-02T00:35:06.568Z"
   },
   {
    "duration": 9,
    "start_time": "2023-09-02T00:35:19.492Z"
   },
   {
    "duration": 3,
    "start_time": "2023-09-02T00:35:24.277Z"
   },
   {
    "duration": 4,
    "start_time": "2023-09-02T00:35:29.347Z"
   },
   {
    "duration": 226,
    "start_time": "2023-09-02T00:36:03.260Z"
   },
   {
    "duration": 210,
    "start_time": "2023-09-02T00:36:23.774Z"
   },
   {
    "duration": 2,
    "start_time": "2023-09-02T00:36:44.225Z"
   },
   {
    "duration": 193,
    "start_time": "2023-09-02T00:36:47.513Z"
   },
   {
    "duration": 3,
    "start_time": "2023-09-02T00:38:45.024Z"
   },
   {
    "duration": 277,
    "start_time": "2023-09-02T00:40:22.973Z"
   },
   {
    "duration": 178,
    "start_time": "2023-09-02T00:40:42.612Z"
   },
   {
    "duration": 661,
    "start_time": "2023-09-02T00:40:51.210Z"
   },
   {
    "duration": 695,
    "start_time": "2023-09-02T00:42:31.552Z"
   },
   {
    "duration": 640,
    "start_time": "2023-09-02T00:42:34.267Z"
   },
   {
    "duration": 620,
    "start_time": "2023-09-02T00:42:41.294Z"
   },
   {
    "duration": 9,
    "start_time": "2023-09-02T00:44:16.313Z"
   },
   {
    "duration": 11,
    "start_time": "2023-09-02T00:44:22.372Z"
   },
   {
    "duration": 3,
    "start_time": "2023-09-02T00:44:30.438Z"
   },
   {
    "duration": 2,
    "start_time": "2023-09-02T00:46:15.015Z"
   },
   {
    "duration": 707,
    "start_time": "2023-09-02T00:46:45.685Z"
   },
   {
    "duration": 3,
    "start_time": "2023-09-02T00:46:59.638Z"
   },
   {
    "duration": 628,
    "start_time": "2023-09-02T00:47:01.615Z"
   },
   {
    "duration": 3,
    "start_time": "2023-09-02T00:47:24.878Z"
   },
   {
    "duration": 632,
    "start_time": "2023-09-02T00:47:26.030Z"
   },
   {
    "duration": 3,
    "start_time": "2023-09-02T00:47:31.314Z"
   },
   {
    "duration": 715,
    "start_time": "2023-09-02T00:47:33.257Z"
   },
   {
    "duration": 617,
    "start_time": "2023-09-02T00:47:48.334Z"
   },
   {
    "duration": 2,
    "start_time": "2023-09-02T00:47:52.692Z"
   },
   {
    "duration": 706,
    "start_time": "2023-09-02T00:47:55.461Z"
   },
   {
    "duration": 587,
    "start_time": "2023-09-02T00:52:05.365Z"
   },
   {
    "duration": 3,
    "start_time": "2023-09-02T00:52:14.017Z"
   },
   {
    "duration": 587,
    "start_time": "2023-09-02T00:52:17.458Z"
   },
   {
    "duration": 116,
    "start_time": "2023-09-02T00:54:12.688Z"
   },
   {
    "duration": 704,
    "start_time": "2023-09-02T00:54:19.766Z"
   },
   {
    "duration": 589,
    "start_time": "2023-09-02T00:54:37.834Z"
   },
   {
    "duration": 19,
    "start_time": "2023-09-02T00:55:20.257Z"
   },
   {
    "duration": 23,
    "start_time": "2023-09-02T00:55:28.505Z"
   },
   {
    "duration": 25,
    "start_time": "2023-09-02T00:55:30.188Z"
   },
   {
    "duration": 2,
    "start_time": "2023-09-02T00:56:22.364Z"
   },
   {
    "duration": 758,
    "start_time": "2023-09-02T00:56:24.034Z"
   },
   {
    "duration": 3,
    "start_time": "2023-09-02T00:57:01.565Z"
   },
   {
    "duration": 632,
    "start_time": "2023-09-02T00:57:02.469Z"
   },
   {
    "duration": 49,
    "start_time": "2023-09-02T11:35:46.926Z"
   },
   {
    "duration": 1580,
    "start_time": "2023-09-02T11:35:51.244Z"
   },
   {
    "duration": 81,
    "start_time": "2023-09-02T11:35:59.003Z"
   },
   {
    "duration": 25,
    "start_time": "2023-09-02T11:35:59.884Z"
   },
   {
    "duration": 414,
    "start_time": "2023-09-02T11:36:00.931Z"
   },
   {
    "duration": 24,
    "start_time": "2023-09-02T11:36:04.147Z"
   },
   {
    "duration": 4,
    "start_time": "2023-09-02T11:36:05.234Z"
   },
   {
    "duration": 3,
    "start_time": "2023-09-02T11:36:06.121Z"
   },
   {
    "duration": 5,
    "start_time": "2023-09-02T11:36:06.750Z"
   },
   {
    "duration": 69,
    "start_time": "2023-09-02T11:36:48.165Z"
   },
   {
    "duration": 5,
    "start_time": "2023-09-02T11:36:51.929Z"
   },
   {
    "duration": 6,
    "start_time": "2023-09-02T11:37:06.975Z"
   },
   {
    "duration": 4,
    "start_time": "2023-09-02T11:37:18.889Z"
   },
   {
    "duration": 4,
    "start_time": "2023-09-02T11:37:42.808Z"
   },
   {
    "duration": 5,
    "start_time": "2023-09-02T11:37:43.955Z"
   },
   {
    "duration": 117494,
    "start_time": "2023-09-02T11:37:44.710Z"
   },
   {
    "duration": 5,
    "start_time": "2023-09-02T11:39:42.210Z"
   },
   {
    "duration": 132980,
    "start_time": "2023-09-02T11:40:04.621Z"
   },
   {
    "duration": 5,
    "start_time": "2023-09-02T11:42:21.032Z"
   },
   {
    "duration": 72,
    "start_time": "2023-09-02T11:42:38.908Z"
   },
   {
    "duration": 13,
    "start_time": "2023-09-02T11:46:42.308Z"
   },
   {
    "duration": 15,
    "start_time": "2023-09-02T11:47:02.648Z"
   },
   {
    "duration": 12,
    "start_time": "2023-09-02T11:47:18.672Z"
   },
   {
    "duration": 7,
    "start_time": "2023-09-02T11:47:26.038Z"
   },
   {
    "duration": 11,
    "start_time": "2023-09-02T11:47:36.195Z"
   },
   {
    "duration": 12,
    "start_time": "2023-09-02T11:48:02.731Z"
   },
   {
    "duration": 7,
    "start_time": "2023-09-02T11:48:24.210Z"
   },
   {
    "duration": 7,
    "start_time": "2023-09-02T11:49:32.324Z"
   },
   {
    "duration": 12,
    "start_time": "2023-09-02T11:49:45.199Z"
   },
   {
    "duration": 5,
    "start_time": "2023-09-02T11:49:51.172Z"
   },
   {
    "duration": 9,
    "start_time": "2023-09-02T11:50:12.399Z"
   },
   {
    "duration": 12,
    "start_time": "2023-09-02T11:50:19.907Z"
   },
   {
    "duration": 7,
    "start_time": "2023-09-02T11:50:29.208Z"
   },
   {
    "duration": 11,
    "start_time": "2023-09-02T11:50:43.770Z"
   },
   {
    "duration": 7,
    "start_time": "2023-09-02T11:50:52.978Z"
   },
   {
    "duration": 12,
    "start_time": "2023-09-02T11:51:07.739Z"
   },
   {
    "duration": 8,
    "start_time": "2023-09-02T11:51:12.466Z"
   },
   {
    "duration": 14,
    "start_time": "2023-09-02T11:51:33.242Z"
   },
   {
    "duration": 12,
    "start_time": "2023-09-02T11:51:40.968Z"
   },
   {
    "duration": 119,
    "start_time": "2023-09-02T11:51:59.398Z"
   },
   {
    "duration": 98,
    "start_time": "2023-09-02T11:52:08.225Z"
   },
   {
    "duration": 5,
    "start_time": "2023-09-02T11:54:00.205Z"
   },
   {
    "duration": 15,
    "start_time": "2023-09-02T11:54:51.881Z"
   },
   {
    "duration": 5,
    "start_time": "2023-09-02T11:57:17.530Z"
   },
   {
    "duration": 5,
    "start_time": "2023-09-02T11:57:28.181Z"
   },
   {
    "duration": 5,
    "start_time": "2023-09-02T11:57:39.629Z"
   },
   {
    "duration": 5,
    "start_time": "2023-09-02T11:57:42.771Z"
   },
   {
    "duration": 4,
    "start_time": "2023-09-02T11:58:06.075Z"
   },
   {
    "duration": 5,
    "start_time": "2023-09-02T11:58:14.680Z"
   },
   {
    "duration": 4,
    "start_time": "2023-09-02T11:58:24.300Z"
   },
   {
    "duration": 5,
    "start_time": "2023-09-02T11:58:28.328Z"
   },
   {
    "duration": 5,
    "start_time": "2023-09-02T11:59:12.068Z"
   },
   {
    "duration": 5,
    "start_time": "2023-09-02T11:59:18.672Z"
   },
   {
    "duration": 6,
    "start_time": "2023-09-02T11:59:23.163Z"
   },
   {
    "duration": 5,
    "start_time": "2023-09-02T11:59:28.168Z"
   },
   {
    "duration": 5,
    "start_time": "2023-09-02T11:59:33.389Z"
   },
   {
    "duration": 6,
    "start_time": "2023-09-02T12:04:12.310Z"
   },
   {
    "duration": 6,
    "start_time": "2023-09-02T12:04:15.219Z"
   },
   {
    "duration": 14,
    "start_time": "2023-09-02T12:04:20.084Z"
   },
   {
    "duration": 5,
    "start_time": "2023-09-02T12:04:23.571Z"
   },
   {
    "duration": 5,
    "start_time": "2023-09-02T12:04:29.121Z"
   },
   {
    "duration": 5,
    "start_time": "2023-09-02T12:04:36.792Z"
   },
   {
    "duration": 5,
    "start_time": "2023-09-02T12:04:39.569Z"
   },
   {
    "duration": 5,
    "start_time": "2023-09-02T12:04:55.070Z"
   },
   {
    "duration": 6,
    "start_time": "2023-09-02T12:05:01.787Z"
   },
   {
    "duration": 11,
    "start_time": "2023-09-02T12:05:13.715Z"
   },
   {
    "duration": 5,
    "start_time": "2023-09-02T12:05:23.482Z"
   },
   {
    "duration": 8,
    "start_time": "2023-09-02T12:05:41.300Z"
   },
   {
    "duration": 12,
    "start_time": "2023-09-02T12:06:06.645Z"
   },
   {
    "duration": 16,
    "start_time": "2023-09-02T12:06:25.747Z"
   },
   {
    "duration": 19,
    "start_time": "2023-09-02T12:06:30.601Z"
   },
   {
    "duration": 14,
    "start_time": "2023-09-02T12:06:34.321Z"
   },
   {
    "duration": 5,
    "start_time": "2023-09-02T12:06:35.578Z"
   },
   {
    "duration": 5,
    "start_time": "2023-09-02T12:06:48.206Z"
   },
   {
    "duration": 5,
    "start_time": "2023-09-02T12:06:53.715Z"
   },
   {
    "duration": 14,
    "start_time": "2023-09-02T12:07:08.989Z"
   },
   {
    "duration": 15,
    "start_time": "2023-09-02T12:07:11.845Z"
   },
   {
    "duration": 5,
    "start_time": "2023-09-02T12:07:14.418Z"
   },
   {
    "duration": 15,
    "start_time": "2023-09-02T12:07:20.808Z"
   },
   {
    "duration": 19,
    "start_time": "2023-09-02T12:07:22.651Z"
   },
   {
    "duration": 5,
    "start_time": "2023-09-02T12:07:33.843Z"
   },
   {
    "duration": 16,
    "start_time": "2023-09-02T12:07:36.825Z"
   },
   {
    "duration": 5,
    "start_time": "2023-09-02T12:07:38.870Z"
   },
   {
    "duration": 7,
    "start_time": "2023-09-02T12:07:42.632Z"
   },
   {
    "duration": 5,
    "start_time": "2023-09-02T12:43:00.785Z"
   },
   {
    "duration": 3,
    "start_time": "2023-09-02T12:43:08.022Z"
   },
   {
    "duration": 6,
    "start_time": "2023-09-02T12:44:08.231Z"
   },
   {
    "duration": 6,
    "start_time": "2023-09-02T12:44:27.396Z"
   },
   {
    "duration": 12703,
    "start_time": "2023-09-02T12:44:36.100Z"
   },
   {
    "duration": 691,
    "start_time": "2023-09-02T12:46:14.741Z"
   },
   {
    "duration": 739,
    "start_time": "2023-09-02T12:46:20.264Z"
   },
   {
    "duration": 723,
    "start_time": "2023-09-02T12:46:31.499Z"
   },
   {
    "duration": 682,
    "start_time": "2023-09-02T12:46:42.898Z"
   },
   {
    "duration": 83,
    "start_time": "2023-09-02T12:47:01.570Z"
   },
   {
    "duration": 809,
    "start_time": "2023-09-02T12:47:13.837Z"
   },
   {
    "duration": 14,
    "start_time": "2023-09-02T12:54:29.376Z"
   },
   {
    "duration": 3,
    "start_time": "2023-09-02T12:54:34.604Z"
   },
   {
    "duration": 5,
    "start_time": "2023-09-02T12:54:44.715Z"
   },
   {
    "duration": 9,
    "start_time": "2023-09-02T12:54:55.536Z"
   },
   {
    "duration": 9,
    "start_time": "2023-09-02T12:55:00.928Z"
   },
   {
    "duration": 4,
    "start_time": "2023-09-02T12:55:44.068Z"
   },
   {
    "duration": 13,
    "start_time": "2023-09-02T12:56:42.308Z"
   },
   {
    "duration": 126,
    "start_time": "2023-09-02T12:56:51.471Z"
   },
   {
    "duration": 214,
    "start_time": "2023-09-02T12:57:13.368Z"
   },
   {
    "duration": 188,
    "start_time": "2023-09-02T12:57:27.704Z"
   },
   {
    "duration": 133,
    "start_time": "2023-09-02T12:57:54.849Z"
   },
   {
    "duration": 123,
    "start_time": "2023-09-02T12:58:16.194Z"
   },
   {
    "duration": 209,
    "start_time": "2023-09-02T12:58:21.904Z"
   },
   {
    "duration": 148,
    "start_time": "2023-09-02T12:58:31.152Z"
   },
   {
    "duration": 151,
    "start_time": "2023-09-02T12:58:37.035Z"
   },
   {
    "duration": 197,
    "start_time": "2023-09-02T12:58:46.505Z"
   },
   {
    "duration": 89,
    "start_time": "2023-09-02T13:00:43.071Z"
   },
   {
    "duration": 88,
    "start_time": "2023-09-02T13:00:47.216Z"
   },
   {
    "duration": 415,
    "start_time": "2023-09-02T13:00:57.571Z"
   },
   {
    "duration": 3,
    "start_time": "2023-09-02T13:01:18.248Z"
   },
   {
    "duration": 395,
    "start_time": "2023-09-02T13:01:20.618Z"
   },
   {
    "duration": 513,
    "start_time": "2023-09-02T13:01:27.740Z"
   },
   {
    "duration": 385,
    "start_time": "2023-09-02T13:01:42.290Z"
   },
   {
    "duration": 125,
    "start_time": "2023-09-02T13:02:39.091Z"
   },
   {
    "duration": 82,
    "start_time": "2023-09-02T13:03:09.332Z"
   },
   {
    "duration": 10,
    "start_time": "2023-09-02T13:03:13.194Z"
   },
   {
    "duration": 139,
    "start_time": "2023-09-02T13:03:22.610Z"
   },
   {
    "duration": 205,
    "start_time": "2023-09-02T13:03:32.026Z"
   },
   {
    "duration": 671,
    "start_time": "2023-09-02T13:05:29.307Z"
   },
   {
    "duration": 753,
    "start_time": "2023-09-02T13:05:36.667Z"
   },
   {
    "duration": 664,
    "start_time": "2023-09-02T13:05:43.088Z"
   },
   {
    "duration": 641,
    "start_time": "2023-09-02T13:05:55.641Z"
   },
   {
    "duration": 746,
    "start_time": "2023-09-02T13:06:15.944Z"
   },
   {
    "duration": 789,
    "start_time": "2023-09-02T13:06:22.923Z"
   },
   {
    "duration": 690,
    "start_time": "2023-09-02T13:06:35.411Z"
   },
   {
    "duration": 869,
    "start_time": "2023-09-02T13:06:46.123Z"
   },
   {
    "duration": 18,
    "start_time": "2023-09-02T13:07:13.188Z"
   },
   {
    "duration": 948,
    "start_time": "2023-09-02T13:07:23.097Z"
   },
   {
    "duration": 873,
    "start_time": "2023-09-02T13:07:49.333Z"
   },
   {
    "duration": 5,
    "start_time": "2023-09-02T13:11:53.519Z"
   },
   {
    "duration": 6,
    "start_time": "2023-09-02T13:11:56.989Z"
   },
   {
    "duration": 958,
    "start_time": "2023-09-02T13:11:57.863Z"
   },
   {
    "duration": 10,
    "start_time": "2023-09-02T13:12:22.580Z"
   },
   {
    "duration": 7,
    "start_time": "2023-09-02T13:13:49.185Z"
   },
   {
    "duration": 6,
    "start_time": "2023-09-02T13:14:08.063Z"
   },
   {
    "duration": 9,
    "start_time": "2023-09-02T13:14:41.833Z"
   },
   {
    "duration": 4,
    "start_time": "2023-09-02T13:15:44.216Z"
   },
   {
    "duration": 12,
    "start_time": "2023-09-02T13:16:00.930Z"
   },
   {
    "duration": 13,
    "start_time": "2023-09-02T13:16:14.081Z"
   },
   {
    "duration": 13,
    "start_time": "2023-09-02T13:16:20.122Z"
   },
   {
    "duration": 2,
    "start_time": "2023-09-02T15:04:10.684Z"
   },
   {
    "duration": 73,
    "start_time": "2023-09-02T15:04:21.230Z"
   },
   {
    "duration": 3,
    "start_time": "2023-09-02T15:04:32.246Z"
   },
   {
    "duration": 5,
    "start_time": "2023-09-02T15:04:43.796Z"
   },
   {
    "duration": 5,
    "start_time": "2023-09-02T15:05:08.785Z"
   },
   {
    "duration": 6,
    "start_time": "2023-09-02T15:05:40.429Z"
   },
   {
    "duration": 2,
    "start_time": "2023-09-02T15:06:00.545Z"
   },
   {
    "duration": 6,
    "start_time": "2023-09-02T15:06:03.916Z"
   },
   {
    "duration": 5,
    "start_time": "2023-09-02T15:28:47.270Z"
   },
   {
    "duration": 5,
    "start_time": "2023-09-02T15:30:24.032Z"
   },
   {
    "duration": 6,
    "start_time": "2023-09-02T15:31:22.560Z"
   },
   {
    "duration": 48,
    "start_time": "2023-09-18T16:17:25.224Z"
   },
   {
    "duration": 1272,
    "start_time": "2023-09-18T16:17:40.580Z"
   },
   {
    "duration": 93,
    "start_time": "2023-09-18T16:17:41.855Z"
   },
   {
    "duration": 24,
    "start_time": "2023-09-18T16:17:41.949Z"
   },
   {
    "duration": 4,
    "start_time": "2023-09-18T16:17:41.975Z"
   },
   {
    "duration": 450,
    "start_time": "2023-09-18T16:17:41.981Z"
   },
   {
    "duration": 32,
    "start_time": "2023-09-18T16:17:42.432Z"
   },
   {
    "duration": 15,
    "start_time": "2023-09-18T16:17:42.466Z"
   },
   {
    "duration": 702,
    "start_time": "2023-09-18T16:17:42.482Z"
   },
   {
    "duration": 11,
    "start_time": "2023-09-18T16:17:43.186Z"
   },
   {
    "duration": 12,
    "start_time": "2023-09-18T16:17:43.198Z"
   },
   {
    "duration": 66,
    "start_time": "2023-09-18T16:18:14.071Z"
   },
   {
    "duration": 13,
    "start_time": "2023-09-18T16:18:32.511Z"
   },
   {
    "duration": 4,
    "start_time": "2023-09-18T16:18:54.546Z"
   },
   {
    "duration": 5,
    "start_time": "2023-09-18T16:19:12.275Z"
   },
   {
    "duration": 6,
    "start_time": "2023-09-18T16:19:36.927Z"
   },
   {
    "duration": 4,
    "start_time": "2023-09-18T16:19:47.952Z"
   },
   {
    "duration": 9,
    "start_time": "2023-09-18T16:23:07.106Z"
   },
   {
    "duration": 465,
    "start_time": "2023-09-18T16:23:18.285Z"
   },
   {
    "duration": 4,
    "start_time": "2023-09-18T16:23:26.478Z"
   },
   {
    "duration": 6,
    "start_time": "2023-09-18T16:41:27.711Z"
   },
   {
    "duration": 6,
    "start_time": "2023-09-18T16:41:31.460Z"
   },
   {
    "duration": 6,
    "start_time": "2023-09-18T16:41:32.071Z"
   },
   {
    "duration": 5,
    "start_time": "2023-09-18T16:41:34.952Z"
   },
   {
    "duration": 5,
    "start_time": "2023-09-18T16:42:24.389Z"
   },
   {
    "duration": 5,
    "start_time": "2023-09-18T16:43:46.370Z"
   },
   {
    "duration": 5,
    "start_time": "2023-09-18T16:43:47.356Z"
   },
   {
    "duration": 5,
    "start_time": "2023-09-18T16:43:48.592Z"
   },
   {
    "duration": 5,
    "start_time": "2023-09-18T16:43:48.769Z"
   },
   {
    "duration": 12,
    "start_time": "2023-09-18T16:47:12.251Z"
   },
   {
    "duration": 407,
    "start_time": "2023-09-18T16:47:58.776Z"
   },
   {
    "duration": 18,
    "start_time": "2023-09-18T16:48:03.533Z"
   },
   {
    "duration": 95,
    "start_time": "2023-09-18T16:53:53.505Z"
   },
   {
    "duration": 155,
    "start_time": "2023-09-18T16:54:01.251Z"
   },
   {
    "duration": 3,
    "start_time": "2023-09-18T16:54:09.013Z"
   },
   {
    "duration": 17,
    "start_time": "2023-09-18T16:56:29.131Z"
   },
   {
    "duration": 17,
    "start_time": "2023-09-18T16:57:15.298Z"
   },
   {
    "duration": 17,
    "start_time": "2023-09-18T16:57:22.218Z"
   },
   {
    "duration": 19,
    "start_time": "2023-09-18T16:58:34.516Z"
   },
   {
    "duration": 18,
    "start_time": "2023-09-18T16:58:49.609Z"
   },
   {
    "duration": 2,
    "start_time": "2023-09-18T17:00:09.289Z"
   },
   {
    "duration": 36,
    "start_time": "2023-09-18T17:00:09.293Z"
   },
   {
    "duration": 20,
    "start_time": "2023-09-18T17:00:09.330Z"
   },
   {
    "duration": 5,
    "start_time": "2023-09-18T17:00:09.351Z"
   },
   {
    "duration": 347,
    "start_time": "2023-09-18T17:00:09.358Z"
   },
   {
    "duration": 29,
    "start_time": "2023-09-18T17:00:09.706Z"
   },
   {
    "duration": 5,
    "start_time": "2023-09-18T17:00:09.744Z"
   },
   {
    "duration": 594,
    "start_time": "2023-09-18T17:00:09.751Z"
   },
   {
    "duration": 10,
    "start_time": "2023-09-18T17:00:10.347Z"
   },
   {
    "duration": 10,
    "start_time": "2023-09-18T17:00:10.358Z"
   },
   {
    "duration": 14,
    "start_time": "2023-09-18T17:00:10.369Z"
   },
   {
    "duration": 58,
    "start_time": "2023-09-18T17:00:10.386Z"
   },
   {
    "duration": 112,
    "start_time": "2023-09-18T17:00:10.446Z"
   },
   {
    "duration": 3,
    "start_time": "2023-09-18T17:15:51.630Z"
   },
   {
    "duration": 4,
    "start_time": "2023-09-18T17:15:56.827Z"
   },
   {
    "duration": 130,
    "start_time": "2023-09-18T17:16:23.090Z"
   },
   {
    "duration": 3,
    "start_time": "2023-09-18T17:16:37.994Z"
   },
   {
    "duration": 18,
    "start_time": "2023-09-18T17:18:58.998Z"
   },
   {
    "duration": 4,
    "start_time": "2023-09-18T17:19:03.586Z"
   },
   {
    "duration": 83,
    "start_time": "2023-09-18T17:20:42.883Z"
   },
   {
    "duration": 125,
    "start_time": "2023-09-18T17:20:46.391Z"
   },
   {
    "duration": 10,
    "start_time": "2023-09-18T17:20:55.657Z"
   },
   {
    "duration": 12,
    "start_time": "2023-09-18T17:21:04.489Z"
   },
   {
    "duration": 1545,
    "start_time": "2023-09-18T17:48:01.045Z"
   },
   {
    "duration": 31,
    "start_time": "2023-09-18T17:48:02.592Z"
   },
   {
    "duration": 32,
    "start_time": "2023-09-18T17:48:02.624Z"
   },
   {
    "duration": 5,
    "start_time": "2023-09-18T17:48:02.658Z"
   },
   {
    "duration": 457,
    "start_time": "2023-09-18T17:48:02.665Z"
   },
   {
    "duration": 35,
    "start_time": "2023-09-18T17:48:03.123Z"
   },
   {
    "duration": 6,
    "start_time": "2023-09-18T17:48:03.160Z"
   },
   {
    "duration": 775,
    "start_time": "2023-09-18T17:48:03.168Z"
   },
   {
    "duration": 13,
    "start_time": "2023-09-18T17:48:03.945Z"
   },
   {
    "duration": 5,
    "start_time": "2023-09-18T17:48:03.959Z"
   },
   {
    "duration": 26,
    "start_time": "2023-09-18T17:48:03.966Z"
   },
   {
    "duration": 49,
    "start_time": "2023-09-18T17:48:03.996Z"
   },
   {
    "duration": 211,
    "start_time": "2023-09-18T17:48:04.046Z"
   },
   {
    "duration": 3644,
    "start_time": "2023-09-19T03:13:56.406Z"
   },
   {
    "duration": 105,
    "start_time": "2023-09-19T03:14:00.052Z"
   },
   {
    "duration": 29,
    "start_time": "2023-09-19T03:14:00.159Z"
   },
   {
    "duration": 15,
    "start_time": "2023-09-19T03:14:00.190Z"
   },
   {
    "duration": 482,
    "start_time": "2023-09-19T03:14:00.208Z"
   },
   {
    "duration": 44,
    "start_time": "2023-09-19T03:14:00.692Z"
   },
   {
    "duration": 8,
    "start_time": "2023-09-19T03:14:00.739Z"
   },
   {
    "duration": 891,
    "start_time": "2023-09-19T03:14:00.749Z"
   },
   {
    "duration": 14,
    "start_time": "2023-09-19T03:14:01.642Z"
   },
   {
    "duration": 40,
    "start_time": "2023-09-19T03:14:01.658Z"
   },
   {
    "duration": 50,
    "start_time": "2023-09-19T03:14:01.700Z"
   },
   {
    "duration": 59,
    "start_time": "2023-09-19T03:14:01.752Z"
   },
   {
    "duration": 313,
    "start_time": "2023-09-19T03:14:01.813Z"
   },
   {
    "duration": 127,
    "start_time": "2023-09-25T17:42:10.590Z"
   },
   {
    "duration": 4,
    "start_time": "2023-09-25T21:57:48.056Z"
   },
   {
    "duration": 1675,
    "start_time": "2023-09-25T22:01:46.174Z"
   },
   {
    "duration": 128,
    "start_time": "2023-09-25T22:01:47.851Z"
   },
   {
    "duration": 27,
    "start_time": "2023-09-25T22:01:47.981Z"
   },
   {
    "duration": 5,
    "start_time": "2023-09-25T22:01:48.009Z"
   },
   {
    "duration": 454,
    "start_time": "2023-09-25T22:01:48.016Z"
   },
   {
    "duration": 23,
    "start_time": "2023-09-25T22:01:48.472Z"
   },
   {
    "duration": 6,
    "start_time": "2023-09-25T22:01:48.497Z"
   },
   {
    "duration": 780,
    "start_time": "2023-09-25T22:01:48.504Z"
   },
   {
    "duration": 11,
    "start_time": "2023-09-25T22:01:49.286Z"
   },
   {
    "duration": 77,
    "start_time": "2023-09-25T22:01:49.299Z"
   },
   {
    "duration": 118,
    "start_time": "2023-09-25T22:01:49.378Z"
   },
   {
    "duration": 0,
    "start_time": "2023-09-25T22:01:49.498Z"
   },
   {
    "duration": 0,
    "start_time": "2023-09-25T22:01:49.499Z"
   },
   {
    "duration": 10,
    "start_time": "2023-09-25T22:02:47.875Z"
   },
   {
    "duration": 4,
    "start_time": "2023-09-25T22:03:17.184Z"
   },
   {
    "duration": 5,
    "start_time": "2023-09-25T22:03:29.263Z"
   },
   {
    "duration": 6,
    "start_time": "2023-09-25T22:04:13.479Z"
   },
   {
    "duration": 11,
    "start_time": "2023-09-25T22:04:18.240Z"
   },
   {
    "duration": 13,
    "start_time": "2023-09-25T22:04:40.881Z"
   },
   {
    "duration": 5,
    "start_time": "2023-09-25T22:05:01.708Z"
   },
   {
    "duration": 5,
    "start_time": "2023-09-25T22:05:06.959Z"
   },
   {
    "duration": 5,
    "start_time": "2023-09-25T22:05:09.477Z"
   },
   {
    "duration": 5,
    "start_time": "2023-09-25T22:05:29.216Z"
   },
   {
    "duration": 4,
    "start_time": "2023-09-25T22:05:31.160Z"
   },
   {
    "duration": 141,
    "start_time": "2023-09-25T22:05:34.222Z"
   },
   {
    "duration": 90,
    "start_time": "2023-09-25T22:05:39.275Z"
   },
   {
    "duration": 11,
    "start_time": "2023-09-25T23:15:00.613Z"
   },
   {
    "duration": 3,
    "start_time": "2023-09-25T23:15:05.386Z"
   },
   {
    "duration": 38,
    "start_time": "2023-09-25T23:15:05.391Z"
   },
   {
    "duration": 18,
    "start_time": "2023-09-25T23:15:05.431Z"
   },
   {
    "duration": 27,
    "start_time": "2023-09-25T23:15:05.451Z"
   },
   {
    "duration": 390,
    "start_time": "2023-09-25T23:15:05.480Z"
   },
   {
    "duration": 23,
    "start_time": "2023-09-25T23:15:05.871Z"
   },
   {
    "duration": 6,
    "start_time": "2023-09-25T23:15:05.895Z"
   },
   {
    "duration": 639,
    "start_time": "2023-09-25T23:15:05.903Z"
   },
   {
    "duration": 20,
    "start_time": "2023-09-25T23:15:06.543Z"
   },
   {
    "duration": 30,
    "start_time": "2023-09-25T23:15:06.564Z"
   },
   {
    "duration": 44,
    "start_time": "2023-09-25T23:15:06.595Z"
   },
   {
    "duration": 32,
    "start_time": "2023-09-25T23:15:06.641Z"
   },
   {
    "duration": 40,
    "start_time": "2023-09-25T23:15:06.677Z"
   },
   {
    "duration": 41,
    "start_time": "2023-09-25T23:15:06.719Z"
   },
   {
    "duration": 5,
    "start_time": "2023-09-25T23:15:53.885Z"
   },
   {
    "duration": 5,
    "start_time": "2023-09-25T23:17:52.880Z"
   },
   {
    "duration": 5,
    "start_time": "2023-09-25T23:33:56.437Z"
   },
   {
    "duration": 5,
    "start_time": "2023-09-25T23:33:56.886Z"
   },
   {
    "duration": 6,
    "start_time": "2023-09-25T23:33:57.163Z"
   },
   {
    "duration": 6,
    "start_time": "2023-09-25T23:33:57.369Z"
   },
   {
    "duration": 5,
    "start_time": "2023-09-25T23:33:58.206Z"
   },
   {
    "duration": 5,
    "start_time": "2023-09-25T23:33:58.769Z"
   },
   {
    "duration": 5,
    "start_time": "2023-09-25T23:33:59.157Z"
   },
   {
    "duration": 4,
    "start_time": "2023-09-25T23:33:59.401Z"
   },
   {
    "duration": 5,
    "start_time": "2023-09-25T23:33:59.622Z"
   },
   {
    "duration": 5,
    "start_time": "2023-09-25T23:33:59.835Z"
   },
   {
    "duration": 6,
    "start_time": "2023-09-25T23:34:00.051Z"
   },
   {
    "duration": 6,
    "start_time": "2023-09-25T23:34:33.734Z"
   },
   {
    "duration": 6,
    "start_time": "2023-09-25T23:34:36.005Z"
   },
   {
    "duration": 5,
    "start_time": "2023-09-25T23:35:05.557Z"
   },
   {
    "duration": 11,
    "start_time": "2023-09-25T23:39:45.956Z"
   },
   {
    "duration": 11,
    "start_time": "2023-09-25T23:40:10.092Z"
   },
   {
    "duration": 80,
    "start_time": "2023-09-25T23:40:19.259Z"
   },
   {
    "duration": 85,
    "start_time": "2023-09-25T23:40:30.814Z"
   },
   {
    "duration": 90,
    "start_time": "2023-09-25T23:40:39.858Z"
   },
   {
    "duration": 91,
    "start_time": "2023-09-25T23:40:42.557Z"
   },
   {
    "duration": 15,
    "start_time": "2023-09-25T23:40:53.772Z"
   },
   {
    "duration": 5,
    "start_time": "2023-09-25T23:41:19.061Z"
   },
   {
    "duration": 6,
    "start_time": "2023-09-25T23:41:31.165Z"
   },
   {
    "duration": 7,
    "start_time": "2023-09-25T23:41:33.488Z"
   },
   {
    "duration": 81,
    "start_time": "2023-09-25T23:42:12.066Z"
   },
   {
    "duration": 7,
    "start_time": "2023-09-25T23:42:16.664Z"
   },
   {
    "duration": 8,
    "start_time": "2023-09-25T23:42:33.106Z"
   },
   {
    "duration": 3,
    "start_time": "2023-09-26T00:49:36.543Z"
   },
   {
    "duration": 73,
    "start_time": "2023-09-26T00:49:36.548Z"
   },
   {
    "duration": 20,
    "start_time": "2023-09-26T00:49:36.623Z"
   },
   {
    "duration": 26,
    "start_time": "2023-09-26T00:49:36.644Z"
   },
   {
    "duration": 399,
    "start_time": "2023-09-26T00:49:36.672Z"
   },
   {
    "duration": 23,
    "start_time": "2023-09-26T00:49:37.073Z"
   },
   {
    "duration": 7,
    "start_time": "2023-09-26T00:49:37.098Z"
   },
   {
    "duration": 750,
    "start_time": "2023-09-26T00:49:37.106Z"
   },
   {
    "duration": 13,
    "start_time": "2023-09-26T00:49:37.858Z"
   },
   {
    "duration": 16,
    "start_time": "2023-09-26T00:49:37.873Z"
   },
   {
    "duration": 16,
    "start_time": "2023-09-26T00:49:37.892Z"
   },
   {
    "duration": 16,
    "start_time": "2023-09-26T00:49:37.956Z"
   },
   {
    "duration": 182,
    "start_time": "2023-09-26T00:49:37.975Z"
   }
  ],
  "kernelspec": {
   "display_name": "Python 3 (ipykernel)",
   "language": "python",
   "name": "python3"
  },
  "language_info": {
   "codemirror_mode": {
    "name": "ipython",
    "version": 3
   },
   "file_extension": ".py",
   "mimetype": "text/x-python",
   "name": "python",
   "nbconvert_exporter": "python",
   "pygments_lexer": "ipython3",
   "version": "3.9.5"
  },
  "toc": {
   "base_numbering": 1,
   "nav_menu": {},
   "number_sections": true,
   "sideBar": true,
   "skip_h1_title": true,
   "title_cell": "Содержание",
   "title_sidebar": "Contents",
   "toc_cell": true,
   "toc_position": {
    "height": "calc(100% - 180px)",
    "left": "10px",
    "top": "150px",
    "width": "299.815px"
   },
   "toc_section_display": true,
   "toc_window_display": true
  }
 },
 "nbformat": 4,
 "nbformat_minor": 2
}

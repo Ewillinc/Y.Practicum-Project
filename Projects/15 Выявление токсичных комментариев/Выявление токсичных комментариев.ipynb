{
 "cells": [
  {
   "cell_type": "markdown",
   "metadata": {},
   "source": [
    "## Проект для \"Викишоп\" с BERT"
   ]
  },
  {
   "cell_type": "markdown",
   "metadata": {},
   "source": [
    "## Описанеие проекта"
   ]
  },
  {
   "cell_type": "markdown",
   "metadata": {},
   "source": [
    "Задача:\n",
    "\n",
    "* Создать модель для поиска токсичных комментариев.\n",
    "\n",
    "* Модель должна классифицировать комментарии на позитивные и негативные.\n",
    "\n",
    "* Метрика качества F1  должна быть не меннее 0.75.\n",
    "\n",
    "\n",
    "\n",
    "Используемый набор данных содержит разметки токсичных комментариев.\n"
   ]
  },
  {
   "cell_type": "markdown",
   "metadata": {},
   "source": [
    "Выполнение задачи будет происходить с использованием BERT"
   ]
  },
  {
   "cell_type": "markdown",
   "metadata": {},
   "source": [
    "## Import"
   ]
  },
  {
   "cell_type": "code",
   "execution_count": 1,
   "metadata": {},
   "outputs": [
    {
     "data": {
      "text/plain": [
       "'\\n!pip install transformers\\n'"
      ]
     },
     "execution_count": 1,
     "metadata": {},
     "output_type": "execute_result"
    }
   ],
   "source": [
    "'''\n",
    "!pip install transformers\n",
    "'''"
   ]
  },
  {
   "cell_type": "code",
   "execution_count": 2,
   "metadata": {},
   "outputs": [],
   "source": [
    "import pandas as pd\n",
    "import numpy as np\n",
    "import matplotlib.pyplot as plt\n",
    "import nltk\n",
    "\n",
    "from nltk import pos_tag\n",
    "from nltk.stem import WordNetLemmatizer\n",
    "from nltk.tokenize import word_tokenize\n",
    "\n",
    "\n",
    "\n",
    "\n",
    "from nltk.corpus import stopwords\n",
    "import re\n",
    "\n",
    "\n",
    "from sklearn.model_selection import train_test_split, GridSearchCV\n",
    "from sklearn.feature_extraction.text import TfidfVectorizer, CountVectorizer\n",
    "from sklearn.linear_model import LogisticRegression\n",
    "from sklearn.tree import DecisionTreeClassifier\n",
    "from sklearn.ensemble import RandomForestClassifier\n",
    "from sklearn.utils import shuffle\n",
    "from sklearn.dummy import DummyClassifier\n",
    "from sklearn.pipeline import Pipeline\n",
    "\n",
    "\n",
    "\n",
    "\n",
    "\n",
    "from sklearn.metrics import f1_score\n",
    "\n",
    "import transformers\n",
    "\n",
    "import torch \n",
    "from tqdm import notebook\n",
    "\n",
    "\n",
    "\n",
    "plt.style.use('dark_background')   # Изменим внешний вид будующих таблиц\n",
    "rs = 1667 # На эту переменную будут ссылаться все указания random_state"
   ]
  },
  {
   "cell_type": "code",
   "execution_count": 3,
   "metadata": {},
   "outputs": [],
   "source": [
    "\n",
    "path_loc = 'E:/NLPProject/toxic_comments.csv'\n",
    "path_yp = '/datasets/toxic_comments.csv'\n",
    "\n",
    "\n",
    "try:\n",
    "    main = pd.read_csv(path_loc)\n",
    "except:\n",
    "    main = pd.read_csv(path_yp)\n",
    "\n"
   ]
  },
  {
   "cell_type": "markdown",
   "metadata": {},
   "source": [
    "## EDA"
   ]
  },
  {
   "cell_type": "markdown",
   "metadata": {},
   "source": [
    "Первичный анализ имеющихся данных:"
   ]
  },
  {
   "cell_type": "code",
   "execution_count": 4,
   "metadata": {},
   "outputs": [
    {
     "name": "stdout",
     "output_type": "stream",
     "text": [
      "<class 'pandas.core.frame.DataFrame'>\n",
      "RangeIndex: 159292 entries, 0 to 159291\n",
      "Data columns (total 3 columns):\n",
      " #   Column      Non-Null Count   Dtype \n",
      "---  ------      --------------   ----- \n",
      " 0   Unnamed: 0  159292 non-null  int64 \n",
      " 1   text        159292 non-null  object\n",
      " 2   toxic       159292 non-null  int64 \n",
      "dtypes: int64(2), object(1)\n",
      "memory usage: 3.6+ MB\n"
     ]
    }
   ],
   "source": [
    "main.info()"
   ]
  },
  {
   "cell_type": "code",
   "execution_count": 5,
   "metadata": {},
   "outputs": [
    {
     "data": {
      "text/html": [
       "<div>\n",
       "<style scoped>\n",
       "    .dataframe tbody tr th:only-of-type {\n",
       "        vertical-align: middle;\n",
       "    }\n",
       "\n",
       "    .dataframe tbody tr th {\n",
       "        vertical-align: top;\n",
       "    }\n",
       "\n",
       "    .dataframe thead th {\n",
       "        text-align: right;\n",
       "    }\n",
       "</style>\n",
       "<table border=\"1\" class=\"dataframe\">\n",
       "  <thead>\n",
       "    <tr style=\"text-align: right;\">\n",
       "      <th></th>\n",
       "      <th>Unnamed: 0</th>\n",
       "      <th>text</th>\n",
       "      <th>toxic</th>\n",
       "    </tr>\n",
       "  </thead>\n",
       "  <tbody>\n",
       "    <tr>\n",
       "      <th>0</th>\n",
       "      <td>0</td>\n",
       "      <td>Explanation\\nWhy the edits made under my usern...</td>\n",
       "      <td>0</td>\n",
       "    </tr>\n",
       "    <tr>\n",
       "      <th>1</th>\n",
       "      <td>1</td>\n",
       "      <td>D'aww! He matches this background colour I'm s...</td>\n",
       "      <td>0</td>\n",
       "    </tr>\n",
       "    <tr>\n",
       "      <th>2</th>\n",
       "      <td>2</td>\n",
       "      <td>Hey man, I'm really not trying to edit war. It...</td>\n",
       "      <td>0</td>\n",
       "    </tr>\n",
       "    <tr>\n",
       "      <th>3</th>\n",
       "      <td>3</td>\n",
       "      <td>\"\\nMore\\nI can't make any real suggestions on ...</td>\n",
       "      <td>0</td>\n",
       "    </tr>\n",
       "    <tr>\n",
       "      <th>4</th>\n",
       "      <td>4</td>\n",
       "      <td>You, sir, are my hero. Any chance you remember...</td>\n",
       "      <td>0</td>\n",
       "    </tr>\n",
       "  </tbody>\n",
       "</table>\n",
       "</div>"
      ],
      "text/plain": [
       "   Unnamed: 0                                               text  toxic\n",
       "0           0  Explanation\\nWhy the edits made under my usern...      0\n",
       "1           1  D'aww! He matches this background colour I'm s...      0\n",
       "2           2  Hey man, I'm really not trying to edit war. It...      0\n",
       "3           3  \"\\nMore\\nI can't make any real suggestions on ...      0\n",
       "4           4  You, sir, are my hero. Any chance you remember...      0"
      ]
     },
     "execution_count": 5,
     "metadata": {},
     "output_type": "execute_result"
    }
   ],
   "source": [
    "main.head(5)"
   ]
  },
  {
   "cell_type": "markdown",
   "metadata": {},
   "source": [
    "### Class balanse"
   ]
  },
  {
   "cell_type": "code",
   "execution_count": 6,
   "metadata": {},
   "outputs": [
    {
     "name": "stdout",
     "output_type": "stream",
     "text": [
      "доля токсичных комментариев: 0.11310497114027364\n"
     ]
    },
    {
     "data": {
      "image/png": "[encoded data removed]",
      "text/plain": [
       "<Figure size 640x480 with 1 Axes>"
      ]
     },
     "metadata": {},
     "output_type": "display_data"
    }
   ],
   "source": [
    "main['toxic'].unique()\n",
    "main['toxic'].value_counts().plot(kind = 'bar', color = ['lightcoral','mediumseagreen'])\n",
    "\n",
    "print('доля токсичных комментариев:',main['toxic'].value_counts()[1] / main['toxic'].value_counts()[0])\n",
    "\n",
    "plt.title('Class balanse');"
   ]
  },
  {
   "cell_type": "markdown",
   "metadata": {},
   "source": [
    "### Dublicates"
   ]
  },
  {
   "cell_type": "code",
   "execution_count": 7,
   "metadata": {},
   "outputs": [
    {
     "data": {
      "text/plain": [
       "0"
      ]
     },
     "execution_count": 7,
     "metadata": {},
     "output_type": "execute_result"
    }
   ],
   "source": [
    "# по всему датафрейму:\n",
    "main.duplicated().sum()"
   ]
  },
  {
   "cell_type": "code",
   "execution_count": 8,
   "metadata": {},
   "outputs": [
    {
     "data": {
      "text/plain": [
       "0"
      ]
     },
     "execution_count": 8,
     "metadata": {},
     "output_type": "execute_result"
    }
   ],
   "source": [
    "# дубликаты сообщений:\n",
    "main['text'].duplicated().sum()"
   ]
  },
  {
   "cell_type": "markdown",
   "metadata": {},
   "source": [
    "### Is Na"
   ]
  },
  {
   "cell_type": "code",
   "execution_count": 9,
   "metadata": {},
   "outputs": [
    {
     "data": {
      "text/plain": [
       "Unnamed: 0    0\n",
       "text          0\n",
       "toxic         0\n",
       "dtype: int64"
      ]
     },
     "execution_count": 9,
     "metadata": {},
     "output_type": "execute_result"
    }
   ],
   "source": [
    "# Все пропуски\n",
    "main.isna().sum()"
   ]
  },
  {
   "cell_type": "markdown",
   "metadata": {},
   "source": [
    "### Column - \"Unnamed: 0\""
   ]
  },
  {
   "cell_type": "code",
   "execution_count": 10,
   "metadata": {},
   "outputs": [
    {
     "name": "stdout",
     "output_type": "stream",
     "text": [
      "Являются ли значения столбца дублум индекса? \n",
      " Одинаковый объем уникальных значений: True \n",
      " Совпадающих значений: 6080 \n",
      " Не совпадающих значений: 153212\n"
     ]
    }
   ],
   "source": [
    "\n",
    "print('Являются ли значения столбца дублум индекса?',\n",
    "      '\\n','Одинаковый объем уникальных значений:',(len(main['Unnamed: 0'].unique())) == main.shape[0],\n",
    "      '\\n','Совпадающих значений:',((main['Unnamed: 0'] == main.index).sum()),\n",
    "      '\\n', 'Не совпадающих значений:', (main['Unnamed: 0'] != main.index).sum())\n"
   ]
  },
  {
   "cell_type": "code",
   "execution_count": 11,
   "metadata": {},
   "outputs": [
    {
     "data": {
      "text/html": [
       "<div>\n",
       "<style scoped>\n",
       "    .dataframe tbody tr th:only-of-type {\n",
       "        vertical-align: middle;\n",
       "    }\n",
       "\n",
       "    .dataframe tbody tr th {\n",
       "        vertical-align: top;\n",
       "    }\n",
       "\n",
       "    .dataframe thead th {\n",
       "        text-align: right;\n",
       "    }\n",
       "</style>\n",
       "<table border=\"1\" class=\"dataframe\">\n",
       "  <thead>\n",
       "    <tr style=\"text-align: right;\">\n",
       "      <th></th>\n",
       "      <th>Unnamed: 0</th>\n",
       "      <th>text</th>\n",
       "      <th>toxic</th>\n",
       "    </tr>\n",
       "  </thead>\n",
       "  <tbody>\n",
       "    <tr>\n",
       "      <th>6080</th>\n",
       "      <td>6084</td>\n",
       "      <td>\"::I'll alos be looking in to see how this is ...</td>\n",
       "      <td>0</td>\n",
       "    </tr>\n",
       "    <tr>\n",
       "      <th>6081</th>\n",
       "      <td>6085</td>\n",
       "      <td>\"\\n\\nThe Ezekiel passage is quoted in the Molo...</td>\n",
       "      <td>0</td>\n",
       "    </tr>\n",
       "    <tr>\n",
       "      <th>6082</th>\n",
       "      <td>6086</td>\n",
       "      <td>Thank you for experimenting with  Wikipedia. Y...</td>\n",
       "      <td>0</td>\n",
       "    </tr>\n",
       "    <tr>\n",
       "      <th>6083</th>\n",
       "      <td>6087</td>\n",
       "      <td>Any complaints with that as the new wording?</td>\n",
       "      <td>0</td>\n",
       "    </tr>\n",
       "    <tr>\n",
       "      <th>6084</th>\n",
       "      <td>6088</td>\n",
       "      <td>\"\\nI also disagree with the merge as Strength ...</td>\n",
       "      <td>0</td>\n",
       "    </tr>\n",
       "    <tr>\n",
       "      <th>...</th>\n",
       "      <td>...</td>\n",
       "      <td>...</td>\n",
       "      <td>...</td>\n",
       "    </tr>\n",
       "    <tr>\n",
       "      <th>159287</th>\n",
       "      <td>159446</td>\n",
       "      <td>\":::::And for the second time of asking, when ...</td>\n",
       "      <td>0</td>\n",
       "    </tr>\n",
       "    <tr>\n",
       "      <th>159288</th>\n",
       "      <td>159447</td>\n",
       "      <td>You should be ashamed of yourself \\n\\nThat is ...</td>\n",
       "      <td>0</td>\n",
       "    </tr>\n",
       "    <tr>\n",
       "      <th>159289</th>\n",
       "      <td>159448</td>\n",
       "      <td>Spitzer \\n\\nUmm, theres no actual article for ...</td>\n",
       "      <td>0</td>\n",
       "    </tr>\n",
       "    <tr>\n",
       "      <th>159290</th>\n",
       "      <td>159449</td>\n",
       "      <td>And it looks like it was actually you who put ...</td>\n",
       "      <td>0</td>\n",
       "    </tr>\n",
       "    <tr>\n",
       "      <th>159291</th>\n",
       "      <td>159450</td>\n",
       "      <td>\"\\nAnd ... I really don't think you understand...</td>\n",
       "      <td>0</td>\n",
       "    </tr>\n",
       "  </tbody>\n",
       "</table>\n",
       "<p>153212 rows × 3 columns</p>\n",
       "</div>"
      ],
      "text/plain": [
       "        Unnamed: 0                                               text  toxic\n",
       "6080          6084  \"::I'll alos be looking in to see how this is ...      0\n",
       "6081          6085  \"\\n\\nThe Ezekiel passage is quoted in the Molo...      0\n",
       "6082          6086  Thank you for experimenting with  Wikipedia. Y...      0\n",
       "6083          6087       Any complaints with that as the new wording?      0\n",
       "6084          6088  \"\\nI also disagree with the merge as Strength ...      0\n",
       "...            ...                                                ...    ...\n",
       "159287      159446  \":::::And for the second time of asking, when ...      0\n",
       "159288      159447  You should be ashamed of yourself \\n\\nThat is ...      0\n",
       "159289      159448  Spitzer \\n\\nUmm, theres no actual article for ...      0\n",
       "159290      159449  And it looks like it was actually you who put ...      0\n",
       "159291      159450  \"\\nAnd ... I really don't think you understand...      0\n",
       "\n",
       "[153212 rows x 3 columns]"
      ]
     },
     "metadata": {},
     "output_type": "display_data"
    }
   ],
   "source": [
    "# Выведем строки с несовпадающими значениями:\n",
    "display(main.loc[main['Unnamed: 0'] != main.index])"
   ]
  },
  {
   "cell_type": "code",
   "execution_count": 12,
   "metadata": {},
   "outputs": [],
   "source": [
    "# Удаление столбца\n",
    "main.drop(columns = ['Unnamed: 0'], inplace= True)\n"
   ]
  },
  {
   "cell_type": "markdown",
   "metadata": {},
   "source": [
    "### Вывод:"
   ]
  },
  {
   "cell_type": "markdown",
   "metadata": {},
   "source": [
    "* В данных имеется дисбаланс классов с соотношением ~ 9:1 в пользу отрицательного класса(не токсичные комментарии).\n",
    "\n",
    "* Отсутствуют пропуски.\n",
    "\n",
    "* Отсутствуют дубликаты.\n",
    "\n",
    "* Удален столбец аналогичный индексу."
   ]
  },
  {
   "cell_type": "markdown",
   "metadata": {},
   "source": [
    "## TF IDF "
   ]
  },
  {
   "cell_type": "markdown",
   "metadata": {},
   "source": [
    "Первый тест:\n",
    "\n",
    "* Обучаем модели на соотношении TF-IDF.\n",
    "* Не балансируем выборки."
   ]
  },
  {
   "cell_type": "code",
   "execution_count": 13,
   "metadata": {},
   "outputs": [],
   "source": [
    "df = main.copy() # мне так удобнее, main - остается для BERT "
   ]
  },
  {
   "cell_type": "markdown",
   "metadata": {},
   "source": [
    "### Лемматизация и отчистка:"
   ]
  },
  {
   "cell_type": "code",
   "execution_count": 14,
   "metadata": {},
   "outputs": [],
   "source": [
    "\n",
    "wnl = WordNetLemmatizer()\n",
    "\n",
    "def penn2morphy(penntag):\n",
    "    \"\"\" Converts Penn Treebank tags to WordNet. \"\"\"\n",
    "    morphy_tag = {'NN':'n', 'JJ':'a',\n",
    "                  'VB':'v', 'RB':'r'}\n",
    "    try:\n",
    "        return morphy_tag[penntag[:2]]\n",
    "    except:\n",
    "        return 'n' \n",
    "\n",
    "def lemmatize_sent(text):     \n",
    "    text = \" \".join([wnl.lemmatize(word.lower(), pos=penn2morphy(tag)) \n",
    "            for word, tag in pos_tag(word_tokenize(text))])\n",
    "    return text\n",
    "\n",
    "def clear_text(text):\n",
    "    text = re.sub(r'[^a-zA-Z]',' ', text)\n",
    "    text = text.split()\n",
    "    text = \" \".join(text)\n",
    "    return text"
   ]
  },
  {
   "cell_type": "code",
   "execution_count": 15,
   "metadata": {},
   "outputs": [
    {
     "name": "stdout",
     "output_type": "stream",
     "text": [
      "the striped bat be hang on their foot for best\n"
     ]
    }
   ],
   "source": [
    "# test:\n",
    "\n",
    "sentence = \"The striped bats are hanging on their feet for best\"\n",
    "\n",
    "print(lemmatize_sent(sentence))"
   ]
  },
  {
   "cell_type": "code",
   "execution_count": 16,
   "metadata": {},
   "outputs": [],
   "source": [
    "# создадим отдельный столбец для обработанного текста:\n",
    "\n",
    "df['lemm_text'] = df['text'].apply(lemmatize_sent)\n",
    "\n",
    "df['lemm_text'] = df['lemm_text'].apply(clear_text)"
   ]
  },
  {
   "cell_type": "markdown",
   "metadata": {},
   "source": [
    "### Создание выборок:"
   ]
  },
  {
   "cell_type": "code",
   "execution_count": 17,
   "metadata": {},
   "outputs": [],
   "source": [
    "\n",
    "\n",
    "features = df['lemm_text']\n",
    "target = df['toxic']\n",
    "\n",
    "\n",
    "xl_train, xl_test, yl_train, yl_test = train_test_split(features, target, test_size  = 0.2)"
   ]
  },
  {
   "cell_type": "markdown",
   "metadata": {},
   "source": [
    "### Corpus & TF-IDF Vectorizer"
   ]
  },
  {
   "cell_type": "code",
   "execution_count": 18,
   "metadata": {},
   "outputs": [],
   "source": [
    "# создаем корпус:\n",
    "\n",
    "corpus_train = xl_train.values#.astype('U')\n",
    "corpus_test = xl_test.values#.astype('U')\n",
    "\n",
    "english_stopwords = stopwords.words(\"english\")"
   ]
  },
  {
   "cell_type": "code",
   "execution_count": 19,
   "metadata": {},
   "outputs": [],
   "source": [
    "pipe_lrog_reg = Pipeline([('tfidf', TfidfVectorizer(stop_words=list(english_stopwords))),\n",
    "                    ('log_reg', LogisticRegression(random_state=rs,max_iter = 1000\n",
    "))])\n",
    "\n",
    "pipe_tree = Pipeline([('tfidf', TfidfVectorizer(stop_words=list(english_stopwords))),\n",
    "                    ('tree', DecisionTreeClassifier(random_state=rs))])\n",
    "\n",
    "pipe_forest = Pipeline([('tfidf', TfidfVectorizer(stop_words=list(english_stopwords))),\n",
    "                    ('forest', RandomForestClassifier(random_state=rs))])"
   ]
  },
  {
   "cell_type": "markdown",
   "metadata": {},
   "source": [
    "### TF-IDF LogisticRegression"
   ]
  },
  {
   "cell_type": "markdown",
   "metadata": {},
   "source": [
    "Обучим самую простую Линейную регркссию без перебора по гиперпараметрам."
   ]
  },
  {
   "cell_type": "code",
   "execution_count": 20,
   "metadata": {},
   "outputs": [],
   "source": [
    "grid_params_lr = [{'log_reg__C':[1.0,2.,5.,10.,15.,20.,]}]"
   ]
  },
  {
   "cell_type": "code",
   "execution_count": 21,
   "metadata": {},
   "outputs": [
    {
     "name": "stdout",
     "output_type": "stream",
     "text": [
      "Fitting 4 folds for each of 6 candidates, totalling 24 fits\n",
      "0.7683262763776536\n"
     ]
    }
   ],
   "source": [
    "grid_lr = GridSearchCV(estimator = pipe_lrog_reg, param_grid=grid_params_lr, scoring = 'f1', cv = 4, n_jobs= -1, verbose= 1)\n",
    "grid_lr.fit(xl_train,yl_train)\n",
    "\n",
    "best_log_reg_estimator = grid_lr.best_estimator_\n",
    "tfidf_log_score = grid_lr.best_score_\n",
    "print(grid_lr.best_score_)\n"
   ]
  },
  {
   "cell_type": "markdown",
   "metadata": {},
   "source": [
    "### TF-IDF DecisionTree"
   ]
  },
  {
   "cell_type": "code",
   "execution_count": 22,
   "metadata": {},
   "outputs": [],
   "source": [
    "grid_params_tree = [{'tree__max_depth': [3,5,10,25,50],\n",
    "               'tree__min_samples_split': [2,8,14],\n",
    "               'tree__min_samples_leaf':[2,4,6]}]"
   ]
  },
  {
   "cell_type": "code",
   "execution_count": 23,
   "metadata": {},
   "outputs": [
    {
     "name": "stdout",
     "output_type": "stream",
     "text": [
      "Fitting 4 folds for each of 45 candidates, totalling 180 fits\n",
      "0.6901853086598022\n"
     ]
    }
   ],
   "source": [
    "grid_tree = GridSearchCV(estimator= pipe_tree,param_grid=grid_params_tree, scoring= 'f1', cv = 4, n_jobs= -1, verbose= 1)\n",
    "grid_tree.fit(xl_train, yl_train)\n",
    "\n",
    "best_tree_estimator = grid_tree.best_estimator_\n",
    "tfidf_tree_score = grid_tree.best_score_\n",
    "print(grid_tree.best_score_)"
   ]
  },
  {
   "cell_type": "markdown",
   "metadata": {},
   "source": [
    "### TF-IDF RandomForest"
   ]
  },
  {
   "cell_type": "code",
   "execution_count": 24,
   "metadata": {},
   "outputs": [],
   "source": [
    "grid_params_forest = [{'forest__max_depth': [3,5,10],\n",
    "                       'forest__n_estimators':[3,5,10,20,50],\n",
    "                       'forest__criterion':['gini','entropy','log_loss']}]"
   ]
  },
  {
   "cell_type": "code",
   "execution_count": 25,
   "metadata": {},
   "outputs": [
    {
     "name": "stdout",
     "output_type": "stream",
     "text": [
      "Fitting 4 folds for each of 45 candidates, totalling 180 fits\n",
      "0.02695085983974413\n"
     ]
    }
   ],
   "source": [
    "grid_forest = GridSearchCV(estimator= pipe_forest,param_grid=grid_params_forest, scoring= 'f1', cv = 4, n_jobs= -1, verbose= 1)\n",
    "grid_forest.fit(xl_train, yl_train)\n",
    "\n",
    "best_forest_estimator = grid_forest.best_estimator_\n",
    "tfidf_forest_score = grid_forest.best_score_\n",
    "print(grid_forest.best_score_)"
   ]
  },
  {
   "cell_type": "code",
   "execution_count": 26,
   "metadata": {},
   "outputs": [],
   "source": [
    "# Дерево решений во время перебора параметрова не справляется с кросс-валидацией. Чтобы получить разумный результат - пересоздадим выборки и векторизируем их."
   ]
  },
  {
   "cell_type": "code",
   "execution_count": 27,
   "metadata": {},
   "outputs": [],
   "source": [
    "\n",
    "# Разобьем выборку на обучение и тест \n",
    "\n",
    "xl_train, xl_test, yl_train, yl_test = train_test_split(features, target, test_size  = 0.3)\n",
    "xl_test, xl_valid, yl_test, yl_valid = train_test_split(xl_test,yl_test, test_size=0.5, random_state=rs)\n",
    "\n",
    "corpus_train = xl_train.values\n",
    "corpus_test = xl_test.values\n",
    "corpus_valid = xl_valid.values\n",
    "\n",
    "english_stopwords = stopwords.words(\"english\")\n",
    "count_tf_idf = TfidfVectorizer(stop_words = list(english_stopwords))\n",
    "tf_idf_train = count_tf_idf.fit_transform(corpus_train)\n",
    "tf_idf_valid = count_tf_idf.transform(corpus_valid)\n",
    "tf_idf_test = count_tf_idf.transform(corpus_test)"
   ]
  },
  {
   "cell_type": "code",
   "execution_count": 28,
   "metadata": {},
   "outputs": [
    {
     "name": "stdout",
     "output_type": "stream",
     "text": [
      "0.4509561998766194 RandomForestClassifier(max_depth=100, n_estimators=3, random_state=1667)\n",
      "depth: 100, estimators: 3\n",
      "F1 score: \n",
      " \n",
      "0.4509561998766194\n"
     ]
    }
   ],
   "source": [
    "best_score = 0\n",
    "\n",
    "for depth in [3,5,10,15,20,50,100]:\n",
    "    for estimators in [3,6,9,12,20]:\n",
    "        rnd_forest = RandomForestClassifier(random_state = rs, n_estimators = estimators, max_depth = depth)\n",
    "        rnd_forest.fit(tf_idf_train, yl_train)\n",
    "        forest_pred = rnd_forest.predict(tf_idf_valid)\n",
    "        score = f1_score(forest_pred, yl_valid)\n",
    "        if score > best_score:\n",
    "            best_score = score\n",
    "            forest = rnd_forest\n",
    "            best_depth = depth\n",
    "            best_estimators = estimators\n",
    "\n",
    "print(best_score, forest)\n",
    "print(f'depth: {best_depth}, estimators: {best_estimators}')\n",
    "\n",
    "print('F1 score: \\n ')\n",
    "print(tfidf_forest_score := f1_score((forest.predict(tf_idf_valid)),yl_valid))\n"
   ]
  },
  {
   "cell_type": "markdown",
   "metadata": {},
   "source": [
    "### Сравненеи эффективности моделей"
   ]
  },
  {
   "cell_type": "code",
   "execution_count": 29,
   "metadata": {},
   "outputs": [],
   "source": [
    "tabl = pd.DataFrame({'TF-IDF Logistic_regression':[ tfidf_log_score ],\n",
    "                  'TF-IDF DecisionTree':[  tfidf_tree_score],\n",
    "                  'TF-IDF RandomForest':[  tfidf_forest_score]}, index = ['f1 - score'])"
   ]
  },
  {
   "cell_type": "code",
   "execution_count": 30,
   "metadata": {},
   "outputs": [],
   "source": [
    "color_list = ['maroon','tomato','lightcoral','orange','khaki','gold','mediumorchid','slateblue','indigo']"
   ]
  },
  {
   "cell_type": "code",
   "execution_count": 31,
   "metadata": {},
   "outputs": [
    {
     "data": {
      "text/html": [
       "<div>\n",
       "<style scoped>\n",
       "    .dataframe tbody tr th:only-of-type {\n",
       "        vertical-align: middle;\n",
       "    }\n",
       "\n",
       "    .dataframe tbody tr th {\n",
       "        vertical-align: top;\n",
       "    }\n",
       "\n",
       "    .dataframe thead th {\n",
       "        text-align: right;\n",
       "    }\n",
       "</style>\n",
       "<table border=\"1\" class=\"dataframe\">\n",
       "  <thead>\n",
       "    <tr style=\"text-align: right;\">\n",
       "      <th></th>\n",
       "      <th>TF-IDF Logistic_regression</th>\n",
       "      <th>TF-IDF DecisionTree</th>\n",
       "      <th>TF-IDF RandomForest</th>\n",
       "    </tr>\n",
       "  </thead>\n",
       "  <tbody>\n",
       "    <tr>\n",
       "      <th>f1 - score</th>\n",
       "      <td>0.768326</td>\n",
       "      <td>0.690185</td>\n",
       "      <td>0.450956</td>\n",
       "    </tr>\n",
       "  </tbody>\n",
       "</table>\n",
       "</div>"
      ],
      "text/plain": [
       "            TF-IDF Logistic_regression  TF-IDF DecisionTree  \\\n",
       "f1 - score                    0.768326             0.690185   \n",
       "\n",
       "            TF-IDF RandomForest  \n",
       "f1 - score             0.450956  "
      ]
     },
     "metadata": {},
     "output_type": "display_data"
    },
    {
     "data": {
      "image/png": "[encoded data removed]",
      "text/plain": [
       "<Figure size 1600x800 with 1 Axes>"
      ]
     },
     "metadata": {},
     "output_type": "display_data"
    }
   ],
   "source": [
    "display(tabl)\n",
    "tabl.plot(kind = 'bar', figsize= [16,8], color = color_list, alpha = 0.8)\n",
    "\n",
    "plt.axhline(y = 0.75, color = 'red', linestyle = '--')\n",
    "plt.axhline(y = 1, color = 'gold', linestyle = '--')\n",
    "plt.show()"
   ]
  },
  {
   "cell_type": "markdown",
   "metadata": {},
   "source": [
    "Итоги по TF-IDF\n",
    "\n",
    "* На тренировочной выборке Logistic Regression и DecisionTree прошли порог точности f1 в 0.75\n"
   ]
  },
  {
   "cell_type": "markdown",
   "metadata": {},
   "source": [
    "## TF-IDF Downsumpling"
   ]
  },
  {
   "cell_type": "markdown",
   "metadata": {},
   "source": [
    "* Обучим идентичнные предыдущим модели на более сбалансированной по классам выборке:"
   ]
  },
  {
   "cell_type": "code",
   "execution_count": 32,
   "metadata": {},
   "outputs": [],
   "source": [
    "def downsample(features, target, fraction):\n",
    "    features_zeros = features[target == 0]\n",
    "    features_ones = features[target == 1]\n",
    "    target_zeros = target[target == 0 ]\n",
    "    target_ones = target[target ==1 ]\n",
    "    features_zeros_sample = features_zeros.sample(frac = fraction, random_state = 1667)\n",
    "    target_zeros_sample = target_zeros.sample(frac = fraction, random_state = 1667)\n",
    "    features_downsampled = pd.concat([features_zeros_sample] + [features_ones])\n",
    "    features_downsampled = shuffle(features_downsampled, random_state = 1667)\n",
    "    target_downsampled = pd.concat([target_zeros_sample]+ [target_ones])\n",
    "    target_downsampled = shuffle(target_downsampled, random_state = 1667)\n",
    "    return features_downsampled, target_downsampled"
   ]
  },
  {
   "cell_type": "code",
   "execution_count": 33,
   "metadata": {},
   "outputs": [],
   "source": [
    "xl_train_down, yl_train_down = downsample(xl_train, yl_train, 0.3)"
   ]
  },
  {
   "cell_type": "code",
   "execution_count": 34,
   "metadata": {},
   "outputs": [],
   "source": [
    "# создаем корпус:\n",
    "\n",
    "corpus_train_down = xl_train_down.values\n",
    "corpus_test = xl_test.values\n",
    "corpus_valid = xl_valid.values\n",
    "\n",
    "english_stopwords = stopwords.words(\"english\")\n",
    "count_tf_idf = TfidfVectorizer(stop_words = list(english_stopwords))\n",
    "tf_idf_train_down = count_tf_idf.fit_transform(corpus_train_down)\n",
    "tf_idf_valid_down = count_tf_idf.transform(corpus_valid)\n",
    "tf_idf_test_down = count_tf_idf.transform(corpus_test)"
   ]
  },
  {
   "cell_type": "markdown",
   "metadata": {},
   "source": [
    "### TF-IDF LogisticRegression DownSampling"
   ]
  },
  {
   "cell_type": "markdown",
   "metadata": {},
   "source": [
    "Все модели с измененной выборкой обучаются без кросс-валидации:"
   ]
  },
  {
   "cell_type": "code",
   "execution_count": 35,
   "metadata": {},
   "outputs": [
    {
     "name": "stdout",
     "output_type": "stream",
     "text": [
      "0.7635991820040899\n",
      "LogisticRegression(C=3.0, max_iter=1000, random_state=1667)\n",
      "3.0\n"
     ]
    }
   ],
   "source": [
    "best_score = 0\n",
    "\n",
    "\n",
    "\n",
    "for i in [1.,2.,3.,5.,10.,15.,20.]:\n",
    "    log_reg_down = LogisticRegression(random_state= rs, solver = 'lbfgs', C = i, max_iter = 1000)\n",
    "    log_reg_down.fit(tf_idf_train_down, yl_train_down)\n",
    "    for_predict = log_reg_down.predict(tf_idf_valid_down)\n",
    "    score = f1_score(for_predict,yl_valid)\n",
    "    if score > best_score:\n",
    "        best_score = score\n",
    "        best_log_reg_down = log_reg_down\n",
    "        best_c = i\n",
    "\n",
    "print(best_score)        \n",
    "print(best_log_reg_down)\n",
    "print(best_c)"
   ]
  },
  {
   "cell_type": "code",
   "execution_count": 36,
   "metadata": {},
   "outputs": [
    {
     "name": "stdout",
     "output_type": "stream",
     "text": [
      "0.7635991820040899\n"
     ]
    }
   ],
   "source": [
    "best_log_reg_down.fit(tf_idf_train_down,yl_train_down)\n",
    "print(tfidf_log_reg_down_score := f1_score((best_log_reg_down.predict(tf_idf_valid_down)),yl_valid))"
   ]
  },
  {
   "cell_type": "markdown",
   "metadata": {},
   "source": [
    "### TF-IDF DecisionTree DownSampling"
   ]
  },
  {
   "cell_type": "code",
   "execution_count": 37,
   "metadata": {},
   "outputs": [],
   "source": [
    "best_score = 0\n",
    "\n",
    "\n",
    "for depth in [3,5,10,15,20]:\n",
    "    for samples_split in [ 2,3,10]:\n",
    "        for samples_leaf in [1, 2,4]:\n",
    "            dec_tree = DecisionTreeClassifier(random_state= rs, max_depth= depth,min_samples_split=samples_split)\n",
    "            dec_tree.fit(tf_idf_train_down, yl_train_down)\n",
    "            dec_tree_pred = dec_tree.predict(tf_idf_valid_down)\n",
    "            score = f1_score(dec_tree_pred,yl_valid)\n",
    "            if score > best_score:\n",
    "                best_score = score\n",
    "                best_dec_tree_down = dec_tree\n",
    "                best_depth = depth\n",
    "                best_samples_split = samples_split\n",
    "\n",
    "\n"
   ]
  },
  {
   "cell_type": "code",
   "execution_count": 38,
   "metadata": {
    "scrolled": true
   },
   "outputs": [
    {
     "data": {
      "text/html": [
       "<style>#sk-container-id-1 {color: black;}#sk-container-id-1 pre{padding: 0;}#sk-container-id-1 div.sk-toggleable {background-color: white;}#sk-container-id-1 label.sk-toggleable__label {cursor: pointer;display: block;width: 100%;margin-bottom: 0;padding: 0.3em;box-sizing: border-box;text-align: center;}#sk-container-id-1 label.sk-toggleable__label-arrow:before {content: \"▸\";float: left;margin-right: 0.25em;color: #696969;}#sk-container-id-1 label.sk-toggleable__label-arrow:hover:before {color: black;}#sk-container-id-1 div.sk-estimator:hover label.sk-toggleable__label-arrow:before {color: black;}#sk-container-id-1 div.sk-toggleable__content {max-height: 0;max-width: 0;overflow: hidden;text-align: left;background-color: #f0f8ff;}#sk-container-id-1 div.sk-toggleable__content pre {margin: 0.2em;color: black;border-radius: 0.25em;background-color: #f0f8ff;}#sk-container-id-1 input.sk-toggleable__control:checked~div.sk-toggleable__content {max-height: 200px;max-width: 100%;overflow: auto;}#sk-container-id-1 input.sk-toggleable__control:checked~label.sk-toggleable__label-arrow:before {content: \"▾\";}#sk-container-id-1 div.sk-estimator input.sk-toggleable__control:checked~label.sk-toggleable__label {background-color: #d4ebff;}#sk-container-id-1 div.sk-label input.sk-toggleable__control:checked~label.sk-toggleable__label {background-color: #d4ebff;}#sk-container-id-1 input.sk-hidden--visually {border: 0;clip: rect(1px 1px 1px 1px);clip: rect(1px, 1px, 1px, 1px);height: 1px;margin: -1px;overflow: hidden;padding: 0;position: absolute;width: 1px;}#sk-container-id-1 div.sk-estimator {font-family: monospace;background-color: #f0f8ff;border: 1px dotted black;border-radius: 0.25em;box-sizing: border-box;margin-bottom: 0.5em;}#sk-container-id-1 div.sk-estimator:hover {background-color: #d4ebff;}#sk-container-id-1 div.sk-parallel-item::after {content: \"\";width: 100%;border-bottom: 1px solid gray;flex-grow: 1;}#sk-container-id-1 div.sk-label:hover label.sk-toggleable__label {background-color: #d4ebff;}#sk-container-id-1 div.sk-serial::before {content: \"\";position: absolute;border-left: 1px solid gray;box-sizing: border-box;top: 0;bottom: 0;left: 50%;z-index: 0;}#sk-container-id-1 div.sk-serial {display: flex;flex-direction: column;align-items: center;background-color: white;padding-right: 0.2em;padding-left: 0.2em;position: relative;}#sk-container-id-1 div.sk-item {position: relative;z-index: 1;}#sk-container-id-1 div.sk-parallel {display: flex;align-items: stretch;justify-content: center;background-color: white;position: relative;}#sk-container-id-1 div.sk-item::before, #sk-container-id-1 div.sk-parallel-item::before {content: \"\";position: absolute;border-left: 1px solid gray;box-sizing: border-box;top: 0;bottom: 0;left: 50%;z-index: -1;}#sk-container-id-1 div.sk-parallel-item {display: flex;flex-direction: column;z-index: 1;position: relative;background-color: white;}#sk-container-id-1 div.sk-parallel-item:first-child::after {align-self: flex-end;width: 50%;}#sk-container-id-1 div.sk-parallel-item:last-child::after {align-self: flex-start;width: 50%;}#sk-container-id-1 div.sk-parallel-item:only-child::after {width: 0;}#sk-container-id-1 div.sk-dashed-wrapped {border: 1px dashed gray;margin: 0 0.4em 0.5em 0.4em;box-sizing: border-box;padding-bottom: 0.4em;background-color: white;}#sk-container-id-1 div.sk-label label {font-family: monospace;font-weight: bold;display: inline-block;line-height: 1.2em;}#sk-container-id-1 div.sk-label-container {text-align: center;}#sk-container-id-1 div.sk-container {/* jupyter's `normalize.less` sets `[hidden] { display: none; }` but bootstrap.min.css set `[hidden] { display: none !important; }` so we also need the `!important` here to be able to override the default hidden behavior on the sphinx rendered scikit-learn.org. See: https://github.com/scikit-learn/scikit-learn/issues/21755 */display: inline-block !important;position: relative;}#sk-container-id-1 div.sk-text-repr-fallback {display: none;}</style><div id=\"sk-container-id-1\" class=\"sk-top-container\"><div class=\"sk-text-repr-fallback\"><pre>DecisionTreeClassifier(max_depth=20, min_samples_split=3, random_state=1667)</pre><b>In a Jupyter environment, please rerun this cell to show the HTML representation or trust the notebook. <br />On GitHub, the HTML representation is unable to render, please try loading this page with nbviewer.org.</b></div><div class=\"sk-container\" hidden><div class=\"sk-item\"><div class=\"sk-estimator sk-toggleable\"><input class=\"sk-toggleable__control sk-hidden--visually\" id=\"sk-estimator-id-1\" type=\"checkbox\" checked><label for=\"sk-estimator-id-1\" class=\"sk-toggleable__label sk-toggleable__label-arrow\">DecisionTreeClassifier</label><div class=\"sk-toggleable__content\"><pre>DecisionTreeClassifier(max_depth=20, min_samples_split=3, random_state=1667)</pre></div></div></div></div></div>"
      ],
      "text/plain": [
       "DecisionTreeClassifier(max_depth=20, min_samples_split=3, random_state=1667)"
      ]
     },
     "execution_count": 38,
     "metadata": {},
     "output_type": "execute_result"
    }
   ],
   "source": [
    "best_dec_tree_down.fit(tf_idf_train_down,yl_train_down)"
   ]
  },
  {
   "cell_type": "code",
   "execution_count": 39,
   "metadata": {},
   "outputs": [
    {
     "name": "stdout",
     "output_type": "stream",
     "text": [
      "F1 score: \n",
      " \n",
      "0.6517073170731708\n"
     ]
    }
   ],
   "source": [
    "\n",
    "print('F1 score: \\n ')\n",
    "print(tfidf_tree_down_score := f1_score((best_dec_tree_down.predict(tf_idf_valid_down)),yl_valid))\n"
   ]
  },
  {
   "cell_type": "markdown",
   "metadata": {},
   "source": [
    "### TF-IDF RandomForest Dwonsampling"
   ]
  },
  {
   "cell_type": "code",
   "execution_count": 40,
   "metadata": {},
   "outputs": [
    {
     "name": "stdout",
     "output_type": "stream",
     "text": [
      "0.6325606181721289 RandomForestClassifier(max_depth=100, n_estimators=20, random_state=1667)\n",
      "depth 100, estimators: 20\n"
     ]
    }
   ],
   "source": [
    "best_score = 0\n",
    "\n",
    "for depth in [3,5,10,15,20,50,100]:\n",
    "    for estimators in [3,6,9,12,20]:\n",
    "        rnd_forest_down = RandomForestClassifier(random_state = rs, n_estimators = estimators, max_depth = depth)\n",
    "        rnd_forest_down.fit(tf_idf_train_down, yl_train_down)\n",
    "        forest_pred = rnd_forest_down.predict(tf_idf_valid_down)\n",
    "        score = f1_score(forest_pred, yl_valid)\n",
    "        if score > best_score:\n",
    "            best_score = score\n",
    "            best_forest_down = rnd_forest_down\n",
    "            best_depth = depth\n",
    "            best_estimators = estimators\n",
    "\n",
    "print(best_score, best_forest_down)\n",
    "print(f'depth {best_depth}, estimators: {best_estimators}')"
   ]
  },
  {
   "cell_type": "code",
   "execution_count": 41,
   "metadata": {},
   "outputs": [
    {
     "name": "stdout",
     "output_type": "stream",
     "text": [
      "\n",
      "F1 score: \n",
      " \n",
      "0.6325606181721289\n"
     ]
    }
   ],
   "source": [
    "\n",
    "print()\n",
    "print('F1 score: \\n ')\n",
    "print(tfidf_forest_down_score := f1_score((best_forest_down.predict(tf_idf_valid_down)),yl_valid))\n"
   ]
  },
  {
   "cell_type": "markdown",
   "metadata": {},
   "source": [
    "### Сравнение эффективности моделей"
   ]
  },
  {
   "cell_type": "code",
   "execution_count": 42,
   "metadata": {},
   "outputs": [],
   "source": [
    "tabl = pd.DataFrame({'TF-IDF Logistic_regression':[ tfidf_log_score],\n",
    "                  'TF-IDF DecisionTree':[ tfidf_tree_score],\n",
    "                  'TF-IDF RandomForest':[ tfidf_forest_score],\n",
    "                  'TF_IDF LogReg Downsamp':[tfidf_log_reg_down_score],\n",
    "                  'TF-IDF DecTree Downsamp':[tfidf_tree_down_score],\n",
    "                  'TF-IDF RandFOrest Downsamp':[tfidf_forest_down_score]}, index = ['f1 score'])"
   ]
  },
  {
   "cell_type": "code",
   "execution_count": 43,
   "metadata": {},
   "outputs": [
    {
     "data": {
      "text/html": [
       "<div>\n",
       "<style scoped>\n",
       "    .dataframe tbody tr th:only-of-type {\n",
       "        vertical-align: middle;\n",
       "    }\n",
       "\n",
       "    .dataframe tbody tr th {\n",
       "        vertical-align: top;\n",
       "    }\n",
       "\n",
       "    .dataframe thead th {\n",
       "        text-align: right;\n",
       "    }\n",
       "</style>\n",
       "<table border=\"1\" class=\"dataframe\">\n",
       "  <thead>\n",
       "    <tr style=\"text-align: right;\">\n",
       "      <th></th>\n",
       "      <th>TF-IDF Logistic_regression</th>\n",
       "      <th>TF-IDF DecisionTree</th>\n",
       "      <th>TF-IDF RandomForest</th>\n",
       "      <th>TF_IDF LogReg Downsamp</th>\n",
       "      <th>TF-IDF DecTree Downsamp</th>\n",
       "      <th>TF-IDF RandFOrest Downsamp</th>\n",
       "    </tr>\n",
       "  </thead>\n",
       "  <tbody>\n",
       "    <tr>\n",
       "      <th>f1 score</th>\n",
       "      <td>0.768326</td>\n",
       "      <td>0.690185</td>\n",
       "      <td>0.450956</td>\n",
       "      <td>0.763599</td>\n",
       "      <td>0.651707</td>\n",
       "      <td>0.632561</td>\n",
       "    </tr>\n",
       "  </tbody>\n",
       "</table>\n",
       "</div>"
      ],
      "text/plain": [
       "          TF-IDF Logistic_regression  TF-IDF DecisionTree  \\\n",
       "f1 score                    0.768326             0.690185   \n",
       "\n",
       "          TF-IDF RandomForest  TF_IDF LogReg Downsamp  \\\n",
       "f1 score             0.450956                0.763599   \n",
       "\n",
       "          TF-IDF DecTree Downsamp  TF-IDF RandFOrest Downsamp  \n",
       "f1 score                 0.651707                    0.632561  "
      ]
     },
     "metadata": {},
     "output_type": "display_data"
    },
    {
     "data": {
      "image/png": "[encoded data removed]",
      "text/plain": [
       "<Figure size 1600x800 with 1 Axes>"
      ]
     },
     "metadata": {},
     "output_type": "display_data"
    }
   ],
   "source": [
    "display(tabl)\n",
    "tabl.plot(kind = 'bar', figsize = [16,8], color = color_list, alpha = 0.9)\n",
    "\n",
    "plt.axhline(y = 0.75, color = 'red', linestyle = '--')\n",
    "plt.axhline(y = 1, color = 'gold', linestyle = '--')\n",
    "plt.show()\n"
   ]
  },
  {
   "cell_type": "markdown",
   "metadata": {},
   "source": [
    "Итоги по TF-IDF с более сбалансированными классами:\n",
    "\n",
    "* модели LogisticRegression & RandomForest на измененной Треировочной выборке(стратегия Downsampling) прошли порог F1 > 0.75\n",
    "\n",
    "* модель LogisticRegression обученная на измененной Тренировоыной выборке(Downsampling), прошла порог F1 > 0.75  на валиации и подошла под минимальный критерий заказчика."
   ]
  },
  {
   "cell_type": "markdown",
   "metadata": {},
   "source": [
    "## PretrainedBERT"
   ]
  },
  {
   "cell_type": "markdown",
   "metadata": {},
   "source": [
    "Под задачу классификуации токсичных комментариев была подобранна специально обученная под задачу модель BERT: toxic-bert"
   ]
  },
  {
   "cell_type": "markdown",
   "metadata": {},
   "source": [
    "Тестирование модели BERT будет проводиться на случайном срезе выборки для экономии временного ресурса, на оборудовании без CUDA ядер."
   ]
  },
  {
   "cell_type": "code",
   "execution_count": 44,
   "metadata": {},
   "outputs": [],
   "source": [
    "# срез выборки\n",
    "\n",
    "main = main.sample(frac = 1, random_state= rs).reset_index()\n",
    "main = main[:12000]"
   ]
  },
  {
   "cell_type": "code",
   "execution_count": 45,
   "metadata": {},
   "outputs": [],
   "source": [
    "try:\n",
    "    tokenizer = transformers.BertTokenizer(\n",
    "        vocab_file = 'E:/DL Models/Transformers/BERT/toxic-bert/vocab.txt')\n",
    "except:\n",
    "    tokenizer = transformers.BertTokenizer.from_pretrained('unitary/toxic-bert')"
   ]
  },
  {
   "cell_type": "code",
   "execution_count": 46,
   "metadata": {},
   "outputs": [],
   "source": [
    "tokenized = main['text'].apply(lambda x: tokenizer.encode(x[:512], add_special_tokens = True))"
   ]
  },
  {
   "cell_type": "code",
   "execution_count": 47,
   "metadata": {},
   "outputs": [],
   "source": [
    "\"\"\"\n",
    "\\\\\\\\\\\n",
    "Модель BERT предобучена на векторах длиной до 512,\n",
    "что делает для нас невозможным использовать более длинные текста\n",
    "это скажется на итоговом качестве, в сравнении с более обученной моделью,\n",
    "но за неимением таковой - пойдем на шаг\n",
    "и укоратим все наши вектора\n",
    "/////\n",
    "\"\"\"\n",
    "\n",
    "\n",
    "padded = np.array([i +[0]*(512 - len(i)) for i in tokenized.values])\n",
    "attention_mask = np.where(padded != 0,1,0)\n"
   ]
  },
  {
   "cell_type": "code",
   "execution_count": 48,
   "metadata": {},
   "outputs": [],
   "source": [
    "try:   \n",
    "    config = transformers.BertConfig.from_json_file('E:/DL Models/Transformers/BERT/toxic-bert/config.json')\n",
    "    model = transformers.BertModel.from_pretrained('E:/DL Models/Transformers/BERT/toxic-bert/pytorch_model.bin', config = config)\n",
    "except:\n",
    "    config = transformers.BertConfig.from_pretrained('unitary/toxic-bert')\n",
    "    model = transformers.BertModel.from_pretrained('unitary/toxic-bert')"
   ]
  },
  {
   "cell_type": "code",
   "execution_count": 49,
   "metadata": {},
   "outputs": [
    {
     "data": {
      "application/vnd.jupyter.widget-view+json": {
       "model_id": "0a35dddf79b24b1ba69f5b644ef5ac1e",
       "version_major": 2,
       "version_minor": 0
      },
      "text/plain": [
       "  0%|          | 0/40 [00:00<?, ?it/s]"
      ]
     },
     "metadata": {},
     "output_type": "display_data"
    },
    {
     "name": "stdout",
     "output_type": "stream",
     "text": [
      "torch.Size([300, 512])\n",
      "torch.Size([300, 512])\n",
      "torch.Size([300, 512])\n",
      "torch.Size([300, 512])\n",
      "torch.Size([300, 512])\n",
      "torch.Size([300, 512])\n",
      "torch.Size([300, 512])\n",
      "torch.Size([300, 512])\n",
      "torch.Size([300, 512])\n",
      "torch.Size([300, 512])\n",
      "torch.Size([300, 512])\n",
      "torch.Size([300, 512])\n",
      "torch.Size([300, 512])\n",
      "torch.Size([300, 512])\n",
      "torch.Size([300, 512])\n",
      "torch.Size([300, 512])\n",
      "torch.Size([300, 512])\n",
      "torch.Size([300, 512])\n",
      "torch.Size([300, 512])\n",
      "torch.Size([300, 512])\n",
      "torch.Size([300, 512])\n",
      "torch.Size([300, 512])\n",
      "torch.Size([300, 512])\n",
      "torch.Size([300, 512])\n",
      "torch.Size([300, 512])\n",
      "torch.Size([300, 512])\n",
      "torch.Size([300, 512])\n",
      "torch.Size([300, 512])\n",
      "torch.Size([300, 512])\n",
      "torch.Size([300, 512])\n",
      "torch.Size([300, 512])\n",
      "torch.Size([300, 512])\n",
      "torch.Size([300, 512])\n",
      "torch.Size([300, 512])\n",
      "torch.Size([300, 512])\n",
      "torch.Size([300, 512])\n",
      "torch.Size([300, 512])\n",
      "torch.Size([300, 512])\n",
      "torch.Size([300, 512])\n",
      "torch.Size([300, 512])\n",
      "torch.Size([300, 512])\n",
      "torch.Size([300, 512])\n",
      "torch.Size([300, 512])\n",
      "torch.Size([300, 512])\n",
      "torch.Size([300, 512])\n",
      "torch.Size([300, 512])\n",
      "torch.Size([300, 512])\n",
      "torch.Size([300, 512])\n",
      "torch.Size([300, 512])\n",
      "torch.Size([300, 512])\n",
      "torch.Size([300, 512])\n",
      "torch.Size([300, 512])\n",
      "torch.Size([300, 512])\n",
      "torch.Size([300, 512])\n",
      "torch.Size([300, 512])\n",
      "torch.Size([300, 512])\n",
      "torch.Size([300, 512])\n",
      "torch.Size([300, 512])\n",
      "torch.Size([300, 512])\n",
      "torch.Size([300, 512])\n",
      "torch.Size([300, 512])\n",
      "torch.Size([300, 512])\n",
      "torch.Size([300, 512])\n",
      "torch.Size([300, 512])\n",
      "torch.Size([300, 512])\n",
      "torch.Size([300, 512])\n",
      "torch.Size([300, 512])\n",
      "torch.Size([300, 512])\n",
      "torch.Size([300, 512])\n",
      "torch.Size([300, 512])\n",
      "torch.Size([300, 512])\n",
      "torch.Size([300, 512])\n",
      "torch.Size([300, 512])\n",
      "torch.Size([300, 512])\n",
      "torch.Size([300, 512])\n",
      "torch.Size([300, 512])\n",
      "torch.Size([300, 512])\n",
      "torch.Size([300, 512])\n",
      "torch.Size([300, 512])\n",
      "torch.Size([300, 512])\n"
     ]
    }
   ],
   "source": [
    "batch_size = 300\n",
    "embeddings = []\n",
    "\n",
    "for i in notebook.tqdm(range(padded.shape[0] // batch_size)):\n",
    "        \n",
    "        batch = torch.LongTensor(padded[batch_size*i:batch_size*(i+1)]) \n",
    "        print(batch.shape)\n",
    "        attention_mask_batch = torch.LongTensor(attention_mask[batch_size*i:batch_size*(i+1)])\n",
    "        print(attention_mask_batch.shape)\n",
    "        \n",
    "        with torch.no_grad():\n",
    "\n",
    "            batch_embeddings = model(batch, attention_mask=attention_mask_batch)\n",
    "            \n",
    "        \n",
    "        embeddings.append(batch_embeddings[0][:,0,:].numpy())"
   ]
  },
  {
   "cell_type": "markdown",
   "metadata": {},
   "source": [
    "### Создание выборок"
   ]
  },
  {
   "cell_type": "code",
   "execution_count": 50,
   "metadata": {},
   "outputs": [],
   "source": [
    "features = np.concatenate(embeddings)\n",
    "target = main['toxic']\n",
    "\n",
    "x_train, x_test, y_train, y_test = train_test_split(features, target, test_size = 0.2, random_state = rs)\n"
   ]
  },
  {
   "cell_type": "markdown",
   "metadata": {},
   "source": [
    "### LogisticRegression"
   ]
  },
  {
   "cell_type": "code",
   "execution_count": 51,
   "metadata": {},
   "outputs": [],
   "source": [
    "grid_params_bert_log = {'C':[1.,2.,4.,6.,10.,15.,20.]}\n",
    "\n",
    "params_bert_log = {'C':1}"
   ]
  },
  {
   "cell_type": "code",
   "execution_count": 52,
   "metadata": {},
   "outputs": [],
   "source": [
    "\n",
    "log_reg = LogisticRegression(random_state= rs, C = params_bert_log['C'])"
   ]
  },
  {
   "cell_type": "code",
   "execution_count": 53,
   "metadata": {},
   "outputs": [
    {
     "name": "stdout",
     "output_type": "stream",
     "text": [
      "Fitting 4 folds for each of 7 candidates, totalling 28 fits\n",
      "0.9097251071891732\n"
     ]
    },
    {
     "name": "stderr",
     "output_type": "stream",
     "text": [
      "e:\\anaconda3\\Lib\\site-packages\\sklearn\\linear_model\\_logistic.py:460: ConvergenceWarning: lbfgs failed to converge (status=1):\n",
      "STOP: TOTAL NO. of ITERATIONS REACHED LIMIT.\n",
      "\n",
      "Increase the number of iterations (max_iter) or scale the data as shown in:\n",
      "    https://scikit-learn.org/stable/modules/preprocessing.html\n",
      "Please also refer to the documentation for alternative solver options:\n",
      "    https://scikit-learn.org/stable/modules/linear_model.html#logistic-regression\n",
      "  n_iter_i = _check_optimize_result(\n"
     ]
    }
   ],
   "source": [
    "bert_log_grid = GridSearchCV(log_reg,grid_params_bert_log,verbose = 1, cv = 4,n_jobs= -1, scoring = 'f1')\n",
    "bert_log_grid.fit(x_train, y_train)\n",
    "print(bert_log_grid.best_score_)\n",
    "bert_log_score = bert_log_grid.best_score_\n"
   ]
  },
  {
   "cell_type": "markdown",
   "metadata": {},
   "source": [
    "### DecisionTree\n"
   ]
  },
  {
   "cell_type": "code",
   "execution_count": 54,
   "metadata": {},
   "outputs": [],
   "source": [
    "params = {'max_depth':5,\n",
    "          'min_samples_split': 2,\n",
    "          'min_samples_leaf':2}\n",
    "\n",
    "grid_params = {'max_depth': [5,50,150],\n",
    "               'min_samples_split': [2,20,30],\n",
    "               'min_samples_leaf':[2,4,6]}"
   ]
  },
  {
   "cell_type": "code",
   "execution_count": 55,
   "metadata": {},
   "outputs": [],
   "source": [
    "tree_bert = DecisionTreeClassifier(max_depth= params['max_depth'],\n",
    "                              min_samples_leaf=params['min_samples_leaf'],\n",
    "                              min_samples_split=params['min_samples_split'])"
   ]
  },
  {
   "cell_type": "code",
   "execution_count": 56,
   "metadata": {},
   "outputs": [
    {
     "name": "stdout",
     "output_type": "stream",
     "text": [
      "Fitting 4 folds for each of 27 candidates, totalling 108 fits\n",
      "0.9031513227375539\n"
     ]
    }
   ],
   "source": [
    "bert_tree_grid = GridSearchCV(tree_bert, grid_params, verbose = 1, cv = 4,n_jobs= -1, scoring = 'f1')\n",
    "bert_tree_grid.fit(x_train, y_train)\n",
    "print(bert_tree_grid.best_score_)\n",
    "bert_tree_score = bert_tree_grid.best_score_"
   ]
  },
  {
   "cell_type": "markdown",
   "metadata": {},
   "source": [
    "### RandomForestClassifier"
   ]
  },
  {
   "cell_type": "code",
   "execution_count": 57,
   "metadata": {},
   "outputs": [],
   "source": [
    "params = {'max_depth':10,\n",
    "          'n_estimators':10,\n",
    "          'min_samples_split':2}\n",
    "\n",
    "grid_params = {'max_depth':[10,20,30],\n",
    "               'n_estimators':[10,40,90],\n",
    "               'min_samples_split':[2,4,6]}"
   ]
  },
  {
   "cell_type": "code",
   "execution_count": 58,
   "metadata": {},
   "outputs": [
    {
     "name": "stdout",
     "output_type": "stream",
     "text": [
      "Fitting 4 folds for each of 27 candidates, totalling 108 fits\n",
      "0.9252551217226512\n"
     ]
    }
   ],
   "source": [
    "forest_bert = RandomForestClassifier(random_state = rs,\n",
    "                                max_depth = params['max_depth'],\n",
    "                                n_estimators=params['n_estimators'],\n",
    "                                min_samples_split=params['min_samples_split'])\n",
    "\n",
    "bert_forest_grid = GridSearchCV(forest_bert,grid_params,verbose=1, cv = 4, n_jobs = -1, scoring = 'f1')\n",
    "bert_forest_grid.fit(x_train, y_train)\n",
    "print(bert_forest_grid.best_score_)\n",
    "bert_forest_score = bert_forest_grid.best_score_"
   ]
  },
  {
   "cell_type": "markdown",
   "metadata": {},
   "source": [
    "## Таблица всех испробованных моделей:"
   ]
  },
  {
   "cell_type": "code",
   "execution_count": 59,
   "metadata": {},
   "outputs": [
    {
     "data": {
      "text/html": [
       "<div>\n",
       "<style scoped>\n",
       "    .dataframe tbody tr th:only-of-type {\n",
       "        vertical-align: middle;\n",
       "    }\n",
       "\n",
       "    .dataframe tbody tr th {\n",
       "        vertical-align: top;\n",
       "    }\n",
       "\n",
       "    .dataframe thead th {\n",
       "        text-align: right;\n",
       "    }\n",
       "</style>\n",
       "<table border=\"1\" class=\"dataframe\">\n",
       "  <thead>\n",
       "    <tr style=\"text-align: right;\">\n",
       "      <th></th>\n",
       "      <th>TF-IDF Logistic_regression</th>\n",
       "      <th>TF-IDF DecisionTree</th>\n",
       "      <th>TF-IDF RandomForest</th>\n",
       "      <th>TF_IDF LogReg Downsamp</th>\n",
       "      <th>TF-IDF DecTree Downsamp</th>\n",
       "      <th>TF-IDF RandFOrest Downsamp</th>\n",
       "      <th>BERT LogReg</th>\n",
       "      <th>BERT DecTree</th>\n",
       "      <th>BERT RandForest</th>\n",
       "    </tr>\n",
       "  </thead>\n",
       "  <tbody>\n",
       "    <tr>\n",
       "      <th>SCORE</th>\n",
       "      <td>0.768326</td>\n",
       "      <td>0.690185</td>\n",
       "      <td>0.450956</td>\n",
       "      <td>0.763599</td>\n",
       "      <td>0.651707</td>\n",
       "      <td>0.632561</td>\n",
       "      <td>0.909725</td>\n",
       "      <td>0.903151</td>\n",
       "      <td>0.925255</td>\n",
       "    </tr>\n",
       "  </tbody>\n",
       "</table>\n",
       "</div>"
      ],
      "text/plain": [
       "       TF-IDF Logistic_regression  TF-IDF DecisionTree  TF-IDF RandomForest  \\\n",
       "SCORE                    0.768326             0.690185             0.450956   \n",
       "\n",
       "       TF_IDF LogReg Downsamp  TF-IDF DecTree Downsamp  \\\n",
       "SCORE                0.763599                 0.651707   \n",
       "\n",
       "       TF-IDF RandFOrest Downsamp  BERT LogReg  BERT DecTree  BERT RandForest  \n",
       "SCORE                    0.632561     0.909725      0.903151         0.925255  "
      ]
     },
     "metadata": {},
     "output_type": "display_data"
    },
    {
     "data": {
      "image/png": "[encoded data removed]",
      "text/plain": [
       "<Figure size 1600x800 with 1 Axes>"
      ]
     },
     "metadata": {},
     "output_type": "display_data"
    }
   ],
   "source": [
    "table_df = pd.DataFrame({'TF-IDF Logistic_regression':[ tfidf_log_score],\n",
    "                  'TF-IDF DecisionTree':[ tfidf_tree_score],\n",
    "                  'TF-IDF RandomForest':[ tfidf_forest_score],\n",
    "                  'TF_IDF LogReg Downsamp':[tfidf_log_reg_down_score],\n",
    "                  'TF-IDF DecTree Downsamp':[tfidf_tree_down_score],\n",
    "                  'TF-IDF RandFOrest Downsamp':[tfidf_forest_down_score],\n",
    "                  'BERT LogReg': [bert_log_score],\n",
    "                  'BERT DecTree':[bert_tree_score],\n",
    "                  'BERT RandForest':[bert_forest_score]}, index = ['SCORE'])\n",
    "\n",
    "\n",
    "\n",
    "display(table_df)\n",
    "table_df.plot(kind = 'bar', figsize = [16,8], color = color_list,alpha =0.9)\n",
    "plt.axhline(y = 0.75, color = 'red', linestyle = '--')\n",
    "plt.axhline(y = 1, color = 'gold', linestyle = '--')\n",
    "plt.title('F1 ')\n",
    "plt.show()"
   ]
  },
  {
   "cell_type": "markdown",
   "metadata": {},
   "source": [
    "## Итоговое тестирование модели"
   ]
  },
  {
   "cell_type": "markdown",
   "metadata": {},
   "source": [
    "### RandomForestClassifier With BERT"
   ]
  },
  {
   "cell_type": "markdown",
   "metadata": {},
   "source": [
    "Предскажем тестовую выборку на наиболее эффективной из иследованных моделей:"
   ]
  },
  {
   "cell_type": "code",
   "execution_count": 60,
   "metadata": {},
   "outputs": [
    {
     "name": "stdout",
     "output_type": "stream",
     "text": [
      "0.9273504273504273\n"
     ]
    }
   ],
   "source": [
    "test_forest_score = bert_forest_grid.best_estimator_.predict(x_test)\n",
    "print(bert_test_score := f1_score(test_forest_score,y_test))"
   ]
  },
  {
   "cell_type": "markdown",
   "metadata": {},
   "source": [
    "### DummyModels"
   ]
  },
  {
   "cell_type": "markdown",
   "metadata": {},
   "source": [
    "Для сравнения используем статичную модель.\n",
    "\n",
    "В качестве стратегии заполнения - спрогноз будет генерироваться случайным образом из списка имеющихся классов."
   ]
  },
  {
   "cell_type": "code",
   "execution_count": 61,
   "metadata": {},
   "outputs": [
    {
     "name": "stdout",
     "output_type": "stream",
     "text": [
      "0.16091954022988506\n"
     ]
    }
   ],
   "source": [
    "dummy = DummyClassifier(random_state=rs, strategy= 'uniform')\n",
    "dummy.fit(x_train,y_train)\n",
    "dummy_pred = dummy.predict(x_test)\n",
    "print(dummy_f1 := f1_score(y_test,dummy_pred))"
   ]
  },
  {
   "cell_type": "markdown",
   "metadata": {},
   "source": [
    "### Words-Markers\n"
   ]
  },
  {
   "cell_type": "markdown",
   "metadata": {},
   "source": [
    "Второе сравнение проведем на статичной модели, которая:\n",
    "1. Соберет уникальные слова, характерные только для токсичных комментариев.\n",
    "2. Будет по наличию этих слов предсказывать класс комментария."
   ]
  },
  {
   "cell_type": "code",
   "execution_count": 62,
   "metadata": {},
   "outputs": [],
   "source": [
    "# тест проведем на срезе данных, чтобы увеличить скорость прогонки по двойному циклу(далее в коде)\n",
    "word_data = df[:10000]"
   ]
  },
  {
   "cell_type": "code",
   "execution_count": 63,
   "metadata": {},
   "outputs": [],
   "source": [
    "# создадим два множества: с уникальными словами для обычных и токсичных комментариев.\n",
    "\n",
    "c = set(word_data.loc[word_data['toxic'] == 1].lemm_text.str.split(expand = True).stack().value_counts()[:300].index)\n",
    "x = set(word_data.loc[word_data['toxic'] == 0].lemm_text.str.split(expand = True).stack().value_counts()[:1000].index)\n",
    "\n",
    "# Найдем разность полученных множеств:\n",
    "\n",
    "a = c.difference(x)"
   ]
  },
  {
   "cell_type": "code",
   "execution_count": 64,
   "metadata": {},
   "outputs": [
    {
     "name": "stderr",
     "output_type": "stream",
     "text": [
      "C:\\Users\\Маяк\\AppData\\Local\\Temp\\ipykernel_1540\\1911261598.py:1: SettingWithCopyWarning: \n",
      "A value is trying to be set on a copy of a slice from a DataFrame.\n",
      "Try using .loc[row_indexer,col_indexer] = value instead\n",
      "\n",
      "See the caveats in the documentation: https://pandas.pydata.org/pandas-docs/stable/user_guide/indexing.html#returning-a-view-versus-a-copy\n",
      "  word_data.loc[:,'predict'] = 0\n"
     ]
    }
   ],
   "source": [
    "word_data.loc[:,'predict'] = 0"
   ]
  },
  {
   "cell_type": "code",
   "execution_count": 65,
   "metadata": {},
   "outputs": [],
   "source": [
    "# Присвоим класс на основе вхождения слов из найденног множества\n",
    "for i in range(word_data.shape[0]):\n",
    "    for st in list(a): \n",
    "        if st in word_data.loc[i,:].lemm_text.split():\n",
    "            word_data.loc[i,'predict'] = 1\n"
   ]
  },
  {
   "cell_type": "code",
   "execution_count": 66,
   "metadata": {},
   "outputs": [
    {
     "name": "stdout",
     "output_type": "stream",
     "text": [
      "0.6150537634408602\n"
     ]
    }
   ],
   "source": [
    "# рассчитаем точность:\n",
    "print(marker_f1 := f1_score(word_data['toxic'],word_data['predict']))"
   ]
  },
  {
   "cell_type": "markdown",
   "metadata": {},
   "source": [
    "### Сравнение моделей на тесте:"
   ]
  },
  {
   "cell_type": "code",
   "execution_count": 67,
   "metadata": {},
   "outputs": [
    {
     "data": {
      "image/png": "[encoded data removed]",
      "text/plain": [
       "<Figure size 1600x800 with 1 Axes>"
      ]
     },
     "metadata": {},
     "output_type": "display_data"
    }
   ],
   "source": [
    "end_table = pd.DataFrame({'BERT RandomForestClassifier':[bert_test_score],\n",
    "                         'Dummy_models':[dummy_f1],\n",
    "                         'Words Markers':[marker_f1]}, index = ['END TEST'])\n",
    "\n",
    "color_list2 = ['orchid','slateblue','khaki']\n",
    "\n",
    "end_table.plot( kind = 'bar',figsize = [16,8], color = color_list2)\n",
    "\n",
    "\n",
    "\n",
    "plt.axhline(y = 0.75, color = 'r', linestyle = '--')\n",
    "plt.axhline(y = 0.80, color = 'w', linestyle = '--')\n",
    "plt.axhline(y = 0.85, color = 'w', linestyle = '--')\n",
    "plt.axhline(y = 0.90, color = 'w', linestyle = '--')\n",
    "plt.axhline(y = 0.95, color = 'w', linestyle = '--')\n",
    "plt.axhline(y = 1, color = 'gold', linestyle = '--')\n",
    "plt.title('F1 SCORE')\n",
    "plt.show()"
   ]
  },
  {
   "cell_type": "markdown",
   "metadata": {},
   "source": [
    "RandomForestClassifier c BERT, на тестовой выборке:\n",
    "* Прошла тест на адекватность в сравнении со статичными моделями.\n",
    "* Прошла порог точности F1> 0.75 с точностью F1 = 0.918"
   ]
  },
  {
   "cell_type": "markdown",
   "metadata": {},
   "source": [
    "## Итог проекта:"
   ]
  },
  {
   "cell_type": "markdown",
   "metadata": {},
   "source": [
    "* В выборке, предоставленной заказчиком обнаружен дисбаланс классов."
   ]
  },
  {
   "cell_type": "markdown",
   "metadata": {},
   "source": [
    "Для классификации токсичных комментариев магазина \"Викишоп\" были рассмотрены следующие модели:\n",
    "* Logistic Regression\n",
    "* Decission Tree Classifier\n",
    "* Random Forest Classifier \n",
    "\n",
    "На следующих преобразованиях\n",
    "* TF-IDF.\n",
    "* TF-IDF c измененным балансом классов(Downsampling).\n",
    "* BERT (toxic-bert) предобученная специально под похожую данной задачу."
   ]
  },
  {
   "cell_type": "markdown",
   "metadata": {},
   "source": [
    "Среди рассмотренных моделей, для классификации токсичных комментариев магазина \"Викишоп\", наилучшей себя зарекомендовала:\n",
    "\n",
    "* Базовая Модель **RandomForestClassifier** в связке с **TOXIC-BERT**(предобученной для разметки токсичных комментариев)\n",
    "\n",
    "* Точность модели по метрике F1 score на следующих выборках составила:\n",
    "1. Train = 0.925\n",
    "3. Test = 0.927"
   ]
  }
 ],
 "metadata": {
  "ExecuteTimeLog": [
   {
    "duration": 3203,
    "start_time": "2024-02-17T08:13:19.992Z"
   },
   {
    "duration": 0,
    "start_time": "2024-02-17T08:13:23.196Z"
   },
   {
    "duration": 53,
    "start_time": "2024-02-17T08:15:36.653Z"
   },
   {
    "duration": 13,
    "start_time": "2024-02-23T11:15:04.599Z"
   },
   {
    "duration": 17732,
    "start_time": "2024-02-23T11:15:05.275Z"
   },
   {
    "duration": 2201,
    "start_time": "2024-02-23T11:15:23.009Z"
   }
  ],
  "kernelspec": {
   "display_name": "Python 3 (ipykernel)",
   "language": "python",
   "name": "python3"
  },
  "language_info": {
   "codemirror_mode": {
    "name": "ipython",
    "version": 3
   },
   "file_extension": ".py",
   "mimetype": "text/x-python",
   "name": "python",
   "nbconvert_exporter": "python",
   "pygments_lexer": "ipython3",
   "version": "3.9.5"
  },
  "toc": {
   "base_numbering": 1,
   "nav_menu": {},
   "number_sections": true,
   "sideBar": true,
   "skip_h1_title": true,
   "title_cell": "Table of Contents",
   "title_sidebar": "Contents",
   "toc_cell": false,
   "toc_position": {},
   "toc_section_display": true,
   "toc_window_display": false
  }
 },
 "nbformat": 4,
 "nbformat_minor": 2
}

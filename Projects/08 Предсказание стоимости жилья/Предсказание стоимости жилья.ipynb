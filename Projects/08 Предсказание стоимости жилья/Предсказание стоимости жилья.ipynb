{
 "cells": [
  {
   "cell_type": "markdown",
   "id": "GEqQaHzsZ_bA",
   "metadata": {
    "id": "GEqQaHzsZ_bA"
   },
   "source": [
    "# Предсказание стоимости жилья\n",
    "\n",
    "Требуется обучить модель линейной регрессии на данных о жилье в Калифорнии в 1990 году. На основе данных нужно предсказать медианную стоимость дома в жилом массиве. Для оценки качества используются метрики RMSE, MAE, R2."
   ]
  },
  {
   "cell_type": "markdown",
   "id": "8a84297e",
   "metadata": {},
   "source": [
    "## Описание проекта"
   ]
  },
  {
   "cell_type": "markdown",
   "id": "cc33172a",
   "metadata": {},
   "source": [
    "### Columns:"
   ]
  },
  {
   "cell_type": "markdown",
   "id": "5f5038b5",
   "metadata": {},
   "source": [
    "* **longitude** — широта;\n",
    "* **latitude** — долгота;\n",
    "* **housing_median_age** — медианный возраст жителей жилого массива;\n",
    "* **total_rooms** — общее количество комнат в домах жилого массива;\n",
    "* **total_bedrooms** — общее количество спален в домах жилого массива;\n",
    "* **population** — количество человек, которые проживают в жилом массиве;\n",
    "* **households** — количество домовладений в жилом массиве;\n",
    "* **median_income** — медианный доход жителей жилого массива;\n",
    "* **median_house_value** — медианная стоимость дома в жилом массиве;\n",
    "* **ocean_proximity** — близость к океану."
   ]
  },
  {
   "cell_type": "markdown",
   "id": "6f43a885",
   "metadata": {},
   "source": [
    "### Задача:"
   ]
  },
  {
   "cell_type": "markdown",
   "id": "25c336af",
   "metadata": {},
   "source": [
    "Построить две модели линейной регресии на разных наборах данных.\n",
    "1. Модель, использующая все данные из файла.\n",
    "2. Модель, использующая только числовые переменные, исключая все категориальные. "
   ]
  },
  {
   "cell_type": "markdown",
   "id": "382a906c",
   "metadata": {},
   "source": [
    "Сравнить результат работы **Линейной регрессии** на двух наборах данных по метрикам:\n",
    "* **RMSE**\n",
    "* **MAE**\n",
    "* **R2**"
   ]
  },
  {
   "cell_type": "markdown",
   "id": "579e77d5",
   "metadata": {},
   "source": [
    "## Импорт, инициализация, чтение файлов."
   ]
  },
  {
   "cell_type": "markdown",
   "id": "4d18bc4c",
   "metadata": {},
   "source": [
    "### Импорт"
   ]
  },
  {
   "cell_type": "code",
   "execution_count": 1,
   "id": "add33cfd",
   "metadata": {},
   "outputs": [],
   "source": [
    "import pandas as pd\n",
    "import numpy as np\n",
    "import seaborn as sns\n",
    "\n",
    "import pyspark\n",
    "from pyspark.sql import SparkSession\n",
    "from pyspark.sql.types import *\n",
    "import pyspark.sql.functions as F\n",
    "from pyspark.sql.functions import mean,col,split, col, regexp_extract, when, lit\n",
    "from pyspark.sql.functions import isnan\n",
    "\n",
    "\n",
    "from pyspark.ml.feature import StringIndexer, VectorAssembler, StandardScaler\n",
    "from pyspark.ml.regression  import LinearRegression\n",
    "from pyspark.ml.evaluation import RegressionEvaluator\n",
    "from pyspark.ml.feature import OneHotEncoder    \n",
    "\n",
    "RANDOM_SEED = 1667\n"
   ]
  },
  {
   "cell_type": "markdown",
   "id": "ceb93dd4",
   "metadata": {},
   "source": [
    "### Инициализация Spark сессии "
   ]
  },
  {
   "cell_type": "code",
   "execution_count": 2,
   "id": "35e06c02",
   "metadata": {},
   "outputs": [],
   "source": [
    "spark = SparkSession.builder \\\n",
    "                    .master(\"local\") \\\n",
    "                    .appName(\"EDA California Housing\") \\\n",
    "                    .getOrCreate()"
   ]
  },
  {
   "cell_type": "markdown",
   "id": "73774198",
   "metadata": {},
   "source": [
    "### Чтение содержимого файла housing.csv"
   ]
  },
  {
   "cell_type": "code",
   "execution_count": 3,
   "id": "7dd328bc",
   "metadata": {},
   "outputs": [
    {
     "name": "stderr",
     "output_type": "stream",
     "text": [
      "[Stage 1:>                                                          (0 + 1) / 1]\r"
     ]
    },
    {
     "name": "stdout",
     "output_type": "stream",
     "text": [
      "root\n",
      " |-- longitude: double (nullable = true)\n",
      " |-- latitude: double (nullable = true)\n",
      " |-- housing_median_age: double (nullable = true)\n",
      " |-- total_rooms: double (nullable = true)\n",
      " |-- total_bedrooms: double (nullable = true)\n",
      " |-- population: double (nullable = true)\n",
      " |-- households: double (nullable = true)\n",
      " |-- median_income: double (nullable = true)\n",
      " |-- median_house_value: double (nullable = true)\n",
      " |-- ocean_proximity: string (nullable = true)\n",
      "\n"
     ]
    },
    {
     "name": "stderr",
     "output_type": "stream",
     "text": [
      "                                                                                \r"
     ]
    }
   ],
   "source": [
    "dt_housing = spark.read.csv('/datasets/housing.csv', \\\n",
    "                             header = True, \\\n",
    "                             inferSchema = True)\n",
    "\n",
    "dt_housing.printSchema()"
   ]
  },
  {
   "cell_type": "markdown",
   "id": "e8691eb7",
   "metadata": {},
   "source": [
    "## EDA"
   ]
  },
  {
   "cell_type": "markdown",
   "id": "05d63890",
   "metadata": {},
   "source": [
    "### Первичный осмотр:"
   ]
  },
  {
   "cell_type": "code",
   "execution_count": 4,
   "id": "7c5aa8b8",
   "metadata": {},
   "outputs": [
    {
     "name": "stdout",
     "output_type": "stream",
     "text": [
      "               column    type\n",
      "0           longitude  double\n",
      "1            latitude  double\n",
      "2  housing_median_age  double\n",
      "3         total_rooms  double\n",
      "4      total_bedrooms  double\n",
      "5          population  double\n",
      "6          households  double\n",
      "7       median_income  double\n",
      "8  median_house_value  double\n",
      "9     ocean_proximity  string\n"
     ]
    }
   ],
   "source": [
    "print(pd.DataFrame(dt_housing.dtypes, columns=['column', 'type']).head(10))"
   ]
  },
  {
   "cell_type": "markdown",
   "id": "50ca99d7",
   "metadata": {},
   "source": [
    "Категориальные значения представлены только одной переменной: ocean_proximity"
   ]
  },
  {
   "cell_type": "code",
   "execution_count": 5,
   "id": "5cb0e53e",
   "metadata": {
    "scrolled": false
   },
   "outputs": [
    {
     "name": "stdout",
     "output_type": "stream",
     "text": [
      "+---------+--------+------------------+-----------+--------------+----------+----------+-------------+------------------+---------------+\n",
      "|longitude|latitude|housing_median_age|total_rooms|total_bedrooms|population|households|median_income|median_house_value|ocean_proximity|\n",
      "+---------+--------+------------------+-----------+--------------+----------+----------+-------------+------------------+---------------+\n",
      "|  -122.23|   37.88|              41.0|      880.0|         129.0|     322.0|     126.0|       8.3252|          452600.0|       NEAR BAY|\n",
      "|  -122.22|   37.86|              21.0|     7099.0|        1106.0|    2401.0|    1138.0|       8.3014|          358500.0|       NEAR BAY|\n",
      "|  -122.24|   37.85|              52.0|     1467.0|         190.0|     496.0|     177.0|       7.2574|          352100.0|       NEAR BAY|\n",
      "|  -122.25|   37.85|              52.0|     1274.0|         235.0|     558.0|     219.0|       5.6431|          341300.0|       NEAR BAY|\n",
      "|  -122.25|   37.85|              52.0|     1627.0|         280.0|     565.0|     259.0|       3.8462|          342200.0|       NEAR BAY|\n",
      "|  -122.25|   37.85|              52.0|      919.0|         213.0|     413.0|     193.0|       4.0368|          269700.0|       NEAR BAY|\n",
      "|  -122.25|   37.84|              52.0|     2535.0|         489.0|    1094.0|     514.0|       3.6591|          299200.0|       NEAR BAY|\n",
      "|  -122.25|   37.84|              52.0|     3104.0|         687.0|    1157.0|     647.0|         3.12|          241400.0|       NEAR BAY|\n",
      "|  -122.26|   37.84|              42.0|     2555.0|         665.0|    1206.0|     595.0|       2.0804|          226700.0|       NEAR BAY|\n",
      "|  -122.25|   37.84|              52.0|     3549.0|         707.0|    1551.0|     714.0|       3.6912|          261100.0|       NEAR BAY|\n",
      "+---------+--------+------------------+-----------+--------------+----------+----------+-------------+------------------+---------------+\n",
      "only showing top 10 rows\n",
      "\n"
     ]
    }
   ],
   "source": [
    "dt_housing.show(10)"
   ]
  },
  {
   "cell_type": "code",
   "execution_count": 7,
   "id": "b0c72d79",
   "metadata": {},
   "outputs": [
    {
     "name": "stdout",
     "output_type": "stream",
     "text": [
      "+-------+-------------------+-----------------+------------------+------------------+------------------+\n",
      "|summary|          longitude|         latitude|housing_median_age|       total_rooms|    total_bedrooms|\n",
      "+-------+-------------------+-----------------+------------------+------------------+------------------+\n",
      "|  count|              20640|            20640|             20640|             20640|             20433|\n",
      "|   mean|-119.56970445736148| 35.6318614341087|28.639486434108527|2635.7630813953488| 537.8705525375618|\n",
      "| stddev|  2.003531723502584|2.135952397457101| 12.58555761211163|2181.6152515827944|421.38507007403115|\n",
      "|    min|            -124.35|            32.54|               1.0|               2.0|               1.0|\n",
      "|    max|            -114.31|            41.95|              52.0|           39320.0|            6445.0|\n",
      "+-------+-------------------+-----------------+------------------+------------------+------------------+\n",
      "\n"
     ]
    }
   ],
   "source": [
    "dt_housing.select(['longitude',\n",
    " 'latitude',\n",
    " 'housing_median_age',\n",
    " 'total_rooms',\n",
    " 'total_bedrooms']).describe().show()"
   ]
  },
  {
   "cell_type": "code",
   "execution_count": 8,
   "id": "03ae975e",
   "metadata": {},
   "outputs": [
    {
     "name": "stderr",
     "output_type": "stream",
     "text": [
      "[Stage 5:>                                                          (0 + 1) / 1]\r"
     ]
    },
    {
     "name": "stdout",
     "output_type": "stream",
     "text": [
      "+-------+------------------+-----------------+------------------+------------------+---------------+\n",
      "|summary|        population|       households|     median_income|median_house_value|ocean_proximity|\n",
      "+-------+------------------+-----------------+------------------+------------------+---------------+\n",
      "|  count|             20640|            20640|             20640|             20640|          20640|\n",
      "|   mean|1425.4767441860465|499.5396802325581|3.8706710029070246|206855.81690891474|           null|\n",
      "| stddev|  1132.46212176534|382.3297528316098| 1.899821717945263|115395.61587441359|           null|\n",
      "|    min|               3.0|              1.0|            0.4999|           14999.0|      <1H OCEAN|\n",
      "|    max|           35682.0|           6082.0|           15.0001|          500001.0|     NEAR OCEAN|\n",
      "+-------+------------------+-----------------+------------------+------------------+---------------+\n",
      "\n"
     ]
    },
    {
     "name": "stderr",
     "output_type": "stream",
     "text": [
      "                                                                                \r"
     ]
    }
   ],
   "source": [
    "dt_housing.select(['population',\n",
    " 'households',\n",
    " 'median_income',\n",
    " 'median_house_value',\n",
    " 'ocean_proximity']).describe().show()"
   ]
  },
  {
   "cell_type": "markdown",
   "id": "4c9f304f",
   "metadata": {},
   "source": [
    "Иследуем данные на наличие пропусков:"
   ]
  },
  {
   "cell_type": "code",
   "execution_count": 9,
   "id": "4fd9598a",
   "metadata": {},
   "outputs": [
    {
     "name": "stdout",
     "output_type": "stream",
     "text": [
      "longitude 0\n",
      "latitude 0\n",
      "housing_median_age 0\n",
      "total_rooms 0\n",
      "total_bedrooms 207\n",
      "population 0\n",
      "households 0\n",
      "median_income 0\n",
      "median_house_value 0\n",
      "ocean_proximity 0\n"
     ]
    }
   ],
   "source": [
    "columns = dt_housing.columns\n",
    "\n",
    "\n",
    "for column in columns:\n",
    "    print(column, dt_housing.where(F.isnan(column) | F.col(column).isNull()).count())\n",
    "    "
   ]
  },
  {
   "cell_type": "markdown",
   "id": "f8850404",
   "metadata": {},
   "source": [
    "~~Т.к. пропущенные значения не составляют значительный объем - удалим строки содержащие пропуски.~~"
   ]
  },
  {
   "cell_type": "code",
   "execution_count": 10,
   "id": "55bfae2e",
   "metadata": {},
   "outputs": [],
   "source": [
    "dt_housing = dt_housing.na.fill({\"total_bedrooms\" : int(dt_housing.select(F.mean(\"total_bedrooms\")).collect()[0][0]) })"
   ]
  },
  {
   "cell_type": "markdown",
   "id": "53871372",
   "metadata": {
    "id": "53871372"
   },
   "source": [
    "## Подготовка данных"
   ]
  },
  {
   "cell_type": "markdown",
   "id": "2275e075",
   "metadata": {},
   "source": [
    "### Разделение данных"
   ]
  },
  {
   "cell_type": "code",
   "execution_count": 11,
   "id": "df92e3ec",
   "metadata": {
    "id": "df92e3ec"
   },
   "outputs": [],
   "source": [
    "cat_col = ['ocean_proximity']\n",
    "num_col = ['longitude','latitude','housing_median_age','total_rooms','total_bedrooms','population','households','median_income']\n",
    "target = 'median_house_value'"
   ]
  },
  {
   "cell_type": "markdown",
   "id": "6380dbfa",
   "metadata": {},
   "source": [
    "### Трансформация категориальных признаков"
   ]
  },
  {
   "cell_type": "code",
   "execution_count": 12,
   "id": "37a184d0",
   "metadata": {},
   "outputs": [
    {
     "name": "stderr",
     "output_type": "stream",
     "text": [
      "                                                                                \r"
     ]
    },
    {
     "name": "stdout",
     "output_type": "stream",
     "text": [
      "+---------------+-------------------+\n",
      "|ocean_proximity|ocean_proximity_idx|\n",
      "+---------------+-------------------+\n",
      "|       NEAR BAY|                3.0|\n",
      "|       NEAR BAY|                3.0|\n",
      "|       NEAR BAY|                3.0|\n",
      "+---------------+-------------------+\n",
      "only showing top 3 rows\n",
      "\n"
     ]
    }
   ],
   "source": [
    "indexer = StringIndexer(inputCols = cat_col,\n",
    "                       outputCols = [c+'_idx' for c in cat_col])\n",
    "\n",
    "dt_housing = indexer.fit(dt_housing).transform(dt_housing)\n",
    "\n",
    "cols = [c for c in dt_housing.columns for i in cat_col if (c.startswith(i))]\n",
    "\n",
    "dt_housing.select(cols).show(3)"
   ]
  },
  {
   "cell_type": "code",
   "execution_count": 13,
   "id": "5c6cb39d",
   "metadata": {
    "scrolled": true
   },
   "outputs": [
    {
     "name": "stdout",
     "output_type": "stream",
     "text": [
      "+---------------+-------------------+-------------------+\n",
      "|ocean_proximity|ocean_proximity_idx|ocean_proximity_ohe|\n",
      "+---------------+-------------------+-------------------+\n",
      "|       NEAR BAY|                3.0|      (4,[3],[1.0])|\n",
      "|       NEAR BAY|                3.0|      (4,[3],[1.0])|\n",
      "|       NEAR BAY|                3.0|      (4,[3],[1.0])|\n",
      "+---------------+-------------------+-------------------+\n",
      "only showing top 3 rows\n",
      "\n"
     ]
    }
   ],
   "source": [
    "encoder = OneHotEncoder(inputCols = [c+'_idx' for c in cat_col],\n",
    "                       outputCols = [c+'_ohe' for c in cat_col])\n",
    "\n",
    "dt_housing = encoder.fit(dt_housing).transform(dt_housing)\n",
    "\n",
    "cols = [c for c in dt_housing.columns for i in cat_col if (c.startswith(i))]\n",
    "\n",
    "dt_housing.select(cols).show(3)"
   ]
  },
  {
   "cell_type": "markdown",
   "id": "15bfba67",
   "metadata": {},
   "source": [
    "Объединяем признаки в один вектор, с которым алгоритм умеет работать."
   ]
  },
  {
   "cell_type": "code",
   "execution_count": 14,
   "id": "80b9f296",
   "metadata": {},
   "outputs": [],
   "source": [
    "categorical_assembler = \\\n",
    "                        VectorAssembler(inputCols = [c+'_ohe' for c in cat_col],\n",
    "                                                       outputCol = 'categorial_features')\n",
    "\n",
    "dt_housing = categorical_assembler.transform(dt_housing)"
   ]
  },
  {
   "cell_type": "code",
   "execution_count": 15,
   "id": "17381287",
   "metadata": {},
   "outputs": [
    {
     "data": {
      "text/html": [
       "<div>\n",
       "<style scoped>\n",
       "    .dataframe tbody tr th:only-of-type {\n",
       "        vertical-align: middle;\n",
       "    }\n",
       "\n",
       "    .dataframe tbody tr th {\n",
       "        vertical-align: top;\n",
       "    }\n",
       "\n",
       "    .dataframe thead th {\n",
       "        text-align: right;\n",
       "    }\n",
       "</style>\n",
       "<table border=\"1\" class=\"dataframe\">\n",
       "  <thead>\n",
       "    <tr style=\"text-align: right;\">\n",
       "      <th></th>\n",
       "      <th>categorial_features</th>\n",
       "    </tr>\n",
       "  </thead>\n",
       "  <tbody>\n",
       "    <tr>\n",
       "      <th>0</th>\n",
       "      <td>(0.0, 0.0, 0.0, 1.0)</td>\n",
       "    </tr>\n",
       "    <tr>\n",
       "      <th>1</th>\n",
       "      <td>(0.0, 0.0, 0.0, 1.0)</td>\n",
       "    </tr>\n",
       "    <tr>\n",
       "      <th>2</th>\n",
       "      <td>(0.0, 0.0, 0.0, 1.0)</td>\n",
       "    </tr>\n",
       "    <tr>\n",
       "      <th>3</th>\n",
       "      <td>(0.0, 0.0, 0.0, 1.0)</td>\n",
       "    </tr>\n",
       "    <tr>\n",
       "      <th>4</th>\n",
       "      <td>(0.0, 0.0, 0.0, 1.0)</td>\n",
       "    </tr>\n",
       "  </tbody>\n",
       "</table>\n",
       "</div>"
      ],
      "text/plain": [
       "    categorial_features\n",
       "0  (0.0, 0.0, 0.0, 1.0)\n",
       "1  (0.0, 0.0, 0.0, 1.0)\n",
       "2  (0.0, 0.0, 0.0, 1.0)\n",
       "3  (0.0, 0.0, 0.0, 1.0)\n",
       "4  (0.0, 0.0, 0.0, 1.0)"
      ]
     },
     "execution_count": 15,
     "metadata": {},
     "output_type": "execute_result"
    }
   ],
   "source": [
    "dt_housing.select('categorial_features').toPandas().head()"
   ]
  },
  {
   "cell_type": "markdown",
   "id": "f568c095",
   "metadata": {},
   "source": [
    "### Стандартизация числовых признаков"
   ]
  },
  {
   "cell_type": "markdown",
   "id": "28813a53",
   "metadata": {},
   "source": [
    "Произведем шкалирование значений, чтобы сильные выбросы не смещали предсказания модели."
   ]
  },
  {
   "cell_type": "code",
   "execution_count": 16,
   "id": "ea5f733b",
   "metadata": {},
   "outputs": [
    {
     "name": "stderr",
     "output_type": "stream",
     "text": [
      "                                                                                \r"
     ]
    }
   ],
   "source": [
    "numerical_assembler = VectorAssembler(inputCols=num_col, outputCol=\"numerical_features\")\n",
    "dt_housing = numerical_assembler.transform(dt_housing)\n",
    "\n",
    "\n",
    "standardScaler = StandardScaler(inputCol='numerical_features',outputCol=\"numerical_features_scaled\")\n",
    "dt_housing = standardScaler.fit(dt_housing).transform(dt_housing) "
   ]
  },
  {
   "cell_type": "markdown",
   "id": "667e15f4",
   "metadata": {},
   "source": [
    "### Объединение категориальных и числовых значений"
   ]
  },
  {
   "cell_type": "code",
   "execution_count": 17,
   "id": "7948711b",
   "metadata": {
    "scrolled": true
   },
   "outputs": [
    {
     "name": "stdout",
     "output_type": "stream",
     "text": [
      "+-------------------+-------------------------+\n",
      "|categorial_features|numerical_features_scaled|\n",
      "+-------------------+-------------------------+\n",
      "|      (4,[3],[1.0])|     [-61.007269596069...|\n",
      "|      (4,[3],[1.0])|     [-61.002278409814...|\n",
      "|      (4,[3],[1.0])|     [-61.012260782324...|\n",
      "+-------------------+-------------------------+\n",
      "only showing top 3 rows\n",
      "\n"
     ]
    }
   ],
   "source": [
    "all_features = ['categorial_features','numerical_features_scaled']\n",
    "\n",
    "final_assembler = VectorAssembler(inputCols = all_features,\n",
    "                                  outputCol = \"features\")\n",
    "\n",
    "dt_housing = final_assembler.transform(dt_housing)\n",
    "\n",
    "dt_housing.select(all_features).show(3)"
   ]
  },
  {
   "cell_type": "markdown",
   "id": "0628fb1e",
   "metadata": {},
   "source": [
    "### Разбиение на выборки "
   ]
  },
  {
   "cell_type": "code",
   "execution_count": 18,
   "id": "24855e8d",
   "metadata": {},
   "outputs": [
    {
     "name": "stderr",
     "output_type": "stream",
     "text": [
      "[Stage 39:>                                                         (0 + 1) / 1]\r"
     ]
    },
    {
     "name": "stdout",
     "output_type": "stream",
     "text": [
      "16534 4106\n"
     ]
    },
    {
     "name": "stderr",
     "output_type": "stream",
     "text": [
      "                                                                                \r"
     ]
    }
   ],
   "source": [
    "train_dt, test_dt = dt_housing.randomSplit([.8,.2], seed = RANDOM_SEED)\n",
    "\n",
    "print(train_dt.count(), test_dt.count())"
   ]
  },
  {
   "cell_type": "markdown",
   "id": "9f0a82f3",
   "metadata": {
    "id": "9f0a82f3"
   },
   "source": [
    "## Обучение моделей"
   ]
  },
  {
   "cell_type": "code",
   "execution_count": 19,
   "id": "ae8fb094",
   "metadata": {},
   "outputs": [],
   "source": [
    "def lr(features):\n",
    "    linreg = LinearRegression(labelCol=  target, featuresCol = features)\n",
    "    model = linreg.fit(train_dt)\n",
    "    return model.transform(test_dt)"
   ]
  },
  {
   "cell_type": "code",
   "execution_count": 20,
   "id": "7e21440a",
   "metadata": {},
   "outputs": [
    {
     "name": "stderr",
     "output_type": "stream",
     "text": [
      "23/07/27 15:31:03 WARN Instrumentation: [195d8b03] regParam is zero, which might cause numerical instability and overfitting.\n",
      "23/07/27 15:31:04 WARN BLAS: Failed to load implementation from: com.github.fommil.netlib.NativeSystemBLAS\n",
      "23/07/27 15:31:04 WARN BLAS: Failed to load implementation from: com.github.fommil.netlib.NativeRefBLAS\n",
      "23/07/27 15:31:04 WARN LAPACK: Failed to load implementation from: com.github.fommil.netlib.NativeSystemLAPACK\n",
      "23/07/27 15:31:04 WARN LAPACK: Failed to load implementation from: com.github.fommil.netlib.NativeRefLAPACK\n",
      "23/07/27 15:31:07 WARN Instrumentation: [0e29f303] regParam is zero, which might cause numerical instability and overfitting.\n",
      "                                                                                \r"
     ]
    }
   ],
   "source": [
    "predictions_all = lr('features')\n",
    "predictions_num = lr('numerical_features_scaled')"
   ]
  },
  {
   "cell_type": "markdown",
   "id": "483012c9",
   "metadata": {},
   "source": [
    "### ~~LinearRegression all features~~"
   ]
  },
  {
   "cell_type": "markdown",
   "id": "f18fa0f7",
   "metadata": {},
   "source": [
    "~~lr_all = LinearRegression(labelCol=  target, featuresCol = 'features')~~\n",
    "\n",
    "~~model = lr_all.fit(train_dt)~~\n",
    "\n",
    "~~predictions_all = model.transform(test_dt)~~"
   ]
  },
  {
   "cell_type": "markdown",
   "id": "5d0763f2",
   "metadata": {},
   "source": [
    "### ~~LinearRegression numeral features~~"
   ]
  },
  {
   "cell_type": "markdown",
   "id": "7251662e",
   "metadata": {},
   "source": [
    "~~lr_num = LinearRegression(labelCol = target, featuresCol = 'numerical_features_scaled')~~\n",
    "\n",
    "~~model_num = lr_num.fit(train_dt)~~\n",
    "\n",
    "~~predictions_num = model_num.transform(test_dt)~~"
   ]
  },
  {
   "cell_type": "markdown",
   "id": "757fd103",
   "metadata": {
    "id": "757fd103"
   },
   "source": [
    "## Анализ результатов"
   ]
  },
  {
   "cell_type": "code",
   "execution_count": 21,
   "id": "9081e59b",
   "metadata": {},
   "outputs": [],
   "source": [
    "evl = RegressionEvaluator(predictionCol = 'prediction', labelCol = target)"
   ]
  },
  {
   "cell_type": "markdown",
   "id": "d7f25263",
   "metadata": {},
   "source": [
    "### MAE"
   ]
  },
  {
   "cell_type": "markdown",
   "id": "826f4f1a",
   "metadata": {},
   "source": [
    "Mean Absolute Error \n",
    "\n",
    "Сумма абсолютных отклонений деленая на их количество. \n",
    "\n",
    "\n",
    "Представляет из себя разницу между предсказанием и фактическим значением целевого признака, деленого на количество объектов в выборке.\n",
    "\n",
    "\n",
    "**Меньше - Лучше**"
   ]
  },
  {
   "cell_type": "markdown",
   "id": "f87a7381",
   "metadata": {},
   "source": [
    "#### All features"
   ]
  },
  {
   "cell_type": "code",
   "execution_count": 22,
   "id": "1148025b",
   "metadata": {},
   "outputs": [
    {
     "name": "stderr",
     "output_type": "stream",
     "text": [
      "                                                                                \r"
     ]
    },
    {
     "data": {
      "text/plain": [
       "50459.79702608826"
      ]
     },
     "execution_count": 22,
     "metadata": {},
     "output_type": "execute_result"
    }
   ],
   "source": [
    "evl.evaluate(predictions_all, {evl.metricName: \"mae\"})"
   ]
  },
  {
   "cell_type": "markdown",
   "id": "348ba17a",
   "metadata": {},
   "source": [
    "#### Numeral features"
   ]
  },
  {
   "cell_type": "code",
   "execution_count": 23,
   "id": "19a1f20e",
   "metadata": {},
   "outputs": [
    {
     "data": {
      "text/plain": [
       "51371.87883495836"
      ]
     },
     "execution_count": 23,
     "metadata": {},
     "output_type": "execute_result"
    }
   ],
   "source": [
    "evl.evaluate(predictions_num, {evl.metricName: \"mae\"})"
   ]
  },
  {
   "cell_type": "markdown",
   "id": "ca5360c3",
   "metadata": {},
   "source": [
    "### RMSE"
   ]
  },
  {
   "cell_type": "markdown",
   "id": "c3b704bb",
   "metadata": {},
   "source": [
    "Root Mean Squared Error\n",
    "\n",
    "Корень из среднеквадратичной ошибки.\n",
    "\n",
    "**Меньше - Лучше**"
   ]
  },
  {
   "cell_type": "markdown",
   "id": "10de7bfb",
   "metadata": {},
   "source": [
    "#### All features"
   ]
  },
  {
   "cell_type": "code",
   "execution_count": 24,
   "id": "7b2eb771",
   "metadata": {},
   "outputs": [
    {
     "data": {
      "text/plain": [
       "69091.58232451446"
      ]
     },
     "execution_count": 24,
     "metadata": {},
     "output_type": "execute_result"
    }
   ],
   "source": [
    "evl.evaluate(predictions_all, {evl.metricName: \"rmse\"})"
   ]
  },
  {
   "cell_type": "markdown",
   "id": "9b327e45",
   "metadata": {},
   "source": [
    "#### Numeral features"
   ]
  },
  {
   "cell_type": "code",
   "execution_count": 25,
   "id": "59e44487",
   "metadata": {},
   "outputs": [
    {
     "name": "stderr",
     "output_type": "stream",
     "text": [
      "                                                                                \r"
     ]
    },
    {
     "data": {
      "text/plain": [
       "69706.51542299568"
      ]
     },
     "execution_count": 25,
     "metadata": {},
     "output_type": "execute_result"
    }
   ],
   "source": [
    "evl.evaluate(predictions_num, {evl.metricName: \"rmse\"})"
   ]
  },
  {
   "cell_type": "markdown",
   "id": "31a5b1ba",
   "metadata": {},
   "source": [
    "### R2"
   ]
  },
  {
   "cell_type": "markdown",
   "id": "06b1c2f7",
   "metadata": {},
   "source": [
    "Coefficient of determination\n",
    "\n",
    "\n",
    "Вычисляет долю средней квадратичной ошибки модели от MSE среднего, а затем вычитает эту величину из единицы. Увеличение метрики означает прирост качества модели. \n",
    "\n",
    "\n",
    "**Больше - лучше**"
   ]
  },
  {
   "cell_type": "markdown",
   "id": "70a33c87",
   "metadata": {},
   "source": [
    "#### All features"
   ]
  },
  {
   "cell_type": "code",
   "execution_count": 26,
   "id": "dd139913",
   "metadata": {},
   "outputs": [
    {
     "data": {
      "text/plain": [
       "0.6491925920813164"
      ]
     },
     "execution_count": 26,
     "metadata": {},
     "output_type": "execute_result"
    }
   ],
   "source": [
    "evl.evaluate(predictions_all, {evl.metricName: \"r2\"})"
   ]
  },
  {
   "cell_type": "markdown",
   "id": "496e2f96",
   "metadata": {},
   "source": [
    "#### Numeral features"
   ]
  },
  {
   "cell_type": "code",
   "execution_count": 27,
   "id": "4e9456c6",
   "metadata": {
    "scrolled": true
   },
   "outputs": [
    {
     "name": "stderr",
     "output_type": "stream",
     "text": [
      "                                                                                \r"
     ]
    },
    {
     "data": {
      "text/plain": [
       "0.642920248189606"
      ]
     },
     "execution_count": 27,
     "metadata": {},
     "output_type": "execute_result"
    }
   ],
   "source": [
    "evl.evaluate(predictions_num, {evl.metricName: \"r2\"})"
   ]
  },
  {
   "cell_type": "code",
   "execution_count": 28,
   "id": "69bcae62",
   "metadata": {},
   "outputs": [],
   "source": [
    "spark.stop() "
   ]
  },
  {
   "cell_type": "markdown",
   "id": "4736854e",
   "metadata": {},
   "source": [
    "## Итоговый вывод "
   ]
  },
  {
   "cell_type": "markdown",
   "id": "1b30d0d8",
   "metadata": {},
   "source": [
    "В рамках проекта были:\n",
    "* Инициализирована локальная Spark-сессия\n",
    "* Предобработаны данные\n",
    "* Категориальные признаки закодированы как числовые\n",
    "* Стандартезированы количественные признаки"
   ]
  },
  {
   "cell_type": "markdown",
   "id": "e59c5fbe",
   "metadata": {},
   "source": [
    "* Используя метрики **RMSE**, **MAE** и **R2** было выполнено сравнение эффективности использования категориальных переменных в модели Линейной Регрессии, где для моделей использованы следующие наборы данных:\n",
    "1. Весь набор переменных.\n",
    "2. Набор использующий для обучения только числовые переменные, исключая категориальные."
   ]
  },
  {
   "cell_type": "markdown",
   "id": "6a8579c0",
   "metadata": {},
   "source": [
    "Итого:\n",
    "\n",
    "**На основе всех, трёх, метрик - наибольшую эффективность показывает модели использующая все доступные данные(т.е. категориальные и числовые переменные).**"
   ]
  }
 ],
 "metadata": {
  "ExecuteTimeLog": [
   {
    "duration": 1366,
    "start_time": "2023-07-22T14:27:44.668Z"
   },
   {
    "duration": 4,
    "start_time": "2023-07-22T14:27:55.059Z"
   },
   {
    "duration": 14911,
    "start_time": "2023-07-22T14:28:42.660Z"
   },
   {
    "duration": 8152,
    "start_time": "2023-07-22T14:32:10.220Z"
   },
   {
    "duration": 847,
    "start_time": "2023-07-22T14:32:28.715Z"
   },
   {
    "duration": 780,
    "start_time": "2023-07-22T14:33:16.106Z"
   },
   {
    "duration": 15,
    "start_time": "2023-07-22T14:38:14.125Z"
   },
   {
    "duration": 34,
    "start_time": "2023-07-22T14:38:20.694Z"
   },
   {
    "duration": 11,
    "start_time": "2023-07-22T14:38:31.875Z"
   },
   {
    "duration": 596,
    "start_time": "2023-07-22T14:38:35.376Z"
   },
   {
    "duration": 9,
    "start_time": "2023-07-22T14:41:27.549Z"
   },
   {
    "duration": 1244,
    "start_time": "2023-07-22T14:41:33.350Z"
   },
   {
    "duration": 10,
    "start_time": "2023-07-22T14:48:15.028Z"
   },
   {
    "duration": 6596,
    "start_time": "2023-07-22T14:48:25.978Z"
   },
   {
    "duration": 4122,
    "start_time": "2023-07-22T14:48:59.845Z"
   },
   {
    "duration": 25,
    "start_time": "2023-07-22T15:08:33.562Z"
   },
   {
    "duration": 3206,
    "start_time": "2023-07-22T15:08:41.765Z"
   },
   {
    "duration": 12,
    "start_time": "2023-07-22T15:09:04.127Z"
   },
   {
    "duration": 4502,
    "start_time": "2023-07-22T15:09:17.857Z"
   },
   {
    "duration": 3594,
    "start_time": "2023-07-22T15:09:42.850Z"
   },
   {
    "duration": 37,
    "start_time": "2023-07-22T15:10:10.766Z"
   },
   {
    "duration": 2,
    "start_time": "2023-07-22T18:27:09.361Z"
   },
   {
    "duration": 2331,
    "start_time": "2023-07-22T18:32:32.041Z"
   },
   {
    "duration": 306,
    "start_time": "2023-07-22T18:39:11.806Z"
   },
   {
    "duration": 122,
    "start_time": "2023-07-22T18:39:20.234Z"
   },
   {
    "duration": 1235,
    "start_time": "2023-07-22T18:39:39.510Z"
   },
   {
    "duration": 15341,
    "start_time": "2023-07-22T18:39:40.748Z"
   },
   {
    "duration": 9085,
    "start_time": "2023-07-22T18:39:56.091Z"
   },
   {
    "duration": 89,
    "start_time": "2023-07-22T18:40:05.178Z"
   },
   {
    "duration": 690,
    "start_time": "2023-07-22T18:40:05.269Z"
   },
   {
    "duration": 1129,
    "start_time": "2023-07-22T18:40:05.961Z"
   },
   {
    "duration": 6182,
    "start_time": "2023-07-22T18:40:07.092Z"
   },
   {
    "duration": 5471,
    "start_time": "2023-07-22T18:40:13.276Z"
   },
   {
    "duration": 3761,
    "start_time": "2023-07-22T18:40:18.749Z"
   },
   {
    "duration": 66,
    "start_time": "2023-07-22T18:40:22.512Z"
   },
   {
    "duration": 3,
    "start_time": "2023-07-22T18:40:22.580Z"
   },
   {
    "duration": 1976,
    "start_time": "2023-07-22T18:40:22.584Z"
   },
   {
    "duration": 618,
    "start_time": "2023-07-22T18:40:24.562Z"
   },
   {
    "duration": 2037,
    "start_time": "2023-07-22T18:45:18.558Z"
   },
   {
    "duration": 52,
    "start_time": "2023-07-22T18:58:05.147Z"
   },
   {
    "duration": 121,
    "start_time": "2023-07-22T19:04:33.445Z"
   },
   {
    "duration": 4,
    "start_time": "2023-07-22T19:04:51.318Z"
   },
   {
    "duration": 32,
    "start_time": "2023-07-22T19:05:19.319Z"
   },
   {
    "duration": 147,
    "start_time": "2023-07-22T19:05:20.415Z"
   },
   {
    "duration": 798,
    "start_time": "2023-07-22T19:06:38.019Z"
   },
   {
    "duration": 1218,
    "start_time": "2023-07-22T19:06:57.642Z"
   },
   {
    "duration": 15238,
    "start_time": "2023-07-22T19:06:58.862Z"
   },
   {
    "duration": 8782,
    "start_time": "2023-07-22T19:07:14.102Z"
   },
   {
    "duration": 97,
    "start_time": "2023-07-22T19:07:22.886Z"
   },
   {
    "duration": 774,
    "start_time": "2023-07-22T19:07:22.985Z"
   },
   {
    "duration": 1237,
    "start_time": "2023-07-22T19:07:23.761Z"
   },
   {
    "duration": 6001,
    "start_time": "2023-07-22T19:07:25.000Z"
   },
   {
    "duration": 5183,
    "start_time": "2023-07-22T19:07:31.002Z"
   },
   {
    "duration": 3734,
    "start_time": "2023-07-22T19:07:36.187Z"
   },
   {
    "duration": 57,
    "start_time": "2023-07-22T19:07:39.923Z"
   },
   {
    "duration": 4,
    "start_time": "2023-07-22T19:07:39.982Z"
   },
   {
    "duration": 1808,
    "start_time": "2023-07-22T19:07:40.058Z"
   },
   {
    "duration": 1101,
    "start_time": "2023-07-22T19:07:41.868Z"
   },
   {
    "duration": 615,
    "start_time": "2023-07-22T19:07:42.972Z"
   },
   {
    "duration": 104,
    "start_time": "2023-07-22T19:07:43.588Z"
   },
   {
    "duration": 96,
    "start_time": "2023-07-22T19:07:43.694Z"
   },
   {
    "duration": 1057,
    "start_time": "2023-07-22T19:07:43.860Z"
   },
   {
    "duration": 0,
    "start_time": "2023-07-22T19:07:44.919Z"
   },
   {
    "duration": 351,
    "start_time": "2023-07-22T19:10:41.613Z"
   },
   {
    "duration": 1149,
    "start_time": "2023-07-22T19:11:08.614Z"
   },
   {
    "duration": 15329,
    "start_time": "2023-07-22T19:11:09.765Z"
   },
   {
    "duration": 9272,
    "start_time": "2023-07-22T19:11:25.096Z"
   },
   {
    "duration": 31,
    "start_time": "2023-07-22T19:11:34.370Z"
   },
   {
    "duration": 713,
    "start_time": "2023-07-22T19:11:34.458Z"
   },
   {
    "duration": 1209,
    "start_time": "2023-07-22T19:11:35.173Z"
   },
   {
    "duration": 6103,
    "start_time": "2023-07-22T19:11:36.383Z"
   },
   {
    "duration": 5592,
    "start_time": "2023-07-22T19:11:42.487Z"
   },
   {
    "duration": 3878,
    "start_time": "2023-07-22T19:11:48.081Z"
   },
   {
    "duration": 102,
    "start_time": "2023-07-22T19:11:51.961Z"
   },
   {
    "duration": 5,
    "start_time": "2023-07-22T19:11:52.065Z"
   },
   {
    "duration": 1870,
    "start_time": "2023-07-22T19:11:52.071Z"
   },
   {
    "duration": 1063,
    "start_time": "2023-07-22T19:11:53.960Z"
   },
   {
    "duration": 739,
    "start_time": "2023-07-22T19:11:55.026Z"
   },
   {
    "duration": 101,
    "start_time": "2023-07-22T19:11:55.767Z"
   },
   {
    "duration": 28,
    "start_time": "2023-07-22T19:11:55.870Z"
   },
   {
    "duration": 1069,
    "start_time": "2023-07-22T19:11:55.900Z"
   },
   {
    "duration": 0,
    "start_time": "2023-07-22T19:11:56.971Z"
   },
   {
    "duration": 14,
    "start_time": "2023-07-22T19:12:51.613Z"
   },
   {
    "duration": 9,
    "start_time": "2023-07-22T19:13:04.380Z"
   },
   {
    "duration": 1331,
    "start_time": "2023-07-22T19:13:33.445Z"
   },
   {
    "duration": 15906,
    "start_time": "2023-07-22T19:13:34.778Z"
   },
   {
    "duration": 10017,
    "start_time": "2023-07-22T19:13:50.687Z"
   },
   {
    "duration": 79,
    "start_time": "2023-07-22T19:14:00.706Z"
   },
   {
    "duration": 873,
    "start_time": "2023-07-22T19:14:00.788Z"
   },
   {
    "duration": 1206,
    "start_time": "2023-07-22T19:14:01.663Z"
   },
   {
    "duration": 6888,
    "start_time": "2023-07-22T19:14:02.872Z"
   },
   {
    "duration": 5577,
    "start_time": "2023-07-22T19:14:09.762Z"
   },
   {
    "duration": 4079,
    "start_time": "2023-07-22T19:14:15.341Z"
   },
   {
    "duration": 58,
    "start_time": "2023-07-22T19:14:19.422Z"
   },
   {
    "duration": 3,
    "start_time": "2023-07-22T19:14:19.482Z"
   },
   {
    "duration": 2093,
    "start_time": "2023-07-22T19:14:19.486Z"
   },
   {
    "duration": 698,
    "start_time": "2023-07-22T19:14:21.581Z"
   },
   {
    "duration": 109,
    "start_time": "2023-07-22T19:14:22.282Z"
   },
   {
    "duration": 101,
    "start_time": "2023-07-22T19:14:22.393Z"
   },
   {
    "duration": 173,
    "start_time": "2023-07-22T19:14:22.496Z"
   },
   {
    "duration": 0,
    "start_time": "2023-07-22T19:14:22.671Z"
   },
   {
    "duration": 0,
    "start_time": "2023-07-22T19:14:22.673Z"
   },
   {
    "duration": 1228,
    "start_time": "2023-07-22T19:18:04.972Z"
   },
   {
    "duration": 15990,
    "start_time": "2023-07-22T19:18:06.202Z"
   },
   {
    "duration": 9280,
    "start_time": "2023-07-22T19:18:22.194Z"
   },
   {
    "duration": 92,
    "start_time": "2023-07-22T19:18:31.476Z"
   },
   {
    "duration": 806,
    "start_time": "2023-07-22T19:18:31.571Z"
   },
   {
    "duration": 1375,
    "start_time": "2023-07-22T19:18:32.379Z"
   },
   {
    "duration": 6699,
    "start_time": "2023-07-22T19:18:33.760Z"
   },
   {
    "duration": 5588,
    "start_time": "2023-07-22T19:18:40.461Z"
   },
   {
    "duration": 4026,
    "start_time": "2023-07-22T19:18:46.058Z"
   },
   {
    "duration": 92,
    "start_time": "2023-07-22T19:18:50.086Z"
   },
   {
    "duration": 4,
    "start_time": "2023-07-22T19:18:50.180Z"
   },
   {
    "duration": 2031,
    "start_time": "2023-07-22T19:18:50.186Z"
   },
   {
    "duration": 560,
    "start_time": "2023-07-22T19:18:52.219Z"
   },
   {
    "duration": 114,
    "start_time": "2023-07-22T19:18:52.782Z"
   },
   {
    "duration": 92,
    "start_time": "2023-07-22T19:18:52.898Z"
   },
   {
    "duration": 1285,
    "start_time": "2023-07-22T19:18:52.992Z"
   },
   {
    "duration": 0,
    "start_time": "2023-07-22T19:18:54.280Z"
   },
   {
    "duration": 1170,
    "start_time": "2023-07-22T19:20:25.511Z"
   },
   {
    "duration": 15290,
    "start_time": "2023-07-22T19:20:26.683Z"
   },
   {
    "duration": 8985,
    "start_time": "2023-07-22T19:20:41.975Z"
   },
   {
    "duration": 31,
    "start_time": "2023-07-22T19:20:50.962Z"
   },
   {
    "duration": 696,
    "start_time": "2023-07-22T19:20:50.995Z"
   },
   {
    "duration": 1293,
    "start_time": "2023-07-22T19:20:51.693Z"
   },
   {
    "duration": 6072,
    "start_time": "2023-07-22T19:20:52.988Z"
   },
   {
    "duration": 5434,
    "start_time": "2023-07-22T19:20:59.061Z"
   },
   {
    "duration": 3866,
    "start_time": "2023-07-22T19:21:04.500Z"
   },
   {
    "duration": 99,
    "start_time": "2023-07-22T19:21:08.368Z"
   },
   {
    "duration": 5,
    "start_time": "2023-07-22T19:21:08.469Z"
   },
   {
    "duration": 1943,
    "start_time": "2023-07-22T19:21:08.476Z"
   },
   {
    "duration": 561,
    "start_time": "2023-07-22T19:21:10.421Z"
   },
   {
    "duration": 105,
    "start_time": "2023-07-22T19:21:10.984Z"
   },
   {
    "duration": 91,
    "start_time": "2023-07-22T19:21:11.091Z"
   },
   {
    "duration": 889,
    "start_time": "2023-07-22T19:21:11.184Z"
   },
   {
    "duration": 0,
    "start_time": "2023-07-22T19:21:12.074Z"
   },
   {
    "duration": 584,
    "start_time": "2023-07-22T19:28:50.220Z"
   },
   {
    "duration": 466,
    "start_time": "2023-07-22T19:29:39.114Z"
   },
   {
    "duration": 233,
    "start_time": "2023-07-22T19:29:58.327Z"
   },
   {
    "duration": 438,
    "start_time": "2023-07-22T19:30:29.362Z"
   },
   {
    "duration": 1163,
    "start_time": "2023-07-22T19:30:56.497Z"
   },
   {
    "duration": 15531,
    "start_time": "2023-07-22T19:30:57.662Z"
   },
   {
    "duration": 8897,
    "start_time": "2023-07-22T19:31:13.196Z"
   },
   {
    "duration": 94,
    "start_time": "2023-07-22T19:31:22.094Z"
   },
   {
    "duration": 687,
    "start_time": "2023-07-22T19:31:22.190Z"
   },
   {
    "duration": 1306,
    "start_time": "2023-07-22T19:31:22.879Z"
   },
   {
    "duration": 6275,
    "start_time": "2023-07-22T19:31:24.186Z"
   },
   {
    "duration": 5132,
    "start_time": "2023-07-22T19:31:30.464Z"
   },
   {
    "duration": 3881,
    "start_time": "2023-07-22T19:31:35.597Z"
   },
   {
    "duration": 87,
    "start_time": "2023-07-22T19:31:39.479Z"
   },
   {
    "duration": 3,
    "start_time": "2023-07-22T19:31:39.568Z"
   },
   {
    "duration": 1858,
    "start_time": "2023-07-22T19:31:39.573Z"
   },
   {
    "duration": 523,
    "start_time": "2023-07-22T19:31:41.460Z"
   },
   {
    "duration": 90,
    "start_time": "2023-07-22T19:31:41.986Z"
   },
   {
    "duration": 2903,
    "start_time": "2023-07-22T19:31:42.078Z"
   },
   {
    "duration": 105,
    "start_time": "2023-07-22T19:31:44.982Z"
   },
   {
    "duration": 0,
    "start_time": "2023-07-22T19:31:45.089Z"
   },
   {
    "duration": 864,
    "start_time": "2023-07-22T19:31:55.645Z"
   },
   {
    "duration": 101,
    "start_time": "2023-07-22T19:32:24.505Z"
   },
   {
    "duration": 1252,
    "start_time": "2023-07-22T19:32:49.138Z"
   },
   {
    "duration": 16115,
    "start_time": "2023-07-22T19:32:50.393Z"
   },
   {
    "duration": 10020,
    "start_time": "2023-07-22T19:33:06.560Z"
   },
   {
    "duration": 95,
    "start_time": "2023-07-22T19:33:16.583Z"
   },
   {
    "duration": 798,
    "start_time": "2023-07-22T19:33:16.680Z"
   },
   {
    "duration": 1225,
    "start_time": "2023-07-22T19:33:17.481Z"
   },
   {
    "duration": 6173,
    "start_time": "2023-07-22T19:33:18.708Z"
   },
   {
    "duration": 5038,
    "start_time": "2023-07-22T19:33:24.882Z"
   },
   {
    "duration": 3923,
    "start_time": "2023-07-22T19:33:29.922Z"
   },
   {
    "duration": 114,
    "start_time": "2023-07-22T19:33:33.848Z"
   },
   {
    "duration": 3,
    "start_time": "2023-07-22T19:33:33.964Z"
   },
   {
    "duration": 2092,
    "start_time": "2023-07-22T19:33:33.969Z"
   },
   {
    "duration": 615,
    "start_time": "2023-07-22T19:33:36.063Z"
   },
   {
    "duration": 107,
    "start_time": "2023-07-22T19:33:36.680Z"
   },
   {
    "duration": 3224,
    "start_time": "2023-07-22T19:33:36.789Z"
   },
   {
    "duration": 263,
    "start_time": "2023-07-22T19:33:40.015Z"
   },
   {
    "duration": 0,
    "start_time": "2023-07-22T19:33:40.280Z"
   },
   {
    "duration": 1276,
    "start_time": "2023-07-22T19:35:53.899Z"
   },
   {
    "duration": 15413,
    "start_time": "2023-07-22T19:35:55.177Z"
   },
   {
    "duration": 8975,
    "start_time": "2023-07-22T19:36:10.591Z"
   },
   {
    "duration": 92,
    "start_time": "2023-07-22T19:36:19.568Z"
   },
   {
    "duration": 703,
    "start_time": "2023-07-22T19:36:19.663Z"
   },
   {
    "duration": 1315,
    "start_time": "2023-07-22T19:36:20.367Z"
   },
   {
    "duration": 6386,
    "start_time": "2023-07-22T19:36:21.684Z"
   },
   {
    "duration": 5507,
    "start_time": "2023-07-22T19:36:28.072Z"
   },
   {
    "duration": 3947,
    "start_time": "2023-07-22T19:36:33.581Z"
   },
   {
    "duration": 64,
    "start_time": "2023-07-22T19:36:37.529Z"
   },
   {
    "duration": 66,
    "start_time": "2023-07-22T19:36:37.595Z"
   },
   {
    "duration": 1909,
    "start_time": "2023-07-22T19:36:37.663Z"
   },
   {
    "duration": 694,
    "start_time": "2023-07-22T19:36:39.574Z"
   },
   {
    "duration": 104,
    "start_time": "2023-07-22T19:36:40.271Z"
   },
   {
    "duration": 3209,
    "start_time": "2023-07-22T19:36:40.378Z"
   },
   {
    "duration": 301,
    "start_time": "2023-07-22T19:36:43.589Z"
   },
   {
    "duration": 0,
    "start_time": "2023-07-22T19:36:43.892Z"
   },
   {
    "duration": 1307,
    "start_time": "2023-07-22T19:38:00.748Z"
   },
   {
    "duration": 15312,
    "start_time": "2023-07-22T19:38:02.058Z"
   },
   {
    "duration": 9012,
    "start_time": "2023-07-22T19:38:17.373Z"
   },
   {
    "duration": 90,
    "start_time": "2023-07-22T19:38:26.388Z"
   },
   {
    "duration": 691,
    "start_time": "2023-07-22T19:38:26.481Z"
   },
   {
    "duration": 1389,
    "start_time": "2023-07-22T19:38:27.174Z"
   },
   {
    "duration": 7143,
    "start_time": "2023-07-22T19:38:28.565Z"
   },
   {
    "duration": 5209,
    "start_time": "2023-07-22T19:38:35.760Z"
   },
   {
    "duration": 3894,
    "start_time": "2023-07-22T19:38:40.971Z"
   },
   {
    "duration": 36,
    "start_time": "2023-07-22T19:38:44.867Z"
   },
   {
    "duration": 3792,
    "start_time": "2023-07-22T19:38:44.904Z"
   },
   {
    "duration": 3,
    "start_time": "2023-07-22T19:38:48.698Z"
   },
   {
    "duration": 1648,
    "start_time": "2023-07-22T19:38:48.703Z"
   },
   {
    "duration": 535,
    "start_time": "2023-07-22T19:38:50.360Z"
   },
   {
    "duration": 46,
    "start_time": "2023-07-22T19:38:50.960Z"
   },
   {
    "duration": 3050,
    "start_time": "2023-07-22T19:38:51.059Z"
   },
   {
    "duration": 371,
    "start_time": "2023-07-22T19:38:54.111Z"
   },
   {
    "duration": 0,
    "start_time": "2023-07-22T19:38:54.484Z"
   },
   {
    "duration": 814,
    "start_time": "2023-07-22T19:41:47.298Z"
   },
   {
    "duration": 64,
    "start_time": "2023-07-22T19:43:04.769Z"
   },
   {
    "duration": 14,
    "start_time": "2023-07-22T19:49:27.233Z"
   },
   {
    "duration": 104,
    "start_time": "2023-07-22T19:50:17.698Z"
   },
   {
    "duration": 1260,
    "start_time": "2023-07-22T19:51:03.639Z"
   },
   {
    "duration": 14573,
    "start_time": "2023-07-22T19:51:04.901Z"
   },
   {
    "duration": 8713,
    "start_time": "2023-07-22T19:51:19.477Z"
   },
   {
    "duration": 97,
    "start_time": "2023-07-22T19:51:28.193Z"
   },
   {
    "duration": 698,
    "start_time": "2023-07-22T19:51:28.292Z"
   },
   {
    "duration": 1221,
    "start_time": "2023-07-22T19:51:29.058Z"
   },
   {
    "duration": 6688,
    "start_time": "2023-07-22T19:51:30.280Z"
   },
   {
    "duration": 5846,
    "start_time": "2023-07-22T19:51:36.971Z"
   },
   {
    "duration": 4126,
    "start_time": "2023-07-22T19:51:42.819Z"
   },
   {
    "duration": 35,
    "start_time": "2023-07-22T19:51:46.958Z"
   },
   {
    "duration": 3804,
    "start_time": "2023-07-22T19:51:47.059Z"
   },
   {
    "duration": 5,
    "start_time": "2023-07-22T19:51:50.866Z"
   },
   {
    "duration": 1701,
    "start_time": "2023-07-22T19:51:50.872Z"
   },
   {
    "duration": 602,
    "start_time": "2023-07-22T19:51:52.576Z"
   },
   {
    "duration": 93,
    "start_time": "2023-07-22T19:51:53.180Z"
   },
   {
    "duration": 2931,
    "start_time": "2023-07-22T19:51:53.275Z"
   },
   {
    "duration": 1021,
    "start_time": "2023-07-22T19:51:56.208Z"
   },
   {
    "duration": 0,
    "start_time": "2023-07-22T19:51:57.231Z"
   },
   {
    "duration": 1542,
    "start_time": "2023-07-22T19:54:17.833Z"
   },
   {
    "duration": 2543,
    "start_time": "2023-07-22T19:54:49.669Z"
   },
   {
    "duration": 137,
    "start_time": "2023-07-22T19:54:54.220Z"
   },
   {
    "duration": 1256,
    "start_time": "2023-07-22T19:55:07.835Z"
   },
   {
    "duration": 15878,
    "start_time": "2023-07-22T19:55:09.093Z"
   },
   {
    "duration": 9309,
    "start_time": "2023-07-22T19:55:24.973Z"
   },
   {
    "duration": 97,
    "start_time": "2023-07-22T19:55:34.284Z"
   },
   {
    "duration": 802,
    "start_time": "2023-07-22T19:55:34.384Z"
   },
   {
    "duration": 1353,
    "start_time": "2023-07-22T19:55:35.188Z"
   },
   {
    "duration": 6713,
    "start_time": "2023-07-22T19:55:36.563Z"
   },
   {
    "duration": 5620,
    "start_time": "2023-07-22T19:55:43.278Z"
   },
   {
    "duration": 4081,
    "start_time": "2023-07-22T19:55:48.900Z"
   },
   {
    "duration": 86,
    "start_time": "2023-07-22T19:55:52.983Z"
   },
   {
    "duration": 3645,
    "start_time": "2023-07-22T19:55:53.073Z"
   },
   {
    "duration": 43,
    "start_time": "2023-07-22T19:55:56.720Z"
   },
   {
    "duration": 1716,
    "start_time": "2023-07-22T19:55:56.765Z"
   },
   {
    "duration": 600,
    "start_time": "2023-07-22T19:55:58.484Z"
   },
   {
    "duration": 116,
    "start_time": "2023-07-22T19:55:59.085Z"
   },
   {
    "duration": 3792,
    "start_time": "2023-07-22T19:55:59.260Z"
   },
   {
    "duration": 2180,
    "start_time": "2023-07-22T19:56:03.054Z"
   },
   {
    "duration": 1001,
    "start_time": "2023-07-22T19:56:05.236Z"
   },
   {
    "duration": 1364,
    "start_time": "2023-07-22T19:56:53.350Z"
   },
   {
    "duration": 15878,
    "start_time": "2023-07-22T19:56:54.716Z"
   },
   {
    "duration": 9475,
    "start_time": "2023-07-22T19:57:10.596Z"
   },
   {
    "duration": 98,
    "start_time": "2023-07-22T19:57:20.073Z"
   },
   {
    "duration": 798,
    "start_time": "2023-07-22T19:57:20.175Z"
   },
   {
    "duration": 1331,
    "start_time": "2023-07-22T19:57:20.975Z"
   },
   {
    "duration": 6913,
    "start_time": "2023-07-22T19:57:22.360Z"
   },
   {
    "duration": 3993,
    "start_time": "2023-07-22T19:57:29.275Z"
   },
   {
    "duration": 145,
    "start_time": "2023-07-22T19:57:33.270Z"
   },
   {
    "duration": 0,
    "start_time": "2023-07-22T19:57:33.417Z"
   },
   {
    "duration": 0,
    "start_time": "2023-07-22T19:57:33.418Z"
   },
   {
    "duration": 0,
    "start_time": "2023-07-22T19:57:33.419Z"
   },
   {
    "duration": 0,
    "start_time": "2023-07-22T19:57:33.420Z"
   },
   {
    "duration": 1,
    "start_time": "2023-07-22T19:57:33.421Z"
   },
   {
    "duration": 0,
    "start_time": "2023-07-22T19:57:33.422Z"
   },
   {
    "duration": 0,
    "start_time": "2023-07-22T19:57:33.424Z"
   },
   {
    "duration": 0,
    "start_time": "2023-07-22T19:57:33.424Z"
   },
   {
    "duration": 0,
    "start_time": "2023-07-22T19:57:33.425Z"
   },
   {
    "duration": 1231,
    "start_time": "2023-07-22T19:58:25.210Z"
   },
   {
    "duration": 15942,
    "start_time": "2023-07-22T19:58:26.443Z"
   },
   {
    "duration": 9793,
    "start_time": "2023-07-22T19:58:42.387Z"
   },
   {
    "duration": 100,
    "start_time": "2023-07-22T19:58:52.182Z"
   },
   {
    "duration": 904,
    "start_time": "2023-07-22T19:58:52.284Z"
   },
   {
    "duration": 1377,
    "start_time": "2023-07-22T19:58:53.190Z"
   },
   {
    "duration": 6500,
    "start_time": "2023-07-22T19:58:54.569Z"
   },
   {
    "duration": 4024,
    "start_time": "2023-07-22T19:59:01.071Z"
   },
   {
    "duration": 72,
    "start_time": "2023-07-22T19:59:05.096Z"
   },
   {
    "duration": 5824,
    "start_time": "2023-07-22T19:59:05.170Z"
   },
   {
    "duration": 4512,
    "start_time": "2023-07-22T19:59:10.996Z"
   },
   {
    "duration": 71,
    "start_time": "2023-07-22T19:59:15.510Z"
   },
   {
    "duration": 3,
    "start_time": "2023-07-22T19:59:15.582Z"
   },
   {
    "duration": 2110,
    "start_time": "2023-07-22T19:59:15.588Z"
   },
   {
    "duration": 878,
    "start_time": "2023-07-22T19:59:17.700Z"
   },
   {
    "duration": 112,
    "start_time": "2023-07-22T19:59:18.580Z"
   },
   {
    "duration": 3138,
    "start_time": "2023-07-22T19:59:18.695Z"
   },
   {
    "duration": 1157,
    "start_time": "2023-07-22T19:59:21.835Z"
   },
   {
    "duration": 120,
    "start_time": "2023-07-22T20:04:29.608Z"
   },
   {
    "duration": 520,
    "start_time": "2023-07-22T20:04:46.363Z"
   },
   {
    "duration": 4,
    "start_time": "2023-07-22T20:11:13.870Z"
   },
   {
    "duration": 2616,
    "start_time": "2023-07-22T20:13:16.164Z"
   },
   {
    "duration": 1568,
    "start_time": "2023-07-22T20:13:51.517Z"
   },
   {
    "duration": 4496,
    "start_time": "2023-07-22T20:20:36.042Z"
   },
   {
    "duration": 44,
    "start_time": "2023-07-23T20:03:26.050Z"
   },
   {
    "duration": 1448,
    "start_time": "2023-07-23T20:03:33.379Z"
   },
   {
    "duration": 17551,
    "start_time": "2023-07-23T20:03:34.829Z"
   },
   {
    "duration": 8692,
    "start_time": "2023-07-23T20:03:52.382Z"
   },
   {
    "duration": 35,
    "start_time": "2023-07-23T20:04:01.076Z"
   },
   {
    "duration": 703,
    "start_time": "2023-07-23T20:04:01.167Z"
   },
   {
    "duration": 1141,
    "start_time": "2023-07-23T20:04:01.872Z"
   },
   {
    "duration": 4802,
    "start_time": "2023-07-23T20:04:03.067Z"
   },
   {
    "duration": 19,
    "start_time": "2023-07-23T20:04:07.871Z"
   },
   {
    "duration": 5169,
    "start_time": "2023-07-23T20:04:07.892Z"
   },
   {
    "duration": 3816,
    "start_time": "2023-07-23T20:04:13.064Z"
   },
   {
    "duration": 91,
    "start_time": "2023-07-23T20:04:16.881Z"
   },
   {
    "duration": 3,
    "start_time": "2023-07-23T20:04:16.974Z"
   },
   {
    "duration": 1751,
    "start_time": "2023-07-23T20:04:16.978Z"
   },
   {
    "duration": 588,
    "start_time": "2023-07-23T20:04:18.732Z"
   },
   {
    "duration": 160,
    "start_time": "2023-07-23T20:04:19.321Z"
   },
   {
    "duration": 3757,
    "start_time": "2023-07-23T20:04:19.483Z"
   },
   {
    "duration": 1474,
    "start_time": "2023-07-23T20:04:23.241Z"
   },
   {
    "duration": 512,
    "start_time": "2023-07-23T20:04:24.774Z"
   },
   {
    "duration": 3005,
    "start_time": "2023-07-23T20:04:25.288Z"
   },
   {
    "duration": 199,
    "start_time": "2023-07-23T20:04:28.295Z"
   },
   {
    "duration": 0,
    "start_time": "2023-07-23T20:04:28.495Z"
   },
   {
    "duration": 0,
    "start_time": "2023-07-23T20:04:28.496Z"
   },
   {
    "duration": 0,
    "start_time": "2023-07-23T20:04:28.497Z"
   },
   {
    "duration": 0,
    "start_time": "2023-07-23T20:04:28.499Z"
   },
   {
    "duration": 0,
    "start_time": "2023-07-23T20:04:28.499Z"
   },
   {
    "duration": 0,
    "start_time": "2023-07-23T20:04:28.500Z"
   },
   {
    "duration": 0,
    "start_time": "2023-07-23T20:04:28.501Z"
   },
   {
    "duration": 0,
    "start_time": "2023-07-23T20:04:28.502Z"
   },
   {
    "duration": 1191,
    "start_time": "2023-07-23T20:05:11.644Z"
   },
   {
    "duration": 14946,
    "start_time": "2023-07-23T20:05:12.837Z"
   },
   {
    "duration": 7806,
    "start_time": "2023-07-23T20:05:27.785Z"
   },
   {
    "duration": 93,
    "start_time": "2023-07-23T20:05:35.594Z"
   },
   {
    "duration": 681,
    "start_time": "2023-07-23T20:05:35.690Z"
   },
   {
    "duration": 1116,
    "start_time": "2023-07-23T20:05:36.372Z"
   },
   {
    "duration": 4880,
    "start_time": "2023-07-23T20:05:37.489Z"
   },
   {
    "duration": 16,
    "start_time": "2023-07-23T20:05:42.370Z"
   },
   {
    "duration": 5187,
    "start_time": "2023-07-23T20:05:42.388Z"
   },
   {
    "duration": 3296,
    "start_time": "2023-07-23T20:05:47.577Z"
   },
   {
    "duration": 39,
    "start_time": "2023-07-23T20:05:50.874Z"
   },
   {
    "duration": 4,
    "start_time": "2023-07-23T20:05:50.967Z"
   },
   {
    "duration": 1804,
    "start_time": "2023-07-23T20:05:50.972Z"
   },
   {
    "duration": 602,
    "start_time": "2023-07-23T20:05:52.779Z"
   },
   {
    "duration": 100,
    "start_time": "2023-07-23T20:05:53.383Z"
   },
   {
    "duration": 2890,
    "start_time": "2023-07-23T20:05:53.486Z"
   },
   {
    "duration": 1123,
    "start_time": "2023-07-23T20:05:56.377Z"
   },
   {
    "duration": 367,
    "start_time": "2023-07-23T20:05:57.502Z"
   },
   {
    "duration": 2702,
    "start_time": "2023-07-23T20:05:57.872Z"
   },
   {
    "duration": 4097,
    "start_time": "2023-07-23T20:06:00.576Z"
   },
   {
    "duration": 143,
    "start_time": "2023-07-23T20:06:04.674Z"
   },
   {
    "duration": 0,
    "start_time": "2023-07-23T20:06:04.818Z"
   },
   {
    "duration": 0,
    "start_time": "2023-07-23T20:06:04.819Z"
   },
   {
    "duration": 0,
    "start_time": "2023-07-23T20:06:04.820Z"
   },
   {
    "duration": 0,
    "start_time": "2023-07-23T20:06:04.822Z"
   },
   {
    "duration": 0,
    "start_time": "2023-07-23T20:06:04.823Z"
   },
   {
    "duration": 0,
    "start_time": "2023-07-23T20:06:04.825Z"
   },
   {
    "duration": 0,
    "start_time": "2023-07-23T20:06:04.826Z"
   },
   {
    "duration": 1151,
    "start_time": "2023-07-23T20:07:22.711Z"
   },
   {
    "duration": 15029,
    "start_time": "2023-07-23T20:07:23.864Z"
   },
   {
    "duration": 9074,
    "start_time": "2023-07-23T20:07:38.895Z"
   },
   {
    "duration": 33,
    "start_time": "2023-07-23T20:07:47.971Z"
   },
   {
    "duration": 692,
    "start_time": "2023-07-23T20:07:48.006Z"
   },
   {
    "duration": 1198,
    "start_time": "2023-07-23T20:07:48.700Z"
   },
   {
    "duration": 5285,
    "start_time": "2023-07-23T20:07:49.900Z"
   },
   {
    "duration": 81,
    "start_time": "2023-07-23T20:07:55.187Z"
   },
   {
    "duration": 5487,
    "start_time": "2023-07-23T20:07:55.270Z"
   },
   {
    "duration": 4380,
    "start_time": "2023-07-23T20:08:00.768Z"
   },
   {
    "duration": 45,
    "start_time": "2023-07-23T20:08:05.149Z"
   },
   {
    "duration": 3,
    "start_time": "2023-07-23T20:08:05.196Z"
   },
   {
    "duration": 1876,
    "start_time": "2023-07-23T20:08:05.200Z"
   },
   {
    "duration": 748,
    "start_time": "2023-07-23T20:08:07.078Z"
   },
   {
    "duration": 75,
    "start_time": "2023-07-23T20:08:07.828Z"
   },
   {
    "duration": 3244,
    "start_time": "2023-07-23T20:08:07.904Z"
   },
   {
    "duration": 1319,
    "start_time": "2023-07-23T20:08:11.150Z"
   },
   {
    "duration": 508,
    "start_time": "2023-07-23T20:08:12.471Z"
   },
   {
    "duration": 2720,
    "start_time": "2023-07-23T20:08:12.981Z"
   },
   {
    "duration": 4077,
    "start_time": "2023-07-23T20:08:15.703Z"
   },
   {
    "duration": 93,
    "start_time": "2023-07-23T20:08:19.782Z"
   },
   {
    "duration": 3125,
    "start_time": "2023-07-23T20:08:19.877Z"
   },
   {
    "duration": 79,
    "start_time": "2023-07-23T20:08:23.004Z"
   },
   {
    "duration": 13,
    "start_time": "2023-07-23T20:08:23.086Z"
   },
   {
    "duration": 1072,
    "start_time": "2023-07-23T20:08:23.101Z"
   },
   {
    "duration": 805,
    "start_time": "2023-07-23T20:08:24.175Z"
   },
   {
    "duration": 603,
    "start_time": "2023-07-23T20:08:24.981Z"
   },
   {
    "duration": 702,
    "start_time": "2023-07-23T20:08:25.586Z"
   },
   {
    "duration": 438,
    "start_time": "2023-07-23T20:08:56.833Z"
   },
   {
    "duration": 1205,
    "start_time": "2023-07-23T20:12:39.172Z"
   },
   {
    "duration": 15900,
    "start_time": "2023-07-23T20:12:40.379Z"
   },
   {
    "duration": 9402,
    "start_time": "2023-07-23T20:12:56.282Z"
   },
   {
    "duration": 94,
    "start_time": "2023-07-23T20:13:05.686Z"
   },
   {
    "duration": 897,
    "start_time": "2023-07-23T20:13:05.783Z"
   },
   {
    "duration": 1388,
    "start_time": "2023-07-23T20:13:06.681Z"
   },
   {
    "duration": 5421,
    "start_time": "2023-07-23T20:13:08.072Z"
   },
   {
    "duration": 84,
    "start_time": "2023-07-23T20:13:13.495Z"
   },
   {
    "duration": 5910,
    "start_time": "2023-07-23T20:13:13.581Z"
   },
   {
    "duration": 4927,
    "start_time": "2023-07-23T20:13:19.493Z"
   },
   {
    "duration": 4,
    "start_time": "2023-07-23T20:13:24.422Z"
   },
   {
    "duration": 2441,
    "start_time": "2023-07-23T20:13:24.428Z"
   },
   {
    "duration": 933,
    "start_time": "2023-07-23T20:13:26.871Z"
   },
   {
    "duration": 172,
    "start_time": "2023-07-23T20:13:27.808Z"
   },
   {
    "duration": 3166,
    "start_time": "2023-07-23T20:13:27.983Z"
   },
   {
    "duration": 277,
    "start_time": "2023-07-23T20:13:31.150Z"
   },
   {
    "duration": 0,
    "start_time": "2023-07-23T20:13:31.430Z"
   },
   {
    "duration": 0,
    "start_time": "2023-07-23T20:13:31.432Z"
   },
   {
    "duration": 0,
    "start_time": "2023-07-23T20:13:31.433Z"
   },
   {
    "duration": 0,
    "start_time": "2023-07-23T20:13:31.435Z"
   },
   {
    "duration": 0,
    "start_time": "2023-07-23T20:13:31.436Z"
   },
   {
    "duration": 0,
    "start_time": "2023-07-23T20:13:31.438Z"
   },
   {
    "duration": 0,
    "start_time": "2023-07-23T20:13:31.439Z"
   },
   {
    "duration": 0,
    "start_time": "2023-07-23T20:13:31.440Z"
   },
   {
    "duration": 0,
    "start_time": "2023-07-23T20:13:31.441Z"
   },
   {
    "duration": 0,
    "start_time": "2023-07-23T20:13:31.447Z"
   },
   {
    "duration": 0,
    "start_time": "2023-07-23T20:13:31.448Z"
   },
   {
    "duration": 1222,
    "start_time": "2023-07-23T20:14:47.169Z"
   },
   {
    "duration": 15507,
    "start_time": "2023-07-23T20:14:48.392Z"
   },
   {
    "duration": 9484,
    "start_time": "2023-07-23T20:15:03.902Z"
   },
   {
    "duration": 87,
    "start_time": "2023-07-23T20:15:13.388Z"
   },
   {
    "duration": 791,
    "start_time": "2023-07-23T20:15:13.478Z"
   },
   {
    "duration": 1104,
    "start_time": "2023-07-23T20:15:14.272Z"
   },
   {
    "duration": 5302,
    "start_time": "2023-07-23T20:15:15.378Z"
   },
   {
    "duration": 16,
    "start_time": "2023-07-23T20:15:20.682Z"
   },
   {
    "duration": 5833,
    "start_time": "2023-07-23T20:15:20.700Z"
   },
   {
    "duration": 4097,
    "start_time": "2023-07-23T20:15:26.535Z"
   },
   {
    "duration": 67,
    "start_time": "2023-07-23T20:15:30.634Z"
   },
   {
    "duration": 4,
    "start_time": "2023-07-23T20:15:30.703Z"
   },
   {
    "duration": 2071,
    "start_time": "2023-07-23T20:15:30.709Z"
   },
   {
    "duration": 732,
    "start_time": "2023-07-23T20:15:32.784Z"
   },
   {
    "duration": 160,
    "start_time": "2023-07-23T20:15:33.518Z"
   },
   {
    "duration": 3066,
    "start_time": "2023-07-23T20:15:33.680Z"
   },
   {
    "duration": 1321,
    "start_time": "2023-07-23T20:15:36.748Z"
   },
   {
    "duration": 414,
    "start_time": "2023-07-23T20:15:38.071Z"
   },
   {
    "duration": 3188,
    "start_time": "2023-07-23T20:15:38.487Z"
   },
   {
    "duration": 4600,
    "start_time": "2023-07-23T20:15:41.676Z"
   },
   {
    "duration": 89,
    "start_time": "2023-07-23T20:15:46.279Z"
   },
   {
    "duration": 3251,
    "start_time": "2023-07-23T20:15:46.370Z"
   },
   {
    "duration": 54,
    "start_time": "2023-07-23T20:15:49.623Z"
   },
   {
    "duration": 12,
    "start_time": "2023-07-23T20:15:49.679Z"
   },
   {
    "duration": 1107,
    "start_time": "2023-07-23T20:15:49.695Z"
   },
   {
    "duration": 984,
    "start_time": "2023-07-23T20:15:50.803Z"
   },
   {
    "duration": 686,
    "start_time": "2023-07-23T20:15:51.789Z"
   },
   {
    "duration": 596,
    "start_time": "2023-07-23T20:15:52.476Z"
   },
   {
    "duration": 1452,
    "start_time": "2023-07-24T20:04:58.862Z"
   },
   {
    "duration": 21942,
    "start_time": "2023-07-24T20:05:00.316Z"
   },
   {
    "duration": 9836,
    "start_time": "2023-07-24T20:05:22.260Z"
   },
   {
    "duration": 58,
    "start_time": "2023-07-24T20:05:32.098Z"
   },
   {
    "duration": 756,
    "start_time": "2023-07-24T20:05:32.159Z"
   },
   {
    "duration": 1333,
    "start_time": "2023-07-24T20:05:32.917Z"
   },
   {
    "duration": 5552,
    "start_time": "2023-07-24T20:05:34.252Z"
   },
   {
    "duration": 18,
    "start_time": "2023-07-24T20:05:39.806Z"
   },
   {
    "duration": 5728,
    "start_time": "2023-07-24T20:05:39.827Z"
   },
   {
    "duration": 4488,
    "start_time": "2023-07-24T20:05:45.557Z"
   },
   {
    "duration": 71,
    "start_time": "2023-07-24T20:05:50.047Z"
   },
   {
    "duration": 4,
    "start_time": "2023-07-24T20:05:50.120Z"
   },
   {
    "duration": 2246,
    "start_time": "2023-07-24T20:05:50.126Z"
   },
   {
    "duration": 634,
    "start_time": "2023-07-24T20:05:52.375Z"
   },
   {
    "duration": 114,
    "start_time": "2023-07-24T20:05:53.011Z"
   },
   {
    "duration": 2947,
    "start_time": "2023-07-24T20:05:53.127Z"
   },
   {
    "duration": 1434,
    "start_time": "2023-07-24T20:05:56.075Z"
   },
   {
    "duration": 487,
    "start_time": "2023-07-24T20:05:57.511Z"
   },
   {
    "duration": 3301,
    "start_time": "2023-07-24T20:05:58.000Z"
   },
   {
    "duration": 4700,
    "start_time": "2023-07-24T20:06:01.303Z"
   },
   {
    "duration": 21,
    "start_time": "2023-07-24T20:06:06.005Z"
   },
   {
    "duration": 3389,
    "start_time": "2023-07-24T20:06:06.028Z"
   },
   {
    "duration": 91,
    "start_time": "2023-07-24T20:06:09.419Z"
   },
   {
    "duration": 10,
    "start_time": "2023-07-24T20:06:09.511Z"
   },
   {
    "duration": 1175,
    "start_time": "2023-07-24T20:06:09.523Z"
   },
   {
    "duration": 949,
    "start_time": "2023-07-24T20:06:10.700Z"
   },
   {
    "duration": 832,
    "start_time": "2023-07-24T20:06:11.650Z"
   },
   {
    "duration": 632,
    "start_time": "2023-07-24T20:06:12.484Z"
   },
   {
    "duration": 760,
    "start_time": "2023-07-24T20:06:13.118Z"
   },
   {
    "duration": 851,
    "start_time": "2023-07-24T20:06:13.879Z"
   },
   {
    "duration": 1364,
    "start_time": "2023-07-25T22:48:54.775Z"
   },
   {
    "duration": 22365,
    "start_time": "2023-07-25T22:48:56.141Z"
   },
   {
    "duration": 8631,
    "start_time": "2023-07-25T22:49:18.508Z"
   },
   {
    "duration": 50,
    "start_time": "2023-07-25T22:49:27.141Z"
   },
   {
    "duration": 753,
    "start_time": "2023-07-25T22:49:27.193Z"
   },
   {
    "duration": 1110,
    "start_time": "2023-07-25T22:49:27.948Z"
   },
   {
    "duration": 5284,
    "start_time": "2023-07-25T22:49:29.060Z"
   },
   {
    "duration": 15,
    "start_time": "2023-07-25T22:49:34.345Z"
   },
   {
    "duration": 26,
    "start_time": "2023-07-25T22:49:34.362Z"
   },
   {
    "duration": 2859,
    "start_time": "2023-07-25T22:49:34.389Z"
   },
   {
    "duration": 742,
    "start_time": "2023-07-25T22:49:37.250Z"
   },
   {
    "duration": 84,
    "start_time": "2023-07-25T22:49:37.994Z"
   },
   {
    "duration": 2369,
    "start_time": "2023-07-25T22:49:38.079Z"
   },
   {
    "duration": 1196,
    "start_time": "2023-07-25T22:49:40.450Z"
   },
   {
    "duration": 501,
    "start_time": "2023-07-25T22:49:41.648Z"
   },
   {
    "duration": 3081,
    "start_time": "2023-07-25T22:49:42.151Z"
   },
   {
    "duration": 4229,
    "start_time": "2023-07-25T22:49:45.234Z"
   },
   {
    "duration": 97,
    "start_time": "2023-07-25T22:49:49.464Z"
   },
   {
    "duration": 2999,
    "start_time": "2023-07-25T22:49:49.563Z"
   },
   {
    "duration": 81,
    "start_time": "2023-07-25T22:49:52.563Z"
   },
   {
    "duration": 10,
    "start_time": "2023-07-25T22:49:52.646Z"
   },
   {
    "duration": 1088,
    "start_time": "2023-07-25T22:49:52.657Z"
   },
   {
    "duration": 930,
    "start_time": "2023-07-25T22:49:53.747Z"
   },
   {
    "duration": 704,
    "start_time": "2023-07-25T22:49:54.679Z"
   },
   {
    "duration": 578,
    "start_time": "2023-07-25T22:49:55.385Z"
   },
   {
    "duration": 622,
    "start_time": "2023-07-25T22:49:55.965Z"
   },
   {
    "duration": 584,
    "start_time": "2023-07-25T22:49:56.589Z"
   },
   {
    "duration": 597,
    "start_time": "2023-07-25T22:49:57.174Z"
   },
   {
    "duration": 1188,
    "start_time": "2023-07-25T23:35:36.652Z"
   },
   {
    "duration": 14227,
    "start_time": "2023-07-25T23:35:37.842Z"
   },
   {
    "duration": 7768,
    "start_time": "2023-07-25T23:35:52.071Z"
   },
   {
    "duration": 29,
    "start_time": "2023-07-25T23:35:59.840Z"
   },
   {
    "duration": 672,
    "start_time": "2023-07-25T23:35:59.871Z"
   },
   {
    "duration": 1091,
    "start_time": "2023-07-25T23:36:00.544Z"
   },
   {
    "duration": 4735,
    "start_time": "2023-07-25T23:36:01.637Z"
   },
   {
    "duration": 69,
    "start_time": "2023-07-25T23:36:06.374Z"
   },
   {
    "duration": 38,
    "start_time": "2023-07-25T23:36:06.444Z"
   },
   {
    "duration": 2259,
    "start_time": "2023-07-25T23:36:06.484Z"
   },
   {
    "duration": 615,
    "start_time": "2023-07-25T23:36:08.745Z"
   },
   {
    "duration": 99,
    "start_time": "2023-07-25T23:36:09.362Z"
   },
   {
    "duration": 2220,
    "start_time": "2023-07-25T23:36:09.463Z"
   },
   {
    "duration": 1062,
    "start_time": "2023-07-25T23:36:11.686Z"
   },
   {
    "duration": 482,
    "start_time": "2023-07-25T23:36:12.750Z"
   },
   {
    "duration": 2706,
    "start_time": "2023-07-25T23:36:13.234Z"
   },
   {
    "duration": 3596,
    "start_time": "2023-07-25T23:36:15.941Z"
   },
   {
    "duration": 18,
    "start_time": "2023-07-25T23:36:19.538Z"
   },
   {
    "duration": 2781,
    "start_time": "2023-07-25T23:36:19.557Z"
   },
   {
    "duration": 20,
    "start_time": "2023-07-25T23:36:22.340Z"
   },
   {
    "duration": 8,
    "start_time": "2023-07-25T23:36:22.362Z"
   },
   {
    "duration": 815,
    "start_time": "2023-07-25T23:36:22.431Z"
   },
   {
    "duration": 898,
    "start_time": "2023-07-25T23:36:23.248Z"
   },
   {
    "duration": 713,
    "start_time": "2023-07-25T23:36:24.148Z"
   },
   {
    "duration": 677,
    "start_time": "2023-07-25T23:36:24.862Z"
   },
   {
    "duration": 554,
    "start_time": "2023-07-25T23:36:25.541Z"
   },
   {
    "duration": 631,
    "start_time": "2023-07-25T23:36:26.131Z"
   },
   {
    "duration": 188,
    "start_time": "2023-07-25T23:36:26.764Z"
   },
   {
    "duration": 1598,
    "start_time": "2023-07-26T05:17:45.005Z"
   },
   {
    "duration": 25452,
    "start_time": "2023-07-26T05:17:46.605Z"
   },
   {
    "duration": 12505,
    "start_time": "2023-07-26T05:18:12.060Z"
   },
   {
    "duration": 108,
    "start_time": "2023-07-26T05:18:24.569Z"
   },
   {
    "duration": 979,
    "start_time": "2023-07-26T05:18:24.679Z"
   },
   {
    "duration": 1435,
    "start_time": "2023-07-26T05:18:25.661Z"
   },
   {
    "duration": 6400,
    "start_time": "2023-07-26T05:18:27.152Z"
   },
   {
    "duration": 26,
    "start_time": "2023-07-26T05:18:33.555Z"
   },
   {
    "duration": 69,
    "start_time": "2023-07-26T05:18:33.584Z"
   },
   {
    "duration": 2872,
    "start_time": "2023-07-26T05:18:33.657Z"
   },
   {
    "duration": 848,
    "start_time": "2023-07-26T05:18:36.531Z"
   },
   {
    "duration": 174,
    "start_time": "2023-07-26T05:18:37.381Z"
   },
   {
    "duration": 3350,
    "start_time": "2023-07-26T05:18:37.558Z"
   },
   {
    "duration": 1459,
    "start_time": "2023-07-26T05:18:40.910Z"
   },
   {
    "duration": 600,
    "start_time": "2023-07-26T05:18:42.371Z"
   },
   {
    "duration": 2914,
    "start_time": "2023-07-26T05:18:42.973Z"
   },
   {
    "duration": 4709,
    "start_time": "2023-07-26T05:18:45.952Z"
   },
   {
    "duration": 23,
    "start_time": "2023-07-26T05:18:50.663Z"
   },
   {
    "duration": 3530,
    "start_time": "2023-07-26T05:18:50.753Z"
   },
   {
    "duration": 81,
    "start_time": "2023-07-26T05:18:54.285Z"
   },
   {
    "duration": 11,
    "start_time": "2023-07-26T05:18:54.369Z"
   },
   {
    "duration": 1082,
    "start_time": "2023-07-26T05:18:54.382Z"
   },
   {
    "duration": 1294,
    "start_time": "2023-07-26T05:18:55.466Z"
   },
   {
    "duration": 801,
    "start_time": "2023-07-26T05:18:56.762Z"
   },
   {
    "duration": 736,
    "start_time": "2023-07-26T05:18:57.566Z"
   },
   {
    "duration": 684,
    "start_time": "2023-07-26T05:18:58.305Z"
   },
   {
    "duration": 701,
    "start_time": "2023-07-26T05:18:58.990Z"
   },
   {
    "duration": 302,
    "start_time": "2023-07-26T05:18:59.694Z"
   },
   {
    "duration": 165,
    "start_time": "2023-07-26T05:45:47.527Z"
   },
   {
    "duration": 256,
    "start_time": "2023-07-26T06:04:15.843Z"
   },
   {
    "duration": 185,
    "start_time": "2023-07-26T06:06:36.042Z"
   },
   {
    "duration": 401,
    "start_time": "2023-07-26T06:07:12.731Z"
   },
   {
    "duration": 58,
    "start_time": "2023-07-26T17:33:04.608Z"
   },
   {
    "duration": 1556,
    "start_time": "2023-07-26T17:33:13.659Z"
   },
   {
    "duration": 21491,
    "start_time": "2023-07-26T17:33:15.217Z"
   },
   {
    "duration": 10005,
    "start_time": "2023-07-26T17:33:36.711Z"
   },
   {
    "duration": 100,
    "start_time": "2023-07-26T17:33:46.718Z"
   },
   {
    "duration": 805,
    "start_time": "2023-07-26T17:33:46.820Z"
   },
   {
    "duration": 4606,
    "start_time": "2023-07-26T17:33:47.627Z"
   },
   {
    "duration": 1100,
    "start_time": "2023-07-26T17:33:52.235Z"
   },
   {
    "duration": 4688,
    "start_time": "2023-07-26T17:33:53.337Z"
   },
   {
    "duration": 88,
    "start_time": "2023-07-26T17:33:58.026Z"
   },
   {
    "duration": 3,
    "start_time": "2023-07-26T17:33:58.118Z"
   },
   {
    "duration": 2300,
    "start_time": "2023-07-26T17:33:58.123Z"
   },
   {
    "duration": 903,
    "start_time": "2023-07-26T17:34:00.424Z"
   },
   {
    "duration": 196,
    "start_time": "2023-07-26T17:34:01.330Z"
   },
   {
    "duration": 2810,
    "start_time": "2023-07-26T17:34:01.528Z"
   },
   {
    "duration": 1405,
    "start_time": "2023-07-26T17:34:04.339Z"
   },
   {
    "duration": 574,
    "start_time": "2023-07-26T17:34:05.747Z"
   },
   {
    "duration": 2902,
    "start_time": "2023-07-26T17:34:06.323Z"
   },
   {
    "duration": 4690,
    "start_time": "2023-07-26T17:34:09.226Z"
   },
   {
    "duration": 91,
    "start_time": "2023-07-26T17:34:13.918Z"
   },
   {
    "duration": 3900,
    "start_time": "2023-07-26T17:34:14.011Z"
   },
   {
    "duration": 21,
    "start_time": "2023-07-26T17:34:17.913Z"
   },
   {
    "duration": 92,
    "start_time": "2023-07-26T17:34:17.936Z"
   },
   {
    "duration": 1182,
    "start_time": "2023-07-26T17:34:18.030Z"
   },
   {
    "duration": 903,
    "start_time": "2023-07-26T17:34:19.215Z"
   },
   {
    "duration": 888,
    "start_time": "2023-07-26T17:34:20.120Z"
   },
   {
    "duration": 722,
    "start_time": "2023-07-26T17:34:21.010Z"
   },
   {
    "duration": 807,
    "start_time": "2023-07-26T17:34:21.734Z"
   },
   {
    "duration": 769,
    "start_time": "2023-07-26T17:34:22.545Z"
   },
   {
    "duration": 608,
    "start_time": "2023-07-26T17:34:23.316Z"
   },
   {
    "duration": 4,
    "start_time": "2023-07-26T19:36:51.857Z"
   },
   {
    "duration": 15,
    "start_time": "2023-07-26T19:38:12.789Z"
   },
   {
    "duration": 1320,
    "start_time": "2023-07-26T19:38:22.592Z"
   },
   {
    "duration": 16833,
    "start_time": "2023-07-26T19:38:23.914Z"
   },
   {
    "duration": 10477,
    "start_time": "2023-07-26T19:38:40.750Z"
   },
   {
    "duration": 93,
    "start_time": "2023-07-26T19:38:51.230Z"
   },
   {
    "duration": 890,
    "start_time": "2023-07-26T19:38:51.325Z"
   },
   {
    "duration": 7,
    "start_time": "2023-07-26T19:38:52.217Z"
   },
   {
    "duration": 3013,
    "start_time": "2023-07-26T19:38:52.227Z"
   },
   {
    "duration": 2582,
    "start_time": "2023-07-26T19:38:55.242Z"
   },
   {
    "duration": 5813,
    "start_time": "2023-07-26T19:38:57.826Z"
   },
   {
    "duration": 69,
    "start_time": "2023-07-26T19:39:03.643Z"
   },
   {
    "duration": 833,
    "start_time": "2023-07-26T19:39:03.714Z"
   },
   {
    "duration": 0,
    "start_time": "2023-07-26T19:39:04.617Z"
   },
   {
    "duration": 0,
    "start_time": "2023-07-26T19:39:04.619Z"
   },
   {
    "duration": 0,
    "start_time": "2023-07-26T19:39:04.619Z"
   },
   {
    "duration": 0,
    "start_time": "2023-07-26T19:39:04.620Z"
   },
   {
    "duration": 0,
    "start_time": "2023-07-26T19:39:04.624Z"
   },
   {
    "duration": 0,
    "start_time": "2023-07-26T19:39:04.626Z"
   },
   {
    "duration": 0,
    "start_time": "2023-07-26T19:39:04.627Z"
   },
   {
    "duration": 0,
    "start_time": "2023-07-26T19:39:04.629Z"
   },
   {
    "duration": 0,
    "start_time": "2023-07-26T19:39:04.630Z"
   },
   {
    "duration": 0,
    "start_time": "2023-07-26T19:39:04.632Z"
   },
   {
    "duration": 0,
    "start_time": "2023-07-26T19:39:04.633Z"
   },
   {
    "duration": 0,
    "start_time": "2023-07-26T19:39:04.634Z"
   },
   {
    "duration": 0,
    "start_time": "2023-07-26T19:39:04.636Z"
   },
   {
    "duration": 0,
    "start_time": "2023-07-26T19:39:04.637Z"
   },
   {
    "duration": 0,
    "start_time": "2023-07-26T19:39:04.638Z"
   },
   {
    "duration": 0,
    "start_time": "2023-07-26T19:39:04.639Z"
   },
   {
    "duration": 0,
    "start_time": "2023-07-26T19:39:04.640Z"
   },
   {
    "duration": 1,
    "start_time": "2023-07-26T19:39:04.640Z"
   },
   {
    "duration": 0,
    "start_time": "2023-07-26T19:39:04.641Z"
   },
   {
    "duration": 0,
    "start_time": "2023-07-26T19:39:04.642Z"
   },
   {
    "duration": 189,
    "start_time": "2023-07-26T19:39:33.610Z"
   },
   {
    "duration": 82,
    "start_time": "2023-07-26T19:40:14.118Z"
   },
   {
    "duration": 18,
    "start_time": "2023-07-26T19:40:21.309Z"
   },
   {
    "duration": 15,
    "start_time": "2023-07-26T19:40:25.647Z"
   },
   {
    "duration": 9,
    "start_time": "2023-07-26T19:40:33.740Z"
   },
   {
    "duration": 452,
    "start_time": "2023-07-26T19:40:40.556Z"
   },
   {
    "duration": 145,
    "start_time": "2023-07-26T19:41:06.653Z"
   },
   {
    "duration": 21,
    "start_time": "2023-07-26T19:41:19.647Z"
   },
   {
    "duration": 10,
    "start_time": "2023-07-26T19:41:56.946Z"
   },
   {
    "duration": 11,
    "start_time": "2023-07-26T19:42:03.397Z"
   },
   {
    "duration": 11,
    "start_time": "2023-07-26T19:42:23.745Z"
   },
   {
    "duration": 3,
    "start_time": "2023-07-26T19:43:33.625Z"
   },
   {
    "duration": 380,
    "start_time": "2023-07-26T19:43:57.158Z"
   },
   {
    "duration": 280,
    "start_time": "2023-07-26T19:44:19.096Z"
   },
   {
    "duration": 242,
    "start_time": "2023-07-26T19:45:14.822Z"
   },
   {
    "duration": 482,
    "start_time": "2023-07-26T19:48:50.246Z"
   },
   {
    "duration": 19,
    "start_time": "2023-07-26T19:49:31.092Z"
   },
   {
    "duration": 18,
    "start_time": "2023-07-26T19:53:37.846Z"
   },
   {
    "duration": 11,
    "start_time": "2023-07-26T19:58:34.677Z"
   },
   {
    "duration": 10,
    "start_time": "2023-07-26T19:59:06.252Z"
   },
   {
    "duration": 73,
    "start_time": "2023-07-26T19:59:12.472Z"
   },
   {
    "duration": 19,
    "start_time": "2023-07-26T19:59:14.658Z"
   },
   {
    "duration": 20,
    "start_time": "2023-07-26T20:00:41.531Z"
   },
   {
    "duration": 16,
    "start_time": "2023-07-26T20:01:51.700Z"
   },
   {
    "duration": 189,
    "start_time": "2023-07-26T20:01:57.399Z"
   },
   {
    "duration": 15,
    "start_time": "2023-07-26T20:07:54.025Z"
   },
   {
    "duration": 38,
    "start_time": "2023-07-26T20:08:06.173Z"
   },
   {
    "duration": 269,
    "start_time": "2023-07-26T20:08:13.963Z"
   },
   {
    "duration": 1534,
    "start_time": "2023-07-27T12:18:42.919Z"
   },
   {
    "duration": 21363,
    "start_time": "2023-07-27T12:18:44.455Z"
   },
   {
    "duration": 9978,
    "start_time": "2023-07-27T12:19:05.820Z"
   },
   {
    "duration": 49,
    "start_time": "2023-07-27T12:19:15.857Z"
   },
   {
    "duration": 679,
    "start_time": "2023-07-27T12:19:15.908Z"
   },
   {
    "duration": 72,
    "start_time": "2023-07-27T12:19:16.589Z"
   },
   {
    "duration": 2605,
    "start_time": "2023-07-27T12:19:16.662Z"
   },
   {
    "duration": 2316,
    "start_time": "2023-07-27T12:19:19.269Z"
   },
   {
    "duration": 4094,
    "start_time": "2023-07-27T12:19:21.587Z"
   },
   {
    "duration": 682,
    "start_time": "2023-07-27T12:19:25.684Z"
   },
   {
    "duration": 0,
    "start_time": "2023-07-27T12:19:26.369Z"
   },
   {
    "duration": 0,
    "start_time": "2023-07-27T12:19:26.371Z"
   },
   {
    "duration": 0,
    "start_time": "2023-07-27T12:19:26.372Z"
   },
   {
    "duration": 0,
    "start_time": "2023-07-27T12:19:26.373Z"
   },
   {
    "duration": 0,
    "start_time": "2023-07-27T12:19:26.374Z"
   },
   {
    "duration": 0,
    "start_time": "2023-07-27T12:19:26.375Z"
   },
   {
    "duration": 0,
    "start_time": "2023-07-27T12:19:26.376Z"
   },
   {
    "duration": 0,
    "start_time": "2023-07-27T12:19:26.377Z"
   },
   {
    "duration": 0,
    "start_time": "2023-07-27T12:19:26.378Z"
   },
   {
    "duration": 0,
    "start_time": "2023-07-27T12:19:26.380Z"
   },
   {
    "duration": 0,
    "start_time": "2023-07-27T12:19:26.381Z"
   },
   {
    "duration": 0,
    "start_time": "2023-07-27T12:19:26.383Z"
   },
   {
    "duration": 0,
    "start_time": "2023-07-27T12:19:26.390Z"
   },
   {
    "duration": 0,
    "start_time": "2023-07-27T12:19:26.391Z"
   },
   {
    "duration": 0,
    "start_time": "2023-07-27T12:19:26.392Z"
   },
   {
    "duration": 0,
    "start_time": "2023-07-27T12:19:26.394Z"
   },
   {
    "duration": 0,
    "start_time": "2023-07-27T12:19:26.395Z"
   },
   {
    "duration": 0,
    "start_time": "2023-07-27T12:19:26.396Z"
   },
   {
    "duration": 0,
    "start_time": "2023-07-27T12:19:26.397Z"
   },
   {
    "duration": 0,
    "start_time": "2023-07-27T12:19:26.399Z"
   },
   {
    "duration": 1,
    "start_time": "2023-07-27T12:19:26.400Z"
   },
   {
    "duration": 0,
    "start_time": "2023-07-27T12:19:26.402Z"
   },
   {
    "duration": 0,
    "start_time": "2023-07-27T12:19:26.403Z"
   },
   {
    "duration": 11,
    "start_time": "2023-07-27T12:50:41.267Z"
   },
   {
    "duration": 15,
    "start_time": "2023-07-27T12:51:34.289Z"
   },
   {
    "duration": 4,
    "start_time": "2023-07-27T12:51:50.099Z"
   },
   {
    "duration": 18,
    "start_time": "2023-07-27T12:51:57.003Z"
   },
   {
    "duration": 22,
    "start_time": "2023-07-27T12:52:11.909Z"
   },
   {
    "duration": 15,
    "start_time": "2023-07-27T12:52:38.865Z"
   },
   {
    "duration": 15,
    "start_time": "2023-07-27T12:52:56.249Z"
   },
   {
    "duration": 4,
    "start_time": "2023-07-27T12:52:59.441Z"
   },
   {
    "duration": 20,
    "start_time": "2023-07-27T12:53:11.577Z"
   },
   {
    "duration": 15,
    "start_time": "2023-07-27T12:53:17.469Z"
   },
   {
    "duration": 6,
    "start_time": "2023-07-27T13:03:53.868Z"
   },
   {
    "duration": 16,
    "start_time": "2023-07-27T13:03:59.211Z"
   },
   {
    "duration": 18,
    "start_time": "2023-07-27T13:04:14.853Z"
   },
   {
    "duration": 157,
    "start_time": "2023-07-27T13:04:40.693Z"
   },
   {
    "duration": 13,
    "start_time": "2023-07-27T13:04:50.722Z"
   },
   {
    "duration": 79,
    "start_time": "2023-07-27T13:04:54.011Z"
   },
   {
    "duration": 11,
    "start_time": "2023-07-27T13:05:32.670Z"
   },
   {
    "duration": 13,
    "start_time": "2023-07-27T13:07:35.765Z"
   },
   {
    "duration": 17,
    "start_time": "2023-07-27T13:07:51.826Z"
   },
   {
    "duration": 17,
    "start_time": "2023-07-27T13:11:26.413Z"
   },
   {
    "duration": 14,
    "start_time": "2023-07-27T13:12:05.205Z"
   },
   {
    "duration": 10,
    "start_time": "2023-07-27T13:12:21.946Z"
   },
   {
    "duration": 9,
    "start_time": "2023-07-27T13:12:34.710Z"
   },
   {
    "duration": 12,
    "start_time": "2023-07-27T13:12:46.150Z"
   },
   {
    "duration": 5,
    "start_time": "2023-07-27T13:13:04.186Z"
   },
   {
    "duration": 635,
    "start_time": "2023-07-27T13:13:12.769Z"
   },
   {
    "duration": 14,
    "start_time": "2023-07-27T13:13:32.017Z"
   },
   {
    "duration": 10,
    "start_time": "2023-07-27T13:14:29.397Z"
   },
   {
    "duration": 4,
    "start_time": "2023-07-27T13:14:43.687Z"
   },
   {
    "duration": 155,
    "start_time": "2023-07-27T13:14:51.191Z"
   },
   {
    "duration": 112,
    "start_time": "2023-07-27T13:15:02.581Z"
   },
   {
    "duration": 121,
    "start_time": "2023-07-27T13:15:09.777Z"
   },
   {
    "duration": 18,
    "start_time": "2023-07-27T13:15:31.870Z"
   },
   {
    "duration": 111,
    "start_time": "2023-07-27T13:16:01.800Z"
   },
   {
    "duration": 16,
    "start_time": "2023-07-27T13:16:04.070Z"
   },
   {
    "duration": 17,
    "start_time": "2023-07-27T13:16:13.117Z"
   },
   {
    "duration": 18,
    "start_time": "2023-07-27T13:16:17.282Z"
   },
   {
    "duration": 17,
    "start_time": "2023-07-27T13:16:21.167Z"
   },
   {
    "duration": 34,
    "start_time": "2023-07-27T13:16:27.370Z"
   },
   {
    "duration": 16,
    "start_time": "2023-07-27T13:16:36.529Z"
   },
   {
    "duration": 12,
    "start_time": "2023-07-27T13:20:33.500Z"
   },
   {
    "duration": 23,
    "start_time": "2023-07-27T13:21:48.974Z"
   },
   {
    "duration": 15,
    "start_time": "2023-07-27T13:21:57.267Z"
   },
   {
    "duration": 13,
    "start_time": "2023-07-27T13:22:10.340Z"
   },
   {
    "duration": 17,
    "start_time": "2023-07-27T13:22:21.007Z"
   },
   {
    "duration": 15,
    "start_time": "2023-07-27T13:23:23.188Z"
   },
   {
    "duration": 12,
    "start_time": "2023-07-27T13:23:27.875Z"
   },
   {
    "duration": 17,
    "start_time": "2023-07-27T13:26:52.991Z"
   },
   {
    "duration": 30,
    "start_time": "2023-07-27T13:27:10.268Z"
   },
   {
    "duration": 11,
    "start_time": "2023-07-27T13:27:40.172Z"
   },
   {
    "duration": 8,
    "start_time": "2023-07-27T13:27:47.928Z"
   },
   {
    "duration": 11,
    "start_time": "2023-07-27T13:27:57.410Z"
   },
   {
    "duration": 3,
    "start_time": "2023-07-27T13:28:31.629Z"
   },
   {
    "duration": 694,
    "start_time": "2023-07-27T13:28:32.380Z"
   },
   {
    "duration": 494,
    "start_time": "2023-07-27T13:28:42.768Z"
   },
   {
    "duration": 251,
    "start_time": "2023-07-27T13:29:02.372Z"
   },
   {
    "duration": 236,
    "start_time": "2023-07-27T13:29:09.325Z"
   },
   {
    "duration": 268,
    "start_time": "2023-07-27T13:29:14.892Z"
   },
   {
    "duration": 1438,
    "start_time": "2023-07-27T13:29:49.294Z"
   },
   {
    "duration": 17629,
    "start_time": "2023-07-27T13:29:50.735Z"
   },
   {
    "duration": 12801,
    "start_time": "2023-07-27T13:30:08.365Z"
   },
   {
    "duration": 105,
    "start_time": "2023-07-27T13:30:21.169Z"
   },
   {
    "duration": 906,
    "start_time": "2023-07-27T13:30:21.276Z"
   },
   {
    "duration": 75,
    "start_time": "2023-07-27T13:30:22.185Z"
   },
   {
    "duration": 3009,
    "start_time": "2023-07-27T13:30:22.262Z"
   },
   {
    "duration": 2086,
    "start_time": "2023-07-27T13:30:25.273Z"
   },
   {
    "duration": 4122,
    "start_time": "2023-07-27T13:30:27.361Z"
   },
   {
    "duration": 4,
    "start_time": "2023-07-27T13:30:31.486Z"
   },
   {
    "duration": 471,
    "start_time": "2023-07-27T13:30:31.492Z"
   },
   {
    "duration": 302,
    "start_time": "2023-07-27T13:30:31.965Z"
   },
   {
    "duration": 603,
    "start_time": "2023-07-27T13:30:32.269Z"
   },
   {
    "duration": 93,
    "start_time": "2023-07-27T13:30:32.874Z"
   },
   {
    "duration": 398,
    "start_time": "2023-07-27T13:30:32.969Z"
   },
   {
    "duration": 2,
    "start_time": "2023-07-27T13:30:33.369Z"
   },
   {
    "duration": 84,
    "start_time": "2023-07-27T13:30:33.373Z"
   },
   {
    "duration": 77,
    "start_time": "2023-07-27T13:30:33.459Z"
   },
   {
    "duration": 156,
    "start_time": "2023-07-27T13:30:33.537Z"
   },
   {
    "duration": 494,
    "start_time": "2023-07-27T13:30:33.695Z"
   },
   {
    "duration": 65,
    "start_time": "2023-07-27T13:30:34.192Z"
   },
   {
    "duration": 1775,
    "start_time": "2023-07-27T13:30:34.259Z"
   },
   {
    "duration": 730,
    "start_time": "2023-07-27T13:30:36.036Z"
   },
   {
    "duration": 95,
    "start_time": "2023-07-27T13:30:36.768Z"
   },
   {
    "duration": 3459,
    "start_time": "2023-07-27T13:30:36.865Z"
   },
   {
    "duration": 1231,
    "start_time": "2023-07-27T13:30:40.326Z"
   },
   {
    "duration": 413,
    "start_time": "2023-07-27T13:30:41.559Z"
   },
   {
    "duration": 2890,
    "start_time": "2023-07-27T13:30:41.977Z"
   },
   {
    "duration": 5792,
    "start_time": "2023-07-27T13:30:44.870Z"
   },
   {
    "duration": 21,
    "start_time": "2023-07-27T13:30:50.664Z"
   },
   {
    "duration": 3290,
    "start_time": "2023-07-27T13:30:50.687Z"
   },
   {
    "duration": 20,
    "start_time": "2023-07-27T13:30:53.979Z"
   },
   {
    "duration": 65,
    "start_time": "2023-07-27T13:30:54.001Z"
   },
   {
    "duration": 1222,
    "start_time": "2023-07-27T13:30:54.069Z"
   },
   {
    "duration": 1162,
    "start_time": "2023-07-27T13:30:55.294Z"
   },
   {
    "duration": 811,
    "start_time": "2023-07-27T13:30:56.460Z"
   },
   {
    "duration": 790,
    "start_time": "2023-07-27T13:30:57.273Z"
   },
   {
    "duration": 694,
    "start_time": "2023-07-27T13:30:58.065Z"
   },
   {
    "duration": 726,
    "start_time": "2023-07-27T13:30:58.762Z"
   },
   {
    "duration": 281,
    "start_time": "2023-07-27T13:30:59.490Z"
   },
   {
    "duration": 105,
    "start_time": "2023-07-27T13:30:59.773Z"
   },
   {
    "duration": 818,
    "start_time": "2023-07-27T13:35:00.240Z"
   },
   {
    "duration": 11,
    "start_time": "2023-07-27T13:35:05.718Z"
   },
   {
    "duration": 16,
    "start_time": "2023-07-27T13:35:15.317Z"
   },
   {
    "duration": 17,
    "start_time": "2023-07-27T13:35:22.619Z"
   },
   {
    "duration": 16,
    "start_time": "2023-07-27T13:36:09.173Z"
   },
   {
    "duration": 11,
    "start_time": "2023-07-27T13:36:47.620Z"
   },
   {
    "duration": 17,
    "start_time": "2023-07-27T13:37:06.682Z"
   },
   {
    "duration": 82,
    "start_time": "2023-07-27T13:38:42.032Z"
   },
   {
    "duration": 12,
    "start_time": "2023-07-27T13:39:46.393Z"
   },
   {
    "duration": 27,
    "start_time": "2023-07-27T13:39:58.166Z"
   },
   {
    "duration": 183,
    "start_time": "2023-07-27T13:41:35.516Z"
   },
   {
    "duration": 11,
    "start_time": "2023-07-27T13:42:04.319Z"
   },
   {
    "duration": 14,
    "start_time": "2023-07-27T13:42:13.228Z"
   },
   {
    "duration": 12,
    "start_time": "2023-07-27T13:44:01.678Z"
   },
   {
    "duration": 12,
    "start_time": "2023-07-27T13:44:17.517Z"
   },
   {
    "duration": 13,
    "start_time": "2023-07-27T13:44:27.483Z"
   },
   {
    "duration": 16,
    "start_time": "2023-07-27T13:44:45.620Z"
   },
   {
    "duration": 11,
    "start_time": "2023-07-27T13:44:53.704Z"
   },
   {
    "duration": 11,
    "start_time": "2023-07-27T13:44:54.011Z"
   },
   {
    "duration": 10,
    "start_time": "2023-07-27T13:44:54.206Z"
   },
   {
    "duration": 11,
    "start_time": "2023-07-27T13:44:54.386Z"
   },
   {
    "duration": 10,
    "start_time": "2023-07-27T13:44:54.542Z"
   },
   {
    "duration": 12,
    "start_time": "2023-07-27T13:44:55.526Z"
   },
   {
    "duration": 11,
    "start_time": "2023-07-27T13:44:56.971Z"
   },
   {
    "duration": 11,
    "start_time": "2023-07-27T13:44:58.132Z"
   },
   {
    "duration": 1373,
    "start_time": "2023-07-27T13:45:08.828Z"
   },
   {
    "duration": 16410,
    "start_time": "2023-07-27T13:45:10.203Z"
   },
   {
    "duration": 10018,
    "start_time": "2023-07-27T13:45:26.661Z"
   },
   {
    "duration": 98,
    "start_time": "2023-07-27T13:45:36.681Z"
   },
   {
    "duration": 791,
    "start_time": "2023-07-27T13:45:36.780Z"
   },
   {
    "duration": 8,
    "start_time": "2023-07-27T13:45:37.573Z"
   },
   {
    "duration": 3096,
    "start_time": "2023-07-27T13:45:37.584Z"
   },
   {
    "duration": 2681,
    "start_time": "2023-07-27T13:45:40.683Z"
   },
   {
    "duration": 4491,
    "start_time": "2023-07-27T13:45:43.366Z"
   },
   {
    "duration": 9,
    "start_time": "2023-07-27T13:45:47.861Z"
   },
   {
    "duration": 534,
    "start_time": "2023-07-27T13:45:47.873Z"
   },
   {
    "duration": 778,
    "start_time": "2023-07-27T13:45:48.409Z"
   },
   {
    "duration": 94,
    "start_time": "2023-07-27T13:45:49.189Z"
   },
   {
    "duration": 0,
    "start_time": "2023-07-27T13:45:49.290Z"
   },
   {
    "duration": 0,
    "start_time": "2023-07-27T13:45:49.293Z"
   },
   {
    "duration": 0,
    "start_time": "2023-07-27T13:45:49.294Z"
   },
   {
    "duration": 0,
    "start_time": "2023-07-27T13:45:49.295Z"
   },
   {
    "duration": 0,
    "start_time": "2023-07-27T13:45:49.297Z"
   },
   {
    "duration": 0,
    "start_time": "2023-07-27T13:45:49.298Z"
   },
   {
    "duration": 0,
    "start_time": "2023-07-27T13:45:49.299Z"
   },
   {
    "duration": 0,
    "start_time": "2023-07-27T13:45:49.301Z"
   },
   {
    "duration": 0,
    "start_time": "2023-07-27T13:45:49.302Z"
   },
   {
    "duration": 0,
    "start_time": "2023-07-27T13:45:49.304Z"
   },
   {
    "duration": 0,
    "start_time": "2023-07-27T13:45:49.358Z"
   },
   {
    "duration": 0,
    "start_time": "2023-07-27T13:45:49.363Z"
   },
   {
    "duration": 2,
    "start_time": "2023-07-27T13:45:49.367Z"
   },
   {
    "duration": 0,
    "start_time": "2023-07-27T13:45:49.369Z"
   },
   {
    "duration": 0,
    "start_time": "2023-07-27T13:45:49.371Z"
   },
   {
    "duration": 0,
    "start_time": "2023-07-27T13:45:49.372Z"
   },
   {
    "duration": 0,
    "start_time": "2023-07-27T13:45:49.373Z"
   },
   {
    "duration": 0,
    "start_time": "2023-07-27T13:45:49.374Z"
   },
   {
    "duration": 0,
    "start_time": "2023-07-27T13:45:49.375Z"
   },
   {
    "duration": 0,
    "start_time": "2023-07-27T13:45:49.377Z"
   },
   {
    "duration": 0,
    "start_time": "2023-07-27T13:45:49.378Z"
   },
   {
    "duration": 0,
    "start_time": "2023-07-27T13:45:49.379Z"
   },
   {
    "duration": 0,
    "start_time": "2023-07-27T13:45:49.380Z"
   },
   {
    "duration": 0,
    "start_time": "2023-07-27T13:45:49.381Z"
   },
   {
    "duration": 547,
    "start_time": "2023-07-27T13:46:02.135Z"
   },
   {
    "duration": 280,
    "start_time": "2023-07-27T13:46:10.518Z"
   },
   {
    "duration": 40,
    "start_time": "2023-07-27T13:46:22.142Z"
   },
   {
    "duration": 1317,
    "start_time": "2023-07-27T13:48:06.542Z"
   },
   {
    "duration": 16143,
    "start_time": "2023-07-27T13:48:07.861Z"
   },
   {
    "duration": 9876,
    "start_time": "2023-07-27T13:48:24.006Z"
   },
   {
    "duration": 78,
    "start_time": "2023-07-27T13:48:33.884Z"
   },
   {
    "duration": 801,
    "start_time": "2023-07-27T13:48:33.964Z"
   },
   {
    "duration": 7,
    "start_time": "2023-07-27T13:48:34.768Z"
   },
   {
    "duration": 2896,
    "start_time": "2023-07-27T13:48:34.776Z"
   },
   {
    "duration": 2704,
    "start_time": "2023-07-27T13:48:37.674Z"
   },
   {
    "duration": 4591,
    "start_time": "2023-07-27T13:48:40.380Z"
   },
   {
    "duration": 5,
    "start_time": "2023-07-27T13:48:44.974Z"
   },
   {
    "duration": 500,
    "start_time": "2023-07-27T13:48:44.980Z"
   },
   {
    "duration": 409,
    "start_time": "2023-07-27T13:48:45.483Z"
   },
   {
    "duration": 92,
    "start_time": "2023-07-27T13:48:45.894Z"
   },
   {
    "duration": 484,
    "start_time": "2023-07-27T13:48:45.988Z"
   },
   {
    "duration": 7,
    "start_time": "2023-07-27T13:48:46.473Z"
   },
   {
    "duration": 10,
    "start_time": "2023-07-27T13:48:46.481Z"
   },
   {
    "duration": 81,
    "start_time": "2023-07-27T13:48:46.492Z"
   },
   {
    "duration": 1,
    "start_time": "2023-07-27T13:48:46.575Z"
   },
   {
    "duration": 0,
    "start_time": "2023-07-27T13:48:46.577Z"
   },
   {
    "duration": 0,
    "start_time": "2023-07-27T13:48:46.578Z"
   },
   {
    "duration": 0,
    "start_time": "2023-07-27T13:48:46.579Z"
   },
   {
    "duration": 0,
    "start_time": "2023-07-27T13:48:46.580Z"
   },
   {
    "duration": 0,
    "start_time": "2023-07-27T13:48:46.582Z"
   },
   {
    "duration": 0,
    "start_time": "2023-07-27T13:48:46.583Z"
   },
   {
    "duration": 0,
    "start_time": "2023-07-27T13:48:46.584Z"
   },
   {
    "duration": 0,
    "start_time": "2023-07-27T13:48:46.585Z"
   },
   {
    "duration": 0,
    "start_time": "2023-07-27T13:48:46.586Z"
   },
   {
    "duration": 0,
    "start_time": "2023-07-27T13:48:46.587Z"
   },
   {
    "duration": 0,
    "start_time": "2023-07-27T13:48:46.588Z"
   },
   {
    "duration": 0,
    "start_time": "2023-07-27T13:48:46.590Z"
   },
   {
    "duration": 0,
    "start_time": "2023-07-27T13:48:46.591Z"
   },
   {
    "duration": 0,
    "start_time": "2023-07-27T13:48:46.592Z"
   },
   {
    "duration": 0,
    "start_time": "2023-07-27T13:48:46.593Z"
   },
   {
    "duration": 0,
    "start_time": "2023-07-27T13:48:46.594Z"
   },
   {
    "duration": 0,
    "start_time": "2023-07-27T13:48:46.595Z"
   },
   {
    "duration": 0,
    "start_time": "2023-07-27T13:48:46.597Z"
   },
   {
    "duration": 0,
    "start_time": "2023-07-27T13:48:46.598Z"
   },
   {
    "duration": 0,
    "start_time": "2023-07-27T13:48:46.599Z"
   },
   {
    "duration": 488,
    "start_time": "2023-07-27T13:49:43.574Z"
   },
   {
    "duration": 329,
    "start_time": "2023-07-27T13:49:50.041Z"
   },
   {
    "duration": 333,
    "start_time": "2023-07-27T13:51:40.045Z"
   },
   {
    "duration": 4,
    "start_time": "2023-07-27T13:51:46.508Z"
   },
   {
    "duration": 1217,
    "start_time": "2023-07-27T13:51:59.296Z"
   },
   {
    "duration": 16868,
    "start_time": "2023-07-27T13:52:00.515Z"
   },
   {
    "duration": 12175,
    "start_time": "2023-07-27T13:52:17.385Z"
   },
   {
    "duration": 109,
    "start_time": "2023-07-27T13:52:29.562Z"
   },
   {
    "duration": 881,
    "start_time": "2023-07-27T13:52:29.681Z"
   },
   {
    "duration": 14,
    "start_time": "2023-07-27T13:52:30.567Z"
   },
   {
    "duration": 3499,
    "start_time": "2023-07-27T13:52:30.583Z"
   },
   {
    "duration": 2899,
    "start_time": "2023-07-27T13:52:34.084Z"
   },
   {
    "duration": 5107,
    "start_time": "2023-07-27T13:52:36.985Z"
   },
   {
    "duration": 4,
    "start_time": "2023-07-27T13:52:42.093Z"
   },
   {
    "duration": 680,
    "start_time": "2023-07-27T13:52:42.099Z"
   },
   {
    "duration": 419,
    "start_time": "2023-07-27T13:52:42.781Z"
   },
   {
    "duration": 156,
    "start_time": "2023-07-27T13:52:43.202Z"
   },
   {
    "duration": 556,
    "start_time": "2023-07-27T13:52:43.362Z"
   },
   {
    "duration": 42,
    "start_time": "2023-07-27T13:52:43.920Z"
   },
   {
    "duration": 14,
    "start_time": "2023-07-27T13:52:43.965Z"
   },
   {
    "duration": 79,
    "start_time": "2023-07-27T13:52:43.982Z"
   },
   {
    "duration": 0,
    "start_time": "2023-07-27T13:52:44.063Z"
   },
   {
    "duration": 0,
    "start_time": "2023-07-27T13:52:44.064Z"
   },
   {
    "duration": 0,
    "start_time": "2023-07-27T13:52:44.065Z"
   },
   {
    "duration": 0,
    "start_time": "2023-07-27T13:52:44.066Z"
   },
   {
    "duration": 0,
    "start_time": "2023-07-27T13:52:44.067Z"
   },
   {
    "duration": 0,
    "start_time": "2023-07-27T13:52:44.068Z"
   },
   {
    "duration": 0,
    "start_time": "2023-07-27T13:52:44.069Z"
   },
   {
    "duration": 0,
    "start_time": "2023-07-27T13:52:44.070Z"
   },
   {
    "duration": 0,
    "start_time": "2023-07-27T13:52:44.071Z"
   },
   {
    "duration": 0,
    "start_time": "2023-07-27T13:52:44.072Z"
   },
   {
    "duration": 0,
    "start_time": "2023-07-27T13:52:44.073Z"
   },
   {
    "duration": 0,
    "start_time": "2023-07-27T13:52:44.074Z"
   },
   {
    "duration": 0,
    "start_time": "2023-07-27T13:52:44.075Z"
   },
   {
    "duration": 0,
    "start_time": "2023-07-27T13:52:44.076Z"
   },
   {
    "duration": 0,
    "start_time": "2023-07-27T13:52:44.077Z"
   },
   {
    "duration": 0,
    "start_time": "2023-07-27T13:52:44.078Z"
   },
   {
    "duration": 0,
    "start_time": "2023-07-27T13:52:44.079Z"
   },
   {
    "duration": 0,
    "start_time": "2023-07-27T13:52:44.081Z"
   },
   {
    "duration": 0,
    "start_time": "2023-07-27T13:52:44.082Z"
   },
   {
    "duration": 0,
    "start_time": "2023-07-27T13:52:44.083Z"
   },
   {
    "duration": 0,
    "start_time": "2023-07-27T13:52:44.084Z"
   },
   {
    "duration": 1254,
    "start_time": "2023-07-27T14:00:13.514Z"
   },
   {
    "duration": 16308,
    "start_time": "2023-07-27T14:00:14.773Z"
   },
   {
    "duration": 10894,
    "start_time": "2023-07-27T14:00:31.085Z"
   },
   {
    "duration": 106,
    "start_time": "2023-07-27T14:00:41.981Z"
   },
   {
    "duration": 904,
    "start_time": "2023-07-27T14:00:42.090Z"
   },
   {
    "duration": 67,
    "start_time": "2023-07-27T14:00:42.997Z"
   },
   {
    "duration": 3204,
    "start_time": "2023-07-27T14:00:43.067Z"
   },
   {
    "duration": 2616,
    "start_time": "2023-07-27T14:00:46.275Z"
   },
   {
    "duration": 5390,
    "start_time": "2023-07-27T14:00:48.894Z"
   },
   {
    "duration": 3,
    "start_time": "2023-07-27T14:00:54.286Z"
   },
   {
    "duration": 696,
    "start_time": "2023-07-27T14:00:54.291Z"
   },
   {
    "duration": 298,
    "start_time": "2023-07-27T14:00:54.989Z"
   },
   {
    "duration": 0,
    "start_time": "2023-07-27T14:00:55.293Z"
   },
   {
    "duration": 0,
    "start_time": "2023-07-27T14:00:55.295Z"
   },
   {
    "duration": 0,
    "start_time": "2023-07-27T14:00:55.296Z"
   },
   {
    "duration": 0,
    "start_time": "2023-07-27T14:00:55.356Z"
   },
   {
    "duration": 0,
    "start_time": "2023-07-27T14:00:55.357Z"
   },
   {
    "duration": 0,
    "start_time": "2023-07-27T14:00:55.358Z"
   },
   {
    "duration": 0,
    "start_time": "2023-07-27T14:00:55.358Z"
   },
   {
    "duration": 0,
    "start_time": "2023-07-27T14:00:55.359Z"
   },
   {
    "duration": 0,
    "start_time": "2023-07-27T14:00:55.363Z"
   },
   {
    "duration": 0,
    "start_time": "2023-07-27T14:00:55.366Z"
   },
   {
    "duration": 0,
    "start_time": "2023-07-27T14:00:55.369Z"
   },
   {
    "duration": 0,
    "start_time": "2023-07-27T14:00:55.371Z"
   },
   {
    "duration": 0,
    "start_time": "2023-07-27T14:00:55.372Z"
   },
   {
    "duration": 0,
    "start_time": "2023-07-27T14:00:55.373Z"
   },
   {
    "duration": 0,
    "start_time": "2023-07-27T14:00:55.374Z"
   },
   {
    "duration": 0,
    "start_time": "2023-07-27T14:00:55.376Z"
   },
   {
    "duration": 0,
    "start_time": "2023-07-27T14:00:55.377Z"
   },
   {
    "duration": 0,
    "start_time": "2023-07-27T14:00:55.378Z"
   },
   {
    "duration": 0,
    "start_time": "2023-07-27T14:00:55.379Z"
   },
   {
    "duration": 0,
    "start_time": "2023-07-27T14:00:55.379Z"
   },
   {
    "duration": 1306,
    "start_time": "2023-07-27T14:04:44.072Z"
   },
   {
    "duration": 16621,
    "start_time": "2023-07-27T14:04:45.380Z"
   },
   {
    "duration": 10222,
    "start_time": "2023-07-27T14:05:02.056Z"
   },
   {
    "duration": 96,
    "start_time": "2023-07-27T14:05:12.280Z"
   },
   {
    "duration": 815,
    "start_time": "2023-07-27T14:05:12.380Z"
   },
   {
    "duration": 21,
    "start_time": "2023-07-27T14:05:13.260Z"
   },
   {
    "duration": 3199,
    "start_time": "2023-07-27T14:05:13.285Z"
   },
   {
    "duration": 3002,
    "start_time": "2023-07-27T14:05:16.486Z"
   },
   {
    "duration": 5090,
    "start_time": "2023-07-27T14:05:19.490Z"
   },
   {
    "duration": 3,
    "start_time": "2023-07-27T14:05:24.582Z"
   },
   {
    "duration": 673,
    "start_time": "2023-07-27T14:05:24.587Z"
   },
   {
    "duration": 6,
    "start_time": "2023-07-27T14:05:25.262Z"
   },
   {
    "duration": 5,
    "start_time": "2023-07-27T14:05:25.270Z"
   },
   {
    "duration": 2366,
    "start_time": "2023-07-27T14:05:25.281Z"
   },
   {
    "duration": 769,
    "start_time": "2023-07-27T14:05:27.649Z"
   },
   {
    "duration": 157,
    "start_time": "2023-07-27T14:05:28.421Z"
   },
   {
    "duration": 3750,
    "start_time": "2023-07-27T14:05:28.581Z"
   },
   {
    "duration": 1664,
    "start_time": "2023-07-27T14:05:32.333Z"
   },
   {
    "duration": 685,
    "start_time": "2023-07-27T14:05:34.002Z"
   },
   {
    "duration": 3693,
    "start_time": "2023-07-27T14:05:34.689Z"
   },
   {
    "duration": 5610,
    "start_time": "2023-07-27T14:05:38.386Z"
   },
   {
    "duration": 96,
    "start_time": "2023-07-27T14:05:43.998Z"
   },
   {
    "duration": 3504,
    "start_time": "2023-07-27T14:05:44.097Z"
   },
   {
    "duration": 82,
    "start_time": "2023-07-27T14:05:47.604Z"
   },
   {
    "duration": 14,
    "start_time": "2023-07-27T14:05:47.688Z"
   },
   {
    "duration": 1397,
    "start_time": "2023-07-27T14:05:47.704Z"
   },
   {
    "duration": 1427,
    "start_time": "2023-07-27T14:05:49.156Z"
   },
   {
    "duration": 1308,
    "start_time": "2023-07-27T14:05:50.585Z"
   },
   {
    "duration": 1031,
    "start_time": "2023-07-27T14:05:51.895Z"
   },
   {
    "duration": 817,
    "start_time": "2023-07-27T14:05:52.960Z"
   },
   {
    "duration": 908,
    "start_time": "2023-07-27T14:05:53.779Z"
   },
   {
    "duration": 287,
    "start_time": "2023-07-27T14:05:54.689Z"
   },
   {
    "duration": 141,
    "start_time": "2023-07-27T14:10:51.761Z"
   },
   {
    "duration": 88,
    "start_time": "2023-07-27T14:15:20.857Z"
   },
   {
    "duration": 1346,
    "start_time": "2023-07-27T14:15:33.283Z"
   },
   {
    "duration": 16636,
    "start_time": "2023-07-27T14:15:34.631Z"
   },
   {
    "duration": 11102,
    "start_time": "2023-07-27T14:15:51.269Z"
   },
   {
    "duration": 92,
    "start_time": "2023-07-27T14:16:02.376Z"
   },
   {
    "duration": 731,
    "start_time": "2023-07-27T14:16:02.472Z"
   },
   {
    "duration": 11,
    "start_time": "2023-07-27T14:16:03.260Z"
   },
   {
    "duration": 3292,
    "start_time": "2023-07-27T14:16:03.273Z"
   },
   {
    "duration": 2926,
    "start_time": "2023-07-27T14:16:06.566Z"
   },
   {
    "duration": 5470,
    "start_time": "2023-07-27T14:16:09.494Z"
   },
   {
    "duration": 7,
    "start_time": "2023-07-27T14:16:14.965Z"
   },
   {
    "duration": 585,
    "start_time": "2023-07-27T14:16:14.973Z"
   },
   {
    "duration": 7,
    "start_time": "2023-07-27T14:16:15.560Z"
   },
   {
    "duration": 11,
    "start_time": "2023-07-27T14:16:15.572Z"
   },
   {
    "duration": 1900,
    "start_time": "2023-07-27T14:16:15.587Z"
   },
   {
    "duration": 1009,
    "start_time": "2023-07-27T14:16:17.489Z"
   },
   {
    "duration": 112,
    "start_time": "2023-07-27T14:16:18.500Z"
   },
   {
    "duration": 608,
    "start_time": "2023-07-27T14:16:18.661Z"
   },
   {
    "duration": 0,
    "start_time": "2023-07-27T14:16:19.270Z"
   },
   {
    "duration": 0,
    "start_time": "2023-07-27T14:16:19.271Z"
   },
   {
    "duration": 0,
    "start_time": "2023-07-27T14:16:19.275Z"
   },
   {
    "duration": 0,
    "start_time": "2023-07-27T14:16:19.275Z"
   },
   {
    "duration": 0,
    "start_time": "2023-07-27T14:16:19.276Z"
   },
   {
    "duration": 0,
    "start_time": "2023-07-27T14:16:19.277Z"
   },
   {
    "duration": 0,
    "start_time": "2023-07-27T14:16:19.278Z"
   },
   {
    "duration": 0,
    "start_time": "2023-07-27T14:16:19.280Z"
   },
   {
    "duration": 0,
    "start_time": "2023-07-27T14:16:19.281Z"
   },
   {
    "duration": 0,
    "start_time": "2023-07-27T14:16:19.282Z"
   },
   {
    "duration": 0,
    "start_time": "2023-07-27T14:16:19.283Z"
   },
   {
    "duration": 0,
    "start_time": "2023-07-27T14:16:19.284Z"
   },
   {
    "duration": 0,
    "start_time": "2023-07-27T14:16:19.286Z"
   },
   {
    "duration": 0,
    "start_time": "2023-07-27T14:16:19.287Z"
   },
   {
    "duration": 0,
    "start_time": "2023-07-27T14:16:19.288Z"
   },
   {
    "duration": 1310,
    "start_time": "2023-07-27T14:17:03.775Z"
   },
   {
    "duration": 614,
    "start_time": "2023-07-27T14:23:05.254Z"
   },
   {
    "duration": 398,
    "start_time": "2023-07-27T14:23:13.559Z"
   },
   {
    "duration": 10,
    "start_time": "2023-07-27T14:31:03.707Z"
   },
   {
    "duration": 535,
    "start_time": "2023-07-27T14:31:08.856Z"
   },
   {
    "duration": 7,
    "start_time": "2023-07-27T14:41:38.901Z"
   },
   {
    "duration": 1398,
    "start_time": "2023-07-27T14:46:50.374Z"
   },
   {
    "duration": 16727,
    "start_time": "2023-07-27T14:46:51.780Z"
   },
   {
    "duration": 10991,
    "start_time": "2023-07-27T14:47:08.511Z"
   },
   {
    "duration": 87,
    "start_time": "2023-07-27T14:47:19.504Z"
   },
   {
    "duration": 767,
    "start_time": "2023-07-27T14:47:19.595Z"
   },
   {
    "duration": 15,
    "start_time": "2023-07-27T14:47:20.364Z"
   },
   {
    "duration": 3027,
    "start_time": "2023-07-27T14:47:20.381Z"
   },
   {
    "duration": 2904,
    "start_time": "2023-07-27T14:47:23.462Z"
   },
   {
    "duration": 5893,
    "start_time": "2023-07-27T14:47:26.371Z"
   },
   {
    "duration": 794,
    "start_time": "2023-07-27T14:47:32.266Z"
   },
   {
    "duration": 4,
    "start_time": "2023-07-27T14:47:33.064Z"
   },
   {
    "duration": 2701,
    "start_time": "2023-07-27T14:47:33.070Z"
   },
   {
    "duration": 1110,
    "start_time": "2023-07-27T14:47:35.773Z"
   },
   {
    "duration": 137,
    "start_time": "2023-07-27T14:47:36.895Z"
   },
   {
    "duration": 1161,
    "start_time": "2023-07-27T14:47:37.057Z"
   },
   {
    "duration": 1855,
    "start_time": "2023-07-27T14:47:38.257Z"
   },
   {
    "duration": 525,
    "start_time": "2023-07-27T14:47:40.156Z"
   },
   {
    "duration": 3184,
    "start_time": "2023-07-27T14:47:40.682Z"
   },
   {
    "duration": 312,
    "start_time": "2023-07-27T14:47:43.871Z"
   },
   {
    "duration": 0,
    "start_time": "2023-07-27T14:47:44.189Z"
   },
   {
    "duration": 0,
    "start_time": "2023-07-27T14:47:44.193Z"
   },
   {
    "duration": 0,
    "start_time": "2023-07-27T14:47:44.197Z"
   },
   {
    "duration": 0,
    "start_time": "2023-07-27T14:47:44.201Z"
   },
   {
    "duration": 0,
    "start_time": "2023-07-27T14:47:44.202Z"
   },
   {
    "duration": 0,
    "start_time": "2023-07-27T14:47:44.204Z"
   },
   {
    "duration": 0,
    "start_time": "2023-07-27T14:47:44.205Z"
   },
   {
    "duration": 0,
    "start_time": "2023-07-27T14:47:44.206Z"
   },
   {
    "duration": 0,
    "start_time": "2023-07-27T14:47:44.208Z"
   },
   {
    "duration": 0,
    "start_time": "2023-07-27T14:47:44.209Z"
   },
   {
    "duration": 3,
    "start_time": "2023-07-27T14:51:30.755Z"
   },
   {
    "duration": 12,
    "start_time": "2023-07-27T14:51:36.400Z"
   },
   {
    "duration": 42,
    "start_time": "2023-07-27T14:51:37.762Z"
   },
   {
    "duration": 24,
    "start_time": "2023-07-27T14:51:39.424Z"
   },
   {
    "duration": 13,
    "start_time": "2023-07-27T14:51:55.402Z"
   },
   {
    "duration": 30,
    "start_time": "2023-07-27T14:51:56.065Z"
   },
   {
    "duration": 27,
    "start_time": "2023-07-27T14:52:39.004Z"
   },
   {
    "duration": 13,
    "start_time": "2023-07-27T14:52:54.420Z"
   },
   {
    "duration": 3,
    "start_time": "2023-07-27T14:53:08.702Z"
   },
   {
    "duration": 4587,
    "start_time": "2023-07-27T14:53:09.401Z"
   },
   {
    "duration": 69,
    "start_time": "2023-07-27T14:53:37.313Z"
   },
   {
    "duration": 5872,
    "start_time": "2023-07-27T14:53:42.800Z"
   },
   {
    "duration": 1385,
    "start_time": "2023-07-27T14:54:02.616Z"
   },
   {
    "duration": 17804,
    "start_time": "2023-07-27T14:54:04.003Z"
   },
   {
    "duration": 11862,
    "start_time": "2023-07-27T14:54:21.858Z"
   },
   {
    "duration": 93,
    "start_time": "2023-07-27T14:54:33.723Z"
   },
   {
    "duration": 782,
    "start_time": "2023-07-27T14:54:33.819Z"
   },
   {
    "duration": 60,
    "start_time": "2023-07-27T14:54:34.604Z"
   },
   {
    "duration": 3233,
    "start_time": "2023-07-27T14:54:34.673Z"
   },
   {
    "duration": 3040,
    "start_time": "2023-07-27T14:54:37.957Z"
   },
   {
    "duration": 5110,
    "start_time": "2023-07-27T14:54:40.998Z"
   },
   {
    "duration": 607,
    "start_time": "2023-07-27T14:54:46.110Z"
   },
   {
    "duration": 3,
    "start_time": "2023-07-27T14:54:46.719Z"
   },
   {
    "duration": 2177,
    "start_time": "2023-07-27T14:54:46.724Z"
   },
   {
    "duration": 1122,
    "start_time": "2023-07-27T14:54:48.902Z"
   },
   {
    "duration": 141,
    "start_time": "2023-07-27T14:54:50.029Z"
   },
   {
    "duration": 1500,
    "start_time": "2023-07-27T14:54:50.171Z"
   },
   {
    "duration": 1728,
    "start_time": "2023-07-27T14:54:51.673Z"
   },
   {
    "duration": 487,
    "start_time": "2023-07-27T14:54:53.404Z"
   },
   {
    "duration": 3872,
    "start_time": "2023-07-27T14:54:53.893Z"
   },
   {
    "duration": 19,
    "start_time": "2023-07-27T14:54:57.767Z"
   },
   {
    "duration": 8,
    "start_time": "2023-07-27T14:54:57.788Z"
   },
   {
    "duration": 171,
    "start_time": "2023-07-27T14:54:57.798Z"
   },
   {
    "duration": 0,
    "start_time": "2023-07-27T14:54:57.974Z"
   },
   {
    "duration": 0,
    "start_time": "2023-07-27T14:54:57.975Z"
   },
   {
    "duration": 0,
    "start_time": "2023-07-27T14:54:57.976Z"
   },
   {
    "duration": 0,
    "start_time": "2023-07-27T14:54:57.977Z"
   },
   {
    "duration": 0,
    "start_time": "2023-07-27T14:54:57.978Z"
   },
   {
    "duration": 0,
    "start_time": "2023-07-27T14:54:57.979Z"
   },
   {
    "duration": 0,
    "start_time": "2023-07-27T14:54:57.980Z"
   },
   {
    "duration": 0,
    "start_time": "2023-07-27T14:54:57.981Z"
   },
   {
    "duration": 9209,
    "start_time": "2023-07-27T14:55:51.154Z"
   },
   {
    "duration": 1488,
    "start_time": "2023-07-27T14:57:16.103Z"
   },
   {
    "duration": 18505,
    "start_time": "2023-07-27T14:57:17.598Z"
   },
   {
    "duration": 11484,
    "start_time": "2023-07-27T14:57:36.105Z"
   },
   {
    "duration": 127,
    "start_time": "2023-07-27T14:57:47.591Z"
   },
   {
    "duration": 834,
    "start_time": "2023-07-27T14:57:47.761Z"
   },
   {
    "duration": 66,
    "start_time": "2023-07-27T14:57:48.597Z"
   },
   {
    "duration": 3294,
    "start_time": "2023-07-27T14:57:48.670Z"
   },
   {
    "duration": 3033,
    "start_time": "2023-07-27T14:57:51.966Z"
   },
   {
    "duration": 5511,
    "start_time": "2023-07-27T14:57:55.057Z"
   },
   {
    "duration": 751,
    "start_time": "2023-07-27T14:58:00.569Z"
   },
   {
    "duration": 5,
    "start_time": "2023-07-27T14:58:01.326Z"
   },
   {
    "duration": 2183,
    "start_time": "2023-07-27T14:58:01.367Z"
   },
   {
    "duration": 1062,
    "start_time": "2023-07-27T14:58:03.552Z"
   },
   {
    "duration": 117,
    "start_time": "2023-07-27T14:58:04.665Z"
   },
   {
    "duration": 1590,
    "start_time": "2023-07-27T14:58:04.796Z"
   },
   {
    "duration": 1673,
    "start_time": "2023-07-27T14:58:06.388Z"
   },
   {
    "duration": 620,
    "start_time": "2023-07-27T14:58:08.063Z"
   },
   {
    "duration": 4792,
    "start_time": "2023-07-27T14:58:08.686Z"
   },
   {
    "duration": 7,
    "start_time": "2023-07-27T14:58:13.480Z"
   },
   {
    "duration": 10682,
    "start_time": "2023-07-27T14:58:13.489Z"
   },
   {
    "duration": 21,
    "start_time": "2023-07-27T14:58:24.173Z"
   },
   {
    "duration": 239,
    "start_time": "2023-07-27T14:58:24.196Z"
   },
   {
    "duration": 0,
    "start_time": "2023-07-27T14:58:24.437Z"
   },
   {
    "duration": 0,
    "start_time": "2023-07-27T14:58:24.439Z"
   },
   {
    "duration": 0,
    "start_time": "2023-07-27T14:58:24.440Z"
   },
   {
    "duration": 0,
    "start_time": "2023-07-27T14:58:24.442Z"
   },
   {
    "duration": 0,
    "start_time": "2023-07-27T14:58:24.444Z"
   },
   {
    "duration": 0,
    "start_time": "2023-07-27T14:58:24.456Z"
   },
   {
    "duration": 28,
    "start_time": "2023-07-27T15:00:47.395Z"
   },
   {
    "duration": 2829,
    "start_time": "2023-07-27T15:01:07.665Z"
   },
   {
    "duration": 1305,
    "start_time": "2023-07-27T15:01:17.697Z"
   },
   {
    "duration": 2713,
    "start_time": "2023-07-27T15:04:10.645Z"
   },
   {
    "duration": 1387,
    "start_time": "2023-07-27T15:04:19.585Z"
   },
   {
    "duration": 1123,
    "start_time": "2023-07-27T15:04:21.162Z"
   },
   {
    "duration": 1390,
    "start_time": "2023-07-27T15:17:40.909Z"
   },
   {
    "duration": 17486,
    "start_time": "2023-07-27T15:17:42.301Z"
   },
   {
    "duration": 11476,
    "start_time": "2023-07-27T15:17:59.789Z"
   },
   {
    "duration": 92,
    "start_time": "2023-07-27T15:18:11.266Z"
   },
   {
    "duration": 1006,
    "start_time": "2023-07-27T15:18:11.364Z"
   },
   {
    "duration": 18,
    "start_time": "2023-07-27T15:18:12.372Z"
   },
   {
    "duration": 3013,
    "start_time": "2023-07-27T15:18:12.394Z"
   },
   {
    "duration": 2860,
    "start_time": "2023-07-27T15:18:15.409Z"
   },
   {
    "duration": 5372,
    "start_time": "2023-07-27T15:18:18.270Z"
   },
   {
    "duration": 657,
    "start_time": "2023-07-27T15:18:23.644Z"
   },
   {
    "duration": 5,
    "start_time": "2023-07-27T15:18:24.302Z"
   },
   {
    "duration": 2082,
    "start_time": "2023-07-27T15:18:24.309Z"
   },
   {
    "duration": 1268,
    "start_time": "2023-07-27T15:18:26.394Z"
   },
   {
    "duration": 133,
    "start_time": "2023-07-27T15:18:27.667Z"
   },
   {
    "duration": 1893,
    "start_time": "2023-07-27T15:18:27.802Z"
   },
   {
    "duration": 1677,
    "start_time": "2023-07-27T15:18:29.700Z"
   },
   {
    "duration": 613,
    "start_time": "2023-07-27T15:18:31.378Z"
   },
   {
    "duration": 3511,
    "start_time": "2023-07-27T15:18:31.993Z"
   },
   {
    "duration": 5366,
    "start_time": "2023-07-27T15:18:35.505Z"
   },
   {
    "duration": 4098,
    "start_time": "2023-07-27T15:18:40.873Z"
   },
   {
    "duration": 16,
    "start_time": "2023-07-27T15:18:44.985Z"
   },
   {
    "duration": 1078,
    "start_time": "2023-07-27T15:18:45.002Z"
   },
   {
    "duration": 984,
    "start_time": "2023-07-27T15:18:46.082Z"
   },
   {
    "duration": 954,
    "start_time": "2023-07-27T15:18:47.068Z"
   },
   {
    "duration": 708,
    "start_time": "2023-07-27T15:18:48.024Z"
   },
   {
    "duration": 931,
    "start_time": "2023-07-27T15:18:48.734Z"
   },
   {
    "duration": 745,
    "start_time": "2023-07-27T15:18:49.667Z"
   },
   {
    "duration": 388,
    "start_time": "2023-07-27T15:18:50.415Z"
   },
   {
    "duration": 4,
    "start_time": "2023-07-27T15:27:32.061Z"
   },
   {
    "duration": 1434,
    "start_time": "2023-07-27T15:28:27.181Z"
   },
   {
    "duration": 17288,
    "start_time": "2023-07-27T15:28:28.618Z"
   },
   {
    "duration": 10504,
    "start_time": "2023-07-27T15:28:45.959Z"
   },
   {
    "duration": 113,
    "start_time": "2023-07-27T15:28:56.465Z"
   },
   {
    "duration": 1023,
    "start_time": "2023-07-27T15:28:56.586Z"
   },
   {
    "duration": 7,
    "start_time": "2023-07-27T15:28:57.657Z"
   },
   {
    "duration": 3308,
    "start_time": "2023-07-27T15:28:57.666Z"
   },
   {
    "duration": 2728,
    "start_time": "2023-07-27T15:29:00.976Z"
   },
   {
    "duration": 4816,
    "start_time": "2023-07-27T15:29:03.705Z"
   },
   {
    "duration": 706,
    "start_time": "2023-07-27T15:29:08.555Z"
   },
   {
    "duration": 9,
    "start_time": "2023-07-27T15:29:09.262Z"
   },
   {
    "duration": 2097,
    "start_time": "2023-07-27T15:29:09.276Z"
   },
   {
    "duration": 1084,
    "start_time": "2023-07-27T15:29:11.375Z"
   },
   {
    "duration": 62,
    "start_time": "2023-07-27T15:29:12.462Z"
   },
   {
    "duration": 1303,
    "start_time": "2023-07-27T15:29:12.557Z"
   },
   {
    "duration": 1436,
    "start_time": "2023-07-27T15:29:13.861Z"
   },
   {
    "duration": 494,
    "start_time": "2023-07-27T15:29:15.299Z"
   },
   {
    "duration": 3707,
    "start_time": "2023-07-27T15:29:15.794Z"
   },
   {
    "duration": 60,
    "start_time": "2023-07-27T15:29:19.503Z"
   },
   {
    "duration": 8555,
    "start_time": "2023-07-27T15:29:19.565Z"
   },
   {
    "duration": 50,
    "start_time": "2023-07-27T15:29:28.122Z"
   },
   {
    "duration": 1193,
    "start_time": "2023-07-27T15:29:28.175Z"
   },
   {
    "duration": 998,
    "start_time": "2023-07-27T15:29:29.369Z"
   },
   {
    "duration": 720,
    "start_time": "2023-07-27T15:29:30.369Z"
   },
   {
    "duration": 786,
    "start_time": "2023-07-27T15:29:31.091Z"
   },
   {
    "duration": 845,
    "start_time": "2023-07-27T15:29:31.878Z"
   },
   {
    "duration": 672,
    "start_time": "2023-07-27T15:29:32.725Z"
   },
   {
    "duration": 511,
    "start_time": "2023-07-27T15:29:33.398Z"
   },
   {
    "duration": 1334,
    "start_time": "2023-07-27T15:30:09.184Z"
   },
   {
    "duration": 16922,
    "start_time": "2023-07-27T15:30:10.520Z"
   },
   {
    "duration": 10940,
    "start_time": "2023-07-27T15:30:27.461Z"
   },
   {
    "duration": 111,
    "start_time": "2023-07-27T15:30:38.403Z"
   },
   {
    "duration": 842,
    "start_time": "2023-07-27T15:30:38.568Z"
   },
   {
    "duration": 61,
    "start_time": "2023-07-27T15:30:39.412Z"
   },
   {
    "duration": 3433,
    "start_time": "2023-07-27T15:30:39.480Z"
   },
   {
    "duration": 2852,
    "start_time": "2023-07-27T15:30:42.915Z"
   },
   {
    "duration": 5032,
    "start_time": "2023-07-27T15:30:45.772Z"
   },
   {
    "duration": 742,
    "start_time": "2023-07-27T15:30:50.859Z"
   },
   {
    "duration": 4,
    "start_time": "2023-07-27T15:30:51.603Z"
   },
   {
    "duration": 2428,
    "start_time": "2023-07-27T15:30:51.659Z"
   },
   {
    "duration": 1078,
    "start_time": "2023-07-27T15:30:54.089Z"
   },
   {
    "duration": 137,
    "start_time": "2023-07-27T15:30:55.171Z"
   },
   {
    "duration": 1239,
    "start_time": "2023-07-27T15:30:55.361Z"
   },
   {
    "duration": 1702,
    "start_time": "2023-07-27T15:30:56.602Z"
   },
   {
    "duration": 571,
    "start_time": "2023-07-27T15:30:58.306Z"
   },
   {
    "duration": 3311,
    "start_time": "2023-07-27T15:30:58.881Z"
   },
   {
    "duration": 3,
    "start_time": "2023-07-27T15:31:02.195Z"
   },
   {
    "duration": 8486,
    "start_time": "2023-07-27T15:31:02.201Z"
   },
   {
    "duration": 17,
    "start_time": "2023-07-27T15:31:10.689Z"
   },
   {
    "duration": 1111,
    "start_time": "2023-07-27T15:31:10.708Z"
   },
   {
    "duration": 919,
    "start_time": "2023-07-27T15:31:11.857Z"
   },
   {
    "duration": 727,
    "start_time": "2023-07-27T15:31:12.778Z"
   },
   {
    "duration": 922,
    "start_time": "2023-07-27T15:31:13.507Z"
   },
   {
    "duration": 757,
    "start_time": "2023-07-27T15:31:14.431Z"
   },
   {
    "duration": 989,
    "start_time": "2023-07-27T15:31:15.189Z"
   },
   {
    "duration": 432,
    "start_time": "2023-07-27T15:31:16.180Z"
   },
   {
    "duration": 1520,
    "start_time": "2023-07-28T05:24:39.717Z"
   },
   {
    "duration": 23442,
    "start_time": "2023-07-28T05:24:41.239Z"
   },
   {
    "duration": 9943,
    "start_time": "2023-07-28T05:25:04.683Z"
   },
   {
    "duration": 74,
    "start_time": "2023-07-28T05:25:14.627Z"
   },
   {
    "duration": 713,
    "start_time": "2023-07-28T05:25:14.707Z"
   },
   {
    "duration": 77,
    "start_time": "2023-07-28T05:25:15.423Z"
   },
   {
    "duration": 2783,
    "start_time": "2023-07-28T05:25:15.502Z"
   },
   {
    "duration": 2619,
    "start_time": "2023-07-28T05:25:18.287Z"
   },
   {
    "duration": 4058,
    "start_time": "2023-07-28T05:25:20.907Z"
   },
   {
    "duration": 549,
    "start_time": "2023-07-28T05:25:24.979Z"
   },
   {
    "duration": 56,
    "start_time": "2023-07-28T05:25:25.529Z"
   },
   {
    "duration": 2120,
    "start_time": "2023-07-28T05:25:25.587Z"
   },
   {
    "duration": 910,
    "start_time": "2023-07-28T05:25:27.714Z"
   },
   {
    "duration": 173,
    "start_time": "2023-07-28T05:25:28.627Z"
   },
   {
    "duration": 1021,
    "start_time": "2023-07-28T05:25:28.802Z"
   },
   {
    "duration": 546,
    "start_time": "2023-07-28T05:26:09.546Z"
   },
   {
    "duration": 159,
    "start_time": "2023-07-28T05:26:38.098Z"
   },
   {
    "duration": 222,
    "start_time": "2023-07-28T05:26:42.667Z"
   },
   {
    "duration": 17,
    "start_time": "2023-07-28T05:27:15.163Z"
   },
   {
    "duration": 230,
    "start_time": "2023-07-28T05:29:25.657Z"
   },
   {
    "duration": 157,
    "start_time": "2023-07-28T05:29:32.325Z"
   },
   {
    "duration": 139,
    "start_time": "2023-07-28T05:29:48.121Z"
   }
  ],
  "colab": {
   "name": "PySparkSprint.ipynb",
   "provenance": []
  },
  "kernelspec": {
   "display_name": "Python 3 (ipykernel)",
   "language": "python",
   "name": "python3"
  },
  "language_info": {
   "codemirror_mode": {
    "name": "ipython",
    "version": 3
   },
   "file_extension": ".py",
   "mimetype": "text/x-python",
   "name": "python",
   "nbconvert_exporter": "python",
   "pygments_lexer": "ipython3",
   "version": "3.9.5"
  },
  "toc": {
   "base_numbering": 1,
   "nav_menu": {},
   "number_sections": true,
   "sideBar": true,
   "skip_h1_title": true,
   "title_cell": "Table of Contents",
   "title_sidebar": "Contents",
   "toc_cell": false,
   "toc_position": {
    "height": "calc(100% - 180px)",
    "left": "10px",
    "top": "150px",
    "width": "222.173px"
   },
   "toc_section_display": true,
   "toc_window_display": true
  }
 },
 "nbformat": 4,
 "nbformat_minor": 5
}

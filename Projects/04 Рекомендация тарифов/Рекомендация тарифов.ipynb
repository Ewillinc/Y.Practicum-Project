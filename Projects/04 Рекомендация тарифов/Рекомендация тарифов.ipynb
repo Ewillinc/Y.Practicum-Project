{
 "cells": [
  {
   "cell_type": "markdown",
   "metadata": {},
   "source": [
    "# Рекомендация тарифов"
   ]
  },
  {
   "cell_type": "markdown",
   "metadata": {},
   "source": [
    "\n",
    "В распоряжении имеются данные о поведении клиентов, которые уже перешли на эти тарифы (из проекта курса «Статистический анализ данных»). Нужно построить модель для задачи классификации, которая выберет подходящий тариф. \n",
    "\n",
    "Данные прошли проверенную предобработку.\n",
    "\n",
    "Задача: построить модель с \"accuracy\" >= 0.75"
   ]
  },
  {
   "cell_type": "markdown",
   "metadata": {},
   "source": [
    "## Откройте и изучите файл"
   ]
  },
  {
   "cell_type": "code",
   "execution_count": 2,
   "metadata": {},
   "outputs": [],
   "source": [
    "import pandas as pd\n",
    "import numpy as np \n",
    "from sklearn.tree import DecisionTreeClassifier\n",
    "from sklearn.ensemble import RandomForestClassifier\n",
    "from sklearn.linear_model import LogisticRegression \n",
    "from sklearn.metrics import accuracy_score \n",
    "from sklearn.model_selection import train_test_split "
   ]
  },
  {
   "cell_type": "code",
   "execution_count": 3,
   "metadata": {},
   "outputs": [],
   "source": [
    "df = pd.read_csv('/datasets/users_behavior.csv')"
   ]
  },
  {
   "cell_type": "code",
   "execution_count": 4,
   "metadata": {
    "scrolled": true
   },
   "outputs": [
    {
     "data": {
      "text/html": [
       "<div>\n",
       "<style scoped>\n",
       "    .dataframe tbody tr th:only-of-type {\n",
       "        vertical-align: middle;\n",
       "    }\n",
       "\n",
       "    .dataframe tbody tr th {\n",
       "        vertical-align: top;\n",
       "    }\n",
       "\n",
       "    .dataframe thead th {\n",
       "        text-align: right;\n",
       "    }\n",
       "</style>\n",
       "<table border=\"1\" class=\"dataframe\">\n",
       "  <thead>\n",
       "    <tr style=\"text-align: right;\">\n",
       "      <th></th>\n",
       "      <th>calls</th>\n",
       "      <th>minutes</th>\n",
       "      <th>messages</th>\n",
       "      <th>mb_used</th>\n",
       "      <th>is_ultra</th>\n",
       "    </tr>\n",
       "  </thead>\n",
       "  <tbody>\n",
       "    <tr>\n",
       "      <th>0</th>\n",
       "      <td>40.0</td>\n",
       "      <td>311.90</td>\n",
       "      <td>83.0</td>\n",
       "      <td>19915.42</td>\n",
       "      <td>0</td>\n",
       "    </tr>\n",
       "    <tr>\n",
       "      <th>1</th>\n",
       "      <td>85.0</td>\n",
       "      <td>516.75</td>\n",
       "      <td>56.0</td>\n",
       "      <td>22696.96</td>\n",
       "      <td>0</td>\n",
       "    </tr>\n",
       "    <tr>\n",
       "      <th>2</th>\n",
       "      <td>77.0</td>\n",
       "      <td>467.66</td>\n",
       "      <td>86.0</td>\n",
       "      <td>21060.45</td>\n",
       "      <td>0</td>\n",
       "    </tr>\n",
       "    <tr>\n",
       "      <th>3</th>\n",
       "      <td>106.0</td>\n",
       "      <td>745.53</td>\n",
       "      <td>81.0</td>\n",
       "      <td>8437.39</td>\n",
       "      <td>1</td>\n",
       "    </tr>\n",
       "    <tr>\n",
       "      <th>4</th>\n",
       "      <td>66.0</td>\n",
       "      <td>418.74</td>\n",
       "      <td>1.0</td>\n",
       "      <td>14502.75</td>\n",
       "      <td>0</td>\n",
       "    </tr>\n",
       "  </tbody>\n",
       "</table>\n",
       "</div>"
      ],
      "text/plain": [
       "   calls  minutes  messages   mb_used  is_ultra\n",
       "0   40.0   311.90      83.0  19915.42         0\n",
       "1   85.0   516.75      56.0  22696.96         0\n",
       "2   77.0   467.66      86.0  21060.45         0\n",
       "3  106.0   745.53      81.0   8437.39         1\n",
       "4   66.0   418.74       1.0  14502.75         0"
      ]
     },
     "metadata": {},
     "output_type": "display_data"
    }
   ],
   "source": [
    "display(df.head())"
   ]
  },
  {
   "cell_type": "code",
   "execution_count": 5,
   "metadata": {},
   "outputs": [
    {
     "name": "stdout",
     "output_type": "stream",
     "text": [
      "<class 'pandas.core.frame.DataFrame'>\n",
      "RangeIndex: 3214 entries, 0 to 3213\n",
      "Data columns (total 5 columns):\n",
      " #   Column    Non-Null Count  Dtype  \n",
      "---  ------    --------------  -----  \n",
      " 0   calls     3214 non-null   float64\n",
      " 1   minutes   3214 non-null   float64\n",
      " 2   messages  3214 non-null   float64\n",
      " 3   mb_used   3214 non-null   float64\n",
      " 4   is_ultra  3214 non-null   int64  \n",
      "dtypes: float64(4), int64(1)\n",
      "memory usage: 125.7 KB\n"
     ]
    },
    {
     "data": {
      "text/plain": [
       "None"
      ]
     },
     "metadata": {},
     "output_type": "display_data"
    }
   ],
   "source": [
    "display(df.info())"
   ]
  },
  {
   "cell_type": "markdown",
   "metadata": {},
   "source": [
    "Так как датасет предполагает в себе уже обработанные данные - проверим соотношение интересующих нас ответов и переходим сразу к разбиению данных и моделированию."
   ]
  },
  {
   "cell_type": "code",
   "execution_count": 5,
   "metadata": {},
   "outputs": [
    {
     "name": "stdout",
     "output_type": "stream",
     "text": [
      "Процент тарифов Ultra 30.647168637212197 %\n"
     ]
    }
   ],
   "source": [
    "print('Процент тарифов Ultra',(df[df['is_ultra'] == 1]['is_ultra'].count()/\n",
    "       len(df['is_ultra']))*100, '%')"
   ]
  },
  {
   "cell_type": "code",
   "execution_count": 6,
   "metadata": {},
   "outputs": [
    {
     "name": "stdout",
     "output_type": "stream",
     "text": [
      "Процент тарифов Smart 69.35283136278781 %\n"
     ]
    }
   ],
   "source": [
    "print('Процент тарифов Smart',(df[df['is_ultra'] == 0]['is_ultra'].count()/\n",
    "      len(df['is_ultra']))*100, '%')"
   ]
  },
  {
   "cell_type": "markdown",
   "metadata": {},
   "source": [
    "На основе соотношения тарифов можно утверждать: **Теоретически, модель выставляющая одни нули(Smart'ы), могла бы иметь точность около 70%**\n"
   ]
  },
  {
   "cell_type": "markdown",
   "metadata": {},
   "source": [
    "## Разбиение на выборки"
   ]
  },
  {
   "cell_type": "code",
   "execution_count": 7,
   "metadata": {},
   "outputs": [],
   "source": [
    "features = df.drop(['is_ultra'], axis = 1)\n",
    "target = df['is_ultra']"
   ]
  },
  {
   "cell_type": "markdown",
   "metadata": {},
   "source": [
    "В отсутствии скрытой, тестовой, выборки разделим весь набор данных на выборки: для обучения\\валидационную\\тестовую в соотношениях 6:2:2 "
   ]
  },
  {
   "cell_type": "code",
   "execution_count": 8,
   "metadata": {},
   "outputs": [],
   "source": [
    "features_train, features_test, target_train, target_test = train_test_split(features, target, \n",
    "                                                                            test_size= 0.4, random_state = 12345)\n",
    "features_test, features_valid, target_test, target_valid = train_test_split(features_test, target_test,\n",
    "                                                                            test_size = 0.5, random_state = 12345)\n"
   ]
  },
  {
   "cell_type": "code",
   "execution_count": 9,
   "metadata": {},
   "outputs": [
    {
     "name": "stdout",
     "output_type": "stream",
     "text": [
      "Размер всей выборки, признаки/ответы : (3214, 4) / (3214,)\n",
      "Размер обучающей выборки, признаки/ответы: (1928, 4) / (1928,)\n",
      "Размер тестовой выборки, признаки/ответы: (643, 4) / (643,)\n",
      "Размер валидационной выборки, признаки/ответы: (643, 4) / (643,)\n"
     ]
    }
   ],
   "source": [
    "print('Размер всей выборки, признаки/ответы :',features.shape,'/', target.shape)\n",
    "print('Размер обучающей выборки, признаки/ответы:',features_train.shape,'/', target_train.shape)\n",
    "print('Размер тестовой выборки, признаки/ответы:',features_test.shape,'/', target_test.shape)\n",
    "print('Размер валидационной выборки, признаки/ответы:',features_valid.shape,'/', target_valid.shape)"
   ]
  },
  {
   "cell_type": "markdown",
   "metadata": {},
   "source": [
    "## Исследование моделей"
   ]
  },
  {
   "cell_type": "markdown",
   "metadata": {},
   "source": [
    "Т.к. клиентом предлагается выбор только из двух тарифов - перед нами бинарная классификационная задача, определяющая дальнейший выбор моделей."
   ]
  },
  {
   "cell_type": "markdown",
   "metadata": {},
   "source": [
    "Качество подбираемых моделей будем смотреть на валидационной выборке, добавляя каждой модели гиперпараметр - random_state.\n"
   ]
  },
  {
   "cell_type": "markdown",
   "metadata": {},
   "source": [
    "* **DecisionTreeClassifier**"
   ]
  },
  {
   "cell_type": "markdown",
   "metadata": {},
   "source": [
    "Рассмотрим модели с простым перебором по гиперпараметру глубины дерева. "
   ]
  },
  {
   "cell_type": "code",
   "execution_count": 10,
   "metadata": {},
   "outputs": [
    {
     "name": "stdout",
     "output_type": "stream",
     "text": [
      "Лучшая модель решающего дерева: DecisionTreeClassifier(max_depth=7, random_state=12345)\n",
      "Показатель точности: 0.7993779160186625\n",
      "CPU times: user 107 ms, sys: 1.31 ms, total: 108 ms\n",
      "Wall time: 113 ms\n"
     ]
    }
   ],
   "source": [
    "%%time\n",
    "\n",
    "best_model_dtc = None\n",
    "best_result_dtc = 0\n",
    "\n",
    "for depth in range(1,14):\n",
    "    model = DecisionTreeClassifier(random_state = 12345, max_depth = depth)\n",
    "    model.fit(features_train, target_train)\n",
    "    prediction_valid = model.predict(features_valid)\n",
    "    ac_test = accuracy_score(target_valid, prediction_valid)\n",
    "    if ac_test > best_result_dtc:\n",
    "        best_model_dtc = model\n",
    "        best_result_dtc = ac_test\n",
    "\n",
    "print('Лучшая модель решающего дерева:', best_model_dtc)\n",
    "print('Показатель точности:', best_result_dtc)"
   ]
  },
  {
   "cell_type": "markdown",
   "metadata": {},
   "source": [
    "* **RandomForestClassifier**"
   ]
  },
  {
   "cell_type": "markdown",
   "metadata": {},
   "source": [
    "Рассмотрим модели с переборам по гиперпараметрам: количества деревьев и глубины.\n"
   ]
  },
  {
   "cell_type": "code",
   "execution_count": 11,
   "metadata": {},
   "outputs": [
    {
     "name": "stdout",
     "output_type": "stream",
     "text": [
      "Лучшая модель случайного леса: RandomForestClassifier(max_depth=6, n_estimators=21, random_state=12345)\n",
      "Показатель точности: 0.7978227060653188\n",
      "CPU times: user 1.03 s, sys: 8.26 ms, total: 1.03 s\n",
      "Wall time: 1.04 s\n"
     ]
    }
   ],
   "source": [
    "%%time\n",
    "\n",
    "best_model_rfc = None\n",
    "best_result_rfc = 0\n",
    "\n",
    "for est in range(1, 41, 10):\n",
    "    for depth in range(1,7):\n",
    "        model = RandomForestClassifier(random_state = 12345, max_depth = depth, n_estimators = est)\n",
    "        model.fit(features_train, target_train)\n",
    "        prediction_valid = model.predict(features_valid)\n",
    "        ac_test = accuracy_score(target_valid, prediction_valid)\n",
    "        if ac_test > best_result_rfc:\n",
    "            best_model_rfc = model\n",
    "            best_result_rfc = ac_test\n",
    "            \n",
    "print('Лучшая модель случайного леса:', best_model_rfc)\n",
    "print('Показатель точности:', best_result_rfc)"
   ]
  },
  {
   "cell_type": "markdown",
   "metadata": {},
   "source": [
    "* **LogisticRegression**"
   ]
  },
  {
   "cell_type": "code",
   "execution_count": 12,
   "metadata": {},
   "outputs": [
    {
     "name": "stdout",
     "output_type": "stream",
     "text": [
      "Показатель точности у модели логической регрессии: 0.6842923794712286\n",
      "CPU times: user 28.2 ms, sys: 8.03 ms, total: 36.2 ms\n",
      "Wall time: 33.8 ms\n"
     ]
    }
   ],
   "source": [
    "%%time\n",
    "\n",
    "model = LogisticRegression(random_state=12345, solver='lbfgs', max_iter=1000)\n",
    "model.fit(features_train, target_train)\n",
    "prediction_valid = model.predict(features_valid)\n",
    "ac_test_lr = model.score(features_valid, target_valid)\n",
    "\n",
    "print('Показатель точности у модели логической регрессии:',\n",
    "    ac_test_lr)"
   ]
  },
  {
   "cell_type": "markdown",
   "metadata": {},
   "source": [
    "**Вывод:**"
   ]
  },
  {
   "cell_type": "markdown",
   "metadata": {},
   "source": [
    "DecisionTreeClassifier - показала наилучшую точность в **79,9%**\n",
    "\n",
    "\n",
    "RandomForestClassifier - показала точность **79,7%**\n",
    "\n",
    "\n",
    "LogisticRegression - показала точность **68%** "
   ]
  },
  {
   "cell_type": "markdown",
   "metadata": {},
   "source": [
    "## Проверьте модель на тестовой выборке"
   ]
  },
  {
   "cell_type": "markdown",
   "metadata": {},
   "source": [
    "**Среди сравнительно одинаковых результатов между моделями Решающего дерева и Рандомного леса, в данном случае, отдадим предпочтение решающему дереву т.к. при идентичных показателях точности, модель решающего дерева работает быстрее.**\n",
    "\n",
    "\n",
    "**Воспроизведём её на тестовой выборке:**"
   ]
  },
  {
   "cell_type": "code",
   "execution_count": 13,
   "metadata": {},
   "outputs": [
    {
     "name": "stdout",
     "output_type": "stream",
     "text": [
      "Точность итоговой модели на тестовой выборке: 0.7822706065318819\n",
      "CPU times: user 4.04 ms, sys: 7.71 ms, total: 11.8 ms\n",
      "Wall time: 10.1 ms\n"
     ]
    }
   ],
   "source": [
    "%%time\n",
    "\n",
    "model = DecisionTreeClassifier(random_state = 12345, max_depth = 7)\n",
    "model.fit(features_train, target_train)\n",
    "prediction_test = model.predict(features_test)\n",
    "accuracy_dtc = accuracy_score(target_test, prediction_test)\n",
    "\n",
    "print('Точность итоговой модели на тестовой выборке:', accuracy_dtc)"
   ]
  },
  {
   "cell_type": "markdown",
   "metadata": {},
   "source": [
    "**Точность модели на тестовой выборке равна 78.2%**"
   ]
  },
  {
   "cell_type": "markdown",
   "metadata": {},
   "source": [
    "## Проверка моделей на адекватность "
   ]
  },
  {
   "cell_type": "markdown",
   "metadata": {},
   "source": [
    "Для данной проверки мы не будем использовать какую-либо конкретную модель, нам достаточно обратиться к начальному соотношению ответов в выборках и использовать условную модель, выдающую только один ответ, охватывающий большую часть тестовой выборки."
   ]
  },
  {
   "cell_type": "code",
   "execution_count": 14,
   "metadata": {},
   "outputs": [
    {
     "name": "stdout",
     "output_type": "stream",
     "text": [
      "0    0.706065\n",
      "1    0.293935\n",
      "Name: is_ultra, dtype: float64\n"
     ]
    }
   ],
   "source": [
    "print(target_test.value_counts([0]))"
   ]
  },
  {
   "cell_type": "markdown",
   "metadata": {},
   "source": [
    "Таким образом - адекватной моделью можно считать только ту, превосходящую точностью 70% модели, которой даже делать ничего не нужно, как предлагать всем клиентам тариф смарт."
   ]
  },
  {
   "cell_type": "markdown",
   "metadata": {},
   "source": [
    "Построим нашу модель ещё раз."
   ]
  },
  {
   "cell_type": "code",
   "execution_count": 15,
   "metadata": {
    "scrolled": true
   },
   "outputs": [
    {
     "name": "stdout",
     "output_type": "stream",
     "text": [
      "Точность итоговой модели на тестовой выборке: 0.7822706065318819\n",
      "CPU times: user 9.57 ms, sys: 283 µs, total: 9.85 ms\n",
      "Wall time: 9.22 ms\n"
     ]
    }
   ],
   "source": [
    "%%time\n",
    "\n",
    "model = DecisionTreeClassifier(random_state = 12345, max_depth = 7)\n",
    "model.fit(features_train, target_train)\n",
    "prediction_test = model.predict(features_test)\n",
    "accuracy_dtc = accuracy_score(target_test, prediction_test)\n",
    "\n",
    "print('Точность итоговой модели на тестовой выборке:', accuracy_dtc)"
   ]
  },
  {
   "cell_type": "markdown",
   "metadata": {},
   "source": [
    "0.78 > 0.70"
   ]
  },
  {
   "cell_type": "markdown",
   "metadata": {},
   "source": [
    "**Вывод:**"
   ]
  },
  {
   "cell_type": "markdown",
   "metadata": {},
   "source": [
    "**Точность итоговой модели больше, чем точность случайной модели**\n",
    "\n",
    "**-> Модель адекватна**"
   ]
  },
  {
   "cell_type": "markdown",
   "metadata": {},
   "source": [
    "## Общий вывод:"
   ]
  },
  {
   "cell_type": "markdown",
   "metadata": {},
   "source": [
    "* На заранее предобработанных данных, для выполнения задачи классификации были рассмотрены следующие модели: **DecisionTreeClassifier** ; **RandomForestClassifier** ; **LogisticRegression**.\n",
    "* Наиболее эффективной была признана модель: **DecisionTreeClassifier**, с гиперпараметрами: **random_state = 12345**, **max_depth = 7**.\n",
    "* На тестовой выборке модель показала **точность 78,2%**, и **прошла тест на адекватность**."
   ]
  }
 ],
 "metadata": {
  "ExecuteTimeLog": [
   {
    "duration": 62,
    "start_time": "2023-02-22T01:29:49.095Z"
   },
   {
    "duration": 1245,
    "start_time": "2023-02-22T01:29:50.478Z"
   },
   {
    "duration": 12,
    "start_time": "2023-02-22T01:30:03.073Z"
   },
   {
    "duration": 45,
    "start_time": "2023-02-22T01:30:05.422Z"
   },
   {
    "duration": 12,
    "start_time": "2023-02-22T01:30:09.624Z"
   },
   {
    "duration": 10,
    "start_time": "2023-02-22T01:30:19.184Z"
   },
   {
    "duration": 9,
    "start_time": "2023-02-22T01:30:24.697Z"
   },
   {
    "duration": 13,
    "start_time": "2023-02-22T01:49:20.035Z"
   },
   {
    "duration": 49,
    "start_time": "2023-02-22T01:49:30.656Z"
   },
   {
    "duration": 15,
    "start_time": "2023-02-22T01:49:40.696Z"
   },
   {
    "duration": 41,
    "start_time": "2023-02-22T01:49:43.840Z"
   },
   {
    "duration": 38,
    "start_time": "2023-02-22T01:49:49.383Z"
   },
   {
    "duration": 40,
    "start_time": "2023-02-22T01:50:01.405Z"
   },
   {
    "duration": 123,
    "start_time": "2023-02-22T01:50:04.423Z"
   },
   {
    "duration": 24,
    "start_time": "2023-02-22T01:51:09.605Z"
   },
   {
    "duration": 4,
    "start_time": "2023-02-22T01:53:25.054Z"
   },
   {
    "duration": 5,
    "start_time": "2023-02-22T02:13:38.145Z"
   },
   {
    "duration": 30,
    "start_time": "2023-02-22T02:13:39.319Z"
   },
   {
    "duration": 10,
    "start_time": "2023-02-22T02:13:39.920Z"
   },
   {
    "duration": 4,
    "start_time": "2023-02-22T02:13:41.279Z"
   },
   {
    "duration": 14,
    "start_time": "2023-02-22T02:33:42.981Z"
   },
   {
    "duration": 5,
    "start_time": "2023-02-22T02:33:50.315Z"
   },
   {
    "duration": 13,
    "start_time": "2023-02-22T02:33:51.836Z"
   },
   {
    "duration": 15,
    "start_time": "2023-02-22T02:34:18.854Z"
   },
   {
    "duration": 5,
    "start_time": "2023-02-22T02:34:23.676Z"
   },
   {
    "duration": 4,
    "start_time": "2023-02-22T02:34:53.607Z"
   },
   {
    "duration": 4,
    "start_time": "2023-02-22T02:35:16.581Z"
   },
   {
    "duration": 8,
    "start_time": "2023-02-22T02:35:33.019Z"
   },
   {
    "duration": 4,
    "start_time": "2023-02-22T02:35:33.812Z"
   },
   {
    "duration": 12,
    "start_time": "2023-02-22T02:35:50.380Z"
   },
   {
    "duration": 4,
    "start_time": "2023-02-22T02:36:09.784Z"
   },
   {
    "duration": 13,
    "start_time": "2023-02-22T02:36:59.076Z"
   },
   {
    "duration": 5,
    "start_time": "2023-02-22T02:37:06.220Z"
   },
   {
    "duration": 4,
    "start_time": "2023-02-22T02:38:42.231Z"
   },
   {
    "duration": 68,
    "start_time": "2023-03-03T13:51:14.266Z"
   },
   {
    "duration": 1382,
    "start_time": "2023-03-03T13:51:16.990Z"
   },
   {
    "duration": 69,
    "start_time": "2023-03-03T13:51:18.374Z"
   },
   {
    "duration": 22,
    "start_time": "2023-03-03T13:51:18.445Z"
   },
   {
    "duration": 7,
    "start_time": "2023-03-03T13:51:19.748Z"
   },
   {
    "duration": 6,
    "start_time": "2023-03-03T13:51:20.338Z"
   },
   {
    "duration": 71,
    "start_time": "2023-03-05T13:12:36.904Z"
   },
   {
    "duration": 1300,
    "start_time": "2023-03-05T13:12:41.199Z"
   },
   {
    "duration": 158,
    "start_time": "2023-03-05T13:12:43.292Z"
   },
   {
    "duration": 16,
    "start_time": "2023-03-05T13:12:44.169Z"
   },
   {
    "duration": 7,
    "start_time": "2023-03-05T13:12:45.504Z"
   },
   {
    "duration": 6,
    "start_time": "2023-03-05T13:12:46.178Z"
   },
   {
    "duration": 4,
    "start_time": "2023-03-05T13:12:47.478Z"
   },
   {
    "duration": 8,
    "start_time": "2023-03-05T13:12:48.470Z"
   },
   {
    "duration": 5,
    "start_time": "2023-03-05T13:12:49.864Z"
   },
   {
    "duration": 109,
    "start_time": "2023-03-05T13:12:52.784Z"
   },
   {
    "duration": 104,
    "start_time": "2023-03-05T13:13:59.962Z"
   },
   {
    "duration": 3469,
    "start_time": "2023-03-05T13:25:26.189Z"
   },
   {
    "duration": 11115,
    "start_time": "2023-03-05T13:25:47.296Z"
   },
   {
    "duration": 35395,
    "start_time": "2023-03-05T13:26:12.869Z"
   },
   {
    "duration": 6317,
    "start_time": "2023-03-05T13:45:38.071Z"
   },
   {
    "duration": 6568,
    "start_time": "2023-03-05T13:46:53.216Z"
   },
   {
    "duration": 100,
    "start_time": "2023-03-05T13:47:18.958Z"
   },
   {
    "duration": 2100,
    "start_time": "2023-03-05T13:47:26.524Z"
   },
   {
    "duration": 1103,
    "start_time": "2023-03-05T13:47:34.271Z"
   },
   {
    "duration": 949,
    "start_time": "2023-03-05T13:47:46.938Z"
   },
   {
    "duration": 908,
    "start_time": "2023-03-05T13:48:02.862Z"
   },
   {
    "duration": 31,
    "start_time": "2023-03-05T13:54:37.661Z"
   },
   {
    "duration": 27,
    "start_time": "2023-03-05T13:55:23.327Z"
   },
   {
    "duration": 28,
    "start_time": "2023-03-05T13:55:28.618Z"
   },
   {
    "duration": 28,
    "start_time": "2023-03-05T13:55:32.731Z"
   },
   {
    "duration": 27,
    "start_time": "2023-03-05T13:56:42.222Z"
   },
   {
    "duration": 28,
    "start_time": "2023-03-05T14:47:50.161Z"
   },
   {
    "duration": 28,
    "start_time": "2023-03-05T14:47:51.453Z"
   },
   {
    "duration": 28,
    "start_time": "2023-03-05T14:47:52.745Z"
   },
   {
    "duration": 33,
    "start_time": "2023-03-05T14:47:53.150Z"
   },
   {
    "duration": 34,
    "start_time": "2023-03-05T14:47:53.410Z"
   },
   {
    "duration": 31,
    "start_time": "2023-03-05T14:47:53.646Z"
   },
   {
    "duration": 30,
    "start_time": "2023-03-05T14:47:54.168Z"
   },
   {
    "duration": 56,
    "start_time": "2023-03-05T14:47:54.575Z"
   },
   {
    "duration": 51,
    "start_time": "2023-03-05T14:47:54.984Z"
   },
   {
    "duration": 39,
    "start_time": "2023-03-05T14:47:55.594Z"
   },
   {
    "duration": 31,
    "start_time": "2023-03-05T14:47:56.097Z"
   },
   {
    "duration": 28,
    "start_time": "2023-03-05T14:47:56.758Z"
   },
   {
    "duration": 37,
    "start_time": "2023-03-05T14:47:57.356Z"
   },
   {
    "duration": 36,
    "start_time": "2023-03-05T14:47:58.125Z"
   },
   {
    "duration": 42,
    "start_time": "2023-03-05T14:47:58.708Z"
   },
   {
    "duration": 39,
    "start_time": "2023-03-05T14:47:59.200Z"
   },
   {
    "duration": 40,
    "start_time": "2023-03-05T14:47:59.560Z"
   },
   {
    "duration": 112,
    "start_time": "2023-03-05T14:49:08.449Z"
   },
   {
    "duration": 134,
    "start_time": "2023-03-05T14:49:11.019Z"
   },
   {
    "duration": 106,
    "start_time": "2023-03-05T14:49:11.612Z"
   },
   {
    "duration": 141,
    "start_time": "2023-03-05T14:49:12.053Z"
   },
   {
    "duration": 138,
    "start_time": "2023-03-05T14:49:12.487Z"
   },
   {
    "duration": 3,
    "start_time": "2023-03-05T14:49:17.077Z"
   },
   {
    "duration": 31,
    "start_time": "2023-03-05T14:49:17.949Z"
   },
   {
    "duration": 13,
    "start_time": "2023-03-05T14:49:18.494Z"
   },
   {
    "duration": 6,
    "start_time": "2023-03-05T14:49:19.613Z"
   },
   {
    "duration": 8,
    "start_time": "2023-03-05T14:49:20.254Z"
   },
   {
    "duration": 7,
    "start_time": "2023-03-05T14:49:21.428Z"
   },
   {
    "duration": 14,
    "start_time": "2023-03-05T14:49:22.313Z"
   },
   {
    "duration": 6,
    "start_time": "2023-03-05T14:49:22.951Z"
   },
   {
    "duration": 113,
    "start_time": "2023-03-05T14:49:26.451Z"
   },
   {
    "duration": 1082,
    "start_time": "2023-03-05T14:49:29.752Z"
   },
   {
    "duration": 45,
    "start_time": "2023-03-05T14:49:36.844Z"
   },
   {
    "duration": 132,
    "start_time": "2023-03-05T14:55:23.562Z"
   },
   {
    "duration": 18,
    "start_time": "2023-03-05T14:55:29.781Z"
   },
   {
    "duration": 31,
    "start_time": "2023-03-05T14:55:38.316Z"
   },
   {
    "duration": 19,
    "start_time": "2023-03-05T14:55:38.888Z"
   },
   {
    "duration": 21,
    "start_time": "2023-03-05T14:55:39.109Z"
   },
   {
    "duration": 17,
    "start_time": "2023-03-05T14:55:39.298Z"
   },
   {
    "duration": 20,
    "start_time": "2023-03-05T14:55:39.521Z"
   },
   {
    "duration": 5,
    "start_time": "2023-03-05T14:55:52.994Z"
   },
   {
    "duration": 54,
    "start_time": "2023-03-05T14:55:53.001Z"
   },
   {
    "duration": 12,
    "start_time": "2023-03-05T14:55:53.057Z"
   },
   {
    "duration": 8,
    "start_time": "2023-03-05T14:55:53.071Z"
   },
   {
    "duration": 10,
    "start_time": "2023-03-05T14:55:53.081Z"
   },
   {
    "duration": 4,
    "start_time": "2023-03-05T14:55:53.093Z"
   },
   {
    "duration": 30,
    "start_time": "2023-03-05T14:55:53.099Z"
   },
   {
    "duration": 12,
    "start_time": "2023-03-05T14:55:53.132Z"
   },
   {
    "duration": 142,
    "start_time": "2023-03-05T14:55:53.147Z"
   },
   {
    "duration": 1091,
    "start_time": "2023-03-05T14:55:53.291Z"
   },
   {
    "duration": 58,
    "start_time": "2023-03-05T14:55:54.385Z"
   },
   {
    "duration": 48,
    "start_time": "2023-03-05T14:55:54.449Z"
   },
   {
    "duration": 6,
    "start_time": "2023-03-05T15:00:46.898Z"
   },
   {
    "duration": 815,
    "start_time": "2023-03-05T15:03:09.819Z"
   },
   {
    "duration": 8,
    "start_time": "2023-03-05T15:03:26.149Z"
   },
   {
    "duration": 4,
    "start_time": "2023-03-05T15:03:39.849Z"
   },
   {
    "duration": 5,
    "start_time": "2023-03-05T15:03:52.694Z"
   },
   {
    "duration": 5,
    "start_time": "2023-03-05T15:03:58.618Z"
   },
   {
    "duration": 560,
    "start_time": "2023-03-05T15:04:44.481Z"
   },
   {
    "duration": 15,
    "start_time": "2023-03-05T15:05:01.478Z"
   },
   {
    "duration": 6,
    "start_time": "2023-03-05T15:05:36.292Z"
   },
   {
    "duration": 6,
    "start_time": "2023-03-05T15:05:48.301Z"
   },
   {
    "duration": 5,
    "start_time": "2023-03-05T15:05:53.250Z"
   },
   {
    "duration": 6,
    "start_time": "2023-03-05T15:05:59.442Z"
   },
   {
    "duration": 14,
    "start_time": "2023-03-05T15:09:50.026Z"
   },
   {
    "duration": 108,
    "start_time": "2023-03-05T16:29:51.233Z"
   },
   {
    "duration": 32,
    "start_time": "2023-03-05T16:30:22.493Z"
   },
   {
    "duration": 4,
    "start_time": "2023-03-05T16:30:26.665Z"
   },
   {
    "duration": 36,
    "start_time": "2023-03-05T16:30:26.671Z"
   },
   {
    "duration": 10,
    "start_time": "2023-03-05T16:30:26.709Z"
   },
   {
    "duration": 22,
    "start_time": "2023-03-05T16:30:26.721Z"
   },
   {
    "duration": 13,
    "start_time": "2023-03-05T16:30:26.745Z"
   },
   {
    "duration": 5,
    "start_time": "2023-03-05T16:30:26.760Z"
   },
   {
    "duration": 9,
    "start_time": "2023-03-05T16:30:26.766Z"
   },
   {
    "duration": 6,
    "start_time": "2023-03-05T16:30:26.777Z"
   },
   {
    "duration": 122,
    "start_time": "2023-03-05T16:30:26.785Z"
   },
   {
    "duration": 932,
    "start_time": "2023-03-05T16:30:26.908Z"
   },
   {
    "duration": 27,
    "start_time": "2023-03-05T16:30:27.841Z"
   },
   {
    "duration": 13,
    "start_time": "2023-03-05T16:30:27.870Z"
   },
   {
    "duration": 5,
    "start_time": "2023-03-05T16:30:27.885Z"
   },
   {
    "duration": 44,
    "start_time": "2023-03-05T16:30:27.892Z"
   },
   {
    "duration": 45,
    "start_time": "2023-03-05T17:28:48.121Z"
   },
   {
    "duration": 5,
    "start_time": "2023-03-05T17:33:37.373Z"
   },
   {
    "duration": 5,
    "start_time": "2023-03-05T17:34:17.125Z"
   },
   {
    "duration": 18,
    "start_time": "2023-03-05T17:37:41.598Z"
   },
   {
    "duration": 4,
    "start_time": "2023-03-05T17:37:56.871Z"
   },
   {
    "duration": 35,
    "start_time": "2023-03-05T17:37:56.878Z"
   },
   {
    "duration": 10,
    "start_time": "2023-03-05T17:37:56.915Z"
   },
   {
    "duration": 17,
    "start_time": "2023-03-05T17:37:56.927Z"
   },
   {
    "duration": 6,
    "start_time": "2023-03-05T17:37:56.946Z"
   },
   {
    "duration": 9,
    "start_time": "2023-03-05T17:37:56.953Z"
   },
   {
    "duration": 8,
    "start_time": "2023-03-05T17:37:56.964Z"
   },
   {
    "duration": 12,
    "start_time": "2023-03-05T17:37:56.973Z"
   },
   {
    "duration": 36,
    "start_time": "2023-03-05T17:37:56.987Z"
   },
   {
    "duration": 120,
    "start_time": "2023-03-05T17:37:57.025Z"
   },
   {
    "duration": 923,
    "start_time": "2023-03-05T17:37:57.147Z"
   },
   {
    "duration": 28,
    "start_time": "2023-03-05T17:37:58.072Z"
   },
   {
    "duration": 31,
    "start_time": "2023-03-05T17:37:58.101Z"
   },
   {
    "duration": 5,
    "start_time": "2023-03-05T17:37:58.134Z"
   },
   {
    "duration": 15,
    "start_time": "2023-03-05T17:37:58.141Z"
   },
   {
    "duration": 2125,
    "start_time": "2023-03-05T18:04:42.050Z"
   },
   {
    "duration": 91,
    "start_time": "2023-03-05T18:04:44.177Z"
   },
   {
    "duration": 18,
    "start_time": "2023-03-05T18:04:44.271Z"
   },
   {
    "duration": 15,
    "start_time": "2023-03-05T18:04:44.291Z"
   },
   {
    "duration": 7,
    "start_time": "2023-03-05T18:04:44.309Z"
   },
   {
    "duration": 8,
    "start_time": "2023-03-05T18:04:44.318Z"
   },
   {
    "duration": 17,
    "start_time": "2023-03-05T18:04:44.330Z"
   },
   {
    "duration": 8,
    "start_time": "2023-03-05T18:04:44.352Z"
   },
   {
    "duration": 6,
    "start_time": "2023-03-05T18:04:44.362Z"
   },
   {
    "duration": 120,
    "start_time": "2023-03-05T18:04:44.370Z"
   },
   {
    "duration": 1050,
    "start_time": "2023-03-05T18:04:44.492Z"
   },
   {
    "duration": 38,
    "start_time": "2023-03-05T18:04:45.546Z"
   },
   {
    "duration": 14,
    "start_time": "2023-03-05T18:04:45.586Z"
   },
   {
    "duration": 31,
    "start_time": "2023-03-05T18:04:45.602Z"
   },
   {
    "duration": 19,
    "start_time": "2023-03-05T18:04:45.640Z"
   },
   {
    "duration": 73,
    "start_time": "2023-03-11T13:13:40.440Z"
   },
   {
    "duration": 1085,
    "start_time": "2023-03-11T13:17:53.321Z"
   },
   {
    "duration": 59,
    "start_time": "2023-03-11T13:17:54.407Z"
   },
   {
    "duration": 15,
    "start_time": "2023-03-11T13:17:55.211Z"
   },
   {
    "duration": 11,
    "start_time": "2023-03-11T13:17:56.025Z"
   },
   {
    "duration": 746,
    "start_time": "2023-03-11T13:18:18.123Z"
   },
   {
    "duration": 74,
    "start_time": "2023-03-15T14:13:41.629Z"
   }
  ],
  "kernelspec": {
   "display_name": "Python 3 (ipykernel)",
   "language": "python",
   "name": "python3"
  },
  "language_info": {
   "codemirror_mode": {
    "name": "ipython",
    "version": 3
   },
   "file_extension": ".py",
   "mimetype": "text/x-python",
   "name": "python",
   "nbconvert_exporter": "python",
   "pygments_lexer": "ipython3",
   "version": "3.9.5"
  },
  "toc": {
   "base_numbering": 1,
   "nav_menu": {},
   "number_sections": true,
   "sideBar": true,
   "skip_h1_title": true,
   "title_cell": "Table of Contents",
   "title_sidebar": "Contents",
   "toc_cell": false,
   "toc_position": {},
   "toc_section_display": true,
   "toc_window_display": true
  }
 },
 "nbformat": 4,
 "nbformat_minor": 2
}

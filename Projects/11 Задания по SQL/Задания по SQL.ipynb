{
 "cells": [
  {
   "cell_type": "markdown",
   "metadata": {
    "id": "sRW85nPMDWKb"
   },
   "source": [
    "В этой части проекта вам нужно написать несколько SQL-запросов в Jupyter Notebook. \n",
    "\n",
    "Необходимые данные находятся в таблицах схемы `stackoverflow`."
   ]
  },
  {
   "cell_type": "code",
   "execution_count": 1,
   "metadata": {
    "id": "nlZBlglMDWKe"
   },
   "outputs": [],
   "source": [
    "import pandas as pd\n",
    "import matplotlib.pyplot as plt\n",
    "import seaborn as sns\n",
    "from sqlalchemy import create_engine "
   ]
  },
  {
   "cell_type": "markdown",
   "metadata": {
    "id": "XnOE3n28DWKg"
   },
   "source": [
    "### Конфигурация для подключения к базе данных `data-analyst-advanced-sql`\n"
   ]
  },
  {
   "cell_type": "code",
   "execution_count": 2,
   "metadata": {
    "id": "6p-yGp7qDWKg"
   },
   "outputs": [],
   "source": [
    "db_config = {\n",
    "    'user': 'praktikum_student', # имя пользователя\n",
    "    'pwd': 'Sdf4$2;d-d30pp', # пароль\n",
    "    'host': 'rc1b-wcoijxj3yxfsf3fs.mdb.yandexcloud.net',\n",
    "    'port': 6432, # порт подключения\n",
    "    'db': 'data-analyst-advanced-sql' # название базы данных\n",
    "}  \n",
    "\n",
    "connection_string = 'postgresql://{}:{}@{}:{}/{}'.format(\n",
    "    db_config['user'],\n",
    "    db_config['pwd'],\n",
    "    db_config['host'],\n",
    "    db_config['port'],\n",
    "    db_config['db'],\n",
    ")"
   ]
  },
  {
   "cell_type": "markdown",
   "metadata": {
    "id": "2Rg8ZpS0DWKh"
   },
   "source": [
    "Создание подключения"
   ]
  },
  {
   "cell_type": "code",
   "execution_count": 3,
   "metadata": {
    "id": "DamCUTR6DWKi"
   },
   "outputs": [],
   "source": [
    "engine = create_engine(connection_string) "
   ]
  },
  {
   "cell_type": "markdown",
   "metadata": {
    "id": "bel8XeSlDWKj"
   },
   "source": [
    "Пример запроса к базе данных\n",
    "\n",
    "`sample_df` является pandas-датафреймом."
   ]
  },
  {
   "cell_type": "code",
   "execution_count": 4,
   "metadata": {
    "id": "6Z_fw0yLDWKk"
   },
   "outputs": [],
   "source": [
    "query = '''\n",
    "SELECT *\n",
    "FROM stackoverflow.users\n",
    "LIMIT 10;\n",
    "'''\n",
    "\n",
    "sample_df = pd.read_sql_query(query, con=engine) "
   ]
  },
  {
   "cell_type": "code",
   "execution_count": 5,
   "metadata": {
    "id": "ZpuZ290oDWKk",
    "outputId": "22785a0a-e2bc-4559-ec3c-4879c4b377eb",
    "scrolled": true
   },
   "outputs": [
    {
     "data": {
      "text/html": [
       "<div>\n",
       "<style scoped>\n",
       "    .dataframe tbody tr th:only-of-type {\n",
       "        vertical-align: middle;\n",
       "    }\n",
       "\n",
       "    .dataframe tbody tr th {\n",
       "        vertical-align: top;\n",
       "    }\n",
       "\n",
       "    .dataframe thead th {\n",
       "        text-align: right;\n",
       "    }\n",
       "</style>\n",
       "<table border=\"1\" class=\"dataframe\">\n",
       "  <thead>\n",
       "    <tr style=\"text-align: right;\">\n",
       "      <th></th>\n",
       "      <th>id</th>\n",
       "      <th>creation_date</th>\n",
       "      <th>display_name</th>\n",
       "      <th>last_access_date</th>\n",
       "      <th>location</th>\n",
       "      <th>reputation</th>\n",
       "      <th>views</th>\n",
       "    </tr>\n",
       "  </thead>\n",
       "  <tbody>\n",
       "    <tr>\n",
       "      <th>0</th>\n",
       "      <td>1</td>\n",
       "      <td>2008-07-31 14:22:31</td>\n",
       "      <td>Jeff Atwood</td>\n",
       "      <td>2018-08-29 02:34:23</td>\n",
       "      <td>El Cerrito, CA</td>\n",
       "      <td>44300</td>\n",
       "      <td>408587</td>\n",
       "    </tr>\n",
       "    <tr>\n",
       "      <th>1</th>\n",
       "      <td>2</td>\n",
       "      <td>2008-07-31 14:22:31</td>\n",
       "      <td>Geoff Dalgas</td>\n",
       "      <td>2018-08-23 17:31:56</td>\n",
       "      <td>Corvallis, OR</td>\n",
       "      <td>3491</td>\n",
       "      <td>23966</td>\n",
       "    </tr>\n",
       "    <tr>\n",
       "      <th>2</th>\n",
       "      <td>3</td>\n",
       "      <td>2008-07-31 14:22:31</td>\n",
       "      <td>Jarrod Dixon</td>\n",
       "      <td>2018-08-30 20:56:24</td>\n",
       "      <td>Raleigh, NC, United States</td>\n",
       "      <td>13418</td>\n",
       "      <td>24396</td>\n",
       "    </tr>\n",
       "    <tr>\n",
       "      <th>3</th>\n",
       "      <td>4</td>\n",
       "      <td>2008-07-31 14:22:31</td>\n",
       "      <td>Joel Spolsky</td>\n",
       "      <td>2018-08-14 22:18:15</td>\n",
       "      <td>New York, NY</td>\n",
       "      <td>28768</td>\n",
       "      <td>73755</td>\n",
       "    </tr>\n",
       "    <tr>\n",
       "      <th>4</th>\n",
       "      <td>5</td>\n",
       "      <td>2008-07-31 14:22:31</td>\n",
       "      <td>Jon Galloway</td>\n",
       "      <td>2018-08-29 16:48:36</td>\n",
       "      <td>San Diego, CA</td>\n",
       "      <td>39172</td>\n",
       "      <td>11700</td>\n",
       "    </tr>\n",
       "    <tr>\n",
       "      <th>5</th>\n",
       "      <td>8</td>\n",
       "      <td>2008-07-31 21:33:24</td>\n",
       "      <td>Eggs McLaren</td>\n",
       "      <td>2018-04-09 02:04:56</td>\n",
       "      <td>None</td>\n",
       "      <td>942</td>\n",
       "      <td>6372</td>\n",
       "    </tr>\n",
       "    <tr>\n",
       "      <th>6</th>\n",
       "      <td>9</td>\n",
       "      <td>2008-07-31 21:35:27</td>\n",
       "      <td>Kevin Dente</td>\n",
       "      <td>2018-08-30 18:18:03</td>\n",
       "      <td>Oakland, CA</td>\n",
       "      <td>14337</td>\n",
       "      <td>4949</td>\n",
       "    </tr>\n",
       "    <tr>\n",
       "      <th>7</th>\n",
       "      <td>11</td>\n",
       "      <td>2008-08-01 00:59:11</td>\n",
       "      <td>Anonymous User</td>\n",
       "      <td>2008-08-01 00:59:11</td>\n",
       "      <td>None</td>\n",
       "      <td>1890</td>\n",
       "      <td>2123</td>\n",
       "    </tr>\n",
       "    <tr>\n",
       "      <th>8</th>\n",
       "      <td>13</td>\n",
       "      <td>2008-08-01 04:18:05</td>\n",
       "      <td>Chris Jester-Young</td>\n",
       "      <td>2018-08-30 02:47:23</td>\n",
       "      <td>Raleigh, NC, United States</td>\n",
       "      <td>177138</td>\n",
       "      <td>35414</td>\n",
       "    </tr>\n",
       "    <tr>\n",
       "      <th>9</th>\n",
       "      <td>17</td>\n",
       "      <td>2008-08-01 12:02:22</td>\n",
       "      <td>Nick Berardi</td>\n",
       "      <td>2018-01-22 01:35:38</td>\n",
       "      <td>Issaquah, WA</td>\n",
       "      <td>44443</td>\n",
       "      <td>4786</td>\n",
       "    </tr>\n",
       "  </tbody>\n",
       "</table>\n",
       "</div>"
      ],
      "text/plain": [
       "   id       creation_date        display_name    last_access_date  \\\n",
       "0   1 2008-07-31 14:22:31         Jeff Atwood 2018-08-29 02:34:23   \n",
       "1   2 2008-07-31 14:22:31        Geoff Dalgas 2018-08-23 17:31:56   \n",
       "2   3 2008-07-31 14:22:31        Jarrod Dixon 2018-08-30 20:56:24   \n",
       "3   4 2008-07-31 14:22:31        Joel Spolsky 2018-08-14 22:18:15   \n",
       "4   5 2008-07-31 14:22:31        Jon Galloway 2018-08-29 16:48:36   \n",
       "5   8 2008-07-31 21:33:24        Eggs McLaren 2018-04-09 02:04:56   \n",
       "6   9 2008-07-31 21:35:27         Kevin Dente 2018-08-30 18:18:03   \n",
       "7  11 2008-08-01 00:59:11      Anonymous User 2008-08-01 00:59:11   \n",
       "8  13 2008-08-01 04:18:05  Chris Jester-Young 2018-08-30 02:47:23   \n",
       "9  17 2008-08-01 12:02:22        Nick Berardi 2018-01-22 01:35:38   \n",
       "\n",
       "                     location  reputation   views  \n",
       "0              El Cerrito, CA       44300  408587  \n",
       "1               Corvallis, OR        3491   23966  \n",
       "2  Raleigh, NC, United States       13418   24396  \n",
       "3                New York, NY       28768   73755  \n",
       "4               San Diego, CA       39172   11700  \n",
       "5                        None         942    6372  \n",
       "6                 Oakland, CA       14337    4949  \n",
       "7                        None        1890    2123  \n",
       "8  Raleigh, NC, United States      177138   35414  \n",
       "9                Issaquah, WA       44443    4786  "
      ]
     },
     "execution_count": 5,
     "metadata": {},
     "output_type": "execute_result"
    }
   ],
   "source": [
    "sample_df"
   ]
  },
  {
   "cell_type": "markdown",
   "metadata": {
    "id": "gnBMXkDBDWKm"
   },
   "source": [
    "# Задание 1"
   ]
  },
  {
   "cell_type": "markdown",
   "metadata": {
    "id": "vHsfOrrNDWKn"
   },
   "source": [
    "Выведите общую сумму просмотров постов за каждый месяц 2008 года. Если данных за какой-либо месяц в базе нет, такой месяц можно пропустить. Результат отсортируйте по убыванию общего количества просмотров."
   ]
  },
  {
   "cell_type": "markdown",
   "metadata": {
    "id": "N5rTgGNmDWKn"
   },
   "source": [
    "| month_date  | total_views |\n",
    "| ------------- | ------------- |\n",
    "| 2008-09-01  | 452928568  |\n",
    "| 2008-10-01  | 365400138  |\n",
    "| ...         | ... |"
   ]
  },
  {
   "cell_type": "code",
   "execution_count": null,
   "metadata": {
    "id": "eWvykcXTDWKo",
    "scrolled": true
   },
   "outputs": [
    {
     "data": {
      "text/html": [
       "<div>\n",
       "<style scoped>\n",
       "    .dataframe tbody tr th:only-of-type {\n",
       "        vertical-align: middle;\n",
       "    }\n",
       "\n",
       "    .dataframe tbody tr th {\n",
       "        vertical-align: top;\n",
       "    }\n",
       "\n",
       "    .dataframe thead th {\n",
       "        text-align: right;\n",
       "    }\n",
       "</style>\n",
       "<table border=\"1\" class=\"dataframe\">\n",
       "  <thead>\n",
       "    <tr style=\"text-align: right;\">\n",
       "      <th></th>\n",
       "      <th>month_date</th>\n",
       "      <th>total_views</th>\n",
       "    </tr>\n",
       "  </thead>\n",
       "  <tbody>\n",
       "    <tr>\n",
       "      <th>0</th>\n",
       "      <td>2008-09-01</td>\n",
       "      <td>452928568</td>\n",
       "    </tr>\n",
       "    <tr>\n",
       "      <th>1</th>\n",
       "      <td>2008-10-01</td>\n",
       "      <td>365400138</td>\n",
       "    </tr>\n",
       "    <tr>\n",
       "      <th>2</th>\n",
       "      <td>2008-11-01</td>\n",
       "      <td>221759651</td>\n",
       "    </tr>\n",
       "    <tr>\n",
       "      <th>3</th>\n",
       "      <td>2008-12-01</td>\n",
       "      <td>197792841</td>\n",
       "    </tr>\n",
       "    <tr>\n",
       "      <th>4</th>\n",
       "      <td>2008-08-01</td>\n",
       "      <td>131367083</td>\n",
       "    </tr>\n",
       "    <tr>\n",
       "      <th>5</th>\n",
       "      <td>2008-07-01</td>\n",
       "      <td>669895</td>\n",
       "    </tr>\n",
       "  </tbody>\n",
       "</table>\n",
       "</div>"
      ],
      "text/plain": [
       "   month_date  total_views\n",
       "0  2008-09-01    452928568\n",
       "1  2008-10-01    365400138\n",
       "2  2008-11-01    221759651\n",
       "3  2008-12-01    197792841\n",
       "4  2008-08-01    131367083\n",
       "5  2008-07-01       669895"
      ]
     },
     "execution_count": 6,
     "metadata": {},
     "output_type": "execute_result"
    }
   ],
   "source": [
    "\n",
    "query = '''\n",
    "SELECT DATE_TRUNC('month', creation_date)::date AS month_date,\n",
    "       SUM(views_count) AS total_views\n",
    "FROM stackoverflow.posts\n",
    "WHERE EXTRACT(YEAR FROM creation_date) = 2008\n",
    "GROUP BY DATE_TRUNC('month', creation_date)\n",
    "ORDER BY SUM(views_count) DESC\n",
    "'''\n",
    "\n",
    "\n",
    "\n",
    "question_1 = pd.read_sql_query(query, con=engine) \n",
    "question_1"
   ]
  },
  {
   "cell_type": "markdown",
   "metadata": {
    "id": "I_ZvhOxkDWKp"
   },
   "source": [
    "Проанализируйте итоговую таблицу. Отличаются ли данные за разные месяцы? С чем могут быть связаны отличия?"
   ]
  },
  {
   "cell_type": "markdown",
   "metadata": {},
   "source": [
    "* Ответ:\n",
    "\n",
    "\n",
    "Количество просмотров растет с открытием проекта в августе 2008 года, достигая пиковых значний в сентябре. Дальнейший спад и выход на 'плато' можно охарактеризовать большим количеством, устоявшихся решений на самые часты и популярные вопросы пользователей, которым уже не требуется проводить на сайте большее время."
   ]
  },
  {
   "cell_type": "markdown",
   "metadata": {
    "id": "FziIXkn5DWKr"
   },
   "source": [
    "# Задание 2"
   ]
  },
  {
   "cell_type": "markdown",
   "metadata": {
    "id": "fTGESZvYDWKr"
   },
   "source": [
    "Выведите имена самых активных пользователей, которые в первый месяц после регистрации (включая день регистрации) дали больше 100 ответов. Вопросы, которые задавали пользователи, не учитывайте. Для каждого имени пользователя выведите количество уникальных значений `user_id`. Отсортируйте результат по полю с именами в лексикографическом порядке."
   ]
  },
  {
   "cell_type": "markdown",
   "metadata": {
    "id": "W5-tv6Y3DWKs"
   },
   "source": [
    "| display_name | count |\n",
    "| ------------ | ----- |\n",
    "| 1800 INFORMATION | 1 |\n",
    "| Adam Bellaire | 1 |\n",
    "| Adam Davis | 1 |\n",
    "| ... | ... |"
   ]
  },
  {
   "cell_type": "code",
   "execution_count": null,
   "metadata": {
    "id": "fIO-y-YjDWKt",
    "scrolled": true
   },
   "outputs": [
    {
     "data": {
      "text/html": [
       "<div>\n",
       "<style scoped>\n",
       "    .dataframe tbody tr th:only-of-type {\n",
       "        vertical-align: middle;\n",
       "    }\n",
       "\n",
       "    .dataframe tbody tr th {\n",
       "        vertical-align: top;\n",
       "    }\n",
       "\n",
       "    .dataframe thead th {\n",
       "        text-align: right;\n",
       "    }\n",
       "</style>\n",
       "<table border=\"1\" class=\"dataframe\">\n",
       "  <thead>\n",
       "    <tr style=\"text-align: right;\">\n",
       "      <th></th>\n",
       "      <th>display_name</th>\n",
       "      <th>count</th>\n",
       "    </tr>\n",
       "  </thead>\n",
       "  <tbody>\n",
       "    <tr>\n",
       "      <th>0</th>\n",
       "      <td>1800 INFORMATION</td>\n",
       "      <td>1</td>\n",
       "    </tr>\n",
       "    <tr>\n",
       "      <th>1</th>\n",
       "      <td>Adam Bellaire</td>\n",
       "      <td>1</td>\n",
       "    </tr>\n",
       "    <tr>\n",
       "      <th>2</th>\n",
       "      <td>Adam Davis</td>\n",
       "      <td>1</td>\n",
       "    </tr>\n",
       "    <tr>\n",
       "      <th>3</th>\n",
       "      <td>Adam Liss</td>\n",
       "      <td>1</td>\n",
       "    </tr>\n",
       "    <tr>\n",
       "      <th>4</th>\n",
       "      <td>Alan</td>\n",
       "      <td>8</td>\n",
       "    </tr>\n",
       "    <tr>\n",
       "      <th>...</th>\n",
       "      <td>...</td>\n",
       "      <td>...</td>\n",
       "    </tr>\n",
       "    <tr>\n",
       "      <th>74</th>\n",
       "      <td>lomaxx</td>\n",
       "      <td>1</td>\n",
       "    </tr>\n",
       "    <tr>\n",
       "      <th>75</th>\n",
       "      <td>mattlant</td>\n",
       "      <td>1</td>\n",
       "    </tr>\n",
       "    <tr>\n",
       "      <th>76</th>\n",
       "      <td>paxdiablo</td>\n",
       "      <td>1</td>\n",
       "    </tr>\n",
       "    <tr>\n",
       "      <th>77</th>\n",
       "      <td>tvanfosson</td>\n",
       "      <td>1</td>\n",
       "    </tr>\n",
       "    <tr>\n",
       "      <th>78</th>\n",
       "      <td>tzot</td>\n",
       "      <td>1</td>\n",
       "    </tr>\n",
       "  </tbody>\n",
       "</table>\n",
       "<p>79 rows × 2 columns</p>\n",
       "</div>"
      ],
      "text/plain": [
       "        display_name  count\n",
       "0   1800 INFORMATION      1\n",
       "1      Adam Bellaire      1\n",
       "2         Adam Davis      1\n",
       "3          Adam Liss      1\n",
       "4               Alan      8\n",
       "..               ...    ...\n",
       "74            lomaxx      1\n",
       "75          mattlant      1\n",
       "76         paxdiablo      1\n",
       "77        tvanfosson      1\n",
       "78              tzot      1\n",
       "\n",
       "[79 rows x 2 columns]"
      ]
     },
     "execution_count": 7,
     "metadata": {},
     "output_type": "execute_result"
    }
   ],
   "source": [
    "\n",
    "query = '''\n",
    "SELECT use.display_name,\n",
    "       COUNT(DISTINCT post.user_id)\n",
    "       \n",
    "FROM stackoverflow.posts AS post\n",
    "JOIN stackoverflow.users AS use \n",
    "ON post.user_id=use.id\n",
    "JOIN stackoverflow.post_types AS pt\n",
    "ON pt.id=post.post_type_id\n",
    "\n",
    "WHERE post.creation_date::date BETWEEN use.creation_date::date AND (use.creation_date::date + INTERVAL '1 month') \n",
    "      AND pt.type LIKE 'Answer'\n",
    "GROUP BY use.display_name\n",
    "HAVING COUNT(post.id) > 100\n",
    "ORDER BY use.display_name\n",
    "'''\n",
    "\n",
    "question_2 = pd.read_sql_query(query, con = engine)\n",
    "question_2\n"
   ]
  },
  {
   "cell_type": "markdown",
   "metadata": {
    "id": "I3Wr82TplKpI"
   },
   "source": [
    "Какие аномалии наблюдаются в данных? О чём они говорят?"
   ]
  },
  {
   "cell_type": "code",
   "execution_count": 8,
   "metadata": {},
   "outputs": [
    {
     "data": {
      "text/html": [
       "<div>\n",
       "<style scoped>\n",
       "    .dataframe tbody tr th:only-of-type {\n",
       "        vertical-align: middle;\n",
       "    }\n",
       "\n",
       "    .dataframe tbody tr th {\n",
       "        vertical-align: top;\n",
       "    }\n",
       "\n",
       "    .dataframe thead th {\n",
       "        text-align: right;\n",
       "    }\n",
       "</style>\n",
       "<table border=\"1\" class=\"dataframe\">\n",
       "  <thead>\n",
       "    <tr style=\"text-align: right;\">\n",
       "      <th></th>\n",
       "      <th>display_name</th>\n",
       "      <th>count</th>\n",
       "    </tr>\n",
       "  </thead>\n",
       "  <tbody>\n",
       "    <tr>\n",
       "      <th>10</th>\n",
       "      <td>Chris</td>\n",
       "      <td>29</td>\n",
       "    </tr>\n",
       "    <tr>\n",
       "      <th>45</th>\n",
       "      <td>Matt</td>\n",
       "      <td>29</td>\n",
       "    </tr>\n",
       "    <tr>\n",
       "      <th>14</th>\n",
       "      <td>Dan</td>\n",
       "      <td>21</td>\n",
       "    </tr>\n",
       "    <tr>\n",
       "      <th>64</th>\n",
       "      <td>Tom</td>\n",
       "      <td>19</td>\n",
       "    </tr>\n",
       "    <tr>\n",
       "      <th>41</th>\n",
       "      <td>Mark</td>\n",
       "      <td>17</td>\n",
       "    </tr>\n",
       "    <tr>\n",
       "      <th>33</th>\n",
       "      <td>Josh</td>\n",
       "      <td>16</td>\n",
       "    </tr>\n",
       "    <tr>\n",
       "      <th>50</th>\n",
       "      <td>Nick</td>\n",
       "      <td>16</td>\n",
       "    </tr>\n",
       "    <tr>\n",
       "      <th>7</th>\n",
       "      <td>Brian</td>\n",
       "      <td>15</td>\n",
       "    </tr>\n",
       "    <tr>\n",
       "      <th>56</th>\n",
       "      <td>Rob</td>\n",
       "      <td>15</td>\n",
       "    </tr>\n",
       "    <tr>\n",
       "      <th>21</th>\n",
       "      <td>Greg</td>\n",
       "      <td>12</td>\n",
       "    </tr>\n",
       "    <tr>\n",
       "      <th>35</th>\n",
       "      <td>Kevin</td>\n",
       "      <td>11</td>\n",
       "    </tr>\n",
       "    <tr>\n",
       "      <th>59</th>\n",
       "      <td>Ryan</td>\n",
       "      <td>10</td>\n",
       "    </tr>\n",
       "    <tr>\n",
       "      <th>12</th>\n",
       "      <td>Craig</td>\n",
       "      <td>10</td>\n",
       "    </tr>\n",
       "    <tr>\n",
       "      <th>26</th>\n",
       "      <td>Joe</td>\n",
       "      <td>9</td>\n",
       "    </tr>\n",
       "    <tr>\n",
       "      <th>4</th>\n",
       "      <td>Alan</td>\n",
       "      <td>8</td>\n",
       "    </tr>\n",
       "    <tr>\n",
       "      <th>25</th>\n",
       "      <td>Jim</td>\n",
       "      <td>7</td>\n",
       "    </tr>\n",
       "    <tr>\n",
       "      <th>34</th>\n",
       "      <td>Keith</td>\n",
       "      <td>5</td>\n",
       "    </tr>\n",
       "    <tr>\n",
       "      <th>52</th>\n",
       "      <td>Oli</td>\n",
       "      <td>3</td>\n",
       "    </tr>\n",
       "    <tr>\n",
       "      <th>72</th>\n",
       "      <td>jfs</td>\n",
       "      <td>3</td>\n",
       "    </tr>\n",
       "  </tbody>\n",
       "</table>\n",
       "</div>"
      ],
      "text/plain": [
       "   display_name  count\n",
       "10        Chris     29\n",
       "45         Matt     29\n",
       "14          Dan     21\n",
       "64          Tom     19\n",
       "41         Mark     17\n",
       "33         Josh     16\n",
       "50         Nick     16\n",
       "7         Brian     15\n",
       "56          Rob     15\n",
       "21         Greg     12\n",
       "35        Kevin     11\n",
       "59         Ryan     10\n",
       "12        Craig     10\n",
       "26          Joe      9\n",
       "4          Alan      8\n",
       "25          Jim      7\n",
       "34        Keith      5\n",
       "52          Oli      3\n",
       "72          jfs      3"
      ]
     },
     "execution_count": 8,
     "metadata": {},
     "output_type": "execute_result"
    }
   ],
   "source": [
    "question_2.loc[question_2['count'] > 2].sort_values(by = 'count', ascending = False)"
   ]
  },
  {
   "cell_type": "code",
   "execution_count": 9,
   "metadata": {
    "scrolled": true
   },
   "outputs": [
    {
     "data": {
      "text/html": [
       "<div>\n",
       "<style scoped>\n",
       "    .dataframe tbody tr th:only-of-type {\n",
       "        vertical-align: middle;\n",
       "    }\n",
       "\n",
       "    .dataframe tbody tr th {\n",
       "        vertical-align: top;\n",
       "    }\n",
       "\n",
       "    .dataframe thead th {\n",
       "        text-align: right;\n",
       "    }\n",
       "</style>\n",
       "<table border=\"1\" class=\"dataframe\">\n",
       "  <thead>\n",
       "    <tr style=\"text-align: right;\">\n",
       "      <th></th>\n",
       "      <th>display_name</th>\n",
       "      <th>count</th>\n",
       "    </tr>\n",
       "  </thead>\n",
       "  <tbody>\n",
       "    <tr>\n",
       "      <th>0</th>\n",
       "      <td>Chris</td>\n",
       "      <td>39</td>\n",
       "    </tr>\n",
       "  </tbody>\n",
       "</table>\n",
       "</div>"
      ],
      "text/plain": [
       "  display_name  count\n",
       "0        Chris     39"
      ]
     },
     "execution_count": 9,
     "metadata": {},
     "output_type": "execute_result"
    }
   ],
   "source": [
    "query = '''\n",
    "SELECT u.display_name,\n",
    "       COUNT(DISTINCT p.user_id)\n",
    "FROM stackoverflow.posts AS p\n",
    "JOIN stackoverflow.users AS u \n",
    "ON p.user_id = u.id\n",
    "WHERE u.display_name = 'Chris'\n",
    "GROUP BY u.display_name\n",
    "'''\n",
    "\n",
    "question_2_chek = pd.read_sql_query(query, con = engine)\n",
    "question_2_chek"
   ]
  },
  {
   "cell_type": "markdown",
   "metadata": {},
   "source": [
    "В подобном запросе пользователи с одинаковыми именами, но разными id считаются как один и тот же пользователь, что ведет к подобным, статистическим выбросам как 'Chris'. Но не без исключения каких-либо ошибок в самом сборе данных."
   ]
  },
  {
   "cell_type": "markdown",
   "metadata": {
    "id": "JhM2xXj5DWKu"
   },
   "source": [
    "# Задание 3"
   ]
  },
  {
   "cell_type": "markdown",
   "metadata": {
    "id": "IS6xPqyyDWKu"
   },
   "source": [
    "Выведите количество постов за 2008 год по месяцам. Отберите посты от пользователей, которые зарегистрировались в сентябре 2008 года и сделали хотя бы один пост в декабре того же года. Отсортируйте таблицу по значению месяца по убыванию."
   ]
  },
  {
   "cell_type": "markdown",
   "metadata": {
    "id": "WmjhjV2xDWKv"
   },
   "source": [
    "| month | count |\n",
    "| ------|------ |\n",
    "| 2008-12-01 | 17641 |\n",
    "| 2008-11-01 | 18294 |\n",
    "| ... | ... |"
   ]
  },
  {
   "cell_type": "code",
   "execution_count": null,
   "metadata": {
    "id": "kVu0FB8WDWKv",
    "scrolled": true
   },
   "outputs": [
    {
     "data": {
      "text/html": [
       "<div>\n",
       "<style scoped>\n",
       "    .dataframe tbody tr th:only-of-type {\n",
       "        vertical-align: middle;\n",
       "    }\n",
       "\n",
       "    .dataframe tbody tr th {\n",
       "        vertical-align: top;\n",
       "    }\n",
       "\n",
       "    .dataframe thead th {\n",
       "        text-align: right;\n",
       "    }\n",
       "</style>\n",
       "<table border=\"1\" class=\"dataframe\">\n",
       "  <thead>\n",
       "    <tr style=\"text-align: right;\">\n",
       "      <th></th>\n",
       "      <th>month</th>\n",
       "      <th>count</th>\n",
       "    </tr>\n",
       "  </thead>\n",
       "  <tbody>\n",
       "    <tr>\n",
       "      <th>0</th>\n",
       "      <td>2008-12-01</td>\n",
       "      <td>17641</td>\n",
       "    </tr>\n",
       "    <tr>\n",
       "      <th>1</th>\n",
       "      <td>2008-11-01</td>\n",
       "      <td>18294</td>\n",
       "    </tr>\n",
       "    <tr>\n",
       "      <th>2</th>\n",
       "      <td>2008-10-01</td>\n",
       "      <td>27171</td>\n",
       "    </tr>\n",
       "    <tr>\n",
       "      <th>3</th>\n",
       "      <td>2008-09-01</td>\n",
       "      <td>24870</td>\n",
       "    </tr>\n",
       "    <tr>\n",
       "      <th>4</th>\n",
       "      <td>2008-08-01</td>\n",
       "      <td>32</td>\n",
       "    </tr>\n",
       "  </tbody>\n",
       "</table>\n",
       "</div>"
      ],
      "text/plain": [
       "        month  count\n",
       "0  2008-12-01  17641\n",
       "1  2008-11-01  18294\n",
       "2  2008-10-01  27171\n",
       "3  2008-09-01  24870\n",
       "4  2008-08-01     32"
      ]
     },
     "execution_count": 11,
     "metadata": {},
     "output_type": "execute_result"
    }
   ],
   "source": [
    "\n",
    "query = '''\n",
    "\n",
    "WITH \n",
    "\n",
    "u AS\n",
    "\n",
    "(SELECT u.id\n",
    "FROM stackoverflow.posts AS p\n",
    "JOIN stackoverflow.users AS u \n",
    "ON p.user_id=u.id\n",
    "WHERE (u.creation_date::date BETWEEN '2008-09-01' AND '2008-09-30')\n",
    "AND (p.creation_date::date BETWEEN '2008-12-01' AND '2008-12-31')\n",
    "GROUP BY u.id)\n",
    "\n",
    "\n",
    "SELECT DATE_TRUNC('month', p.creation_date)::date AS month,\n",
    "       COUNT(p.id)\n",
    "FROM stackoverflow.posts AS p\n",
    "WHERE p.user_id IN \n",
    "\n",
    "        (SELECT *\n",
    "        FROM u)\n",
    "        \n",
    "      AND DATE_TRUNC('year', p.creation_date)::date = '2008-01-01'\n",
    "GROUP BY DATE_TRUNC('month', p.creation_date)::date\n",
    "ORDER BY DATE_TRUNC('month', p.creation_date)::date DESC\n",
    "\n",
    "'''\n",
    "\n",
    "\n",
    "\n",
    "question_3 = pd.read_sql_query(query, con = engine)\n",
    "question_3"
   ]
  },
  {
   "cell_type": "markdown",
   "metadata": {
    "id": "Vnxn9DVHDWKx"
   },
   "source": [
    "Изучите данные: есть ли в них аномалии? Предположите, почему могли появиться аномальные значения."
   ]
  },
  {
   "cell_type": "markdown",
   "metadata": {},
   "source": [
    "* Ответ:\n",
    "\n",
    "Пользователи зарегичтрированные в сентябре не могут оставлять посты в августе того же года\n",
    "ошибка в самой базе данных."
   ]
  },
  {
   "cell_type": "markdown",
   "metadata": {
    "id": "5Pcizm0DDWKz"
   },
   "source": [
    "# Задание 4"
   ]
  },
  {
   "cell_type": "markdown",
   "metadata": {
    "id": "KUZPF6vHDWKz"
   },
   "source": [
    "Используя данные о постах, выведите несколько полей:\n",
    "\n",
    "- идентификатор пользователя, который написал пост;\n",
    "- дата создания поста;\n",
    "- количество просмотров у текущего поста;\n",
    "- сумму просмотров постов автора с накоплением.\n",
    "\n",
    "Данные в таблице должны быть отсортированы по возрастанию идентификаторов пользователей, а данные об одном и том же пользователе — по возрастанию даты создания поста."
   ]
  },
  {
   "cell_type": "markdown",
   "metadata": {
    "id": "ZpsTUVDYDWK0"
   },
   "source": [
    "| user_id | creation_date | views_count | cumulative_count |\n",
    "| ------ | -------------- | ----------- | ---------------- |\n",
    "| 1 | 2008-07-31 23:41:00  | 480476   | 480476  |\n",
    "| 1 | 2008-07-31 23:55:38  | 136033 | 616509  | \n",
    "| 1 | 2008-07-31 23:56:41  | 0 |  616509  |\n",
    "| ... | ... | ... | ... |\n",
    "| 2 | 2008-07-31 23:56:41 | 79087  | 79087 |\n",
    "| 2 | 2008-08-01 05:09:56 | 65443 | 144530 |\n",
    "| ... | ...  | ...  | ...  |"
   ]
  },
  {
   "cell_type": "code",
   "execution_count": null,
   "metadata": {
    "id": "hDoJhMzfDWK0"
   },
   "outputs": [
    {
     "data": {
      "text/html": [
       "<div>\n",
       "<style scoped>\n",
       "    .dataframe tbody tr th:only-of-type {\n",
       "        vertical-align: middle;\n",
       "    }\n",
       "\n",
       "    .dataframe tbody tr th {\n",
       "        vertical-align: top;\n",
       "    }\n",
       "\n",
       "    .dataframe thead th {\n",
       "        text-align: right;\n",
       "    }\n",
       "</style>\n",
       "<table border=\"1\" class=\"dataframe\">\n",
       "  <thead>\n",
       "    <tr style=\"text-align: right;\">\n",
       "      <th></th>\n",
       "      <th>user_id</th>\n",
       "      <th>creation_date</th>\n",
       "      <th>views_count</th>\n",
       "      <th>cumulative_count</th>\n",
       "    </tr>\n",
       "  </thead>\n",
       "  <tbody>\n",
       "    <tr>\n",
       "      <th>0</th>\n",
       "      <td>1</td>\n",
       "      <td>2008-07-31 23:41:00</td>\n",
       "      <td>480476</td>\n",
       "      <td>480476</td>\n",
       "    </tr>\n",
       "    <tr>\n",
       "      <th>1</th>\n",
       "      <td>1</td>\n",
       "      <td>2008-07-31 23:55:38</td>\n",
       "      <td>136033</td>\n",
       "      <td>616509</td>\n",
       "    </tr>\n",
       "    <tr>\n",
       "      <th>2</th>\n",
       "      <td>1</td>\n",
       "      <td>2008-07-31 23:56:41</td>\n",
       "      <td>0</td>\n",
       "      <td>616509</td>\n",
       "    </tr>\n",
       "    <tr>\n",
       "      <th>3</th>\n",
       "      <td>1</td>\n",
       "      <td>2008-08-04 02:45:08</td>\n",
       "      <td>0</td>\n",
       "      <td>616509</td>\n",
       "    </tr>\n",
       "    <tr>\n",
       "      <th>4</th>\n",
       "      <td>1</td>\n",
       "      <td>2008-08-04 04:31:03</td>\n",
       "      <td>0</td>\n",
       "      <td>616509</td>\n",
       "    </tr>\n",
       "    <tr>\n",
       "      <th>...</th>\n",
       "      <td>...</td>\n",
       "      <td>...</td>\n",
       "      <td>...</td>\n",
       "      <td>...</td>\n",
       "    </tr>\n",
       "    <tr>\n",
       "      <th>243791</th>\n",
       "      <td>5696608</td>\n",
       "      <td>2008-12-23 16:00:37</td>\n",
       "      <td>0</td>\n",
       "      <td>2804</td>\n",
       "    </tr>\n",
       "    <tr>\n",
       "      <th>243792</th>\n",
       "      <td>5696608</td>\n",
       "      <td>2008-12-23 17:35:09</td>\n",
       "      <td>0</td>\n",
       "      <td>2804</td>\n",
       "    </tr>\n",
       "    <tr>\n",
       "      <th>243793</th>\n",
       "      <td>5696608</td>\n",
       "      <td>2008-12-24 01:02:48</td>\n",
       "      <td>0</td>\n",
       "      <td>2804</td>\n",
       "    </tr>\n",
       "    <tr>\n",
       "      <th>243794</th>\n",
       "      <td>5696608</td>\n",
       "      <td>2008-12-30 14:34:45</td>\n",
       "      <td>0</td>\n",
       "      <td>2804</td>\n",
       "    </tr>\n",
       "    <tr>\n",
       "      <th>243795</th>\n",
       "      <td>5696608</td>\n",
       "      <td>2008-12-30 16:32:12</td>\n",
       "      <td>0</td>\n",
       "      <td>2804</td>\n",
       "    </tr>\n",
       "  </tbody>\n",
       "</table>\n",
       "<p>243796 rows × 4 columns</p>\n",
       "</div>"
      ],
      "text/plain": [
       "        user_id       creation_date  views_count  cumulative_count\n",
       "0             1 2008-07-31 23:41:00       480476            480476\n",
       "1             1 2008-07-31 23:55:38       136033            616509\n",
       "2             1 2008-07-31 23:56:41            0            616509\n",
       "3             1 2008-08-04 02:45:08            0            616509\n",
       "4             1 2008-08-04 04:31:03            0            616509\n",
       "...         ...                 ...          ...               ...\n",
       "243791  5696608 2008-12-23 16:00:37            0              2804\n",
       "243792  5696608 2008-12-23 17:35:09            0              2804\n",
       "243793  5696608 2008-12-24 01:02:48            0              2804\n",
       "243794  5696608 2008-12-30 14:34:45            0              2804\n",
       "243795  5696608 2008-12-30 16:32:12            0              2804\n",
       "\n",
       "[243796 rows x 4 columns]"
      ]
     },
     "execution_count": 13,
     "metadata": {},
     "output_type": "execute_result"
    }
   ],
   "source": [
    "\n",
    "query = '''\n",
    "SELECT user_id, creation_date, views_count,\n",
    "       SUM (views_count) OVER (PARTITION BY user_id ORDER BY creation_date) AS cumulative_count\n",
    "FROM stackoverflow.posts\n",
    "ORDER BY user_id, creation_date\n",
    "\n",
    "'''\n",
    "\n",
    "\n",
    "question_4 = pd.read_sql_query(query, con = engine)\n",
    "question_4\n",
    "\n"
   ]
  },
  {
   "cell_type": "markdown",
   "metadata": {
    "id": "N0kHRHvIDWK2"
   },
   "source": [
    "# Задание 5"
   ]
  },
  {
   "cell_type": "markdown",
   "metadata": {
    "id": "gBgvmPtODWK2"
   },
   "source": [
    "Найдите среднее количество постов пользователей в день за август 2008 года. Отберите данные о пользователях, которые опубликовали больше 120 постов за август. Дни без публикаций не учитывайте. \n",
    "\n",
    "Отсортируйте результат по возрастанию среднего количества постов. Значения можно не округлять."
   ]
  },
  {
   "cell_type": "markdown",
   "metadata": {
    "id": "nfzR08BODWK3"
   },
   "source": [
    "| user_id | avg_daily |\n",
    "| ------- | --------- |\n",
    "| 116     | 4.777778  |\n",
    "| 234     | 5.208333  |\n",
    "| ...     | ... |"
   ]
  },
  {
   "cell_type": "code",
   "execution_count": null,
   "metadata": {
    "id": "YFyPNz5GDWK3",
    "scrolled": true
   },
   "outputs": [
    {
     "data": {
      "text/html": [
       "<div>\n",
       "<style scoped>\n",
       "    .dataframe tbody tr th:only-of-type {\n",
       "        vertical-align: middle;\n",
       "    }\n",
       "\n",
       "    .dataframe tbody tr th {\n",
       "        vertical-align: top;\n",
       "    }\n",
       "\n",
       "    .dataframe thead th {\n",
       "        text-align: right;\n",
       "    }\n",
       "</style>\n",
       "<table border=\"1\" class=\"dataframe\">\n",
       "  <thead>\n",
       "    <tr style=\"text-align: right;\">\n",
       "      <th></th>\n",
       "      <th>user_id</th>\n",
       "      <th>avg_daily</th>\n",
       "    </tr>\n",
       "  </thead>\n",
       "  <tbody>\n",
       "    <tr>\n",
       "      <th>0</th>\n",
       "      <td>116</td>\n",
       "      <td>4.777778</td>\n",
       "    </tr>\n",
       "    <tr>\n",
       "      <th>1</th>\n",
       "      <td>234</td>\n",
       "      <td>5.208333</td>\n",
       "    </tr>\n",
       "    <tr>\n",
       "      <th>2</th>\n",
       "      <td>91</td>\n",
       "      <td>5.681818</td>\n",
       "    </tr>\n",
       "    <tr>\n",
       "      <th>3</th>\n",
       "      <td>905</td>\n",
       "      <td>7.000000</td>\n",
       "    </tr>\n",
       "    <tr>\n",
       "      <th>4</th>\n",
       "      <td>383</td>\n",
       "      <td>7.277778</td>\n",
       "    </tr>\n",
       "  </tbody>\n",
       "</table>\n",
       "</div>"
      ],
      "text/plain": [
       "   user_id  avg_daily\n",
       "0      116   4.777778\n",
       "1      234   5.208333\n",
       "2       91   5.681818\n",
       "3      905   7.000000\n",
       "4      383   7.277778"
      ]
     },
     "execution_count": 14,
     "metadata": {},
     "output_type": "execute_result"
    }
   ],
   "source": [
    "\n",
    "query = '''\n",
    "WITH \n",
    "\n",
    "t AS\n",
    "\n",
    "(SELECT user_id,\n",
    "       DATE_TRUNC('day', creation_date)::date,\n",
    "       COUNT(id) AS pstn\n",
    "FROM stackoverflow.posts\n",
    "WHERE user_id IN\n",
    "\n",
    "    (SELECT user_id\n",
    "    FROM stackoverflow.posts\n",
    "    WHERE creation_date::date BETWEEN '2008-08-01' AND '2008-08-31'\n",
    "    GROUP BY user_id\n",
    "    HAVING COUNT(id) > 120)\n",
    "    \n",
    "GROUP BY user_id, DATE_TRUNC('day', creation_date)::date)\n",
    "\n",
    "\n",
    "\n",
    "SELECT t.user_id,\n",
    "       AVG(t.pstn) AS avg_daily\n",
    "FROM t\n",
    "WHERE DATE_TRUNC('month', t.date_trunc)::date = '2008-08-01'\n",
    "GROUP BY t.user_id\n",
    "ORDER BY avg_daily\n",
    "\n",
    "'''\n",
    "\n",
    "\n",
    "\n",
    "question_5 = pd.read_sql_query(query, con = engine)\n",
    "question_5"
   ]
  },
  {
   "cell_type": "markdown",
   "metadata": {
    "id": "EQ0dcFH4DWK5"
   },
   "source": [
    "# Задание 6"
   ]
  },
  {
   "cell_type": "markdown",
   "metadata": {
    "id": "c7flfg_hDWK5"
   },
   "source": [
    "Сколько в среднем дней в период с 1 по 7 декабря 2008 года пользователи взаимодействовали с платформой? Для каждого пользователя отберите дни, в которые он или она опубликовали хотя бы один пост. Нужно получить одно целое число — не забудьте округлить результат. "
   ]
  },
  {
   "cell_type": "markdown",
   "metadata": {
    "id": "RC1Ibzm9DWK6"
   },
   "source": [
    "| result |\n",
    "| -----  |\n",
    "| <целое число> |"
   ]
  },
  {
   "cell_type": "code",
   "execution_count": null,
   "metadata": {
    "id": "kZ7LXTr6DWK6",
    "scrolled": true
   },
   "outputs": [
    {
     "data": {
      "text/html": [
       "<div>\n",
       "<style scoped>\n",
       "    .dataframe tbody tr th:only-of-type {\n",
       "        vertical-align: middle;\n",
       "    }\n",
       "\n",
       "    .dataframe tbody tr th {\n",
       "        vertical-align: top;\n",
       "    }\n",
       "\n",
       "    .dataframe thead th {\n",
       "        text-align: right;\n",
       "    }\n",
       "</style>\n",
       "<table border=\"1\" class=\"dataframe\">\n",
       "  <thead>\n",
       "    <tr style=\"text-align: right;\">\n",
       "      <th></th>\n",
       "      <th>result</th>\n",
       "    </tr>\n",
       "  </thead>\n",
       "  <tbody>\n",
       "    <tr>\n",
       "      <th>0</th>\n",
       "      <td>2</td>\n",
       "    </tr>\n",
       "  </tbody>\n",
       "</table>\n",
       "</div>"
      ],
      "text/plain": [
       "   result\n",
       "0       2"
      ]
     },
     "execution_count": 15,
     "metadata": {},
     "output_type": "execute_result"
    }
   ],
   "source": [
    "\n",
    "query = '''\n",
    "WITH \n",
    "\n",
    "t AS\n",
    "\n",
    "(SELECT user_id,\n",
    "       COUNT(DISTINCT DATE_TRUNC('day', creation_date)::date)\n",
    "FROM stackoverflow.posts\n",
    "WHERE creation_date::date BETWEEN '2008-12-01' AND '2008-12-07'\n",
    "GROUP BY user_id)\n",
    "\n",
    "\n",
    "SELECT ROUND(AVG(count))::int AS result\n",
    "FROM t\n",
    "\n",
    "'''\n",
    "\n",
    "\n",
    "\n",
    "question_6 = pd.read_sql_query(query, con = engine)\n",
    "question_6"
   ]
  },
  {
   "cell_type": "markdown",
   "metadata": {
    "id": "UJFtNNggDWK7"
   },
   "source": [
    "Проанализируйте итоговую таблицу — какие выводы можно сделать?"
   ]
  },
  {
   "cell_type": "markdown",
   "metadata": {},
   "source": [
    "* Ответ:\n",
    "\n",
    "Можно сделать вывод,что за период с 1 по 7 декабря 2008 года пользователи в среднем взаимодействовали 2 дня.\n"
   ]
  },
  {
   "cell_type": "markdown",
   "metadata": {
    "id": "wfOmqmfLDWK8"
   },
   "source": [
    "# Задание 7"
   ]
  },
  {
   "cell_type": "markdown",
   "metadata": {
    "id": "X4ARQimADWK9"
   },
   "source": [
    "Выведите историю активности каждого пользователя в таком виде: идентификатор пользователя, дата публикации поста. Отсортируйте вывод по возрастанию идентификаторов пользователей, а для каждого пользователя — по возрастанию даты публикации.\n",
    "\n",
    "Добавьте в таблицу новое поле: для каждого поста в нём будет указано название месяца предпоследней публикации пользователя относительно текущей. Если такой публикации нет, укажите `NULL`.  Python автоматически поменяет `NULL` на `None`, но дополнительно преобразовывать значения `None` вам не нужно.\n",
    "\n",
    "Посмотрите внимательно на образец таблицы: для первых двух постов предпоследней публикации нет, но, начиная с третьего поста, в новое поле входит нужный месяц. Для следующего пользователя в первые две записи поля `second_last_month` тоже войдёт `NULL`."
   ]
  },
  {
   "cell_type": "markdown",
   "metadata": {
    "id": "IGPjRP01DWK9"
   },
   "source": [
    "| user_id | creation_date | second_last_month |\n",
    "| ------- | ------------- | ----------------- |\n",
    "| 1       | 2008-07-31 23:41:00 | None |\n",
    "| 1       | 2008-07-31 23:55:38 | None |\n",
    "| 1       | 2008-07-31 23:56:41 | July |\n",
    "| 1       | 2008-08-04 02:45:08 | July |\n",
    "| 1       | 2008-08-04 04:31:03 | July |\n",
    "| 1       | 2008-08-04 08:04:42 | August |\n",
    "| ... | ... | ... |"
   ]
  },
  {
   "cell_type": "code",
   "execution_count": null,
   "metadata": {
    "id": "HzI1vhaMDWK-",
    "scrolled": true
   },
   "outputs": [
    {
     "data": {
      "text/html": [
       "<div>\n",
       "<style scoped>\n",
       "    .dataframe tbody tr th:only-of-type {\n",
       "        vertical-align: middle;\n",
       "    }\n",
       "\n",
       "    .dataframe tbody tr th {\n",
       "        vertical-align: top;\n",
       "    }\n",
       "\n",
       "    .dataframe thead th {\n",
       "        text-align: right;\n",
       "    }\n",
       "</style>\n",
       "<table border=\"1\" class=\"dataframe\">\n",
       "  <thead>\n",
       "    <tr style=\"text-align: right;\">\n",
       "      <th></th>\n",
       "      <th>user_id</th>\n",
       "      <th>creation_date</th>\n",
       "      <th>case</th>\n",
       "    </tr>\n",
       "  </thead>\n",
       "  <tbody>\n",
       "    <tr>\n",
       "      <th>0</th>\n",
       "      <td>1</td>\n",
       "      <td>2008-07-31 23:41:00</td>\n",
       "      <td>None</td>\n",
       "    </tr>\n",
       "    <tr>\n",
       "      <th>1</th>\n",
       "      <td>1</td>\n",
       "      <td>2008-07-31 23:55:38</td>\n",
       "      <td>None</td>\n",
       "    </tr>\n",
       "    <tr>\n",
       "      <th>2</th>\n",
       "      <td>1</td>\n",
       "      <td>2008-07-31 23:56:41</td>\n",
       "      <td>July</td>\n",
       "    </tr>\n",
       "    <tr>\n",
       "      <th>3</th>\n",
       "      <td>1</td>\n",
       "      <td>2008-08-04 02:45:08</td>\n",
       "      <td>July</td>\n",
       "    </tr>\n",
       "    <tr>\n",
       "      <th>4</th>\n",
       "      <td>1</td>\n",
       "      <td>2008-08-04 04:31:03</td>\n",
       "      <td>July</td>\n",
       "    </tr>\n",
       "    <tr>\n",
       "      <th>...</th>\n",
       "      <td>...</td>\n",
       "      <td>...</td>\n",
       "      <td>...</td>\n",
       "    </tr>\n",
       "    <tr>\n",
       "      <th>243791</th>\n",
       "      <td>5696608</td>\n",
       "      <td>2008-12-23 16:00:37</td>\n",
       "      <td>December</td>\n",
       "    </tr>\n",
       "    <tr>\n",
       "      <th>243792</th>\n",
       "      <td>5696608</td>\n",
       "      <td>2008-12-23 17:35:09</td>\n",
       "      <td>December</td>\n",
       "    </tr>\n",
       "    <tr>\n",
       "      <th>243793</th>\n",
       "      <td>5696608</td>\n",
       "      <td>2008-12-24 01:02:48</td>\n",
       "      <td>December</td>\n",
       "    </tr>\n",
       "    <tr>\n",
       "      <th>243794</th>\n",
       "      <td>5696608</td>\n",
       "      <td>2008-12-30 14:34:45</td>\n",
       "      <td>December</td>\n",
       "    </tr>\n",
       "    <tr>\n",
       "      <th>243795</th>\n",
       "      <td>5696608</td>\n",
       "      <td>2008-12-30 16:32:12</td>\n",
       "      <td>December</td>\n",
       "    </tr>\n",
       "  </tbody>\n",
       "</table>\n",
       "<p>243796 rows × 3 columns</p>\n",
       "</div>"
      ],
      "text/plain": [
       "        user_id       creation_date      case\n",
       "0             1 2008-07-31 23:41:00      None\n",
       "1             1 2008-07-31 23:55:38      None\n",
       "2             1 2008-07-31 23:56:41      July\n",
       "3             1 2008-08-04 02:45:08      July\n",
       "4             1 2008-08-04 04:31:03      July\n",
       "...         ...                 ...       ...\n",
       "243791  5696608 2008-12-23 16:00:37  December\n",
       "243792  5696608 2008-12-23 17:35:09  December\n",
       "243793  5696608 2008-12-24 01:02:48  December\n",
       "243794  5696608 2008-12-30 14:34:45  December\n",
       "243795  5696608 2008-12-30 16:32:12  December\n",
       "\n",
       "[243796 rows x 3 columns]"
      ]
     },
     "execution_count": 16,
     "metadata": {},
     "output_type": "execute_result"
    }
   ],
   "source": [
    "\n",
    "query = '''\n",
    "WITH\n",
    "\n",
    "t AS\n",
    "\n",
    "(SELECT user_id, \n",
    "       creation_date,\n",
    "       LAG(creation_date, 2) OVER (PARTITION BY user_id ORDER BY creation_date)::date AS lg\n",
    "FROM stackoverflow.posts\n",
    "ORDER BY user_id, creation_date)\n",
    "\n",
    "\n",
    "SELECT user_id,\n",
    "       creation_date, \n",
    "       CASE\n",
    "           WHEN EXTRACT(MONTH FROM lg) = 7.0 THEN 'July'\n",
    "           WHEN EXTRACT(MONTH FROM lg) = 8.0 THEN 'August'\n",
    "           WHEN EXTRACT(MONTH FROM lg) = 9.0 THEN 'September'\n",
    "           WHEN EXTRACT(MONTH FROM lg) = 10.0 THEN 'October'\n",
    "           WHEN EXTRACT(MONTH FROM lg) = 11.0 THEN 'November'\n",
    "           WHEN EXTRACT(MONTH FROM lg) = 12.0 THEN 'December'\n",
    "       END\n",
    "FROM t\n",
    "\n",
    "'''\n",
    "\n",
    "\n",
    "\n",
    "question_7 = pd.read_sql_query(query, con = engine)\n",
    "question_7"
   ]
  },
  {
   "cell_type": "markdown",
   "metadata": {
    "id": "tf9qq2yzDWK_"
   },
   "source": [
    "# Задание 8"
   ]
  },
  {
   "cell_type": "markdown",
   "metadata": {
    "id": "gfwLVXBYDWLA"
   },
   "source": [
    "Рассчитайте аналог Retention Rate по месяцам для пользователей StackOverflow. Объедините пользователей в когорты по месяцу их первого поста. Возвращение определяйте по наличию поста в текущем месяце. "
   ]
  },
  {
   "cell_type": "markdown",
   "metadata": {
    "id": "kN2ic39WlKpl"
   },
   "source": [
    "| cohort_dt | session_date | users_cnt | cohort_users_cnt | retention_rate |\n",
    "| --- | --- | --- | --- | --- |\n",
    "| 2008-07-01 00:00:00 | 2008-07-01 00:00:00 | 3 | 3 | 100 |\n",
    "| 2008-07-01 00:00:00 | 2008-08-01 00:00:00 | 2 | 3 | 66,67 |\n",
    "| 2008-07-01 00:00:00 | 2008-09-01 00:00:00 | 1 | 3 | 33,33 |\n",
    "| 2008-07-01 00:00:00 | 2008-10-01 00:00:00 | 2 | 3 | 66,67 |\n",
    "| 2008-07-01 00:00:00 | 2008-11-01 00:00:00 | 1 | 3 | 33,33 |\n",
    "| 2008-07-01 00:00:00 | 2008-12-01 00:00:00 | 2 | 3 | 66,67 |\n",
    "| 2008-08-01 00:00:00 | 2008-08-01 00:00:00 | 2151 | 2151 | 100 |\n",
    "| ... | ... | ... | ... | ... |"
   ]
  },
  {
   "cell_type": "code",
   "execution_count": 17,
   "metadata": {},
   "outputs": [],
   "source": [
    "query = '''\n",
    "\n",
    "\n",
    "'''"
   ]
  },
  {
   "cell_type": "code",
   "execution_count": null,
   "metadata": {
    "id": "LUgFmwmTDWLB"
   },
   "outputs": [
    {
     "data": {
      "text/html": [
       "<div>\n",
       "<style scoped>\n",
       "    .dataframe tbody tr th:only-of-type {\n",
       "        vertical-align: middle;\n",
       "    }\n",
       "\n",
       "    .dataframe tbody tr th {\n",
       "        vertical-align: top;\n",
       "    }\n",
       "\n",
       "    .dataframe thead th {\n",
       "        text-align: right;\n",
       "    }\n",
       "</style>\n",
       "<table border=\"1\" class=\"dataframe\">\n",
       "  <thead>\n",
       "    <tr style=\"text-align: right;\">\n",
       "      <th></th>\n",
       "      <th>cohort_dt</th>\n",
       "      <th>session_date</th>\n",
       "      <th>users_cnt</th>\n",
       "      <th>cucount</th>\n",
       "      <th>retention_rate</th>\n",
       "    </tr>\n",
       "  </thead>\n",
       "  <tbody>\n",
       "    <tr>\n",
       "      <th>0</th>\n",
       "      <td>2008-07-01</td>\n",
       "      <td>2008-07-01</td>\n",
       "      <td>3</td>\n",
       "      <td>3</td>\n",
       "      <td>100.00</td>\n",
       "    </tr>\n",
       "    <tr>\n",
       "      <th>1</th>\n",
       "      <td>2008-07-01</td>\n",
       "      <td>2008-08-01</td>\n",
       "      <td>2</td>\n",
       "      <td>3</td>\n",
       "      <td>66.67</td>\n",
       "    </tr>\n",
       "    <tr>\n",
       "      <th>2</th>\n",
       "      <td>2008-07-01</td>\n",
       "      <td>2008-09-01</td>\n",
       "      <td>1</td>\n",
       "      <td>3</td>\n",
       "      <td>33.33</td>\n",
       "    </tr>\n",
       "    <tr>\n",
       "      <th>3</th>\n",
       "      <td>2008-07-01</td>\n",
       "      <td>2008-10-01</td>\n",
       "      <td>2</td>\n",
       "      <td>3</td>\n",
       "      <td>66.67</td>\n",
       "    </tr>\n",
       "    <tr>\n",
       "      <th>4</th>\n",
       "      <td>2008-07-01</td>\n",
       "      <td>2008-11-01</td>\n",
       "      <td>1</td>\n",
       "      <td>3</td>\n",
       "      <td>33.33</td>\n",
       "    </tr>\n",
       "    <tr>\n",
       "      <th>5</th>\n",
       "      <td>2008-07-01</td>\n",
       "      <td>2008-12-01</td>\n",
       "      <td>2</td>\n",
       "      <td>3</td>\n",
       "      <td>66.67</td>\n",
       "    </tr>\n",
       "    <tr>\n",
       "      <th>6</th>\n",
       "      <td>2008-08-01</td>\n",
       "      <td>2008-08-01</td>\n",
       "      <td>2151</td>\n",
       "      <td>2151</td>\n",
       "      <td>100.00</td>\n",
       "    </tr>\n",
       "    <tr>\n",
       "      <th>7</th>\n",
       "      <td>2008-08-01</td>\n",
       "      <td>2008-09-01</td>\n",
       "      <td>1571</td>\n",
       "      <td>2151</td>\n",
       "      <td>73.04</td>\n",
       "    </tr>\n",
       "    <tr>\n",
       "      <th>8</th>\n",
       "      <td>2008-08-01</td>\n",
       "      <td>2008-10-01</td>\n",
       "      <td>1275</td>\n",
       "      <td>2151</td>\n",
       "      <td>59.27</td>\n",
       "    </tr>\n",
       "    <tr>\n",
       "      <th>9</th>\n",
       "      <td>2008-08-01</td>\n",
       "      <td>2008-11-01</td>\n",
       "      <td>1050</td>\n",
       "      <td>2151</td>\n",
       "      <td>48.81</td>\n",
       "    </tr>\n",
       "    <tr>\n",
       "      <th>10</th>\n",
       "      <td>2008-08-01</td>\n",
       "      <td>2008-12-01</td>\n",
       "      <td>894</td>\n",
       "      <td>2151</td>\n",
       "      <td>41.56</td>\n",
       "    </tr>\n",
       "    <tr>\n",
       "      <th>11</th>\n",
       "      <td>2008-09-01</td>\n",
       "      <td>2008-09-01</td>\n",
       "      <td>7678</td>\n",
       "      <td>7678</td>\n",
       "      <td>100.00</td>\n",
       "    </tr>\n",
       "    <tr>\n",
       "      <th>12</th>\n",
       "      <td>2008-09-01</td>\n",
       "      <td>2008-10-01</td>\n",
       "      <td>4132</td>\n",
       "      <td>7678</td>\n",
       "      <td>53.82</td>\n",
       "    </tr>\n",
       "    <tr>\n",
       "      <th>13</th>\n",
       "      <td>2008-09-01</td>\n",
       "      <td>2008-11-01</td>\n",
       "      <td>2966</td>\n",
       "      <td>7678</td>\n",
       "      <td>38.63</td>\n",
       "    </tr>\n",
       "    <tr>\n",
       "      <th>14</th>\n",
       "      <td>2008-09-01</td>\n",
       "      <td>2008-12-01</td>\n",
       "      <td>2500</td>\n",
       "      <td>7678</td>\n",
       "      <td>32.56</td>\n",
       "    </tr>\n",
       "    <tr>\n",
       "      <th>15</th>\n",
       "      <td>2008-10-01</td>\n",
       "      <td>2008-10-01</td>\n",
       "      <td>3629</td>\n",
       "      <td>3629</td>\n",
       "      <td>100.00</td>\n",
       "    </tr>\n",
       "    <tr>\n",
       "      <th>16</th>\n",
       "      <td>2008-10-01</td>\n",
       "      <td>2008-11-01</td>\n",
       "      <td>1640</td>\n",
       "      <td>3629</td>\n",
       "      <td>45.19</td>\n",
       "    </tr>\n",
       "    <tr>\n",
       "      <th>17</th>\n",
       "      <td>2008-10-01</td>\n",
       "      <td>2008-12-01</td>\n",
       "      <td>1221</td>\n",
       "      <td>3629</td>\n",
       "      <td>33.65</td>\n",
       "    </tr>\n",
       "    <tr>\n",
       "      <th>18</th>\n",
       "      <td>2008-11-01</td>\n",
       "      <td>2008-11-01</td>\n",
       "      <td>2852</td>\n",
       "      <td>2852</td>\n",
       "      <td>100.00</td>\n",
       "    </tr>\n",
       "    <tr>\n",
       "      <th>19</th>\n",
       "      <td>2008-11-01</td>\n",
       "      <td>2008-12-01</td>\n",
       "      <td>1151</td>\n",
       "      <td>2852</td>\n",
       "      <td>40.36</td>\n",
       "    </tr>\n",
       "    <tr>\n",
       "      <th>20</th>\n",
       "      <td>2008-12-01</td>\n",
       "      <td>2008-12-01</td>\n",
       "      <td>2536</td>\n",
       "      <td>2536</td>\n",
       "      <td>100.00</td>\n",
       "    </tr>\n",
       "  </tbody>\n",
       "</table>\n",
       "</div>"
      ],
      "text/plain": [
       "    cohort_dt session_date  users_cnt  cucount  retention_rate\n",
       "0  2008-07-01   2008-07-01          3        3          100.00\n",
       "1  2008-07-01   2008-08-01          2        3           66.67\n",
       "2  2008-07-01   2008-09-01          1        3           33.33\n",
       "3  2008-07-01   2008-10-01          2        3           66.67\n",
       "4  2008-07-01   2008-11-01          1        3           33.33\n",
       "5  2008-07-01   2008-12-01          2        3           66.67\n",
       "6  2008-08-01   2008-08-01       2151     2151          100.00\n",
       "7  2008-08-01   2008-09-01       1571     2151           73.04\n",
       "8  2008-08-01   2008-10-01       1275     2151           59.27\n",
       "9  2008-08-01   2008-11-01       1050     2151           48.81\n",
       "10 2008-08-01   2008-12-01        894     2151           41.56\n",
       "11 2008-09-01   2008-09-01       7678     7678          100.00\n",
       "12 2008-09-01   2008-10-01       4132     7678           53.82\n",
       "13 2008-09-01   2008-11-01       2966     7678           38.63\n",
       "14 2008-09-01   2008-12-01       2500     7678           32.56\n",
       "15 2008-10-01   2008-10-01       3629     3629          100.00\n",
       "16 2008-10-01   2008-11-01       1640     3629           45.19\n",
       "17 2008-10-01   2008-12-01       1221     3629           33.65\n",
       "18 2008-11-01   2008-11-01       2852     2852          100.00\n",
       "19 2008-11-01   2008-12-01       1151     2852           40.36\n",
       "20 2008-12-01   2008-12-01       2536     2536          100.00"
      ]
     },
     "execution_count": 18,
     "metadata": {},
     "output_type": "execute_result"
    }
   ],
   "source": [
    "\n",
    "query = '''\n",
    "WITH \n",
    "\n",
    "p AS\n",
    "\n",
    "(  WITH \n",
    "\n",
    "t AS\n",
    "\n",
    "(SELECT DISTINCT user_id,\n",
    "       FIRST_VALUE(DATE_TRUNC('month', creation_date)) OVER \n",
    "       (PARTITION BY user_id ORDER BY creation_date) AS cohort_dt\n",
    "FROM stackoverflow.posts)\n",
    "\n",
    "SELECT *,\n",
    "      COUNT(user_id) OVER (PARTITION BY cohort_dt) AS cucount\n",
    "FROM t),\n",
    "\n",
    "\n",
    " s AS \n",
    " \n",
    "(SELECT user_id,\n",
    "       DATE_TRUNC('month', creation_date) AS session_date\n",
    "FROM stackoverflow.posts\n",
    "GROUP BY user_id, session_date)\n",
    "         \n",
    " \n",
    " \n",
    " \n",
    "SELECT p.cohort_dt,\n",
    "       s.session_date,\n",
    "       COUNT(p.user_id) AS users_cnt,\n",
    "       p.cucount,\n",
    "       ROUND(COUNT(p.user_id) * 100.0 / cucount, 2) AS retention_rate\n",
    "       \n",
    "FROM p JOIN s \n",
    "ON p.user_id = s.user_id\n",
    "GROUP BY 1,\n",
    "         2,\n",
    "         4\n",
    "ORDER BY cohort_dt, session_date\n",
    "        \n",
    "         \n",
    "\n",
    "'''\n",
    "\n",
    "\n",
    "\n",
    "\n",
    "\n",
    "question_8 = pd.read_sql_query(query, con = engine)\n",
    "question_8"
   ]
  },
  {
   "cell_type": "markdown",
   "metadata": {
    "id": "_msBtnb2DWLC"
   },
   "source": [
    "Постройте тепловую карту Retention Rate. Какие аномалии или другие необычные явления удалось выявить? Сформулируйте гипотезы о возможных причинах."
   ]
  },
  {
   "cell_type": "code",
   "execution_count": 21,
   "metadata": {},
   "outputs": [
    {
     "data": {
      "image/png": "[encoded data removed]",
      "text/plain": [
       "<Figure size 720x720 with 2 Axes>"
      ]
     },
     "metadata": {
      "needs_background": "light"
     },
     "output_type": "display_data"
    }
   ],
   "source": [
    "\n",
    "retention = question_8.pivot('cohort_dt', 'session_date', 'retention_rate')\n",
    "retention.index = [str(x)[0:10] for x in retention.index]\n",
    "retention.columns = [str(x)[0:10] for x in retention.columns]\n",
    "plt.figure(figsize=(10, 10)) \n",
    "sns.heatmap(retention, \n",
    "            annot=True, \n",
    "            fmt='') \n",
    "plt.title('Retention Rate') \n",
    "plt.ylabel('Когорта')\n",
    "plt.xlabel('Месяц активности')\n",
    "plt.show()"
   ]
  },
  {
   "cell_type": "markdown",
   "metadata": {},
   "source": [
    "Динамика удержания первой кагорты не изменяется со временем в меньшую сторону, а имеет четкую периодичность и является выбросом в общую статистику ввиду наличия в когорте всего трёх челвек.\n",
    "\n",
    "\n",
    "Каждая следующая когорта показывает всё больший спад удержания относительно предыдущего периода."
   ]
  },
  {
   "cell_type": "markdown",
   "metadata": {
    "id": "1k7oPWt5DWLK"
   },
   "source": [
    "# Задание 9\n"
   ]
  },
  {
   "cell_type": "markdown",
   "metadata": {
    "id": "ALsYVSyRDWLM"
   },
   "source": [
    "На сколько процентов менялось количество постов ежемесячно с 1 сентября по 31 декабря 2008 года? Отобразите таблицу со следующими полями:\n",
    "\n",
    "- номер месяца;\n",
    "- количество постов за месяц;\n",
    "- процент, который показывает, насколько изменилось количество постов в текущем месяце по сравнению с предыдущим.\n",
    "\n",
    "Если постов стало меньше, значение процента должно быть отрицательным, если больше — положительным. Округлите значение процента до двух знаков после запятой.\n",
    "\n",
    "Напомним, что при делении одного целого числа на другое в PostgreSQL в результате получится целое число, округлённое до ближайшего целого вниз. Чтобы этого избежать, переведите делимое в тип `numeric`."
   ]
  },
  {
   "cell_type": "markdown",
   "metadata": {
    "id": "u4E2zF8DDWLM"
   },
   "source": [
    "| creation_month | posts_count | percentage |\n",
    "| -------------- | ----------- | ---------- |\n",
    "| 9 | 70731 | Nan |\n",
    "| 10 | 63102 | -10.33 |\n",
    "| ... | ... | ... |"
   ]
  },
  {
   "cell_type": "code",
   "execution_count": null,
   "metadata": {
    "id": "Mb5pShStDWLN"
   },
   "outputs": [
    {
     "data": {
      "text/html": [
       "<div>\n",
       "<style scoped>\n",
       "    .dataframe tbody tr th:only-of-type {\n",
       "        vertical-align: middle;\n",
       "    }\n",
       "\n",
       "    .dataframe tbody tr th {\n",
       "        vertical-align: top;\n",
       "    }\n",
       "\n",
       "    .dataframe thead th {\n",
       "        text-align: right;\n",
       "    }\n",
       "</style>\n",
       "<table border=\"1\" class=\"dataframe\">\n",
       "  <thead>\n",
       "    <tr style=\"text-align: right;\">\n",
       "      <th></th>\n",
       "      <th>creation_month</th>\n",
       "      <th>posts_count</th>\n",
       "      <th>percentage</th>\n",
       "    </tr>\n",
       "  </thead>\n",
       "  <tbody>\n",
       "    <tr>\n",
       "      <th>0</th>\n",
       "      <td>9</td>\n",
       "      <td>70371</td>\n",
       "      <td>NaN</td>\n",
       "    </tr>\n",
       "    <tr>\n",
       "      <th>1</th>\n",
       "      <td>10</td>\n",
       "      <td>63102</td>\n",
       "      <td>-10.33</td>\n",
       "    </tr>\n",
       "    <tr>\n",
       "      <th>2</th>\n",
       "      <td>11</td>\n",
       "      <td>46975</td>\n",
       "      <td>-25.56</td>\n",
       "    </tr>\n",
       "    <tr>\n",
       "      <th>3</th>\n",
       "      <td>12</td>\n",
       "      <td>44592</td>\n",
       "      <td>-5.07</td>\n",
       "    </tr>\n",
       "  </tbody>\n",
       "</table>\n",
       "</div>"
      ],
      "text/plain": [
       "   creation_month  posts_count  percentage\n",
       "0               9        70371         NaN\n",
       "1              10        63102      -10.33\n",
       "2              11        46975      -25.56\n",
       "3              12        44592       -5.07"
      ]
     },
     "execution_count": 22,
     "metadata": {},
     "output_type": "execute_result"
    }
   ],
   "source": [
    "\n",
    "query = '''\n",
    "WITH\n",
    "\n",
    "t AS\n",
    "\n",
    "(SELECT EXTRACT(MONTH FROM creation_date)::int AS creation_month,\n",
    "       COUNT(id) AS posts_count \n",
    "FROM stackoverflow.posts\n",
    "WHERE EXTRACT(MONTH FROM creation_date)::int BETWEEN 9 AND 12\n",
    "GROUP BY creation_month)\n",
    "\n",
    "\n",
    "SELECT *,\n",
    "       ROUND((posts_count::numeric/LAG(posts_count) OVER()-1)*100, 2) AS percentage\n",
    "       \n",
    "FROM t\n",
    "\n",
    "'''\n",
    "\n",
    "\n",
    "\n",
    "question_9 = pd.read_sql_query(query, con = engine)\n",
    "question_9"
   ]
  },
  {
   "cell_type": "markdown",
   "metadata": {
    "id": "9NQE2y_MDWLP"
   },
   "source": [
    "Постройте круговую диаграмму с количеством постов по месяцам."
   ]
  },
  {
   "cell_type": "code",
   "execution_count": 23,
   "metadata": {},
   "outputs": [
    {
     "name": "stdout",
     "output_type": "stream",
     "text": [
      "Сумма постов за 4 месяца: 225040\n"
     ]
    },
    {
     "data": {
      "image/png": "[encoded data removed]",
      "text/plain": [
       "<Figure size 720x504 with 1 Axes>"
      ]
     },
     "metadata": {},
     "output_type": "display_data"
    }
   ],
   "source": [
    "month = ['September','October','November','December']\n",
    "count = question_9['posts_count']\n",
    "\n",
    "\n",
    "\"Добавляем общее количество, для следующей функции\"\n",
    "\n",
    "print('Сумма постов за 4 месяца:',total_value := count.sum())\n",
    "\n",
    "\"\"\"\n",
    "\\\\\\\\\n",
    "Пишем функцию, которая выдаст \n",
    "количество постов вместе с процентами\n",
    "и подставляем её в autopct\n",
    "////\n",
    "\"\"\"\n",
    "def y_a_f(prct_value):\n",
    "    return '{:.1f}%\\n{:.0f}'.format(prct_value, total_value*prct_value/100)\n",
    "\n",
    "\n",
    "fig, ax = plt.subplots(figsize = (10,7))\n",
    "ax.pie(count, labels = month, autopct = y_a_f, colors = ['orange','indianred','mistyrose','honeydew'])\n",
    "#'%1.1f%%')\n",
    "\n",
    "plt.title('Количество постов по месяцам:')\n",
    "plt.show()"
   ]
  },
  {
   "cell_type": "markdown",
   "metadata": {
    "id": "uw7qMtafDWLP"
   },
   "source": [
    "# Задание 10"
   ]
  },
  {
   "cell_type": "markdown",
   "metadata": {
    "id": "oRBpWKx3DWLQ"
   },
   "source": [
    "Выгрузите данные активности пользователя, который опубликовал больше всего постов за всё время. Выведите данные за октябрь 2008 года в таком виде:\n",
    "\n",
    "- номер недели;\n",
    "- дата и время последнего поста, опубликованного на этой неделе."
   ]
  },
  {
   "cell_type": "markdown",
   "metadata": {
    "id": "XjAWSn_3DWLQ"
   },
   "source": [
    "| week_creation | creation_date |\n",
    "| ------------- | ------------- |\n",
    "| 40 | 2008-10-05 09:00:58 |\n",
    "| 41 | 2008-10-12 21:22:23 |\n",
    "| ... | ... |"
   ]
  },
  {
   "cell_type": "code",
   "execution_count": null,
   "metadata": {
    "id": "r5F5fSkwDWLQ"
   },
   "outputs": [
    {
     "data": {
      "text/html": [
       "<div>\n",
       "<style scoped>\n",
       "    .dataframe tbody tr th:only-of-type {\n",
       "        vertical-align: middle;\n",
       "    }\n",
       "\n",
       "    .dataframe tbody tr th {\n",
       "        vertical-align: top;\n",
       "    }\n",
       "\n",
       "    .dataframe thead th {\n",
       "        text-align: right;\n",
       "    }\n",
       "</style>\n",
       "<table border=\"1\" class=\"dataframe\">\n",
       "  <thead>\n",
       "    <tr style=\"text-align: right;\">\n",
       "      <th></th>\n",
       "      <th>week_creation</th>\n",
       "      <th>creation_date</th>\n",
       "    </tr>\n",
       "  </thead>\n",
       "  <tbody>\n",
       "    <tr>\n",
       "      <th>0</th>\n",
       "      <td>40</td>\n",
       "      <td>2008-10-05 09:00:58</td>\n",
       "    </tr>\n",
       "    <tr>\n",
       "      <th>1</th>\n",
       "      <td>41</td>\n",
       "      <td>2008-10-12 21:22:23</td>\n",
       "    </tr>\n",
       "    <tr>\n",
       "      <th>2</th>\n",
       "      <td>42</td>\n",
       "      <td>2008-10-19 06:49:30</td>\n",
       "    </tr>\n",
       "    <tr>\n",
       "      <th>3</th>\n",
       "      <td>43</td>\n",
       "      <td>2008-10-26 21:44:36</td>\n",
       "    </tr>\n",
       "    <tr>\n",
       "      <th>4</th>\n",
       "      <td>44</td>\n",
       "      <td>2008-10-31 22:16:01</td>\n",
       "    </tr>\n",
       "  </tbody>\n",
       "</table>\n",
       "</div>"
      ],
      "text/plain": [
       "   week_creation       creation_date\n",
       "0             40 2008-10-05 09:00:58\n",
       "1             41 2008-10-12 21:22:23\n",
       "2             42 2008-10-19 06:49:30\n",
       "3             43 2008-10-26 21:44:36\n",
       "4             44 2008-10-31 22:16:01"
      ]
     },
     "execution_count": 24,
     "metadata": {},
     "output_type": "execute_result"
    }
   ],
   "source": [
    "\n",
    "query = '''\n",
    "WITH \n",
    "\n",
    "au AS\n",
    "\n",
    "(SELECT user_id,\n",
    "       COUNT(id)\n",
    "FROM stackoverflow.posts\n",
    "GROUP BY user_id\n",
    "ORDER BY COUNT(id) DESC\n",
    "LIMIT 1)\n",
    "\n",
    "\n",
    "\n",
    "SELECT EXTRACT(WEEK FROM p.creation_date)::int AS week_creation,\n",
    "       MAX(p.creation_date) AS creation_date\n",
    "FROM au\n",
    "JOIN stackoverflow.posts AS p\n",
    "ON au.user_id=p.user_id\n",
    "WHERE DATE_TRUNC('month', p.creation_date)::date = '2008-10-01'\n",
    "GROUP BY week_creation\n",
    "\n",
    "'''\n",
    "\n",
    "\n",
    "\n",
    "question_10 = pd.read_sql_query(query, con = engine)\n",
    "question_10"
   ]
  }
 ],
 "metadata": {
  "ExecuteTimeLog": [
   {
    "duration": 963,
    "start_time": "2023-11-07T13:34:40.062Z"
   },
   {
    "duration": 3,
    "start_time": "2023-11-07T13:34:42.503Z"
   },
   {
    "duration": 11771,
    "start_time": "2023-11-07T13:35:41.937Z"
   },
   {
    "duration": 225,
    "start_time": "2023-11-07T13:36:09.280Z"
   },
   {
    "duration": 15,
    "start_time": "2023-11-07T13:36:10.621Z"
   },
   {
    "duration": 105,
    "start_time": "2023-11-07T13:37:21.043Z"
   },
   {
    "duration": 124,
    "start_time": "2023-11-07T13:37:31.470Z"
   },
   {
    "duration": 943,
    "start_time": "2023-11-08T11:44:40.388Z"
   },
   {
    "duration": 4,
    "start_time": "2023-11-08T11:44:47.169Z"
   },
   {
    "duration": 3,
    "start_time": "2023-11-08T11:44:49.177Z"
   },
   {
    "duration": 14426,
    "start_time": "2023-11-08T11:44:50.905Z"
   },
   {
    "duration": 217,
    "start_time": "2023-11-08T11:45:05.333Z"
   },
   {
    "duration": 13,
    "start_time": "2023-11-08T11:45:05.552Z"
   },
   {
    "duration": 111,
    "start_time": "2023-11-08T11:49:08.481Z"
   },
   {
    "duration": 107,
    "start_time": "2023-11-08T11:50:21.353Z"
   },
   {
    "duration": 108,
    "start_time": "2023-11-08T11:50:34.410Z"
   },
   {
    "duration": 111,
    "start_time": "2023-11-08T12:08:10.094Z"
   },
   {
    "duration": 65,
    "start_time": "2023-11-08T12:08:12.902Z"
   },
   {
    "duration": 108,
    "start_time": "2023-11-08T12:08:15.293Z"
   },
   {
    "duration": 114,
    "start_time": "2023-11-08T12:08:23.389Z"
   },
   {
    "duration": 3,
    "start_time": "2023-11-08T12:09:03.742Z"
   },
   {
    "duration": 148,
    "start_time": "2023-11-08T12:09:51.711Z"
   },
   {
    "duration": 153,
    "start_time": "2023-11-08T14:45:16.315Z"
   },
   {
    "duration": 76,
    "start_time": "2023-11-08T14:46:28.730Z"
   },
   {
    "duration": 1214,
    "start_time": "2023-11-08T14:46:38.954Z"
   },
   {
    "duration": 120,
    "start_time": "2023-11-08T14:48:06.219Z"
   },
   {
    "duration": 121,
    "start_time": "2023-11-08T14:48:11.836Z"
   },
   {
    "duration": 62,
    "start_time": "2023-11-08T14:48:43.492Z"
   },
   {
    "duration": 1198,
    "start_time": "2023-11-08T14:49:20.022Z"
   },
   {
    "duration": 472,
    "start_time": "2023-11-08T14:50:12.078Z"
   },
   {
    "duration": 14,
    "start_time": "2023-11-08T14:50:37.047Z"
   },
   {
    "duration": 448,
    "start_time": "2023-11-08T14:50:55.319Z"
   },
   {
    "duration": 455,
    "start_time": "2023-11-08T14:51:05.215Z"
   },
   {
    "duration": 37,
    "start_time": "2023-11-08T14:51:59.728Z"
   },
   {
    "duration": 131,
    "start_time": "2023-11-08T14:52:52.409Z"
   },
   {
    "duration": 120,
    "start_time": "2023-11-08T16:21:36.252Z"
   },
   {
    "duration": 114,
    "start_time": "2023-11-08T16:22:29.765Z"
   },
   {
    "duration": 77,
    "start_time": "2023-11-08T16:24:24.019Z"
   },
   {
    "duration": 17,
    "start_time": "2023-11-08T16:24:57.312Z"
   },
   {
    "duration": 77,
    "start_time": "2023-11-08T16:25:06.824Z"
   },
   {
    "duration": 1491,
    "start_time": "2023-11-09T15:35:42.455Z"
   },
   {
    "duration": 4,
    "start_time": "2023-11-09T15:35:43.948Z"
   },
   {
    "duration": 3,
    "start_time": "2023-11-09T15:35:46.380Z"
   },
   {
    "duration": 10137,
    "start_time": "2023-11-09T15:35:47.284Z"
   },
   {
    "duration": 222,
    "start_time": "2023-11-09T15:35:57.424Z"
   },
   {
    "duration": 15,
    "start_time": "2023-11-09T15:35:57.648Z"
   },
   {
    "duration": 113,
    "start_time": "2023-11-09T15:36:02.759Z"
   },
   {
    "duration": 255,
    "start_time": "2023-11-09T15:36:19.575Z"
   },
   {
    "duration": 115,
    "start_time": "2023-11-09T15:36:47.597Z"
   },
   {
    "duration": 110,
    "start_time": "2023-11-09T15:37:07.910Z"
   },
   {
    "duration": 108,
    "start_time": "2023-11-09T15:37:11.327Z"
   },
   {
    "duration": 137,
    "start_time": "2023-11-09T16:01:30.587Z"
   },
   {
    "duration": 174,
    "start_time": "2023-11-09T16:02:21.138Z"
   },
   {
    "duration": 161,
    "start_time": "2023-11-09T16:07:09.334Z"
   },
   {
    "duration": 8,
    "start_time": "2023-11-09T16:07:27.391Z"
   },
   {
    "duration": 149,
    "start_time": "2023-11-09T16:07:37.759Z"
   },
   {
    "duration": 9,
    "start_time": "2023-11-09T16:07:41.711Z"
   },
   {
    "duration": 13,
    "start_time": "2023-11-09T16:07:55.951Z"
   },
   {
    "duration": 10,
    "start_time": "2023-11-09T16:08:10.102Z"
   },
   {
    "duration": 10,
    "start_time": "2023-11-09T16:08:15.176Z"
   },
   {
    "duration": 27,
    "start_time": "2023-11-09T16:10:01.445Z"
   },
   {
    "duration": 9,
    "start_time": "2023-11-09T16:10:22.715Z"
   },
   {
    "duration": 2,
    "start_time": "2023-11-09T16:14:53.191Z"
   },
   {
    "duration": 173,
    "start_time": "2023-11-09T16:15:40.495Z"
   },
   {
    "duration": 162,
    "start_time": "2023-11-09T16:16:01.168Z"
   },
   {
    "duration": 167,
    "start_time": "2023-11-09T16:16:05.689Z"
   },
   {
    "duration": 150,
    "start_time": "2023-11-09T16:18:47.885Z"
   },
   {
    "duration": 139,
    "start_time": "2023-11-09T16:19:22.365Z"
   },
   {
    "duration": 65,
    "start_time": "2023-11-09T16:19:32.701Z"
   },
   {
    "duration": 63,
    "start_time": "2023-11-09T16:20:04.452Z"
   },
   {
    "duration": 8,
    "start_time": "2023-11-09T16:20:53.628Z"
   },
   {
    "duration": 71,
    "start_time": "2023-11-09T16:20:54.700Z"
   },
   {
    "duration": 10,
    "start_time": "2023-11-09T16:37:04.019Z"
   },
   {
    "duration": 118,
    "start_time": "2023-11-09T16:37:06.934Z"
   },
   {
    "duration": 89,
    "start_time": "2023-11-09T16:37:08.141Z"
   },
   {
    "duration": 1393,
    "start_time": "2023-11-11T09:48:08.354Z"
   },
   {
    "duration": 4,
    "start_time": "2023-11-11T09:48:10.378Z"
   },
   {
    "duration": 136041,
    "start_time": "2023-11-11T09:48:11.675Z"
   },
   {
    "duration": 214,
    "start_time": "2023-11-11T09:50:27.718Z"
   },
   {
    "duration": 13,
    "start_time": "2023-11-11T09:50:27.933Z"
   },
   {
    "duration": 233,
    "start_time": "2023-11-11T09:50:54.295Z"
   },
   {
    "duration": 174,
    "start_time": "2023-11-11T11:19:59.628Z"
   },
   {
    "duration": 142,
    "start_time": "2023-11-11T11:20:25.562Z"
   },
   {
    "duration": 154,
    "start_time": "2023-11-11T11:20:39.921Z"
   },
   {
    "duration": 2,
    "start_time": "2023-11-11T11:27:13.801Z"
   },
   {
    "duration": 59,
    "start_time": "2023-11-11T11:27:13.809Z"
   },
   {
    "duration": 15,
    "start_time": "2023-11-11T11:27:13.870Z"
   },
   {
    "duration": 243,
    "start_time": "2023-11-11T11:27:13.887Z"
   },
   {
    "duration": 9,
    "start_time": "2023-11-11T11:27:14.132Z"
   },
   {
    "duration": 120,
    "start_time": "2023-11-11T11:27:14.143Z"
   },
   {
    "duration": 151,
    "start_time": "2023-11-11T11:27:14.264Z"
   },
   {
    "duration": 61,
    "start_time": "2023-11-11T11:27:14.417Z"
   },
   {
    "duration": 27,
    "start_time": "2023-11-11T11:27:14.480Z"
   },
   {
    "duration": 63,
    "start_time": "2023-11-11T11:27:14.508Z"
   },
   {
    "duration": 2,
    "start_time": "2023-11-11T11:27:14.572Z"
   },
   {
    "duration": 144,
    "start_time": "2023-11-11T11:27:14.576Z"
   },
   {
    "duration": 2,
    "start_time": "2023-11-11T11:27:14.722Z"
   },
   {
    "duration": 13,
    "start_time": "2023-11-11T11:27:14.725Z"
   },
   {
    "duration": 1244,
    "start_time": "2023-11-11T11:27:14.741Z"
   },
   {
    "duration": 122,
    "start_time": "2023-11-11T11:27:15.987Z"
   },
   {
    "duration": 61,
    "start_time": "2023-11-11T11:27:16.111Z"
   },
   {
    "duration": 3,
    "start_time": "2023-11-11T11:27:16.173Z"
   },
   {
    "duration": 1253,
    "start_time": "2023-11-11T11:27:16.178Z"
   },
   {
    "duration": 530,
    "start_time": "2023-11-11T11:27:17.432Z"
   },
   {
    "duration": 2,
    "start_time": "2023-11-11T11:27:17.965Z"
   },
   {
    "duration": 27,
    "start_time": "2023-11-11T11:27:17.969Z"
   },
   {
    "duration": 484,
    "start_time": "2023-11-11T11:27:17.997Z"
   },
   {
    "duration": 4,
    "start_time": "2023-11-11T11:27:18.483Z"
   },
   {
    "duration": 138,
    "start_time": "2023-11-11T11:27:18.488Z"
   },
   {
    "duration": 73,
    "start_time": "2023-11-11T11:27:18.628Z"
   },
   {
    "duration": 129,
    "start_time": "2023-11-11T11:27:18.702Z"
   },
   {
    "duration": 63,
    "start_time": "2023-11-11T11:57:09.922Z"
   },
   {
    "duration": 126,
    "start_time": "2023-11-11T12:03:58.479Z"
   },
   {
    "duration": 61,
    "start_time": "2023-11-11T12:04:18.912Z"
   },
   {
    "duration": 162,
    "start_time": "2023-11-11T12:16:34.935Z"
   },
   {
    "duration": 485,
    "start_time": "2023-11-11T12:16:46.486Z"
   },
   {
    "duration": 232,
    "start_time": "2023-11-11T12:16:51.345Z"
   },
   {
    "duration": 472,
    "start_time": "2023-11-11T12:16:57.099Z"
   },
   {
    "duration": 472,
    "start_time": "2023-11-11T12:20:24.150Z"
   },
   {
    "duration": 200,
    "start_time": "2023-11-11T12:20:40.476Z"
   },
   {
    "duration": 469,
    "start_time": "2023-11-11T12:21:04.263Z"
   },
   {
    "duration": 474,
    "start_time": "2023-11-11T12:22:29.069Z"
   },
   {
    "duration": 230,
    "start_time": "2023-11-11T12:23:03.590Z"
   },
   {
    "duration": 466,
    "start_time": "2023-11-11T12:23:22.185Z"
   },
   {
    "duration": 137,
    "start_time": "2023-11-11T12:23:44.040Z"
   },
   {
    "duration": 1247,
    "start_time": "2023-11-11T12:37:03.174Z"
   },
   {
    "duration": 4,
    "start_time": "2023-11-11T12:37:04.423Z"
   },
   {
    "duration": 134701,
    "start_time": "2023-11-11T12:37:04.429Z"
   },
   {
    "duration": 221,
    "start_time": "2023-11-11T12:39:19.132Z"
   },
   {
    "duration": 19,
    "start_time": "2023-11-11T12:39:19.355Z"
   },
   {
    "duration": 118,
    "start_time": "2023-11-11T12:39:19.378Z"
   },
   {
    "duration": 144,
    "start_time": "2023-11-11T12:39:19.498Z"
   },
   {
    "duration": 10,
    "start_time": "2023-11-11T12:39:19.643Z"
   },
   {
    "duration": 71,
    "start_time": "2023-11-11T12:39:19.654Z"
   },
   {
    "duration": 2,
    "start_time": "2023-11-11T12:39:19.728Z"
   },
   {
    "duration": 162,
    "start_time": "2023-11-11T12:39:19.732Z"
   },
   {
    "duration": 2,
    "start_time": "2023-11-11T12:39:19.896Z"
   },
   {
    "duration": 1256,
    "start_time": "2023-11-11T12:39:19.900Z"
   },
   {
    "duration": 125,
    "start_time": "2023-11-11T12:39:21.158Z"
   },
   {
    "duration": 61,
    "start_time": "2023-11-11T12:39:21.286Z"
   },
   {
    "duration": 1215,
    "start_time": "2023-11-11T12:39:21.348Z"
   },
   {
    "duration": 3,
    "start_time": "2023-11-11T12:39:22.564Z"
   },
   {
    "duration": 482,
    "start_time": "2023-11-11T12:39:22.568Z"
   },
   {
    "duration": 3,
    "start_time": "2023-11-11T12:39:23.051Z"
   },
   {
    "duration": 4,
    "start_time": "2023-11-11T12:39:23.056Z"
   },
   {
    "duration": 431,
    "start_time": "2023-11-11T12:39:23.062Z"
   },
   {
    "duration": 114,
    "start_time": "2023-11-11T12:39:23.494Z"
   },
   {
    "duration": 86,
    "start_time": "2023-11-11T12:39:23.610Z"
   },
   {
    "duration": 134,
    "start_time": "2023-11-11T12:39:23.697Z"
   },
   {
    "duration": 464,
    "start_time": "2023-11-11T12:39:40.257Z"
   },
   {
    "duration": 505,
    "start_time": "2023-11-11T12:39:51.670Z"
   },
   {
    "duration": 488,
    "start_time": "2023-11-11T12:40:55.022Z"
   },
   {
    "duration": 739,
    "start_time": "2023-11-11T12:41:02.074Z"
   },
   {
    "duration": 483,
    "start_time": "2023-11-11T12:41:56.158Z"
   },
   {
    "duration": 798,
    "start_time": "2023-11-11T12:42:15.774Z"
   },
   {
    "duration": 513,
    "start_time": "2023-11-11T12:42:40.581Z"
   },
   {
    "duration": 510,
    "start_time": "2023-11-11T12:45:51.052Z"
   },
   {
    "duration": 284,
    "start_time": "2023-11-11T12:46:56.012Z"
   },
   {
    "duration": 494,
    "start_time": "2023-11-11T12:47:11.912Z"
   },
   {
    "duration": 154,
    "start_time": "2023-11-11T12:54:35.770Z"
   },
   {
    "duration": 513,
    "start_time": "2023-11-11T12:54:39.781Z"
   },
   {
    "duration": 135,
    "start_time": "2023-11-11T12:54:47.296Z"
   },
   {
    "duration": 770,
    "start_time": "2023-11-11T12:54:49.624Z"
   },
   {
    "duration": 416,
    "start_time": "2023-11-11T12:55:27.962Z"
   },
   {
    "duration": 144,
    "start_time": "2023-11-11T13:16:56.415Z"
   },
   {
    "duration": 733,
    "start_time": "2023-11-11T13:18:45.891Z"
   },
   {
    "duration": 133,
    "start_time": "2023-11-11T13:21:07.846Z"
   },
   {
    "duration": 167,
    "start_time": "2023-11-11T13:48:53.939Z"
   },
   {
    "duration": 150,
    "start_time": "2023-11-11T13:49:00.260Z"
   },
   {
    "duration": 118,
    "start_time": "2023-11-11T13:49:11.291Z"
   },
   {
    "duration": 165,
    "start_time": "2023-11-11T19:23:45.770Z"
   },
   {
    "duration": 130,
    "start_time": "2023-11-11T19:23:50.440Z"
   },
   {
    "duration": 141,
    "start_time": "2023-11-11T19:23:55.952Z"
   },
   {
    "duration": 135,
    "start_time": "2023-11-11T19:24:03.203Z"
   },
   {
    "duration": 1153,
    "start_time": "2023-11-11T19:32:05.868Z"
   },
   {
    "duration": 3,
    "start_time": "2023-11-11T19:32:15.343Z"
   },
   {
    "duration": 31,
    "start_time": "2023-11-11T19:32:15.348Z"
   },
   {
    "duration": 47,
    "start_time": "2023-11-11T19:32:15.381Z"
   },
   {
    "duration": 235,
    "start_time": "2023-11-11T19:32:15.430Z"
   },
   {
    "duration": 9,
    "start_time": "2023-11-11T19:32:15.668Z"
   },
   {
    "duration": 112,
    "start_time": "2023-11-11T19:32:15.678Z"
   },
   {
    "duration": 148,
    "start_time": "2023-11-11T19:32:15.792Z"
   },
   {
    "duration": 9,
    "start_time": "2023-11-11T19:32:15.942Z"
   },
   {
    "duration": 70,
    "start_time": "2023-11-11T19:32:15.953Z"
   },
   {
    "duration": 3,
    "start_time": "2023-11-11T19:32:16.024Z"
   },
   {
    "duration": 168,
    "start_time": "2023-11-11T19:32:16.028Z"
   },
   {
    "duration": 2,
    "start_time": "2023-11-11T19:32:16.197Z"
   },
   {
    "duration": 1131,
    "start_time": "2023-11-11T19:32:16.201Z"
   },
   {
    "duration": 117,
    "start_time": "2023-11-11T19:32:17.335Z"
   },
   {
    "duration": 62,
    "start_time": "2023-11-11T19:32:17.453Z"
   },
   {
    "duration": 1210,
    "start_time": "2023-11-11T19:32:17.517Z"
   },
   {
    "duration": 3,
    "start_time": "2023-11-11T19:32:18.728Z"
   },
   {
    "duration": 488,
    "start_time": "2023-11-11T19:32:18.732Z"
   },
   {
    "duration": 2,
    "start_time": "2023-11-11T19:32:19.222Z"
   },
   {
    "duration": 6,
    "start_time": "2023-11-11T19:32:19.226Z"
   },
   {
    "duration": 415,
    "start_time": "2023-11-11T19:32:19.233Z"
   },
   {
    "duration": 114,
    "start_time": "2023-11-11T19:32:19.650Z"
   },
   {
    "duration": 78,
    "start_time": "2023-11-11T19:32:19.766Z"
   },
   {
    "duration": 133,
    "start_time": "2023-11-11T19:32:19.845Z"
   },
   {
    "duration": 1295,
    "start_time": "2023-11-11T19:55:24.197Z"
   },
   {
    "duration": 4,
    "start_time": "2023-11-11T19:55:25.493Z"
   },
   {
    "duration": 10215,
    "start_time": "2023-11-11T19:55:25.499Z"
   },
   {
    "duration": 44,
    "start_time": "2023-11-11T19:55:35.716Z"
   },
   {
    "duration": 15,
    "start_time": "2023-11-11T19:55:35.761Z"
   },
   {
    "duration": 88,
    "start_time": "2023-11-11T19:55:35.777Z"
   },
   {
    "duration": 128,
    "start_time": "2023-11-11T19:55:35.867Z"
   },
   {
    "duration": 11,
    "start_time": "2023-11-11T19:55:35.997Z"
   },
   {
    "duration": 81,
    "start_time": "2023-11-11T19:55:36.009Z"
   },
   {
    "duration": 2,
    "start_time": "2023-11-11T19:55:36.094Z"
   },
   {
    "duration": 185,
    "start_time": "2023-11-11T19:55:36.098Z"
   },
   {
    "duration": 3,
    "start_time": "2023-11-11T19:55:36.285Z"
   },
   {
    "duration": 1144,
    "start_time": "2023-11-11T19:55:36.290Z"
   },
   {
    "duration": 91,
    "start_time": "2023-11-11T19:55:37.436Z"
   },
   {
    "duration": 31,
    "start_time": "2023-11-11T19:55:37.528Z"
   },
   {
    "duration": 1161,
    "start_time": "2023-11-11T19:55:37.560Z"
   },
   {
    "duration": 3,
    "start_time": "2023-11-11T19:55:38.722Z"
   },
   {
    "duration": 459,
    "start_time": "2023-11-11T19:55:38.727Z"
   },
   {
    "duration": 3,
    "start_time": "2023-11-11T19:55:39.188Z"
   },
   {
    "duration": 2,
    "start_time": "2023-11-11T19:55:39.193Z"
   },
   {
    "duration": 406,
    "start_time": "2023-11-11T19:55:39.197Z"
   },
   {
    "duration": 80,
    "start_time": "2023-11-11T19:55:39.605Z"
   },
   {
    "duration": 76,
    "start_time": "2023-11-11T19:55:39.687Z"
   },
   {
    "duration": 107,
    "start_time": "2023-11-11T19:55:39.765Z"
   },
   {
    "duration": 33,
    "start_time": "2023-11-11T20:01:22.165Z"
   },
   {
    "duration": 32,
    "start_time": "2023-11-11T20:01:24.429Z"
   },
   {
    "duration": 108,
    "start_time": "2023-11-11T20:04:21.205Z"
   },
   {
    "duration": 106,
    "start_time": "2023-11-11T20:04:21.861Z"
   },
   {
    "duration": 104,
    "start_time": "2023-11-11T20:04:22.405Z"
   },
   {
    "duration": 102,
    "start_time": "2023-11-11T20:04:22.892Z"
   },
   {
    "duration": 1256,
    "start_time": "2023-11-11T20:04:30.702Z"
   },
   {
    "duration": 3,
    "start_time": "2023-11-11T20:04:31.959Z"
   },
   {
    "duration": 10256,
    "start_time": "2023-11-11T20:04:31.964Z"
   },
   {
    "duration": 26,
    "start_time": "2023-11-11T20:04:42.222Z"
   },
   {
    "duration": 13,
    "start_time": "2023-11-11T20:04:42.250Z"
   },
   {
    "duration": 75,
    "start_time": "2023-11-11T20:04:42.264Z"
   },
   {
    "duration": 115,
    "start_time": "2023-11-11T20:04:42.341Z"
   },
   {
    "duration": 10,
    "start_time": "2023-11-11T20:04:42.458Z"
   },
   {
    "duration": 30,
    "start_time": "2023-11-11T20:04:42.470Z"
   },
   {
    "duration": 2,
    "start_time": "2023-11-11T20:04:42.502Z"
   },
   {
    "duration": 105,
    "start_time": "2023-11-11T20:04:42.505Z"
   },
   {
    "duration": 2,
    "start_time": "2023-11-11T20:04:42.612Z"
   },
   {
    "duration": 1165,
    "start_time": "2023-11-11T20:04:42.615Z"
   },
   {
    "duration": 87,
    "start_time": "2023-11-11T20:04:43.782Z"
   },
   {
    "duration": 30,
    "start_time": "2023-11-11T20:04:43.870Z"
   },
   {
    "duration": 1161,
    "start_time": "2023-11-11T20:04:43.901Z"
   },
   {
    "duration": 2,
    "start_time": "2023-11-11T20:04:45.063Z"
   },
   {
    "duration": 472,
    "start_time": "2023-11-11T20:04:45.067Z"
   },
   {
    "duration": 3,
    "start_time": "2023-11-11T20:04:45.541Z"
   },
   {
    "duration": 22,
    "start_time": "2023-11-11T20:04:45.546Z"
   },
   {
    "duration": 416,
    "start_time": "2023-11-11T20:04:45.569Z"
   },
   {
    "duration": 90,
    "start_time": "2023-11-11T20:04:45.987Z"
   },
   {
    "duration": 98,
    "start_time": "2023-11-11T20:04:46.080Z"
   },
   {
    "duration": 108,
    "start_time": "2023-11-11T20:04:46.180Z"
   },
   {
    "duration": 1751,
    "start_time": "2023-11-16T17:06:42.488Z"
   },
   {
    "duration": 4,
    "start_time": "2023-11-16T17:06:44.241Z"
   },
   {
    "duration": 9881,
    "start_time": "2023-11-16T17:06:44.247Z"
   },
   {
    "duration": 71,
    "start_time": "2023-11-16T17:06:54.130Z"
   },
   {
    "duration": 20,
    "start_time": "2023-11-16T17:06:54.211Z"
   },
   {
    "duration": 85,
    "start_time": "2023-11-16T17:06:54.232Z"
   },
   {
    "duration": 119,
    "start_time": "2023-11-16T17:06:54.319Z"
   },
   {
    "duration": 12,
    "start_time": "2023-11-16T17:06:54.441Z"
   },
   {
    "duration": 60,
    "start_time": "2023-11-16T17:06:54.455Z"
   },
   {
    "duration": 4,
    "start_time": "2023-11-16T17:06:54.517Z"
   },
   {
    "duration": 115,
    "start_time": "2023-11-16T17:06:54.530Z"
   },
   {
    "duration": 3,
    "start_time": "2023-11-16T17:06:54.647Z"
   },
   {
    "duration": 1581,
    "start_time": "2023-11-16T17:06:54.651Z"
   },
   {
    "duration": 93,
    "start_time": "2023-11-16T17:06:56.235Z"
   },
   {
    "duration": 39,
    "start_time": "2023-11-16T17:06:56.329Z"
   },
   {
    "duration": 1411,
    "start_time": "2023-11-16T17:06:56.370Z"
   },
   {
    "duration": 10,
    "start_time": "2023-11-16T17:06:57.785Z"
   },
   {
    "duration": 478,
    "start_time": "2023-11-16T17:06:57.797Z"
   },
   {
    "duration": 5,
    "start_time": "2023-11-16T17:06:58.280Z"
   },
   {
    "duration": 31,
    "start_time": "2023-11-16T17:06:58.289Z"
   },
   {
    "duration": 677,
    "start_time": "2023-11-16T17:06:58.322Z"
   },
   {
    "duration": 0,
    "start_time": "2023-11-16T17:06:59.001Z"
   },
   {
    "duration": 0,
    "start_time": "2023-11-16T17:06:59.005Z"
   },
   {
    "duration": 0,
    "start_time": "2023-11-16T17:06:59.006Z"
   },
   {
    "duration": 613,
    "start_time": "2023-11-16T17:08:56.767Z"
   },
   {
    "duration": 465,
    "start_time": "2023-11-16T17:09:07.354Z"
   },
   {
    "duration": 500,
    "start_time": "2023-11-16T17:10:23.124Z"
   },
   {
    "duration": 510,
    "start_time": "2023-11-16T17:10:28.924Z"
   },
   {
    "duration": 628,
    "start_time": "2023-11-16T17:12:03.692Z"
   },
   {
    "duration": 590,
    "start_time": "2023-11-16T17:12:18.784Z"
   },
   {
    "duration": 6,
    "start_time": "2023-11-16T17:13:22.592Z"
   },
   {
    "duration": 17,
    "start_time": "2023-11-16T17:13:22.604Z"
   },
   {
    "duration": 36,
    "start_time": "2023-11-16T17:13:22.623Z"
   },
   {
    "duration": 86,
    "start_time": "2023-11-16T17:13:22.661Z"
   },
   {
    "duration": 56,
    "start_time": "2023-11-16T17:13:22.750Z"
   },
   {
    "duration": 116,
    "start_time": "2023-11-16T17:13:22.812Z"
   },
   {
    "duration": 146,
    "start_time": "2023-11-16T17:13:22.930Z"
   },
   {
    "duration": 36,
    "start_time": "2023-11-16T17:13:23.081Z"
   },
   {
    "duration": 56,
    "start_time": "2023-11-16T17:13:23.123Z"
   },
   {
    "duration": 11,
    "start_time": "2023-11-16T17:13:23.186Z"
   },
   {
    "duration": 128,
    "start_time": "2023-11-16T17:13:23.212Z"
   },
   {
    "duration": 5,
    "start_time": "2023-11-16T17:13:23.342Z"
   },
   {
    "duration": 1976,
    "start_time": "2023-11-16T17:13:23.349Z"
   },
   {
    "duration": 110,
    "start_time": "2023-11-16T17:13:25.334Z"
   },
   {
    "duration": 46,
    "start_time": "2023-11-16T17:13:25.445Z"
   },
   {
    "duration": 1760,
    "start_time": "2023-11-16T17:13:25.492Z"
   },
   {
    "duration": 12,
    "start_time": "2023-11-16T17:13:27.254Z"
   },
   {
    "duration": 539,
    "start_time": "2023-11-16T17:13:27.275Z"
   },
   {
    "duration": 6,
    "start_time": "2023-11-16T17:13:27.816Z"
   },
   {
    "duration": 22,
    "start_time": "2023-11-16T17:13:27.824Z"
   },
   {
    "duration": 846,
    "start_time": "2023-11-16T17:13:27.848Z"
   },
   {
    "duration": 126,
    "start_time": "2023-11-16T17:13:28.703Z"
   },
   {
    "duration": 211,
    "start_time": "2023-11-16T17:13:28.843Z"
   },
   {
    "duration": 124,
    "start_time": "2023-11-16T17:13:29.059Z"
   },
   {
    "duration": 4,
    "start_time": "2023-11-16T17:15:36.007Z"
   },
   {
    "duration": 155,
    "start_time": "2023-11-16T17:19:31.226Z"
   },
   {
    "duration": 75,
    "start_time": "2023-11-16T17:19:40.716Z"
   },
   {
    "duration": 87,
    "start_time": "2023-11-16T17:20:14.126Z"
   },
   {
    "duration": 97,
    "start_time": "2023-11-16T17:21:01.899Z"
   },
   {
    "duration": 130,
    "start_time": "2023-11-16T17:25:38.945Z"
   },
   {
    "duration": 123,
    "start_time": "2023-11-16T17:32:17.120Z"
   },
   {
    "duration": 122,
    "start_time": "2023-11-16T17:32:37.766Z"
   },
   {
    "duration": 96,
    "start_time": "2023-11-16T17:32:43.742Z"
   },
   {
    "duration": 102,
    "start_time": "2023-11-16T17:44:17.046Z"
   },
   {
    "duration": 51,
    "start_time": "2023-11-18T13:12:01.522Z"
   },
   {
    "duration": 1445,
    "start_time": "2023-11-18T13:12:10.620Z"
   },
   {
    "duration": 4,
    "start_time": "2023-11-18T13:12:12.067Z"
   },
   {
    "duration": 15709,
    "start_time": "2023-11-18T13:12:12.072Z"
   },
   {
    "duration": 217,
    "start_time": "2023-11-18T13:12:27.783Z"
   },
   {
    "duration": 13,
    "start_time": "2023-11-18T13:12:28.002Z"
   },
   {
    "duration": 120,
    "start_time": "2023-11-18T13:12:28.016Z"
   },
   {
    "duration": 144,
    "start_time": "2023-11-18T13:12:28.138Z"
   },
   {
    "duration": 10,
    "start_time": "2023-11-18T13:12:28.283Z"
   },
   {
    "duration": 94,
    "start_time": "2023-11-18T13:12:28.295Z"
   },
   {
    "duration": 2,
    "start_time": "2023-11-18T13:12:28.391Z"
   },
   {
    "duration": 157,
    "start_time": "2023-11-18T13:12:28.394Z"
   },
   {
    "duration": 2,
    "start_time": "2023-11-18T13:12:28.553Z"
   },
   {
    "duration": 1137,
    "start_time": "2023-11-18T13:12:28.556Z"
   },
   {
    "duration": 119,
    "start_time": "2023-11-18T13:12:29.694Z"
   },
   {
    "duration": 61,
    "start_time": "2023-11-18T13:12:29.814Z"
   },
   {
    "duration": 1190,
    "start_time": "2023-11-18T13:12:29.876Z"
   },
   {
    "duration": 2,
    "start_time": "2023-11-18T13:12:31.067Z"
   },
   {
    "duration": 542,
    "start_time": "2023-11-18T13:12:31.071Z"
   },
   {
    "duration": 3,
    "start_time": "2023-11-18T13:12:31.614Z"
   },
   {
    "duration": 24,
    "start_time": "2023-11-18T13:12:31.618Z"
   },
   {
    "duration": 444,
    "start_time": "2023-11-18T13:12:31.643Z"
   },
   {
    "duration": 111,
    "start_time": "2023-11-18T13:12:32.088Z"
   },
   {
    "duration": 111,
    "start_time": "2023-11-18T13:12:32.201Z"
   },
   {
    "duration": 101,
    "start_time": "2023-11-18T13:12:32.314Z"
   },
   {
    "duration": 133,
    "start_time": "2023-11-18T13:12:32.416Z"
   },
   {
    "duration": 137,
    "start_time": "2023-11-18T13:41:03.137Z"
   },
   {
    "duration": 3,
    "start_time": "2023-11-18T13:41:08.961Z"
   },
   {
    "duration": 4,
    "start_time": "2023-11-18T13:41:18.345Z"
   },
   {
    "duration": 3,
    "start_time": "2023-11-18T13:41:59.819Z"
   },
   {
    "duration": 105,
    "start_time": "2023-11-18T13:47:31.604Z"
   },
   {
    "duration": 110,
    "start_time": "2023-11-18T13:47:45.686Z"
   },
   {
    "duration": 101,
    "start_time": "2023-11-18T13:48:05.255Z"
   },
   {
    "duration": 99,
    "start_time": "2023-11-18T13:48:11.284Z"
   },
   {
    "duration": 100,
    "start_time": "2023-11-18T13:50:24.792Z"
   },
   {
    "duration": 3,
    "start_time": "2023-11-18T13:50:26.212Z"
   },
   {
    "duration": 9,
    "start_time": "2023-11-18T13:50:26.218Z"
   },
   {
    "duration": 19,
    "start_time": "2023-11-18T13:50:26.229Z"
   },
   {
    "duration": 229,
    "start_time": "2023-11-18T13:50:26.249Z"
   },
   {
    "duration": 9,
    "start_time": "2023-11-18T13:50:26.479Z"
   },
   {
    "duration": 135,
    "start_time": "2023-11-18T13:50:26.490Z"
   },
   {
    "duration": 152,
    "start_time": "2023-11-18T13:50:26.626Z"
   },
   {
    "duration": 8,
    "start_time": "2023-11-18T13:50:26.780Z"
   },
   {
    "duration": 74,
    "start_time": "2023-11-18T13:50:26.789Z"
   },
   {
    "duration": 2,
    "start_time": "2023-11-18T13:50:26.864Z"
   },
   {
    "duration": 155,
    "start_time": "2023-11-18T13:50:26.868Z"
   },
   {
    "duration": 3,
    "start_time": "2023-11-18T13:50:27.024Z"
   },
   {
    "duration": 1178,
    "start_time": "2023-11-18T13:50:27.028Z"
   },
   {
    "duration": 123,
    "start_time": "2023-11-18T13:50:28.207Z"
   },
   {
    "duration": 62,
    "start_time": "2023-11-18T13:50:28.333Z"
   },
   {
    "duration": 1166,
    "start_time": "2023-11-18T13:50:28.396Z"
   },
   {
    "duration": 2,
    "start_time": "2023-11-18T13:50:29.566Z"
   },
   {
    "duration": 525,
    "start_time": "2023-11-18T13:50:29.570Z"
   },
   {
    "duration": 3,
    "start_time": "2023-11-18T13:50:30.097Z"
   },
   {
    "duration": 86,
    "start_time": "2023-11-18T13:50:30.101Z"
   },
   {
    "duration": 443,
    "start_time": "2023-11-18T13:50:30.189Z"
   },
   {
    "duration": 113,
    "start_time": "2023-11-18T13:50:30.633Z"
   },
   {
    "duration": 101,
    "start_time": "2023-11-18T13:50:30.747Z"
   },
   {
    "duration": 132,
    "start_time": "2023-11-18T13:50:30.849Z"
   },
   {
    "duration": 101,
    "start_time": "2023-11-18T13:51:38.130Z"
   },
   {
    "duration": 103,
    "start_time": "2023-11-18T13:51:50.728Z"
   },
   {
    "duration": 100,
    "start_time": "2023-11-18T13:52:19.941Z"
   },
   {
    "duration": 107,
    "start_time": "2023-11-18T13:53:06.358Z"
   },
   {
    "duration": 104,
    "start_time": "2023-11-18T13:53:21.861Z"
   },
   {
    "duration": 101,
    "start_time": "2023-11-18T13:56:41.050Z"
   },
   {
    "duration": 95,
    "start_time": "2023-11-18T14:00:43.018Z"
   },
   {
    "duration": 1325,
    "start_time": "2023-11-18T14:39:52.473Z"
   },
   {
    "duration": 3,
    "start_time": "2023-11-18T14:39:53.800Z"
   },
   {
    "duration": 11229,
    "start_time": "2023-11-18T14:39:53.804Z"
   },
   {
    "duration": 207,
    "start_time": "2023-11-18T14:40:05.036Z"
   },
   {
    "duration": 14,
    "start_time": "2023-11-18T14:40:05.245Z"
   },
   {
    "duration": 111,
    "start_time": "2023-11-18T14:40:05.260Z"
   },
   {
    "duration": 146,
    "start_time": "2023-11-18T14:40:05.372Z"
   },
   {
    "duration": 9,
    "start_time": "2023-11-18T14:40:05.519Z"
   },
   {
    "duration": 69,
    "start_time": "2023-11-18T14:40:05.530Z"
   },
   {
    "duration": 2,
    "start_time": "2023-11-18T14:40:05.601Z"
   },
   {
    "duration": 147,
    "start_time": "2023-11-18T14:40:05.605Z"
   },
   {
    "duration": 2,
    "start_time": "2023-11-18T14:40:05.754Z"
   },
   {
    "duration": 1096,
    "start_time": "2023-11-18T14:40:05.757Z"
   },
   {
    "duration": 117,
    "start_time": "2023-11-18T14:40:06.854Z"
   },
   {
    "duration": 60,
    "start_time": "2023-11-18T14:40:06.973Z"
   },
   {
    "duration": 1127,
    "start_time": "2023-11-18T14:40:07.035Z"
   },
   {
    "duration": 3,
    "start_time": "2023-11-18T14:40:08.163Z"
   },
   {
    "duration": 504,
    "start_time": "2023-11-18T14:40:08.167Z"
   },
   {
    "duration": 2,
    "start_time": "2023-11-18T14:40:08.672Z"
   },
   {
    "duration": 32,
    "start_time": "2023-11-18T14:40:08.676Z"
   },
   {
    "duration": 439,
    "start_time": "2023-11-18T14:40:08.709Z"
   },
   {
    "duration": 114,
    "start_time": "2023-11-18T14:40:09.150Z"
   },
   {
    "duration": 95,
    "start_time": "2023-11-18T14:40:09.266Z"
   },
   {
    "duration": 136,
    "start_time": "2023-11-18T14:40:09.362Z"
   },
   {
    "duration": 1166,
    "start_time": "2023-11-18T14:42:48.347Z"
   },
   {
    "duration": 3,
    "start_time": "2023-11-18T14:42:49.515Z"
   },
   {
    "duration": 8011,
    "start_time": "2023-11-18T14:42:49.520Z"
   },
   {
    "duration": 195,
    "start_time": "2023-11-18T14:42:57.533Z"
   },
   {
    "duration": 14,
    "start_time": "2023-11-18T14:42:57.730Z"
   },
   {
    "duration": 129,
    "start_time": "2023-11-18T14:42:57.745Z"
   },
   {
    "duration": 139,
    "start_time": "2023-11-18T14:42:57.876Z"
   },
   {
    "duration": 10,
    "start_time": "2023-11-18T14:42:58.017Z"
   },
   {
    "duration": 61,
    "start_time": "2023-11-18T14:42:58.028Z"
   },
   {
    "duration": 2,
    "start_time": "2023-11-18T14:42:58.091Z"
   },
   {
    "duration": 137,
    "start_time": "2023-11-18T14:42:58.095Z"
   },
   {
    "duration": 2,
    "start_time": "2023-11-18T14:42:58.234Z"
   },
   {
    "duration": 1165,
    "start_time": "2023-11-18T14:42:58.237Z"
   },
   {
    "duration": 119,
    "start_time": "2023-11-18T14:42:59.403Z"
   },
   {
    "duration": 59,
    "start_time": "2023-11-18T14:42:59.523Z"
   },
   {
    "duration": 1222,
    "start_time": "2023-11-18T14:42:59.583Z"
   },
   {
    "duration": 2,
    "start_time": "2023-11-18T14:43:00.807Z"
   },
   {
    "duration": 553,
    "start_time": "2023-11-18T14:43:00.811Z"
   },
   {
    "duration": 2,
    "start_time": "2023-11-18T14:43:01.365Z"
   },
   {
    "duration": 31,
    "start_time": "2023-11-18T14:43:01.369Z"
   },
   {
    "duration": 457,
    "start_time": "2023-11-18T14:43:01.402Z"
   },
   {
    "duration": 118,
    "start_time": "2023-11-18T14:43:01.861Z"
   },
   {
    "duration": 96,
    "start_time": "2023-11-18T14:43:01.980Z"
   },
   {
    "duration": 223,
    "start_time": "2023-11-18T14:43:02.077Z"
   }
  ],
  "colab": {
   "provenance": []
  },
  "kernelspec": {
   "display_name": "Python 3 (ipykernel)",
   "language": "python",
   "name": "python3"
  },
  "language_info": {
   "codemirror_mode": {
    "name": "ipython",
    "version": 3
   },
   "file_extension": ".py",
   "mimetype": "text/x-python",
   "name": "python",
   "nbconvert_exporter": "python",
   "pygments_lexer": "ipython3",
   "version": "3.9.5"
  },
  "toc": {
   "base_numbering": 1,
   "nav_menu": {},
   "number_sections": true,
   "sideBar": true,
   "skip_h1_title": true,
   "title_cell": "Table of Contents",
   "title_sidebar": "Contents",
   "toc_cell": false,
   "toc_position": {},
   "toc_section_display": true,
   "toc_window_display": false
  }
 },
 "nbformat": 4,
 "nbformat_minor": 1
}

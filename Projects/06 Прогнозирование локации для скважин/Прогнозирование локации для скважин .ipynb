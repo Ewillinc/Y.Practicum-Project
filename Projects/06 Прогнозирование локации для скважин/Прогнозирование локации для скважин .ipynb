{
 "cells": [
  {
   "cell_type": "markdown",
   "metadata": {},
   "source": [
    "# Выбор локации для скважины"
   ]
  },
  {
   "cell_type": "markdown",
   "metadata": {},
   "source": [
    "\n",
    "\n",
    "Предоставлены пробы нефти в трёх регионах: в каждом 10 000 месторождений, где измерили качество нефти и объём её запасов. Нужно построить модель машинного обучения, которая поможет определить регион, где добыча принесёт наибольшую прибыль. \n",
    "\n",
    "Шаги для выбора локации:\n",
    "\n",
    "- В избранном регионе ищут месторождения, для каждого определяют значения признаков;\n",
    "- Строят модель и оценивают объём запасов;\n",
    "- Выбирают месторождения с самым высокими оценками значений. Количество месторождений зависит от бюджета компании и стоимости разработки одной скважины;\n",
    "- Прибыль равна суммарной прибыли отобранных месторождений."
   ]
  },
  {
   "cell_type": "markdown",
   "metadata": {},
   "source": [
    "## Краткая информация о данных и цели проекта:\n"
   ]
  },
  {
   "cell_type": "markdown",
   "metadata": {},
   "source": [
    "* Проект представленн данными геологической разведки трёх регионов."
   ]
  },
  {
   "cell_type": "markdown",
   "metadata": {},
   "source": [
    "Общие признаки:\n",
    "\n",
    "\n",
    "* **id - уникальный идентификатор скважины**\n",
    "* **f0, f1, f2 - три признака точек, фактическое обозначение которых не разглашается**"
   ]
  },
  {
   "cell_type": "markdown",
   "metadata": {},
   "source": [
    "Целевой признак:\n",
    "* **product** объем запасов скважины(в тыс. баррелей)"
   ]
  },
  {
   "cell_type": "markdown",
   "metadata": {},
   "source": [
    "Задача:"
   ]
  },
  {
   "cell_type": "markdown",
   "metadata": {},
   "source": [
    "* **Выбрать локацию для бурения новой скважины**"
   ]
  },
  {
   "cell_type": "markdown",
   "metadata": {},
   "source": [
    "Дополнительная информация по проекту определена примерными шагами для выбора локации:"
   ]
  },
  {
   "cell_type": "markdown",
   "metadata": {},
   "source": [
    "* В избранном регионе собирают характеристики для скважин: качество нефти и объём её запасов;\n",
    "* Строят модель для предсказания объёма запасов в новых скважинах;\n",
    "* Выбирают скважины с самыми высокими оценками значений;\n",
    "* Определяют регион с максимальной суммарной прибылью отобранных скважин."
   ]
  },
  {
   "cell_type": "markdown",
   "metadata": {},
   "source": [
    "Условия задачи:"
   ]
  },
  {
   "cell_type": "markdown",
   "metadata": {},
   "source": [
    "* Для обучения модели подходит только линейная регрессия (остальные — недостаточно предсказуемые).\n",
    "* При разведке региона исследуют 500 точек, из которых с помощью машинного обучения выбирают 200 лучших для разработки.\n",
    "* Бюджет на разработку скважин в регионе — 10 млрд рублей.\n",
    "* При нынешних ценах один баррель сырья приносит 450 рублей дохода. Доход с каждой единицы продукта составляет 450 тыс. рублей, поскольку объём указан в тысячах баррелей.\n",
    "* После оценки рисков нужно оставить лишь те регионы, в которых вероятность убытков меньше 2.5%. Среди них выбирают регион с наибольшей средней прибылью."
   ]
  },
  {
   "cell_type": "markdown",
   "metadata": {},
   "source": [
    "## Загрузка и подготовка данных"
   ]
  },
  {
   "cell_type": "markdown",
   "metadata": {},
   "source": [
    "### Импорт "
   ]
  },
  {
   "cell_type": "code",
   "execution_count": 1,
   "metadata": {},
   "outputs": [],
   "source": [
    "import pandas as pd \n",
    "import numpy as np\n",
    "import seaborn as sns\n",
    "import matplotlib.pyplot as plt\n",
    "from sklearn.linear_model import LinearRegression\n",
    "from sklearn.model_selection import train_test_split\n",
    "from sklearn.metrics import mean_squared_error\n",
    "from sklearn.metrics import r2_score\n",
    "from scipy import stats as st\n"
   ]
  },
  {
   "cell_type": "code",
   "execution_count": 2,
   "metadata": {},
   "outputs": [],
   "source": [
    "df_1 = pd.read_csv('/datasets/geo_data_0.csv')\n",
    "df_2 = pd.read_csv('/datasets/geo_data_1.csv')\n",
    "df_3 = pd.read_csv('/datasets/geo_data_2.csv')"
   ]
  },
  {
   "cell_type": "markdown",
   "metadata": {},
   "source": [
    "### Geodata_1 предпросмотр:"
   ]
  },
  {
   "cell_type": "code",
   "execution_count": 3,
   "metadata": {},
   "outputs": [
    {
     "data": {
      "text/html": [
       "<div>\n",
       "<style scoped>\n",
       "    .dataframe tbody tr th:only-of-type {\n",
       "        vertical-align: middle;\n",
       "    }\n",
       "\n",
       "    .dataframe tbody tr th {\n",
       "        vertical-align: top;\n",
       "    }\n",
       "\n",
       "    .dataframe thead th {\n",
       "        text-align: right;\n",
       "    }\n",
       "</style>\n",
       "<table border=\"1\" class=\"dataframe\">\n",
       "  <thead>\n",
       "    <tr style=\"text-align: right;\">\n",
       "      <th></th>\n",
       "      <th>id</th>\n",
       "      <th>f0</th>\n",
       "      <th>f1</th>\n",
       "      <th>f2</th>\n",
       "      <th>product</th>\n",
       "    </tr>\n",
       "  </thead>\n",
       "  <tbody>\n",
       "    <tr>\n",
       "      <th>0</th>\n",
       "      <td>txEyH</td>\n",
       "      <td>0.705745</td>\n",
       "      <td>-0.497823</td>\n",
       "      <td>1.221170</td>\n",
       "      <td>105.280062</td>\n",
       "    </tr>\n",
       "    <tr>\n",
       "      <th>1</th>\n",
       "      <td>2acmU</td>\n",
       "      <td>1.334711</td>\n",
       "      <td>-0.340164</td>\n",
       "      <td>4.365080</td>\n",
       "      <td>73.037750</td>\n",
       "    </tr>\n",
       "    <tr>\n",
       "      <th>2</th>\n",
       "      <td>409Wp</td>\n",
       "      <td>1.022732</td>\n",
       "      <td>0.151990</td>\n",
       "      <td>1.419926</td>\n",
       "      <td>85.265647</td>\n",
       "    </tr>\n",
       "    <tr>\n",
       "      <th>3</th>\n",
       "      <td>iJLyR</td>\n",
       "      <td>-0.032172</td>\n",
       "      <td>0.139033</td>\n",
       "      <td>2.978566</td>\n",
       "      <td>168.620776</td>\n",
       "    </tr>\n",
       "    <tr>\n",
       "      <th>4</th>\n",
       "      <td>Xdl7t</td>\n",
       "      <td>1.988431</td>\n",
       "      <td>0.155413</td>\n",
       "      <td>4.751769</td>\n",
       "      <td>154.036647</td>\n",
       "    </tr>\n",
       "  </tbody>\n",
       "</table>\n",
       "</div>"
      ],
      "text/plain": [
       "      id        f0        f1        f2     product\n",
       "0  txEyH  0.705745 -0.497823  1.221170  105.280062\n",
       "1  2acmU  1.334711 -0.340164  4.365080   73.037750\n",
       "2  409Wp  1.022732  0.151990  1.419926   85.265647\n",
       "3  iJLyR -0.032172  0.139033  2.978566  168.620776\n",
       "4  Xdl7t  1.988431  0.155413  4.751769  154.036647"
      ]
     },
     "metadata": {},
     "output_type": "display_data"
    },
    {
     "data": {
      "text/plain": [
       "(100000, 5)"
      ]
     },
     "metadata": {},
     "output_type": "display_data"
    },
    {
     "data": {
      "text/html": [
       "<div>\n",
       "<style scoped>\n",
       "    .dataframe tbody tr th:only-of-type {\n",
       "        vertical-align: middle;\n",
       "    }\n",
       "\n",
       "    .dataframe tbody tr th {\n",
       "        vertical-align: top;\n",
       "    }\n",
       "\n",
       "    .dataframe thead th {\n",
       "        text-align: right;\n",
       "    }\n",
       "</style>\n",
       "<table border=\"1\" class=\"dataframe\">\n",
       "  <thead>\n",
       "    <tr style=\"text-align: right;\">\n",
       "      <th></th>\n",
       "      <th>f0</th>\n",
       "      <th>f1</th>\n",
       "      <th>f2</th>\n",
       "      <th>product</th>\n",
       "    </tr>\n",
       "  </thead>\n",
       "  <tbody>\n",
       "    <tr>\n",
       "      <th>count</th>\n",
       "      <td>100000.000000</td>\n",
       "      <td>100000.000000</td>\n",
       "      <td>100000.000000</td>\n",
       "      <td>100000.000000</td>\n",
       "    </tr>\n",
       "    <tr>\n",
       "      <th>mean</th>\n",
       "      <td>0.500419</td>\n",
       "      <td>0.250143</td>\n",
       "      <td>2.502647</td>\n",
       "      <td>92.500000</td>\n",
       "    </tr>\n",
       "    <tr>\n",
       "      <th>std</th>\n",
       "      <td>0.871832</td>\n",
       "      <td>0.504433</td>\n",
       "      <td>3.248248</td>\n",
       "      <td>44.288691</td>\n",
       "    </tr>\n",
       "    <tr>\n",
       "      <th>min</th>\n",
       "      <td>-1.408605</td>\n",
       "      <td>-0.848218</td>\n",
       "      <td>-12.088328</td>\n",
       "      <td>0.000000</td>\n",
       "    </tr>\n",
       "    <tr>\n",
       "      <th>25%</th>\n",
       "      <td>-0.072580</td>\n",
       "      <td>-0.200881</td>\n",
       "      <td>0.287748</td>\n",
       "      <td>56.497507</td>\n",
       "    </tr>\n",
       "    <tr>\n",
       "      <th>50%</th>\n",
       "      <td>0.502360</td>\n",
       "      <td>0.250252</td>\n",
       "      <td>2.515969</td>\n",
       "      <td>91.849972</td>\n",
       "    </tr>\n",
       "    <tr>\n",
       "      <th>75%</th>\n",
       "      <td>1.073581</td>\n",
       "      <td>0.700646</td>\n",
       "      <td>4.715088</td>\n",
       "      <td>128.564089</td>\n",
       "    </tr>\n",
       "    <tr>\n",
       "      <th>max</th>\n",
       "      <td>2.362331</td>\n",
       "      <td>1.343769</td>\n",
       "      <td>16.003790</td>\n",
       "      <td>185.364347</td>\n",
       "    </tr>\n",
       "  </tbody>\n",
       "</table>\n",
       "</div>"
      ],
      "text/plain": [
       "                  f0             f1             f2        product\n",
       "count  100000.000000  100000.000000  100000.000000  100000.000000\n",
       "mean        0.500419       0.250143       2.502647      92.500000\n",
       "std         0.871832       0.504433       3.248248      44.288691\n",
       "min        -1.408605      -0.848218     -12.088328       0.000000\n",
       "25%        -0.072580      -0.200881       0.287748      56.497507\n",
       "50%         0.502360       0.250252       2.515969      91.849972\n",
       "75%         1.073581       0.700646       4.715088     128.564089\n",
       "max         2.362331       1.343769      16.003790     185.364347"
      ]
     },
     "metadata": {},
     "output_type": "display_data"
    },
    {
     "name": "stdout",
     "output_type": "stream",
     "text": [
      "<class 'pandas.core.frame.DataFrame'>\n",
      "RangeIndex: 100000 entries, 0 to 99999\n",
      "Data columns (total 5 columns):\n",
      " #   Column   Non-Null Count   Dtype  \n",
      "---  ------   --------------   -----  \n",
      " 0   id       100000 non-null  object \n",
      " 1   f0       100000 non-null  float64\n",
      " 2   f1       100000 non-null  float64\n",
      " 3   f2       100000 non-null  float64\n",
      " 4   product  100000 non-null  float64\n",
      "dtypes: float64(4), object(1)\n",
      "memory usage: 3.8+ MB\n",
      "\n",
      " Количество дубликатов: 0\n"
     ]
    }
   ],
   "source": [
    "display(df_1.head())\n",
    "display(df_1.shape)\n",
    "display(df_1.describe())\n",
    "df_1.info()\n",
    "print('\\n','Количество дубликатов:',df_1.duplicated().sum())"
   ]
  },
  {
   "cell_type": "code",
   "execution_count": 4,
   "metadata": {
    "scrolled": false
   },
   "outputs": [
    {
     "data": {
      "text/plain": [
       "array([[<AxesSubplot:title={'center':'f0'}>,\n",
       "        <AxesSubplot:title={'center':'f1'}>],\n",
       "       [<AxesSubplot:title={'center':'f2'}>,\n",
       "        <AxesSubplot:title={'center':'product'}>]], dtype=object)"
      ]
     },
     "execution_count": 4,
     "metadata": {},
     "output_type": "execute_result"
    },
    {
     "data": {
      "image/png": "[encoded data removed]",
      "text/plain": [
       "<Figure size 864x360 with 4 Axes>"
      ]
     },
     "metadata": {
      "needs_background": "light"
     },
     "output_type": "display_data"
    }
   ],
   "source": [
    "df_1.hist(figsize = (12,5), color = 'silver')"
   ]
  },
  {
   "cell_type": "code",
   "execution_count": 5,
   "metadata": {},
   "outputs": [
    {
     "data": {
      "text/plain": [
       "<AxesSubplot:>"
      ]
     },
     "execution_count": 5,
     "metadata": {},
     "output_type": "execute_result"
    },
    {
     "data": {
      "image/png": "[encoded data removed]",
      "text/plain": [
       "<Figure size 432x288 with 2 Axes>"
      ]
     },
     "metadata": {
      "needs_background": "light"
     },
     "output_type": "display_data"
    }
   ],
   "source": [
    "sns.heatmap(df_1.corr(), vmin = -1, vmax = +1, annot = True, cmap = 'coolwarm')"
   ]
  },
  {
   "cell_type": "markdown",
   "metadata": {},
   "source": [
    "### Geodata_2 предпросмотр:\n"
   ]
  },
  {
   "cell_type": "code",
   "execution_count": 6,
   "metadata": {},
   "outputs": [
    {
     "data": {
      "text/html": [
       "<div>\n",
       "<style scoped>\n",
       "    .dataframe tbody tr th:only-of-type {\n",
       "        vertical-align: middle;\n",
       "    }\n",
       "\n",
       "    .dataframe tbody tr th {\n",
       "        vertical-align: top;\n",
       "    }\n",
       "\n",
       "    .dataframe thead th {\n",
       "        text-align: right;\n",
       "    }\n",
       "</style>\n",
       "<table border=\"1\" class=\"dataframe\">\n",
       "  <thead>\n",
       "    <tr style=\"text-align: right;\">\n",
       "      <th></th>\n",
       "      <th>id</th>\n",
       "      <th>f0</th>\n",
       "      <th>f1</th>\n",
       "      <th>f2</th>\n",
       "      <th>product</th>\n",
       "    </tr>\n",
       "  </thead>\n",
       "  <tbody>\n",
       "    <tr>\n",
       "      <th>0</th>\n",
       "      <td>kBEdx</td>\n",
       "      <td>-15.001348</td>\n",
       "      <td>-8.276000</td>\n",
       "      <td>-0.005876</td>\n",
       "      <td>3.179103</td>\n",
       "    </tr>\n",
       "    <tr>\n",
       "      <th>1</th>\n",
       "      <td>62mP7</td>\n",
       "      <td>14.272088</td>\n",
       "      <td>-3.475083</td>\n",
       "      <td>0.999183</td>\n",
       "      <td>26.953261</td>\n",
       "    </tr>\n",
       "    <tr>\n",
       "      <th>2</th>\n",
       "      <td>vyE1P</td>\n",
       "      <td>6.263187</td>\n",
       "      <td>-5.948386</td>\n",
       "      <td>5.001160</td>\n",
       "      <td>134.766305</td>\n",
       "    </tr>\n",
       "    <tr>\n",
       "      <th>3</th>\n",
       "      <td>KcrkZ</td>\n",
       "      <td>-13.081196</td>\n",
       "      <td>-11.506057</td>\n",
       "      <td>4.999415</td>\n",
       "      <td>137.945408</td>\n",
       "    </tr>\n",
       "    <tr>\n",
       "      <th>4</th>\n",
       "      <td>AHL4O</td>\n",
       "      <td>12.702195</td>\n",
       "      <td>-8.147433</td>\n",
       "      <td>5.004363</td>\n",
       "      <td>134.766305</td>\n",
       "    </tr>\n",
       "  </tbody>\n",
       "</table>\n",
       "</div>"
      ],
      "text/plain": [
       "      id         f0         f1        f2     product\n",
       "0  kBEdx -15.001348  -8.276000 -0.005876    3.179103\n",
       "1  62mP7  14.272088  -3.475083  0.999183   26.953261\n",
       "2  vyE1P   6.263187  -5.948386  5.001160  134.766305\n",
       "3  KcrkZ -13.081196 -11.506057  4.999415  137.945408\n",
       "4  AHL4O  12.702195  -8.147433  5.004363  134.766305"
      ]
     },
     "metadata": {},
     "output_type": "display_data"
    },
    {
     "data": {
      "text/plain": [
       "(100000, 5)"
      ]
     },
     "metadata": {},
     "output_type": "display_data"
    },
    {
     "data": {
      "text/html": [
       "<div>\n",
       "<style scoped>\n",
       "    .dataframe tbody tr th:only-of-type {\n",
       "        vertical-align: middle;\n",
       "    }\n",
       "\n",
       "    .dataframe tbody tr th {\n",
       "        vertical-align: top;\n",
       "    }\n",
       "\n",
       "    .dataframe thead th {\n",
       "        text-align: right;\n",
       "    }\n",
       "</style>\n",
       "<table border=\"1\" class=\"dataframe\">\n",
       "  <thead>\n",
       "    <tr style=\"text-align: right;\">\n",
       "      <th></th>\n",
       "      <th>f0</th>\n",
       "      <th>f1</th>\n",
       "      <th>f2</th>\n",
       "      <th>product</th>\n",
       "    </tr>\n",
       "  </thead>\n",
       "  <tbody>\n",
       "    <tr>\n",
       "      <th>count</th>\n",
       "      <td>100000.000000</td>\n",
       "      <td>100000.000000</td>\n",
       "      <td>100000.000000</td>\n",
       "      <td>100000.000000</td>\n",
       "    </tr>\n",
       "    <tr>\n",
       "      <th>mean</th>\n",
       "      <td>1.141296</td>\n",
       "      <td>-4.796579</td>\n",
       "      <td>2.494541</td>\n",
       "      <td>68.825000</td>\n",
       "    </tr>\n",
       "    <tr>\n",
       "      <th>std</th>\n",
       "      <td>8.965932</td>\n",
       "      <td>5.119872</td>\n",
       "      <td>1.703572</td>\n",
       "      <td>45.944423</td>\n",
       "    </tr>\n",
       "    <tr>\n",
       "      <th>min</th>\n",
       "      <td>-31.609576</td>\n",
       "      <td>-26.358598</td>\n",
       "      <td>-0.018144</td>\n",
       "      <td>0.000000</td>\n",
       "    </tr>\n",
       "    <tr>\n",
       "      <th>25%</th>\n",
       "      <td>-6.298551</td>\n",
       "      <td>-8.267985</td>\n",
       "      <td>1.000021</td>\n",
       "      <td>26.953261</td>\n",
       "    </tr>\n",
       "    <tr>\n",
       "      <th>50%</th>\n",
       "      <td>1.153055</td>\n",
       "      <td>-4.813172</td>\n",
       "      <td>2.011479</td>\n",
       "      <td>57.085625</td>\n",
       "    </tr>\n",
       "    <tr>\n",
       "      <th>75%</th>\n",
       "      <td>8.621015</td>\n",
       "      <td>-1.332816</td>\n",
       "      <td>3.999904</td>\n",
       "      <td>107.813044</td>\n",
       "    </tr>\n",
       "    <tr>\n",
       "      <th>max</th>\n",
       "      <td>29.421755</td>\n",
       "      <td>18.734063</td>\n",
       "      <td>5.019721</td>\n",
       "      <td>137.945408</td>\n",
       "    </tr>\n",
       "  </tbody>\n",
       "</table>\n",
       "</div>"
      ],
      "text/plain": [
       "                  f0             f1             f2        product\n",
       "count  100000.000000  100000.000000  100000.000000  100000.000000\n",
       "mean        1.141296      -4.796579       2.494541      68.825000\n",
       "std         8.965932       5.119872       1.703572      45.944423\n",
       "min       -31.609576     -26.358598      -0.018144       0.000000\n",
       "25%        -6.298551      -8.267985       1.000021      26.953261\n",
       "50%         1.153055      -4.813172       2.011479      57.085625\n",
       "75%         8.621015      -1.332816       3.999904     107.813044\n",
       "max        29.421755      18.734063       5.019721     137.945408"
      ]
     },
     "metadata": {},
     "output_type": "display_data"
    },
    {
     "name": "stdout",
     "output_type": "stream",
     "text": [
      "<class 'pandas.core.frame.DataFrame'>\n",
      "RangeIndex: 100000 entries, 0 to 99999\n",
      "Data columns (total 5 columns):\n",
      " #   Column   Non-Null Count   Dtype  \n",
      "---  ------   --------------   -----  \n",
      " 0   id       100000 non-null  object \n",
      " 1   f0       100000 non-null  float64\n",
      " 2   f1       100000 non-null  float64\n",
      " 3   f2       100000 non-null  float64\n",
      " 4   product  100000 non-null  float64\n",
      "dtypes: float64(4), object(1)\n",
      "memory usage: 3.8+ MB\n",
      "\n",
      " Количество дубликатов: 0\n"
     ]
    }
   ],
   "source": [
    "display(df_2.head())\n",
    "display(df_2.shape)\n",
    "display(df_2.describe())\n",
    "df_2.info()\n",
    "print('\\n','Количество дубликатов:',df_2.duplicated().sum())"
   ]
  },
  {
   "cell_type": "code",
   "execution_count": 7,
   "metadata": {
    "scrolled": false
   },
   "outputs": [
    {
     "data": {
      "text/plain": [
       "array([[<AxesSubplot:title={'center':'f0'}>,\n",
       "        <AxesSubplot:title={'center':'f1'}>],\n",
       "       [<AxesSubplot:title={'center':'f2'}>,\n",
       "        <AxesSubplot:title={'center':'product'}>]], dtype=object)"
      ]
     },
     "execution_count": 7,
     "metadata": {},
     "output_type": "execute_result"
    },
    {
     "data": {
      "image/png": "[encoded data removed]",
      "text/plain": [
       "<Figure size 864x360 with 4 Axes>"
      ]
     },
     "metadata": {
      "needs_background": "light"
     },
     "output_type": "display_data"
    }
   ],
   "source": [
    "df_2.hist(figsize = (12,5), color = 'gold')"
   ]
  },
  {
   "cell_type": "code",
   "execution_count": 8,
   "metadata": {},
   "outputs": [
    {
     "data": {
      "text/plain": [
       "<AxesSubplot:>"
      ]
     },
     "execution_count": 8,
     "metadata": {},
     "output_type": "execute_result"
    },
    {
     "data": {
      "image/png": "[encoded data removed]",
      "text/plain": [
       "<Figure size 432x288 with 2 Axes>"
      ]
     },
     "metadata": {
      "needs_background": "light"
     },
     "output_type": "display_data"
    }
   ],
   "source": [
    "sns.heatmap(df_2.corr(), vmin = -1, vmax = +1, annot = True, cmap = 'coolwarm')"
   ]
  },
  {
   "cell_type": "markdown",
   "metadata": {},
   "source": [
    "### Geodata_3 предпросмотр:\n"
   ]
  },
  {
   "cell_type": "code",
   "execution_count": 9,
   "metadata": {},
   "outputs": [
    {
     "data": {
      "text/html": [
       "<div>\n",
       "<style scoped>\n",
       "    .dataframe tbody tr th:only-of-type {\n",
       "        vertical-align: middle;\n",
       "    }\n",
       "\n",
       "    .dataframe tbody tr th {\n",
       "        vertical-align: top;\n",
       "    }\n",
       "\n",
       "    .dataframe thead th {\n",
       "        text-align: right;\n",
       "    }\n",
       "</style>\n",
       "<table border=\"1\" class=\"dataframe\">\n",
       "  <thead>\n",
       "    <tr style=\"text-align: right;\">\n",
       "      <th></th>\n",
       "      <th>id</th>\n",
       "      <th>f0</th>\n",
       "      <th>f1</th>\n",
       "      <th>f2</th>\n",
       "      <th>product</th>\n",
       "    </tr>\n",
       "  </thead>\n",
       "  <tbody>\n",
       "    <tr>\n",
       "      <th>0</th>\n",
       "      <td>fwXo0</td>\n",
       "      <td>-1.146987</td>\n",
       "      <td>0.963328</td>\n",
       "      <td>-0.828965</td>\n",
       "      <td>27.758673</td>\n",
       "    </tr>\n",
       "    <tr>\n",
       "      <th>1</th>\n",
       "      <td>WJtFt</td>\n",
       "      <td>0.262778</td>\n",
       "      <td>0.269839</td>\n",
       "      <td>-2.530187</td>\n",
       "      <td>56.069697</td>\n",
       "    </tr>\n",
       "    <tr>\n",
       "      <th>2</th>\n",
       "      <td>ovLUW</td>\n",
       "      <td>0.194587</td>\n",
       "      <td>0.289035</td>\n",
       "      <td>-5.586433</td>\n",
       "      <td>62.871910</td>\n",
       "    </tr>\n",
       "    <tr>\n",
       "      <th>3</th>\n",
       "      <td>q6cA6</td>\n",
       "      <td>2.236060</td>\n",
       "      <td>-0.553760</td>\n",
       "      <td>0.930038</td>\n",
       "      <td>114.572842</td>\n",
       "    </tr>\n",
       "    <tr>\n",
       "      <th>4</th>\n",
       "      <td>WPMUX</td>\n",
       "      <td>-0.515993</td>\n",
       "      <td>1.716266</td>\n",
       "      <td>5.899011</td>\n",
       "      <td>149.600746</td>\n",
       "    </tr>\n",
       "  </tbody>\n",
       "</table>\n",
       "</div>"
      ],
      "text/plain": [
       "      id        f0        f1        f2     product\n",
       "0  fwXo0 -1.146987  0.963328 -0.828965   27.758673\n",
       "1  WJtFt  0.262778  0.269839 -2.530187   56.069697\n",
       "2  ovLUW  0.194587  0.289035 -5.586433   62.871910\n",
       "3  q6cA6  2.236060 -0.553760  0.930038  114.572842\n",
       "4  WPMUX -0.515993  1.716266  5.899011  149.600746"
      ]
     },
     "metadata": {},
     "output_type": "display_data"
    },
    {
     "data": {
      "text/plain": [
       "(100000, 5)"
      ]
     },
     "metadata": {},
     "output_type": "display_data"
    },
    {
     "data": {
      "text/html": [
       "<div>\n",
       "<style scoped>\n",
       "    .dataframe tbody tr th:only-of-type {\n",
       "        vertical-align: middle;\n",
       "    }\n",
       "\n",
       "    .dataframe tbody tr th {\n",
       "        vertical-align: top;\n",
       "    }\n",
       "\n",
       "    .dataframe thead th {\n",
       "        text-align: right;\n",
       "    }\n",
       "</style>\n",
       "<table border=\"1\" class=\"dataframe\">\n",
       "  <thead>\n",
       "    <tr style=\"text-align: right;\">\n",
       "      <th></th>\n",
       "      <th>f0</th>\n",
       "      <th>f1</th>\n",
       "      <th>f2</th>\n",
       "      <th>product</th>\n",
       "    </tr>\n",
       "  </thead>\n",
       "  <tbody>\n",
       "    <tr>\n",
       "      <th>count</th>\n",
       "      <td>100000.000000</td>\n",
       "      <td>100000.000000</td>\n",
       "      <td>100000.000000</td>\n",
       "      <td>100000.000000</td>\n",
       "    </tr>\n",
       "    <tr>\n",
       "      <th>mean</th>\n",
       "      <td>0.002023</td>\n",
       "      <td>-0.002081</td>\n",
       "      <td>2.495128</td>\n",
       "      <td>95.000000</td>\n",
       "    </tr>\n",
       "    <tr>\n",
       "      <th>std</th>\n",
       "      <td>1.732045</td>\n",
       "      <td>1.730417</td>\n",
       "      <td>3.473445</td>\n",
       "      <td>44.749921</td>\n",
       "    </tr>\n",
       "    <tr>\n",
       "      <th>min</th>\n",
       "      <td>-8.760004</td>\n",
       "      <td>-7.084020</td>\n",
       "      <td>-11.970335</td>\n",
       "      <td>0.000000</td>\n",
       "    </tr>\n",
       "    <tr>\n",
       "      <th>25%</th>\n",
       "      <td>-1.162288</td>\n",
       "      <td>-1.174820</td>\n",
       "      <td>0.130359</td>\n",
       "      <td>59.450441</td>\n",
       "    </tr>\n",
       "    <tr>\n",
       "      <th>50%</th>\n",
       "      <td>0.009424</td>\n",
       "      <td>-0.009482</td>\n",
       "      <td>2.484236</td>\n",
       "      <td>94.925613</td>\n",
       "    </tr>\n",
       "    <tr>\n",
       "      <th>75%</th>\n",
       "      <td>1.158535</td>\n",
       "      <td>1.163678</td>\n",
       "      <td>4.858794</td>\n",
       "      <td>130.595027</td>\n",
       "    </tr>\n",
       "    <tr>\n",
       "      <th>max</th>\n",
       "      <td>7.238262</td>\n",
       "      <td>7.844801</td>\n",
       "      <td>16.739402</td>\n",
       "      <td>190.029838</td>\n",
       "    </tr>\n",
       "  </tbody>\n",
       "</table>\n",
       "</div>"
      ],
      "text/plain": [
       "                  f0             f1             f2        product\n",
       "count  100000.000000  100000.000000  100000.000000  100000.000000\n",
       "mean        0.002023      -0.002081       2.495128      95.000000\n",
       "std         1.732045       1.730417       3.473445      44.749921\n",
       "min        -8.760004      -7.084020     -11.970335       0.000000\n",
       "25%        -1.162288      -1.174820       0.130359      59.450441\n",
       "50%         0.009424      -0.009482       2.484236      94.925613\n",
       "75%         1.158535       1.163678       4.858794     130.595027\n",
       "max         7.238262       7.844801      16.739402     190.029838"
      ]
     },
     "metadata": {},
     "output_type": "display_data"
    },
    {
     "name": "stdout",
     "output_type": "stream",
     "text": [
      "<class 'pandas.core.frame.DataFrame'>\n",
      "RangeIndex: 100000 entries, 0 to 99999\n",
      "Data columns (total 5 columns):\n",
      " #   Column   Non-Null Count   Dtype  \n",
      "---  ------   --------------   -----  \n",
      " 0   id       100000 non-null  object \n",
      " 1   f0       100000 non-null  float64\n",
      " 2   f1       100000 non-null  float64\n",
      " 3   f2       100000 non-null  float64\n",
      " 4   product  100000 non-null  float64\n",
      "dtypes: float64(4), object(1)\n",
      "memory usage: 3.8+ MB\n",
      "\n",
      " Количество дубликатов: 0\n"
     ]
    }
   ],
   "source": [
    "display(df_3.head())\n",
    "display(df_3.shape)\n",
    "display(df_3.describe())\n",
    "df_3.info()\n",
    "print('\\n','Количество дубликатов:',df_3.duplicated().sum())"
   ]
  },
  {
   "cell_type": "code",
   "execution_count": 10,
   "metadata": {
    "scrolled": false
   },
   "outputs": [
    {
     "data": {
      "text/plain": [
       "array([[<AxesSubplot:title={'center':'f0'}>,\n",
       "        <AxesSubplot:title={'center':'f1'}>],\n",
       "       [<AxesSubplot:title={'center':'f2'}>,\n",
       "        <AxesSubplot:title={'center':'product'}>]], dtype=object)"
      ]
     },
     "execution_count": 10,
     "metadata": {},
     "output_type": "execute_result"
    },
    {
     "data": {
      "image/png": "[encoded data removed]",
      "text/plain": [
       "<Figure size 864x360 with 4 Axes>"
      ]
     },
     "metadata": {
      "needs_background": "light"
     },
     "output_type": "display_data"
    }
   ],
   "source": [
    "df_3.hist(figsize = (12,5), color = 'black')\n"
   ]
  },
  {
   "cell_type": "code",
   "execution_count": 11,
   "metadata": {},
   "outputs": [
    {
     "data": {
      "text/plain": [
       "<AxesSubplot:>"
      ]
     },
     "execution_count": 11,
     "metadata": {},
     "output_type": "execute_result"
    },
    {
     "data": {
      "image/png": "[encoded data removed]",
      "text/plain": [
       "<Figure size 432x288 with 2 Axes>"
      ]
     },
     "metadata": {
      "needs_background": "light"
     },
     "output_type": "display_data"
    }
   ],
   "source": [
    "sns.heatmap(df_3.corr(), vmin = -1, vmax = +1, annot = True, cmap = 'coolwarm')"
   ]
  },
  {
   "cell_type": "markdown",
   "metadata": {},
   "source": [
    "### Выводы:"
   ]
  },
  {
   "cell_type": "markdown",
   "metadata": {},
   "source": [
    "* Ввиду особенностей описания признаков нет возможности судить о наличие ошибок в данных.\n",
    "* В данных не наблюдается резко выдающихся значений.\n",
    "* Гистограммы построенные по геоданным второго файла отличнаются от остальных двух."
   ]
  },
  {
   "cell_type": "code",
   "execution_count": 12,
   "metadata": {},
   "outputs": [
    {
     "data": {
      "text/plain": [
       "<AxesSubplot:title={'center':'Production'}, ylabel='Frequency'>"
      ]
     },
     "execution_count": 12,
     "metadata": {},
     "output_type": "execute_result"
    },
    {
     "data": {
      "image/png": "[encoded data removed]",
      "text/plain": [
       "<Figure size 432x288 with 1 Axes>"
      ]
     },
     "metadata": {
      "needs_background": "light"
     },
     "output_type": "display_data"
    }
   ],
   "source": [
    "plt.title('Production')\n",
    "df_1['product'].plot(kind = 'hist', color = 'red', alpha = 0.4)\n",
    "df_2['product'].plot(kind = 'hist', color = 'blue',alpha = 0.4)\n",
    "df_3['product'].plot(kind = 'hist', color = 'green', alpha = 0.4)"
   ]
  },
  {
   "cell_type": "markdown",
   "metadata": {},
   "source": [
    "## Подготовка данных для модели:"
   ]
  },
  {
   "cell_type": "markdown",
   "metadata": {},
   "source": [
    "* Столбец с уникальным идентификатором скважины не представляет для нас информативности. Предположим, что уникальный номер скважины может состоять из цифр - удалим его, чтобы не мешал обучению модели.\n"
   ]
  },
  {
   "cell_type": "code",
   "execution_count": 13,
   "metadata": {},
   "outputs": [],
   "source": [
    "features_1 = df_1.drop(['id','product'], axis = 1)\n",
    "target_1 = df_1['product']\n",
    "\n",
    "features_2 = df_2.drop(['id','product'], axis = 1)\n",
    "target_2 = df_2['product']\n",
    "\n",
    "features_3 = df_3.drop(['id','product'], axis = 1)\n",
    "target_3 = df_3['product']"
   ]
  },
  {
   "cell_type": "markdown",
   "metadata": {},
   "source": [
    "* Разбиение выборки на обучающую и валидационную в соотношении 75:25"
   ]
  },
  {
   "cell_type": "code",
   "execution_count": 14,
   "metadata": {},
   "outputs": [],
   "source": [
    "features_train_1, features_valid_1, target_train_1, target_valid_1 = train_test_split(\n",
    "    features_1, target_1, test_size = 0.25, random_state = 12345)\n",
    "\n",
    "features_train_2, features_valid_2, target_train_2, target_valid_2 = train_test_split(\n",
    "    features_2, target_2, test_size = 0.25, random_state = 12345)\n",
    "\n",
    "features_train_3, features_valid_3, target_train_3, target_valid_3 = train_test_split(\n",
    "    features_3, target_3, test_size = 0.25, random_state = 12345)"
   ]
  },
  {
   "cell_type": "code",
   "execution_count": 15,
   "metadata": {
    "scrolled": true
   },
   "outputs": [
    {
     "name": "stdout",
     "output_type": "stream",
     "text": [
      "Обучающая выборка первых геоданных. Признаки: (75000, 3) ,целевой признак: (75000,)\n",
      "Валидационная выборка первых геоданных. Признаки: (25000, 3) , целевой признак: (25000,) \n",
      "\n",
      "Обучающая выборка вторых геоданных. Признаки: (75000, 3) ,целевой признак: (75000,)\n",
      "Валидационная выборка вторых геоданных. Признаки: (25000, 3) , целевой признак: (25000,) \n",
      "\n",
      "Обучающая выборка третьих геоданных. Признаки: (75000, 3) ,целевой признак: (75000,)\n",
      "Валидационная выборка третьих геоданных. Признаки: (25000, 3) , целевой признак: (25000,) \n",
      "\n"
     ]
    }
   ],
   "source": [
    "print('Обучающая выборка первых геоданных. Признаки:',features_train_1.shape,\n",
    "      ',целевой признак:', target_train_1.shape)\n",
    "print('Валидационная выборка первых геоданных. Признаки:',features_valid_1.shape,\n",
    "     ', целевой признак:', target_valid_1.shape,'\\n')\n",
    "\n",
    "print('Обучающая выборка вторых геоданных. Признаки:',features_train_2.shape,\n",
    "      ',целевой признак:', target_train_2.shape)\n",
    "print('Валидационная выборка вторых геоданных. Признаки:',features_valid_2.shape,\n",
    "     ', целевой признак:', target_valid_2.shape,'\\n')\n",
    "\n",
    "print('Обучающая выборка третьих геоданных. Признаки:',features_train_3.shape,\n",
    "      ',целевой признак:', target_train_3.shape)\n",
    "print('Валидационная выборка третьих геоданных. Признаки:',features_valid_3.shape,\n",
    "     ', целевой признак:', target_valid_3.shape,'\\n')"
   ]
  },
  {
   "cell_type": "markdown",
   "metadata": {},
   "source": [
    "## Обучение и проверка модели"
   ]
  },
  {
   "cell_type": "markdown",
   "metadata": {},
   "source": [
    "*По условию - для обучения модели используется только линейная регрессия, т.к. остальные недостаточно предсказуемы.*\n",
    "\n",
    "* Для каждого региона обучается отдельная модель, соответственно непересекающимся особенностям геоданных"
   ]
  },
  {
   "cell_type": "markdown",
   "metadata": {},
   "source": [
    "### Geodata 1"
   ]
  },
  {
   "cell_type": "code",
   "execution_count": 16,
   "metadata": {},
   "outputs": [
    {
     "name": "stdout",
     "output_type": "stream",
     "text": [
      "Средний запас скважины: 92.59256778438035\n",
      "RMSE: 37.5794217150813\n",
      "R2: 0.27994321524487786\n"
     ]
    }
   ],
   "source": [
    "model = LinearRegression()\n",
    "model.fit(features_train_1, target_train_1)\n",
    "predict_1 = model.predict(features_valid_1)\n",
    "mean_1 = predict_1.sum()/len(predict_1)\n",
    "print('Средний запас скважины:', mean_1)\n",
    "result_1 = mean_squared_error(target_valid_1, predict_1)**0.5\n",
    "print('RMSE:', result_1)\n",
    "r2_score_1 = r2_score(target_valid_1, predict_1)\n",
    "print('R2:', r2_score_1)"
   ]
  },
  {
   "cell_type": "markdown",
   "metadata": {},
   "source": [
    "### Geodata 2"
   ]
  },
  {
   "cell_type": "code",
   "execution_count": 17,
   "metadata": {},
   "outputs": [
    {
     "name": "stdout",
     "output_type": "stream",
     "text": [
      "Средний запас скважины: 68.728546895446\n",
      "RMSE: 0.893099286775617\n",
      "R2: 0.9996233978805127\n"
     ]
    }
   ],
   "source": [
    "model = LinearRegression()\n",
    "model.fit(features_train_2, target_train_2)\n",
    "predict_2 = model.predict(features_valid_2)\n",
    "mean_2 = predict_2.sum()/len(predict_2)\n",
    "print('Средний запас скважины:', mean_2)\n",
    "result_2 = mean_squared_error(target_valid_2, predict_2)**0.5\n",
    "print('RMSE:', result_2)\n",
    "r2_score_2 = r2_score(target_valid_2, predict_2)\n",
    "print('R2:', r2_score_2)"
   ]
  },
  {
   "cell_type": "markdown",
   "metadata": {},
   "source": [
    "### Geodata 3"
   ]
  },
  {
   "cell_type": "code",
   "execution_count": 18,
   "metadata": {},
   "outputs": [
    {
     "name": "stdout",
     "output_type": "stream",
     "text": [
      "Средний запас скважины: 94.96504596800489\n",
      "RMSE: 40.02970873393434\n",
      "R2: 0.20524758386040443\n"
     ]
    }
   ],
   "source": [
    "model = LinearRegression()\n",
    "model.fit(features_train_3, target_train_3)\n",
    "predict_3 = model.predict(features_valid_3)\n",
    "mean_3 = predict_3.sum()/len(predict_3)\n",
    "print('Средний запас скважины:', mean_3)\n",
    "result_3 = mean_squared_error(target_valid_3, predict_3)**0.5\n",
    "print('RMSE:', result_3)\n",
    "r2_score_3 = r2_score(target_valid_3, predict_3)\n",
    "print('R2:', r2_score_3)"
   ]
  },
  {
   "cell_type": "markdown",
   "metadata": {},
   "source": [
    "### Заключение:"
   ]
  },
  {
   "cell_type": "code",
   "execution_count": 19,
   "metadata": {},
   "outputs": [],
   "source": [
    "compos = pd.DataFrame(index = ['Средний запас скважины', 'Среднеквадратическая ошибка (RMSE)','Коэффицент детерминации (R2)']\n",
    "                      , columns = ['Geodata 1','Geodata 2','Geodata 3'])\n",
    "compos['Geodata 1'] = mean_1, result_1, r2_score_1\n",
    "compos['Geodata 2'] = mean_2, result_2, r2_score_2\n",
    "compos['Geodata 3'] = mean_3, result_3, r2_score_3"
   ]
  },
  {
   "cell_type": "code",
   "execution_count": 20,
   "metadata": {
    "scrolled": true
   },
   "outputs": [
    {
     "data": {
      "text/html": [
       "<div>\n",
       "<style scoped>\n",
       "    .dataframe tbody tr th:only-of-type {\n",
       "        vertical-align: middle;\n",
       "    }\n",
       "\n",
       "    .dataframe tbody tr th {\n",
       "        vertical-align: top;\n",
       "    }\n",
       "\n",
       "    .dataframe thead th {\n",
       "        text-align: right;\n",
       "    }\n",
       "</style>\n",
       "<table border=\"1\" class=\"dataframe\">\n",
       "  <thead>\n",
       "    <tr style=\"text-align: right;\">\n",
       "      <th></th>\n",
       "      <th>Geodata 1</th>\n",
       "      <th>Geodata 2</th>\n",
       "      <th>Geodata 3</th>\n",
       "    </tr>\n",
       "  </thead>\n",
       "  <tbody>\n",
       "    <tr>\n",
       "      <th>Средний запас скважины</th>\n",
       "      <td>92.592568</td>\n",
       "      <td>68.728547</td>\n",
       "      <td>94.965046</td>\n",
       "    </tr>\n",
       "    <tr>\n",
       "      <th>Среднеквадратическая ошибка (RMSE)</th>\n",
       "      <td>37.579422</td>\n",
       "      <td>0.893099</td>\n",
       "      <td>40.029709</td>\n",
       "    </tr>\n",
       "    <tr>\n",
       "      <th>Коэффицент детерминации (R2)</th>\n",
       "      <td>0.279943</td>\n",
       "      <td>0.999623</td>\n",
       "      <td>0.205248</td>\n",
       "    </tr>\n",
       "  </tbody>\n",
       "</table>\n",
       "</div>"
      ],
      "text/plain": [
       "                                    Geodata 1  Geodata 2  Geodata 3\n",
       "Средний запас скважины              92.592568  68.728547  94.965046\n",
       "Среднеквадратическая ошибка (RMSE)  37.579422   0.893099  40.029709\n",
       "Коэффицент детерминации (R2)         0.279943   0.999623   0.205248"
      ]
     },
     "execution_count": 20,
     "metadata": {},
     "output_type": "execute_result"
    }
   ],
   "source": [
    "compos"
   ]
  },
  {
   "cell_type": "markdown",
   "metadata": {},
   "source": [
    "* Исходя из метрики R2 - модель для второй геодаты практически идеально предсказывает значения запаса скважины, что видно и по среднеквадратичной ошибке.\n",
    "* Модели, ориентированные на другие геодаты, значительно уступают второй."
   ]
  },
  {
   "cell_type": "markdown",
   "metadata": {},
   "source": [
    "## Подготовка к расчёту прибыли"
   ]
  },
  {
   "cell_type": "markdown",
   "metadata": {},
   "source": [
    "Из условия задачи обознчим: \n",
    "* Цену на один борелль"
   ]
  },
  {
   "cell_type": "code",
   "execution_count": 21,
   "metadata": {},
   "outputs": [],
   "source": [
    "one_product_income = 450"
   ]
  },
  {
   "cell_type": "markdown",
   "metadata": {},
   "source": [
    "* Бюджет на разработку скважин, в тысячах"
   ]
  },
  {
   "cell_type": "code",
   "execution_count": 22,
   "metadata": {},
   "outputs": [],
   "source": [
    "budget = 10000000"
   ]
  },
  {
   "cell_type": "markdown",
   "metadata": {},
   "source": [
    "* Количество разрабатываемых скважин"
   ]
  },
  {
   "cell_type": "code",
   "execution_count": 23,
   "metadata": {},
   "outputs": [],
   "source": [
    "object_count = 200"
   ]
  },
  {
   "cell_type": "markdown",
   "metadata": {},
   "source": [
    "* Рассчитаем минимально необходимое, среднее количество бареллей(product) для окупаемости бюджета."
   ]
  },
  {
   "cell_type": "code",
   "execution_count": 24,
   "metadata": {},
   "outputs": [
    {
     "data": {
      "text/plain": [
       "111.11111111111111"
      ]
     },
     "execution_count": 24,
     "metadata": {},
     "output_type": "execute_result"
    }
   ],
   "source": [
    "min_prob = budget/ object_count / one_product_income\n",
    "min_prob"
   ]
  },
  {
   "cell_type": "markdown",
   "metadata": {},
   "source": [
    "* Сравним среднее значение по регионам с полученной величиной:"
   ]
  },
  {
   "cell_type": "code",
   "execution_count": 25,
   "metadata": {},
   "outputs": [],
   "source": [
    "mean_1r = df_1['product'].mean()\n",
    "mean_2r = df_2['product'].mean()\n",
    "mean_3r = df_3['product'].mean()"
   ]
  },
  {
   "cell_type": "code",
   "execution_count": 26,
   "metadata": {},
   "outputs": [
    {
     "name": "stdout",
     "output_type": "stream",
     "text": [
      "Запас среднего объема в первом регионе относительно необходимого минимума: -16.7 %\n",
      "Запас среднего объема во втором регионе относительно необходимого минимума: -38.1 %\n",
      "Запас среднего объема в третьем регионе относительно необходимого минимума:: -14.5 %\n"
     ]
    }
   ],
   "source": [
    "print('Запас среднего объема в первом регионе относительно необходимого минимума: {:.1f} %'.format((mean_1r/min_prob - 1)*100))\n",
    "print('Запас среднего объема во втором регионе относительно необходимого минимума: {:.1f} %'.format((mean_2r/min_prob - 1)*100))\n",
    "print('Запас среднего объема в третьем регионе относительно необходимого минимума:: {:.1f} %'.format((mean_3r/min_prob - 1)*100))"
   ]
  },
  {
   "cell_type": "markdown",
   "metadata": {},
   "source": [
    "* **Средний объем скважин по всем регионам значительно меньше необходимого, для покрытия затрат на разработку.**"
   ]
  },
  {
   "cell_type": "markdown",
   "metadata": {},
   "source": [
    "* **Для извлечения прибыли с разработки скважин - необходима модель предсказывающая объем месторождения.**"
   ]
  },
  {
   "cell_type": "markdown",
   "metadata": {},
   "source": [
    "Из предсказаний моделей сделаем объект Series с индексами:"
   ]
  },
  {
   "cell_type": "code",
   "execution_count": 27,
   "metadata": {},
   "outputs": [],
   "source": [
    "probs_1 = pd.Series(predict_1, index = target_valid_1.index)\n",
    "probs_2 = pd.Series(predict_2, index = target_valid_2.index)\n",
    "probs_3 = pd.Series(predict_3, index = target_valid_3.index)"
   ]
  },
  {
   "cell_type": "markdown",
   "metadata": {},
   "source": [
    "## Расчёт прибыли и рисков "
   ]
  },
  {
   "cell_type": "markdown",
   "metadata": {},
   "source": [
    "### Рассчет прибыли по предсказаниям модели"
   ]
  },
  {
   "cell_type": "code",
   "execution_count": 28,
   "metadata": {},
   "outputs": [],
   "source": [
    "# Cреди предсказаний модели отберём 200(default) лучших предсказаний \n",
    "# Подставим и просумируем фактический объем.\n",
    "\n",
    "def oil_value(target, probs, count = object_count):\n",
    "    probs_sorted = probs.sort_values(ascending = False)\n",
    "    selected = target[probs_sorted.index][:count] #probs_sorted[:count]\n",
    "    return selected.sum()"
   ]
  },
  {
   "cell_type": "code",
   "execution_count": 29,
   "metadata": {},
   "outputs": [],
   "source": [
    "def profit(target, probs, count = object_count):\n",
    "    print(f'Общий объём сырья в {count} лучших скважин:', oil_value(target, probs, count), \n",
    "          'тысяч барелей.')\n",
    "    print('Ожидаемая прибыль от выбранных скважин, без вычета бюджета: ~',\n",
    "          int((oil_value(target, probs, count) \n",
    "          * one_product_income)//1000), 'миллионов рублей.')\n",
    "    print('Ожидаемая прибыль от выбранных скважин, с вычетом бюджета: ~',\n",
    "          int(((oil_value(target, probs, count) \n",
    "          * one_product_income) - budget)//1000), 'миллионов рублей.'  )"
   ]
  },
  {
   "cell_type": "markdown",
   "metadata": {},
   "source": [
    "#### Geodata 1"
   ]
  },
  {
   "cell_type": "code",
   "execution_count": 30,
   "metadata": {
    "scrolled": true
   },
   "outputs": [
    {
     "name": "stdout",
     "output_type": "stream",
     "text": [
      "Общий объём сырья в 200 лучших скважин: 29601.83565142189 тысяч барелей.\n",
      "Ожидаемая прибыль от выбранных скважин, без вычета бюджета: ~ 13320 миллионов рублей.\n",
      "Ожидаемая прибыль от выбранных скважин, с вычетом бюджета: ~ 3320 миллионов рублей.\n"
     ]
    }
   ],
   "source": [
    "profit(target_valid_1, probs_1 )"
   ]
  },
  {
   "cell_type": "markdown",
   "metadata": {},
   "source": [
    "#### Geodata 2"
   ]
  },
  {
   "cell_type": "code",
   "execution_count": 31,
   "metadata": {},
   "outputs": [
    {
     "name": "stdout",
     "output_type": "stream",
     "text": [
      "Общий объём сырья в 200 лучших скважин: 27589.081548181137 тысяч барелей.\n",
      "Ожидаемая прибыль от выбранных скважин, без вычета бюджета: ~ 12415 миллионов рублей.\n",
      "Ожидаемая прибыль от выбранных скважин, с вычетом бюджета: ~ 2415 миллионов рублей.\n"
     ]
    }
   ],
   "source": [
    "profit(target_valid_2, probs_2 )"
   ]
  },
  {
   "cell_type": "markdown",
   "metadata": {},
   "source": [
    "#### Geodata 3"
   ]
  },
  {
   "cell_type": "code",
   "execution_count": 32,
   "metadata": {
    "scrolled": true
   },
   "outputs": [
    {
     "name": "stdout",
     "output_type": "stream",
     "text": [
      "Общий объём сырья в 200 лучших скважин: 19135.16501417992 тысяч барелей.\n",
      "Ожидаемая прибыль от выбранных скважин, без вычета бюджета: ~ 8610 миллионов рублей.\n",
      "Ожидаемая прибыль от выбранных скважин, с вычетом бюджета: ~ -1390 миллионов рублей.\n"
     ]
    }
   ],
   "source": [
    "profit(target_valid_1, probs_3)"
   ]
  },
  {
   "cell_type": "markdown",
   "metadata": {},
   "source": [
    "### Рассчет рисков и распределение прибыли"
   ]
  },
  {
   "cell_type": "markdown",
   "metadata": {},
   "source": [
    "* Будет производиться техникой bootstrap с 1000 выборок для каждого региона:"
   ]
  },
  {
   "cell_type": "code",
   "execution_count": 33,
   "metadata": {},
   "outputs": [],
   "source": [
    "\n",
    "def bootstrap(target, probs, count_sample = 500 , count_revenue = object_count, boots = 1000):\n",
    "\n",
    "    state = np.random.RandomState(12345)\n",
    "    values = []\n",
    "    \n",
    "    def revenue(target, probs, count):\n",
    "        probs_sorted = probs.sort_values(ascending = False)\n",
    "        selected = target[probs_sorted.index][:count]\n",
    "        return (one_product_income * selected.sum()) - budget\n",
    "    \n",
    "    for i in range(boots):\n",
    "        target_subsample = target.sample(n = count_sample, replace = True, random_state = state)\n",
    "        probs_subsample = probs[target_subsample.index]\n",
    "        values.append(revenue(target_subsample,probs_subsample,count_revenue))\n",
    "        \n",
    "    negative_sample = 0\n",
    "    \n",
    "    for n in values:\n",
    "            if n < 0:\n",
    "                negative_sample += 1\n",
    "    \n",
    "    values = pd.Series(values)\n",
    "    mean = values.mean()\n",
    "    #confidence_interval = st.t.interval(0.95, len(values), values.mean(), values.sem())\n",
    "    danger = (negative_sample / boots) *100\n",
    "    \n",
    "    low = values.quantile(q = 0.025)\n",
    "    high = values.quantile(q = 0.975)\n",
    "    \n",
    "    \n",
    "    print('Средняя прибыль по региону равна: {:.2f} миллионов рублей. '.format(mean/1000))    \n",
    "    #print('95% Доверительный интервал от: {:.3f} до {:.3f} миллионов рублей. '\n",
    "    #                               .format(confidence_interval[0]/1000, confidence_interval[1]/1000))\n",
    "    print('95% Доверительный интервал от: {:.3f} до {:.3f} миллионов рублей. '\n",
    "                                  .format(low/1000,high/1000))\n",
    "    print(f'Риск убытков составляет: {(danger)} %')\n",
    "    \n",
    "    \n",
    "    values.hist(bins = 30, grid = True, color = 'purple', figsize = (10,7))\n",
    "    plt.title('Распределение прибыли')\n",
    "    plt.xlabel('Прибыль, тыс.руб')\n",
    "    plt.ylabel('Количество')\n",
    "    plt.ticklabel_format(style='plain')"
   ]
  },
  {
   "cell_type": "markdown",
   "metadata": {},
   "source": [
    "####  Geodata 1"
   ]
  },
  {
   "cell_type": "code",
   "execution_count": 34,
   "metadata": {},
   "outputs": [
    {
     "name": "stdout",
     "output_type": "stream",
     "text": [
      "Средняя прибыль по региону равна: 425.94 миллионов рублей. \n",
      "95% Доверительный интервал от: -102.090 до 947.976 миллионов рублей. \n",
      "Риск убытков составляет: 6.0 %\n"
     ]
    },
    {
     "data": {
      "image/png": "[encoded data removed]",
      "text/plain": [
       "<Figure size 720x504 with 1 Axes>"
      ]
     },
     "metadata": {
      "needs_background": "light"
     },
     "output_type": "display_data"
    }
   ],
   "source": [
    "bootstrap(target_valid_1,probs_1)"
   ]
  },
  {
   "cell_type": "markdown",
   "metadata": {},
   "source": [
    "#### Geodata 2"
   ]
  },
  {
   "cell_type": "code",
   "execution_count": 35,
   "metadata": {},
   "outputs": [
    {
     "name": "stdout",
     "output_type": "stream",
     "text": [
      "Средняя прибыль по региону равна: 515.22 миллионов рублей. \n",
      "95% Доверительный интервал от: 68.873 до 931.548 миллионов рублей. \n",
      "Риск убытков составляет: 1.0 %\n"
     ]
    },
    {
     "data": {
      "image/png": "[encoded data removed]",
      "text/plain": [
       "<Figure size 720x504 with 1 Axes>"
      ]
     },
     "metadata": {
      "needs_background": "light"
     },
     "output_type": "display_data"
    }
   ],
   "source": [
    "bootstrap(target_valid_2,probs_2)"
   ]
  },
  {
   "cell_type": "markdown",
   "metadata": {},
   "source": [
    "#### Geodata 3"
   ]
  },
  {
   "cell_type": "code",
   "execution_count": 36,
   "metadata": {
    "scrolled": false
   },
   "outputs": [
    {
     "name": "stdout",
     "output_type": "stream",
     "text": [
      "Средняя прибыль по региону равна: 435.01 миллионов рублей. \n",
      "95% Доверительный интервал от: -128.881 до 969.707 миллионов рублей. \n",
      "Риск убытков составляет: 6.4 %\n"
     ]
    },
    {
     "data": {
      "image/png": "[encoded data removed]",
      "text/plain": [
       "<Figure size 720x504 with 1 Axes>"
      ]
     },
     "metadata": {
      "needs_background": "light"
     },
     "output_type": "display_data"
    }
   ],
   "source": [
    "bootstrap(target_valid_3,probs_3)"
   ]
  },
  {
   "cell_type": "markdown",
   "metadata": {},
   "source": [
    "### Сравнение"
   ]
  },
  {
   "cell_type": "code",
   "execution_count": 37,
   "metadata": {},
   "outputs": [],
   "source": [
    "table = pd.DataFrame(index = ['Средняя прибыль по региону (миллионов рублей).','Риск убытков (%)', 'Коэффицент детерминации готовой модели'], \n",
    "                     columns = ['Geodata 1','Geodata 2', 'Geodata 3'] )\n",
    "table['Geodata 1'] = '425.94', '6.0',r2_score_1\n",
    "table['Geodata 2'] = '515.22', '1.0', r2_score_2\n",
    "table['Geodata 3'] = '435.01', '6.4', r2_score_3\n"
   ]
  },
  {
   "cell_type": "code",
   "execution_count": 39,
   "metadata": {
    "scrolled": false
   },
   "outputs": [
    {
     "data": {
      "text/html": [
       "<div>\n",
       "<style scoped>\n",
       "    .dataframe tbody tr th:only-of-type {\n",
       "        vertical-align: middle;\n",
       "    }\n",
       "\n",
       "    .dataframe tbody tr th {\n",
       "        vertical-align: top;\n",
       "    }\n",
       "\n",
       "    .dataframe thead th {\n",
       "        text-align: right;\n",
       "    }\n",
       "</style>\n",
       "<table border=\"1\" class=\"dataframe\">\n",
       "  <thead>\n",
       "    <tr style=\"text-align: right;\">\n",
       "      <th></th>\n",
       "      <th>Geodata 1</th>\n",
       "      <th>Geodata 2</th>\n",
       "      <th>Geodata 3</th>\n",
       "    </tr>\n",
       "  </thead>\n",
       "  <tbody>\n",
       "    <tr>\n",
       "      <th>Средняя прибыль по региону (миллионов рублей).</th>\n",
       "      <td>425.94</td>\n",
       "      <td>515.22</td>\n",
       "      <td>435.01</td>\n",
       "    </tr>\n",
       "    <tr>\n",
       "      <th>Риск убытков (%)</th>\n",
       "      <td>6.0</td>\n",
       "      <td>1.0</td>\n",
       "      <td>6.4</td>\n",
       "    </tr>\n",
       "    <tr>\n",
       "      <th>Коэффицент детерминации готовой модели</th>\n",
       "      <td>0.279943</td>\n",
       "      <td>0.999623</td>\n",
       "      <td>0.205248</td>\n",
       "    </tr>\n",
       "  </tbody>\n",
       "</table>\n",
       "</div>"
      ],
      "text/plain": [
       "                                               Geodata 1 Geodata 2 Geodata 3\n",
       "Средняя прибыль по региону (миллионов рублей).    425.94    515.22    435.01\n",
       "Риск убытков (%)                                     6.0       1.0       6.4\n",
       "Коэффицент детерминации готовой модели          0.279943  0.999623  0.205248"
      ]
     },
     "metadata": {},
     "output_type": "display_data"
    }
   ],
   "source": [
    "display(table)"
   ]
  },
  {
   "cell_type": "code",
   "execution_count": 40,
   "metadata": {},
   "outputs": [
    {
     "data": {
      "text/plain": [
       "Text(0, 0.5, 'Миллионов рублей')"
      ]
     },
     "execution_count": 40,
     "metadata": {},
     "output_type": "execute_result"
    },
    {
     "data": {
      "image/png": "[encoded data removed]",
      "text/plain": [
       "<Figure size 720x504 with 1 Axes>"
      ]
     },
     "metadata": {
      "needs_background": "light"
     },
     "output_type": "display_data"
    }
   ],
   "source": [
    "table.astype('float').iloc[0].plot(kind=\"bar\", figsize=(10,7), grid=True, alpha=0.6, color = 'violet')\n",
    "plt.title('Средняя прибыль по региону')\n",
    "plt.xlabel('Регион')\n",
    "plt.ylabel('Миллионов рублей')"
   ]
  },
  {
   "cell_type": "code",
   "execution_count": 41,
   "metadata": {},
   "outputs": [
    {
     "data": {
      "text/plain": [
       "Text(0, 0.5, '%')"
      ]
     },
     "execution_count": 41,
     "metadata": {},
     "output_type": "execute_result"
    },
    {
     "data": {
      "image/png": "[encoded data removed]",
      "text/plain": [
       "<Figure size 720x504 with 1 Axes>"
      ]
     },
     "metadata": {
      "needs_background": "light"
     },
     "output_type": "display_data"
    }
   ],
   "source": [
    "table.astype('float').iloc[1].plot(kind=\"bar\", figsize=(10,7), grid=True, alpha=0.6, color = 'black')\n",
    "plt.title('Вероятность убытков')\n",
    "plt.xlabel('Регион')\n",
    "plt.ylabel('%')"
   ]
  },
  {
   "cell_type": "code",
   "execution_count": 42,
   "metadata": {},
   "outputs": [
    {
     "data": {
      "text/plain": [
       "Text(0, 0.5, 'R2')"
      ]
     },
     "execution_count": 42,
     "metadata": {},
     "output_type": "execute_result"
    },
    {
     "data": {
      "image/png": "[encoded data removed]",
      "text/plain": [
       "<Figure size 720x504 with 1 Axes>"
      ]
     },
     "metadata": {
      "needs_background": "light"
     },
     "output_type": "display_data"
    }
   ],
   "source": [
    "table.astype('float').iloc[2].plot(kind=\"bar\", figsize=(10,7), grid=True, alpha=0.6, color = 'gold')\n",
    "plt.title('Точность модели линейной регрессии для выбора скважин')\n",
    "plt.xlabel('Регион')\n",
    "plt.ylabel('R2')"
   ]
  },
  {
   "cell_type": "markdown",
   "metadata": {},
   "source": [
    "### Вывод и выбор региона"
   ]
  },
  {
   "cell_type": "markdown",
   "metadata": {},
   "source": [
    "Исходя из условий поставленной задачи: необходимо выбрать регионы, после оценки рисков которых, вероятность убытков не превышает 2.5%:"
   ]
  },
  {
   "cell_type": "markdown",
   "metadata": {},
   "source": [
    "* **Основное условие заказчика выполняется только для второго региона, что отмечается как самый значимый фактор выбора. Риск убытков при разработке новых скважин во втором региона составил: 1%**."
   ]
  },
  {
   "cell_type": "markdown",
   "metadata": {},
   "source": [
    "Также второй регион отличается:"
   ]
  },
  {
   "cell_type": "markdown",
   "metadata": {},
   "source": [
    "* **Наибольшей оценкой средней прибыли в 515.22 миллиона рублей.**"
   ]
  },
  {
   "cell_type": "markdown",
   "metadata": {},
   "source": [
    "* **Модель линейной регрессии предсказывающая объем будущей скважины отличается минимальной погрешностью, позволяя наиболее достоверно выявлять объемные месторождения. R2 стремится к 1**"
   ]
  },
  {
   "cell_type": "markdown",
   "metadata": {},
   "source": [
    "## Общий вывод"
   ]
  },
  {
   "cell_type": "markdown",
   "metadata": {},
   "source": [
    "**Модели логистической регрессии для предсказания объема продукта в скважине:**"
   ]
  },
  {
   "cell_type": "markdown",
   "metadata": {},
   "source": [
    "* Разница в точностях моделей логистической регрессии не позволяет сделать однозначный вывод по всем трём регионам, представленным в данных. Среднеквадратичная ошибка и коэффицент детерминации модели для второго региона составляют 0.89 RMSE и 0.99 R2. Что значительно опережает модели 1'го(Среднеквадратичная ошибка 37.5, R2 = 0.27) и 3'го региона(Среднеквадратичная ошибка 40, R2 = 0.20).\n",
    "\n",
    "\n",
    "* Лучшие показатели среднего запаса в 1'ом и 3'ем регионе.Они опережают второй в среднем на ~22.000 бареллей. Что в будущем может быть компенсировано грамотным выбором месторождений по второй модели, когда первая и третья, основываясь на R2 статистике, работают приближено к среднему значению, а не правильности предсказания для каждой скважины."
   ]
  },
  {
   "cell_type": "markdown",
   "metadata": {},
   "source": [
    "**Оценка прибыли по результатам работы модели:**"
   ]
  },
  {
   "cell_type": "markdown",
   "metadata": {},
   "source": [
    "* Наибольшая прибыль, исходя только из результатов предсказаний полученных моделей, для 200 лучших меторождений, распределена в следующем порядке:"
   ]
  },
  {
   "cell_type": "markdown",
   "metadata": {},
   "source": [
    "1ое место:"
   ]
  },
  {
   "cell_type": "markdown",
   "metadata": {},
   "source": [
    "* 1 регион: Ожидаемая прибыль от выбранных скважин, с вычетом бюджета: ~ 3320 миллионов рублей. ROI = 0.3320"
   ]
  },
  {
   "cell_type": "markdown",
   "metadata": {},
   "source": [
    "2e место:\n"
   ]
  },
  {
   "cell_type": "markdown",
   "metadata": {},
   "source": [
    "* 2'ой регион: Ожидаемая прибыль от выбранных скважин, с вычетом бюджета: ~ 2415 миллионов рублей. ROI = 0.2415"
   ]
  },
  {
   "cell_type": "markdown",
   "metadata": {},
   "source": [
    "3е место:"
   ]
  },
  {
   "cell_type": "markdown",
   "metadata": {},
   "source": [
    "* 3'ий регион: Ожидаемая прибыль от выбранных скважин, с вычетом бюджета: ~ -1390 миллионов рублей. ROI = -0.1390"
   ]
  },
  {
   "cell_type": "markdown",
   "metadata": {},
   "source": [
    "**Заключение для рисков и прибыли в регионах по технике bootstrap с 1000 выборок**"
   ]
  },
  {
   "cell_type": "markdown",
   "metadata": {},
   "source": [
    "Не смотря на позитивные прогнозы моделей логистической регрессии, лидером среди регионов по минимальному риску стал:"
   ]
  },
  {
   "cell_type": "markdown",
   "metadata": {},
   "source": [
    "* 2'ой регион, показавший **вероятность убытков в 1%**. Как и по средней выручке, среди 1000 выборок скважин на участке, с результатом в **515.22 миллионов рублей** в **95% доверительном интервале от: 501.621 до 528.824 миллионов рублей.**"
   ]
  },
  {
   "cell_type": "markdown",
   "metadata": {},
   "source": [
    "**Итоговое заключение:**"
   ]
  },
  {
   "cell_type": "markdown",
   "metadata": {},
   "source": [
    "* Под условия задачи, регион с наименьшим риском убытков, подходящий для разработки скважин - 2ой(geo_data_1.csv). \n",
    "* Разработка скважин в регионе 1(geo_data_0) и регионе 3(geo_data_2) более рискована и даёт меньшую среднюю прибыль.\n"
   ]
  },
  {
   "cell_type": "markdown",
   "metadata": {},
   "source": [
    "**Дополнительный комментарий:**"
   ]
  },
  {
   "cell_type": "markdown",
   "metadata": {},
   "source": [
    "* Отдельный плюс для выбора второго региона - модель логистичесткой регрессии, точность которой стремиться к 100%, что позволяет точно отбирать наибольшие месторождения для разработки и максимизации возврата на инвестиции."
   ]
  }
 ],
 "metadata": {
  "ExecuteTimeLog": [
   {
    "duration": 425,
    "start_time": "2023-04-15T10:13:53.250Z"
   },
   {
    "duration": 144,
    "start_time": "2023-04-15T10:15:18.320Z"
   },
   {
    "duration": 2228,
    "start_time": "2023-04-15T10:15:35.223Z"
   },
   {
    "duration": 8,
    "start_time": "2023-04-15T10:15:51.614Z"
   },
   {
    "duration": 52,
    "start_time": "2023-04-15T10:16:01.835Z"
   },
   {
    "duration": 49,
    "start_time": "2023-04-15T10:16:34.078Z"
   },
   {
    "duration": 16,
    "start_time": "2023-04-15T10:17:33.156Z"
   },
   {
    "duration": 14,
    "start_time": "2023-04-15T10:17:39.815Z"
   },
   {
    "duration": 63,
    "start_time": "2023-04-15T10:17:47.544Z"
   },
   {
    "duration": 46,
    "start_time": "2023-04-15T10:17:49.837Z"
   },
   {
    "duration": 56,
    "start_time": "2023-04-15T10:18:07.160Z"
   },
   {
    "duration": 50,
    "start_time": "2023-04-15T10:18:31.609Z"
   },
   {
    "duration": 953,
    "start_time": "2023-04-15T10:19:56.720Z"
   },
   {
    "duration": 549,
    "start_time": "2023-04-15T10:20:30.749Z"
   },
   {
    "duration": 701,
    "start_time": "2023-04-15T10:21:00.423Z"
   },
   {
    "duration": 1152,
    "start_time": "2023-04-15T12:50:42.826Z"
   },
   {
    "duration": 227,
    "start_time": "2023-04-15T12:52:37.218Z"
   },
   {
    "duration": 47,
    "start_time": "2023-04-15T12:54:06.354Z"
   },
   {
    "duration": 11,
    "start_time": "2023-04-15T12:54:53.331Z"
   },
   {
    "duration": 11,
    "start_time": "2023-04-15T12:55:06.242Z"
   },
   {
    "duration": 4317,
    "start_time": "2023-04-15T12:55:06.256Z"
   },
   {
    "duration": 191,
    "start_time": "2023-04-15T12:55:10.590Z"
   },
   {
    "duration": 735,
    "start_time": "2023-04-15T12:55:10.788Z"
   },
   {
    "duration": 106,
    "start_time": "2023-04-15T12:55:11.531Z"
   },
   {
    "duration": 772,
    "start_time": "2023-04-15T12:55:11.649Z"
   },
   {
    "duration": 124,
    "start_time": "2023-04-15T12:55:12.429Z"
   },
   {
    "duration": 810,
    "start_time": "2023-04-15T12:55:12.567Z"
   },
   {
    "duration": 15,
    "start_time": "2023-04-15T12:55:13.390Z"
   },
   {
    "duration": 250,
    "start_time": "2023-04-15T12:55:13.419Z"
   },
   {
    "duration": 11,
    "start_time": "2023-04-15T12:58:37.350Z"
   },
   {
    "duration": 29,
    "start_time": "2023-04-15T12:59:27.521Z"
   },
   {
    "duration": 8,
    "start_time": "2023-04-15T12:59:42.542Z"
   },
   {
    "duration": 227,
    "start_time": "2023-04-15T12:59:47.429Z"
   },
   {
    "duration": 158,
    "start_time": "2023-04-15T12:59:59.932Z"
   },
   {
    "duration": 78,
    "start_time": "2023-04-15T13:00:19.179Z"
   },
   {
    "duration": 159,
    "start_time": "2023-04-15T13:08:34.162Z"
   },
   {
    "duration": 238,
    "start_time": "2023-04-15T13:32:07.185Z"
   },
   {
    "duration": 195,
    "start_time": "2023-04-15T13:32:11.904Z"
   },
   {
    "duration": 180,
    "start_time": "2023-04-15T13:36:08.468Z"
   },
   {
    "duration": 167,
    "start_time": "2023-04-15T13:37:07.763Z"
   },
   {
    "duration": 98,
    "start_time": "2023-04-15T13:38:47.259Z"
   },
   {
    "duration": 175,
    "start_time": "2023-04-15T13:39:00.010Z"
   },
   {
    "duration": 86,
    "start_time": "2023-04-15T13:40:47.746Z"
   },
   {
    "duration": 30,
    "start_time": "2023-04-15T13:40:57.058Z"
   },
   {
    "duration": 61,
    "start_time": "2023-04-15T13:48:30.645Z"
   },
   {
    "duration": 125,
    "start_time": "2023-04-15T14:10:31.898Z"
   },
   {
    "duration": 21,
    "start_time": "2023-04-15T14:24:28.088Z"
   },
   {
    "duration": 12,
    "start_time": "2023-04-15T14:24:34.273Z"
   },
   {
    "duration": 11,
    "start_time": "2023-04-15T14:24:39.124Z"
   },
   {
    "duration": 29,
    "start_time": "2023-04-15T14:25:01.647Z"
   },
   {
    "duration": 24,
    "start_time": "2023-04-15T14:25:18.817Z"
   },
   {
    "duration": 10,
    "start_time": "2023-04-15T14:25:30.748Z"
   },
   {
    "duration": 19,
    "start_time": "2023-04-15T14:31:29.782Z"
   },
   {
    "duration": 7,
    "start_time": "2023-04-15T14:31:31.418Z"
   },
   {
    "duration": 18,
    "start_time": "2023-04-15T14:31:32.381Z"
   },
   {
    "duration": 3,
    "start_time": "2023-04-15T14:32:20.146Z"
   },
   {
    "duration": 11,
    "start_time": "2023-04-15T14:32:37.714Z"
   },
   {
    "duration": 5,
    "start_time": "2023-04-15T14:35:55.126Z"
   },
   {
    "duration": 3,
    "start_time": "2023-04-15T14:35:56.118Z"
   },
   {
    "duration": 9,
    "start_time": "2023-04-15T14:35:56.771Z"
   },
   {
    "duration": 4,
    "start_time": "2023-04-15T14:42:00.065Z"
   },
   {
    "duration": 9,
    "start_time": "2023-04-15T14:42:06.069Z"
   },
   {
    "duration": 4,
    "start_time": "2023-04-15T14:42:11.574Z"
   },
   {
    "duration": 23,
    "start_time": "2023-04-15T14:42:12.816Z"
   },
   {
    "duration": 4,
    "start_time": "2023-04-15T14:47:12.177Z"
   },
   {
    "duration": 4,
    "start_time": "2023-04-15T14:57:20.479Z"
   },
   {
    "duration": 5,
    "start_time": "2023-04-15T14:57:21.171Z"
   },
   {
    "duration": 23,
    "start_time": "2023-04-15T14:57:21.985Z"
   },
   {
    "duration": 5,
    "start_time": "2023-04-15T14:59:48.272Z"
   },
   {
    "duration": 24,
    "start_time": "2023-04-15T14:59:49.183Z"
   },
   {
    "duration": 6,
    "start_time": "2023-04-15T15:01:05.724Z"
   },
   {
    "duration": 14,
    "start_time": "2023-04-15T15:01:06.656Z"
   },
   {
    "duration": 10,
    "start_time": "2023-04-15T15:01:43.723Z"
   },
   {
    "duration": 18,
    "start_time": "2023-04-15T15:01:44.649Z"
   },
   {
    "duration": 10,
    "start_time": "2023-04-15T15:02:11.197Z"
   },
   {
    "duration": 20,
    "start_time": "2023-04-15T15:02:12.714Z"
   },
   {
    "duration": 11,
    "start_time": "2023-04-15T15:02:25.821Z"
   },
   {
    "duration": 26,
    "start_time": "2023-04-15T15:02:26.610Z"
   },
   {
    "duration": 5,
    "start_time": "2023-04-15T15:02:43.452Z"
   },
   {
    "duration": 22,
    "start_time": "2023-04-15T15:02:44.824Z"
   },
   {
    "duration": 11,
    "start_time": "2023-04-15T15:02:54.802Z"
   },
   {
    "duration": 19,
    "start_time": "2023-04-15T15:02:55.736Z"
   },
   {
    "duration": 20,
    "start_time": "2023-04-15T15:03:57.220Z"
   },
   {
    "duration": 14,
    "start_time": "2023-04-15T15:03:57.854Z"
   },
   {
    "duration": 8,
    "start_time": "2023-04-15T15:05:55.216Z"
   },
   {
    "duration": 5,
    "start_time": "2023-04-15T15:05:56.032Z"
   },
   {
    "duration": 26,
    "start_time": "2023-04-15T15:05:56.679Z"
   },
   {
    "duration": 5,
    "start_time": "2023-04-15T15:07:08.757Z"
   },
   {
    "duration": 15,
    "start_time": "2023-04-15T15:07:09.030Z"
   },
   {
    "duration": 16,
    "start_time": "2023-04-15T15:07:27.982Z"
   },
   {
    "duration": 30,
    "start_time": "2023-04-15T15:07:28.598Z"
   },
   {
    "duration": 29,
    "start_time": "2023-04-15T15:08:14.792Z"
   },
   {
    "duration": 28,
    "start_time": "2023-04-15T15:08:15.783Z"
   },
   {
    "duration": 15,
    "start_time": "2023-04-15T15:08:36.918Z"
   },
   {
    "duration": 4,
    "start_time": "2023-04-15T17:10:35.661Z"
   },
   {
    "duration": 48,
    "start_time": "2023-04-15T17:25:44.622Z"
   },
   {
    "duration": 6,
    "start_time": "2023-04-15T17:25:58.028Z"
   },
   {
    "duration": 3,
    "start_time": "2023-04-15T17:25:59.634Z"
   },
   {
    "duration": 1544,
    "start_time": "2023-04-15T17:26:45.211Z"
   },
   {
    "duration": 5,
    "start_time": "2023-04-15T17:27:13.363Z"
   },
   {
    "duration": 1629,
    "start_time": "2023-04-15T17:27:15.030Z"
   },
   {
    "duration": 9,
    "start_time": "2023-04-15T17:28:51.012Z"
   },
   {
    "duration": 1796,
    "start_time": "2023-04-15T17:28:52.966Z"
   },
   {
    "duration": 6,
    "start_time": "2023-04-15T17:29:11.465Z"
   },
   {
    "duration": 1716,
    "start_time": "2023-04-15T17:29:13.031Z"
   },
   {
    "duration": 6,
    "start_time": "2023-04-15T17:29:45.229Z"
   },
   {
    "duration": 1821,
    "start_time": "2023-04-15T17:29:47.016Z"
   },
   {
    "duration": 7,
    "start_time": "2023-04-15T17:33:01.467Z"
   },
   {
    "duration": 1784,
    "start_time": "2023-04-15T17:33:02.256Z"
   },
   {
    "duration": 6,
    "start_time": "2023-04-15T17:33:14.260Z"
   },
   {
    "duration": 1915,
    "start_time": "2023-04-15T17:33:15.762Z"
   },
   {
    "duration": 170,
    "start_time": "2023-04-15T17:35:29.918Z"
   },
   {
    "duration": 6,
    "start_time": "2023-04-15T17:35:43.035Z"
   },
   {
    "duration": 1890,
    "start_time": "2023-04-15T17:35:44.344Z"
   },
   {
    "duration": 10,
    "start_time": "2023-04-15T17:47:14.315Z"
   },
   {
    "duration": 2461,
    "start_time": "2023-04-15T17:47:15.113Z"
   },
   {
    "duration": 9,
    "start_time": "2023-04-15T17:57:25.774Z"
   },
   {
    "duration": 2498,
    "start_time": "2023-04-15T17:57:26.677Z"
   },
   {
    "duration": 11,
    "start_time": "2023-04-15T17:58:15.521Z"
   },
   {
    "duration": 2120,
    "start_time": "2023-04-15T17:58:16.427Z"
   },
   {
    "duration": 9,
    "start_time": "2023-04-15T17:58:42.932Z"
   },
   {
    "duration": 1856,
    "start_time": "2023-04-15T17:58:43.672Z"
   },
   {
    "duration": 10,
    "start_time": "2023-04-15T18:00:28.349Z"
   },
   {
    "duration": 2064,
    "start_time": "2023-04-15T18:00:29.080Z"
   },
   {
    "duration": 10,
    "start_time": "2023-04-15T18:01:25.268Z"
   },
   {
    "duration": 7,
    "start_time": "2023-04-15T18:01:28.966Z"
   },
   {
    "duration": 8,
    "start_time": "2023-04-15T18:02:38.620Z"
   },
   {
    "duration": 2130,
    "start_time": "2023-04-15T18:02:39.814Z"
   },
   {
    "duration": 10,
    "start_time": "2023-04-15T18:02:57.056Z"
   },
   {
    "duration": 1974,
    "start_time": "2023-04-15T18:02:57.873Z"
   },
   {
    "duration": 13,
    "start_time": "2023-04-15T18:03:40.733Z"
   },
   {
    "duration": 1818,
    "start_time": "2023-04-15T18:03:41.741Z"
   },
   {
    "duration": 3,
    "start_time": "2023-04-15T18:04:23.970Z"
   },
   {
    "duration": 145,
    "start_time": "2023-04-15T18:04:29.421Z"
   },
   {
    "duration": 1825,
    "start_time": "2023-04-15T18:04:30.909Z"
   },
   {
    "duration": 10,
    "start_time": "2023-04-15T18:06:56.934Z"
   },
   {
    "duration": 1998,
    "start_time": "2023-04-15T18:06:57.446Z"
   },
   {
    "duration": 604,
    "start_time": "2023-04-15T18:14:10.940Z"
   },
   {
    "duration": 596,
    "start_time": "2023-04-15T18:14:32.615Z"
   },
   {
    "duration": 565,
    "start_time": "2023-04-15T18:14:46.383Z"
   },
   {
    "duration": 525,
    "start_time": "2023-04-15T18:14:57.968Z"
   },
   {
    "duration": 14,
    "start_time": "2023-04-15T18:15:08.931Z"
   },
   {
    "duration": 681,
    "start_time": "2023-04-15T18:15:16.421Z"
   },
   {
    "duration": 468,
    "start_time": "2023-04-15T18:15:27.342Z"
   },
   {
    "duration": 431,
    "start_time": "2023-04-15T19:17:29.646Z"
   },
   {
    "duration": 279,
    "start_time": "2023-04-15T19:36:19.905Z"
   },
   {
    "duration": 245,
    "start_time": "2023-04-15T19:36:34.719Z"
   },
   {
    "duration": 287,
    "start_time": "2023-04-15T19:37:40.280Z"
   },
   {
    "duration": 285,
    "start_time": "2023-04-15T19:37:51.181Z"
   },
   {
    "duration": 261,
    "start_time": "2023-04-15T19:37:59.464Z"
   },
   {
    "duration": 261,
    "start_time": "2023-04-15T19:38:12.273Z"
   },
   {
    "duration": 1142,
    "start_time": "2023-04-15T19:38:40.760Z"
   },
   {
    "duration": 240,
    "start_time": "2023-04-15T19:38:55.237Z"
   },
   {
    "duration": 327,
    "start_time": "2023-04-15T19:39:50.478Z"
   },
   {
    "duration": 17,
    "start_time": "2023-04-15T19:40:36.134Z"
   },
   {
    "duration": 16,
    "start_time": "2023-04-15T19:40:48.347Z"
   },
   {
    "duration": 67,
    "start_time": "2023-04-15T19:41:02.347Z"
   },
   {
    "duration": 65,
    "start_time": "2023-04-15T19:41:09.636Z"
   },
   {
    "duration": 95,
    "start_time": "2023-04-15T19:41:53.263Z"
   },
   {
    "duration": 109,
    "start_time": "2023-04-15T19:43:27.529Z"
   },
   {
    "duration": 112,
    "start_time": "2023-04-15T19:44:01.371Z"
   },
   {
    "duration": 139,
    "start_time": "2023-04-15T19:44:29.636Z"
   },
   {
    "duration": 143,
    "start_time": "2023-04-15T19:44:56.556Z"
   },
   {
    "duration": 13,
    "start_time": "2023-04-15T19:47:34.515Z"
   },
   {
    "duration": 15,
    "start_time": "2023-04-15T19:47:43.222Z"
   },
   {
    "duration": 6,
    "start_time": "2023-04-15T19:47:47.804Z"
   },
   {
    "duration": 1658,
    "start_time": "2023-04-15T19:47:47.813Z"
   },
   {
    "duration": 106,
    "start_time": "2023-04-15T19:47:49.472Z"
   },
   {
    "duration": 439,
    "start_time": "2023-04-15T19:47:49.587Z"
   },
   {
    "duration": 124,
    "start_time": "2023-04-15T19:47:50.029Z"
   },
   {
    "duration": 493,
    "start_time": "2023-04-15T19:47:50.155Z"
   },
   {
    "duration": 159,
    "start_time": "2023-04-15T19:47:50.651Z"
   },
   {
    "duration": 501,
    "start_time": "2023-04-15T19:47:50.811Z"
   },
   {
    "duration": 306,
    "start_time": "2023-04-15T19:47:51.314Z"
   },
   {
    "duration": 17,
    "start_time": "2023-04-15T19:47:51.622Z"
   },
   {
    "duration": 0,
    "start_time": "2023-04-15T19:47:51.641Z"
   },
   {
    "duration": 0,
    "start_time": "2023-04-15T19:47:51.643Z"
   },
   {
    "duration": 0,
    "start_time": "2023-04-15T19:47:51.644Z"
   },
   {
    "duration": 0,
    "start_time": "2023-04-15T19:47:51.645Z"
   },
   {
    "duration": 0,
    "start_time": "2023-04-15T19:47:51.647Z"
   },
   {
    "duration": 0,
    "start_time": "2023-04-15T19:47:51.648Z"
   },
   {
    "duration": 0,
    "start_time": "2023-04-15T19:47:51.650Z"
   },
   {
    "duration": 0,
    "start_time": "2023-04-15T19:47:51.652Z"
   },
   {
    "duration": 0,
    "start_time": "2023-04-15T19:47:51.689Z"
   },
   {
    "duration": 0,
    "start_time": "2023-04-15T19:47:51.690Z"
   },
   {
    "duration": 5,
    "start_time": "2023-04-15T19:48:13.125Z"
   },
   {
    "duration": 10,
    "start_time": "2023-04-15T19:48:56.426Z"
   },
   {
    "duration": 32,
    "start_time": "2023-04-15T19:50:16.938Z"
   },
   {
    "duration": 10,
    "start_time": "2023-04-15T19:50:44.623Z"
   },
   {
    "duration": 54,
    "start_time": "2023-04-15T19:50:46.830Z"
   },
   {
    "duration": 4,
    "start_time": "2023-04-15T19:50:49.329Z"
   },
   {
    "duration": 5,
    "start_time": "2023-04-15T19:51:26.063Z"
   },
   {
    "duration": 4,
    "start_time": "2023-04-15T19:51:33.430Z"
   },
   {
    "duration": 3,
    "start_time": "2023-04-15T19:55:08.851Z"
   },
   {
    "duration": 4,
    "start_time": "2023-04-15T19:55:27.567Z"
   },
   {
    "duration": 4,
    "start_time": "2023-04-15T19:55:34.258Z"
   },
   {
    "duration": 4,
    "start_time": "2023-04-15T19:55:42.151Z"
   },
   {
    "duration": 4,
    "start_time": "2023-04-15T19:55:57.086Z"
   },
   {
    "duration": 5,
    "start_time": "2023-04-15T19:57:34.337Z"
   },
   {
    "duration": 5,
    "start_time": "2023-04-15T19:57:50.795Z"
   },
   {
    "duration": 8,
    "start_time": "2023-04-15T19:58:25.272Z"
   },
   {
    "duration": 9,
    "start_time": "2023-04-15T19:58:56.177Z"
   },
   {
    "duration": 24,
    "start_time": "2023-04-15T20:07:39.234Z"
   },
   {
    "duration": 27,
    "start_time": "2023-04-15T20:09:29.063Z"
   },
   {
    "duration": 21,
    "start_time": "2023-04-15T20:09:36.226Z"
   },
   {
    "duration": 16,
    "start_time": "2023-04-15T20:10:28.034Z"
   },
   {
    "duration": 3,
    "start_time": "2023-04-15T20:16:37.655Z"
   },
   {
    "duration": 30,
    "start_time": "2023-04-15T20:18:00.362Z"
   },
   {
    "duration": 21,
    "start_time": "2023-04-15T20:18:13.172Z"
   },
   {
    "duration": 18,
    "start_time": "2023-04-15T20:18:49.732Z"
   },
   {
    "duration": 109,
    "start_time": "2023-04-15T20:20:02.690Z"
   },
   {
    "duration": 19,
    "start_time": "2023-04-15T20:21:08.895Z"
   },
   {
    "duration": 18,
    "start_time": "2023-04-15T20:24:12.553Z"
   },
   {
    "duration": 22,
    "start_time": "2023-04-15T20:24:34.829Z"
   },
   {
    "duration": 6,
    "start_time": "2023-04-15T20:31:41.088Z"
   },
   {
    "duration": 7,
    "start_time": "2023-04-15T20:31:52.321Z"
   },
   {
    "duration": 4,
    "start_time": "2023-04-15T20:38:53.146Z"
   },
   {
    "duration": 61,
    "start_time": "2023-04-15T20:39:56.728Z"
   },
   {
    "duration": 19,
    "start_time": "2023-04-15T20:40:27.306Z"
   },
   {
    "duration": 2,
    "start_time": "2023-04-15T20:56:07.431Z"
   },
   {
    "duration": 2,
    "start_time": "2023-04-15T20:57:40.879Z"
   },
   {
    "duration": 192,
    "start_time": "2023-04-15T21:56:36.501Z"
   },
   {
    "duration": 49,
    "start_time": "2023-04-15T21:56:58.138Z"
   },
   {
    "duration": 66,
    "start_time": "2023-04-15T21:57:30.559Z"
   },
   {
    "duration": 47,
    "start_time": "2023-04-15T21:57:49.456Z"
   },
   {
    "duration": 3,
    "start_time": "2023-04-15T21:57:58.430Z"
   },
   {
    "duration": 3,
    "start_time": "2023-04-15T21:58:08.914Z"
   },
   {
    "duration": 9,
    "start_time": "2023-04-15T21:59:23.690Z"
   },
   {
    "duration": 3,
    "start_time": "2023-04-15T21:59:29.234Z"
   },
   {
    "duration": 5,
    "start_time": "2023-04-15T21:59:30.523Z"
   },
   {
    "duration": 3,
    "start_time": "2023-04-15T21:59:51.430Z"
   },
   {
    "duration": 3,
    "start_time": "2023-04-15T21:59:56.156Z"
   },
   {
    "duration": 4,
    "start_time": "2023-04-15T22:00:06.629Z"
   },
   {
    "duration": 12,
    "start_time": "2023-04-15T22:12:33.621Z"
   },
   {
    "duration": 4,
    "start_time": "2023-04-15T22:12:46.135Z"
   },
   {
    "duration": 4,
    "start_time": "2023-04-15T22:12:47.428Z"
   },
   {
    "duration": 5,
    "start_time": "2023-04-15T22:13:01.584Z"
   },
   {
    "duration": 4,
    "start_time": "2023-04-15T22:13:15.929Z"
   },
   {
    "duration": 7,
    "start_time": "2023-04-15T22:14:32.904Z"
   },
   {
    "duration": 104,
    "start_time": "2023-04-15T22:14:51.591Z"
   },
   {
    "duration": 4,
    "start_time": "2023-04-15T22:14:54.742Z"
   },
   {
    "duration": 4,
    "start_time": "2023-04-15T22:15:03.147Z"
   },
   {
    "duration": 4,
    "start_time": "2023-04-15T22:15:40.646Z"
   },
   {
    "duration": 5,
    "start_time": "2023-04-15T22:18:50.090Z"
   },
   {
    "duration": 5,
    "start_time": "2023-04-15T22:19:15.058Z"
   },
   {
    "duration": 4,
    "start_time": "2023-04-15T22:26:27.230Z"
   },
   {
    "duration": 4,
    "start_time": "2023-04-15T22:26:37.796Z"
   },
   {
    "duration": 7,
    "start_time": "2023-04-15T22:26:39.668Z"
   },
   {
    "duration": 4,
    "start_time": "2023-04-15T22:26:40.616Z"
   },
   {
    "duration": 10,
    "start_time": "2023-04-16T00:43:26.733Z"
   },
   {
    "duration": 10,
    "start_time": "2023-04-16T00:43:50.148Z"
   },
   {
    "duration": 17,
    "start_time": "2023-04-16T00:44:07.165Z"
   },
   {
    "duration": 3,
    "start_time": "2023-04-16T00:44:13.076Z"
   },
   {
    "duration": 6,
    "start_time": "2023-04-16T00:44:28.091Z"
   },
   {
    "duration": 10,
    "start_time": "2023-04-16T00:44:58.103Z"
   },
   {
    "duration": 12,
    "start_time": "2023-04-16T00:45:07.330Z"
   },
   {
    "duration": 3,
    "start_time": "2023-04-16T00:45:50.486Z"
   },
   {
    "duration": 3,
    "start_time": "2023-04-16T00:45:51.526Z"
   },
   {
    "duration": 18,
    "start_time": "2023-04-16T00:45:52.181Z"
   },
   {
    "duration": 4,
    "start_time": "2023-04-16T00:46:18.480Z"
   },
   {
    "duration": 3,
    "start_time": "2023-04-16T00:46:19.487Z"
   },
   {
    "duration": 13,
    "start_time": "2023-04-16T00:46:23.225Z"
   },
   {
    "duration": 13,
    "start_time": "2023-04-16T00:47:25.075Z"
   },
   {
    "duration": 13,
    "start_time": "2023-04-16T00:47:34.131Z"
   },
   {
    "duration": 8,
    "start_time": "2023-04-16T00:50:07.795Z"
   },
   {
    "duration": 1522,
    "start_time": "2023-04-16T00:50:34.940Z"
   },
   {
    "duration": 1653,
    "start_time": "2023-04-16T00:50:49.092Z"
   },
   {
    "duration": 1561,
    "start_time": "2023-04-16T00:50:59.448Z"
   },
   {
    "duration": 9,
    "start_time": "2023-04-16T01:00:20.346Z"
   },
   {
    "duration": 4,
    "start_time": "2023-04-16T01:00:23.318Z"
   },
   {
    "duration": 4,
    "start_time": "2023-04-16T01:00:24.304Z"
   },
   {
    "duration": 12,
    "start_time": "2023-04-16T01:01:41.955Z"
   },
   {
    "duration": 6,
    "start_time": "2023-04-16T01:01:48.939Z"
   },
   {
    "duration": 12,
    "start_time": "2023-04-16T01:01:49.906Z"
   },
   {
    "duration": 4,
    "start_time": "2023-04-16T01:03:23.535Z"
   },
   {
    "duration": 5,
    "start_time": "2023-04-16T01:03:44.165Z"
   },
   {
    "duration": 3,
    "start_time": "2023-04-16T01:03:58.618Z"
   },
   {
    "duration": 3,
    "start_time": "2023-04-16T01:03:59.458Z"
   },
   {
    "duration": 4,
    "start_time": "2023-04-16T01:04:21.038Z"
   },
   {
    "duration": 12,
    "start_time": "2023-04-16T01:04:22.378Z"
   },
   {
    "duration": 12,
    "start_time": "2023-04-16T01:04:23.255Z"
   },
   {
    "duration": 12,
    "start_time": "2023-04-16T01:04:24.268Z"
   },
   {
    "duration": 6,
    "start_time": "2023-04-16T01:04:27.364Z"
   },
   {
    "duration": 1479,
    "start_time": "2023-04-16T01:04:37.509Z"
   },
   {
    "duration": 1486,
    "start_time": "2023-04-16T01:04:40.751Z"
   },
   {
    "duration": 1491,
    "start_time": "2023-04-16T01:04:44.660Z"
   },
   {
    "duration": 3,
    "start_time": "2023-04-16T01:05:13.499Z"
   },
   {
    "duration": 4,
    "start_time": "2023-04-16T01:05:14.431Z"
   },
   {
    "duration": 1526,
    "start_time": "2023-04-16T01:20:00.748Z"
   },
   {
    "duration": 412,
    "start_time": "2023-04-16T01:21:37.634Z"
   },
   {
    "duration": 399,
    "start_time": "2023-04-16T01:21:47.957Z"
   },
   {
    "duration": 424,
    "start_time": "2023-04-16T01:21:55.808Z"
   },
   {
    "duration": 6,
    "start_time": "2023-04-16T01:39:57.072Z"
   },
   {
    "duration": 7,
    "start_time": "2023-04-16T01:40:16.226Z"
   },
   {
    "duration": 5,
    "start_time": "2023-04-16T01:40:38.439Z"
   },
   {
    "duration": 8,
    "start_time": "2023-04-16T01:40:39.362Z"
   },
   {
    "duration": 6,
    "start_time": "2023-04-16T01:41:18.340Z"
   },
   {
    "duration": 7,
    "start_time": "2023-04-16T01:41:19.224Z"
   },
   {
    "duration": 6,
    "start_time": "2023-04-16T01:41:28.969Z"
   },
   {
    "duration": 8,
    "start_time": "2023-04-16T01:41:29.958Z"
   },
   {
    "duration": 6,
    "start_time": "2023-04-16T01:41:37.684Z"
   },
   {
    "duration": 8,
    "start_time": "2023-04-16T01:41:38.384Z"
   },
   {
    "duration": 786,
    "start_time": "2023-04-16T01:42:45.919Z"
   },
   {
    "duration": 14,
    "start_time": "2023-04-16T01:43:31.569Z"
   },
   {
    "duration": 14,
    "start_time": "2023-04-16T01:43:38.947Z"
   },
   {
    "duration": 120,
    "start_time": "2023-04-16T01:44:36.982Z"
   },
   {
    "duration": 15,
    "start_time": "2023-04-16T01:44:47.321Z"
   },
   {
    "duration": 114,
    "start_time": "2023-04-16T01:44:51.443Z"
   },
   {
    "duration": 926,
    "start_time": "2023-04-16T01:45:06.973Z"
   },
   {
    "duration": 126,
    "start_time": "2023-04-16T01:45:12.675Z"
   },
   {
    "duration": 117,
    "start_time": "2023-04-16T01:45:37.584Z"
   },
   {
    "duration": 107,
    "start_time": "2023-04-16T01:45:47.798Z"
   },
   {
    "duration": 115,
    "start_time": "2023-04-16T01:45:55.694Z"
   },
   {
    "duration": 311,
    "start_time": "2023-04-16T01:46:05.431Z"
   },
   {
    "duration": 117,
    "start_time": "2023-04-16T01:46:18.902Z"
   },
   {
    "duration": 145,
    "start_time": "2023-04-16T01:46:30.730Z"
   },
   {
    "duration": 119,
    "start_time": "2023-04-16T01:46:35.338Z"
   },
   {
    "duration": 124,
    "start_time": "2023-04-16T01:46:58.654Z"
   },
   {
    "duration": 129,
    "start_time": "2023-04-16T01:47:19.838Z"
   },
   {
    "duration": 123,
    "start_time": "2023-04-16T01:47:48.991Z"
   },
   {
    "duration": 128,
    "start_time": "2023-04-16T01:48:05.902Z"
   },
   {
    "duration": 122,
    "start_time": "2023-04-16T01:48:23.602Z"
   },
   {
    "duration": 115,
    "start_time": "2023-04-16T01:48:26.215Z"
   },
   {
    "duration": 5,
    "start_time": "2023-04-16T01:50:39.283Z"
   },
   {
    "duration": 8,
    "start_time": "2023-04-16T01:50:41.149Z"
   },
   {
    "duration": 62,
    "start_time": "2023-04-16T13:06:01.914Z"
   },
   {
    "duration": 1701,
    "start_time": "2023-04-16T13:06:12.611Z"
   },
   {
    "duration": 1046,
    "start_time": "2023-04-16T13:06:14.315Z"
   },
   {
    "duration": 136,
    "start_time": "2023-04-16T13:06:15.363Z"
   },
   {
    "duration": 524,
    "start_time": "2023-04-16T13:06:15.501Z"
   },
   {
    "duration": 135,
    "start_time": "2023-04-16T13:06:16.027Z"
   },
   {
    "duration": 538,
    "start_time": "2023-04-16T13:06:16.164Z"
   },
   {
    "duration": 135,
    "start_time": "2023-04-16T13:06:16.708Z"
   },
   {
    "duration": 621,
    "start_time": "2023-04-16T13:06:16.845Z"
   },
   {
    "duration": 292,
    "start_time": "2023-04-16T13:06:17.469Z"
   },
   {
    "duration": 11,
    "start_time": "2023-04-16T13:06:17.763Z"
   },
   {
    "duration": 53,
    "start_time": "2023-04-16T13:06:17.792Z"
   },
   {
    "duration": 10,
    "start_time": "2023-04-16T13:06:17.847Z"
   },
   {
    "duration": 57,
    "start_time": "2023-04-16T13:06:17.860Z"
   },
   {
    "duration": 203,
    "start_time": "2023-04-16T13:06:17.921Z"
   },
   {
    "duration": 32,
    "start_time": "2023-04-16T13:06:18.196Z"
   },
   {
    "duration": 71,
    "start_time": "2023-04-16T13:06:18.230Z"
   },
   {
    "duration": 14,
    "start_time": "2023-04-16T13:06:18.303Z"
   },
   {
    "duration": 75,
    "start_time": "2023-04-16T13:06:18.319Z"
   },
   {
    "duration": 17,
    "start_time": "2023-04-16T13:06:18.396Z"
   },
   {
    "duration": 11,
    "start_time": "2023-04-16T13:06:18.415Z"
   },
   {
    "duration": 21,
    "start_time": "2023-04-16T13:06:18.429Z"
   },
   {
    "duration": 13,
    "start_time": "2023-04-16T13:06:18.452Z"
   },
   {
    "duration": 7,
    "start_time": "2023-04-16T13:06:18.467Z"
   },
   {
    "duration": 106,
    "start_time": "2023-04-16T13:06:18.476Z"
   },
   {
    "duration": 0,
    "start_time": "2023-04-16T13:06:18.584Z"
   },
   {
    "duration": 0,
    "start_time": "2023-04-16T13:06:18.595Z"
   },
   {
    "duration": 0,
    "start_time": "2023-04-16T13:06:18.597Z"
   },
   {
    "duration": 0,
    "start_time": "2023-04-16T13:06:18.599Z"
   },
   {
    "duration": 0,
    "start_time": "2023-04-16T13:06:18.601Z"
   },
   {
    "duration": 0,
    "start_time": "2023-04-16T13:06:18.602Z"
   },
   {
    "duration": 0,
    "start_time": "2023-04-16T13:06:18.602Z"
   },
   {
    "duration": 0,
    "start_time": "2023-04-16T13:06:18.603Z"
   },
   {
    "duration": 0,
    "start_time": "2023-04-16T13:06:18.604Z"
   },
   {
    "duration": 0,
    "start_time": "2023-04-16T13:06:18.605Z"
   },
   {
    "duration": 0,
    "start_time": "2023-04-16T13:06:18.605Z"
   },
   {
    "duration": 0,
    "start_time": "2023-04-16T13:06:18.606Z"
   },
   {
    "duration": 0,
    "start_time": "2023-04-16T13:06:18.607Z"
   },
   {
    "duration": 4,
    "start_time": "2023-04-16T13:06:55.562Z"
   },
   {
    "duration": 419,
    "start_time": "2023-04-16T13:06:55.569Z"
   },
   {
    "duration": 134,
    "start_time": "2023-04-16T13:06:55.990Z"
   },
   {
    "duration": 551,
    "start_time": "2023-04-16T13:06:56.127Z"
   },
   {
    "duration": 150,
    "start_time": "2023-04-16T13:06:56.681Z"
   },
   {
    "duration": 515,
    "start_time": "2023-04-16T13:06:56.833Z"
   },
   {
    "duration": 146,
    "start_time": "2023-04-16T13:06:57.351Z"
   },
   {
    "duration": 524,
    "start_time": "2023-04-16T13:06:57.499Z"
   },
   {
    "duration": 301,
    "start_time": "2023-04-16T13:06:58.024Z"
   },
   {
    "duration": 8,
    "start_time": "2023-04-16T13:06:58.326Z"
   },
   {
    "duration": 45,
    "start_time": "2023-04-16T13:06:58.336Z"
   },
   {
    "duration": 19,
    "start_time": "2023-04-16T13:06:58.383Z"
   },
   {
    "duration": 111,
    "start_time": "2023-04-16T13:06:58.404Z"
   },
   {
    "duration": 105,
    "start_time": "2023-04-16T13:06:58.518Z"
   },
   {
    "duration": 204,
    "start_time": "2023-04-16T13:06:58.624Z"
   },
   {
    "duration": 71,
    "start_time": "2023-04-16T13:06:58.830Z"
   },
   {
    "duration": 95,
    "start_time": "2023-04-16T13:06:58.906Z"
   },
   {
    "duration": 18,
    "start_time": "2023-04-16T13:06:59.003Z"
   },
   {
    "duration": 19,
    "start_time": "2023-04-16T13:06:59.023Z"
   },
   {
    "duration": 36,
    "start_time": "2023-04-16T13:06:59.043Z"
   },
   {
    "duration": 29,
    "start_time": "2023-04-16T13:06:59.082Z"
   },
   {
    "duration": 18,
    "start_time": "2023-04-16T13:06:59.113Z"
   },
   {
    "duration": 20,
    "start_time": "2023-04-16T13:06:59.134Z"
   },
   {
    "duration": 17,
    "start_time": "2023-04-16T13:06:59.155Z"
   },
   {
    "duration": 14,
    "start_time": "2023-04-16T13:06:59.174Z"
   },
   {
    "duration": 17,
    "start_time": "2023-04-16T13:06:59.190Z"
   },
   {
    "duration": 24,
    "start_time": "2023-04-16T13:06:59.208Z"
   },
   {
    "duration": 18,
    "start_time": "2023-04-16T13:06:59.234Z"
   },
   {
    "duration": 40,
    "start_time": "2023-04-16T13:06:59.255Z"
   },
   {
    "duration": 11,
    "start_time": "2023-04-16T13:06:59.302Z"
   },
   {
    "duration": 1844,
    "start_time": "2023-04-16T13:06:59.316Z"
   },
   {
    "duration": 1954,
    "start_time": "2023-04-16T13:07:01.162Z"
   },
   {
    "duration": 1737,
    "start_time": "2023-04-16T13:07:03.119Z"
   },
   {
    "duration": 8,
    "start_time": "2023-04-16T13:07:04.858Z"
   },
   {
    "duration": 28,
    "start_time": "2023-04-16T13:07:04.868Z"
   },
   {
    "duration": 157,
    "start_time": "2023-04-16T13:07:04.898Z"
   },
   {
    "duration": 184,
    "start_time": "2023-04-16T13:07:05.057Z"
   },
   {
    "duration": 142,
    "start_time": "2023-04-16T13:15:04.622Z"
   },
   {
    "duration": 164,
    "start_time": "2023-04-16T13:15:21.218Z"
   },
   {
    "duration": 145,
    "start_time": "2023-04-16T13:15:36.513Z"
   },
   {
    "duration": 9,
    "start_time": "2023-04-16T13:17:39.910Z"
   },
   {
    "duration": 1828,
    "start_time": "2023-04-16T13:17:41.110Z"
   },
   {
    "duration": 1818,
    "start_time": "2023-04-16T13:17:45.254Z"
   },
   {
    "duration": 1814,
    "start_time": "2023-04-16T13:17:49.435Z"
   },
   {
    "duration": 90,
    "start_time": "2023-04-16T13:25:37.353Z"
   },
   {
    "duration": 205,
    "start_time": "2023-04-16T13:25:46.124Z"
   },
   {
    "duration": 167,
    "start_time": "2023-04-16T13:25:55.928Z"
   },
   {
    "duration": 165,
    "start_time": "2023-04-16T13:26:34.324Z"
   },
   {
    "duration": 202,
    "start_time": "2023-04-16T13:27:28.312Z"
   },
   {
    "duration": 154,
    "start_time": "2023-04-16T13:28:07.831Z"
   },
   {
    "duration": 4,
    "start_time": "2023-04-16T14:05:53.818Z"
   },
   {
    "duration": 420,
    "start_time": "2023-04-16T14:05:53.825Z"
   },
   {
    "duration": 121,
    "start_time": "2023-04-16T14:05:54.247Z"
   },
   {
    "duration": 640,
    "start_time": "2023-04-16T14:05:54.370Z"
   },
   {
    "duration": 117,
    "start_time": "2023-04-16T14:05:55.012Z"
   },
   {
    "duration": 510,
    "start_time": "2023-04-16T14:05:55.131Z"
   },
   {
    "duration": 131,
    "start_time": "2023-04-16T14:05:55.643Z"
   },
   {
    "duration": 534,
    "start_time": "2023-04-16T14:05:55.776Z"
   },
   {
    "duration": 269,
    "start_time": "2023-04-16T14:05:56.312Z"
   },
   {
    "duration": 16,
    "start_time": "2023-04-16T14:05:56.584Z"
   },
   {
    "duration": 39,
    "start_time": "2023-04-16T14:05:56.611Z"
   },
   {
    "duration": 9,
    "start_time": "2023-04-16T14:05:56.653Z"
   },
   {
    "duration": 49,
    "start_time": "2023-04-16T14:05:56.664Z"
   },
   {
    "duration": 88,
    "start_time": "2023-04-16T14:05:56.715Z"
   },
   {
    "duration": 98,
    "start_time": "2023-04-16T14:05:56.805Z"
   },
   {
    "duration": 91,
    "start_time": "2023-04-16T14:05:56.906Z"
   },
   {
    "duration": 99,
    "start_time": "2023-04-16T14:05:57.001Z"
   },
   {
    "duration": 3,
    "start_time": "2023-04-16T14:05:57.109Z"
   },
   {
    "duration": 7,
    "start_time": "2023-04-16T14:05:57.113Z"
   },
   {
    "duration": 4,
    "start_time": "2023-04-16T14:05:57.122Z"
   },
   {
    "duration": 9,
    "start_time": "2023-04-16T14:05:57.128Z"
   },
   {
    "duration": 7,
    "start_time": "2023-04-16T14:05:57.138Z"
   },
   {
    "duration": 5,
    "start_time": "2023-04-16T14:05:57.147Z"
   },
   {
    "duration": 6,
    "start_time": "2023-04-16T14:05:57.154Z"
   },
   {
    "duration": 7,
    "start_time": "2023-04-16T14:05:57.193Z"
   },
   {
    "duration": 6,
    "start_time": "2023-04-16T14:05:57.210Z"
   },
   {
    "duration": 17,
    "start_time": "2023-04-16T14:05:57.219Z"
   },
   {
    "duration": 14,
    "start_time": "2023-04-16T14:05:57.238Z"
   },
   {
    "duration": 54,
    "start_time": "2023-04-16T14:05:57.255Z"
   },
   {
    "duration": 8,
    "start_time": "2023-04-16T14:05:57.311Z"
   },
   {
    "duration": 1783,
    "start_time": "2023-04-16T14:05:57.322Z"
   },
   {
    "duration": 1815,
    "start_time": "2023-04-16T14:05:59.107Z"
   },
   {
    "duration": 1851,
    "start_time": "2023-04-16T14:06:00.924Z"
   },
   {
    "duration": 20,
    "start_time": "2023-04-16T14:06:02.777Z"
   },
   {
    "duration": 32,
    "start_time": "2023-04-16T14:06:02.798Z"
   },
   {
    "duration": 192,
    "start_time": "2023-04-16T14:06:02.832Z"
   },
   {
    "duration": 179,
    "start_time": "2023-04-16T14:06:03.025Z"
   },
   {
    "duration": 211,
    "start_time": "2023-04-16T14:06:03.210Z"
   },
   {
    "duration": 87,
    "start_time": "2023-04-16T15:10:41.227Z"
   },
   {
    "duration": 2115,
    "start_time": "2023-04-17T07:02:31.652Z"
   },
   {
    "duration": 347,
    "start_time": "2023-04-17T07:02:33.768Z"
   },
   {
    "duration": 140,
    "start_time": "2023-04-17T07:02:34.117Z"
   },
   {
    "duration": 484,
    "start_time": "2023-04-17T07:02:34.259Z"
   },
   {
    "duration": 98,
    "start_time": "2023-04-17T07:02:34.744Z"
   },
   {
    "duration": 477,
    "start_time": "2023-04-17T07:02:34.843Z"
   },
   {
    "duration": 112,
    "start_time": "2023-04-17T07:02:35.322Z"
   },
   {
    "duration": 511,
    "start_time": "2023-04-17T07:02:35.436Z"
   },
   {
    "duration": 240,
    "start_time": "2023-04-17T07:02:35.948Z"
   },
   {
    "duration": 8,
    "start_time": "2023-04-17T07:02:36.191Z"
   },
   {
    "duration": 54,
    "start_time": "2023-04-17T07:02:36.201Z"
   },
   {
    "duration": 8,
    "start_time": "2023-04-17T07:02:36.257Z"
   },
   {
    "duration": 38,
    "start_time": "2023-04-17T07:02:36.266Z"
   },
   {
    "duration": 105,
    "start_time": "2023-04-17T07:02:36.357Z"
   },
   {
    "duration": 101,
    "start_time": "2023-04-17T07:02:36.463Z"
   },
   {
    "duration": 95,
    "start_time": "2023-04-17T07:02:36.566Z"
   },
   {
    "duration": 95,
    "start_time": "2023-04-17T07:02:36.663Z"
   },
   {
    "duration": 11,
    "start_time": "2023-04-17T07:02:36.760Z"
   },
   {
    "duration": 7,
    "start_time": "2023-04-17T07:02:36.772Z"
   },
   {
    "duration": 17,
    "start_time": "2023-04-17T07:02:36.780Z"
   },
   {
    "duration": 16,
    "start_time": "2023-04-17T07:02:36.799Z"
   },
   {
    "duration": 6,
    "start_time": "2023-04-17T07:02:36.816Z"
   },
   {
    "duration": 4,
    "start_time": "2023-04-17T07:02:36.825Z"
   },
   {
    "duration": 5,
    "start_time": "2023-04-17T07:02:36.831Z"
   },
   {
    "duration": 4,
    "start_time": "2023-04-17T07:02:36.837Z"
   },
   {
    "duration": 13,
    "start_time": "2023-04-17T07:02:36.842Z"
   },
   {
    "duration": 15,
    "start_time": "2023-04-17T07:02:36.856Z"
   },
   {
    "duration": 12,
    "start_time": "2023-04-17T07:02:36.874Z"
   },
   {
    "duration": 13,
    "start_time": "2023-04-17T07:02:36.888Z"
   },
   {
    "duration": 27,
    "start_time": "2023-04-17T07:02:36.903Z"
   },
   {
    "duration": 1397,
    "start_time": "2023-04-17T07:02:36.932Z"
   },
   {
    "duration": 1576,
    "start_time": "2023-04-17T07:02:38.331Z"
   },
   {
    "duration": 1602,
    "start_time": "2023-04-17T07:02:39.909Z"
   },
   {
    "duration": 7,
    "start_time": "2023-04-17T07:02:41.513Z"
   },
   {
    "duration": 26,
    "start_time": "2023-04-17T07:02:41.521Z"
   },
   {
    "duration": 154,
    "start_time": "2023-04-17T07:02:41.548Z"
   },
   {
    "duration": 157,
    "start_time": "2023-04-17T07:02:41.704Z"
   },
   {
    "duration": 149,
    "start_time": "2023-04-17T07:02:41.863Z"
   },
   {
    "duration": 84,
    "start_time": "2023-04-18T12:49:05.380Z"
   },
   {
    "duration": 48,
    "start_time": "2023-04-18T12:49:11.338Z"
   },
   {
    "duration": 1472,
    "start_time": "2023-04-18T12:49:27.957Z"
   },
   {
    "duration": 1607,
    "start_time": "2023-04-18T12:49:29.431Z"
   },
   {
    "duration": 101,
    "start_time": "2023-04-18T12:49:31.040Z"
   },
   {
    "duration": 391,
    "start_time": "2023-04-18T12:49:31.144Z"
   },
   {
    "duration": 111,
    "start_time": "2023-04-18T12:49:31.537Z"
   },
   {
    "duration": 381,
    "start_time": "2023-04-18T12:49:31.650Z"
   },
   {
    "duration": 102,
    "start_time": "2023-04-18T12:49:32.032Z"
   },
   {
    "duration": 461,
    "start_time": "2023-04-18T12:49:32.135Z"
   },
   {
    "duration": 214,
    "start_time": "2023-04-18T12:49:32.598Z"
   },
   {
    "duration": 8,
    "start_time": "2023-04-18T12:49:32.817Z"
   },
   {
    "duration": 34,
    "start_time": "2023-04-18T12:49:32.827Z"
   },
   {
    "duration": 7,
    "start_time": "2023-04-18T12:49:32.862Z"
   },
   {
    "duration": 48,
    "start_time": "2023-04-18T12:49:32.870Z"
   },
   {
    "duration": 106,
    "start_time": "2023-04-18T12:49:32.920Z"
   },
   {
    "duration": 191,
    "start_time": "2023-04-18T12:49:33.027Z"
   },
   {
    "duration": 102,
    "start_time": "2023-04-18T12:49:33.220Z"
   },
   {
    "duration": 19,
    "start_time": "2023-04-18T12:49:33.323Z"
   },
   {
    "duration": 42,
    "start_time": "2023-04-18T12:49:33.343Z"
   },
   {
    "duration": 20,
    "start_time": "2023-04-18T12:49:33.387Z"
   },
   {
    "duration": 5,
    "start_time": "2023-04-18T12:49:33.409Z"
   },
   {
    "duration": 14,
    "start_time": "2023-04-18T12:49:33.415Z"
   },
   {
    "duration": 11,
    "start_time": "2023-04-18T12:49:33.431Z"
   },
   {
    "duration": 9,
    "start_time": "2023-04-18T12:49:33.444Z"
   },
   {
    "duration": 6,
    "start_time": "2023-04-18T12:49:33.455Z"
   },
   {
    "duration": 13,
    "start_time": "2023-04-18T12:49:33.462Z"
   },
   {
    "duration": 13,
    "start_time": "2023-04-18T12:49:33.476Z"
   },
   {
    "duration": 14,
    "start_time": "2023-04-18T12:49:33.491Z"
   },
   {
    "duration": 13,
    "start_time": "2023-04-18T12:49:33.507Z"
   },
   {
    "duration": 15,
    "start_time": "2023-04-18T12:49:33.522Z"
   },
   {
    "duration": 9,
    "start_time": "2023-04-18T12:49:33.539Z"
   },
   {
    "duration": 1315,
    "start_time": "2023-04-18T12:49:33.550Z"
   },
   {
    "duration": 1231,
    "start_time": "2023-04-18T12:49:34.867Z"
   },
   {
    "duration": 1263,
    "start_time": "2023-04-18T12:49:36.099Z"
   },
   {
    "duration": 5,
    "start_time": "2023-04-18T12:49:37.364Z"
   },
   {
    "duration": 21,
    "start_time": "2023-04-18T12:49:37.371Z"
   },
   {
    "duration": 137,
    "start_time": "2023-04-18T12:49:37.394Z"
   },
   {
    "duration": 143,
    "start_time": "2023-04-18T12:49:37.533Z"
   },
   {
    "duration": 141,
    "start_time": "2023-04-18T12:49:37.678Z"
   },
   {
    "duration": 1368,
    "start_time": "2023-04-18T12:53:07.015Z"
   },
   {
    "duration": 352,
    "start_time": "2023-04-18T12:53:08.385Z"
   },
   {
    "duration": 114,
    "start_time": "2023-04-18T12:53:08.738Z"
   },
   {
    "duration": 390,
    "start_time": "2023-04-18T12:53:08.854Z"
   },
   {
    "duration": 99,
    "start_time": "2023-04-18T12:53:09.247Z"
   },
   {
    "duration": 389,
    "start_time": "2023-04-18T12:53:09.347Z"
   },
   {
    "duration": 97,
    "start_time": "2023-04-18T12:53:09.737Z"
   },
   {
    "duration": 457,
    "start_time": "2023-04-18T12:53:09.835Z"
   },
   {
    "duration": 211,
    "start_time": "2023-04-18T12:53:10.294Z"
   },
   {
    "duration": 11,
    "start_time": "2023-04-18T12:53:10.507Z"
   },
   {
    "duration": 35,
    "start_time": "2023-04-18T12:53:10.520Z"
   },
   {
    "duration": 7,
    "start_time": "2023-04-18T12:53:10.557Z"
   },
   {
    "duration": 59,
    "start_time": "2023-04-18T12:53:10.566Z"
   },
   {
    "duration": 98,
    "start_time": "2023-04-18T12:53:10.628Z"
   },
   {
    "duration": 97,
    "start_time": "2023-04-18T12:53:10.730Z"
   },
   {
    "duration": 95,
    "start_time": "2023-04-18T12:53:10.923Z"
   },
   {
    "duration": 9,
    "start_time": "2023-04-18T12:53:11.020Z"
   },
   {
    "duration": 3,
    "start_time": "2023-04-18T12:53:11.030Z"
   },
   {
    "duration": 5,
    "start_time": "2023-04-18T12:53:11.034Z"
   },
   {
    "duration": 3,
    "start_time": "2023-04-18T12:53:11.040Z"
   },
   {
    "duration": 4,
    "start_time": "2023-04-18T12:53:11.044Z"
   },
   {
    "duration": 4,
    "start_time": "2023-04-18T12:53:11.050Z"
   },
   {
    "duration": 4,
    "start_time": "2023-04-18T12:53:11.055Z"
   },
   {
    "duration": 3,
    "start_time": "2023-04-18T12:53:11.060Z"
   },
   {
    "duration": 3,
    "start_time": "2023-04-18T12:53:11.064Z"
   },
   {
    "duration": 4,
    "start_time": "2023-04-18T12:53:11.069Z"
   },
   {
    "duration": 55,
    "start_time": "2023-04-18T12:53:11.075Z"
   },
   {
    "duration": 13,
    "start_time": "2023-04-18T12:53:11.131Z"
   },
   {
    "duration": 12,
    "start_time": "2023-04-18T12:53:11.146Z"
   },
   {
    "duration": 7,
    "start_time": "2023-04-18T12:53:11.160Z"
   },
   {
    "duration": 1282,
    "start_time": "2023-04-18T12:53:11.169Z"
   },
   {
    "duration": 1406,
    "start_time": "2023-04-18T12:53:12.453Z"
   },
   {
    "duration": 1247,
    "start_time": "2023-04-18T12:53:13.861Z"
   },
   {
    "duration": 10,
    "start_time": "2023-04-18T12:53:15.109Z"
   },
   {
    "duration": 9,
    "start_time": "2023-04-18T12:53:15.120Z"
   },
   {
    "duration": 141,
    "start_time": "2023-04-18T12:53:15.130Z"
   },
   {
    "duration": 132,
    "start_time": "2023-04-18T12:53:15.273Z"
   },
   {
    "duration": 139,
    "start_time": "2023-04-18T12:53:15.406Z"
   },
   {
    "duration": 59,
    "start_time": "2023-04-18T12:56:58.683Z"
   },
   {
    "duration": 706,
    "start_time": "2023-04-18T12:57:18.033Z"
   },
   {
    "duration": 594,
    "start_time": "2023-04-18T12:57:30.443Z"
   },
   {
    "duration": 225,
    "start_time": "2023-04-18T12:57:45.137Z"
   },
   {
    "duration": 315,
    "start_time": "2023-04-18T12:58:15.982Z"
   },
   {
    "duration": 310,
    "start_time": "2023-04-18T12:58:30.025Z"
   },
   {
    "duration": 332,
    "start_time": "2023-04-18T12:58:57.873Z"
   },
   {
    "duration": 4,
    "start_time": "2023-04-18T13:04:34.475Z"
   },
   {
    "duration": 4,
    "start_time": "2023-04-18T13:04:35.473Z"
   },
   {
    "duration": 18,
    "start_time": "2023-04-18T13:04:38.319Z"
   },
   {
    "duration": 19,
    "start_time": "2023-04-18T13:04:39.579Z"
   },
   {
    "duration": 17,
    "start_time": "2023-04-18T13:04:40.832Z"
   },
   {
    "duration": 4,
    "start_time": "2023-04-18T13:05:05.423Z"
   },
   {
    "duration": 3,
    "start_time": "2023-04-18T13:05:07.023Z"
   },
   {
    "duration": 13,
    "start_time": "2023-04-18T13:05:07.936Z"
   },
   {
    "duration": 13,
    "start_time": "2023-04-18T13:05:08.922Z"
   },
   {
    "duration": 13,
    "start_time": "2023-04-18T13:05:09.868Z"
   },
   {
    "duration": 3,
    "start_time": "2023-04-18T13:05:36.140Z"
   },
   {
    "duration": 3,
    "start_time": "2023-04-18T13:05:37.212Z"
   },
   {
    "duration": 17,
    "start_time": "2023-04-18T13:05:38.343Z"
   },
   {
    "duration": 17,
    "start_time": "2023-04-18T13:05:39.273Z"
   },
   {
    "duration": 18,
    "start_time": "2023-04-18T13:05:40.123Z"
   },
   {
    "duration": 1287,
    "start_time": "2023-04-18T13:15:27.157Z"
   },
   {
    "duration": 342,
    "start_time": "2023-04-18T13:15:28.446Z"
   },
   {
    "duration": 98,
    "start_time": "2023-04-18T13:15:28.790Z"
   },
   {
    "duration": 388,
    "start_time": "2023-04-18T13:15:28.890Z"
   },
   {
    "duration": 316,
    "start_time": "2023-04-18T13:15:29.279Z"
   },
   {
    "duration": 96,
    "start_time": "2023-04-18T13:15:29.597Z"
   },
   {
    "duration": 402,
    "start_time": "2023-04-18T13:15:29.694Z"
   },
   {
    "duration": 402,
    "start_time": "2023-04-18T13:15:30.098Z"
   },
   {
    "duration": 103,
    "start_time": "2023-04-18T13:15:30.502Z"
   },
   {
    "duration": 406,
    "start_time": "2023-04-18T13:15:30.618Z"
   },
   {
    "duration": 294,
    "start_time": "2023-04-18T13:15:31.025Z"
   },
   {
    "duration": 217,
    "start_time": "2023-04-18T13:15:31.320Z"
   },
   {
    "duration": 8,
    "start_time": "2023-04-18T13:15:31.539Z"
   },
   {
    "duration": 46,
    "start_time": "2023-04-18T13:15:31.548Z"
   },
   {
    "duration": 33,
    "start_time": "2023-04-18T13:15:31.596Z"
   },
   {
    "duration": 36,
    "start_time": "2023-04-18T13:15:31.630Z"
   },
   {
    "duration": 105,
    "start_time": "2023-04-18T13:15:31.717Z"
   },
   {
    "duration": 195,
    "start_time": "2023-04-18T13:15:31.824Z"
   },
   {
    "duration": 100,
    "start_time": "2023-04-18T13:15:32.021Z"
   },
   {
    "duration": 17,
    "start_time": "2023-04-18T13:15:32.123Z"
   },
   {
    "duration": 19,
    "start_time": "2023-04-18T13:15:32.142Z"
   },
   {
    "duration": 24,
    "start_time": "2023-04-18T13:15:32.162Z"
   },
   {
    "duration": 25,
    "start_time": "2023-04-18T13:15:32.188Z"
   },
   {
    "duration": 29,
    "start_time": "2023-04-18T13:15:32.214Z"
   },
   {
    "duration": 18,
    "start_time": "2023-04-18T13:15:32.244Z"
   },
   {
    "duration": 20,
    "start_time": "2023-04-18T13:15:32.263Z"
   },
   {
    "duration": 13,
    "start_time": "2023-04-18T13:15:32.285Z"
   },
   {
    "duration": 21,
    "start_time": "2023-04-18T13:15:32.301Z"
   },
   {
    "duration": 25,
    "start_time": "2023-04-18T13:15:32.324Z"
   },
   {
    "duration": 28,
    "start_time": "2023-04-18T13:15:32.350Z"
   },
   {
    "duration": 16,
    "start_time": "2023-04-18T13:15:32.380Z"
   },
   {
    "duration": 16,
    "start_time": "2023-04-18T13:15:32.397Z"
   },
   {
    "duration": 16,
    "start_time": "2023-04-18T13:15:32.414Z"
   },
   {
    "duration": 1236,
    "start_time": "2023-04-18T13:15:32.431Z"
   },
   {
    "duration": 1227,
    "start_time": "2023-04-18T13:15:33.668Z"
   },
   {
    "duration": 1248,
    "start_time": "2023-04-18T13:15:34.897Z"
   },
   {
    "duration": 5,
    "start_time": "2023-04-18T13:15:36.147Z"
   },
   {
    "duration": 9,
    "start_time": "2023-04-18T13:15:36.153Z"
   },
   {
    "duration": 162,
    "start_time": "2023-04-18T13:15:36.163Z"
   },
   {
    "duration": 135,
    "start_time": "2023-04-18T13:15:36.327Z"
   },
   {
    "duration": 222,
    "start_time": "2023-04-18T13:15:36.464Z"
   },
   {
    "duration": 15,
    "start_time": "2023-04-18T14:03:21.236Z"
   },
   {
    "duration": 5,
    "start_time": "2023-04-18T14:03:31.872Z"
   },
   {
    "duration": 5,
    "start_time": "2023-04-18T14:04:03.986Z"
   },
   {
    "duration": 2426,
    "start_time": "2023-04-18T14:04:26.421Z"
   },
   {
    "duration": 429,
    "start_time": "2023-04-18T14:04:28.850Z"
   },
   {
    "duration": 129,
    "start_time": "2023-04-18T14:04:29.281Z"
   },
   {
    "duration": 490,
    "start_time": "2023-04-18T14:04:29.413Z"
   },
   {
    "duration": 405,
    "start_time": "2023-04-18T14:04:29.905Z"
   },
   {
    "duration": 115,
    "start_time": "2023-04-18T14:04:30.312Z"
   },
   {
    "duration": 506,
    "start_time": "2023-04-18T14:04:30.428Z"
   },
   {
    "duration": 476,
    "start_time": "2023-04-18T14:04:30.936Z"
   },
   {
    "duration": 112,
    "start_time": "2023-04-18T14:04:31.414Z"
   },
   {
    "duration": 472,
    "start_time": "2023-04-18T14:04:31.529Z"
   },
   {
    "duration": 348,
    "start_time": "2023-04-18T14:04:32.003Z"
   },
   {
    "duration": 264,
    "start_time": "2023-04-18T14:04:32.353Z"
   },
   {
    "duration": 13,
    "start_time": "2023-04-18T14:04:32.619Z"
   },
   {
    "duration": 50,
    "start_time": "2023-04-18T14:04:32.634Z"
   },
   {
    "duration": 9,
    "start_time": "2023-04-18T14:04:32.685Z"
   },
   {
    "duration": 78,
    "start_time": "2023-04-18T14:04:32.695Z"
   },
   {
    "duration": 116,
    "start_time": "2023-04-18T14:04:32.779Z"
   },
   {
    "duration": 119,
    "start_time": "2023-04-18T14:04:32.964Z"
   },
   {
    "duration": 9,
    "start_time": "2023-04-18T14:04:33.164Z"
   },
   {
    "duration": 21,
    "start_time": "2023-04-18T14:04:33.176Z"
   },
   {
    "duration": 26,
    "start_time": "2023-04-18T14:04:33.199Z"
   },
   {
    "duration": 26,
    "start_time": "2023-04-18T14:04:33.227Z"
   },
   {
    "duration": 16,
    "start_time": "2023-04-18T14:04:33.255Z"
   },
   {
    "duration": 21,
    "start_time": "2023-04-18T14:04:33.274Z"
   },
   {
    "duration": 13,
    "start_time": "2023-04-18T14:04:33.297Z"
   },
   {
    "duration": 15,
    "start_time": "2023-04-18T14:04:33.311Z"
   },
   {
    "duration": 31,
    "start_time": "2023-04-18T14:04:33.328Z"
   },
   {
    "duration": 102,
    "start_time": "2023-04-18T14:04:33.362Z"
   },
   {
    "duration": 16,
    "start_time": "2023-04-18T14:04:33.467Z"
   },
   {
    "duration": 29,
    "start_time": "2023-04-18T14:04:33.485Z"
   },
   {
    "duration": 18,
    "start_time": "2023-04-18T14:04:33.517Z"
   },
   {
    "duration": 29,
    "start_time": "2023-04-18T14:04:33.537Z"
   },
   {
    "duration": 7,
    "start_time": "2023-04-18T14:04:33.569Z"
   },
   {
    "duration": 1632,
    "start_time": "2023-04-18T14:04:33.579Z"
   },
   {
    "duration": 1622,
    "start_time": "2023-04-18T14:04:35.213Z"
   },
   {
    "duration": 1650,
    "start_time": "2023-04-18T14:04:36.838Z"
   },
   {
    "duration": 6,
    "start_time": "2023-04-18T14:04:38.491Z"
   },
   {
    "duration": 9,
    "start_time": "2023-04-18T14:04:38.498Z"
   },
   {
    "duration": 10,
    "start_time": "2023-04-18T14:04:38.509Z"
   },
   {
    "duration": 167,
    "start_time": "2023-04-18T14:04:38.521Z"
   },
   {
    "duration": 161,
    "start_time": "2023-04-18T14:04:38.690Z"
   },
   {
    "duration": 274,
    "start_time": "2023-04-18T14:04:38.853Z"
   }
  ],
  "kernelspec": {
   "display_name": "Python 3 (ipykernel)",
   "language": "python",
   "name": "python3"
  },
  "language_info": {
   "codemirror_mode": {
    "name": "ipython",
    "version": 3
   },
   "file_extension": ".py",
   "mimetype": "text/x-python",
   "name": "python",
   "nbconvert_exporter": "python",
   "pygments_lexer": "ipython3",
   "version": "3.9.5"
  },
  "toc": {
   "base_numbering": 1,
   "nav_menu": {},
   "number_sections": true,
   "sideBar": true,
   "skip_h1_title": true,
   "title_cell": "Table of Contents",
   "title_sidebar": "Contents",
   "toc_cell": false,
   "toc_position": {},
   "toc_section_display": true,
   "toc_window_display": true
  }
 },
 "nbformat": 4,
 "nbformat_minor": 2
}

{
 "cells": [
  {
   "cell_type": "markdown",
   "id": "93915479",
   "metadata": {},
   "source": [
    "# Прогнозирование температуры звезд"
   ]
  },
  {
   "cell_type": "markdown",
   "id": "d112d36b",
   "metadata": {},
   "source": [
    "## Описание проекта"
   ]
  },
  {
   "cell_type": "markdown",
   "id": "8e7c300d",
   "metadata": {},
   "source": [
    "Задача: Построить модель нейронной сети для предсказания температуры звёзд, с показателем RMSE не превышающим 4500:\n",
    "\n",
    "Описание данных:\n",
    "\n",
    "\n",
    "1 Признаки:\n",
    "\n",
    "\n",
    "1.1. Категориальные признаки\n",
    "* Unnamde: 0 - уникальный идентификатор звезды(аналогичен index)\n",
    "* Star type - тип звезды\n",
    "* Star color -цвет звезды на основсе спектрального анализа\n",
    "\n",
    "\n",
    "1.2  Количественные признаки\n",
    "* Luminosity(L/Lo) - Светимость звезды относительно Солнца\n",
    "* Radius(R/Ro) - Радиус звезды относительно радиуса Солнца\n",
    "* Absolute magnitude(Mv) - Физическая величина хараетеризующая блеск звезды\n",
    "\n",
    "\n",
    "\n",
    "\n",
    "2 Целевая переменная:\n",
    "* Temperature (K) - Температура поверхности звезды в кельвинах"
   ]
  },
  {
   "cell_type": "markdown",
   "id": "a747da86",
   "metadata": {},
   "source": [
    "## Импорт библиотек"
   ]
  },
  {
   "cell_type": "code",
   "execution_count": 1,
   "id": "125c3f9e",
   "metadata": {},
   "outputs": [],
   "source": [
    "import pandas as pd\n",
    "import numpy as np\n",
    "import seaborn as sns\n",
    "import matplotlib.pyplot as plt\n",
    "import torch \n",
    "import torch.nn as nn\n",
    "from math import sqrt, ceil\n",
    "import random\n",
    "\n",
    "from sklearn.preprocessing import StandardScaler, OneHotEncoder\n",
    "from sklearn.model_selection import train_test_split\n",
    "\n",
    "from sklearn.metrics import mean_squared_error\n",
    "\n",
    "\n",
    "plt.style.use('dark_background')\n",
    "pd.options.display.float_format = '{:,.5f}'.format \n",
    "\n",
    "\n",
    "random.seed(0)\n",
    "np.random.seed(0)\n",
    "torch.manual_seed(0)\n",
    "torch.use_deterministic_algorithms(True)"
   ]
  },
  {
   "cell_type": "markdown",
   "id": "corresponding-armstrong",
   "metadata": {
    "ExecuteTime": {
     "end_time": "2022-05-05T04:58:05.692448Z",
     "start_time": "2022-05-05T04:58:05.688565Z"
    }
   },
   "source": [
    "## Загрузка  и первичный просмотр данных"
   ]
  },
  {
   "cell_type": "code",
   "execution_count": 2,
   "id": "1990da50",
   "metadata": {},
   "outputs": [],
   "source": [
    "df = pd.read_csv('/datasets/6_class.csv')"
   ]
  },
  {
   "cell_type": "code",
   "execution_count": 3,
   "id": "3f88cccd",
   "metadata": {},
   "outputs": [
    {
     "data": {
      "text/html": [
       "<div>\n",
       "<style scoped>\n",
       "    .dataframe tbody tr th:only-of-type {\n",
       "        vertical-align: middle;\n",
       "    }\n",
       "\n",
       "    .dataframe tbody tr th {\n",
       "        vertical-align: top;\n",
       "    }\n",
       "\n",
       "    .dataframe thead th {\n",
       "        text-align: right;\n",
       "    }\n",
       "</style>\n",
       "<table border=\"1\" class=\"dataframe\">\n",
       "  <thead>\n",
       "    <tr style=\"text-align: right;\">\n",
       "      <th></th>\n",
       "      <th>Unnamed: 0</th>\n",
       "      <th>Temperature (K)</th>\n",
       "      <th>Luminosity(L/Lo)</th>\n",
       "      <th>Radius(R/Ro)</th>\n",
       "      <th>Absolute magnitude(Mv)</th>\n",
       "      <th>Star type</th>\n",
       "      <th>Star color</th>\n",
       "    </tr>\n",
       "  </thead>\n",
       "  <tbody>\n",
       "    <tr>\n",
       "      <th>0</th>\n",
       "      <td>0</td>\n",
       "      <td>3068</td>\n",
       "      <td>0.00240</td>\n",
       "      <td>0.17000</td>\n",
       "      <td>16.12000</td>\n",
       "      <td>0</td>\n",
       "      <td>Red</td>\n",
       "    </tr>\n",
       "    <tr>\n",
       "      <th>1</th>\n",
       "      <td>1</td>\n",
       "      <td>3042</td>\n",
       "      <td>0.00050</td>\n",
       "      <td>0.15420</td>\n",
       "      <td>16.60000</td>\n",
       "      <td>0</td>\n",
       "      <td>Red</td>\n",
       "    </tr>\n",
       "  </tbody>\n",
       "</table>\n",
       "</div>"
      ],
      "text/plain": [
       "   Unnamed: 0  Temperature (K)  Luminosity(L/Lo)  Radius(R/Ro)  \\\n",
       "0           0             3068           0.00240       0.17000   \n",
       "1           1             3042           0.00050       0.15420   \n",
       "\n",
       "   Absolute magnitude(Mv)  Star type Star color  \n",
       "0                16.12000          0        Red  \n",
       "1                16.60000          0        Red  "
      ]
     },
     "metadata": {},
     "output_type": "display_data"
    },
    {
     "data": {
      "text/html": [
       "<div>\n",
       "<style scoped>\n",
       "    .dataframe tbody tr th:only-of-type {\n",
       "        vertical-align: middle;\n",
       "    }\n",
       "\n",
       "    .dataframe tbody tr th {\n",
       "        vertical-align: top;\n",
       "    }\n",
       "\n",
       "    .dataframe thead th {\n",
       "        text-align: right;\n",
       "    }\n",
       "</style>\n",
       "<table border=\"1\" class=\"dataframe\">\n",
       "  <thead>\n",
       "    <tr style=\"text-align: right;\">\n",
       "      <th></th>\n",
       "      <th>Unnamed: 0</th>\n",
       "      <th>Temperature (K)</th>\n",
       "      <th>Luminosity(L/Lo)</th>\n",
       "      <th>Radius(R/Ro)</th>\n",
       "      <th>Absolute magnitude(Mv)</th>\n",
       "      <th>Star type</th>\n",
       "      <th>Star color</th>\n",
       "    </tr>\n",
       "  </thead>\n",
       "  <tbody>\n",
       "    <tr>\n",
       "      <th>238</th>\n",
       "      <td>238</td>\n",
       "      <td>9235</td>\n",
       "      <td>404,940.00000</td>\n",
       "      <td>1,112.00000</td>\n",
       "      <td>-11.23000</td>\n",
       "      <td>5</td>\n",
       "      <td>White</td>\n",
       "    </tr>\n",
       "    <tr>\n",
       "      <th>239</th>\n",
       "      <td>239</td>\n",
       "      <td>37882</td>\n",
       "      <td>294,903.00000</td>\n",
       "      <td>1,783.00000</td>\n",
       "      <td>-7.80000</td>\n",
       "      <td>5</td>\n",
       "      <td>Blue</td>\n",
       "    </tr>\n",
       "  </tbody>\n",
       "</table>\n",
       "</div>"
      ],
      "text/plain": [
       "     Unnamed: 0  Temperature (K)  Luminosity(L/Lo)  Radius(R/Ro)  \\\n",
       "238         238             9235     404,940.00000   1,112.00000   \n",
       "239         239            37882     294,903.00000   1,783.00000   \n",
       "\n",
       "     Absolute magnitude(Mv)  Star type Star color  \n",
       "238               -11.23000          5      White  \n",
       "239                -7.80000          5       Blue  "
      ]
     },
     "metadata": {},
     "output_type": "display_data"
    }
   ],
   "source": [
    "display(df.head(2))\n",
    "display(df.tail(2))"
   ]
  },
  {
   "cell_type": "code",
   "execution_count": 4,
   "id": "e31ce1b6",
   "metadata": {},
   "outputs": [
    {
     "name": "stdout",
     "output_type": "stream",
     "text": [
      "<class 'pandas.core.frame.DataFrame'>\n",
      "RangeIndex: 240 entries, 0 to 239\n",
      "Data columns (total 7 columns):\n",
      " #   Column                  Non-Null Count  Dtype  \n",
      "---  ------                  --------------  -----  \n",
      " 0   Unnamed: 0              240 non-null    int64  \n",
      " 1   Temperature (K)         240 non-null    int64  \n",
      " 2   Luminosity(L/Lo)        240 non-null    float64\n",
      " 3   Radius(R/Ro)            240 non-null    float64\n",
      " 4   Absolute magnitude(Mv)  240 non-null    float64\n",
      " 5   Star type               240 non-null    int64  \n",
      " 6   Star color              240 non-null    object \n",
      "dtypes: float64(3), int64(3), object(1)\n",
      "memory usage: 13.2+ KB\n"
     ]
    }
   ],
   "source": [
    "df.info()"
   ]
  },
  {
   "cell_type": "code",
   "execution_count": 5,
   "id": "9f3ef7bb",
   "metadata": {},
   "outputs": [
    {
     "data": {
      "text/html": [
       "<div>\n",
       "<style scoped>\n",
       "    .dataframe tbody tr th:only-of-type {\n",
       "        vertical-align: middle;\n",
       "    }\n",
       "\n",
       "    .dataframe tbody tr th {\n",
       "        vertical-align: top;\n",
       "    }\n",
       "\n",
       "    .dataframe thead th {\n",
       "        text-align: right;\n",
       "    }\n",
       "</style>\n",
       "<table border=\"1\" class=\"dataframe\">\n",
       "  <thead>\n",
       "    <tr style=\"text-align: right;\">\n",
       "      <th></th>\n",
       "      <th>Unnamed: 0</th>\n",
       "      <th>Temperature (K)</th>\n",
       "      <th>Luminosity(L/Lo)</th>\n",
       "      <th>Radius(R/Ro)</th>\n",
       "      <th>Absolute magnitude(Mv)</th>\n",
       "      <th>Star type</th>\n",
       "    </tr>\n",
       "  </thead>\n",
       "  <tbody>\n",
       "    <tr>\n",
       "      <th>count</th>\n",
       "      <td>240.00000</td>\n",
       "      <td>240.00000</td>\n",
       "      <td>240.00000</td>\n",
       "      <td>240.00000</td>\n",
       "      <td>240.00000</td>\n",
       "      <td>240.00000</td>\n",
       "    </tr>\n",
       "    <tr>\n",
       "      <th>mean</th>\n",
       "      <td>119.50000</td>\n",
       "      <td>10,497.46250</td>\n",
       "      <td>107,188.36163</td>\n",
       "      <td>237.15778</td>\n",
       "      <td>4.38240</td>\n",
       "      <td>2.50000</td>\n",
       "    </tr>\n",
       "    <tr>\n",
       "      <th>std</th>\n",
       "      <td>69.42622</td>\n",
       "      <td>9,552.42504</td>\n",
       "      <td>179,432.24494</td>\n",
       "      <td>517.15576</td>\n",
       "      <td>10.53251</td>\n",
       "      <td>1.71139</td>\n",
       "    </tr>\n",
       "    <tr>\n",
       "      <th>min</th>\n",
       "      <td>0.00000</td>\n",
       "      <td>1,939.00000</td>\n",
       "      <td>0.00008</td>\n",
       "      <td>0.00840</td>\n",
       "      <td>-11.92000</td>\n",
       "      <td>0.00000</td>\n",
       "    </tr>\n",
       "    <tr>\n",
       "      <th>25%</th>\n",
       "      <td>59.75000</td>\n",
       "      <td>3,344.25000</td>\n",
       "      <td>0.00086</td>\n",
       "      <td>0.10275</td>\n",
       "      <td>-6.23250</td>\n",
       "      <td>1.00000</td>\n",
       "    </tr>\n",
       "    <tr>\n",
       "      <th>50%</th>\n",
       "      <td>119.50000</td>\n",
       "      <td>5,776.00000</td>\n",
       "      <td>0.07050</td>\n",
       "      <td>0.76250</td>\n",
       "      <td>8.31300</td>\n",
       "      <td>2.50000</td>\n",
       "    </tr>\n",
       "    <tr>\n",
       "      <th>75%</th>\n",
       "      <td>179.25000</td>\n",
       "      <td>15,055.50000</td>\n",
       "      <td>198,050.00000</td>\n",
       "      <td>42.75000</td>\n",
       "      <td>13.69750</td>\n",
       "      <td>4.00000</td>\n",
       "    </tr>\n",
       "    <tr>\n",
       "      <th>max</th>\n",
       "      <td>239.00000</td>\n",
       "      <td>40,000.00000</td>\n",
       "      <td>849,420.00000</td>\n",
       "      <td>1,948.50000</td>\n",
       "      <td>20.06000</td>\n",
       "      <td>5.00000</td>\n",
       "    </tr>\n",
       "  </tbody>\n",
       "</table>\n",
       "</div>"
      ],
      "text/plain": [
       "       Unnamed: 0  Temperature (K)  Luminosity(L/Lo)  Radius(R/Ro)  \\\n",
       "count   240.00000        240.00000         240.00000     240.00000   \n",
       "mean    119.50000     10,497.46250     107,188.36163     237.15778   \n",
       "std      69.42622      9,552.42504     179,432.24494     517.15576   \n",
       "min       0.00000      1,939.00000           0.00008       0.00840   \n",
       "25%      59.75000      3,344.25000           0.00086       0.10275   \n",
       "50%     119.50000      5,776.00000           0.07050       0.76250   \n",
       "75%     179.25000     15,055.50000     198,050.00000      42.75000   \n",
       "max     239.00000     40,000.00000     849,420.00000   1,948.50000   \n",
       "\n",
       "       Absolute magnitude(Mv)  Star type  \n",
       "count               240.00000  240.00000  \n",
       "mean                  4.38240    2.50000  \n",
       "std                  10.53251    1.71139  \n",
       "min                 -11.92000    0.00000  \n",
       "25%                  -6.23250    1.00000  \n",
       "50%                   8.31300    2.50000  \n",
       "75%                  13.69750    4.00000  \n",
       "max                  20.06000    5.00000  "
      ]
     },
     "execution_count": 5,
     "metadata": {},
     "output_type": "execute_result"
    }
   ],
   "source": [
    "df.describe()"
   ]
  },
  {
   "cell_type": "code",
   "execution_count": 6,
   "id": "847b251b",
   "metadata": {},
   "outputs": [
    {
     "data": {
      "text/plain": [
       "Unnamed: 0                0\n",
       "Temperature (K)           0\n",
       "Luminosity(L/Lo)          0\n",
       "Radius(R/Ro)              0\n",
       "Absolute magnitude(Mv)    0\n",
       "Star type                 0\n",
       "Star color                0\n",
       "dtype: int64"
      ]
     },
     "execution_count": 6,
     "metadata": {},
     "output_type": "execute_result"
    }
   ],
   "source": [
    "df.isna().sum()"
   ]
  },
  {
   "cell_type": "code",
   "execution_count": 7,
   "id": "a3ef81ae",
   "metadata": {},
   "outputs": [
    {
     "data": {
      "text/plain": [
       "0"
      ]
     },
     "execution_count": 7,
     "metadata": {},
     "output_type": "execute_result"
    }
   ],
   "source": [
    "df.duplicated().sum()"
   ]
  },
  {
   "cell_type": "code",
   "execution_count": 8,
   "id": "d4320197",
   "metadata": {},
   "outputs": [
    {
     "data": {
      "text/plain": [
       "<AxesSubplot:>"
      ]
     },
     "execution_count": 8,
     "metadata": {},
     "output_type": "execute_result"
    },
    {
     "data": {
      "image/png": "[encoded data removed]",
      "text/plain": [
       "<Figure size 1224x504 with 1 Axes>"
      ]
     },
     "metadata": {},
     "output_type": "display_data"
    }
   ],
   "source": [
    "df['Star color'].value_counts().plot(kind = 'bar', figsize = (17,7))"
   ]
  },
  {
   "cell_type": "markdown",
   "id": "d05be2b9",
   "metadata": {},
   "source": [
    "Цвет звезды имеет спектральную зависимотсть от её температуры, поэтому, эквивалентную замену значений числами лучше проводить вручную"
   ]
  },
  {
   "cell_type": "markdown",
   "id": "042a9eb0",
   "metadata": {},
   "source": [
    "### Сводка по первичному осмотру."
   ]
  },
  {
   "cell_type": "markdown",
   "id": "0a31324b",
   "metadata": {},
   "source": [
    "\n",
    "* Набор данных включает в себя 240 образцов звезд с признакми различного масштаба и качества.\n",
    "* В глобальном масштабе пропусков и дубликатов в данных не обнаружено."
   ]
  },
  {
   "cell_type": "markdown",
   "id": "simple-subdivision",
   "metadata": {},
   "source": [
    "## Предобработка и анализ данных"
   ]
  },
  {
   "cell_type": "markdown",
   "id": "d6c85409",
   "metadata": {},
   "source": [
    "В этой часте будет дана более подробная сводка по каждому определяющему свойству звёзд:"
   ]
  },
  {
   "cell_type": "markdown",
   "id": "c581f470",
   "metadata": {},
   "source": [
    "### Изменение названий столбцов"
   ]
  },
  {
   "cell_type": "markdown",
   "id": "638c9946",
   "metadata": {},
   "source": [
    "Для удобства дальнейшего манипулирования, с сохранениием смысловой нагрузки"
   ]
  },
  {
   "cell_type": "code",
   "execution_count": 9,
   "id": "flush-dream",
   "metadata": {},
   "outputs": [
    {
     "data": {
      "text/plain": [
       "Index(['unnamed', 'temperature', 'luminosity', 'radius', 'magnitude', 'type',\n",
       "       'color'],\n",
       "      dtype='object')"
      ]
     },
     "execution_count": 9,
     "metadata": {},
     "output_type": "execute_result"
    }
   ],
   "source": [
    "df = df.rename(columns = {'Unnamed: 0': 'unnamed',\n",
    "                          'Temperature (K)':'temperature',\n",
    "                         'Luminosity(L/Lo)':'luminosity',\n",
    "                         'Radius(R/Ro)':'radius',\n",
    "                         'Absolute magnitude(Mv)':'magnitude',\n",
    "                         'Star type':'type',\n",
    "                         'Star color':'color'})\n",
    "\n",
    "df.columns"
   ]
  },
  {
   "cell_type": "markdown",
   "id": "f1a1478d",
   "metadata": {},
   "source": [
    "### Unnamed"
   ]
  },
  {
   "cell_type": "markdown",
   "id": "73ef8c9c",
   "metadata": {},
   "source": [
    "Удаление данного столбца обусловлено его полной заместимостью обысным индексом:"
   ]
  },
  {
   "cell_type": "code",
   "execution_count": 10,
   "id": "c9188320",
   "metadata": {},
   "outputs": [],
   "source": [
    "df = df.drop(columns = ['unnamed'])"
   ]
  },
  {
   "cell_type": "markdown",
   "id": "d770b295",
   "metadata": {},
   "source": [
    "### Luminosity(L/Lo) & Radius(R/Ro)  & Absolute magnitude(Mv)"
   ]
  },
  {
   "cell_type": "code",
   "execution_count": 11,
   "id": "e86b9c99",
   "metadata": {
    "scrolled": false
   },
   "outputs": [
    {
     "data": {
      "text/plain": [
       "<AxesSubplot:>"
      ]
     },
     "execution_count": 11,
     "metadata": {},
     "output_type": "execute_result"
    },
    {
     "data": {
      "image/png": "[encoded data removed]",
      "text/plain": [
       "<Figure size 1080x432 with 1 Axes>"
      ]
     },
     "metadata": {},
     "output_type": "display_data"
    }
   ],
   "source": [
    "df['luminosity'].sort_values().reset_index(drop = True).plot(color = 'gold', figsize = (15,6))"
   ]
  },
  {
   "cell_type": "code",
   "execution_count": 12,
   "id": "83b3c928",
   "metadata": {},
   "outputs": [
    {
     "data": {
      "text/plain": [
       "<AxesSubplot:>"
      ]
     },
     "execution_count": 12,
     "metadata": {},
     "output_type": "execute_result"
    },
    {
     "data": {
      "image/png": "[encoded data removed]",
      "text/plain": [
       "<Figure size 432x288 with 1 Axes>"
      ]
     },
     "metadata": {},
     "output_type": "display_data"
    }
   ],
   "source": [
    "sns.boxplot(data = df['luminosity'])"
   ]
  },
  {
   "cell_type": "code",
   "execution_count": 13,
   "id": "b53c4d23",
   "metadata": {},
   "outputs": [
    {
     "data": {
      "text/plain": [
       "<AxesSubplot:>"
      ]
     },
     "execution_count": 13,
     "metadata": {},
     "output_type": "execute_result"
    },
    {
     "data": {
      "image/png": "[encoded data removed]",
      "text/plain": [
       "<Figure size 1080x432 with 1 Axes>"
      ]
     },
     "metadata": {},
     "output_type": "display_data"
    }
   ],
   "source": [
    "df['radius'].sort_values().reset_index(drop = True).plot(color = 'gold', figsize = (15,6))"
   ]
  },
  {
   "cell_type": "code",
   "execution_count": 14,
   "id": "5e28c73b",
   "metadata": {},
   "outputs": [
    {
     "data": {
      "text/plain": [
       "<AxesSubplot:>"
      ]
     },
     "execution_count": 14,
     "metadata": {},
     "output_type": "execute_result"
    },
    {
     "data": {
      "image/png": "[encoded data removed]",
      "text/plain": [
       "<Figure size 432x288 with 1 Axes>"
      ]
     },
     "metadata": {},
     "output_type": "display_data"
    }
   ],
   "source": [
    "sns.boxplot(data = df['radius'])"
   ]
  },
  {
   "cell_type": "code",
   "execution_count": 15,
   "id": "93af1a55",
   "metadata": {},
   "outputs": [
    {
     "data": {
      "text/plain": [
       "<AxesSubplot:>"
      ]
     },
     "execution_count": 15,
     "metadata": {},
     "output_type": "execute_result"
    },
    {
     "data": {
      "image/png": "[encoded data removed]",
      "text/plain": [
       "<Figure size 1080x432 with 1 Axes>"
      ]
     },
     "metadata": {},
     "output_type": "display_data"
    }
   ],
   "source": [
    "df['magnitude'].sort_values().reset_index(drop = True).plot(color='gold', figsize =(15,6))"
   ]
  },
  {
   "cell_type": "code",
   "execution_count": 16,
   "id": "04b57639",
   "metadata": {},
   "outputs": [
    {
     "data": {
      "text/plain": [
       "<AxesSubplot:>"
      ]
     },
     "execution_count": 16,
     "metadata": {},
     "output_type": "execute_result"
    },
    {
     "data": {
      "image/png": "[encoded data removed]",
      "text/plain": [
       "<Figure size 432x288 with 1 Axes>"
      ]
     },
     "metadata": {},
     "output_type": "display_data"
    }
   ],
   "source": [
    "sns.boxplot(data = df['magnitude'])"
   ]
  },
  {
   "cell_type": "markdown",
   "id": "2ba2431b",
   "metadata": {},
   "source": [
    "#### ~~StandartScaler~~"
   ]
  },
  {
   "cell_type": "markdown",
   "id": "c3ef271d",
   "metadata": {},
   "source": [
    "Светимость и яркость значительна только для определенного объема звезд, остальные близятся к солнечной"
   ]
  },
  {
   "cell_type": "markdown",
   "id": "9f84cd70",
   "metadata": {},
   "source": [
    "Количественный разброс между столбцами может помешать адекватно выстраивать значимось между показателями разных столбцов, поэтому -  приведем их к близким разбросам"
   ]
  },
  {
   "cell_type": "code",
   "execution_count": 17,
   "id": "26314e5c",
   "metadata": {},
   "outputs": [
    {
     "data": {
      "text/plain": [
       "\"std_col = ['luminosity','radius','magnitude']\\n\\nsc = StandardScaler()\\nsc.fit(df[std_col])\\ndf[std_col] = sc.transform(df[std_col])\\n\\ndf[std_col].describe()\\n\\n\""
      ]
     },
     "execution_count": 17,
     "metadata": {},
     "output_type": "execute_result"
    }
   ],
   "source": [
    "'''std_col = ['luminosity','radius','magnitude']\n",
    "\n",
    "sc = StandardScaler()\n",
    "sc.fit(df[std_col])\n",
    "df[std_col] = sc.transform(df[std_col])\n",
    "\n",
    "df[std_col].describe()\n",
    "\n",
    "'''\n"
   ]
  },
  {
   "cell_type": "markdown",
   "id": "087b454c",
   "metadata": {},
   "source": [
    "### Star type   "
   ]
  },
  {
   "cell_type": "code",
   "execution_count": 18,
   "id": "38112ef6",
   "metadata": {},
   "outputs": [
    {
     "data": {
      "text/plain": [
       "<AxesSubplot:>"
      ]
     },
     "execution_count": 18,
     "metadata": {},
     "output_type": "execute_result"
    },
    {
     "data": {
      "image/png": "[encoded data removed]",
      "text/plain": [
       "<Figure size 576x360 with 1 Axes>"
      ]
     },
     "metadata": {},
     "output_type": "display_data"
    }
   ],
   "source": [
    "df['type'].value_counts().plot(kind = 'bar', color = ['brown','red','white','cyan','blue','violet'],\n",
    "                               alpha = 0.8, figsize = (8,5))\n"
   ]
  },
  {
   "cell_type": "markdown",
   "id": "7df84df0",
   "metadata": {},
   "source": [
    "#### ~~Трансформация категориальных признаков в числовые~~"
   ]
  },
  {
   "cell_type": "code",
   "execution_count": 19,
   "id": "d12bf81d",
   "metadata": {},
   "outputs": [
    {
     "data": {
      "text/plain": [
       "\"df_onehot = df.copy()\\ntype_ohe = OneHotEncoder(handle_unknown = 'ignore', sparse = False)\\ndf_onehot = pd.DataFrame(type_ohe.fit_transform(df_onehot[['type']]))\\n\\ndf = df.drop(columns = ['type'])\\ndf = df.join(df_onehot, how = 'left')\""
      ]
     },
     "execution_count": 19,
     "metadata": {},
     "output_type": "execute_result"
    }
   ],
   "source": [
    "'''df_onehot = df.copy()\n",
    "type_ohe = OneHotEncoder(handle_unknown = 'ignore', sparse = False)\n",
    "df_onehot = pd.DataFrame(type_ohe.fit_transform(df_onehot[['type']]))\n",
    "\n",
    "df = df.drop(columns = ['type'])\n",
    "df = df.join(df_onehot, how = 'left')'''"
   ]
  },
  {
   "cell_type": "markdown",
   "id": "72ac0f38",
   "metadata": {},
   "source": [
    "### Star color "
   ]
  },
  {
   "cell_type": "code",
   "execution_count": 20,
   "id": "da703255",
   "metadata": {},
   "outputs": [
    {
     "data": {
      "text/plain": [
       "array(['Red', 'Blue White', 'White', 'Yellowish White', 'Blue white',\n",
       "       'Pale yellow orange', 'Blue', 'Blue-white', 'Whitish',\n",
       "       'yellow-white', 'Orange', 'White-Yellow', 'white', 'Blue ',\n",
       "       'yellowish', 'Yellowish', 'Orange-Red', 'Blue white ',\n",
       "       'Blue-White'], dtype=object)"
      ]
     },
     "execution_count": 20,
     "metadata": {},
     "output_type": "execute_result"
    }
   ],
   "source": [
    "df['color'].unique()"
   ]
  },
  {
   "cell_type": "markdown",
   "id": "79dad83e",
   "metadata": {},
   "source": [
    "#### Удаление дубликатов и кодирование:"
   ]
  },
  {
   "cell_type": "code",
   "execution_count": 21,
   "id": "34e7a782",
   "metadata": {},
   "outputs": [
    {
     "data": {
      "text/plain": [
       "red                 112\n",
       "blue                 56\n",
       "bluewhite            41\n",
       "white                10\n",
       "yellowwhite           8\n",
       "yellowishwhite        3\n",
       "yellowish             3\n",
       "orange                2\n",
       "whitish               2\n",
       "orangered             1\n",
       "whiteyellow           1\n",
       "paleyelloworange      1\n",
       "Name: color, dtype: int64"
      ]
     },
     "execution_count": 21,
     "metadata": {},
     "output_type": "execute_result"
    }
   ],
   "source": [
    "df['color'] = df['color'].str.strip(' ')\n",
    "df['color'] = df['color'].str.lower()\n",
    "df['color'] = df['color'].str.replace('-','')\n",
    "df['color'] = df['color'].str.replace(' ','')\n",
    "df['color'].value_counts()"
   ]
  },
  {
   "cell_type": "code",
   "execution_count": 22,
   "id": "51cd4900",
   "metadata": {
    "scrolled": false
   },
   "outputs": [
    {
     "data": {
      "text/plain": [
       "<AxesSubplot:>"
      ]
     },
     "execution_count": 22,
     "metadata": {},
     "output_type": "execute_result"
    },
    {
     "data": {
      "image/png": "[encoded data removed]",
      "text/plain": [
       "<Figure size 864x288 with 1 Axes>"
      ]
     },
     "metadata": {},
     "output_type": "display_data"
    }
   ],
   "source": [
    "df = df.replace({'color':{'red':0.1,'orangered':0.2,\n",
    "                           'orange':0.3,'paleyelloworange':0.4,\n",
    "                           'yellow':0.5,'yellowwhite':0.6,\n",
    "                          'yellowishwhite':0.6,'yellowish':0.6,\n",
    "                          'whiteyellow':0.6,'whitish':0.6,'white':0.7,\n",
    "                          'bluewhite':0.8,'blue':0.9}})\n",
    "\n",
    "df['color'].value_counts().plot(kind = 'bar',figsize = (12,4))"
   ]
  },
  {
   "cell_type": "markdown",
   "id": "059986fe",
   "metadata": {},
   "source": [
    "### Разбиение на выборки:"
   ]
  },
  {
   "cell_type": "code",
   "execution_count": 23,
   "id": "118b2d08",
   "metadata": {},
   "outputs": [],
   "source": [
    "Y = df['temperature']\n",
    "X = df.drop(columns = ['temperature'])\n",
    "\n",
    "x_train, x_test, y_train, y_test = train_test_split(X,Y,\n",
    "                                                    test_size = 0.25,\n",
    "                                                    shuffle = True,\n",
    "                                                    random_state = 1667)"
   ]
  },
  {
   "cell_type": "markdown",
   "id": "5e664c88",
   "metadata": {},
   "source": [
    "### **Стандартизация и кодирование переменных:**"
   ]
  },
  {
   "cell_type": "markdown",
   "id": "9a2172c4",
   "metadata": {},
   "source": [
    "#### **StandardScaler**"
   ]
  },
  {
   "cell_type": "markdown",
   "id": "06cf3174",
   "metadata": {},
   "source": [
    "**Приведение значений Luminosity, Radius, Absolute magnitude к близкому друг к другу разбросу значений**"
   ]
  },
  {
   "cell_type": "code",
   "execution_count": 24,
   "id": "c927c60d",
   "metadata": {},
   "outputs": [],
   "source": [
    "std_col = ['luminosity','radius','magnitude']"
   ]
  },
  {
   "cell_type": "markdown",
   "id": "1f9f95c4",
   "metadata": {},
   "source": [
    "* Обучение и преобразование на тренировочной выборке"
   ]
  },
  {
   "cell_type": "code",
   "execution_count": 25,
   "id": "ed544f5f",
   "metadata": {},
   "outputs": [
    {
     "name": "stderr",
     "output_type": "stream",
     "text": [
      "/tmp/ipykernel_107/1170013715.py:3: SettingWithCopyWarning: \n",
      "A value is trying to be set on a copy of a slice from a DataFrame.\n",
      "Try using .loc[row_indexer,col_indexer] = value instead\n",
      "\n",
      "See the caveats in the documentation: https://pandas.pydata.org/pandas-docs/stable/user_guide/indexing.html#returning-a-view-versus-a-copy\n",
      "  x_train[std_col] = sc.transform(x_train[std_col])\n",
      "/opt/conda/lib/python3.9/site-packages/pandas/core/indexing.py:1738: SettingWithCopyWarning: \n",
      "A value is trying to be set on a copy of a slice from a DataFrame.\n",
      "Try using .loc[row_indexer,col_indexer] = value instead\n",
      "\n",
      "See the caveats in the documentation: https://pandas.pydata.org/pandas-docs/stable/user_guide/indexing.html#returning-a-view-versus-a-copy\n",
      "  self._setitem_single_column(loc, value[:, i].tolist(), pi)\n"
     ]
    },
    {
     "data": {
      "text/html": [
       "<div>\n",
       "<style scoped>\n",
       "    .dataframe tbody tr th:only-of-type {\n",
       "        vertical-align: middle;\n",
       "    }\n",
       "\n",
       "    .dataframe tbody tr th {\n",
       "        vertical-align: top;\n",
       "    }\n",
       "\n",
       "    .dataframe thead th {\n",
       "        text-align: right;\n",
       "    }\n",
       "</style>\n",
       "<table border=\"1\" class=\"dataframe\">\n",
       "  <thead>\n",
       "    <tr style=\"text-align: right;\">\n",
       "      <th></th>\n",
       "      <th>luminosity</th>\n",
       "      <th>radius</th>\n",
       "      <th>magnitude</th>\n",
       "      <th>type</th>\n",
       "      <th>color</th>\n",
       "    </tr>\n",
       "  </thead>\n",
       "  <tbody>\n",
       "    <tr>\n",
       "      <th>count</th>\n",
       "      <td>180.00000</td>\n",
       "      <td>180.00000</td>\n",
       "      <td>180.00000</td>\n",
       "      <td>180.00000</td>\n",
       "      <td>180.00000</td>\n",
       "    </tr>\n",
       "    <tr>\n",
       "      <th>mean</th>\n",
       "      <td>0.00000</td>\n",
       "      <td>0.00000</td>\n",
       "      <td>-0.00000</td>\n",
       "      <td>2.53333</td>\n",
       "      <td>0.49611</td>\n",
       "    </tr>\n",
       "    <tr>\n",
       "      <th>std</th>\n",
       "      <td>1.00279</td>\n",
       "      <td>1.00279</td>\n",
       "      <td>1.00279</td>\n",
       "      <td>1.65249</td>\n",
       "      <td>0.36254</td>\n",
       "    </tr>\n",
       "    <tr>\n",
       "      <th>min</th>\n",
       "      <td>-0.60025</td>\n",
       "      <td>-0.44275</td>\n",
       "      <td>-1.55946</td>\n",
       "      <td>0.00000</td>\n",
       "      <td>0.10000</td>\n",
       "    </tr>\n",
       "    <tr>\n",
       "      <th>25%</th>\n",
       "      <td>-0.60025</td>\n",
       "      <td>-0.44254</td>\n",
       "      <td>-0.99508</td>\n",
       "      <td>1.00000</td>\n",
       "      <td>0.10000</td>\n",
       "    </tr>\n",
       "    <tr>\n",
       "      <th>50%</th>\n",
       "      <td>-0.60025</td>\n",
       "      <td>-0.44096</td>\n",
       "      <td>0.17960</td>\n",
       "      <td>3.00000</td>\n",
       "      <td>0.60000</td>\n",
       "    </tr>\n",
       "    <tr>\n",
       "      <th>75%</th>\n",
       "      <td>0.53078</td>\n",
       "      <td>-0.37076</td>\n",
       "      <td>0.87277</td>\n",
       "      <td>4.00000</td>\n",
       "      <td>0.90000</td>\n",
       "    </tr>\n",
       "    <tr>\n",
       "      <th>max</th>\n",
       "      <td>4.25065</td>\n",
       "      <td>3.19111</td>\n",
       "      <td>1.54052</td>\n",
       "      <td>5.00000</td>\n",
       "      <td>0.90000</td>\n",
       "    </tr>\n",
       "  </tbody>\n",
       "</table>\n",
       "</div>"
      ],
      "text/plain": [
       "       luminosity    radius  magnitude      type     color\n",
       "count   180.00000 180.00000  180.00000 180.00000 180.00000\n",
       "mean      0.00000   0.00000   -0.00000   2.53333   0.49611\n",
       "std       1.00279   1.00279    1.00279   1.65249   0.36254\n",
       "min      -0.60025  -0.44275   -1.55946   0.00000   0.10000\n",
       "25%      -0.60025  -0.44254   -0.99508   1.00000   0.10000\n",
       "50%      -0.60025  -0.44096    0.17960   3.00000   0.60000\n",
       "75%       0.53078  -0.37076    0.87277   4.00000   0.90000\n",
       "max       4.25065   3.19111    1.54052   5.00000   0.90000"
      ]
     },
     "execution_count": 25,
     "metadata": {},
     "output_type": "execute_result"
    }
   ],
   "source": [
    "sc = StandardScaler()\n",
    "sc.fit(x_train[std_col])\n",
    "x_train[std_col] = sc.transform(x_train[std_col])\n",
    "\n",
    "x_train.describe()"
   ]
  },
  {
   "cell_type": "markdown",
   "id": "e81b02fa",
   "metadata": {},
   "source": [
    "* Трансформация тестовой выборки "
   ]
  },
  {
   "cell_type": "code",
   "execution_count": 26,
   "id": "b09dd9b4",
   "metadata": {},
   "outputs": [
    {
     "name": "stderr",
     "output_type": "stream",
     "text": [
      "/tmp/ipykernel_107/2492768391.py:1: SettingWithCopyWarning: \n",
      "A value is trying to be set on a copy of a slice from a DataFrame.\n",
      "Try using .loc[row_indexer,col_indexer] = value instead\n",
      "\n",
      "See the caveats in the documentation: https://pandas.pydata.org/pandas-docs/stable/user_guide/indexing.html#returning-a-view-versus-a-copy\n",
      "  x_test[std_col] = sc.transform(x_test[std_col])\n",
      "/opt/conda/lib/python3.9/site-packages/pandas/core/indexing.py:1738: SettingWithCopyWarning: \n",
      "A value is trying to be set on a copy of a slice from a DataFrame.\n",
      "Try using .loc[row_indexer,col_indexer] = value instead\n",
      "\n",
      "See the caveats in the documentation: https://pandas.pydata.org/pandas-docs/stable/user_guide/indexing.html#returning-a-view-versus-a-copy\n",
      "  self._setitem_single_column(loc, value[:, i].tolist(), pi)\n"
     ]
    },
    {
     "data": {
      "text/html": [
       "<div>\n",
       "<style scoped>\n",
       "    .dataframe tbody tr th:only-of-type {\n",
       "        vertical-align: middle;\n",
       "    }\n",
       "\n",
       "    .dataframe tbody tr th {\n",
       "        vertical-align: top;\n",
       "    }\n",
       "\n",
       "    .dataframe thead th {\n",
       "        text-align: right;\n",
       "    }\n",
       "</style>\n",
       "<table border=\"1\" class=\"dataframe\">\n",
       "  <thead>\n",
       "    <tr style=\"text-align: right;\">\n",
       "      <th></th>\n",
       "      <th>luminosity</th>\n",
       "      <th>radius</th>\n",
       "      <th>magnitude</th>\n",
       "      <th>type</th>\n",
       "      <th>color</th>\n",
       "    </tr>\n",
       "  </thead>\n",
       "  <tbody>\n",
       "    <tr>\n",
       "      <th>count</th>\n",
       "      <td>60.00000</td>\n",
       "      <td>60.00000</td>\n",
       "      <td>60.00000</td>\n",
       "      <td>60.00000</td>\n",
       "      <td>60.00000</td>\n",
       "    </tr>\n",
       "    <tr>\n",
       "      <th>mean</th>\n",
       "      <td>0.04753</td>\n",
       "      <td>0.16666</td>\n",
       "      <td>0.09116</td>\n",
       "      <td>2.40000</td>\n",
       "      <td>0.39167</td>\n",
       "    </tr>\n",
       "    <tr>\n",
       "      <th>std</th>\n",
       "      <td>1.09587</td>\n",
       "      <td>1.20349</td>\n",
       "      <td>1.08438</td>\n",
       "      <td>1.88841</td>\n",
       "      <td>0.34655</td>\n",
       "    </tr>\n",
       "    <tr>\n",
       "      <th>min</th>\n",
       "      <td>-0.60025</td>\n",
       "      <td>-0.44275</td>\n",
       "      <td>-1.50511</td>\n",
       "      <td>0.00000</td>\n",
       "      <td>0.10000</td>\n",
       "    </tr>\n",
       "    <tr>\n",
       "      <th>25%</th>\n",
       "      <td>-0.60025</td>\n",
       "      <td>-0.44257</td>\n",
       "      <td>-1.06544</td>\n",
       "      <td>0.75000</td>\n",
       "      <td>0.10000</td>\n",
       "    </tr>\n",
       "    <tr>\n",
       "      <th>50%</th>\n",
       "      <td>-0.60025</td>\n",
       "      <td>-0.44166</td>\n",
       "      <td>0.65245</td>\n",
       "      <td>2.00000</td>\n",
       "      <td>0.10000</td>\n",
       "    </tr>\n",
       "    <tr>\n",
       "      <th>75%</th>\n",
       "      <td>0.52050</td>\n",
       "      <td>-0.27731</td>\n",
       "      <td>1.07440</td>\n",
       "      <td>4.00000</td>\n",
       "      <td>0.80000</td>\n",
       "    </tr>\n",
       "    <tr>\n",
       "      <th>max</th>\n",
       "      <td>3.67425</td>\n",
       "      <td>3.53734</td>\n",
       "      <td>1.54440</td>\n",
       "      <td>5.00000</td>\n",
       "      <td>0.90000</td>\n",
       "    </tr>\n",
       "  </tbody>\n",
       "</table>\n",
       "</div>"
      ],
      "text/plain": [
       "       luminosity   radius  magnitude     type    color\n",
       "count    60.00000 60.00000   60.00000 60.00000 60.00000\n",
       "mean      0.04753  0.16666    0.09116  2.40000  0.39167\n",
       "std       1.09587  1.20349    1.08438  1.88841  0.34655\n",
       "min      -0.60025 -0.44275   -1.50511  0.00000  0.10000\n",
       "25%      -0.60025 -0.44257   -1.06544  0.75000  0.10000\n",
       "50%      -0.60025 -0.44166    0.65245  2.00000  0.10000\n",
       "75%       0.52050 -0.27731    1.07440  4.00000  0.80000\n",
       "max       3.67425  3.53734    1.54440  5.00000  0.90000"
      ]
     },
     "execution_count": 26,
     "metadata": {},
     "output_type": "execute_result"
    }
   ],
   "source": [
    "x_test[std_col] = sc.transform(x_test[std_col])\n",
    "x_test.describe()"
   ]
  },
  {
   "cell_type": "markdown",
   "id": "f42faba3",
   "metadata": {},
   "source": [
    "#### **OneHotEncoder**"
   ]
  },
  {
   "cell_type": "markdown",
   "id": "1f385eab",
   "metadata": {},
   "source": [
    "**Трансформация категориальных значений Типа звезды в бинарно-строчные:**"
   ]
  },
  {
   "cell_type": "markdown",
   "id": "5b76c7af",
   "metadata": {},
   "source": [
    "* Обучени и преобразование тренировочной выборки:"
   ]
  },
  {
   "cell_type": "code",
   "execution_count": 27,
   "id": "217073fc",
   "metadata": {},
   "outputs": [],
   "source": [
    "\n",
    "x_train_index = x_train.index\n",
    "x_onehot = x_train.copy()\n",
    "type_ohe = OneHotEncoder(handle_unknown = 'ignore',sparse = False)\n",
    "x_onehot = pd.DataFrame(type_ohe.fit_transform(x_onehot[['type']]), index = x_train_index)\n",
    "\n",
    "\n",
    "\n",
    "x_train = x_train.drop(columns = ['type'])\n",
    "x_train = x_train.join(x_onehot, how = 'left')"
   ]
  },
  {
   "cell_type": "markdown",
   "id": "f7f0c85a",
   "metadata": {},
   "source": [
    "* Трансформация тестовой выборки:"
   ]
  },
  {
   "cell_type": "code",
   "execution_count": 28,
   "id": "2578f113",
   "metadata": {},
   "outputs": [],
   "source": [
    "x_test_index = x_test.index\n",
    "\n",
    "xt_onehot = x_test.copy()\n",
    "xt_onehot = pd.DataFrame(type_ohe.transform(xt_onehot[['type']]), index = x_test_index)\n",
    "\n",
    "x_test = x_test.drop(columns = ['type'])\n",
    "x_test = x_test.join(xt_onehot, how = 'left')"
   ]
  },
  {
   "cell_type": "markdown",
   "id": "8c337e9d",
   "metadata": {},
   "source": [
    "### Итоги предобработки"
   ]
  },
  {
   "cell_type": "markdown",
   "id": "85d7c3e8",
   "metadata": {},
   "source": [
    "Вывод по локальной обработке столбцов:"
   ]
  },
  {
   "cell_type": "markdown",
   "id": "19f6e174",
   "metadata": {},
   "source": [
    "* Данные были преведены в близкие друг к другу масштабы.\n",
    "* Категориальные данные изменены в эквивалентные количественные или числовые-бинарные коэффиценты\n",
    "* Размножение данных, или агументация не видится желательной ввиду сложности понимания зависимых характеристик."
   ]
  },
  {
   "cell_type": "markdown",
   "id": "funded-electric",
   "metadata": {},
   "source": [
    "## Построение базовой нейронной сети"
   ]
  },
  {
   "cell_type": "code",
   "execution_count": 29,
   "id": "b6edbc47",
   "metadata": {},
   "outputs": [],
   "source": [
    "# сохраняем индексы предиктов\n",
    "y_idx = y_test.index"
   ]
  },
  {
   "cell_type": "code",
   "execution_count": 30,
   "id": "cc730490",
   "metadata": {},
   "outputs": [],
   "source": [
    "# Напишем функцию, которя будет выводить предсказанную температуру и установленную учеными\n",
    "\n",
    "def compar(test_preds,y_test,y_idx = y_idx):\n",
    "    t = [int(x) for x in list(test_preds.detach().numpy())]\n",
    "    y = [int(x) for x in list(y_test.detach().numpy())]\n",
    "    new_df = {'predict':t,'true':y}\n",
    "    dd = pd.DataFrame(data = new_df, index = y_idx)\n",
    "    dd[0:31].plot(kind = 'bar', figsize = (16,10), color = ['gold','white'], alpha = 0.8)\n",
    "    dd[31:61].plot(kind = 'bar', figsize = (16,10), color = ['gold','white'], alpha = 0.8)\n",
    "    "
   ]
  },
  {
   "cell_type": "code",
   "execution_count": 31,
   "id": "72c56551",
   "metadata": {},
   "outputs": [],
   "source": [
    "# Превращение выборок в тензоры\n",
    "\n",
    "x_train = torch.FloatTensor(x_train.values)\n",
    "x_test = torch.FloatTensor(x_test.values)\n",
    "y_train = torch.FloatTensor(y_train.values)\n",
    "y_test = torch.FloatTensor(y_test.values)"
   ]
  },
  {
   "cell_type": "markdown",
   "id": "d98c2f93",
   "metadata": {},
   "source": [
    "### Нейронная сеть:"
   ]
  },
  {
   "cell_type": "markdown",
   "id": "c3235b0e",
   "metadata": {},
   "source": [
    "Путем подбора архитектурных решений выведем наиболее успешный вариант нейронной сети и лучшией результат её рабоыт:"
   ]
  },
  {
   "cell_type": "markdown",
   "id": "8b6c5c4d",
   "metadata": {},
   "source": [
    "**Наследование nn.Module**"
   ]
  },
  {
   "cell_type": "code",
   "execution_count": 32,
   "id": "3f766562",
   "metadata": {},
   "outputs": [
    {
     "name": "stdout",
     "output_type": "stream",
     "text": [
      "Step 0: 11384.794069283818\n",
      "Step 200: 4028.4350559491463\n",
      "Step 400: 3463.4211410107205\n",
      "Step 600: 3216.351659878005\n",
      "Step 800: 3228.4050241566656\n",
      "Step 1000: 3232.360283136767\n",
      "Step 1200: 3270.1666624195163\n",
      "Step 1400: 3486.6217173648192\n",
      "Step 1600: 3556.348689316052\n",
      "Step 1800: 3721.6181964301495\n",
      "Step 1999: 4047.5378935841973\n",
      "top rmse: 3088.9784719223926 \n",
      " top epoch: 1045\n"
     ]
    },
    {
     "data": {
      "image/png": "[encoded data removed]",
      "text/plain": [
       "<Figure size 1152x720 with 1 Axes>"
      ]
     },
     "metadata": {},
     "output_type": "display_data"
    },
    {
     "data": {
      "image/png": "[encoded data removed]",
      "text/plain": [
       "<Figure size 1152x720 with 1 Axes>"
      ]
     },
     "metadata": {},
     "output_type": "display_data"
    }
   ],
   "source": [
    "class Net(nn.Module):\n",
    "    def __init__(self,n_in_neurons,n_hidden_neurons_1,\n",
    "                n_hidden_neurons_2,n_hidden_neurons_3, n_out_neurons):\n",
    "        super(Net,self).__init__()\n",
    "        \n",
    "        self.fc1 = nn.Linear(n_in_neurons, n_hidden_neurons_1)\n",
    "        self.act1 = nn.ReLU()\n",
    "        \n",
    "        self.fc2 = nn.Linear(n_hidden_neurons_1,n_hidden_neurons_2)\n",
    "        self.act2 = nn.ReLU()\n",
    "        \n",
    "        self.fc3 = nn.Linear(n_hidden_neurons_2,n_hidden_neurons_3)\n",
    "        self.act3 = nn.ReLU()\n",
    "        \n",
    "        self.fc4 = nn.Linear(n_hidden_neurons_3, n_out_neurons)\n",
    "        \n",
    "        nn.init.kaiming_uniform_(self.fc1.weight, mode = 'fan_out', nonlinearity = 'relu')\n",
    "        nn.init.uniform_(self.fc1.bias, a = 0.5, b=  0.7)\n",
    "        \n",
    "        nn.init.kaiming_uniform_(self.fc2.weight, mode = 'fan_out', nonlinearity = 'relu')\n",
    "        nn.init.uniform_(self.fc2.bias, a = 0.5, b =0.7)\n",
    "        \n",
    "        nn.init.kaiming_uniform_(self.fc3.weight, mode = 'fan_out', nonlinearity = 'relu')\n",
    "        nn.init.uniform_(self.fc3.bias, a = 0.5, b = 0.7)\n",
    "        \n",
    "        nn.init.uniform_(self.fc4.weight, a = 0.5 ,b= 0.7)\n",
    "        nn.init.uniform_(self.fc4.bias, a = 0.5 , b = 0.7)\n",
    "    \n",
    "    def forward(self,x):\n",
    "        x = self.fc1(x)\n",
    "        x = self.act1(x)\n",
    "        \n",
    "        x = self.fc2(x)\n",
    "        x = self.act2(x)\n",
    "        \n",
    "        x = self.fc3(x)\n",
    "        x = self.act3(x)\n",
    "        \n",
    "        x = self.fc4(x)\n",
    "        \n",
    "        return x\n",
    "        \n",
    "\n",
    "n_in_neurons = 10\n",
    "n_hidden_neurons_1 = 24\n",
    "n_hidden_neurons_2 = 12\n",
    "n_hidden_neurons_3 = 6\n",
    "n_out_neurons = 1\n",
    "\n",
    "net = Net(10,24,12,6,1)\n",
    "\n",
    "optimizer = torch.optim.Adam(net.parameters(), lr = 0.10 )\n",
    "\n",
    "loss = nn.MSELoss()\n",
    "\n",
    "num_epochs = 2000\n",
    "\n",
    "top_rmse_1 = 150000\n",
    "top_epoch_1 = None\n",
    "top_preds_1 = None\n",
    "\n",
    "for epoch in range(num_epochs):\n",
    "    optimizer.zero_grad()\n",
    "    \n",
    "    preds = net.forward(x_train).flatten()\n",
    "    \n",
    "    loss_value = loss(preds, y_train)\n",
    "    \n",
    "    loss_value.backward()\n",
    "    \n",
    "    optimizer.step()\n",
    "    \n",
    "    if epoch % 5 == 0 or epoch == num_epochs -1:\n",
    "        net.eval()\n",
    "        test_preds = net.forward(x_test)\n",
    "        train_preds = net.forward(x_train)\n",
    "        rmse = sqrt(mean_squared_error(y_test.detach().numpy(), test_preds.detach().numpy()))\n",
    "        rmse_train = sqrt(mean_squared_error(y_train.detach().numpy(), train_preds.detach().numpy()))\n",
    "        if rmse < top_rmse_1:\n",
    "            top_rmse_1 = rmse\n",
    "            top_epoch_1 = epoch\n",
    "            top_preds_1 = test_preds\n",
    "    if epoch % 200 == 0 or epoch == num_epochs -1:\n",
    "        print(f'Step {epoch}:',rmse)\n",
    "        \n",
    "    \n",
    "print(f'top rmse: {top_rmse_1}','\\n'\n",
    "         , f'top epoch: {top_epoch_1}')\n",
    "compar(top_preds_1, y_test, y_idx)"
   ]
  },
  {
   "cell_type": "markdown",
   "id": "3fb1afdd",
   "metadata": {},
   "source": [
    "Нейронная сеть на лучшей итерации(1045) выдает точность в 3088 RMSE, что соответствует запрашиваемой точности - менее 4500RMSE, по условию.\n",
    "\n",
    "Проведем дальнейшее тестирование возможных улучшений нейронной сети, чтобы построить наилучшую модель."
   ]
  },
  {
   "cell_type": "markdown",
   "id": "growing-supply",
   "metadata": {},
   "source": [
    "## Улучшение нейронной сети"
   ]
  },
  {
   "cell_type": "markdown",
   "id": "edecbe17",
   "metadata": {},
   "source": [
    "Ориентуриуясь на пододобранную архитектуру, постараемся улучшит нашу нейронную сеть следующими решениями:\n",
    "\n",
    "* Обучение с помощью выброрк, с изменением размера и batch_normalization\n",
    " \n",
    "* dropout\n",
    "\n",
    "\n"
   ]
  },
  {
   "cell_type": "markdown",
   "id": "26c8affa",
   "metadata": {},
   "source": [
    "### Batch Normalization"
   ]
  },
  {
   "cell_type": "markdown",
   "id": "b722d0d0",
   "metadata": {},
   "source": [
    "Первый тест улучшения полученной нейронной сети проведем с помощью разбиения исходной выборке на батчи, и их нормализацию:"
   ]
  },
  {
   "cell_type": "code",
   "execution_count": 33,
   "id": "0f1df142",
   "metadata": {
    "scrolled": false
   },
   "outputs": [
    {
     "name": "stdout",
     "output_type": "stream",
     "text": [
      "Batch_size:5 Epoch:0 RMSE: 11305.196681172778\n",
      "Batch_size:5 Epoch:200 RMSE: 4719.811648784303\n",
      "Batch_size:5 Epoch:400 RMSE: 4691.01289701915\n",
      "Batch_size:5 Epoch:600 RMSE: 5060.930349253978\n",
      "Batch_size:5 Epoch:800 RMSE: 4773.618124651363\n",
      "Batch_size:5 Epoch:1000 RMSE: 4517.81407319956\n",
      "Batch_size:5 Epoch:1200 RMSE: 4675.859279319685\n",
      "Batch_size:5 Epoch:1400 RMSE: 5516.317612320741\n",
      "Batch_size:5 Epoch:1600 RMSE: 4670.567203242022\n",
      "Batch_size:5 Epoch:1800 RMSE: 4446.585881325132\n",
      "Batch_size:5 Epoch:1999 RMSE: 4318.490708569372\n",
      "Batch_size:10 Epoch:0 RMSE: 4494.582516763932\n",
      "Batch_size:10 Epoch:200 RMSE: 4691.411301516848\n",
      "Batch_size:10 Epoch:400 RMSE: 4894.482812310203\n",
      "Batch_size:10 Epoch:600 RMSE: 4281.512116063669\n",
      "Batch_size:10 Epoch:800 RMSE: 3950.955327512575\n",
      "Batch_size:10 Epoch:1000 RMSE: 4209.064266556166\n",
      "Batch_size:10 Epoch:1200 RMSE: 4056.098618130481\n",
      "Batch_size:10 Epoch:1400 RMSE: 4740.570851701301\n",
      "Batch_size:10 Epoch:1600 RMSE: 4731.861156035751\n",
      "Batch_size:10 Epoch:1800 RMSE: 4220.876449269748\n",
      "Batch_size:10 Epoch:1999 RMSE: 4157.057613264459\n",
      "Batch_size:20 Epoch:0 RMSE: 4338.610376606777\n",
      "Batch_size:20 Epoch:200 RMSE: 4065.829681627109\n",
      "Batch_size:20 Epoch:400 RMSE: 4174.125297592299\n",
      "Batch_size:20 Epoch:600 RMSE: 4230.768488111823\n",
      "Batch_size:20 Epoch:800 RMSE: 4240.494546630145\n",
      "Batch_size:20 Epoch:1000 RMSE: 4129.338203635057\n",
      "Batch_size:20 Epoch:1200 RMSE: 4092.2756505396846\n",
      "Batch_size:20 Epoch:1400 RMSE: 4118.455292946616\n",
      "Batch_size:20 Epoch:1600 RMSE: 4112.859589142328\n",
      "Batch_size:20 Epoch:1800 RMSE: 4146.261207401193\n",
      "Batch_size:20 Epoch:1999 RMSE: 4124.768357132313\n",
      "Batch_size:40 Epoch:0 RMSE: 4162.435344843208\n",
      "Batch_size:40 Epoch:200 RMSE: 4228.115655939417\n",
      "Batch_size:40 Epoch:400 RMSE: 4369.7734495051345\n",
      "Batch_size:40 Epoch:600 RMSE: 4223.626640696358\n",
      "Batch_size:40 Epoch:800 RMSE: 4036.983651193054\n",
      "Batch_size:40 Epoch:1000 RMSE: 4199.451868994333\n",
      "Batch_size:40 Epoch:1200 RMSE: 4080.4601456208343\n",
      "Batch_size:40 Epoch:1400 RMSE: 4143.42201567738\n",
      "Batch_size:40 Epoch:1600 RMSE: 4194.741708377287\n",
      "Batch_size:40 Epoch:1800 RMSE: 4306.52713912266\n",
      "Batch_size:40 Epoch:1999 RMSE: 4275.6447467019525\n",
      "Batch_size:50 Epoch:0 RMSE: 4103.605731548781\n",
      "Batch_size:50 Epoch:200 RMSE: 4296.412224170302\n",
      "Batch_size:50 Epoch:400 RMSE: 4490.21224442676\n",
      "Batch_size:50 Epoch:600 RMSE: 4333.53943099633\n",
      "Batch_size:50 Epoch:800 RMSE: 4180.589910526982\n",
      "Batch_size:50 Epoch:1000 RMSE: 3997.3132226534362\n",
      "Batch_size:50 Epoch:1200 RMSE: 4296.25394966359\n",
      "Batch_size:50 Epoch:1400 RMSE: 4198.786491356758\n",
      "Batch_size:50 Epoch:1600 RMSE: 4294.226589270762\n",
      "Batch_size:50 Epoch:1800 RMSE: 4189.969689627838\n",
      "Batch_size:50 Epoch:1999 RMSE: 4072.3618454159987\n",
      "Batch_size:100 Epoch:0 RMSE: 4125.957585821745\n",
      "Batch_size:100 Epoch:200 RMSE: 4237.0315080254\n",
      "Batch_size:100 Epoch:400 RMSE: 4158.320333981017\n",
      "Batch_size:100 Epoch:600 RMSE: 4205.17799861076\n",
      "Batch_size:100 Epoch:800 RMSE: 4106.002679005458\n",
      "Batch_size:100 Epoch:1000 RMSE: 4255.202227861797\n",
      "Batch_size:100 Epoch:1200 RMSE: 4206.534202880086\n",
      "Batch_size:100 Epoch:1400 RMSE: 4231.19297598207\n",
      "Batch_size:100 Epoch:1600 RMSE: 4155.585397991479\n",
      "Batch_size:100 Epoch:1800 RMSE: 4050.2525847161683\n",
      "Batch_size:100 Epoch:1999 RMSE: 4293.651825660762\n",
      "top rmse: 3860.019170936849 \n",
      " top epoch: 460 top batch_size:10\n"
     ]
    },
    {
     "data": {
      "image/png": "[encoded data removed]",
      "text/plain": [
       "<Figure size 1152x720 with 1 Axes>"
      ]
     },
     "metadata": {},
     "output_type": "display_data"
    },
    {
     "data": {
      "image/png": "[encoded data removed]",
      "text/plain": [
       "<Figure size 1152x720 with 1 Axes>"
      ]
     },
     "metadata": {},
     "output_type": "display_data"
    }
   ],
   "source": [
    "class Net(nn.Module):\n",
    "    def __init__(self,n_in_neurons,n_hidden_neurons_1,\n",
    "                n_hidden_neurons_2,n_hidden_neurons_3,n_out_neurons):\n",
    "        super(Net,self).__init__()\n",
    "        \n",
    "        self.fc1 = nn.Linear(n_in_neurons, n_hidden_neurons_1)\n",
    "        self.act1 = nn.ReLU()\n",
    "        self.bn1 = nn.BatchNorm1d(n_hidden_neurons_1)\n",
    "        \n",
    "        self.fc2 = nn.Linear(n_hidden_neurons_1,n_hidden_neurons_2)\n",
    "        self.act2 = nn.ReLU()\n",
    "        self.bn2 = nn.BatchNorm1d(n_hidden_neurons_2)\n",
    "        \n",
    "        self.fc3 = nn.Linear(n_hidden_neurons_2,n_hidden_neurons_3)\n",
    "        self.act3 = nn.ReLU()\n",
    "        self.bn3 = nn.BatchNorm1d(n_hidden_neurons_3)\n",
    "        \n",
    "        self.fc4 = nn.Linear(n_hidden_neurons_3,n_out_neurons)\n",
    "\n",
    "        \n",
    "        nn.init.kaiming_uniform_(self.fc1.weight, mode = 'fan_out', nonlinearity = 'relu')\n",
    "        nn.init.uniform_(self.fc1.bias, a = 0.5, b = 0.7)\n",
    "        \n",
    "        nn.init.kaiming_uniform_(self.fc2.weight, mode = 'fan_out', nonlinearity = 'relu')\n",
    "        nn.init.uniform_(self.fc2.bias, a = 0.5, b = 0.7)\n",
    "        \n",
    "        nn.init.kaiming_uniform_(self.fc3.weight, mode = 'fan_out', nonlinearity = 'relu')\n",
    "        nn.init.uniform_(self.fc3.bias, a = 0.5, b = 0.7)\n",
    "        \n",
    "        nn.init.uniform_(self.fc4.weight, a = 0.5, b = 0.7)\n",
    "        nn.init.uniform_(self.fc4.bias, a = 0.5, b = 0.7)\n",
    "    \n",
    "    def forward(self,x):\n",
    "        x = self.fc1(x)\n",
    "        x = self.bn1(x)\n",
    "        x = self.act1(x)\n",
    "        \n",
    "        x = self.fc2(x)\n",
    "        x = self.bn2(x)\n",
    "        x = self.act2(x)\n",
    "        \n",
    "        x = self.fc3(x)\n",
    "        x = self.bn3(x)\n",
    "        x = self.act3(x)\n",
    "        \n",
    "        x = self.fc4(x)\n",
    "        \n",
    "        \n",
    "        return x\n",
    "        \n",
    "\n",
    "n_in_neurons = 10\n",
    "n_hidden_neurons_1 = 24\n",
    "n_hidden_neurons_2 = 12\n",
    "n_hidden_neurons_3 = 6\n",
    "n_out_neurons = 1\n",
    "\n",
    "net = Net(10,24,12,6,1)\n",
    "\n",
    "optimizer = torch.optim.Adam(net.parameters(), lr = 0.10)\n",
    "\n",
    "loss = nn.MSELoss()\n",
    "\n",
    "num_epochs = 2000\n",
    "\n",
    "batch_size = [5,10,20,40,50,100]\n",
    "\n",
    "\n",
    "top_rmse_2 = 150000\n",
    "top_epoch_2 = None\n",
    "top_batch_size_2 = None\n",
    "top_preds_2 = None\n",
    "\n",
    "for btch in batch_size:\n",
    "    \n",
    "    num_batches = ceil(len(x_train)/btch)\n",
    "    for epoch in range(num_epochs):\n",
    "        \n",
    "        order = np.random.permutation(len(x_train))\n",
    "        \n",
    "        for batch_idx in range(num_batches):\n",
    "            start_index = batch_idx * btch\n",
    "            optimizer.zero_grad()\n",
    "            batch_indexes = order[start_index:start_index + btch]\n",
    "            x_batch = x_train[batch_indexes]\n",
    "            y_batch = y_train[batch_indexes]\n",
    "            preds = net.forward(x_batch).flatten()\n",
    "            loss_value = loss(preds, y_batch)\n",
    "            loss_value.backward()\n",
    "            optimizer.step()\n",
    "        if epoch % 5 == 0 or epoch == num_epochs -1:\n",
    "            net.eval()\n",
    "            test_preds = net.forward(x_test)\n",
    "            rmse = sqrt(mean_squared_error(y_test.detach().numpy(), test_preds.detach().numpy()))\n",
    "        if epoch % 200 == 0 or epoch == num_epochs -1:\n",
    "            print(f'Batch_size:{btch} Epoch:{epoch} RMSE: {rmse}')\n",
    "        if rmse < top_rmse_2:\n",
    "                top_rmse_2 = rmse\n",
    "                top_epoch_2 = epoch\n",
    "                top_batch_size_2 = btch\n",
    "                top_preds_2 =test_preds\n",
    "                \n",
    "print(f'top rmse: {top_rmse_2}','\\n'\n",
    "             , f'top epoch: {top_epoch_2}',\n",
    "     f'top batch_size:{top_batch_size_2}')\n",
    "compar(top_preds_2, y_test, y_idx)"
   ]
  },
  {
   "cell_type": "markdown",
   "id": "491ec853",
   "metadata": {},
   "source": [
    "Вероятно, выборки плохо работают на таких ограниченных объемах данных, как и BatchNormalization. Возможны лучшие решения с использованием bootstrap"
   ]
  },
  {
   "cell_type": "markdown",
   "id": "5c45f954",
   "metadata": {},
   "source": [
    "### Dropout"
   ]
  },
  {
   "cell_type": "markdown",
   "id": "78810ca9",
   "metadata": {},
   "source": [
    "Во втором тесте попробуем разлизные варианты отключения нейронов:"
   ]
  },
  {
   "cell_type": "code",
   "execution_count": 34,
   "id": "2d43ff19",
   "metadata": {
    "scrolled": false
   },
   "outputs": [
    {
     "name": "stdout",
     "output_type": "stream",
     "text": [
      "Step: 0, Drop: [0.2, 0.4, 0.5], RMSE: 11385.440175944012\n",
      "Step: 200, Drop: [0.2, 0.4, 0.5], RMSE: 4834.714055660376\n",
      "Step: 400, Drop: [0.2, 0.4, 0.5], RMSE: 4405.738984551854\n",
      "Step: 600, Drop: [0.2, 0.4, 0.5], RMSE: 3995.814059738015\n",
      "Step: 800, Drop: [0.2, 0.4, 0.5], RMSE: 3303.1653001325863\n",
      "Step: 1000, Drop: [0.2, 0.4, 0.5], RMSE: 3351.001790509817\n",
      "Step: 1200, Drop: [0.2, 0.4, 0.5], RMSE: 3648.4192467423477\n",
      "Step: 1400, Drop: [0.2, 0.4, 0.5], RMSE: 4444.533046339064\n",
      "Step: 1600, Drop: [0.2, 0.4, 0.5], RMSE: 4800.522054943608\n",
      "Step: 1800, Drop: [0.2, 0.4, 0.5], RMSE: 4770.53519010184\n",
      "Step: 1999, Drop: [0.2, 0.4, 0.5], RMSE: 4941.148247118274\n",
      "Step: 0, Drop: [0.4, 0.6, 0.8], RMSE: 11382.771542994264\n",
      "Step: 200, Drop: [0.4, 0.6, 0.8], RMSE: 4787.269158925576\n",
      "Step: 400, Drop: [0.4, 0.6, 0.8], RMSE: 4312.766397568967\n",
      "Step: 600, Drop: [0.4, 0.6, 0.8], RMSE: 3566.737164412315\n",
      "Step: 800, Drop: [0.4, 0.6, 0.8], RMSE: 3207.4125085495316\n",
      "Step: 1000, Drop: [0.4, 0.6, 0.8], RMSE: 3260.2860303967195\n",
      "Step: 1200, Drop: [0.4, 0.6, 0.8], RMSE: 3231.939974690124\n",
      "Step: 1400, Drop: [0.4, 0.6, 0.8], RMSE: 3146.7789881083163\n",
      "Step: 1600, Drop: [0.4, 0.6, 0.8], RMSE: 3305.314205941698\n",
      "Step: 1800, Drop: [0.4, 0.6, 0.8], RMSE: 3567.0185028956607\n",
      "Step: 1999, Drop: [0.4, 0.6, 0.8], RMSE: 3876.586126993698\n",
      "Step: 0, Drop: [0.6, 0.7, 0.8], RMSE: 11389.274603766475\n",
      "Step: 200, Drop: [0.6, 0.7, 0.8], RMSE: 4746.887190570258\n",
      "Step: 400, Drop: [0.6, 0.7, 0.8], RMSE: 4072.306840109178\n",
      "Step: 600, Drop: [0.6, 0.7, 0.8], RMSE: 3583.827423300402\n",
      "Step: 800, Drop: [0.6, 0.7, 0.8], RMSE: 3472.618896452647\n",
      "Step: 1000, Drop: [0.6, 0.7, 0.8], RMSE: 3929.043904056049\n",
      "Step: 1200, Drop: [0.6, 0.7, 0.8], RMSE: 4284.794744208875\n",
      "Step: 1400, Drop: [0.6, 0.7, 0.8], RMSE: 4306.182764351741\n",
      "Step: 1600, Drop: [0.6, 0.7, 0.8], RMSE: 4092.1485799027387\n",
      "Step: 1800, Drop: [0.6, 0.7, 0.8], RMSE: 4169.913428357956\n",
      "Step: 1999, Drop: [0.6, 0.7, 0.8], RMSE: 4208.902232174086\n",
      "Step: 0, Drop: [0.5, 0.5, 0], RMSE: 11390.35311129554\n",
      "Step: 200, Drop: [0.5, 0.5, 0], RMSE: 4657.753535772368\n",
      "Step: 400, Drop: [0.5, 0.5, 0], RMSE: 3904.411351279473\n",
      "Step: 600, Drop: [0.5, 0.5, 0], RMSE: 3840.817100565972\n",
      "Step: 800, Drop: [0.5, 0.5, 0], RMSE: 3774.420087907545\n",
      "Step: 1000, Drop: [0.5, 0.5, 0], RMSE: 3737.652070484892\n",
      "Step: 1200, Drop: [0.5, 0.5, 0], RMSE: 3863.0117783926053\n",
      "Step: 1400, Drop: [0.5, 0.5, 0], RMSE: 4015.4389548342033\n",
      "Step: 1600, Drop: [0.5, 0.5, 0], RMSE: 4365.934493324425\n",
      "Step: 1800, Drop: [0.5, 0.5, 0], RMSE: 4544.3648621121965\n",
      "Step: 1999, Drop: [0.5, 0.5, 0], RMSE: 4342.2689921284245\n",
      "Step: 0, Drop: [0.2, 0, 0.2], RMSE: 11369.69375137255\n",
      "Step: 200, Drop: [0.2, 0, 0.2], RMSE: 4856.776502990435\n",
      "Step: 400, Drop: [0.2, 0, 0.2], RMSE: 4352.288133844082\n",
      "Step: 600, Drop: [0.2, 0, 0.2], RMSE: 3820.785390466206\n",
      "Step: 800, Drop: [0.2, 0, 0.2], RMSE: 3143.149216947869\n",
      "Step: 1000, Drop: [0.2, 0, 0.2], RMSE: 3306.0730481947917\n",
      "Step: 1200, Drop: [0.2, 0, 0.2], RMSE: 3707.077285409626\n",
      "Step: 1400, Drop: [0.2, 0, 0.2], RMSE: 4100.484361633391\n",
      "Step: 1600, Drop: [0.2, 0, 0.2], RMSE: 4236.693286042783\n",
      "Step: 1800, Drop: [0.2, 0, 0.2], RMSE: 4312.734399426888\n",
      "Step: 1999, Drop: [0.2, 0, 0.2], RMSE: 4276.496697064082\n",
      "top rmse: 3098.711829131583 \n",
      " top epoch: 1060 \n",
      " top drop [0.4, 0.6, 0.8]\n"
     ]
    },
    {
     "data": {
      "image/png": "[encoded data removed]",
      "text/plain": [
       "<Figure size 1152x720 with 1 Axes>"
      ]
     },
     "metadata": {},
     "output_type": "display_data"
    },
    {
     "data": {
      "image/png": "[encoded data removed]",
      "text/plain": [
       "<Figure size 1152x720 with 1 Axes>"
      ]
     },
     "metadata": {},
     "output_type": "display_data"
    }
   ],
   "source": [
    "cntnrn = [[0.2,0.4,0.5],[0.4,0.6,0.8],[0.6,0.7,0.8],[0.5,0.5,0],[0.2,0,0.2]]\n",
    "\n",
    "\n",
    "top_cntnrn_3 = None\n",
    "top_epoch_3 = None\n",
    "top_rmse_3 = 150000\n",
    "top_preds_3 = None\n",
    "\n",
    "\n",
    "for dnc in cntnrn:\n",
    "    class Net(nn.Module):\n",
    "        def __init__(self,n_in_neurons,n_hidden_neurons_1,\n",
    "                    n_hidden_neurons_2,n_hidden_neurons_3,n_out_neurons):\n",
    "            super(Net,self).__init__()\n",
    "\n",
    "            self.fc1 = nn.Linear(n_in_neurons, n_hidden_neurons_1)\n",
    "            self.act1 = nn.ReLU()\n",
    "            self.dp1 = nn.Dropout(p= dnc[0])\n",
    "\n",
    "            self.fc2 = nn.Linear(n_hidden_neurons_1,n_hidden_neurons_2)\n",
    "            self.act2 = nn.ReLU()\n",
    "            self.dp2 = nn.Dropout(p = dnc[1])\n",
    "\n",
    "            self.fc3 = nn.Linear(n_hidden_neurons_2,n_hidden_neurons_3)\n",
    "            self.act3 = nn.ReLU()\n",
    "            self.dp3 = nn.Dropout(p = dnc[2])\n",
    "\n",
    "            self.fc4 = nn.Linear(n_hidden_neurons_3,n_out_neurons)\n",
    "\n",
    "            nn.init.kaiming_uniform_(self.fc1.weight, mode = 'fan_out', nonlinearity = 'relu')\n",
    "            nn.init.uniform_(self.fc1.bias, a = 0.5, b = 0.7)\n",
    "\n",
    "\n",
    "            nn.init.kaiming_uniform_(self.fc2.weight, mode = 'fan_out', nonlinearity = 'relu')\n",
    "            nn.init.uniform_(self.fc2.bias, a = 0.5, b = 0.7)\n",
    "\n",
    "            nn.init.kaiming_uniform_(self.fc3.weight, mode = 'fan_out', nonlinearity = 'relu')\n",
    "            nn.init.uniform_(self.fc3.bias, a = 0.5, b = 0.7)\n",
    "\n",
    "            nn.init.uniform_(self.fc4.weight, a = 0.5, b = 0.7)\n",
    "            nn.init.uniform_(self.fc4.bias, a = 0.5, b = 0.7)\n",
    "\n",
    "        def forward(self,x):\n",
    "\n",
    "            x = self.fc1(x)\n",
    "            x = self.act1(x)\n",
    "            x = self.dp1(x)\n",
    "\n",
    "            x = self.fc2(x)\n",
    "            x = self.act2(x)\n",
    "            x = self.dp2(x)\n",
    "\n",
    "            x = self.fc3(x)\n",
    "            x = self.act3(x)\n",
    "            x = self.dp3(x)\n",
    "\n",
    "            x = self.fc4(x)\n",
    "\n",
    "\n",
    "\n",
    "            return x\n",
    "\n",
    "\n",
    "    n_in_neurons = 10\n",
    "    n_hidden_neurons_1 = 24\n",
    "    n_hidden_neurons_2 = 12\n",
    "    n_hidden_neurons_3 = 6\n",
    "    n_out_neurons = 1\n",
    "\n",
    "    net = Net(10,24,12,6,1)\n",
    "\n",
    "    optimizer = torch.optim.Adam(net.parameters(), lr = 0.10 )\n",
    "\n",
    "    loss = nn.MSELoss()\n",
    "\n",
    "    num_epochs = 2000\n",
    "\n",
    "    for epoch in range(num_epochs):\n",
    "        optimizer.zero_grad()\n",
    "\n",
    "        preds = net.forward(x_train).flatten()\n",
    "\n",
    "        loss_value = loss(preds, y_train)\n",
    "\n",
    "        loss_value.backward()\n",
    "\n",
    "        optimizer.step()\n",
    "\n",
    "        if epoch % 5 == 0 or epoch == num_epochs -1:\n",
    "            net.eval()\n",
    "            test_preds = net.forward(x_test)\n",
    "            rmse = sqrt(mean_squared_error(y_test.detach().numpy(), test_preds.detach().numpy()))\n",
    "            if rmse < top_rmse_3:\n",
    "                top_rmse_3 = rmse\n",
    "                top_epoch_3 = epoch\n",
    "                top_preds_3 = test_preds\n",
    "                top_cntnrn_3 = dnc\n",
    "        if epoch % 200 == 0 or epoch == num_epochs -1:\n",
    "            print(f'Step: {epoch}, Drop: {dnc}, RMSE:',rmse)\n",
    "\n",
    "\n",
    "print(f'top rmse: {top_rmse_3}','\\n'\n",
    "             , f'top epoch: {top_epoch_3}','\\n',\n",
    "     f'top drop {top_cntnrn_3}')\n",
    "compar(top_preds_3, y_test, y_idx)"
   ]
  },
  {
   "cell_type": "markdown",
   "id": "bf5944b5",
   "metadata": {},
   "source": [
    "Dropout в конкретном примере справился лучше обучения по батчам и базовой архитектуры уменьшив RMSE на 600 пунктов."
   ]
  },
  {
   "cell_type": "markdown",
   "id": "d916d5af",
   "metadata": {},
   "source": [
    "### Dropout & Batch Normalization"
   ]
  },
  {
   "cell_type": "markdown",
   "id": "a14d473d",
   "metadata": {},
   "source": [
    "Объединим Dropout & Batch Normalization:"
   ]
  },
  {
   "cell_type": "code",
   "execution_count": 35,
   "id": "2b43eebb",
   "metadata": {
    "scrolled": false
   },
   "outputs": [
    {
     "name": "stdout",
     "output_type": "stream",
     "text": [
      "Step: 0, Drop: [0.2, 0.4, 0.5], batch: 5 ,RMSE: 11305.918096289217\n",
      "Step: 200, Drop: [0.2, 0.4, 0.5], batch: 5 ,RMSE: 4383.05555520347\n",
      "Step: 400, Drop: [0.2, 0.4, 0.5], batch: 5 ,RMSE: 4017.785833017982\n",
      "Step: 600, Drop: [0.2, 0.4, 0.5], batch: 5 ,RMSE: 3849.1275634876015\n",
      "Step: 800, Drop: [0.2, 0.4, 0.5], batch: 5 ,RMSE: 4103.689315725546\n",
      "Step: 1000, Drop: [0.2, 0.4, 0.5], batch: 5 ,RMSE: 3741.2516622114586\n",
      "Step: 1200, Drop: [0.2, 0.4, 0.5], batch: 5 ,RMSE: 6892.399291973732\n",
      "Step: 1400, Drop: [0.2, 0.4, 0.5], batch: 5 ,RMSE: 4684.38085556672\n",
      "Step: 1600, Drop: [0.2, 0.4, 0.5], batch: 5 ,RMSE: 4495.7037268930435\n",
      "Step: 1800, Drop: [0.2, 0.4, 0.5], batch: 5 ,RMSE: 3827.285199720554\n",
      "Step: 1999, Drop: [0.2, 0.4, 0.5], batch: 5 ,RMSE: 3734.22307849973\n",
      "Step: 0, Drop: [0.2, 0.4, 0.5], batch: 10 ,RMSE: 3739.758414657289\n",
      "Step: 200, Drop: [0.2, 0.4, 0.5], batch: 10 ,RMSE: 3711.7110609528863\n",
      "Step: 400, Drop: [0.2, 0.4, 0.5], batch: 10 ,RMSE: 6425.122255646191\n",
      "Step: 600, Drop: [0.2, 0.4, 0.5], batch: 10 ,RMSE: 3735.4330404920925\n",
      "Step: 800, Drop: [0.2, 0.4, 0.5], batch: 10 ,RMSE: 3600.072777042153\n",
      "Step: 1000, Drop: [0.2, 0.4, 0.5], batch: 10 ,RMSE: 3950.889773202993\n",
      "Step: 1200, Drop: [0.2, 0.4, 0.5], batch: 10 ,RMSE: 3456.908734693469\n",
      "Step: 1400, Drop: [0.2, 0.4, 0.5], batch: 10 ,RMSE: 3340.2387639209264\n",
      "Step: 1600, Drop: [0.2, 0.4, 0.5], batch: 10 ,RMSE: 3859.1537932557185\n",
      "Step: 1800, Drop: [0.2, 0.4, 0.5], batch: 10 ,RMSE: 3549.161309380006\n",
      "Step: 1999, Drop: [0.2, 0.4, 0.5], batch: 10 ,RMSE: 6982.799725038661\n",
      "Step: 0, Drop: [0.2, 0.4, 0.5], batch: 20 ,RMSE: 6955.862563334615\n",
      "Step: 200, Drop: [0.2, 0.4, 0.5], batch: 20 ,RMSE: 6738.780008280431\n",
      "Step: 400, Drop: [0.2, 0.4, 0.5], batch: 20 ,RMSE: 4156.733332798725\n",
      "Step: 600, Drop: [0.2, 0.4, 0.5], batch: 20 ,RMSE: 3665.1754391843237\n",
      "Step: 800, Drop: [0.2, 0.4, 0.5], batch: 20 ,RMSE: 3796.5593634236775\n",
      "Step: 1000, Drop: [0.2, 0.4, 0.5], batch: 20 ,RMSE: 3409.5798861443327\n",
      "Step: 1200, Drop: [0.2, 0.4, 0.5], batch: 20 ,RMSE: 3520.3187355692667\n",
      "Step: 1400, Drop: [0.2, 0.4, 0.5], batch: 20 ,RMSE: 3600.2816556486246\n",
      "Step: 1600, Drop: [0.2, 0.4, 0.5], batch: 20 ,RMSE: 3488.04544121776\n",
      "Step: 1800, Drop: [0.2, 0.4, 0.5], batch: 20 ,RMSE: 3472.3833313734244\n",
      "Step: 1999, Drop: [0.2, 0.4, 0.5], batch: 20 ,RMSE: 3617.818818017287\n",
      "Step: 0, Drop: [0.2, 0.4, 0.5], batch: 40 ,RMSE: 3550.1787278952593\n",
      "Step: 200, Drop: [0.2, 0.4, 0.5], batch: 40 ,RMSE: 3461.1841904180715\n",
      "Step: 400, Drop: [0.2, 0.4, 0.5], batch: 40 ,RMSE: 3372.23872227338\n",
      "Step: 600, Drop: [0.2, 0.4, 0.5], batch: 40 ,RMSE: 3415.1363076749954\n",
      "Step: 800, Drop: [0.2, 0.4, 0.5], batch: 40 ,RMSE: 3593.823312295695\n",
      "Step: 1000, Drop: [0.2, 0.4, 0.5], batch: 40 ,RMSE: 3320.323779392606\n",
      "Step: 1200, Drop: [0.2, 0.4, 0.5], batch: 40 ,RMSE: 3441.1945600328963\n",
      "Step: 1400, Drop: [0.2, 0.4, 0.5], batch: 40 ,RMSE: 3355.5653771011525\n",
      "Step: 1600, Drop: [0.2, 0.4, 0.5], batch: 40 ,RMSE: 3410.973468087959\n",
      "Step: 1800, Drop: [0.2, 0.4, 0.5], batch: 40 ,RMSE: 3370.1528155263227\n",
      "Step: 1999, Drop: [0.2, 0.4, 0.5], batch: 40 ,RMSE: 3340.239662060194\n",
      "Step: 0, Drop: [0.2, 0.4, 0.5], batch: 50 ,RMSE: 3533.5316611005483\n",
      "Step: 200, Drop: [0.2, 0.4, 0.5], batch: 50 ,RMSE: 3396.5731259609292\n",
      "Step: 400, Drop: [0.2, 0.4, 0.5], batch: 50 ,RMSE: 3447.2451319858296\n",
      "Step: 600, Drop: [0.2, 0.4, 0.5], batch: 50 ,RMSE: 3332.1206460751087\n",
      "Step: 800, Drop: [0.2, 0.4, 0.5], batch: 50 ,RMSE: 3315.8145303982246\n",
      "Step: 1000, Drop: [0.2, 0.4, 0.5], batch: 50 ,RMSE: 3316.8023757830374\n",
      "Step: 1200, Drop: [0.2, 0.4, 0.5], batch: 50 ,RMSE: 3360.0776776735383\n",
      "Step: 1400, Drop: [0.2, 0.4, 0.5], batch: 50 ,RMSE: 3289.010033429512\n",
      "Step: 1600, Drop: [0.2, 0.4, 0.5], batch: 50 ,RMSE: 3332.0582227806285\n",
      "Step: 1800, Drop: [0.2, 0.4, 0.5], batch: 50 ,RMSE: 3257.38146369135\n",
      "Step: 1999, Drop: [0.2, 0.4, 0.5], batch: 50 ,RMSE: 3389.8420317177024\n",
      "Step: 0, Drop: [0.2, 0.4, 0.5], batch: 100 ,RMSE: 3439.774556566171\n",
      "Step: 200, Drop: [0.2, 0.4, 0.5], batch: 100 ,RMSE: 3352.218071665386\n",
      "Step: 400, Drop: [0.2, 0.4, 0.5], batch: 100 ,RMSE: 3362.959857030708\n",
      "Step: 600, Drop: [0.2, 0.4, 0.5], batch: 100 ,RMSE: 3323.923735587205\n",
      "Step: 800, Drop: [0.2, 0.4, 0.5], batch: 100 ,RMSE: 3360.9860160375556\n",
      "Step: 1000, Drop: [0.2, 0.4, 0.5], batch: 100 ,RMSE: 3325.274274402038\n",
      "Step: 1200, Drop: [0.2, 0.4, 0.5], batch: 100 ,RMSE: 3358.640647643031\n",
      "Step: 1400, Drop: [0.2, 0.4, 0.5], batch: 100 ,RMSE: 3299.8684822277387\n",
      "Step: 1600, Drop: [0.2, 0.4, 0.5], batch: 100 ,RMSE: 3377.2099431335328\n",
      "Step: 1800, Drop: [0.2, 0.4, 0.5], batch: 100 ,RMSE: 3419.917542865617\n",
      "Step: 1999, Drop: [0.2, 0.4, 0.5], batch: 100 ,RMSE: 3377.7320793692325\n",
      "Step: 0, Drop: [0.4, 0.6, 0.8], batch: 5 ,RMSE: 11381.971006815998\n",
      "Step: 200, Drop: [0.4, 0.6, 0.8], batch: 5 ,RMSE: 5248.646492192059\n",
      "Step: 400, Drop: [0.4, 0.6, 0.8], batch: 5 ,RMSE: 4764.453798705576\n",
      "Step: 600, Drop: [0.4, 0.6, 0.8], batch: 5 ,RMSE: 3974.2764121283763\n",
      "Step: 800, Drop: [0.4, 0.6, 0.8], batch: 5 ,RMSE: 4540.27223853372\n",
      "Step: 1000, Drop: [0.4, 0.6, 0.8], batch: 5 ,RMSE: 4088.207308833543\n",
      "Step: 1200, Drop: [0.4, 0.6, 0.8], batch: 5 ,RMSE: 3771.6822506674657\n",
      "Step: 1400, Drop: [0.4, 0.6, 0.8], batch: 5 ,RMSE: 4061.0863078737934\n",
      "Step: 1600, Drop: [0.4, 0.6, 0.8], batch: 5 ,RMSE: 3902.4871556483054\n",
      "Step: 1800, Drop: [0.4, 0.6, 0.8], batch: 5 ,RMSE: 4137.994441755571\n",
      "Step: 1999, Drop: [0.4, 0.6, 0.8], batch: 5 ,RMSE: 3906.001152073563\n",
      "Step: 0, Drop: [0.4, 0.6, 0.8], batch: 10 ,RMSE: 4105.779341367483\n",
      "Step: 200, Drop: [0.4, 0.6, 0.8], batch: 10 ,RMSE: 3909.6549719892164\n",
      "Step: 400, Drop: [0.4, 0.6, 0.8], batch: 10 ,RMSE: 4016.3927845767275\n",
      "Step: 600, Drop: [0.4, 0.6, 0.8], batch: 10 ,RMSE: 4002.396407154094\n",
      "Step: 800, Drop: [0.4, 0.6, 0.8], batch: 10 ,RMSE: 4800.557884246372\n",
      "Step: 1000, Drop: [0.4, 0.6, 0.8], batch: 10 ,RMSE: 4926.443341803496\n",
      "Step: 1200, Drop: [0.4, 0.6, 0.8], batch: 10 ,RMSE: 4888.348391839518\n",
      "Step: 1400, Drop: [0.4, 0.6, 0.8], batch: 10 ,RMSE: 5300.966892935665\n",
      "Step: 1600, Drop: [0.4, 0.6, 0.8], batch: 10 ,RMSE: 5240.841917096908\n",
      "Step: 1800, Drop: [0.4, 0.6, 0.8], batch: 10 ,RMSE: 5157.558724823209\n",
      "Step: 1999, Drop: [0.4, 0.6, 0.8], batch: 10 ,RMSE: 5153.4227460979755\n",
      "Step: 0, Drop: [0.4, 0.6, 0.8], batch: 20 ,RMSE: 5348.07142809443\n",
      "Step: 200, Drop: [0.4, 0.6, 0.8], batch: 20 ,RMSE: 5200.258647413607\n",
      "Step: 400, Drop: [0.4, 0.6, 0.8], batch: 20 ,RMSE: 5076.861038082488\n",
      "Step: 600, Drop: [0.4, 0.6, 0.8], batch: 20 ,RMSE: 5454.370357795664\n",
      "Step: 800, Drop: [0.4, 0.6, 0.8], batch: 20 ,RMSE: 5576.150464253991\n",
      "Step: 1000, Drop: [0.4, 0.6, 0.8], batch: 20 ,RMSE: 6023.1224460407575\n",
      "Step: 1200, Drop: [0.4, 0.6, 0.8], batch: 20 ,RMSE: 5988.934462823917\n",
      "Step: 1400, Drop: [0.4, 0.6, 0.8], batch: 20 ,RMSE: 5610.696035252668\n",
      "Step: 1600, Drop: [0.4, 0.6, 0.8], batch: 20 ,RMSE: 6239.1335936971245\n",
      "Step: 1800, Drop: [0.4, 0.6, 0.8], batch: 20 ,RMSE: 6115.60953626047\n",
      "Step: 1999, Drop: [0.4, 0.6, 0.8], batch: 20 ,RMSE: 3847.7900150605933\n",
      "Step: 0, Drop: [0.4, 0.6, 0.8], batch: 40 ,RMSE: 3817.584969584829\n",
      "Step: 200, Drop: [0.4, 0.6, 0.8], batch: 40 ,RMSE: 6301.244638958243\n",
      "Step: 400, Drop: [0.4, 0.6, 0.8], batch: 40 ,RMSE: 6270.714472849167\n",
      "Step: 600, Drop: [0.4, 0.6, 0.8], batch: 40 ,RMSE: 6199.646118932918\n",
      "Step: 800, Drop: [0.4, 0.6, 0.8], batch: 40 ,RMSE: 3783.431246897451\n",
      "Step: 1000, Drop: [0.4, 0.6, 0.8], batch: 40 ,RMSE: 5488.025874574572\n",
      "Step: 1200, Drop: [0.4, 0.6, 0.8], batch: 40 ,RMSE: 6161.027511706144\n",
      "Step: 1400, Drop: [0.4, 0.6, 0.8], batch: 40 ,RMSE: 6170.250562173306\n",
      "Step: 1600, Drop: [0.4, 0.6, 0.8], batch: 40 ,RMSE: 6248.336098514547\n",
      "Step: 1800, Drop: [0.4, 0.6, 0.8], batch: 40 ,RMSE: 6122.797399881854\n",
      "Step: 1999, Drop: [0.4, 0.6, 0.8], batch: 40 ,RMSE: 6154.983671789877\n",
      "Step: 0, Drop: [0.4, 0.6, 0.8], batch: 50 ,RMSE: 5740.098431211785\n",
      "Step: 200, Drop: [0.4, 0.6, 0.8], batch: 50 ,RMSE: 6055.618878364126\n",
      "Step: 400, Drop: [0.4, 0.6, 0.8], batch: 50 ,RMSE: 6094.1063331714195\n",
      "Step: 600, Drop: [0.4, 0.6, 0.8], batch: 50 ,RMSE: 6206.5491216939545\n",
      "Step: 800, Drop: [0.4, 0.6, 0.8], batch: 50 ,RMSE: 6095.082608135841\n",
      "Step: 1000, Drop: [0.4, 0.6, 0.8], batch: 50 ,RMSE: 6209.977455675665\n",
      "Step: 1200, Drop: [0.4, 0.6, 0.8], batch: 50 ,RMSE: 6125.028652994205\n",
      "Step: 1400, Drop: [0.4, 0.6, 0.8], batch: 50 ,RMSE: 6164.769257644604\n",
      "Step: 1600, Drop: [0.4, 0.6, 0.8], batch: 50 ,RMSE: 6035.576525900405\n",
      "Step: 1800, Drop: [0.4, 0.6, 0.8], batch: 50 ,RMSE: 6153.657449029804\n",
      "Step: 1999, Drop: [0.4, 0.6, 0.8], batch: 50 ,RMSE: 6144.044921710778\n",
      "Step: 0, Drop: [0.4, 0.6, 0.8], batch: 100 ,RMSE: 6226.189524902049\n",
      "Step: 200, Drop: [0.4, 0.6, 0.8], batch: 100 ,RMSE: 6155.796292925879\n",
      "Step: 400, Drop: [0.4, 0.6, 0.8], batch: 100 ,RMSE: 6167.820360548773\n",
      "Step: 600, Drop: [0.4, 0.6, 0.8], batch: 100 ,RMSE: 6130.781353139256\n",
      "Step: 800, Drop: [0.4, 0.6, 0.8], batch: 100 ,RMSE: 6159.578557011835\n",
      "Step: 1000, Drop: [0.4, 0.6, 0.8], batch: 100 ,RMSE: 6133.295036112318\n",
      "Step: 1200, Drop: [0.4, 0.6, 0.8], batch: 100 ,RMSE: 6136.780589201475\n",
      "Step: 1400, Drop: [0.4, 0.6, 0.8], batch: 100 ,RMSE: 6176.016515521959\n",
      "Step: 1600, Drop: [0.4, 0.6, 0.8], batch: 100 ,RMSE: 6125.227179460367\n",
      "Step: 1800, Drop: [0.4, 0.6, 0.8], batch: 100 ,RMSE: 6096.404514137821\n",
      "Step: 1999, Drop: [0.4, 0.6, 0.8], batch: 100 ,RMSE: 6137.2537832486605\n",
      "Step: 0, Drop: [0.6, 0.7, 0.8], batch: 5 ,RMSE: 11376.544290776528\n",
      "Step: 200, Drop: [0.6, 0.7, 0.8], batch: 5 ,RMSE: 4638.646785432148\n",
      "Step: 400, Drop: [0.6, 0.7, 0.8], batch: 5 ,RMSE: 4459.299496557727\n",
      "Step: 600, Drop: [0.6, 0.7, 0.8], batch: 5 ,RMSE: 4258.077500468961\n",
      "Step: 800, Drop: [0.6, 0.7, 0.8], batch: 5 ,RMSE: 4368.890476997563\n",
      "Step: 1000, Drop: [0.6, 0.7, 0.8], batch: 5 ,RMSE: 4140.920670575567\n",
      "Step: 1200, Drop: [0.6, 0.7, 0.8], batch: 5 ,RMSE: 4856.497503345389\n",
      "Step: 1400, Drop: [0.6, 0.7, 0.8], batch: 5 ,RMSE: 4153.213695441158\n",
      "Step: 1600, Drop: [0.6, 0.7, 0.8], batch: 5 ,RMSE: 4239.472372831317\n",
      "Step: 1800, Drop: [0.6, 0.7, 0.8], batch: 5 ,RMSE: 4286.129956032598\n",
      "Step: 1999, Drop: [0.6, 0.7, 0.8], batch: 5 ,RMSE: 4151.192840618224\n",
      "Step: 0, Drop: [0.6, 0.7, 0.8], batch: 10 ,RMSE: 4738.685893789543\n",
      "Step: 200, Drop: [0.6, 0.7, 0.8], batch: 10 ,RMSE: 4447.645219663997\n",
      "Step: 400, Drop: [0.6, 0.7, 0.8], batch: 10 ,RMSE: 4074.4973923172415\n",
      "Step: 600, Drop: [0.6, 0.7, 0.8], batch: 10 ,RMSE: 4285.113767451221\n",
      "Step: 800, Drop: [0.6, 0.7, 0.8], batch: 10 ,RMSE: 4268.221643729388\n",
      "Step: 1000, Drop: [0.6, 0.7, 0.8], batch: 10 ,RMSE: 4065.6731299995085\n",
      "Step: 1200, Drop: [0.6, 0.7, 0.8], batch: 10 ,RMSE: 4074.717904346263\n",
      "Step: 1400, Drop: [0.6, 0.7, 0.8], batch: 10 ,RMSE: 3964.9441357981327\n",
      "Step: 1600, Drop: [0.6, 0.7, 0.8], batch: 10 ,RMSE: 3956.767999264046\n",
      "Step: 1800, Drop: [0.6, 0.7, 0.8], batch: 10 ,RMSE: 3890.425555128899\n",
      "Step: 1999, Drop: [0.6, 0.7, 0.8], batch: 10 ,RMSE: 4149.5594946933825\n",
      "Step: 0, Drop: [0.6, 0.7, 0.8], batch: 20 ,RMSE: 4083.708731043388\n",
      "Step: 200, Drop: [0.6, 0.7, 0.8], batch: 20 ,RMSE: 4009.752361430815\n",
      "Step: 400, Drop: [0.6, 0.7, 0.8], batch: 20 ,RMSE: 4029.941190637898\n",
      "Step: 600, Drop: [0.6, 0.7, 0.8], batch: 20 ,RMSE: 4070.4018229162584\n",
      "Step: 800, Drop: [0.6, 0.7, 0.8], batch: 20 ,RMSE: 4152.559451711679\n",
      "Step: 1000, Drop: [0.6, 0.7, 0.8], batch: 20 ,RMSE: 4105.754498262165\n",
      "Step: 1200, Drop: [0.6, 0.7, 0.8], batch: 20 ,RMSE: 3991.9636771894607\n",
      "Step: 1400, Drop: [0.6, 0.7, 0.8], batch: 20 ,RMSE: 4029.0192354964006\n",
      "Step: 1600, Drop: [0.6, 0.7, 0.8], batch: 20 ,RMSE: 4027.937933980612\n",
      "Step: 1800, Drop: [0.6, 0.7, 0.8], batch: 20 ,RMSE: 3978.3005165522627\n",
      "Step: 1999, Drop: [0.6, 0.7, 0.8], batch: 20 ,RMSE: 4036.2078737349493\n",
      "Step: 0, Drop: [0.6, 0.7, 0.8], batch: 40 ,RMSE: 4168.55922352076\n",
      "Step: 200, Drop: [0.6, 0.7, 0.8], batch: 40 ,RMSE: 4012.7286227702966\n",
      "Step: 400, Drop: [0.6, 0.7, 0.8], batch: 40 ,RMSE: 4187.160851937742\n",
      "Step: 600, Drop: [0.6, 0.7, 0.8], batch: 40 ,RMSE: 4035.938552555031\n",
      "Step: 800, Drop: [0.6, 0.7, 0.8], batch: 40 ,RMSE: 4062.3980602594816\n",
      "Step: 1000, Drop: [0.6, 0.7, 0.8], batch: 40 ,RMSE: 4103.51946504461\n",
      "Step: 1200, Drop: [0.6, 0.7, 0.8], batch: 40 ,RMSE: 4088.695146376164\n",
      "Step: 1400, Drop: [0.6, 0.7, 0.8], batch: 40 ,RMSE: 4117.646900840333\n",
      "Step: 1600, Drop: [0.6, 0.7, 0.8], batch: 40 ,RMSE: 4236.431045113328\n",
      "Step: 1800, Drop: [0.6, 0.7, 0.8], batch: 40 ,RMSE: 4021.4944983177584\n",
      "Step: 1999, Drop: [0.6, 0.7, 0.8], batch: 40 ,RMSE: 4111.31292898023\n",
      "Step: 0, Drop: [0.6, 0.7, 0.8], batch: 50 ,RMSE: 4113.4129381816265\n",
      "Step: 200, Drop: [0.6, 0.7, 0.8], batch: 50 ,RMSE: 4297.428998831743\n",
      "Step: 400, Drop: [0.6, 0.7, 0.8], batch: 50 ,RMSE: 4149.160638008608\n",
      "Step: 600, Drop: [0.6, 0.7, 0.8], batch: 50 ,RMSE: 4001.024493801556\n",
      "Step: 800, Drop: [0.6, 0.7, 0.8], batch: 50 ,RMSE: 4013.9053302239204\n",
      "Step: 1000, Drop: [0.6, 0.7, 0.8], batch: 50 ,RMSE: 4125.085938498736\n",
      "Step: 1200, Drop: [0.6, 0.7, 0.8], batch: 50 ,RMSE: 4028.0310326510644\n",
      "Step: 1400, Drop: [0.6, 0.7, 0.8], batch: 50 ,RMSE: 4099.439961750873\n",
      "Step: 1600, Drop: [0.6, 0.7, 0.8], batch: 50 ,RMSE: 3971.291603496273\n",
      "Step: 1800, Drop: [0.6, 0.7, 0.8], batch: 50 ,RMSE: 4165.854294139439\n",
      "Step: 1999, Drop: [0.6, 0.7, 0.8], batch: 50 ,RMSE: 4044.253948505212\n",
      "Step: 0, Drop: [0.6, 0.7, 0.8], batch: 100 ,RMSE: 4061.0790438010436\n",
      "Step: 200, Drop: [0.6, 0.7, 0.8], batch: 100 ,RMSE: 4031.7667343238\n",
      "Step: 400, Drop: [0.6, 0.7, 0.8], batch: 100 ,RMSE: 4082.747236849227\n",
      "Step: 600, Drop: [0.6, 0.7, 0.8], batch: 100 ,RMSE: 4094.98485955687\n",
      "Step: 800, Drop: [0.6, 0.7, 0.8], batch: 100 ,RMSE: 4065.668456723937\n",
      "Step: 1000, Drop: [0.6, 0.7, 0.8], batch: 100 ,RMSE: 4061.7390364226994\n",
      "Step: 1200, Drop: [0.6, 0.7, 0.8], batch: 100 ,RMSE: 4050.3109757153215\n",
      "Step: 1400, Drop: [0.6, 0.7, 0.8], batch: 100 ,RMSE: 4097.046009016741\n",
      "Step: 1600, Drop: [0.6, 0.7, 0.8], batch: 100 ,RMSE: 4089.925182689776\n",
      "Step: 1800, Drop: [0.6, 0.7, 0.8], batch: 100 ,RMSE: 4057.6040960152827\n",
      "Step: 1999, Drop: [0.6, 0.7, 0.8], batch: 100 ,RMSE: 4148.687744335551\n",
      "Step: 0, Drop: [0.5, 0.5, 0], batch: 5 ,RMSE: 11299.058721858206\n",
      "Step: 200, Drop: [0.5, 0.5, 0], batch: 5 ,RMSE: 4419.017990458966\n",
      "Step: 400, Drop: [0.5, 0.5, 0], batch: 5 ,RMSE: 4348.177779254202\n",
      "Step: 600, Drop: [0.5, 0.5, 0], batch: 5 ,RMSE: 4384.404406530036\n",
      "Step: 800, Drop: [0.5, 0.5, 0], batch: 5 ,RMSE: 4231.984168212352\n",
      "Step: 1000, Drop: [0.5, 0.5, 0], batch: 5 ,RMSE: 4376.765015396646\n",
      "Step: 1200, Drop: [0.5, 0.5, 0], batch: 5 ,RMSE: 4239.21856006505\n",
      "Step: 1400, Drop: [0.5, 0.5, 0], batch: 5 ,RMSE: 4201.063912867787\n",
      "Step: 1600, Drop: [0.5, 0.5, 0], batch: 5 ,RMSE: 4397.1261069020975\n",
      "Step: 1800, Drop: [0.5, 0.5, 0], batch: 5 ,RMSE: 4054.0069067528734\n",
      "Step: 1999, Drop: [0.5, 0.5, 0], batch: 5 ,RMSE: 4205.660471317198\n",
      "Step: 0, Drop: [0.5, 0.5, 0], batch: 10 ,RMSE: 4391.3287283008085\n",
      "Step: 200, Drop: [0.5, 0.5, 0], batch: 10 ,RMSE: 4125.934560799528\n",
      "Step: 400, Drop: [0.5, 0.5, 0], batch: 10 ,RMSE: 3975.386144766317\n",
      "Step: 600, Drop: [0.5, 0.5, 0], batch: 10 ,RMSE: 3911.095115181936\n",
      "Step: 800, Drop: [0.5, 0.5, 0], batch: 10 ,RMSE: 4092.8697755975572\n",
      "Step: 1000, Drop: [0.5, 0.5, 0], batch: 10 ,RMSE: 4191.467046273894\n",
      "Step: 1200, Drop: [0.5, 0.5, 0], batch: 10 ,RMSE: 3996.193438761442\n",
      "Step: 1400, Drop: [0.5, 0.5, 0], batch: 10 ,RMSE: 4200.755646309363\n",
      "Step: 1600, Drop: [0.5, 0.5, 0], batch: 10 ,RMSE: 4101.775956826506\n",
      "Step: 1800, Drop: [0.5, 0.5, 0], batch: 10 ,RMSE: 4144.1078653915365\n",
      "Step: 1999, Drop: [0.5, 0.5, 0], batch: 10 ,RMSE: 4060.971804876266\n",
      "Step: 0, Drop: [0.5, 0.5, 0], batch: 20 ,RMSE: 4169.273557827551\n",
      "Step: 200, Drop: [0.5, 0.5, 0], batch: 20 ,RMSE: 3801.9965807454378\n",
      "Step: 400, Drop: [0.5, 0.5, 0], batch: 20 ,RMSE: 3845.034070070121\n",
      "Step: 600, Drop: [0.5, 0.5, 0], batch: 20 ,RMSE: 3912.116690488667\n",
      "Step: 800, Drop: [0.5, 0.5, 0], batch: 20 ,RMSE: 3910.022634205587\n",
      "Step: 1000, Drop: [0.5, 0.5, 0], batch: 20 ,RMSE: 3849.2462898598733\n",
      "Step: 1200, Drop: [0.5, 0.5, 0], batch: 20 ,RMSE: 3883.076357734934\n",
      "Step: 1400, Drop: [0.5, 0.5, 0], batch: 20 ,RMSE: 3876.612438715018\n",
      "Step: 1600, Drop: [0.5, 0.5, 0], batch: 20 ,RMSE: 3772.967532327836\n",
      "Step: 1800, Drop: [0.5, 0.5, 0], batch: 20 ,RMSE: 3758.361611127913\n",
      "Step: 1999, Drop: [0.5, 0.5, 0], batch: 20 ,RMSE: 3988.1677497316987\n",
      "Step: 0, Drop: [0.5, 0.5, 0], batch: 40 ,RMSE: 3904.6353222804305\n",
      "Step: 200, Drop: [0.5, 0.5, 0], batch: 40 ,RMSE: 3833.677346882494\n",
      "Step: 400, Drop: [0.5, 0.5, 0], batch: 40 ,RMSE: 3869.3974983193443\n",
      "Step: 600, Drop: [0.5, 0.5, 0], batch: 40 ,RMSE: 3817.354188439946\n",
      "Step: 800, Drop: [0.5, 0.5, 0], batch: 40 ,RMSE: 3875.5684744305577\n",
      "Step: 1000, Drop: [0.5, 0.5, 0], batch: 40 ,RMSE: 3798.3212081128686\n",
      "Step: 1200, Drop: [0.5, 0.5, 0], batch: 40 ,RMSE: 3889.8055221308946\n",
      "Step: 1400, Drop: [0.5, 0.5, 0], batch: 40 ,RMSE: 3833.0106965673863\n",
      "Step: 1600, Drop: [0.5, 0.5, 0], batch: 40 ,RMSE: 3800.54443468301\n",
      "Step: 1800, Drop: [0.5, 0.5, 0], batch: 40 ,RMSE: 3857.3471453837287\n",
      "Step: 1999, Drop: [0.5, 0.5, 0], batch: 40 ,RMSE: 3885.0588155136084\n",
      "Step: 0, Drop: [0.5, 0.5, 0], batch: 50 ,RMSE: 3827.8031558584617\n",
      "Step: 200, Drop: [0.5, 0.5, 0], batch: 50 ,RMSE: 3819.674986173562\n",
      "Step: 400, Drop: [0.5, 0.5, 0], batch: 50 ,RMSE: 3839.2257031854742\n",
      "Step: 600, Drop: [0.5, 0.5, 0], batch: 50 ,RMSE: 3763.554436965141\n",
      "Step: 800, Drop: [0.5, 0.5, 0], batch: 50 ,RMSE: 3769.0257361816994\n",
      "Step: 1000, Drop: [0.5, 0.5, 0], batch: 50 ,RMSE: 3834.0434269841026\n",
      "Step: 1200, Drop: [0.5, 0.5, 0], batch: 50 ,RMSE: 3859.630422721844\n",
      "Step: 1400, Drop: [0.5, 0.5, 0], batch: 50 ,RMSE: 3841.89133110243\n",
      "Step: 1600, Drop: [0.5, 0.5, 0], batch: 50 ,RMSE: 3802.413970098469\n",
      "Step: 1800, Drop: [0.5, 0.5, 0], batch: 50 ,RMSE: 3771.929612280696\n",
      "Step: 1999, Drop: [0.5, 0.5, 0], batch: 50 ,RMSE: 3774.745421879468\n",
      "Step: 0, Drop: [0.5, 0.5, 0], batch: 100 ,RMSE: 3816.6468267315486\n",
      "Step: 200, Drop: [0.5, 0.5, 0], batch: 100 ,RMSE: 3750.0077333253594\n",
      "Step: 400, Drop: [0.5, 0.5, 0], batch: 100 ,RMSE: 3752.9543029458805\n",
      "Step: 600, Drop: [0.5, 0.5, 0], batch: 100 ,RMSE: 3703.593525213046\n",
      "Step: 800, Drop: [0.5, 0.5, 0], batch: 100 ,RMSE: 3724.551650870209\n",
      "Step: 1000, Drop: [0.5, 0.5, 0], batch: 100 ,RMSE: 3760.3389474886435\n",
      "Step: 1200, Drop: [0.5, 0.5, 0], batch: 100 ,RMSE: 3775.5265857890604\n",
      "Step: 1400, Drop: [0.5, 0.5, 0], batch: 100 ,RMSE: 3749.18657844605\n",
      "Step: 1600, Drop: [0.5, 0.5, 0], batch: 100 ,RMSE: 3733.9282264125004\n",
      "Step: 1800, Drop: [0.5, 0.5, 0], batch: 100 ,RMSE: 3742.749256896593\n",
      "Step: 1999, Drop: [0.5, 0.5, 0], batch: 100 ,RMSE: 3701.9705563388807\n",
      "Step: 0, Drop: [0.2, 0, 0.2], batch: 5 ,RMSE: 11269.252326574288\n",
      "Step: 200, Drop: [0.2, 0, 0.2], batch: 5 ,RMSE: 4844.880390680455\n",
      "Step: 400, Drop: [0.2, 0, 0.2], batch: 5 ,RMSE: 4311.735845341178\n",
      "Step: 600, Drop: [0.2, 0, 0.2], batch: 5 ,RMSE: 4818.397451435488\n",
      "Step: 800, Drop: [0.2, 0, 0.2], batch: 5 ,RMSE: 4687.10016961447\n",
      "Step: 1000, Drop: [0.2, 0, 0.2], batch: 5 ,RMSE: 4418.703656051172\n",
      "Step: 1200, Drop: [0.2, 0, 0.2], batch: 5 ,RMSE: 4142.581562262836\n",
      "Step: 1400, Drop: [0.2, 0, 0.2], batch: 5 ,RMSE: 4214.1065482495815\n",
      "Step: 1600, Drop: [0.2, 0, 0.2], batch: 5 ,RMSE: 4318.16604590421\n",
      "Step: 1800, Drop: [0.2, 0, 0.2], batch: 5 ,RMSE: 4606.813649367641\n",
      "Step: 1999, Drop: [0.2, 0, 0.2], batch: 5 ,RMSE: 4320.353920687517\n",
      "Step: 0, Drop: [0.2, 0, 0.2], batch: 10 ,RMSE: 4995.401685550422\n",
      "Step: 200, Drop: [0.2, 0, 0.2], batch: 10 ,RMSE: 4504.686892559793\n",
      "Step: 400, Drop: [0.2, 0, 0.2], batch: 10 ,RMSE: 4743.543401298232\n",
      "Step: 600, Drop: [0.2, 0, 0.2], batch: 10 ,RMSE: 4351.600165456381\n",
      "Step: 800, Drop: [0.2, 0, 0.2], batch: 10 ,RMSE: 4378.112150230964\n",
      "Step: 1000, Drop: [0.2, 0, 0.2], batch: 10 ,RMSE: 4424.051084696017\n",
      "Step: 1200, Drop: [0.2, 0, 0.2], batch: 10 ,RMSE: 4810.229724243947\n",
      "Step: 1400, Drop: [0.2, 0, 0.2], batch: 10 ,RMSE: 4580.431202408787\n",
      "Step: 1600, Drop: [0.2, 0, 0.2], batch: 10 ,RMSE: 4464.861028072431\n",
      "Step: 1800, Drop: [0.2, 0, 0.2], batch: 10 ,RMSE: 4715.1163294239095\n",
      "Step: 1999, Drop: [0.2, 0, 0.2], batch: 10 ,RMSE: 4591.375393060341\n",
      "Step: 0, Drop: [0.2, 0, 0.2], batch: 20 ,RMSE: 4684.312329467368\n",
      "Step: 200, Drop: [0.2, 0, 0.2], batch: 20 ,RMSE: 4497.297188312109\n",
      "Step: 400, Drop: [0.2, 0, 0.2], batch: 20 ,RMSE: 5094.163523091892\n",
      "Step: 600, Drop: [0.2, 0, 0.2], batch: 20 ,RMSE: 5104.432191732984\n",
      "Step: 800, Drop: [0.2, 0, 0.2], batch: 20 ,RMSE: 5114.179308549907\n",
      "Step: 1000, Drop: [0.2, 0, 0.2], batch: 20 ,RMSE: 5058.983890071207\n",
      "Step: 1200, Drop: [0.2, 0, 0.2], batch: 20 ,RMSE: 5100.586240815854\n",
      "Step: 1400, Drop: [0.2, 0, 0.2], batch: 20 ,RMSE: 5106.437897399713\n",
      "Step: 1600, Drop: [0.2, 0, 0.2], batch: 20 ,RMSE: 5059.002273176006\n",
      "Step: 1800, Drop: [0.2, 0, 0.2], batch: 20 ,RMSE: 5003.820540347146\n",
      "Step: 1999, Drop: [0.2, 0, 0.2], batch: 20 ,RMSE: 4868.803343738582\n",
      "Step: 0, Drop: [0.2, 0, 0.2], batch: 40 ,RMSE: 4877.235487445731\n",
      "Step: 200, Drop: [0.2, 0, 0.2], batch: 40 ,RMSE: 4861.2998261781795\n",
      "Step: 400, Drop: [0.2, 0, 0.2], batch: 40 ,RMSE: 4930.626126568512\n",
      "Step: 600, Drop: [0.2, 0, 0.2], batch: 40 ,RMSE: 4723.499126706811\n",
      "Step: 800, Drop: [0.2, 0, 0.2], batch: 40 ,RMSE: 4878.7180693292785\n",
      "Step: 1000, Drop: [0.2, 0, 0.2], batch: 40 ,RMSE: 5044.649244496589\n",
      "Step: 1200, Drop: [0.2, 0, 0.2], batch: 40 ,RMSE: 4958.616944269844\n",
      "Step: 1400, Drop: [0.2, 0, 0.2], batch: 40 ,RMSE: 4935.905995863373\n",
      "Step: 1600, Drop: [0.2, 0, 0.2], batch: 40 ,RMSE: 4703.884564910155\n",
      "Step: 1800, Drop: [0.2, 0, 0.2], batch: 40 ,RMSE: 4950.822961892295\n",
      "Step: 1999, Drop: [0.2, 0, 0.2], batch: 40 ,RMSE: 4778.791269766864\n",
      "Step: 0, Drop: [0.2, 0, 0.2], batch: 50 ,RMSE: 4851.983099723247\n",
      "Step: 200, Drop: [0.2, 0, 0.2], batch: 50 ,RMSE: 4741.689150503225\n",
      "Step: 400, Drop: [0.2, 0, 0.2], batch: 50 ,RMSE: 4828.440949209175\n",
      "Step: 600, Drop: [0.2, 0, 0.2], batch: 50 ,RMSE: 4811.077218253725\n",
      "Step: 800, Drop: [0.2, 0, 0.2], batch: 50 ,RMSE: 4894.694678935552\n",
      "Step: 1000, Drop: [0.2, 0, 0.2], batch: 50 ,RMSE: 4742.748991882239\n",
      "Step: 1200, Drop: [0.2, 0, 0.2], batch: 50 ,RMSE: 4805.43296696562\n",
      "Step: 1400, Drop: [0.2, 0, 0.2], batch: 50 ,RMSE: 4875.376908506664\n",
      "Step: 1600, Drop: [0.2, 0, 0.2], batch: 50 ,RMSE: 4886.80938854791\n",
      "Step: 1800, Drop: [0.2, 0, 0.2], batch: 50 ,RMSE: 4806.288172800295\n",
      "Step: 1999, Drop: [0.2, 0, 0.2], batch: 50 ,RMSE: 4763.001574637573\n",
      "Step: 0, Drop: [0.2, 0, 0.2], batch: 100 ,RMSE: 4757.571649486742\n",
      "Step: 200, Drop: [0.2, 0, 0.2], batch: 100 ,RMSE: 4781.741314625876\n",
      "Step: 400, Drop: [0.2, 0, 0.2], batch: 100 ,RMSE: 4749.2900522078035\n",
      "Step: 600, Drop: [0.2, 0, 0.2], batch: 100 ,RMSE: 4730.428099020214\n",
      "Step: 800, Drop: [0.2, 0, 0.2], batch: 100 ,RMSE: 4742.916824065123\n",
      "Step: 1000, Drop: [0.2, 0, 0.2], batch: 100 ,RMSE: 4785.568931694538\n",
      "Step: 1200, Drop: [0.2, 0, 0.2], batch: 100 ,RMSE: 4768.084730790761\n",
      "Step: 1400, Drop: [0.2, 0, 0.2], batch: 100 ,RMSE: 4762.119276120664\n",
      "Step: 1600, Drop: [0.2, 0, 0.2], batch: 100 ,RMSE: 4742.8430292388975\n",
      "Step: 1800, Drop: [0.2, 0, 0.2], batch: 100 ,RMSE: 4746.502291161356\n",
      "Step: 1999, Drop: [0.2, 0, 0.2], batch: 100 ,RMSE: 4735.183628963084\n",
      "top rmse: 3257.38146369135 \n",
      " top epoch: 1800 \n",
      " top drop [0.2, 0.4, 0.5] \n",
      " top batch 50\n"
     ]
    },
    {
     "data": {
      "image/png": "[encoded data removed]",
      "text/plain": [
       "<Figure size 1152x720 with 1 Axes>"
      ]
     },
     "metadata": {},
     "output_type": "display_data"
    },
    {
     "data": {
      "image/png": "[encoded data removed]",
      "text/plain": [
       "<Figure size 1152x720 with 1 Axes>"
      ]
     },
     "metadata": {},
     "output_type": "display_data"
    }
   ],
   "source": [
    "cntnrn = [[0.2,0.4,0.5],[0.4,0.6,0.8],[0.6,0.7,0.8],[0.5,0.5,0],[0.2,0,0.2]]\n",
    "\n",
    "\n",
    "top_cntnrn_4 = None\n",
    "top_epoch_4 = None\n",
    "top_rmse_4 = 150000\n",
    "top_preds_4 = None\n",
    "top_batch_4 = None\n",
    "\n",
    "for dnc in cntnrn:\n",
    "    class Net(nn.Module):\n",
    "        def __init__(self,n_in_neurons,n_hidden_neurons_1,\n",
    "                    n_hidden_neurons_2,n_hidden_neurons_3,n_out_neurons):\n",
    "            super(Net,self).__init__()\n",
    "\n",
    "            self.fc1 = nn.Linear(n_in_neurons, n_hidden_neurons_1)\n",
    "            self.act1 = nn.ReLU()\n",
    "            self.bn1 = nn.BatchNorm1d(n_hidden_neurons_1)\n",
    "            self.dp1 = nn.Dropout(p=dnc[0])\n",
    "\n",
    "            self.fc2 = nn.Linear(n_hidden_neurons_1,n_hidden_neurons_2)\n",
    "            self.act2 = nn.ReLU()\n",
    "            self.bn2 = nn.BatchNorm1d(n_hidden_neurons_2)\n",
    "            self.dp2 = nn.Dropout(p=dnc[1])\n",
    "\n",
    "            self.fc3 = nn.Linear(n_hidden_neurons_2,n_hidden_neurons_3)\n",
    "            self.act3 = nn.ReLU()\n",
    "            self.bn3 = nn.BatchNorm1d(n_hidden_neurons_3)\n",
    "            self.dp3 = nn.Dropout(p=dnc[2])\n",
    "\n",
    "\n",
    "            self.fc4 = nn.Linear(n_hidden_neurons_3,n_out_neurons)\n",
    "\n",
    "\n",
    "            nn.init.kaiming_uniform_(self.fc1.weight, mode = 'fan_out', nonlinearity = 'relu')\n",
    "            nn.init.uniform_(self.fc1.bias, a = 0.5, b = 0.7)\n",
    "\n",
    "            nn.init.kaiming_uniform_(self.fc2.weight, mode = 'fan_out', nonlinearity = 'relu')\n",
    "            nn.init.uniform_(self.fc2.bias, a = 0.5, b = 0.7)\n",
    "\n",
    "            nn.init.kaiming_uniform_(self.fc3.weight, mode = 'fan_out', nonlinearity = 'relu')\n",
    "            nn.init.uniform_(self.fc3.bias, a = 0.5, b = 0.7)\n",
    "\n",
    "            nn.init.uniform_(self.fc4.weight, a = 0.5, b = 0.7)\n",
    "            nn.init.uniform_(self.fc4.bias, a = 0.5, b = 0.7)\n",
    "\n",
    "        def forward(self,x):\n",
    "            x = self.fc1(x)\n",
    "            x = self.bn1(x)\n",
    "            x = self.act1(x)\n",
    "            x = self.dp1(x)\n",
    "\n",
    "            x = self.fc2(x)\n",
    "            x = self.bn2(x)\n",
    "            x = self.act2(x)\n",
    "            x = self.dp2(x)\n",
    "\n",
    "            x = self.fc3(x)\n",
    "            x = self.bn3(x)\n",
    "            x = self.act3(x)\n",
    "            x = self.dp3(x)\n",
    "\n",
    "            x = self.fc4(x)\n",
    "\n",
    "            return x\n",
    "        \n",
    "\n",
    "    n_in_neurons = 10\n",
    "    n_hidden_neurons_1 = 24\n",
    "    n_hidden_neurons_2 = 12\n",
    "    n_hidden_neurons_3 = 6\n",
    "    n_out_neurons = 1\n",
    "\n",
    "    net = Net(10,24,12,6,1)\n",
    "\n",
    "    optimizer = torch.optim.Adam(net.parameters(), lr = 0.10)\n",
    "\n",
    "    loss = nn.MSELoss()\n",
    "\n",
    "    num_epochs = 2000\n",
    "\n",
    "\n",
    "    batch_size = [5,10,20,40,50,100]\n",
    "    for btch in batch_size:\n",
    "\n",
    "        num_batches = ceil(len(x_train)/btch)\n",
    "        for epoch in range(num_epochs):\n",
    "\n",
    "            order = np.random.permutation(len(x_train))\n",
    "\n",
    "            for batch_idx in range(num_batches):\n",
    "                start_index = batch_idx * btch\n",
    "                optimizer.zero_grad()\n",
    "                batch_indexes = order[start_index:start_index + btch]\n",
    "                x_batch = x_train[batch_indexes]\n",
    "                y_batch = y_train[batch_indexes]\n",
    "                preds = net.forward(x_batch).flatten()\n",
    "                loss_value = loss(preds, y_batch)\n",
    "                loss_value.backward()\n",
    "                optimizer.step()\n",
    "                \n",
    "            if epoch % 5 == 0 or epoch == num_epochs -1:\n",
    "                net.eval()\n",
    "                test_preds = net.forward(x_test)\n",
    "                rmse = sqrt(mean_squared_error(y_test.detach().numpy(), test_preds.detach().numpy()))\n",
    "            if epoch % 200 == 0 or epoch == num_epochs -1:\n",
    "                if rmse < top_rmse_4:\n",
    "                    top_rmse_4 = rmse\n",
    "                    top_epoch_4 = epoch\n",
    "                    top_preds_4 = test_preds\n",
    "                    top_cntnrn_4 = dnc\n",
    "                    top_batch_4 = btch\n",
    "            if epoch % 200 == 0 or epoch == num_epochs -1:\n",
    "                print(f'Step: {epoch}, Drop: {dnc}, batch: {btch} ,RMSE:',rmse)\n",
    "\n",
    "\n",
    "print(f'top rmse: {top_rmse_4}','\\n'\n",
    "             , f'top epoch: {top_epoch_4}','\\n',\n",
    "     f'top drop {top_cntnrn_4}','\\n',\n",
    "     f'top batch {top_batch_4}')\n",
    "compar(top_preds_4, y_test, y_idx)"
   ]
  },
  {
   "cell_type": "markdown",
   "id": "6fffe717",
   "metadata": {},
   "source": [
    "Попытка использования BatchNormalization & Dropout, как и обычное обучение по батчам не оправдывает своё использование."
   ]
  },
  {
   "cell_type": "markdown",
   "id": "56a8485e",
   "metadata": {},
   "source": [
    "### Подготовка итоговой нейронной сети:"
   ]
  },
  {
   "cell_type": "markdown",
   "id": "d4e508ea",
   "metadata": {},
   "source": [
    "1. Опираясь на результативность метода Dropout - напишем итоговую архитектуру нейронной сети\n",
    "2. Ввиду случайного характера отключения нейронов - создадим цикл, который будет перезапускать нейронную сеть, до получения эффективног результата\n",
    "3. Остановим цикл на пороге метрики RMSE менее 3000 как для TEST, так и для TRAIN, чтобы избажать случайной подгонки под одну лишь тестовую выборку.\n"
   ]
  },
  {
   "cell_type": "code",
   "execution_count": 36,
   "id": "8874e461",
   "metadata": {},
   "outputs": [],
   "source": [
    "\"\"\"\n",
    "\\\\\\\\\\\n",
    "Переопределим выбранный нами класс последний раз,\n",
    "указав параметры Dropout\n",
    "/////\n",
    "\"\"\"\n",
    "\n",
    "\n",
    "class Net(nn.Module):\n",
    "    def __init__(self,n_in_neurons,n_hidden_neurons_1,\n",
    "                    n_hidden_neurons_2,n_hidden_neurons_3,n_out_neurons):\n",
    "        super(Net,self).__init__()\n",
    "\n",
    "        self.fc1 = nn.Linear(n_in_neurons, n_hidden_neurons_1)\n",
    "        self.act1 = nn.ReLU()\n",
    "        self.dp1 = nn.Dropout(p= 0.4)\n",
    "\n",
    "        self.fc2 = nn.Linear(n_hidden_neurons_1,n_hidden_neurons_2)\n",
    "        self.act2 = nn.ReLU()\n",
    "        self.dp2 = nn.Dropout(p = 0.6)\n",
    "\n",
    "        self.fc3 = nn.Linear(n_hidden_neurons_2,n_hidden_neurons_3)\n",
    "        self.act3 = nn.ReLU()\n",
    "        self.dp3 = nn.Dropout(p = 0.8)\n",
    "\n",
    "        self.fc4 = nn.Linear(n_hidden_neurons_3,n_out_neurons)\n",
    "\n",
    "        nn.init.kaiming_uniform_(self.fc1.weight, mode = 'fan_out', nonlinearity = 'relu')\n",
    "        nn.init.uniform_(self.fc1.bias, a = 0.5, b = 0.7)\n",
    "\n",
    "\n",
    "        nn.init.kaiming_uniform_(self.fc2.weight, mode = 'fan_out', nonlinearity = 'relu')\n",
    "        nn.init.uniform_(self.fc2.bias, a = 0.5, b = 0.7)\n",
    "\n",
    "        nn.init.kaiming_uniform_(self.fc3.weight, mode = 'fan_out', nonlinearity = 'relu')\n",
    "        nn.init.uniform_(self.fc3.bias, a = 0.5, b = 0.7)\n",
    "\n",
    "        nn.init.uniform_(self.fc4.weight, a = 0.5, b = 0.7)\n",
    "        nn.init.uniform_(self.fc4.bias, a = 0.5, b = 0.7)\n",
    "\n",
    "    def forward(self,x):\n",
    "\n",
    "        x = self.fc1(x)\n",
    "        x = self.act1(x)\n",
    "        x = self.dp1(x)\n",
    "\n",
    "        x = self.fc2(x)\n",
    "        x = self.act2(x)\n",
    "        x = self.dp2(x)\n",
    "\n",
    "        x = self.fc3(x)\n",
    "        x = self.act3(x)\n",
    "        x = self.dp3(x)\n",
    "\n",
    "        x = self.fc4(x)\n",
    "        return x\n",
    "    \n",
    "        "
   ]
  },
  {
   "cell_type": "markdown",
   "id": "c41aef7f",
   "metadata": {},
   "source": [
    "Создадим цикл, который будет перезапускать класс нейронной сети до тех пор, пока не будет инициализированна наилучшая сессия с близкой к уже имевшейся точности RMSE, но в этот раз и по тренировочной выборке, чтобы избежать случайной подгонки теста."
   ]
  },
  {
   "cell_type": "code",
   "execution_count": 43,
   "id": "0c8936d4",
   "metadata": {
    "scrolled": false
   },
   "outputs": [
    {
     "name": "stdout",
     "output_type": "stream",
     "text": [
      "start new_cycle\n",
      "Цикл: 1, Эпоха: 0, RMSE test: 11383.994729443615, RMSE train 14967.272563830726\n",
      "Цикл: 1, Эпоха: 100, RMSE test: 5703.947580404294, RMSE train 5094.958292272862\n",
      "Цикл: 1, Эпоха: 200, RMSE test: 4796.368209385097, RMSE train 4071.820600173834\n",
      "Цикл: 1, Эпоха: 300, RMSE test: 4402.949011742016, RMSE train 3858.051969582577\n",
      "Цикл: 1, Эпоха: 400, RMSE test: 3999.30781511001, RMSE train 3677.31151794351\n",
      "Цикл: 1, Эпоха: 500, RMSE test: 3664.720180313908, RMSE train 3544.877148788093\n",
      "Цикл: 1, Эпоха: 600, RMSE test: 3415.4389176209843, RMSE train 3488.044867830688\n",
      "Цикл: 1, Эпоха: 700, RMSE test: 3291.6012820510323, RMSE train 3440.4982197350428\n",
      "Цикл: 1, Эпоха: 800, RMSE test: 3297.9619464147854, RMSE train 3161.478609764741\n",
      "Цикл: 1, Эпоха: 900, RMSE test: 3212.733260013971, RMSE train 3121.8811636575792\n",
      "Цикл: 1, Эпоха: 1000, RMSE test: 3347.2500653521543, RMSE train 3054.8436948557614\n",
      "Цикл: 1, Эпоха: 1100, RMSE test: 3338.1172837394433, RMSE train 2984.332253620565\n",
      "Цикл: 1, Эпоха: 1200, RMSE test: 3504.7250962094017, RMSE train 2944.45886369635\n",
      "Цикл: 1, Эпоха: 1300, RMSE test: 3553.7134099417754, RMSE train 2870.505094926675\n",
      "Цикл: 1, Эпоха: 1400, RMSE test: 3697.6779199924918, RMSE train 2801.3557432072066\n",
      "Цикл: 1, Эпоха: 1500, RMSE test: 3957.067601141027, RMSE train 2752.6892305525516\n",
      "Цикл: 1, Эпоха: 1600, RMSE test: 4597.528466469784, RMSE train 2857.4471123714607\n",
      "Цикл: 1, Эпоха: 1700, RMSE test: 4660.567562003581, RMSE train 2640.751786897057\n",
      "Цикл: 1, Эпоха: 1800, RMSE test: 4476.934442227181, RMSE train 2574.6632789551336\n",
      "Цикл: 1, Эпоха: 1900, RMSE test: 4400.59314183895, RMSE train 2588.0837505768627\n",
      "Цикл: 1, Эпоха: 1999, RMSE test: 4156.37486278608, RMSE train 2451.944228566384\n",
      "start new_cycle\n",
      "Цикл: 2, Эпоха: 0, RMSE test: 11379.336360262843, RMSE train 14966.215286437651\n",
      "Цикл: 2, Эпоха: 100, RMSE test: 5725.915647300439, RMSE train 5143.4573975099665\n",
      "Цикл: 2, Эпоха: 200, RMSE test: 4888.53597716126, RMSE train 4075.8462924894507\n",
      "Цикл: 2, Эпоха: 300, RMSE test: 4472.251558219864, RMSE train 3754.7689675930797\n",
      "Цикл: 2, Эпоха: 400, RMSE test: 4467.771032629134, RMSE train 3604.522992019887\n",
      "Цикл: 2, Эпоха: 500, RMSE test: 4434.8129611067025, RMSE train 3422.2337734292787\n",
      "Цикл: 2, Эпоха: 600, RMSE test: 4006.1240619831033, RMSE train 3203.0296595567143\n",
      "Цикл: 2, Эпоха: 700, RMSE test: 4081.0383482638335, RMSE train 3005.264880172794\n",
      "Цикл: 2, Эпоха: 800, RMSE test: 4198.983686560357, RMSE train 2914.5442182269253\n",
      "Цикл: 2, Эпоха: 900, RMSE test: 4176.221258506307, RMSE train 2872.1398816910014\n",
      "Цикл: 2, Эпоха: 1000, RMSE test: 3889.8326442149155, RMSE train 2808.468443831976\n",
      "Цикл: 2, Эпоха: 1100, RMSE test: 3810.001312335732, RMSE train 2782.0904909797596\n",
      "Цикл: 2, Эпоха: 1200, RMSE test: 4011.636573768865, RMSE train 2760.6050061535425\n",
      "Цикл: 2, Эпоха: 1300, RMSE test: 3980.489165919184, RMSE train 2736.9843806642375\n",
      "Цикл: 2, Эпоха: 1400, RMSE test: 3843.769634096195, RMSE train 2769.8765315443216\n",
      "Цикл: 2, Эпоха: 1500, RMSE test: 4036.4362995097545, RMSE train 2744.5026871912514\n",
      "Цикл: 2, Эпоха: 1600, RMSE test: 3934.3962688066895, RMSE train 2708.2865431855616\n",
      "Цикл: 2, Эпоха: 1700, RMSE test: 3947.043957191255, RMSE train 2712.7846394433896\n",
      "Цикл: 2, Эпоха: 1800, RMSE test: 3787.915521761276, RMSE train 2690.691360970262\n",
      "Цикл: 2, Эпоха: 1900, RMSE test: 3659.7465759257157, RMSE train 2691.7932684364896\n",
      "Цикл: 2, Эпоха: 1999, RMSE test: 3586.8778903107363, RMSE train 2673.7933727197396\n",
      "start new_cycle\n",
      "Цикл: 3, Эпоха: 0, RMSE test: 11383.817988706602, RMSE train 14968.178513099047\n",
      "Цикл: 3, Эпоха: 100, RMSE test: 4788.704417689612, RMSE train 4472.86597161149\n",
      "Цикл: 3, Эпоха: 200, RMSE test: 3843.972944753904, RMSE train 3745.730636337856\n",
      "Цикл: 3, Эпоха: 300, RMSE test: 3401.7820329938836, RMSE train 3518.2769930748773\n",
      "Цикл: 3, Эпоха: 400, RMSE test: 3187.550313328403, RMSE train 3429.648815841062\n",
      "Цикл: 3, Эпоха: 500, RMSE test: 3236.2560158306387, RMSE train 3404.724511616175\n",
      "Цикл: 3, Эпоха: 600, RMSE test: 3252.02275514794, RMSE train 3398.426547683501\n",
      "Цикл: 3, Эпоха: 700, RMSE test: 3230.517605585829, RMSE train 3391.5680739150735\n",
      "Цикл: 3, Эпоха: 800, RMSE test: 3233.530887435591, RMSE train 3386.810003528394\n",
      "Цикл: 3, Эпоха: 900, RMSE test: 3230.323203643871, RMSE train 3383.4964164307903\n",
      "Цикл: 3, Эпоха: 1000, RMSE test: 3230.880684890731, RMSE train 3379.894229114278\n",
      "Цикл: 3, Эпоха: 1100, RMSE test: 3289.8101768947095, RMSE train 3381.9992607923496\n",
      "Цикл: 3, Эпоха: 1200, RMSE test: 3244.6536024666793, RMSE train 3372.776749208284\n",
      "Цикл: 3, Эпоха: 1300, RMSE test: 3238.2712980848287, RMSE train 3371.6795517961073\n",
      "Цикл: 3, Эпоха: 1400, RMSE test: 3288.3124851510083, RMSE train 3373.3627139695486\n",
      "Цикл: 3, Эпоха: 1500, RMSE test: 3280.9526055705223, RMSE train 3362.6180276683226\n",
      "Цикл: 3, Эпоха: 1600, RMSE test: 3338.678930355538, RMSE train 3368.266616525479\n",
      "Цикл: 3, Эпоха: 1700, RMSE test: 3239.0297930090114, RMSE train 3351.48683422746\n",
      "Цикл: 3, Эпоха: 1800, RMSE test: 3218.4389072965173, RMSE train 3352.732318572421\n",
      "Цикл: 3, Эпоха: 1900, RMSE test: 3291.0021270123784, RMSE train 3345.069506004322\n",
      "Цикл: 3, Эпоха: 1999, RMSE test: 3190.276163594619, RMSE train 3369.3116507678537\n",
      "start new_cycle\n",
      "Цикл: 4, Эпоха: 0, RMSE test: 11385.178083807034, RMSE train 14970.028724087339\n",
      "Цикл: 4, Эпоха: 100, RMSE test: 5533.853449450934, RMSE train 4964.91389653436\n",
      "Цикл: 4, Эпоха: 200, RMSE test: 4801.549541554268, RMSE train 4068.322750225208\n",
      "Цикл: 4, Эпоха: 300, RMSE test: 4393.0422260661235, RMSE train 3892.681980331812\n",
      "Цикл: 4, Эпоха: 400, RMSE test: 4163.22303029756, RMSE train 3785.2857223728834\n",
      "Цикл: 4, Эпоха: 500, RMSE test: 3941.415735494037, RMSE train 3659.982650232102\n",
      "Цикл: 4, Эпоха: 600, RMSE test: 3678.7450305776833, RMSE train 3502.6448578181603\n",
      "Цикл: 4, Эпоха: 700, RMSE test: 3459.7762933461463, RMSE train 3409.8668595709128\n",
      "Цикл: 4, Эпоха: 800, RMSE test: 3372.906313552157, RMSE train 3377.6768643551445\n",
      "Цикл: 4, Эпоха: 900, RMSE test: 3425.670445328914, RMSE train 3354.168451345281\n",
      "Цикл: 4, Эпоха: 1000, RMSE test: 3551.7102922395006, RMSE train 3269.038696620155\n",
      "Цикл: 4, Эпоха: 1100, RMSE test: 3832.3646747145553, RMSE train 3159.279189941908\n",
      "Цикл: 4, Эпоха: 1200, RMSE test: 3807.8567462550373, RMSE train 3083.566928088314\n",
      "Цикл: 4, Эпоха: 1300, RMSE test: 4067.030858009317, RMSE train 3068.171116479653\n",
      "Цикл: 4, Эпоха: 1400, RMSE test: 4162.438708257456, RMSE train 2974.2552008864336\n",
      "Цикл: 4, Эпоха: 1500, RMSE test: 4235.452986399448, RMSE train 2958.617751586034\n",
      "Цикл: 4, Эпоха: 1600, RMSE test: 4337.219155173047, RMSE train 2905.5360951122257\n",
      "Цикл: 4, Эпоха: 1700, RMSE test: 4410.9645203742, RMSE train 2950.2569379632005\n",
      "Цикл: 4, Эпоха: 1800, RMSE test: 4270.7868127547645, RMSE train 3156.3265040233086\n",
      "Цикл: 4, Эпоха: 1900, RMSE test: 4347.73573253941, RMSE train 2869.431476791178\n",
      "Цикл: 4, Эпоха: 1999, RMSE test: 4456.523757369639, RMSE train 2845.0588746105063\n",
      "start new_cycle\n",
      "Цикл: 5, Эпоха: 0, RMSE test: 11389.50639843536, RMSE train 14973.85508144112\n",
      "Цикл: 5, Эпоха: 100, RMSE test: 5789.653357499048, RMSE train 5216.241367114831\n",
      "Цикл: 5, Эпоха: 200, RMSE test: 4796.84020997156, RMSE train 4054.8332888048553\n",
      "Цикл: 5, Эпоха: 300, RMSE test: 4465.7642123157375, RMSE train 3858.5245884923424\n",
      "Цикл: 5, Эпоха: 400, RMSE test: 4279.357194719786, RMSE train 3783.7604311055425\n",
      "Цикл: 5, Эпоха: 500, RMSE test: 3914.305685559062, RMSE train 3631.7718816026977\n",
      "Цикл: 5, Эпоха: 600, RMSE test: 3621.792788109226, RMSE train 3503.214523833789\n",
      "Цикл: 5, Эпоха: 700, RMSE test: 3379.7495469339146, RMSE train 3408.9498382933125\n",
      "Цикл: 5, Эпоха: 800, RMSE test: 3249.7601449953195, RMSE train 3379.07280182005\n",
      "Цикл: 5, Эпоха: 900, RMSE test: 3189.779459461108, RMSE train 3359.501153445255\n",
      "Цикл: 5, Эпоха: 1000, RMSE test: 3166.4704325163057, RMSE train 3349.955522092793\n",
      "Цикл: 5, Эпоха: 1100, RMSE test: 3173.1634058144564, RMSE train 3328.6835235570234\n",
      "Цикл: 5, Эпоха: 1200, RMSE test: 3091.624168620759, RMSE train 3330.5798293990792\n",
      "Цикл: 5, Эпоха: 1300, RMSE test: 3231.4383794217706, RMSE train 3311.745763188956\n",
      "Цикл: 5, Эпоха: 1400, RMSE test: 3174.323707500544, RMSE train 3298.4252303182498\n",
      "Цикл: 5, Эпоха: 1500, RMSE test: 3140.8229813219336, RMSE train 3276.1687990700357\n",
      "Цикл: 5, Эпоха: 1600, RMSE test: 3088.774028639842, RMSE train 3275.1667133139954\n",
      "Цикл: 5, Эпоха: 1700, RMSE test: 3322.2674485959133, RMSE train 3139.985827993496\n",
      "Цикл: 5, Эпоха: 1800, RMSE test: 3239.826847225018, RMSE train 3102.361036372137\n",
      "Цикл: 5, Эпоха: 1900, RMSE test: 3264.9381311136663, RMSE train 2976.113909110335\n",
      "Цикл: 5, Эпоха: 1999, RMSE test: 3434.845120234681, RMSE train 3143.3251502191115\n",
      "start new_cycle\n",
      "Цикл: 6, Эпоха: 0, RMSE test: 11385.481280999938, RMSE train 14970.517693119367\n",
      "Цикл: 6, Эпоха: 100, RMSE test: 5648.069758776001, RMSE train 5036.350662930452\n",
      "Цикл: 6, Эпоха: 200, RMSE test: 4762.870772968757, RMSE train 4046.892387993533\n",
      "Цикл: 6, Эпоха: 300, RMSE test: 4471.73165563409, RMSE train 3847.912031219009\n",
      "Цикл: 6, Эпоха: 400, RMSE test: 4060.1482731545657, RMSE train 3707.5309843614255\n",
      "Цикл: 6, Эпоха: 500, RMSE test: 3702.0364665951092, RMSE train 3578.595674283419\n",
      "Цикл: 6, Эпоха: 600, RMSE test: 3387.842381221417, RMSE train 3455.971788079295\n",
      "Цикл: 6, Эпоха: 700, RMSE test: 3199.923280330327, RMSE train 3439.9917151063023\n",
      "Цикл: 6, Эпоха: 800, RMSE test: 3116.305825813635, RMSE train 3379.8995547205245\n",
      "Цикл: 6, Эпоха: 900, RMSE test: 3035.9281941442555, RMSE train 3376.304192456598\n",
      "Цикл: 6, Эпоха: 1000, RMSE test: 3386.38479798147, RMSE train 3004.7530680573404\n",
      "Цикл: 6, Эпоха: 1100, RMSE test: 3278.0727569716937, RMSE train 2997.9874916350136\n",
      "Цикл: 6, Эпоха: 1200, RMSE test: 3438.8447187972884, RMSE train 2904.9196202304806\n",
      "Цикл: 6, Эпоха: 1300, RMSE test: 3557.732564429204, RMSE train 2929.640421621739\n",
      "Цикл: 6, Эпоха: 1400, RMSE test: 3477.565527779455, RMSE train 2869.6035440457626\n",
      "Цикл: 6, Эпоха: 1500, RMSE test: 3528.9777556680633, RMSE train 2890.81277498215\n",
      "Цикл: 6, Эпоха: 1600, RMSE test: 3516.2197030333587, RMSE train 2869.140115086748\n",
      "Цикл: 6, Эпоха: 1700, RMSE test: 3445.001161102852, RMSE train 2834.3129678989226\n",
      "Цикл: 6, Эпоха: 1800, RMSE test: 3521.8921051048683, RMSE train 2724.3481789228044\n",
      "Цикл: 6, Эпоха: 1900, RMSE test: 3703.5427633551094, RMSE train 2744.474175502477\n",
      "Цикл: 6, Эпоха: 1999, RMSE test: 3697.5358010437167, RMSE train 2651.1423009714135\n",
      "start new_cycle\n",
      "Цикл: 7, Эпоха: 0, RMSE test: 11383.515449982928, RMSE train 14967.874932668297\n",
      "Цикл: 7, Эпоха: 100, RMSE test: 5680.948160298596, RMSE train 5065.2924890868835\n",
      "Цикл: 7, Эпоха: 200, RMSE test: 4775.365326338918, RMSE train 4034.2669718301986\n",
      "Цикл: 7, Эпоха: 300, RMSE test: 4459.53069279717, RMSE train 3879.807727194738\n",
      "Цикл: 7, Эпоха: 400, RMSE test: 4149.83975594239, RMSE train 3715.6346698780817\n",
      "Цикл: 7, Эпоха: 500, RMSE test: 3741.296833986846, RMSE train 3554.485054125281\n",
      "Цикл: 7, Эпоха: 600, RMSE test: 3436.3250719336784, RMSE train 3443.2051928399505\n",
      "Цикл: 7, Эпоха: 700, RMSE test: 3340.6882524414036, RMSE train 3399.412302148711\n",
      "Цикл: 7, Эпоха: 800, RMSE test: 3257.180682737757, RMSE train 3367.3643996455153\n",
      "Цикл: 7, Эпоха: 900, RMSE test: 3342.97606931309, RMSE train 3285.1127834520385\n",
      "Цикл: 7, Эпоха: 1000, RMSE test: 3283.7565378693957, RMSE train 3198.946857951848\n",
      "Цикл: 7, Эпоха: 1100, RMSE test: 3484.9938306975523, RMSE train 3147.686610830246\n",
      "Цикл: 7, Эпоха: 1200, RMSE test: 3336.693123438234, RMSE train 3097.50722355897\n",
      "Цикл: 7, Эпоха: 1300, RMSE test: 3430.3526057826766, RMSE train 3077.7199352767625\n",
      "Цикл: 7, Эпоха: 1400, RMSE test: 3292.2932736923667, RMSE train 3035.8275642730437\n",
      "Цикл: 7, Эпоха: 1500, RMSE test: 3240.7877128871, RMSE train 3042.9518563394986\n",
      "Цикл: 7, Эпоха: 1600, RMSE test: 3284.674717532925, RMSE train 2918.7375695666783\n",
      "Цикл: 7, Эпоха: 1700, RMSE test: 3324.6954747766, RMSE train 2875.058955917252\n",
      "Цикл: 7, Эпоха: 1800, RMSE test: 3344.6491594784648, RMSE train 2816.633628997566\n",
      "Цикл: 7, Эпоха: 1900, RMSE test: 3294.1709123844803, RMSE train 2788.195294451233\n",
      "Цикл: 7, Эпоха: 1999, RMSE test: 3396.344947145387, RMSE train 2718.1868037351664\n",
      "start new_cycle\n",
      "Цикл: 8, Эпоха: 0, RMSE test: 11392.391144970401, RMSE train 14977.844437701975\n",
      "Цикл: 8, Эпоха: 100, RMSE test: 5705.779175537728, RMSE train 5113.971255296611\n",
      "Цикл: 8, Эпоха: 200, RMSE test: 4777.995395560779, RMSE train 4039.7607602431112\n",
      "Цикл: 8, Эпоха: 300, RMSE test: 4624.049307695583, RMSE train 3723.2262891207674\n",
      "Цикл: 8, Эпоха: 400, RMSE test: 4976.645657468492, RMSE train 3569.3020326108576\n",
      "Цикл: 8, Эпоха: 500, RMSE test: 5284.60235022466, RMSE train 3436.8002560521318\n",
      "Цикл: 8, Эпоха: 600, RMSE test: 5796.158727985286, RMSE train 3290.8628047975503\n",
      "Цикл: 8, Эпоха: 700, RMSE test: 5826.165462806562, RMSE train 3210.9573338803493\n",
      "Цикл: 8, Эпоха: 800, RMSE test: 5773.8022134465255, RMSE train 3154.856256630403\n",
      "Цикл: 8, Эпоха: 900, RMSE test: 5786.559945252447, RMSE train 3169.6536088348835\n",
      "Цикл: 8, Эпоха: 1000, RMSE test: 5327.573368804976, RMSE train 3087.343356350246\n",
      "Цикл: 8, Эпоха: 1100, RMSE test: 5364.299208657176, RMSE train 3075.0029268278754\n",
      "Цикл: 8, Эпоха: 1200, RMSE test: 5408.712416093132, RMSE train 3015.0567158844624\n",
      "Цикл: 8, Эпоха: 1300, RMSE test: 5536.98275236613, RMSE train 2985.2463884912413\n",
      "Цикл: 8, Эпоха: 1400, RMSE test: 5609.033071751316, RMSE train 2981.6153340094024\n",
      "Цикл: 8, Эпоха: 1500, RMSE test: 5552.849178574906, RMSE train 2945.988458904753\n",
      "Цикл: 8, Эпоха: 1600, RMSE test: 5652.204525669608, RMSE train 2949.153946473463\n",
      "Цикл: 8, Эпоха: 1700, RMSE test: 5661.71899691251, RMSE train 2914.6106086405434\n",
      "Цикл: 8, Эпоха: 1800, RMSE test: 5610.33742300764, RMSE train 2918.6269031858114\n",
      "Цикл: 8, Эпоха: 1900, RMSE test: 5853.584201154024, RMSE train 2913.679632354937\n",
      "Цикл: 8, Эпоха: 1999, RMSE test: 5913.811630412318, RMSE train 2908.0151306346397\n",
      "start new_cycle\n",
      "Цикл: 9, Эпоха: 0, RMSE test: 11383.141218486222, RMSE train 14967.830570927772\n",
      "Цикл: 9, Эпоха: 100, RMSE test: 5775.632432902911, RMSE train 5233.28233520799\n",
      "Цикл: 9, Эпоха: 200, RMSE test: 4736.084669851248, RMSE train 4060.3903753210725\n",
      "Цикл: 9, Эпоха: 300, RMSE test: 4423.66205761697, RMSE train 3869.031532567291\n",
      "Цикл: 9, Эпоха: 400, RMSE test: 4635.111433396181, RMSE train 3616.2015983625693\n",
      "Цикл: 9, Эпоха: 500, RMSE test: 5323.714117042725, RMSE train 3402.2313266443243\n",
      "Цикл: 9, Эпоха: 600, RMSE test: 4948.500580984102, RMSE train 3249.971538336913\n",
      "Цикл: 9, Эпоха: 700, RMSE test: 4472.671908378704, RMSE train 3155.0795552568875\n",
      "Цикл: 9, Эпоха: 800, RMSE test: 4393.44830400905, RMSE train 3109.5390333616974\n",
      "Цикл: 9, Эпоха: 900, RMSE test: 4537.674734927571, RMSE train 3071.4200298884552\n",
      "Цикл: 9, Эпоха: 1000, RMSE test: 4578.4495192149925, RMSE train 3049.867210224078\n",
      "Цикл: 9, Эпоха: 1100, RMSE test: 4567.710367350364, RMSE train 3032.5942689387252\n",
      "Цикл: 9, Эпоха: 1200, RMSE test: 4607.8834620680245, RMSE train 3022.955672847354\n",
      "Цикл: 9, Эпоха: 1300, RMSE test: 4603.9007374182165, RMSE train 3005.3224452627373\n",
      "Цикл: 9, Эпоха: 1400, RMSE test: 4533.749882823268, RMSE train 3026.095008422571\n",
      "Цикл: 9, Эпоха: 1500, RMSE test: 4485.221064785994, RMSE train 2941.921310980292\n",
      "Цикл: 9, Эпоха: 1600, RMSE test: 4563.129408640522, RMSE train 2956.997463644499\n",
      "Цикл: 9, Эпоха: 1700, RMSE test: 4343.623372255011, RMSE train 2955.343973211917\n",
      "Цикл: 9, Эпоха: 1800, RMSE test: 4462.327419632046, RMSE train 2893.732969712306\n",
      "Цикл: 9, Эпоха: 1900, RMSE test: 4432.649095067192, RMSE train 2878.82172077397\n",
      "Цикл: 9, Эпоха: 1999, RMSE test: 4443.538904972027, RMSE train 2870.7286531471414\n",
      "start new_cycle\n",
      "Цикл: 10, Эпоха: 0, RMSE test: 11387.585521083915, RMSE train 14971.290391946848\n",
      "Цикл: 10, Эпоха: 100, RMSE test: 5943.355281320476, RMSE train 5387.984038580664\n",
      "Цикл: 10, Эпоха: 200, RMSE test: 4783.209382830737, RMSE train 4104.3459893142535\n",
      "Цикл: 10, Эпоха: 300, RMSE test: 4557.187070990174, RMSE train 3917.867532216984\n",
      "Цикл: 10, Эпоха: 400, RMSE test: 4444.325595633155, RMSE train 3415.865776051512\n",
      "Цикл: 10, Эпоха: 500, RMSE test: 4435.20845056915, RMSE train 3274.506985791907\n",
      "Цикл: 10, Эпоха: 600, RMSE test: 4353.048586910098, RMSE train 3210.8905306783663\n",
      "Цикл: 10, Эпоха: 700, RMSE test: 4223.891333829506, RMSE train 3135.9998405612205\n",
      "Цикл: 10, Эпоха: 800, RMSE test: 4101.725490571011, RMSE train 3084.4735369265204\n",
      "Цикл: 10, Эпоха: 900, RMSE test: 4071.291932544263, RMSE train 2970.962470311599\n",
      "Цикл: 10, Эпоха: 1000, RMSE test: 3908.915194782307, RMSE train 2896.2360055768936\n",
      "Цикл: 10, Эпоха: 1100, RMSE test: 3821.837908650758, RMSE train 2803.3618210998025\n",
      "Цикл: 10, Эпоха: 1200, RMSE test: 3788.461825068322, RMSE train 2754.4243500230677\n",
      "Цикл: 10, Эпоха: 1300, RMSE test: 3645.047461968088, RMSE train 2747.677382808979\n",
      "Цикл: 10, Эпоха: 1400, RMSE test: 3698.52213728673, RMSE train 2692.524465998406\n",
      "Цикл: 10, Эпоха: 1500, RMSE test: 3725.9715511527997, RMSE train 2706.5046646920823\n",
      "Цикл: 10, Эпоха: 1600, RMSE test: 3868.678068798178, RMSE train 2678.3869212643644\n",
      "Цикл: 10, Эпоха: 1700, RMSE test: 3878.385230994982, RMSE train 2642.014288379228\n",
      "Цикл: 10, Эпоха: 1800, RMSE test: 3972.2554046788077, RMSE train 2633.471568101695\n",
      "Цикл: 10, Эпоха: 1900, RMSE test: 3977.047522974801, RMSE train 2613.3768384984205\n",
      "Цикл: 10, Эпоха: 1999, RMSE test: 4108.434495035792, RMSE train 2601.6897393809277\n",
      "start new_cycle\n",
      "Цикл: 11, Эпоха: 0, RMSE test: 11371.936334679333, RMSE train 14953.802994556268\n",
      "Цикл: 11, Эпоха: 100, RMSE test: 5639.868438181869, RMSE train 5030.654828151102\n",
      "Цикл: 11, Эпоха: 200, RMSE test: 4674.034873639691, RMSE train 4017.189315927244\n",
      "Цикл: 11, Эпоха: 300, RMSE test: 4420.50924668188, RMSE train 3813.2748392949597\n",
      "Цикл: 11, Эпоха: 400, RMSE test: 4545.979542408874, RMSE train 3319.940210304999\n",
      "Цикл: 11, Эпоха: 500, RMSE test: 4657.2983584906815, RMSE train 2952.794439171139\n",
      "Цикл: 11, Эпоха: 600, RMSE test: 4047.713058011894, RMSE train 2766.4555843172325\n",
      "Цикл: 11, Эпоха: 700, RMSE test: 4095.920653528337, RMSE train 2687.841141139111\n",
      "Цикл: 11, Эпоха: 800, RMSE test: 3955.9373099178406, RMSE train 2685.951879688093\n",
      "Цикл: 11, Эпоха: 900, RMSE test: 4039.1100504937967, RMSE train 2648.6179414932612\n",
      "Цикл: 11, Эпоха: 1000, RMSE test: 4142.5096258186295, RMSE train 2566.464494202092\n",
      "Цикл: 11, Эпоха: 1100, RMSE test: 3728.263536822471, RMSE train 2501.4818608177034\n",
      "Цикл: 11, Эпоха: 1200, RMSE test: 5519.0484687127, RMSE train 2470.293403626379\n",
      "Цикл: 11, Эпоха: 1300, RMSE test: 4567.352405934975, RMSE train 2437.9152979543815\n",
      "Цикл: 11, Эпоха: 1400, RMSE test: 5829.726923278654, RMSE train 2439.338332417215\n",
      "Цикл: 11, Эпоха: 1500, RMSE test: 5250.572159298451, RMSE train 2409.1131148204727\n",
      "Цикл: 11, Эпоха: 1600, RMSE test: 5761.397920643913, RMSE train 2361.9491950505626\n",
      "Цикл: 11, Эпоха: 1700, RMSE test: 5765.280912496805, RMSE train 2337.7431424346005\n",
      "Цикл: 11, Эпоха: 1800, RMSE test: 5574.934977199286, RMSE train 2330.0302573142694\n",
      "Цикл: 11, Эпоха: 1900, RMSE test: 5722.754406752049, RMSE train 2351.8522487605383\n",
      "Цикл: 11, Эпоха: 1999, RMSE test: 5767.034073074305, RMSE train 2292.60037948178\n",
      "start new_cycle\n",
      "Цикл: 12, Эпоха: 0, RMSE test: 11382.143910529334, RMSE train 14964.732941152008\n",
      "Цикл: 12, Эпоха: 100, RMSE test: 5749.272301778722, RMSE train 5186.959417616452\n",
      "Цикл: 12, Эпоха: 200, RMSE test: 4867.867705679767, RMSE train 4092.747976604472\n",
      "Цикл: 12, Эпоха: 300, RMSE test: 4641.2892605395755, RMSE train 3917.4329604984946\n",
      "Цикл: 12, Эпоха: 400, RMSE test: 4391.506575197172, RMSE train 3407.3973939063812\n",
      "Цикл: 12, Эпоха: 500, RMSE test: 4285.775075759343, RMSE train 3129.1219215620217\n",
      "Цикл: 12, Эпоха: 600, RMSE test: 4103.649838862961, RMSE train 2972.3618554947175\n",
      "Цикл: 12, Эпоха: 700, RMSE test: 3930.1413460586887, RMSE train 2810.5117861343333\n",
      "Цикл: 12, Эпоха: 800, RMSE test: 3801.0309127919495, RMSE train 3001.6968534480625\n",
      "Цикл: 12, Эпоха: 900, RMSE test: 3854.6040004130127, RMSE train 2784.761569685994\n",
      "Цикл: 12, Эпоха: 1000, RMSE test: 4015.5183974176985, RMSE train 2678.361066025266\n",
      "Цикл: 12, Эпоха: 1100, RMSE test: 4147.651865815163, RMSE train 2649.7230043912136\n",
      "Цикл: 12, Эпоха: 1200, RMSE test: 4172.302242167985, RMSE train 2634.70226021841\n",
      "Цикл: 12, Эпоха: 1300, RMSE test: 4156.0141963183905, RMSE train 2626.796908784537\n",
      "Цикл: 12, Эпоха: 1400, RMSE test: 4160.865534957841, RMSE train 2642.3184895087875\n",
      "Цикл: 12, Эпоха: 1500, RMSE test: 3954.5158995760785, RMSE train 2630.3572000775866\n",
      "Цикл: 12, Эпоха: 1600, RMSE test: 3986.950714518553, RMSE train 2582.8278107531673\n",
      "Цикл: 12, Эпоха: 1700, RMSE test: 3989.02657298745, RMSE train 2609.621332684112\n",
      "Цикл: 12, Эпоха: 1800, RMSE test: 4001.2700483721414, RMSE train 2674.2695264314702\n",
      "Цикл: 12, Эпоха: 1900, RMSE test: 4034.9817843455007, RMSE train 2646.3763904630046\n",
      "Цикл: 12, Эпоха: 1999, RMSE test: 4135.279917974115, RMSE train 2522.772086416052\n",
      "start new_cycle\n",
      "Цикл: 13, Эпоха: 0, RMSE test: 11392.922715440494, RMSE train 14977.475354678438\n",
      "Цикл: 13, Эпоха: 100, RMSE test: 5674.269468398553, RMSE train 5084.287167342144\n",
      "Цикл: 13, Эпоха: 200, RMSE test: 4550.244828577908, RMSE train 3962.2840635169005\n",
      "Цикл: 13, Эпоха: 300, RMSE test: 4282.10088624731, RMSE train 3793.2163133678523\n",
      "Цикл: 13, Эпоха: 400, RMSE test: 3888.6109345111913, RMSE train 3623.8526460108724\n",
      "Цикл: 13, Эпоха: 500, RMSE test: 3627.785963917938, RMSE train 3512.453700762474\n",
      "Цикл: 13, Эпоха: 600, RMSE test: 3465.9851413414917, RMSE train 3459.598098045494\n",
      "Цикл: 13, Эпоха: 700, RMSE test: 3321.3995544047393, RMSE train 3422.571109560764\n",
      "Цикл: 13, Эпоха: 800, RMSE test: 3364.294131017679, RMSE train 3416.9328351607965\n",
      "Цикл: 13, Эпоха: 900, RMSE test: 3393.289554399978, RMSE train 3414.8250321209725\n",
      "Цикл: 13, Эпоха: 1000, RMSE test: 3334.821584432966, RMSE train 3402.55903696027\n",
      "Цикл: 13, Эпоха: 1100, RMSE test: 3282.10846865243, RMSE train 3399.1710754241244\n",
      "Цикл: 13, Эпоха: 1200, RMSE test: 3378.2943921452434, RMSE train 3401.9196051641197\n",
      "Цикл: 13, Эпоха: 1300, RMSE test: 3332.0763796767924, RMSE train 3393.0888582529046\n",
      "Цикл: 13, Эпоха: 1400, RMSE test: 3305.786290733265, RMSE train 3393.4604756796566\n",
      "Цикл: 13, Эпоха: 1500, RMSE test: 3288.394593110748, RMSE train 3392.3295830446664\n",
      "Цикл: 13, Эпоха: 1600, RMSE test: 3368.7110294591907, RMSE train 3382.193519005085\n",
      "Цикл: 13, Эпоха: 1700, RMSE test: 3330.875710680301, RMSE train 3379.4678575183993\n",
      "Цикл: 13, Эпоха: 1800, RMSE test: 3371.670505847213, RMSE train 3377.937980484544\n",
      "Цикл: 13, Эпоха: 1900, RMSE test: 3317.0937580960835, RMSE train 3383.3750900543087\n",
      "Цикл: 13, Эпоха: 1999, RMSE test: 3421.0779003115376, RMSE train 3387.0754346485996\n",
      "start new_cycle\n",
      "Цикл: 14, Эпоха: 0, RMSE test: 11385.985771991813, RMSE train 14968.776035467963\n",
      "Цикл: 14, Эпоха: 100, RMSE test: 5733.743803135958, RMSE train 5139.250139855036\n",
      "Цикл: 14, Эпоха: 200, RMSE test: 4728.06450886618, RMSE train 4000.9405144290763\n",
      "Цикл: 14, Эпоха: 300, RMSE test: 4735.2463505080705, RMSE train 3708.748441186056\n",
      "Цикл: 14, Эпоха: 400, RMSE test: 5628.760254265588, RMSE train 3461.0327938348114\n",
      "Цикл: 14, Эпоха: 500, RMSE test: 5283.513414386302, RMSE train 3361.8375927459674\n",
      "Цикл: 14, Эпоха: 600, RMSE test: 5246.872401726575, RMSE train 3198.919973991222\n",
      "Цикл: 14, Эпоха: 700, RMSE test: 5439.945036487042, RMSE train 3144.756429359832\n",
      "Цикл: 14, Эпоха: 800, RMSE test: 5258.279756726529, RMSE train 3094.8071022278596\n",
      "Цикл: 14, Эпоха: 900, RMSE test: 5136.166079869303, RMSE train 3048.281155011788\n",
      "Цикл: 14, Эпоха: 1000, RMSE test: 5057.833923726638, RMSE train 3043.2738950018943\n",
      "Цикл: 14, Эпоха: 1100, RMSE test: 5167.8419093466855, RMSE train 3019.6069280619954\n",
      "Цикл: 14, Эпоха: 1200, RMSE test: 5055.2254153499425, RMSE train 3031.008248091714\n",
      "Цикл: 14, Эпоха: 1300, RMSE test: 5202.78002610143, RMSE train 2981.5574789025954\n",
      "Цикл: 14, Эпоха: 1400, RMSE test: 5230.6311282674105, RMSE train 2968.290080163999\n",
      "Цикл: 14, Эпоха: 1500, RMSE test: 5368.926149613161, RMSE train 3026.814992694466\n",
      "Цикл: 14, Эпоха: 1600, RMSE test: 5351.247518102671, RMSE train 2933.928765324748\n",
      "Цикл: 14, Эпоха: 1700, RMSE test: 5502.844718870413, RMSE train 2922.073578813511\n",
      "Цикл: 14, Эпоха: 1800, RMSE test: 5606.112735220368, RMSE train 2922.930378917705\n",
      "Цикл: 14, Эпоха: 1900, RMSE test: 5740.843492031463, RMSE train 2932.6015753934253\n",
      "Цикл: 14, Эпоха: 1999, RMSE test: 5679.6272765032745, RMSE train 2875.8438761518332\n",
      "start new_cycle\n",
      "Цикл: 15, Эпоха: 0, RMSE test: 11398.138795434981, RMSE train 14982.908128931445\n",
      "Цикл: 15, Эпоха: 100, RMSE test: 5899.547779279357, RMSE train 5339.148808564901\n",
      "Цикл: 15, Эпоха: 200, RMSE test: 4880.613281135886, RMSE train 4154.747886454725\n",
      "Цикл: 15, Эпоха: 300, RMSE test: 4794.983837303313, RMSE train 3901.538927141443\n",
      "Цикл: 15, Эпоха: 400, RMSE test: 4820.211406152224, RMSE train 3610.7587845216135\n",
      "Цикл: 15, Эпоха: 500, RMSE test: 5182.823747726716, RMSE train 3458.3963046475747\n",
      "Цикл: 15, Эпоха: 600, RMSE test: 5421.008208811346, RMSE train 3282.3249382107188\n",
      "Цикл: 15, Эпоха: 700, RMSE test: 5432.306692372956, RMSE train 3132.084609329703\n",
      "Цикл: 15, Эпоха: 800, RMSE test: 5077.855058979136, RMSE train 3013.8671171768674\n",
      "Цикл: 15, Эпоха: 900, RMSE test: 4549.416885711838, RMSE train 3001.5182824697235\n",
      "Цикл: 15, Эпоха: 1000, RMSE test: 4419.451549683513, RMSE train 2836.5397053452293\n",
      "Цикл: 15, Эпоха: 1100, RMSE test: 4264.171431825883, RMSE train 2858.302118391266\n",
      "Цикл: 15, Эпоха: 1200, RMSE test: 4336.21240254672, RMSE train 2893.144569495275\n",
      "Цикл: 15, Эпоха: 1300, RMSE test: 4483.642938504358, RMSE train 2784.5712416815627\n",
      "Цикл: 15, Эпоха: 1400, RMSE test: 4456.741186113459, RMSE train 2768.9261456384133\n",
      "Цикл: 15, Эпоха: 1500, RMSE test: 4499.427074639615, RMSE train 2746.541916665391\n",
      "Цикл: 15, Эпоха: 1600, RMSE test: 4553.169006307585, RMSE train 2721.596406523201\n",
      "Цикл: 15, Эпоха: 1700, RMSE test: 4554.874970841681, RMSE train 2746.3621392671434\n",
      "Цикл: 15, Эпоха: 1800, RMSE test: 4584.725509777003, RMSE train 2730.404823464828\n",
      "Цикл: 15, Эпоха: 1900, RMSE test: 4721.113216181116, RMSE train 2741.9161183376855\n",
      "Цикл: 15, Эпоха: 1999, RMSE test: 4669.539163557792, RMSE train 2723.7853256084627\n",
      "start new_cycle\n",
      "Цикл: 16, Эпоха: 0, RMSE test: 11382.930378421894, RMSE train 14966.801127829554\n",
      "Цикл: 16, Эпоха: 100, RMSE test: 5726.6258826642415, RMSE train 5124.178763470299\n",
      "Цикл: 16, Эпоха: 200, RMSE test: 4635.029233996264, RMSE train 4012.7966557003606\n",
      "Цикл: 16, Эпоха: 300, RMSE test: 4307.199554234747, RMSE train 3814.3080630698933\n",
      "Цикл: 16, Эпоха: 400, RMSE test: 3971.6431108547504, RMSE train 3638.045079434833\n",
      "Цикл: 16, Эпоха: 500, RMSE test: 3499.6268372499376, RMSE train 3446.574241185006\n",
      "Цикл: 16, Эпоха: 600, RMSE test: 3261.831540714511, RMSE train 3378.6134730093054\n",
      "Цикл: 16, Эпоха: 700, RMSE test: 3213.829024699354, RMSE train 3345.9929766812124\n",
      "Цикл: 16, Эпоха: 800, RMSE test: 3314.365550146815, RMSE train 3320.561699471943\n",
      "Цикл: 16, Эпоха: 900, RMSE test: 3254.456022133346, RMSE train 3291.330126255949\n",
      "Цикл: 16, Эпоха: 1000, RMSE test: 3387.2829819783287, RMSE train 3260.9121423307315\n",
      "Цикл: 16, Эпоха: 1100, RMSE test: 3351.526816243606, RMSE train 3223.232538927342\n",
      "Цикл: 16, Эпоха: 1200, RMSE test: 3312.928915627379, RMSE train 3174.2113981271\n",
      "Цикл: 16, Эпоха: 1300, RMSE test: 3307.583407867442, RMSE train 3151.6982723604747\n",
      "Цикл: 16, Эпоха: 1400, RMSE test: 3288.9691394113142, RMSE train 3119.3111419029683\n",
      "Цикл: 16, Эпоха: 1500, RMSE test: 3310.9167914642617, RMSE train 3074.3844912437353\n",
      "Цикл: 16, Эпоха: 1600, RMSE test: 3465.452351425424, RMSE train 3100.1724145601966\n",
      "Цикл: 16, Эпоха: 1700, RMSE test: 3417.8891146437154, RMSE train 3014.992537304197\n",
      "Цикл: 16, Эпоха: 1800, RMSE test: 4364.829664488639, RMSE train 2726.4469552881455\n",
      "Цикл: 16, Эпоха: 1900, RMSE test: 4333.45381883781, RMSE train 2582.2295598958663\n",
      "Цикл: 16, Эпоха: 1999, RMSE test: 4041.9585599063234, RMSE train 2177.1326326156614\n",
      "start new_cycle\n",
      "Цикл: 17, Эпоха: 0, RMSE test: 11380.070650044314, RMSE train 14963.659980098451\n",
      "Цикл: 17, Эпоха: 100, RMSE test: 5678.87189501577, RMSE train 5143.120648011283\n",
      "Цикл: 17, Эпоха: 200, RMSE test: 4646.87055984993, RMSE train 3983.651089139208\n",
      "Цикл: 17, Эпоха: 300, RMSE test: 4387.022452643706, RMSE train 3863.352300787491\n",
      "Цикл: 17, Эпоха: 400, RMSE test: 4278.172273296156, RMSE train 3814.046932065729\n",
      "Цикл: 17, Эпоха: 500, RMSE test: 4132.962617784003, RMSE train 3715.7050474977154\n",
      "Цикл: 17, Эпоха: 600, RMSE test: 3793.12246045392, RMSE train 3579.352315712998\n",
      "Цикл: 17, Эпоха: 700, RMSE test: 3465.6407776917677, RMSE train 3476.34175535145\n",
      "Цикл: 17, Эпоха: 800, RMSE test: 3342.633991330789, RMSE train 3463.4390423392756\n",
      "Цикл: 17, Эпоха: 900, RMSE test: 3185.9259250647997, RMSE train 3373.5694746069776\n",
      "Цикл: 17, Эпоха: 1000, RMSE test: 3088.9231133195917, RMSE train 3318.1924296218867\n",
      "Цикл: 17, Эпоха: 1100, RMSE test: 3142.268766353381, RMSE train 3194.541594657988\n",
      "Цикл: 17, Эпоха: 1200, RMSE test: 3268.8846721779587, RMSE train 3115.8111303479227\n",
      "Цикл: 17, Эпоха: 1300, RMSE test: 3187.85601933337, RMSE train 2970.673997597178\n",
      "Цикл: 17, Эпоха: 1400, RMSE test: 3322.4578251649787, RMSE train 2889.4893147405824\n",
      "Цикл: 17, Эпоха: 1500, RMSE test: 3334.947076041837, RMSE train 2762.512986394815\n",
      "Цикл: 17, Эпоха: 1600, RMSE test: 3445.198397770439, RMSE train 2670.9639645641046\n",
      "Цикл: 17, Эпоха: 1700, RMSE test: 3460.7749132239155, RMSE train 2661.3478727892752\n",
      "Цикл: 17, Эпоха: 1800, RMSE test: 3528.909038215635, RMSE train 2632.590834140391\n",
      "Цикл: 17, Эпоха: 1900, RMSE test: 3788.0663932935495, RMSE train 2568.1655904555687\n",
      "Цикл: 17, Эпоха: 1999, RMSE test: 4086.246933311789, RMSE train 2492.5734693284367\n",
      "start new_cycle\n",
      "Цикл: 18, Эпоха: 0, RMSE test: 11388.18791555531, RMSE train 14972.40608586342\n",
      "Цикл: 18, Эпоха: 100, RMSE test: 5777.068114536993, RMSE train 5218.536768098889\n",
      "Цикл: 18, Эпоха: 200, RMSE test: 4902.879766015071, RMSE train 4186.413261970203\n",
      "Цикл: 18, Эпоха: 300, RMSE test: 4697.690709274079, RMSE train 3967.047894845738\n",
      "Цикл: 18, Эпоха: 400, RMSE test: 4492.41160180142, RMSE train 3533.855543170943\n",
      "Цикл: 18, Эпоха: 500, RMSE test: 4334.7124472103105, RMSE train 3314.4316254827163\n",
      "Цикл: 18, Эпоха: 600, RMSE test: 4289.495075180761, RMSE train 3187.7713217858022\n",
      "Цикл: 18, Эпоха: 700, RMSE test: 4252.001411100425, RMSE train 3122.478983115819\n",
      "Цикл: 18, Эпоха: 800, RMSE test: 4121.026085818919, RMSE train 3074.220226333826\n",
      "Цикл: 18, Эпоха: 900, RMSE test: 4091.7196873686253, RMSE train 3053.2410648358573\n",
      "Цикл: 18, Эпоха: 1000, RMSE test: 4101.885176354892, RMSE train 3046.3146587311035\n",
      "Цикл: 18, Эпоха: 1100, RMSE test: 4137.686551685615, RMSE train 3036.7872826393354\n",
      "Цикл: 18, Эпоха: 1200, RMSE test: 4214.951008018955, RMSE train 3027.481626698996\n",
      "Цикл: 18, Эпоха: 1300, RMSE test: 4212.84440728589, RMSE train 3016.0162466405914\n",
      "Цикл: 18, Эпоха: 1400, RMSE test: 4292.343648870626, RMSE train 3056.3290071587517\n",
      "Цикл: 18, Эпоха: 1500, RMSE test: 4219.655910142437, RMSE train 3022.14576087918\n",
      "Цикл: 18, Эпоха: 1600, RMSE test: 4311.458221994039, RMSE train 2995.2716070500182\n",
      "Цикл: 18, Эпоха: 1700, RMSE test: 4389.403831957137, RMSE train 3003.465997809864\n",
      "Цикл: 18, Эпоха: 1800, RMSE test: 4445.2727700333535, RMSE train 2993.192108769499\n",
      "Цикл: 18, Эпоха: 1900, RMSE test: 4408.720676114557, RMSE train 2983.168617426779\n",
      "Цикл: 18, Эпоха: 1999, RMSE test: 4430.4388044526695, RMSE train 2977.1419180146586\n",
      "start new_cycle\n",
      "Цикл: 19, Эпоха: 0, RMSE test: 11389.854081593847, RMSE train 14974.002003472551\n",
      "Цикл: 19, Эпоха: 100, RMSE test: 5732.708260499569, RMSE train 5142.79204323877\n",
      "Цикл: 19, Эпоха: 200, RMSE test: 4781.432212214244, RMSE train 4043.932986586202\n",
      "Цикл: 19, Эпоха: 300, RMSE test: 4460.117935660446, RMSE train 3823.3089072163657\n",
      "Цикл: 19, Эпоха: 400, RMSE test: 3977.256717889857, RMSE train 3640.383084237152\n",
      "Цикл: 19, Эпоха: 500, RMSE test: 3600.416225938329, RMSE train 3499.2121970523594\n",
      "Цикл: 19, Эпоха: 600, RMSE test: 3361.1694393469666, RMSE train 3438.25682577669\n",
      "Цикл: 19, Эпоха: 700, RMSE test: 3253.8023910495854, RMSE train 3413.783531508698\n",
      "Цикл: 19, Эпоха: 800, RMSE test: 3178.8285578181153, RMSE train 3397.0353251033466\n",
      "Цикл: 19, Эпоха: 900, RMSE test: 3107.3075161625056, RMSE train 3351.062667274368\n",
      "Цикл: 19, Эпоха: 1000, RMSE test: 3120.1644187446277, RMSE train 3290.954876627755\n",
      "Цикл: 19, Эпоха: 1100, RMSE test: 3460.1354019748997, RMSE train 3062.384691706775\n",
      "Цикл: 19, Эпоха: 1200, RMSE test: 3885.1169866556143, RMSE train 3042.1112734415224\n",
      "Цикл: 19, Эпоха: 1300, RMSE test: 4039.586488738668, RMSE train 2823.700054892516\n",
      "Цикл: 19, Эпоха: 1400, RMSE test: 4147.034362047172, RMSE train 2745.177043470967\n",
      "Цикл: 19, Эпоха: 1500, RMSE test: 4444.067281218861, RMSE train 2688.9424501093363\n",
      "Цикл: 19, Эпоха: 1600, RMSE test: 4619.987445870389, RMSE train 2661.594071228744\n",
      "Цикл: 19, Эпоха: 1700, RMSE test: 4663.332499404262, RMSE train 2649.829900201143\n",
      "Цикл: 19, Эпоха: 1800, RMSE test: 4751.43388883819, RMSE train 2633.8584813918915\n",
      "Цикл: 19, Эпоха: 1900, RMSE test: 4843.8218381769575, RMSE train 2610.940539345927\n",
      "Цикл: 19, Эпоха: 1999, RMSE test: 4905.954545243973, RMSE train 2618.1608048399166\n",
      "start new_cycle\n",
      "Цикл: 20, Эпоха: 0, RMSE test: 11388.893888345787, RMSE train 14972.718123306804\n",
      "Цикл: 20, Эпоха: 100, RMSE test: 5725.238335650316, RMSE train 5209.448723233582\n",
      "Цикл: 20, Эпоха: 200, RMSE test: 4646.07425683232, RMSE train 4034.313324470473\n",
      "Цикл: 20, Эпоха: 300, RMSE test: 4357.6665774242065, RMSE train 3811.8243663631724\n",
      "Цикл: 20, Эпоха: 400, RMSE test: 4040.780122699081, RMSE train 3651.3012748881733\n",
      "Цикл: 20, Эпоха: 500, RMSE test: 3804.538342558792, RMSE train 3503.385790917124\n",
      "Цикл: 20, Эпоха: 600, RMSE test: 3695.034235294715, RMSE train 3343.82311135024\n",
      "Цикл: 20, Эпоха: 700, RMSE test: 3563.5469689622446, RMSE train 3222.6040712442477\n",
      "Цикл: 20, Эпоха: 800, RMSE test: 3447.7518762231134, RMSE train 3074.05465143351\n",
      "Цикл: 20, Эпоха: 900, RMSE test: 3656.673078086145, RMSE train 2964.4065173319264\n",
      "Цикл: 20, Эпоха: 1000, RMSE test: 3977.239620641432, RMSE train 2851.1535384822755\n",
      "Цикл: 20, Эпоха: 1100, RMSE test: 4170.008153469247, RMSE train 2783.5519574816635\n",
      "Цикл: 20, Эпоха: 1200, RMSE test: 4384.432688501444, RMSE train 2746.25617887334\n",
      "Цикл: 20, Эпоха: 1300, RMSE test: 4338.300358435317, RMSE train 2680.9908616032244\n",
      "Цикл: 20, Эпоха: 1400, RMSE test: 4372.879829128626, RMSE train 2679.3507609120534\n",
      "Цикл: 20, Эпоха: 1500, RMSE test: 4473.321361136488, RMSE train 2623.846603748016\n",
      "Цикл: 20, Эпоха: 1600, RMSE test: 4419.708361419337, RMSE train 2612.5166028180565\n",
      "Цикл: 20, Эпоха: 1700, RMSE test: 4363.87786263548, RMSE train 2635.041271024042\n",
      "Цикл: 20, Эпоха: 1800, RMSE test: 4328.399473246433, RMSE train 2670.444532282968\n",
      "Цикл: 20, Эпоха: 1900, RMSE test: 4402.934476005747, RMSE train 2712.8116410838406\n",
      "Цикл: 20, Эпоха: 1999, RMSE test: 4554.50612031645, RMSE train 2576.5160585565927\n",
      "start new_cycle\n",
      "Цикл: 21, Эпоха: 0, RMSE test: 11381.775256962334, RMSE train 14964.724922296433\n",
      "Цикл: 21, Эпоха: 100, RMSE test: 5589.912700570555, RMSE train 4974.339755183596\n",
      "Цикл: 21, Эпоха: 200, RMSE test: 4725.013650773932, RMSE train 3979.1778045219344\n",
      "Цикл: 21, Эпоха: 300, RMSE test: 4274.875904631619, RMSE train 3828.422521091422\n",
      "Цикл: 21, Эпоха: 400, RMSE test: 3841.5896449256525, RMSE train 3660.9360824794526\n",
      "Цикл: 21, Эпоха: 500, RMSE test: 3490.454125181994, RMSE train 3492.3106963728183\n",
      "Цикл: 21, Эпоха: 600, RMSE test: 3375.762728628895, RMSE train 3437.583017179367\n",
      "Цикл: 21, Эпоха: 700, RMSE test: 3247.2069536757276, RMSE train 3382.4050614910097\n",
      "Цикл: 21, Эпоха: 800, RMSE test: 3210.9518837877345, RMSE train 3347.364635052477\n",
      "Цикл: 21, Эпоха: 900, RMSE test: 3204.8953181032293, RMSE train 3325.801256840222\n",
      "Цикл: 21, Эпоха: 1000, RMSE test: 3194.877618939417, RMSE train 3325.159695413139\n",
      "Цикл: 21, Эпоха: 1100, RMSE test: 3148.289853237786, RMSE train 3320.589254936539\n",
      "Цикл: 21, Эпоха: 1200, RMSE test: 3192.813492830422, RMSE train 3331.201585014032\n",
      "Цикл: 21, Эпоха: 1300, RMSE test: 3255.911393143247, RMSE train 3309.2570163104588\n",
      "Цикл: 21, Эпоха: 1400, RMSE test: 3216.6510535026955, RMSE train 3285.792598445617\n",
      "Цикл: 21, Эпоха: 1500, RMSE test: 3101.997582204087, RMSE train 3284.9642311599073\n",
      "Цикл: 21, Эпоха: 1600, RMSE test: 3141.9156576840187, RMSE train 3241.3230323434286\n",
      "Цикл: 21, Эпоха: 1700, RMSE test: 3188.5702124933678, RMSE train 2992.0419448931525\n",
      "Цикл: 21, Эпоха: 1800, RMSE test: 3495.308856167077, RMSE train 2798.144385123827\n",
      "Цикл: 21, Эпоха: 1900, RMSE test: 3585.8643309528597, RMSE train 2704.450498715035\n",
      "Цикл: 21, Эпоха: 1999, RMSE test: 3675.7411497546996, RMSE train 2685.5915549465076\n",
      "start new_cycle\n",
      "Цикл: 22, Эпоха: 0, RMSE test: 11400.015087709315, RMSE train 14985.166532274508\n",
      "Цикл: 22, Эпоха: 100, RMSE test: 6014.032590533577, RMSE train 5511.029123494087\n",
      "Цикл: 22, Эпоха: 200, RMSE test: 4301.591333448588, RMSE train 3936.4401430734342\n",
      "Цикл: 22, Эпоха: 300, RMSE test: 3401.1356926767858, RMSE train 3525.8885404958564\n",
      "Цикл: 22, Эпоха: 400, RMSE test: 3321.842259951547, RMSE train 3398.633401824916\n",
      "Цикл: 22, Эпоха: 500, RMSE test: 3182.238834531437, RMSE train 3157.326875697225\n",
      "Цикл: 22, Эпоха: 600, RMSE test: 3351.0244702180257, RMSE train 3197.5770514563055\n",
      "Цикл: 22, Эпоха: 700, RMSE test: 3228.9663980908813, RMSE train 3102.970512267237\n",
      "Цикл: 22, Эпоха: 800, RMSE test: 3244.4626673765256, RMSE train 3017.462178719064\n",
      "Цикл: 22, Эпоха: 900, RMSE test: 3238.212315460492, RMSE train 2897.8504102178913\n",
      "Цикл: 22, Эпоха: 1000, RMSE test: 3430.175943009338, RMSE train 2838.2487558351895\n",
      "Цикл: 22, Эпоха: 1100, RMSE test: 3667.0751287640674, RMSE train 2809.5805736799934\n",
      "Цикл: 22, Эпоха: 1200, RMSE test: 3762.0766871503297, RMSE train 2777.573311363716\n",
      "Цикл: 22, Эпоха: 1300, RMSE test: 3945.773815109021, RMSE train 2774.73079775318\n",
      "Цикл: 22, Эпоха: 1400, RMSE test: 4041.781414178654, RMSE train 2831.952153550621\n",
      "Цикл: 22, Эпоха: 1500, RMSE test: 3873.8742880997056, RMSE train 2706.863683305829\n",
      "Цикл: 22, Эпоха: 1600, RMSE test: 3916.4692006959535, RMSE train 2686.902119542132\n",
      "Цикл: 22, Эпоха: 1700, RMSE test: 3910.839040410638, RMSE train 2643.478957737322\n",
      "Цикл: 22, Эпоха: 1800, RMSE test: 3792.9796993920227, RMSE train 2606.153391494829\n",
      "Цикл: 22, Эпоха: 1900, RMSE test: 3838.3314083075215, RMSE train 2817.992015602599\n",
      "Цикл: 22, Эпоха: 1999, RMSE test: 3827.10112225951, RMSE train 2569.9785991326853\n",
      "start new_cycle\n",
      "Цикл: 23, Эпоха: 0, RMSE test: 11392.016151673943, RMSE train 14976.13835406177\n",
      "Цикл: 23, Эпоха: 100, RMSE test: 5784.442756221208, RMSE train 5217.34779365915\n",
      "Цикл: 23, Эпоха: 200, RMSE test: 4777.367266601972, RMSE train 4089.393231275271\n",
      "Цикл: 23, Эпоха: 300, RMSE test: 4438.523177814891, RMSE train 3888.645522543807\n",
      "Цикл: 23, Эпоха: 400, RMSE test: 4440.074774145138, RMSE train 3616.6687711207396\n",
      "Цикл: 23, Эпоха: 500, RMSE test: 4333.165355718611, RMSE train 3399.6985160452095\n",
      "Цикл: 23, Эпоха: 600, RMSE test: 4185.938604423147, RMSE train 3289.4982900132354\n",
      "Цикл: 23, Эпоха: 700, RMSE test: 4078.758144337563, RMSE train 3171.5313335989604\n",
      "Цикл: 23, Эпоха: 800, RMSE test: 4099.968048655989, RMSE train 2969.2861094882724\n",
      "Цикл: 23, Эпоха: 900, RMSE test: 3978.5785149975363, RMSE train 2759.8183817055788\n",
      "Цикл: 23, Эпоха: 1000, RMSE test: 4107.196854303431, RMSE train 2697.894086134591\n",
      "Цикл: 23, Эпоха: 1100, RMSE test: 4048.9577671297093, RMSE train 2681.666832401072\n",
      "Цикл: 23, Эпоха: 1200, RMSE test: 4038.705609474402, RMSE train 2557.236301165772\n",
      "Цикл: 23, Эпоха: 1300, RMSE test: 4003.502966153516, RMSE train 2601.0343134991513\n",
      "Цикл: 23, Эпоха: 1400, RMSE test: 3885.9377246682684, RMSE train 2539.0092555955757\n",
      "Цикл: 23, Эпоха: 1500, RMSE test: 4011.665738817231, RMSE train 2487.106250243443\n",
      "Цикл: 23, Эпоха: 1600, RMSE test: 4118.974386907498, RMSE train 2474.086902273241\n",
      "Цикл: 23, Эпоха: 1700, RMSE test: 3996.3041676028615, RMSE train 2464.7404528671977\n",
      "Цикл: 23, Эпоха: 1800, RMSE test: 4208.5384636474455, RMSE train 2390.152714786233\n",
      "Цикл: 23, Эпоха: 1900, RMSE test: 4284.551785192939, RMSE train 2423.7718539499547\n",
      "Цикл: 23, Эпоха: 1999, RMSE test: 4205.93960964729, RMSE train 2405.4702243012694\n",
      "start new_cycle\n",
      "Цикл: 24, Эпоха: 0, RMSE test: 11366.452040984468, RMSE train 14950.192507121772\n",
      "Цикл: 24, Эпоха: 100, RMSE test: 5610.1081986000945, RMSE train 4998.757045506412\n",
      "Цикл: 24, Эпоха: 200, RMSE test: 4794.277630675971, RMSE train 4028.988334557448\n",
      "Цикл: 24, Эпоха: 300, RMSE test: 4556.733698604737, RMSE train 3908.2323370035206\n",
      "Цикл: 24, Эпоха: 400, RMSE test: 4350.819003360172, RMSE train 3832.1983247217254\n",
      "Цикл: 24, Эпоха: 500, RMSE test: 4055.379143803943, RMSE train 3643.7080014732246\n",
      "Цикл: 24, Эпоха: 600, RMSE test: 3794.3500102125527, RMSE train 3527.4307930843943\n",
      "Цикл: 24, Эпоха: 700, RMSE test: 3463.4547781081246, RMSE train 3459.5375413485544\n",
      "Цикл: 24, Эпоха: 800, RMSE test: 3336.0004496402576, RMSE train 3407.238764747783\n",
      "Цикл: 24, Эпоха: 900, RMSE test: 3270.3924840911677, RMSE train 3374.589160179354\n",
      "Цикл: 24, Эпоха: 1000, RMSE test: 3212.397391357427, RMSE train 3270.269407862294\n",
      "Цикл: 24, Эпоха: 1100, RMSE test: 3921.931921897676, RMSE train 3506.735376386419\n",
      "Цикл: 24, Эпоха: 1200, RMSE test: 3341.4034476548923, RMSE train 2889.2743033502375\n",
      "Цикл: 24, Эпоха: 1300, RMSE test: 3519.2939632829766, RMSE train 2828.8316492856197\n",
      "Цикл: 24, Эпоха: 1400, RMSE test: 3804.8814699015265, RMSE train 2945.2315698430234\n",
      "Цикл: 24, Эпоха: 1500, RMSE test: 4001.0346161961656, RMSE train 2748.7983738353746\n",
      "Цикл: 24, Эпоха: 1600, RMSE test: 4072.80161559583, RMSE train 2725.6948655342917\n",
      "Цикл: 24, Эпоха: 1700, RMSE test: 4077.758698108558, RMSE train 2677.3443932374485\n",
      "Цикл: 24, Эпоха: 1800, RMSE test: 4026.2704827172256, RMSE train 2630.350546980383\n",
      "Цикл: 24, Эпоха: 1900, RMSE test: 3895.0663665719485, RMSE train 2602.1693834183816\n",
      "Цикл: 24, Эпоха: 1999, RMSE test: 3771.1756787505938, RMSE train 2641.2141147585894\n",
      "start new_cycle\n",
      "Цикл: 25, Эпоха: 0, RMSE test: 11393.311371151058, RMSE train 14975.654376353643\n",
      "Цикл: 25, Эпоха: 100, RMSE test: 5772.749951279719, RMSE train 5208.375562495469\n",
      "Цикл: 25, Эпоха: 200, RMSE test: 4772.788493113852, RMSE train 4090.723285679441\n",
      "Цикл: 25, Эпоха: 300, RMSE test: 4585.480781771962, RMSE train 3867.206356014636\n",
      "Цикл: 25, Эпоха: 400, RMSE test: 4481.890003112526, RMSE train 3442.008134795733\n",
      "Цикл: 25, Эпоха: 500, RMSE test: 4194.855420631324, RMSE train 3260.908309045196\n",
      "Цикл: 25, Эпоха: 600, RMSE test: 3990.643055949755, RMSE train 3175.282507116493\n",
      "Цикл: 25, Эпоха: 700, RMSE test: 3892.2052874944816, RMSE train 3124.8638370335434\n",
      "Цикл: 25, Эпоха: 800, RMSE test: 3871.5637667485216, RMSE train 3082.167256980062\n",
      "Цикл: 25, Эпоха: 900, RMSE test: 3867.150113455644, RMSE train 3047.4464720483606\n",
      "Цикл: 25, Эпоха: 1000, RMSE test: 4236.147542284145, RMSE train 2874.5977979536547\n",
      "Цикл: 25, Эпоха: 1100, RMSE test: 4245.319540387979, RMSE train 2801.045608339857\n",
      "Цикл: 25, Эпоха: 1200, RMSE test: 4151.9419552782765, RMSE train 2785.447091581529\n",
      "Цикл: 25, Эпоха: 1300, RMSE test: 4081.3579847888864, RMSE train 2780.3909797005167\n",
      "Цикл: 25, Эпоха: 1400, RMSE test: 4087.850780055456, RMSE train 2764.587763121294\n",
      "Цикл: 25, Эпоха: 1500, RMSE test: 4008.718124288611, RMSE train 2748.591730323003\n",
      "Цикл: 25, Эпоха: 1600, RMSE test: 3891.3275369724406, RMSE train 2703.3767772916895\n",
      "Цикл: 25, Эпоха: 1700, RMSE test: 3894.3968724309543, RMSE train 2745.2781279863066\n",
      "Цикл: 25, Эпоха: 1800, RMSE test: 3936.3147739986443, RMSE train 2836.3494143000084\n",
      "Цикл: 25, Эпоха: 1900, RMSE test: 3898.5257469971903, RMSE train 2673.7342799911885\n",
      "Цикл: 25, Эпоха: 1999, RMSE test: 3854.5584701752805, RMSE train 2693.759454739788\n",
      "start new_cycle\n",
      "Цикл: 26, Эпоха: 0, RMSE test: 11395.7925569045, RMSE train 14980.472622717883\n",
      "Цикл: 26, Эпоха: 100, RMSE test: 5792.789310858802, RMSE train 5235.269047527548\n",
      "Цикл: 26, Эпоха: 200, RMSE test: 4844.380249319824, RMSE train 4163.8647912726465\n",
      "Цикл: 26, Эпоха: 300, RMSE test: 4652.924241807511, RMSE train 3961.3334876023755\n",
      "Цикл: 26, Эпоха: 400, RMSE test: 4380.158672924989, RMSE train 3871.6973022177235\n",
      "Цикл: 26, Эпоха: 500, RMSE test: 4285.745209412245, RMSE train 3771.8586930053466\n",
      "Цикл: 26, Эпоха: 600, RMSE test: 3886.8711066872283, RMSE train 3624.708264122783\n",
      "Цикл: 26, Эпоха: 700, RMSE test: 3513.1280933094367, RMSE train 3515.840013424957\n",
      "Цикл: 26, Эпоха: 800, RMSE test: 3341.7278464889987, RMSE train 3437.0469883316987\n",
      "Цикл: 26, Эпоха: 900, RMSE test: 3199.386816250889, RMSE train 3408.876501136408\n",
      "Цикл: 26, Эпоха: 1000, RMSE test: 3172.3384119604893, RMSE train 3358.8688572196443\n",
      "Цикл: 26, Эпоха: 1100, RMSE test: 3092.8336521707724, RMSE train 3360.1627936753302\n",
      "Цикл: 26, Эпоха: 1200, RMSE test: 3278.5049946583886, RMSE train 3315.174656032469\n",
      "Цикл: 26, Эпоха: 1300, RMSE test: 3374.999259259178, RMSE train 3202.855132534096\n",
      "Цикл: 26, Эпоха: 1400, RMSE test: 3529.5822699010714, RMSE train 3130.0717244178286\n",
      "Цикл: 26, Эпоха: 1500, RMSE test: 3676.421493789851, RMSE train 3078.685596159504\n",
      "Цикл: 26, Эпоха: 1600, RMSE test: 3866.734281018027, RMSE train 3014.2425250798915\n",
      "Цикл: 26, Эпоха: 1700, RMSE test: 3955.688056457435, RMSE train 2989.3761891070185\n",
      "Цикл: 26, Эпоха: 1800, RMSE test: 4131.44841429734, RMSE train 3007.5867402287836\n",
      "Цикл: 26, Эпоха: 1900, RMSE test: 4204.773477846339, RMSE train 3042.0958236058245\n",
      "Цикл: 26, Эпоха: 1999, RMSE test: 4219.8665855687905, RMSE train 2949.7757541887822\n",
      "start new_cycle\n",
      "Цикл: 27, Эпоха: 0, RMSE test: 11368.671690219575, RMSE train 14952.92185494193\n",
      "Цикл: 27, Эпоха: 100, RMSE test: 5664.893114613902, RMSE train 5036.76106242891\n",
      "Цикл: 27, Эпоха: 200, RMSE test: 4612.211833816829, RMSE train 3942.719492938852\n",
      "Цикл: 27, Эпоха: 300, RMSE test: 4341.6860780116285, RMSE train 3819.783632615858\n",
      "Цикл: 27, Эпоха: 400, RMSE test: 4061.4251193392697, RMSE train 3658.6211883713786\n",
      "Цикл: 27, Эпоха: 500, RMSE test: 3710.6110008999867, RMSE train 3511.5253096055\n",
      "Цикл: 27, Эпоха: 600, RMSE test: 3399.0061782821167, RMSE train 3447.4750180385645\n",
      "Цикл: 27, Эпоха: 700, RMSE test: 3320.511255815887, RMSE train 3413.0477582360313\n",
      "Цикл: 27, Эпоха: 800, RMSE test: 3283.2975801775874, RMSE train 3404.5380009628325\n",
      "Цикл: 27, Эпоха: 900, RMSE test: 3240.328532726273, RMSE train 3331.9128139853838\n",
      "Цикл: 27, Эпоха: 1000, RMSE test: 3456.621327250065, RMSE train 3232.3536316436666\n",
      "Цикл: 27, Эпоха: 1100, RMSE test: 3856.9723877673796, RMSE train 3124.3893803429814\n",
      "Цикл: 27, Эпоха: 1200, RMSE test: 4166.577732384217, RMSE train 3024.436145796436\n",
      "Цикл: 27, Эпоха: 1300, RMSE test: 4219.869666233781, RMSE train 3019.3226061486043\n",
      "Цикл: 27, Эпоха: 1400, RMSE test: 4266.114625745539, RMSE train 2938.983837995711\n",
      "Цикл: 27, Эпоха: 1500, RMSE test: 4329.365542432286, RMSE train 2883.2860593427076\n",
      "Цикл: 27, Эпоха: 1600, RMSE test: 4653.1408747210735, RMSE train 2596.1828710628224\n",
      "Цикл: 27, Эпоха: 1700, RMSE test: 4700.848221331976, RMSE train 2615.13030268092\n",
      "Цикл: 27, Эпоха: 1800, RMSE test: 4771.09169897205, RMSE train 2552.360672005428\n",
      "Цикл: 27, Эпоха: 1900, RMSE test: 4679.469841766266, RMSE train 2542.881338167395\n",
      "Цикл: 27, Эпоха: 1999, RMSE test: 4581.852463796712, RMSE train 2527.1944919218226\n",
      "start new_cycle\n",
      "Цикл: 28, Эпоха: 0, RMSE test: 11395.194425721747, RMSE train 14980.359408238508\n",
      "Цикл: 28, Эпоха: 100, RMSE test: 5777.725504037034, RMSE train 5197.81973523515\n",
      "Цикл: 28, Эпоха: 200, RMSE test: 4809.309721779207, RMSE train 4055.6751595757764\n",
      "Цикл: 28, Эпоха: 300, RMSE test: 4644.265926925374, RMSE train 3785.7029730289196\n",
      "Цикл: 28, Эпоха: 400, RMSE test: 4461.541885940331, RMSE train 3458.0779343444533\n",
      "Цикл: 28, Эпоха: 500, RMSE test: 4459.43090539589, RMSE train 3285.3636024038497\n",
      "Цикл: 28, Эпоха: 600, RMSE test: 4326.331471350756, RMSE train 3182.6625645833083\n",
      "Цикл: 28, Эпоха: 700, RMSE test: 4235.055843787659, RMSE train 3071.7132027583566\n",
      "Цикл: 28, Эпоха: 800, RMSE test: 4154.820573743227, RMSE train 3240.478205450547\n",
      "Цикл: 28, Эпоха: 900, RMSE test: 4242.80614687968, RMSE train 2931.4117759195824\n",
      "Цикл: 28, Эпоха: 1000, RMSE test: 4209.376675946214, RMSE train 2844.7606226183602\n",
      "Цикл: 28, Эпоха: 1100, RMSE test: 4363.784137649341, RMSE train 2848.761660792282\n",
      "Цикл: 28, Эпоха: 1200, RMSE test: 4264.024155653905, RMSE train 2804.2811913215837\n",
      "Цикл: 28, Эпоха: 1300, RMSE test: 4383.157993958237, RMSE train 2807.690688092262\n",
      "Цикл: 28, Эпоха: 1400, RMSE test: 4378.089766096625, RMSE train 2731.782293668366\n",
      "Цикл: 28, Эпоха: 1500, RMSE test: 4343.116853136697, RMSE train 2768.8718821931793\n",
      "Цикл: 28, Эпоха: 1600, RMSE test: 4368.217256501787, RMSE train 2716.2376552871806\n",
      "Цикл: 28, Эпоха: 1700, RMSE test: 4390.179722972625, RMSE train 2782.311089723793\n",
      "Цикл: 28, Эпоха: 1800, RMSE test: 4449.621107465219, RMSE train 2739.1265031027683\n",
      "Цикл: 28, Эпоха: 1900, RMSE test: 4366.785774456997, RMSE train 2714.6473067417064\n",
      "Цикл: 28, Эпоха: 1999, RMSE test: 4338.168046537617, RMSE train 2678.7790129086798\n",
      "start new_cycle\n",
      "Цикл: 29, Эпоха: 0, RMSE test: 11386.552770702818, RMSE train 14970.692435555544\n",
      "Цикл: 29, Эпоха: 100, RMSE test: 5534.16461627227, RMSE train 4922.753091512919\n",
      "Цикл: 29, Эпоха: 200, RMSE test: 4887.148043593523, RMSE train 4122.111352207749\n",
      "Цикл: 29, Эпоха: 300, RMSE test: 4462.580867614613, RMSE train 3916.8146496866557\n",
      "Цикл: 29, Эпоха: 400, RMSE test: 4192.285534168683, RMSE train 3793.500626070859\n",
      "Цикл: 29, Эпоха: 500, RMSE test: 3936.447510128898, RMSE train 3641.6902668953053\n",
      "Цикл: 29, Эпоха: 600, RMSE test: 3492.6557230852286, RMSE train 3549.9521123530667\n",
      "Цикл: 29, Эпоха: 700, RMSE test: 3368.126779086559, RMSE train 3437.6279612546787\n",
      "Цикл: 29, Эпоха: 800, RMSE test: 3224.3110892096006, RMSE train 3416.454595044401\n",
      "Цикл: 29, Эпоха: 900, RMSE test: 3206.274941423458, RMSE train 3400.4201211026852\n",
      "Цикл: 29, Эпоха: 1000, RMSE test: 3198.9753046874243, RMSE train 3378.312004537177\n",
      "Цикл: 29, Эпоха: 1100, RMSE test: 3263.750450019119, RMSE train 3172.397358465676\n",
      "Цикл: 29, Эпоха: 1200, RMSE test: 3480.6045451903897, RMSE train 2960.786888649705\n",
      "Цикл: 29, Эпоха: 1300, RMSE test: 3713.754165261885, RMSE train 2902.412444846528\n",
      "Цикл: 29, Эпоха: 1400, RMSE test: 3751.72946785879, RMSE train 2755.6185331064967\n",
      "Цикл: 29, Эпоха: 1500, RMSE test: 3698.7139656913187, RMSE train 2669.511565811244\n",
      "Цикл: 29, Эпоха: 1600, RMSE test: 3624.167214685327, RMSE train 2676.9689015750632\n",
      "Цикл: 29, Эпоха: 1700, RMSE test: 3565.3775396162464, RMSE train 2684.0940743573055\n",
      "Цикл: 29, Эпоха: 1800, RMSE test: 3545.210148919243, RMSE train 2622.8338681662626\n",
      "Цикл: 29, Эпоха: 1900, RMSE test: 3499.1854766502447, RMSE train 2587.4863284662974\n",
      "Цикл: 29, Эпоха: 1999, RMSE test: 3594.89735597555, RMSE train 2605.878642607902\n",
      "start new_cycle\n",
      "Цикл: 30, Эпоха: 0, RMSE test: 11385.709288401842, RMSE train 14969.722509118197\n",
      "Цикл: 30, Эпоха: 100, RMSE test: 5652.288032292763, RMSE train 5073.3060227035385\n",
      "Цикл: 30, Эпоха: 200, RMSE test: 4618.482001697094, RMSE train 3970.5191096379326\n",
      "Цикл: 30, Эпоха: 300, RMSE test: 4598.653063669839, RMSE train 3575.2356565686687\n",
      "Цикл: 30, Эпоха: 400, RMSE test: 4507.856031418927, RMSE train 3479.486456361053\n",
      "Цикл: 30, Эпоха: 500, RMSE test: 4400.811970534529, RMSE train 3391.349288999881\n",
      "Цикл: 30, Эпоха: 600, RMSE test: 4363.057414245199, RMSE train 3304.925112616018\n",
      "Цикл: 30, Эпоха: 700, RMSE test: 4125.95443503682, RMSE train 3211.7934242413535\n",
      "Цикл: 30, Эпоха: 800, RMSE test: 3840.0536454586154, RMSE train 3130.636676460557\n",
      "Цикл: 30, Эпоха: 900, RMSE test: 4357.086641323534, RMSE train 3257.5171526793224\n",
      "Цикл: 30, Эпоха: 1000, RMSE test: 3866.447077098043, RMSE train 2992.3709663074865\n",
      "Цикл: 30, Эпоха: 1100, RMSE test: 3921.8783764925706, RMSE train 3023.8291949116438\n",
      "Цикл: 30, Эпоха: 1200, RMSE test: 3751.4161326091244, RMSE train 2943.6142750027557\n",
      "Цикл: 30, Эпоха: 1300, RMSE test: 3811.4976059286723, RMSE train 2938.076581711239\n",
      "Цикл: 30, Эпоха: 1400, RMSE test: 3798.109661397364, RMSE train 2909.0819857817687\n",
      "Цикл: 30, Эпоха: 1500, RMSE test: 3718.726663792326, RMSE train 2937.1666619379976\n",
      "Цикл: 30, Эпоха: 1600, RMSE test: 3848.116682222617, RMSE train 2929.852556017111\n",
      "Цикл: 30, Эпоха: 1700, RMSE test: 3844.9464235539094, RMSE train 2922.9397872689747\n",
      "Цикл: 30, Эпоха: 1800, RMSE test: 3780.759183021315, RMSE train 2873.7938339414677\n",
      "Цикл: 30, Эпоха: 1900, RMSE test: 3715.366469138677, RMSE train 2888.872271319727\n",
      "Цикл: 30, Эпоха: 1999, RMSE test: 3789.030878734033, RMSE train 2944.729529175812\n",
      "start new_cycle\n",
      "Цикл: 31, Эпоха: 0, RMSE test: 11391.332845633122, RMSE train 14975.629268915547\n",
      "Цикл: 31, Эпоха: 100, RMSE test: 5707.132730189477, RMSE train 5127.545806718844\n",
      "Цикл: 31, Эпоха: 200, RMSE test: 4821.639347773742, RMSE train 4064.346934010432\n",
      "Цикл: 31, Эпоха: 300, RMSE test: 4585.742687940526, RMSE train 3901.5967244193753\n",
      "Цикл: 31, Эпоха: 400, RMSE test: 4384.022582058628, RMSE train 3797.424653630405\n",
      "Цикл: 31, Эпоха: 500, RMSE test: 4016.7974805807676, RMSE train 3626.754058383336\n",
      "Цикл: 31, Эпоха: 600, RMSE test: 3572.1815463383155, RMSE train 3467.463049550781\n",
      "Цикл: 31, Эпоха: 700, RMSE test: 3459.302386320109, RMSE train 3396.9773328652045\n",
      "Цикл: 31, Эпоха: 800, RMSE test: 3290.8907608731106, RMSE train 3356.866544859953\n",
      "Цикл: 31, Эпоха: 900, RMSE test: 3190.236825064873, RMSE train 3349.8823859950667\n",
      "Цикл: 31, Эпоха: 1000, RMSE test: 3214.231634465693, RMSE train 3321.7904810508444\n",
      "Цикл: 31, Эпоха: 1100, RMSE test: 3264.4160274082715, RMSE train 3289.7480146661687\n",
      "Цикл: 31, Эпоха: 1200, RMSE test: 3238.534699520757, RMSE train 3269.067298175429\n",
      "Цикл: 31, Эпоха: 1300, RMSE test: 3200.898780030384, RMSE train 3262.5621833154382\n",
      "Цикл: 31, Эпоха: 1400, RMSE test: 3241.3927562083554, RMSE train 3249.2336019436952\n",
      "Цикл: 31, Эпоха: 1500, RMSE test: 3206.119149376704, RMSE train 3243.515839332375\n",
      "Цикл: 31, Эпоха: 1600, RMSE test: 3253.6189082312635, RMSE train 3254.9144381995666\n",
      "Цикл: 31, Эпоха: 1700, RMSE test: 3354.29202664288, RMSE train 3215.917909400052\n",
      "Цикл: 31, Эпоха: 1800, RMSE test: 3359.581968043048, RMSE train 2861.8946521491666\n",
      "Цикл: 31, Эпоха: 1900, RMSE test: 3559.923173328323, RMSE train 2749.31291416601\n",
      "Цикл: 31, Эпоха: 1999, RMSE test: 3965.5694420852096, RMSE train 2812.164202175968\n",
      "start new_cycle\n",
      "Цикл: 32, Эпоха: 0, RMSE test: 11378.333797177862, RMSE train 14960.304809728977\n",
      "Цикл: 32, Эпоха: 100, RMSE test: 5623.563816655769, RMSE train 5047.989104584121\n",
      "Цикл: 32, Эпоха: 200, RMSE test: 4490.250549802316, RMSE train 3914.834096101647\n",
      "Цикл: 32, Эпоха: 300, RMSE test: 4240.366729423294, RMSE train 3766.9305807248425\n",
      "Цикл: 32, Эпоха: 400, RMSE test: 3977.017224000922, RMSE train 3665.171892285545\n",
      "Цикл: 32, Эпоха: 500, RMSE test: 3671.653169895, RMSE train 3444.346236951216\n",
      "Цикл: 32, Эпоха: 600, RMSE test: 3650.203829925118, RMSE train 3296.0118325030326\n",
      "Цикл: 32, Эпоха: 700, RMSE test: 3522.894832378622, RMSE train 3217.460333865827\n",
      "Цикл: 32, Эпоха: 800, RMSE test: 3555.46241718289, RMSE train 3134.472363891569\n",
      "Цикл: 32, Эпоха: 900, RMSE test: 3600.202633186082, RMSE train 3091.6385623161063\n",
      "Цикл: 32, Эпоха: 1000, RMSE test: 3595.43516142344, RMSE train 3053.5453165132494\n",
      "Цикл: 32, Эпоха: 1100, RMSE test: 3430.9281543046045, RMSE train 3004.673359951128\n",
      "Цикл: 32, Эпоха: 1200, RMSE test: 3513.560587210643, RMSE train 2980.44577202807\n",
      "Цикл: 32, Эпоха: 1300, RMSE test: 3524.9120556405373, RMSE train 2977.0740669321617\n",
      "Цикл: 32, Эпоха: 1400, RMSE test: 3394.3961171318824, RMSE train 2819.9902482100892\n",
      "Цикл: 32, Эпоха: 1500, RMSE test: 3618.0142343556363, RMSE train 2703.5963086230163\n",
      "Цикл: 32, Эпоха: 1600, RMSE test: 3593.9329431696415, RMSE train 2633.3191982742997\n",
      "Цикл: 32, Эпоха: 1700, RMSE test: 3578.0090832752226, RMSE train 2658.9596649817763\n",
      "Цикл: 32, Эпоха: 1800, RMSE test: 4007.280124972548, RMSE train 2721.8567192267856\n",
      "Цикл: 32, Эпоха: 1900, RMSE test: 3729.6345665493823, RMSE train 2493.7066788217094\n",
      "Цикл: 32, Эпоха: 1999, RMSE test: 3780.849243225654, RMSE train 2413.8303585794924\n",
      "start new_cycle\n",
      "Цикл: 33, Эпоха: 0, RMSE test: 11387.80154375725, RMSE train 14971.326193761193\n",
      "Цикл: 33, Эпоха: 100, RMSE test: 5715.0105861669235, RMSE train 5145.898172331046\n",
      "Цикл: 33, Эпоха: 200, RMSE test: 4796.868353415591, RMSE train 4077.276664637807\n",
      "Цикл: 33, Эпоха: 300, RMSE test: 4446.657621180205, RMSE train 3881.577514361912\n",
      "Цикл: 33, Эпоха: 400, RMSE test: 4362.975590121952, RMSE train 3430.3884619675364\n",
      "Цикл: 33, Эпоха: 500, RMSE test: 4603.300120565679, RMSE train 3269.19852563285\n",
      "Цикл: 33, Эпоха: 600, RMSE test: 4839.207579759314, RMSE train 3150.587564248929\n",
      "Цикл: 33, Эпоха: 700, RMSE test: 5352.889686888756, RMSE train 3079.8137930725616\n",
      "Цикл: 33, Эпоха: 800, RMSE test: 5688.75627883635, RMSE train 3048.2923088181683\n",
      "Цикл: 33, Эпоха: 900, RMSE test: 5876.296793049173, RMSE train 3043.8965159807913\n",
      "Цикл: 33, Эпоха: 1000, RMSE test: 5828.376789467201, RMSE train 2997.2318895941303\n",
      "Цикл: 33, Эпоха: 1100, RMSE test: 5777.634810196989, RMSE train 2992.2361203621617\n",
      "Цикл: 33, Эпоха: 1200, RMSE test: 5797.899964642371, RMSE train 2960.9446127882907\n",
      "Цикл: 33, Эпоха: 1300, RMSE test: 5739.21614856942, RMSE train 3119.5982113086293\n",
      "Цикл: 33, Эпоха: 1400, RMSE test: 5813.464027582866, RMSE train 2994.0151970222196\n",
      "Цикл: 33, Эпоха: 1500, RMSE test: 5752.715532685412, RMSE train 2955.425857638794\n",
      "Цикл: 33, Эпоха: 1600, RMSE test: 5744.67753664207, RMSE train 2964.0097840594253\n",
      "Цикл: 33, Эпоха: 1700, RMSE test: 5756.098157606418, RMSE train 2937.4151902650738\n",
      "Цикл: 33, Эпоха: 1800, RMSE test: 5760.454322360347, RMSE train 2940.2273721601873\n",
      "Цикл: 33, Эпоха: 1900, RMSE test: 5789.494796612223, RMSE train 2996.5249873812168\n",
      "Цикл: 33, Эпоха: 1999, RMSE test: 5739.511651699994, RMSE train 3021.2356743557757\n",
      "start new_cycle\n",
      "Цикл: 34, Эпоха: 0, RMSE test: 11392.180827216534, RMSE train 14976.047008473231\n",
      "Цикл: 34, Эпоха: 100, RMSE test: 5812.13213889705, RMSE train 5270.8323820816\n",
      "Цикл: 34, Эпоха: 200, RMSE test: 4852.034418674295, RMSE train 4056.2750153311845\n",
      "Цикл: 34, Эпоха: 300, RMSE test: 4441.097612077447, RMSE train 3883.501770309884\n",
      "Цикл: 34, Эпоха: 400, RMSE test: 4265.946319399718, RMSE train 3829.9640990484495\n",
      "Цикл: 34, Эпоха: 500, RMSE test: 4205.142328150142, RMSE train 3801.1757391628184\n",
      "Цикл: 34, Эпоха: 600, RMSE test: 4043.494404596104, RMSE train 3700.0143242965964\n",
      "Цикл: 34, Эпоха: 700, RMSE test: 3763.9406212107015, RMSE train 3613.5781436133357\n",
      "Цикл: 34, Эпоха: 800, RMSE test: 3626.2137278434097, RMSE train 3539.7124176972343\n",
      "Цикл: 34, Эпоха: 900, RMSE test: 3496.4273194219268, RMSE train 3482.6768440382175\n",
      "Цикл: 34, Эпоха: 1000, RMSE test: 3256.4033841033884, RMSE train 3403.607351032137\n",
      "Цикл: 34, Эпоха: 1100, RMSE test: 3224.9570539776187, RMSE train 3211.675419465672\n",
      "Цикл: 34, Эпоха: 1200, RMSE test: 3344.3053090290664, RMSE train 2945.1589091252786\n",
      "Цикл: 34, Эпоха: 1300, RMSE test: 3500.630371804484, RMSE train 2882.369511356932\n",
      "Цикл: 34, Эпоха: 1400, RMSE test: 3718.982522142313, RMSE train 2873.1565394179274\n",
      "Цикл: 34, Эпоха: 1500, RMSE test: 3894.1503566246643, RMSE train 2771.4015407371053\n",
      "Цикл: 34, Эпоха: 1600, RMSE test: 3954.4817612425527, RMSE train 2719.5677965441496\n",
      "Цикл: 34, Эпоха: 1700, RMSE test: 3880.9413806446496, RMSE train 2721.01837553516\n",
      "Цикл: 34, Эпоха: 1800, RMSE test: 4030.394769746507, RMSE train 2668.6771067328473\n",
      "Цикл: 34, Эпоха: 1900, RMSE test: 4100.774073269582, RMSE train 2621.235681887457\n",
      "Цикл: 34, Эпоха: 1999, RMSE test: 4107.781152885338, RMSE train 2610.818837070087\n",
      "start new_cycle\n",
      "Цикл: 35, Эпоха: 0, RMSE test: 11380.42811145521, RMSE train 14966.130829309224\n",
      "Цикл: 35, Эпоха: 100, RMSE test: 5409.106950319988, RMSE train 4644.84746789386\n",
      "Цикл: 35, Эпоха: 200, RMSE test: 4423.016165468989, RMSE train 3994.6477942366832\n",
      "Цикл: 35, Эпоха: 300, RMSE test: 4166.810770841412, RMSE train 3803.073230954145\n",
      "Цикл: 35, Эпоха: 400, RMSE test: 3803.3737654876886, RMSE train 3580.53543481977\n",
      "Цикл: 35, Эпоха: 500, RMSE test: 3581.3387161786304, RMSE train 3502.0928028822996\n",
      "Цикл: 35, Эпоха: 600, RMSE test: 3470.873233063979, RMSE train 3468.224617870071\n",
      "Цикл: 35, Эпоха: 700, RMSE test: 3354.7148910153305, RMSE train 3441.759579052552\n",
      "Цикл: 35, Эпоха: 800, RMSE test: 3249.795378173832, RMSE train 3425.305533817385\n",
      "Цикл: 35, Эпоха: 900, RMSE test: 3288.916690948556, RMSE train 3412.3455276393097\n",
      "Цикл: 35, Эпоха: 1000, RMSE test: 3386.4200861676923, RMSE train 3374.8679974185657\n",
      "Цикл: 35, Эпоха: 1100, RMSE test: 3420.530368232389, RMSE train 3197.390811270965\n",
      "Цикл: 35, Эпоха: 1200, RMSE test: 3457.022707475321, RMSE train 2949.977796526611\n",
      "Цикл: 35, Эпоха: 1300, RMSE test: 3637.8310845887277, RMSE train 2825.06858323829\n",
      "Цикл: 35, Эпоха: 1400, RMSE test: 3676.007889001328, RMSE train 2746.325818252452\n",
      "Цикл: 35, Эпоха: 1500, RMSE test: 3788.2521035432687, RMSE train 2709.561957217439\n",
      "Цикл: 35, Эпоха: 1600, RMSE test: 4072.1024053920846, RMSE train 2743.3411198755434\n",
      "Цикл: 35, Эпоха: 1700, RMSE test: 3995.2954834404927, RMSE train 2633.755683430033\n",
      "Цикл: 35, Эпоха: 1800, RMSE test: 4266.827627172206, RMSE train 2652.72652190157\n",
      "Цикл: 35, Эпоха: 1900, RMSE test: 4504.65314979966, RMSE train 2632.4914054940427\n",
      "Цикл: 35, Эпоха: 1999, RMSE test: 4436.867814122931, RMSE train 2588.9744108430273\n",
      "start new_cycle\n",
      "Цикл: 36, Эпоха: 0, RMSE test: 11386.566119774654, RMSE train 14971.343827459177\n",
      "Цикл: 36, Эпоха: 100, RMSE test: 5391.0101094321835, RMSE train 4678.280667082727\n",
      "Цикл: 36, Эпоха: 200, RMSE test: 4518.451725978712, RMSE train 3804.282061046473\n",
      "Цикл: 36, Эпоха: 300, RMSE test: 4725.318613596336, RMSE train 3569.599837516805\n",
      "Цикл: 36, Эпоха: 400, RMSE test: 4616.889429042026, RMSE train 3371.274684744629\n",
      "Цикл: 36, Эпоха: 500, RMSE test: 4602.19817043986, RMSE train 3320.453583473198\n",
      "Цикл: 36, Эпоха: 600, RMSE test: 4652.730166257226, RMSE train 3273.2676334207686\n",
      "Цикл: 36, Эпоха: 700, RMSE test: 4665.394088391677, RMSE train 3230.494234633456\n",
      "Цикл: 36, Эпоха: 800, RMSE test: 4599.886302942715, RMSE train 3231.5431298375083\n",
      "Цикл: 36, Эпоха: 900, RMSE test: 4589.409112293216, RMSE train 3212.3675069954247\n",
      "Цикл: 36, Эпоха: 1000, RMSE test: 4663.42921035583, RMSE train 3190.3012396950858\n",
      "Цикл: 36, Эпоха: 1100, RMSE test: 4710.404441234319, RMSE train 3189.544951870094\n",
      "Цикл: 36, Эпоха: 1200, RMSE test: 4653.732695374757, RMSE train 3159.830058721513\n",
      "Цикл: 36, Эпоха: 1300, RMSE test: 4668.410436112061, RMSE train 3160.955235367942\n",
      "Цикл: 36, Эпоха: 1400, RMSE test: 4725.719416131263, RMSE train 3142.812116560581\n",
      "Цикл: 36, Эпоха: 1500, RMSE test: 4838.033278099687, RMSE train 3056.082296012331\n",
      "Цикл: 36, Эпоха: 1600, RMSE test: 4420.91596843912, RMSE train 2866.400704716631\n",
      "Цикл: 36, Эпоха: 1700, RMSE test: 4421.551989969133, RMSE train 2795.5317025567783\n",
      "Цикл: 36, Эпоха: 1800, RMSE test: 4482.6808942863645, RMSE train 2744.9569213377467\n",
      "Цикл: 36, Эпоха: 1900, RMSE test: 4644.428059513894, RMSE train 2743.117204933103\n",
      "Цикл: 36, Эпоха: 1999, RMSE test: 4626.0242109180535, RMSE train 2717.3168751546073\n",
      "start new_cycle\n",
      "Цикл: 37, Эпоха: 0, RMSE test: 11364.325584917038, RMSE train 14950.51945585838\n",
      "Цикл: 37, Эпоха: 100, RMSE test: 5612.1163565984625, RMSE train 5041.160977393997\n",
      "Цикл: 37, Эпоха: 200, RMSE test: 4695.531279844699, RMSE train 4001.6888934548624\n",
      "Цикл: 37, Эпоха: 300, RMSE test: 4348.694516748676, RMSE train 3861.586332066137\n",
      "Цикл: 37, Эпоха: 400, RMSE test: 4149.516357360217, RMSE train 3654.123697960976\n",
      "Цикл: 37, Эпоха: 500, RMSE test: 3941.1404440846813, RMSE train 3207.3537378967103\n",
      "Цикл: 37, Эпоха: 600, RMSE test: 3891.3055649743055, RMSE train 2996.458409522815\n",
      "Цикл: 37, Эпоха: 700, RMSE test: 3780.9969584753703, RMSE train 2921.480960061181\n",
      "Цикл: 37, Эпоха: 800, RMSE test: 3783.7123305029413, RMSE train 2854.9752188066363\n",
      "Цикл: 37, Эпоха: 900, RMSE test: 3805.172663625134, RMSE train 2818.8361960213297\n",
      "Цикл: 37, Эпоха: 1000, RMSE test: 3814.3539426749585, RMSE train 2778.516330706012\n",
      "Цикл: 37, Эпоха: 1100, RMSE test: 3866.901343453179, RMSE train 2760.0347823895263\n",
      "Цикл: 37, Эпоха: 1200, RMSE test: 3998.953363068892, RMSE train 2728.2003225569783\n",
      "Цикл: 37, Эпоха: 1300, RMSE test: 3980.9320516683024, RMSE train 2759.8566085940047\n",
      "Цикл: 37, Эпоха: 1400, RMSE test: 3913.5261593606347, RMSE train 2722.2466824297903\n",
      "Цикл: 37, Эпоха: 1500, RMSE test: 4041.0228903088387, RMSE train 2607.4974592509193\n",
      "Цикл: 37, Эпоха: 1600, RMSE test: 4044.713216038932, RMSE train 2568.5213645208405\n",
      "Цикл: 37, Эпоха: 1700, RMSE test: 4242.768671516278, RMSE train 2522.6631760899036\n",
      "Цикл: 37, Эпоха: 1800, RMSE test: 4370.517360679397, RMSE train 2522.7030146253837\n",
      "Цикл: 37, Эпоха: 1900, RMSE test: 4565.495153868855, RMSE train 2419.0018602721248\n",
      "Цикл: 37, Эпоха: 1999, RMSE test: 4622.779034303932, RMSE train 2378.3726579323097\n",
      "start new_cycle\n",
      "Цикл: 38, Эпоха: 0, RMSE test: 11395.897507436612, RMSE train 14980.140987320514\n",
      "Цикл: 38, Эпоха: 100, RMSE test: 5722.1036341541385, RMSE train 5147.91919128496\n",
      "Цикл: 38, Эпоха: 200, RMSE test: 4822.639733589894, RMSE train 4044.7431315226927\n",
      "Цикл: 38, Эпоха: 300, RMSE test: 4484.25512209107, RMSE train 3862.423073667617\n",
      "Цикл: 38, Эпоха: 400, RMSE test: 4253.748699676557, RMSE train 3754.2826212207306\n",
      "Цикл: 38, Эпоха: 500, RMSE test: 4051.556984666512, RMSE train 3673.9614859168028\n",
      "Цикл: 38, Эпоха: 600, RMSE test: 3750.2125273109523, RMSE train 3576.089624156531\n",
      "Цикл: 38, Эпоха: 700, RMSE test: 3580.9758446546384, RMSE train 3475.237401962634\n",
      "Цикл: 38, Эпоха: 800, RMSE test: 3312.3905264929135, RMSE train 3368.4561745701844\n",
      "Цикл: 38, Эпоха: 900, RMSE test: 3425.983800311963, RMSE train 3378.485163501536\n",
      "Цикл: 38, Эпоха: 1000, RMSE test: 3352.791672621489, RMSE train 3283.2815901168146\n",
      "Цикл: 38, Эпоха: 1100, RMSE test: 3376.4796756385194, RMSE train 3111.6031237932643\n",
      "Цикл: 38, Эпоха: 1200, RMSE test: 3509.9041297448566, RMSE train 3008.976736367365\n",
      "Цикл: 38, Эпоха: 1300, RMSE test: 3615.483646761523, RMSE train 2940.1185350254163\n",
      "Цикл: 38, Эпоха: 1400, RMSE test: 3654.071975207932, RMSE train 2778.561318380431\n",
      "Цикл: 38, Эпоха: 1500, RMSE test: 3792.1060111763754, RMSE train 2745.4281086927044\n",
      "Цикл: 38, Эпоха: 1600, RMSE test: 3894.511394257308, RMSE train 2908.2862651396613\n",
      "Цикл: 38, Эпоха: 1700, RMSE test: 3884.395319737681, RMSE train 2646.441667598211\n",
      "Цикл: 38, Эпоха: 1800, RMSE test: 3984.510007516608, RMSE train 2668.300676460582\n",
      "Цикл: 38, Эпоха: 1900, RMSE test: 4054.078933617351, RMSE train 2608.273183545006\n",
      "Цикл: 38, Эпоха: 1999, RMSE test: 4110.084184052682, RMSE train 2628.037861218898\n",
      "start new_cycle\n",
      "Цикл: 39, Эпоха: 0, RMSE test: 11388.652598090786, RMSE train 14972.36814936101\n",
      "Цикл: 39, Эпоха: 100, RMSE test: 5774.6153118627735, RMSE train 5237.077811146212\n",
      "Цикл: 39, Эпоха: 200, RMSE test: 4869.015917000067, RMSE train 4125.332229045316\n",
      "Цикл: 39, Эпоха: 300, RMSE test: 4682.439962241908, RMSE train 3917.0649726549086\n",
      "Цикл: 39, Эпоха: 400, RMSE test: 4481.065051971462, RMSE train 3825.6148525433136\n",
      "Цикл: 39, Эпоха: 500, RMSE test: 4223.074472466712, RMSE train 3722.8669060282023\n",
      "Цикл: 39, Эпоха: 600, RMSE test: 3875.1669641449, RMSE train 3604.220720211236\n",
      "Цикл: 39, Эпоха: 700, RMSE test: 3701.913964424349, RMSE train 3515.184632419754\n",
      "Цикл: 39, Эпоха: 800, RMSE test: 3398.767570752669, RMSE train 3425.1249612240426\n",
      "Цикл: 39, Эпоха: 900, RMSE test: 3276.128813096335, RMSE train 3380.825343019068\n",
      "Цикл: 39, Эпоха: 1000, RMSE test: 3337.4599623066642, RMSE train 3302.927186602817\n",
      "Цикл: 39, Эпоха: 1100, RMSE test: 3196.2208934928135, RMSE train 3137.029167859298\n",
      "Цикл: 39, Эпоха: 1200, RMSE test: 3322.004816372186, RMSE train 3009.9945182674337\n",
      "Цикл: 39, Эпоха: 1300, RMSE test: 3490.6595365346075, RMSE train 2904.2725423072816\n",
      "Цикл: 39, Эпоха: 1400, RMSE test: 3581.0931291995184, RMSE train 2853.690154869656\n",
      "Цикл: 39, Эпоха: 1500, RMSE test: 3758.7572414296724, RMSE train 2763.528812949125\n",
      "Цикл: 39, Эпоха: 1600, RMSE test: 3972.4932976658374, RMSE train 2740.3996971244906\n",
      "Цикл: 39, Эпоха: 1700, RMSE test: 4059.511054301983, RMSE train 2681.6790449268906\n",
      "Цикл: 39, Эпоха: 1800, RMSE test: 4216.002134724317, RMSE train 2619.1032816595834\n",
      "Цикл: 39, Эпоха: 1900, RMSE test: 4279.398789549766, RMSE train 2575.669233422646\n",
      "Цикл: 39, Эпоха: 1999, RMSE test: 4303.0507782270015, RMSE train 2524.862867563306\n",
      "start new_cycle\n",
      "Цикл: 40, Эпоха: 0, RMSE test: 11378.913832172208, RMSE train 14961.902018125904\n",
      "Цикл: 40, Эпоха: 100, RMSE test: 5717.423370715169, RMSE train 5202.740047321219\n",
      "Цикл: 40, Эпоха: 200, RMSE test: 4657.518223260109, RMSE train 4030.2949023613646\n",
      "Цикл: 40, Эпоха: 300, RMSE test: 4149.896384248647, RMSE train 3736.953705894682\n",
      "Цикл: 40, Эпоха: 400, RMSE test: 3939.136580521168, RMSE train 3627.3979654843497\n",
      "Цикл: 40, Эпоха: 500, RMSE test: 3767.266117491569, RMSE train 3562.3685940677165\n",
      "Цикл: 40, Эпоха: 600, RMSE test: 3672.508270923294, RMSE train 3499.8058517580657\n",
      "Цикл: 40, Эпоха: 700, RMSE test: 3596.900888264785, RMSE train 3438.552020836678\n",
      "Цикл: 40, Эпоха: 800, RMSE test: 3544.7071811364053, RMSE train 3400.936488674847\n",
      "Цикл: 40, Эпоха: 900, RMSE test: 3540.2684926428956, RMSE train 3378.52822986578\n",
      "Цикл: 40, Эпоха: 1000, RMSE test: 3418.485629631928, RMSE train 3355.7440307627758\n",
      "Цикл: 40, Эпоха: 1100, RMSE test: 3454.7258936129797, RMSE train 3299.868785270105\n",
      "Цикл: 40, Эпоха: 1200, RMSE test: 3319.408983539088, RMSE train 3262.529693351464\n",
      "Цикл: 40, Эпоха: 1300, RMSE test: 3366.5161517509464, RMSE train 3231.043794194068\n",
      "Цикл: 40, Эпоха: 1400, RMSE test: 3382.716659727799, RMSE train 3207.0793566732955\n",
      "Цикл: 40, Эпоха: 1500, RMSE test: 3313.9568494475, RMSE train 3231.4411645580058\n",
      "Цикл: 40, Эпоха: 1600, RMSE test: 3297.746503295849, RMSE train 3164.5754849584487\n",
      "Цикл: 40, Эпоха: 1700, RMSE test: 3246.9071437292446, RMSE train 3165.1347522656915\n",
      "Цикл: 40, Эпоха: 1800, RMSE test: 4301.622717068525, RMSE train 2998.642359468698\n",
      "Цикл: 40, Эпоха: 1900, RMSE test: 4808.7857095112895, RMSE train 3110.719048708835\n",
      "Цикл: 40, Эпоха: 1999, RMSE test: 4650.718869164207, RMSE train 3129.029881608675\n",
      "start new_cycle\n",
      "Цикл: 41, Эпоха: 0, RMSE test: 11383.82888135622, RMSE train 14966.26980914082\n",
      "Цикл: 41, Эпоха: 100, RMSE test: 5685.375097563924, RMSE train 5092.825345522856\n",
      "Цикл: 41, Эпоха: 200, RMSE test: 4760.576645743665, RMSE train 4056.16025324444\n",
      "Цикл: 41, Эпоха: 300, RMSE test: 4354.613415677676, RMSE train 3817.6793998448848\n",
      "Цикл: 41, Эпоха: 400, RMSE test: 4467.526608762392, RMSE train 3535.044978497445\n",
      "Цикл: 41, Эпоха: 500, RMSE test: 4810.361524875236, RMSE train 3242.172265626859\n",
      "Цикл: 41, Эпоха: 600, RMSE test: 5117.069082980999, RMSE train 3065.18596499462\n",
      "Цикл: 41, Эпоха: 700, RMSE test: 5627.679273021873, RMSE train 2921.712853789708\n",
      "Цикл: 41, Эпоха: 800, RMSE test: 5988.937134417091, RMSE train 2767.949602142351\n",
      "Цикл: 41, Эпоха: 900, RMSE test: 5937.88817678474, RMSE train 2685.7305337654407\n",
      "Цикл: 41, Эпоха: 1000, RMSE test: 5268.393493276674, RMSE train 2565.6066534057786\n",
      "Цикл: 41, Эпоха: 1100, RMSE test: 5077.0944446602525, RMSE train 2521.307894724482\n",
      "Цикл: 41, Эпоха: 1200, RMSE test: 5291.590120181268, RMSE train 2455.4901750974286\n",
      "Цикл: 41, Эпоха: 1300, RMSE test: 5538.692083876843, RMSE train 2412.147383556817\n",
      "Цикл: 41, Эпоха: 1400, RMSE test: 5648.623903217491, RMSE train 2333.1860191592095\n",
      "Цикл: 41, Эпоха: 1500, RMSE test: 5686.959468819872, RMSE train 2307.5106716979662\n",
      "Цикл: 41, Эпоха: 1600, RMSE test: 6121.082257248305, RMSE train 2255.773481535768\n",
      "Цикл: 41, Эпоха: 1700, RMSE test: 6485.025211978747, RMSE train 2277.5462673675806\n",
      "Цикл: 41, Эпоха: 1800, RMSE test: 6064.295507311628, RMSE train 2157.811622917997\n",
      "Цикл: 41, Эпоха: 1900, RMSE test: 5854.043047330622, RMSE train 2303.516876430472\n",
      "Цикл: 41, Эпоха: 1999, RMSE test: 5516.790189956475, RMSE train 2186.002058553468\n",
      "start new_cycle\n",
      "Цикл: 42, Эпоха: 0, RMSE test: 11385.215676481495, RMSE train 14970.288975166779\n",
      "Цикл: 42, Эпоха: 100, RMSE test: 5582.818822064711, RMSE train 4989.289929438857\n",
      "Цикл: 42, Эпоха: 200, RMSE test: 4667.545393458964, RMSE train 3990.5509644659346\n",
      "Цикл: 42, Эпоха: 300, RMSE test: 4318.177161719977, RMSE train 3730.558537270257\n",
      "Цикл: 42, Эпоха: 400, RMSE test: 4431.216311578572, RMSE train 3335.1056954765318\n",
      "Цикл: 42, Эпоха: 500, RMSE test: 4582.769686554191, RMSE train 3225.3705213509966\n",
      "Цикл: 42, Эпоха: 600, RMSE test: 4655.051234948977, RMSE train 3024.3569564454524\n",
      "Цикл: 42, Эпоха: 700, RMSE test: 4635.766603270704, RMSE train 2923.0566193626837\n",
      "Цикл: 42, Эпоха: 800, RMSE test: 4626.7167624569365, RMSE train 2880.1617142098116\n",
      "Цикл: 42, Эпоха: 900, RMSE test: 4582.851732273258, RMSE train 2808.081017349749\n",
      "Цикл: 42, Эпоха: 1000, RMSE test: 4583.048330532856, RMSE train 2758.090462620833\n",
      "Цикл: 42, Эпоха: 1100, RMSE test: 4618.541111649868, RMSE train 2730.8421777905805\n",
      "Цикл: 42, Эпоха: 1200, RMSE test: 4556.18371008018, RMSE train 2715.830904161745\n",
      "Цикл: 42, Эпоха: 1300, RMSE test: 4738.223928857732, RMSE train 2680.754278183661\n",
      "Цикл: 42, Эпоха: 1400, RMSE test: 4722.914142772447, RMSE train 2631.9554517506563\n",
      "Цикл: 42, Эпоха: 1500, RMSE test: 4907.509755466615, RMSE train 2631.9808129999733\n",
      "Цикл: 42, Эпоха: 1600, RMSE test: 4992.054286563799, RMSE train 2595.4687437917646\n",
      "Цикл: 42, Эпоха: 1700, RMSE test: 5237.682311862757, RMSE train 2541.8816848940864\n",
      "Цикл: 42, Эпоха: 1800, RMSE test: 5277.423424361551, RMSE train 2530.767571311123\n",
      "Цикл: 42, Эпоха: 1900, RMSE test: 5460.777234057437, RMSE train 2475.5252977903497\n",
      "Цикл: 42, Эпоха: 1999, RMSE test: 5290.8562634038735, RMSE train 2445.0105316746594\n",
      "start new_cycle\n",
      "Цикл: 43, Эпоха: 0, RMSE test: 11382.61867937251, RMSE train 14963.496917498931\n",
      "Цикл: 43, Эпоха: 100, RMSE test: 5750.261907078668, RMSE train 5150.026407699284\n",
      "Цикл: 43, Эпоха: 200, RMSE test: 4802.531624049966, RMSE train 4129.370896395721\n",
      "Цикл: 43, Эпоха: 300, RMSE test: 4483.253729156983, RMSE train 3896.433625766003\n",
      "Цикл: 43, Эпоха: 400, RMSE test: 4272.316701743915, RMSE train 3776.326919110685\n",
      "Цикл: 43, Эпоха: 500, RMSE test: 4054.1392427986484, RMSE train 3652.535557664018\n",
      "Цикл: 43, Эпоха: 600, RMSE test: 3698.4487288591686, RMSE train 3537.0453771474295\n",
      "Цикл: 43, Эпоха: 700, RMSE test: 3334.5963773746294, RMSE train 3423.0312589866894\n",
      "Цикл: 43, Эпоха: 800, RMSE test: 3243.375093941495, RMSE train 3381.1508395811034\n",
      "Цикл: 43, Эпоха: 900, RMSE test: 3130.629649128111, RMSE train 3372.8105490821745\n",
      "Цикл: 43, Эпоха: 1000, RMSE test: 3090.967809602682, RMSE train 3266.5149624638184\n",
      "Цикл: 43, Эпоха: 1100, RMSE test: 3316.1158001493254, RMSE train 2973.719724520117\n",
      "Цикл: 43, Эпоха: 1200, RMSE test: 3332.362675340126, RMSE train 2917.6175211977325\n",
      "Цикл: 43, Эпоха: 1300, RMSE test: 3358.010571752269, RMSE train 2912.735140722548\n",
      "Цикл: 43, Эпоха: 1400, RMSE test: 3429.5613422127326, RMSE train 2921.3402745999992\n",
      "Цикл: 43, Эпоха: 1500, RMSE test: 3174.300710392763, RMSE train 2866.846002142424\n",
      "Цикл: 43, Эпоха: 1600, RMSE test: 3264.1020204644337, RMSE train 2805.0895707624027\n",
      "Цикл: 43, Эпоха: 1700, RMSE test: 3279.5595740891795, RMSE train 2785.7008992352357\n",
      "Цикл: 43, Эпоха: 1800, RMSE test: 3400.322778796154, RMSE train 2782.0637124264426\n",
      "Цикл: 43, Эпоха: 1900, RMSE test: 3426.1751268725307, RMSE train 2763.4557170325706\n",
      "Цикл: 43, Эпоха: 1999, RMSE test: 3548.6963803627946, RMSE train 2694.9961966577985\n",
      "start new_cycle\n",
      "Цикл: 44, Эпоха: 0, RMSE test: 11378.1281413069, RMSE train 14962.932867589829\n",
      "Цикл: 44, Эпоха: 100, RMSE test: 5768.185676623109, RMSE train 5228.4190727216965\n",
      "Цикл: 44, Эпоха: 200, RMSE test: 4897.190419005575, RMSE train 4152.0898352516415\n",
      "Цикл: 44, Эпоха: 300, RMSE test: 4668.977404100388, RMSE train 3953.3963879176094\n",
      "Цикл: 44, Эпоха: 400, RMSE test: 4212.593500446013, RMSE train 3604.5865227512572\n",
      "Цикл: 44, Эпоха: 500, RMSE test: 3988.272056918886, RMSE train 3272.8153018464086\n",
      "Цикл: 44, Эпоха: 600, RMSE test: 3849.619981244902, RMSE train 3175.754556007123\n",
      "Цикл: 44, Эпоха: 700, RMSE test: 3773.6788416610125, RMSE train 3085.6535774451413\n",
      "Цикл: 44, Эпоха: 800, RMSE test: 3803.102023348835, RMSE train 2994.8201949365844\n",
      "Цикл: 44, Эпоха: 900, RMSE test: 3857.139354495764, RMSE train 2927.7769723802394\n",
      "Цикл: 44, Эпоха: 1000, RMSE test: 3823.231486583045, RMSE train 2925.2786192087756\n",
      "Цикл: 44, Эпоха: 1100, RMSE test: 3732.4643333861877, RMSE train 2941.892078238085\n",
      "Цикл: 44, Эпоха: 1200, RMSE test: 3761.3254312808403, RMSE train 2798.257493512704\n",
      "Цикл: 44, Эпоха: 1300, RMSE test: 3802.599768579386, RMSE train 2764.6085618040033\n",
      "Цикл: 44, Эпоха: 1400, RMSE test: 3820.1804931180936, RMSE train 2724.7816426275335\n",
      "Цикл: 44, Эпоха: 1500, RMSE test: 3770.2161741735713, RMSE train 2735.55360027911\n",
      "Цикл: 44, Эпоха: 1600, RMSE test: 3722.043256062455, RMSE train 2668.211198537327\n",
      "Цикл: 44, Эпоха: 1700, RMSE test: 3700.8736806327233, RMSE train 2658.630662578012\n",
      "Цикл: 44, Эпоха: 1800, RMSE test: 3654.738567941625, RMSE train 2650.7170727936996\n",
      "Цикл: 44, Эпоха: 1900, RMSE test: 3758.9276396334103, RMSE train 2738.3327044024436\n",
      "Цикл: 44, Эпоха: 1999, RMSE test: 3614.6233552059057, RMSE train 2611.8983517740503\n",
      "start new_cycle\n",
      "Цикл: 45, Эпоха: 0, RMSE test: 11383.191116729966, RMSE train 14968.03260285065\n",
      "Цикл: 45, Эпоха: 100, RMSE test: 5814.939380595468, RMSE train 5266.843646815424\n",
      "Цикл: 45, Эпоха: 200, RMSE test: 4722.780113450128, RMSE train 4066.4748861882817\n",
      "Цикл: 45, Эпоха: 300, RMSE test: 4505.819126418636, RMSE train 3640.623710300201\n",
      "Цикл: 45, Эпоха: 400, RMSE test: 4771.893963616543, RMSE train 3318.641740230482\n",
      "Цикл: 45, Эпоха: 500, RMSE test: 4671.158742753237, RMSE train 3215.105441505768\n",
      "Цикл: 45, Эпоха: 600, RMSE test: 4533.032097834737, RMSE train 3118.6105880664227\n",
      "Цикл: 45, Эпоха: 700, RMSE test: 4605.896872488571, RMSE train 3085.130791392806\n",
      "Цикл: 45, Эпоха: 800, RMSE test: 4532.493574181876, RMSE train 3019.696342349674\n",
      "Цикл: 45, Эпоха: 900, RMSE test: 4528.468836152017, RMSE train 2975.4083753327036\n",
      "Цикл: 45, Эпоха: 1000, RMSE test: 4948.394285018121, RMSE train 2972.0286001315667\n",
      "Цикл: 45, Эпоха: 1100, RMSE test: 4812.008935985053, RMSE train 2917.6146078603324\n",
      "Цикл: 45, Эпоха: 1200, RMSE test: 5042.436315909205, RMSE train 2891.227507478441\n",
      "Цикл: 45, Эпоха: 1300, RMSE test: 5275.495237416105, RMSE train 2887.58973886527\n",
      "Цикл: 45, Эпоха: 1400, RMSE test: 5585.6845596578405, RMSE train 2888.476328447232\n",
      "Цикл: 45, Эпоха: 1500, RMSE test: 5593.507843920485, RMSE train 2882.669422601211\n",
      "Цикл: 45, Эпоха: 1600, RMSE test: 5662.471898385015, RMSE train 2859.205309172463\n",
      "Цикл: 45, Эпоха: 1700, RMSE test: 5662.992671724024, RMSE train 2829.0704303710786\n",
      "Цикл: 45, Эпоха: 1800, RMSE test: 5640.595713220368, RMSE train 2800.5695849237527\n",
      "Цикл: 45, Эпоха: 1900, RMSE test: 5750.253907437479, RMSE train 2795.959584829509\n",
      "Цикл: 45, Эпоха: 1999, RMSE test: 5737.962181820302, RMSE train 2774.356862409737\n",
      "start new_cycle\n",
      "Цикл: 46, Эпоха: 0, RMSE test: 11377.867286974304, RMSE train 14961.866728453371\n",
      "Цикл: 46, Эпоха: 100, RMSE test: 5690.96389023863, RMSE train 5089.025250477737\n",
      "Цикл: 46, Эпоха: 200, RMSE test: 4839.0720184762695, RMSE train 4153.939094401842\n",
      "Цикл: 46, Эпоха: 300, RMSE test: 4542.1737086993935, RMSE train 3932.1132994866766\n",
      "Цикл: 46, Эпоха: 400, RMSE test: 4233.131937466632, RMSE train 3799.168856473742\n",
      "Цикл: 46, Эпоха: 500, RMSE test: 3938.749420818745, RMSE train 3645.0898480010064\n",
      "Цикл: 46, Эпоха: 600, RMSE test: 3426.0040863956947, RMSE train 3460.0706640182943\n",
      "Цикл: 46, Эпоха: 700, RMSE test: 3205.2530321333447, RMSE train 3394.1984326199904\n",
      "Цикл: 46, Эпоха: 800, RMSE test: 3340.4947238395694, RMSE train 3083.418557380752\n",
      "Цикл: 46, Эпоха: 900, RMSE test: 3563.3226067814853, RMSE train 2983.0093865088656\n",
      "Цикл: 46, Эпоха: 1000, RMSE test: 3439.3858463394304, RMSE train 2859.9070789100824\n",
      "Цикл: 46, Эпоха: 1100, RMSE test: 3484.143797262105, RMSE train 2844.2115779245396\n",
      "Цикл: 46, Эпоха: 1200, RMSE test: 3454.2961656464836, RMSE train 2815.4731396339052\n",
      "Цикл: 46, Эпоха: 1300, RMSE test: 3460.022687786888, RMSE train 2754.7971794671203\n",
      "Цикл: 46, Эпоха: 1400, RMSE test: 3271.9796759759984, RMSE train 2704.6355577045865\n",
      "Цикл: 46, Эпоха: 1500, RMSE test: 3348.8514448986834, RMSE train 2582.352415918478\n",
      "Цикл: 46, Эпоха: 1600, RMSE test: 3296.1615555066473, RMSE train 2548.479350514734\n",
      "Цикл: 46, Эпоха: 1700, RMSE test: 3222.6023645494956, RMSE train 2543.780159526369\n",
      "Цикл: 46, Эпоха: 1800, RMSE test: 3179.800308195469, RMSE train 2506.4221511948062\n",
      "Цикл: 46, Эпоха: 1900, RMSE test: 3190.0510967694545, RMSE train 2463.8192912630584\n",
      "Цикл: 46, Эпоха: 1999, RMSE test: 3353.4236237016044, RMSE train 2461.526355739463\n",
      "start new_cycle\n",
      "Цикл: 47, Эпоха: 0, RMSE test: 11387.796977466713, RMSE train 14972.845287386095\n",
      "Цикл: 47, Эпоха: 100, RMSE test: 5748.848058524421, RMSE train 5167.674138333415\n",
      "Цикл: 47, Эпоха: 200, RMSE test: 4784.796547398854, RMSE train 3993.8820713686578\n",
      "Цикл: 47, Эпоха: 300, RMSE test: 4420.3983983347025, RMSE train 3848.382907144246\n",
      "Цикл: 47, Эпоха: 400, RMSE test: 4246.073480287406, RMSE train 3796.350089230444\n",
      "Цикл: 47, Эпоха: 500, RMSE test: 4188.32544103249, RMSE train 3751.674959268193\n",
      "Цикл: 47, Эпоха: 600, RMSE test: 4039.9634899340367, RMSE train 3692.80069865678\n",
      "Цикл: 47, Эпоха: 700, RMSE test: 3836.8193858976474, RMSE train 3596.1031687091513\n",
      "Цикл: 47, Эпоха: 800, RMSE test: 3611.3007351922383, RMSE train 3460.8903478729285\n",
      "Цикл: 47, Эпоха: 900, RMSE test: 3784.8302471841457, RMSE train 3021.848440938096\n",
      "Цикл: 47, Эпоха: 1000, RMSE test: 3814.4291840326514, RMSE train 2875.2036449615184\n",
      "Цикл: 47, Эпоха: 1100, RMSE test: 3975.6241019492777, RMSE train 2804.0284413678833\n",
      "Цикл: 47, Эпоха: 1200, RMSE test: 4142.070979594628, RMSE train 2816.024769067204\n",
      "Цикл: 47, Эпоха: 1300, RMSE test: 4320.493721786897, RMSE train 2854.455464707761\n",
      "Цикл: 47, Эпоха: 1400, RMSE test: 4343.504806029343, RMSE train 2782.283235042759\n",
      "Цикл: 47, Эпоха: 1500, RMSE test: 4324.156102640144, RMSE train 2727.024660687908\n",
      "Цикл: 47, Эпоха: 1600, RMSE test: 4199.659986236981, RMSE train 2719.7808735263948\n",
      "Цикл: 47, Эпоха: 1700, RMSE test: 4227.416232168297, RMSE train 2667.282324764291\n",
      "Цикл: 47, Эпоха: 1800, RMSE test: 4314.033147763239, RMSE train 2633.9810173955316\n",
      "Цикл: 47, Эпоха: 1900, RMSE test: 4281.153582855911, RMSE train 2542.961069304837\n",
      "Цикл: 47, Эпоха: 1999, RMSE test: 4202.603954692852, RMSE train 2664.1465800514807\n",
      "start new_cycle\n",
      "Цикл: 48, Эпоха: 0, RMSE test: 11375.588600156038, RMSE train 14960.193046882785\n",
      "Цикл: 48, Эпоха: 100, RMSE test: 5633.253056627227, RMSE train 5011.204845144529\n",
      "Цикл: 48, Эпоха: 200, RMSE test: 4688.261724776039, RMSE train 3997.3598787199535\n",
      "Цикл: 48, Эпоха: 300, RMSE test: 4368.7279613178025, RMSE train 3820.1064121304266\n",
      "Цикл: 48, Эпоха: 400, RMSE test: 3963.7047064583408, RMSE train 3682.709736050345\n",
      "Цикл: 48, Эпоха: 500, RMSE test: 3517.8978097721943, RMSE train 3523.1578165049605\n",
      "Цикл: 48, Эпоха: 600, RMSE test: 3371.1005621310082, RMSE train 3448.1796646926623\n",
      "Цикл: 48, Эпоха: 700, RMSE test: 3256.8114775037257, RMSE train 3398.0166273872173\n",
      "Цикл: 48, Эпоха: 800, RMSE test: 3238.3302796348617, RMSE train 3373.53079132235\n",
      "Цикл: 48, Эпоха: 900, RMSE test: 3281.6256642097374, RMSE train 3334.08743136709\n",
      "Цикл: 48, Эпоха: 1000, RMSE test: 3188.8974583702125, RMSE train 3301.1579786493103\n",
      "Цикл: 48, Эпоха: 1100, RMSE test: 3131.8670150566736, RMSE train 3297.784710984027\n",
      "Цикл: 48, Эпоха: 1200, RMSE test: 3169.5419227389943, RMSE train 3259.8518371238897\n",
      "Цикл: 48, Эпоха: 1300, RMSE test: 3170.98202454697, RMSE train 3218.409545101431\n",
      "Цикл: 48, Эпоха: 1400, RMSE test: 3414.9866764015346, RMSE train 3052.3043753859147\n",
      "Цикл: 48, Эпоха: 1500, RMSE test: 3711.278351188442, RMSE train 2877.3135908343393\n",
      "Цикл: 48, Эпоха: 1600, RMSE test: 4073.2688347321246, RMSE train 2705.3584790190007\n",
      "Цикл: 48, Эпоха: 1700, RMSE test: 4152.091761991779, RMSE train 2560.5764975879943\n",
      "Цикл: 48, Эпоха: 1800, RMSE test: 4353.5902425469485, RMSE train 2495.4118898490487\n",
      "Цикл: 48, Эпоха: 1900, RMSE test: 4336.106779128023, RMSE train 2447.53243083723\n",
      "Цикл: 48, Эпоха: 1999, RMSE test: 4530.373715268974, RMSE train 2407.8290014035465\n",
      "start new_cycle\n",
      "Цикл: 49, Эпоха: 0, RMSE test: 11396.780247069784, RMSE train 14980.872070744079\n",
      "Цикл: 49, Эпоха: 100, RMSE test: 5657.96164709518, RMSE train 5033.335474613231\n",
      "Цикл: 49, Эпоха: 200, RMSE test: 4786.080860161057, RMSE train 4069.780092339143\n",
      "Цикл: 49, Эпоха: 300, RMSE test: 4393.500199157842, RMSE train 3874.0358800609993\n",
      "Цикл: 49, Эпоха: 400, RMSE test: 4128.537029021298, RMSE train 3762.859285171318\n",
      "Цикл: 49, Эпоха: 500, RMSE test: 3798.2597330882995, RMSE train 3650.459149203015\n",
      "Цикл: 49, Эпоха: 600, RMSE test: 3487.1300520628706, RMSE train 3549.25583749608\n",
      "Цикл: 49, Эпоха: 700, RMSE test: 3228.1480759097776, RMSE train 3473.667658254025\n",
      "Цикл: 49, Эпоха: 800, RMSE test: 3175.886805287619, RMSE train 3159.684794405923\n",
      "Цикл: 49, Эпоха: 900, RMSE test: 3250.600559896586, RMSE train 3018.8214587815555\n",
      "Цикл: 49, Эпоха: 1000, RMSE test: 3337.262201266182, RMSE train 2921.537951148333\n",
      "Цикл: 49, Эпоха: 1100, RMSE test: 3362.6053886830077, RMSE train 2881.5150528845065\n",
      "Цикл: 49, Эпоха: 1200, RMSE test: 3276.2954689710145, RMSE train 2857.191015665561\n",
      "Цикл: 49, Эпоха: 1300, RMSE test: 3238.6941813020876, RMSE train 2843.583566558226\n",
      "Цикл: 49, Эпоха: 1400, RMSE test: 3263.464876477147, RMSE train 2763.559208701706\n",
      "Цикл: 49, Эпоха: 1500, RMSE test: 3211.989414677452, RMSE train 2695.6885020343134\n",
      "Цикл: 49, Эпоха: 1600, RMSE test: 3238.0840013810634, RMSE train 2683.2439322581167\n",
      "Цикл: 49, Эпоха: 1700, RMSE test: 3206.7315135508306, RMSE train 2615.112712676071\n",
      "Цикл: 49, Эпоха: 1800, RMSE test: 3174.216438745159, RMSE train 2633.8708206743927\n",
      "Цикл: 49, Эпоха: 1900, RMSE test: 3254.633466306152, RMSE train 2501.5542168819766\n",
      "Цикл: 49, Эпоха: 1999, RMSE test: 3463.8839472476557, RMSE train 2633.923404353285\n",
      "start new_cycle\n",
      "Цикл: 50, Эпоха: 0, RMSE test: 11388.96975147445, RMSE train 14973.340575836775\n",
      "Цикл: 50, Эпоха: 100, RMSE test: 5675.2938249926765, RMSE train 5062.254833569721\n",
      "Цикл: 50, Эпоха: 200, RMSE test: 4787.941311252676, RMSE train 4052.2861448816766\n",
      "Цикл: 50, Эпоха: 300, RMSE test: 4453.425647745789, RMSE train 3879.079658888175\n",
      "Цикл: 50, Эпоха: 400, RMSE test: 4222.455920433036, RMSE train 3795.4339672822657\n",
      "Цикл: 50, Эпоха: 500, RMSE test: 4020.5712280719513, RMSE train 3666.859964601866\n",
      "Цикл: 50, Эпоха: 600, RMSE test: 3742.8697546134304, RMSE train 3536.7653300720985\n",
      "Цикл: 50, Эпоха: 700, RMSE test: 3506.345818655085, RMSE train 3410.096626196976\n",
      "Цикл: 50, Эпоха: 800, RMSE test: 3590.5858853396057, RMSE train 3150.0985698863456\n",
      "Цикл: 50, Эпоха: 900, RMSE test: 3858.169125375403, RMSE train 2950.787183108941\n",
      "Цикл: 50, Эпоха: 1000, RMSE test: 4130.981239366744, RMSE train 2833.2203408842033\n",
      "Цикл: 50, Эпоха: 1100, RMSE test: 4174.1070901451485, RMSE train 2731.0442142155075\n",
      "Цикл: 50, Эпоха: 1200, RMSE test: 4230.258384543431, RMSE train 2686.5509487072827\n",
      "Цикл: 50, Эпоха: 1300, RMSE test: 4216.222479898327, RMSE train 2723.559252155165\n",
      "Цикл: 50, Эпоха: 1400, RMSE test: 4120.540983900051, RMSE train 2730.6783955640035\n",
      "Цикл: 50, Эпоха: 1500, RMSE test: 4124.99939393935, RMSE train 2708.236511089827\n",
      "Цикл: 50, Эпоха: 1600, RMSE test: 4255.094358530725, RMSE train 2647.6151533030625\n",
      "Цикл: 50, Эпоха: 1700, RMSE test: 4224.244547845212, RMSE train 2655.4226593896497\n",
      "Цикл: 50, Эпоха: 1800, RMSE test: 4207.589571239096, RMSE train 2566.6815151085652\n",
      "Цикл: 50, Эпоха: 1900, RMSE test: 4305.635609291618, RMSE train 2561.320655443203\n",
      "Цикл: 50, Эпоха: 1999, RMSE test: 4297.262384355882, RMSE train 2556.0850924802953\n",
      "start new_cycle\n",
      "Цикл: 51, Эпоха: 0, RMSE test: 11379.906150755374, RMSE train 14962.512623219403\n",
      "Цикл: 51, Эпоха: 100, RMSE test: 5700.471910289533, RMSE train 5117.9296595400765\n",
      "Цикл: 51, Эпоха: 200, RMSE test: 4857.912514650711, RMSE train 4072.9620670956415\n",
      "Цикл: 51, Эпоха: 300, RMSE test: 4564.644783551071, RMSE train 3909.2192315090233\n",
      "Цикл: 51, Эпоха: 400, RMSE test: 4214.632842846456, RMSE train 3786.6494424490893\n",
      "Цикл: 51, Эпоха: 500, RMSE test: 4050.3588729889107, RMSE train 3696.708671237159\n",
      "Цикл: 51, Эпоха: 600, RMSE test: 3862.254134569604, RMSE train 3583.1830821212584\n",
      "Цикл: 51, Эпоха: 700, RMSE test: 3634.0207759450136, RMSE train 3461.204270192674\n",
      "Цикл: 51, Эпоха: 800, RMSE test: 3407.0061637748763, RMSE train 3394.730180736018\n",
      "Цикл: 51, Эпоха: 900, RMSE test: 3363.0694313379854, RMSE train 3362.154963710031\n",
      "Цикл: 51, Эпоха: 1000, RMSE test: 3295.3438363849077, RMSE train 3318.9993974088034\n",
      "Цикл: 51, Эпоха: 1100, RMSE test: 3231.7280207344184, RMSE train 3279.1122274176587\n",
      "Цикл: 51, Эпоха: 1200, RMSE test: 3412.141409730845, RMSE train 2995.3126714919094\n",
      "Цикл: 51, Эпоха: 1300, RMSE test: 3783.8045668348145, RMSE train 2841.736177057962\n",
      "Цикл: 51, Эпоха: 1400, RMSE test: 3769.222864198932, RMSE train 2596.159086034598\n",
      "Цикл: 51, Эпоха: 1500, RMSE test: 4222.7415265441, RMSE train 2749.7797184501887\n",
      "Цикл: 51, Эпоха: 1600, RMSE test: 4611.1267603482775, RMSE train 2427.2190877627836\n",
      "Цикл: 51, Эпоха: 1700, RMSE test: 4880.27683641, RMSE train 2154.3073132680024\n",
      "Цикл: 51, Эпоха: 1800, RMSE test: 5001.238846525928, RMSE train 2134.8895755987005\n",
      "Цикл: 51, Эпоха: 1900, RMSE test: 5348.964198795875, RMSE train 1898.2318088157726\n",
      "Цикл: 51, Эпоха: 1999, RMSE test: 5330.871786115288, RMSE train 2210.663248891608\n",
      "start new_cycle\n",
      "Цикл: 52, Эпоха: 0, RMSE test: 11390.40508498271, RMSE train 14975.630871519235\n",
      "Цикл: 52, Эпоха: 100, RMSE test: 5601.410715168099, RMSE train 4999.766394542849\n",
      "Цикл: 52, Эпоха: 200, RMSE test: 4862.279095239186, RMSE train 4062.263654663493\n",
      "Цикл: 52, Эпоха: 300, RMSE test: 4559.9552629384425, RMSE train 3929.450724974166\n",
      "Цикл: 52, Эпоха: 400, RMSE test: 4297.939273651968, RMSE train 3848.093294087346\n",
      "Цикл: 52, Эпоха: 500, RMSE test: 4079.285844360505, RMSE train 3734.9724229236285\n",
      "Цикл: 52, Эпоха: 600, RMSE test: 3844.9690505906547, RMSE train 3627.492798063147\n",
      "Цикл: 52, Эпоха: 700, RMSE test: 3551.2538630742806, RMSE train 3525.7248900048908\n",
      "Цикл: 52, Эпоха: 800, RMSE test: 3331.5802556744748, RMSE train 3451.282515239806\n",
      "Цикл: 52, Эпоха: 900, RMSE test: 3206.95042057092, RMSE train 3403.8247604716667\n",
      "Цикл: 52, Эпоха: 1000, RMSE test: 3471.435726036131, RMSE train 3240.500424317207\n",
      "Цикл: 52, Эпоха: 1100, RMSE test: 3893.9298915106315, RMSE train 3203.963326881255\n",
      "Цикл: 52, Эпоха: 1200, RMSE test: 3837.972120795043, RMSE train 3113.7631573387207\n",
      "Цикл: 52, Эпоха: 1300, RMSE test: 3724.656494228696, RMSE train 3116.334706028863\n",
      "Цикл: 52, Эпоха: 1400, RMSE test: 3898.511767328656, RMSE train 3064.599973895451\n",
      "Цикл: 52, Эпоха: 1500, RMSE test: 3748.9906641654898, RMSE train 2849.0476478992064\n",
      "Цикл: 52, Эпоха: 1600, RMSE test: 3815.9334375746125, RMSE train 2870.4262749633544\n",
      "Цикл: 52, Эпоха: 1700, RMSE test: 3985.1452922070484, RMSE train 2707.1797132809634\n",
      "Цикл: 52, Эпоха: 1800, RMSE test: 3870.2591644488098, RMSE train 2755.258245609656\n",
      "Цикл: 52, Эпоха: 1900, RMSE test: 3894.1503566246643, RMSE train 2672.23155808025\n",
      "Цикл: 52, Эпоха: 1999, RMSE test: 4057.973755459737, RMSE train 2700.8997574882337\n",
      "start new_cycle\n",
      "Цикл: 53, Эпоха: 0, RMSE test: 11385.847706692726, RMSE train 14968.714574070815\n",
      "Цикл: 53, Эпоха: 100, RMSE test: 4676.181775765352, RMSE train 4371.685258570201\n",
      "Цикл: 53, Эпоха: 200, RMSE test: 3767.2608085982047, RMSE train 3701.0838952933773\n",
      "Цикл: 53, Эпоха: 300, RMSE test: 3947.6182692859247, RMSE train 3814.9501962673116\n",
      "Цикл: 53, Эпоха: 400, RMSE test: 3267.8805057712866, RMSE train 3416.919665429669\n",
      "Цикл: 53, Эпоха: 500, RMSE test: 3580.5225875561796, RMSE train 3336.6784382076735\n",
      "Цикл: 53, Эпоха: 600, RMSE test: 3558.051995123174, RMSE train 3299.559516056651\n",
      "Цикл: 53, Эпоха: 700, RMSE test: 3578.987007520424, RMSE train 3307.3131088543764\n",
      "Цикл: 53, Эпоха: 800, RMSE test: 3560.3453484177626, RMSE train 3288.934781962087\n",
      "Цикл: 53, Эпоха: 900, RMSE test: 3362.133102659679, RMSE train 3290.450729003551\n",
      "Цикл: 53, Эпоха: 1000, RMSE test: 3440.337338110901, RMSE train 3269.6297955579007\n",
      "Цикл: 53, Эпоха: 1100, RMSE test: 3420.6074022021294, RMSE train 3267.4258981650983\n",
      "Цикл: 53, Эпоха: 1200, RMSE test: 3511.1989405329914, RMSE train 3287.2213189865997\n",
      "Цикл: 53, Эпоха: 1300, RMSE test: 3508.8741784224753, RMSE train 3285.126633784457\n",
      "Цикл: 53, Эпоха: 1400, RMSE test: 3399.192256992829, RMSE train 3278.980481796133\n",
      "Цикл: 53, Эпоха: 1500, RMSE test: 3520.474257823795, RMSE train 3276.1756668408366\n",
      "Цикл: 53, Эпоха: 1600, RMSE test: 3401.224779399327, RMSE train 3292.2235647051675\n",
      "Цикл: 53, Эпоха: 1700, RMSE test: 3575.4538173496244, RMSE train 3297.6699349692353\n",
      "Цикл: 53, Эпоха: 1800, RMSE test: 3482.331115790111, RMSE train 3265.2503732485816\n",
      "Цикл: 53, Эпоха: 1900, RMSE test: 3530.0558069243043, RMSE train 3278.758301552586\n",
      "Цикл: 53, Эпоха: 1999, RMSE test: 3531.224716723647, RMSE train 3276.773107799806\n",
      "start new_cycle\n",
      "Цикл: 54, Эпоха: 0, RMSE test: 11397.541138333303, RMSE train 14982.028167107415\n",
      "Цикл: 54, Эпоха: 100, RMSE test: 5799.534464075543, RMSE train 5285.30983008565\n",
      "Цикл: 54, Эпоха: 200, RMSE test: 4807.300073846025, RMSE train 4133.305214958121\n",
      "Цикл: 54, Эпоха: 300, RMSE test: 4518.353461162595, RMSE train 3865.3073616466777\n",
      "Цикл: 54, Эпоха: 400, RMSE test: 4597.180875275629, RMSE train 3426.6199088898084\n",
      "Цикл: 54, Эпоха: 500, RMSE test: 4274.657881047324, RMSE train 3247.4185132193847\n",
      "Цикл: 54, Эпоха: 600, RMSE test: 4208.0282793726565, RMSE train 3153.0957803403307\n",
      "Цикл: 54, Эпоха: 700, RMSE test: 4424.264232615407, RMSE train 3061.7037740447718\n",
      "Цикл: 54, Эпоха: 800, RMSE test: 4477.212302314912, RMSE train 3000.7709009519535\n",
      "Цикл: 54, Эпоха: 900, RMSE test: 4381.120632897479, RMSE train 2971.396473040917\n",
      "Цикл: 54, Эпоха: 1000, RMSE test: 4252.276331566423, RMSE train 2968.741147355222\n",
      "Цикл: 54, Эпоха: 1100, RMSE test: 4282.045772758624, RMSE train 2949.5494571205277\n",
      "Цикл: 54, Эпоха: 1200, RMSE test: 4416.7485778567925, RMSE train 2936.084297154971\n",
      "Цикл: 54, Эпоха: 1300, RMSE test: 4370.926446418425, RMSE train 2908.8449597735525\n",
      "Цикл: 54, Эпоха: 1400, RMSE test: 4324.382961764603, RMSE train 2917.755644326646\n",
      "Цикл: 54, Эпоха: 1500, RMSE test: 4324.2550803577715, RMSE train 2900.336359803807\n",
      "Цикл: 54, Эпоха: 1600, RMSE test: 4304.156363330681, RMSE train 2902.099240205269\n",
      "Цикл: 54, Эпоха: 1700, RMSE test: 4315.052722737, RMSE train 2872.8872236828233\n",
      "Цикл: 54, Эпоха: 1800, RMSE test: 4383.726953175802, RMSE train 2890.7852739350947\n",
      "Цикл: 54, Эпоха: 1900, RMSE test: 4346.245276097519, RMSE train 2837.842049868174\n",
      "Цикл: 54, Эпоха: 1999, RMSE test: 4304.168909325004, RMSE train 2961.2765828270753\n",
      "start new_cycle\n",
      "Цикл: 55, Эпоха: 0, RMSE test: 11378.32500854146, RMSE train 14961.702576912829\n",
      "Цикл: 55, Эпоха: 100, RMSE test: 5544.800447265889, RMSE train 5058.82990423675\n",
      "Цикл: 55, Эпоха: 200, RMSE test: 4205.404855658965, RMSE train 3889.0386987017755\n",
      "Цикл: 55, Эпоха: 300, RMSE test: 3661.064462693876, RMSE train 3617.093308168867\n",
      "Цикл: 55, Эпоха: 400, RMSE test: 3297.7530228930123, RMSE train 3496.634524796665\n",
      "Цикл: 55, Эпоха: 500, RMSE test: 3259.6857210473527, RMSE train 3456.4517933858124\n",
      "Цикл: 55, Эпоха: 600, RMSE test: 3202.4924668139347, RMSE train 3442.977054817531\n",
      "Цикл: 55, Эпоха: 700, RMSE test: 3234.623161977296, RMSE train 3429.3607275992417\n",
      "Цикл: 55, Эпоха: 800, RMSE test: 3253.560357516055, RMSE train 3420.0475142898235\n",
      "Цикл: 55, Эпоха: 900, RMSE test: 3238.2779374229135, RMSE train 3410.846229310257\n",
      "Цикл: 55, Эпоха: 1000, RMSE test: 3213.4027136355007, RMSE train 3415.7741435873654\n",
      "Цикл: 55, Эпоха: 1100, RMSE test: 3221.5558353069096, RMSE train 3399.4695174394487\n",
      "Цикл: 55, Эпоха: 1200, RMSE test: 3269.7865373751847, RMSE train 3384.4263915765696\n",
      "Цикл: 55, Эпоха: 1300, RMSE test: 3298.6818579547803, RMSE train 3379.41193109097\n",
      "Цикл: 55, Эпоха: 1400, RMSE test: 3254.111399445323, RMSE train 3366.5761538987945\n",
      "Цикл: 55, Эпоха: 1500, RMSE test: 3307.056848619328, RMSE train 3362.439887938519\n",
      "Цикл: 55, Эпоха: 1600, RMSE test: 3262.566321164981, RMSE train 3353.8738795607683\n",
      "Цикл: 55, Эпоха: 1700, RMSE test: 3436.4961807049926, RMSE train 3272.527158023291\n"
     ]
    }
   ],
   "source": [
    "n_in_neurons = 10\n",
    "n_hidden_neurons_1 = 24\n",
    "n_hidden_neurons_2 = 12\n",
    "n_hidden_neurons_3 = 6\n",
    "n_out_neurons = 1\n",
    "\n",
    "\n",
    "k = 0\n",
    "\n",
    "\n",
    "for c in range(1667):\n",
    "    net = Net(10,24,12,6,1)\n",
    "    optimizer = torch.optim.Adam(net.parameters(), lr = 0.10 )\n",
    "    loss = nn.MSELoss()\n",
    "    print('start new_cycle')\n",
    "    for epoch in range(num_epochs):\n",
    "        optimizer.zero_grad()\n",
    "        preds = net.forward(x_train).flatten()\n",
    "        loss_value = loss(preds, y_train)\n",
    "        loss_value.backward()\n",
    "        optimizer.step()\n",
    "\n",
    "\n",
    "        net.eval()\n",
    "        test_preds = net.forward(x_test)\n",
    "        train_preds = net.forward(x_train)\n",
    "        rmse_5 = sqrt(mean_squared_error(y_test.detach().numpy(), test_preds.detach().numpy()))    \n",
    "        train_rmse = sqrt(mean_squared_error(y_train.detach().numpy(), train_preds.detach().numpy()))  \n",
    "        if rmse_5 < 3075 and train_rmse < 3075:\n",
    "            k +=1\n",
    "            break\n",
    "        if epoch % 100 == 0 or epoch == num_epochs -1:\n",
    "            print(f'Цикл: {c+1}, Эпоха: {epoch}, RMSE test: {rmse_5}, RMSE train {train_rmse}')\n",
    "    if k > 0:\n",
    "        torch.save(net.state_dict(), '3000RMSE_pth')\n",
    "        break"
   ]
  },
  {
   "cell_type": "code",
   "execution_count": 44,
   "id": "ecbec7a9",
   "metadata": {},
   "outputs": [
    {
     "name": "stdout",
     "output_type": "stream",
     "text": [
      "Обнаружен кандидат с точностью  на тесте RMSE:3058.9936253611254, Точность на трейне RMSE:2972.6025634113957\n"
     ]
    }
   ],
   "source": [
    "print(f'Обнаружен кандидат с точностью  на тесте RMSE:{rmse_5}, Точность на трейне RMSE:{train_rmse}')"
   ]
  },
  {
   "cell_type": "code",
   "execution_count": 45,
   "id": "fdefa48e",
   "metadata": {},
   "outputs": [
    {
     "data": {
      "image/png": "[encoded data removed]",
      "text/plain": [
       "<Figure size 1152x720 with 1 Axes>"
      ]
     },
     "metadata": {},
     "output_type": "display_data"
    },
    {
     "data": {
      "image/png": "[encoded data removed]",
      "text/plain": [
       "<Figure size 1152x720 with 1 Axes>"
      ]
     },
     "metadata": {},
     "output_type": "display_data"
    }
   ],
   "source": [
    "compar(test_preds, y_test, y_idx)"
   ]
  },
  {
   "cell_type": "markdown",
   "id": "f3e787bc",
   "metadata": {},
   "source": [
    "### Вывод по результатам  улучшения нейронной сети"
   ]
  },
  {
   "cell_type": "code",
   "execution_count": 46,
   "id": "48e07667",
   "metadata": {},
   "outputs": [
    {
     "data": {
      "text/html": [
       "<div>\n",
       "<style scoped>\n",
       "    .dataframe tbody tr th:only-of-type {\n",
       "        vertical-align: middle;\n",
       "    }\n",
       "\n",
       "    .dataframe tbody tr th {\n",
       "        vertical-align: top;\n",
       "    }\n",
       "\n",
       "    .dataframe thead th {\n",
       "        text-align: right;\n",
       "    }\n",
       "</style>\n",
       "<table border=\"1\" class=\"dataframe\">\n",
       "  <thead>\n",
       "    <tr style=\"text-align: right;\">\n",
       "      <th></th>\n",
       "      <th>Type</th>\n",
       "      <th>top RMSE</th>\n",
       "    </tr>\n",
       "  </thead>\n",
       "  <tbody>\n",
       "    <tr>\n",
       "      <th>0</th>\n",
       "      <td>Static</td>\n",
       "      <td>3088</td>\n",
       "    </tr>\n",
       "    <tr>\n",
       "      <th>1</th>\n",
       "      <td>BatchNormalization</td>\n",
       "      <td>3860</td>\n",
       "    </tr>\n",
       "    <tr>\n",
       "      <th>2</th>\n",
       "      <td>Dropout</td>\n",
       "      <td>3058</td>\n",
       "    </tr>\n",
       "    <tr>\n",
       "      <th>3</th>\n",
       "      <td>BatchNormalization &amp; Dropout</td>\n",
       "      <td>3257</td>\n",
       "    </tr>\n",
       "  </tbody>\n",
       "</table>\n",
       "</div>"
      ],
      "text/plain": [
       "                           Type top RMSE\n",
       "0                        Static     3088\n",
       "1            BatchNormalization     3860\n",
       "2                       Dropout     3058\n",
       "3  BatchNormalization & Dropout     3257"
      ]
     },
     "execution_count": 46,
     "metadata": {},
     "output_type": "execute_result"
    }
   ],
   "source": [
    "pd.DataFrame({'Type':['Static','BatchNormalization','Dropout','BatchNormalization & Dropout'],'top RMSE':['3088','3860','3058','3257']})"
   ]
  },
  {
   "cell_type": "markdown",
   "id": "2b2bd443",
   "metadata": {},
   "source": [
    "В полученных результатах большую роль сыграла архитектура нейронной сети, которая позволила практически в любых обстоятельствах дойти до точности лучше пороговой.\n",
    "\n",
    "\n",
    "Большую роль для улучшения сети сыграл Dropout с большими весовыми коэффицентами. Метод усложнил и как следствие сильно улучшийл итоговоую точность нейронной сети.\n",
    "\n",
    "Наименее результативным стало обучение, использующее выборки. Что может так выглядить ввиду немногочисленных данных и отсутствии возможности их агументации без помощи специалиста."
   ]
  },
  {
   "cell_type": "markdown",
   "id": "accurate-infrastructure",
   "metadata": {},
   "source": [
    "## Итоги по проекту:"
   ]
  },
  {
   "cell_type": "markdown",
   "id": "3f901991",
   "metadata": {},
   "source": [
    "Была разработана нейронная сеть для определения температуры на поверхности обнаруженных звезд.\n",
    "* Показатель RMSE для базовой модели составил 3088:\n",
    "    * Базовая модель состоит из:\n",
    "    \n",
    "    \n",
    "        1. Входной слой  из 10 признаков\n",
    "        2. Первый скрытый слой из 24 нейронов и функции активации ReLU()\n",
    "        3. Второй скрытый слой из 16 нейронов и функции фктивации ReLU()\n",
    "        4. Третий скрытый слой из 12 нейронов и функции активации ReLU()\n",
    "        5. Выходнйо слой из 1 нейрона с линейной функцией активации\n",
    "        \n",
    "        \n",
    "* Показатель RMSE для модели, использующей BatchNormalization, составил: 3860\n",
    "    1. Лучший размер батча: 10\n",
    "    \n",
    "    \n",
    "* Показатель RMSЕ для модели, улучшенной с помощью Dropout, составил: 3098\n",
    "    * Лучшие веса для dropout: \n",
    "            1. 0.4 на скрытый слой 1\n",
    "            2. 0.6 на скрытый слой 2\n",
    "            3. 0.8 на скрытый слой 3\n",
    "        \n",
    "        \n",
    "* Показатель RMSE для модели, использующей BatchNormalization и Dropout, составил: 3257\n",
    "    * Лучшие веса для dropout:\n",
    "        \n",
    "            1. 0.2 на скрытый слой 1\n",
    "            2. 0.4 на скрытый слой 2\n",
    "            3. 0.5 на скрытый слой 3\n",
    "\n",
    "    * Лучший размер батча: 50\n",
    "\n",
    "\n",
    "    \n",
    "Оптимизация всех моделей превысили проходную планку в 4500 RMSE.\n",
    "\n",
    "  * **Из представленных моделей итоговой выбрана модель с Dropout достигшая в итоговом тесте:**\n",
    "   \n",
    "    **3058 RMSE на тестовой выборке и 2972 RMSE на тренировочной.**\n",
    "\n",
    "\n",
    "\n",
    "Для построения моделей:\n",
    "* были изменены данные категориальных признаков в эквивалетные числовые и бинарно-строковые \n",
    "* была проведена стандартизация данных, для большего подобия в размерах"
   ]
  }
 ],
 "metadata": {
  "ExecuteTimeLog": [
   {
    "duration": 551,
    "start_time": "2023-11-21T17:35:57.825Z"
   },
   {
    "duration": 1127,
    "start_time": "2023-11-21T17:36:16.518Z"
   },
   {
    "duration": 496,
    "start_time": "2023-11-21T17:38:40.435Z"
   },
   {
    "duration": 74,
    "start_time": "2023-11-21T17:57:46.193Z"
   },
   {
    "duration": 27,
    "start_time": "2023-11-21T17:57:54.550Z"
   },
   {
    "duration": 69,
    "start_time": "2023-11-21T18:03:13.894Z"
   },
   {
    "duration": 27,
    "start_time": "2023-11-21T18:03:16.945Z"
   },
   {
    "duration": 8,
    "start_time": "2023-11-21T18:03:17.620Z"
   },
   {
    "duration": 4,
    "start_time": "2023-11-21T18:03:22.665Z"
   },
   {
    "duration": 25,
    "start_time": "2023-11-21T18:10:05.709Z"
   },
   {
    "duration": 7,
    "start_time": "2023-11-21T18:22:50.276Z"
   },
   {
    "duration": 7,
    "start_time": "2023-11-21T18:23:03.206Z"
   },
   {
    "duration": 8,
    "start_time": "2023-11-21T18:30:59.380Z"
   },
   {
    "duration": 4,
    "start_time": "2023-11-21T18:31:44.948Z"
   },
   {
    "duration": 27,
    "start_time": "2023-11-21T18:31:45.985Z"
   },
   {
    "duration": 4,
    "start_time": "2023-11-21T18:31:46.512Z"
   },
   {
    "duration": 8,
    "start_time": "2023-11-21T18:31:47.055Z"
   },
   {
    "duration": 22,
    "start_time": "2023-11-21T18:31:48.088Z"
   },
   {
    "duration": 7,
    "start_time": "2023-11-21T18:31:49.147Z"
   },
   {
    "duration": 3,
    "start_time": "2023-11-21T18:32:00.466Z"
   },
   {
    "duration": 26,
    "start_time": "2023-11-21T18:32:01.640Z"
   },
   {
    "duration": 4,
    "start_time": "2023-11-21T18:32:02.647Z"
   },
   {
    "duration": 9,
    "start_time": "2023-11-21T18:32:03.167Z"
   },
   {
    "duration": 24,
    "start_time": "2023-11-21T18:32:04.191Z"
   },
   {
    "duration": 11,
    "start_time": "2023-11-21T20:52:12.479Z"
   },
   {
    "duration": 14,
    "start_time": "2023-11-21T20:52:40.167Z"
   },
   {
    "duration": 5,
    "start_time": "2023-11-21T21:06:00.461Z"
   },
   {
    "duration": 147,
    "start_time": "2023-11-21T21:06:09.198Z"
   },
   {
    "duration": 213,
    "start_time": "2023-11-21T21:06:16.007Z"
   },
   {
    "duration": 240,
    "start_time": "2023-11-21T21:11:45.248Z"
   },
   {
    "duration": 202,
    "start_time": "2023-11-21T21:11:52.149Z"
   },
   {
    "duration": 245,
    "start_time": "2023-11-21T21:11:59.135Z"
   },
   {
    "duration": 398,
    "start_time": "2023-11-21T21:12:06.571Z"
   },
   {
    "duration": 231,
    "start_time": "2023-11-21T21:12:10.867Z"
   },
   {
    "duration": 34,
    "start_time": "2023-11-21T21:15:54.962Z"
   },
   {
    "duration": 30747,
    "start_time": "2023-11-21T21:16:10.404Z"
   },
   {
    "duration": 2124,
    "start_time": "2023-11-22T21:03:18.226Z"
   },
   {
    "duration": 64,
    "start_time": "2023-11-22T21:03:35.334Z"
   },
   {
    "duration": 5,
    "start_time": "2023-11-22T21:03:38.144Z"
   },
   {
    "duration": 6,
    "start_time": "2023-11-22T21:34:14.832Z"
   },
   {
    "duration": 145,
    "start_time": "2023-11-22T21:36:28.356Z"
   },
   {
    "duration": 147,
    "start_time": "2023-11-22T21:36:46.953Z"
   },
   {
    "duration": 152,
    "start_time": "2023-11-22T21:36:52.765Z"
   },
   {
    "duration": 97,
    "start_time": "2023-11-22T21:37:12.447Z"
   },
   {
    "duration": 160,
    "start_time": "2023-11-22T21:37:49.788Z"
   },
   {
    "duration": 120,
    "start_time": "2023-11-22T21:38:02.270Z"
   },
   {
    "duration": 153,
    "start_time": "2023-11-22T21:38:49.842Z"
   },
   {
    "duration": 1385,
    "start_time": "2023-11-22T21:39:02.670Z"
   },
   {
    "duration": 96,
    "start_time": "2023-11-22T21:39:19.838Z"
   },
   {
    "duration": 39,
    "start_time": "2023-11-22T21:43:43.462Z"
   },
   {
    "duration": 4,
    "start_time": "2023-11-22T21:43:51.433Z"
   },
   {
    "duration": 161,
    "start_time": "2023-11-22T21:43:55.498Z"
   },
   {
    "duration": 25,
    "start_time": "2023-11-22T21:44:09.837Z"
   },
   {
    "duration": 1247,
    "start_time": "2023-11-22T21:44:13.910Z"
   },
   {
    "duration": 5,
    "start_time": "2023-11-22T21:48:09.026Z"
   },
   {
    "duration": 44,
    "start_time": "2023-11-22T21:48:09.033Z"
   },
   {
    "duration": 18,
    "start_time": "2023-11-22T21:48:09.079Z"
   },
   {
    "duration": 24,
    "start_time": "2023-11-22T21:48:09.098Z"
   },
   {
    "duration": 44,
    "start_time": "2023-11-22T21:48:09.124Z"
   },
   {
    "duration": 16,
    "start_time": "2023-11-22T21:48:09.170Z"
   },
   {
    "duration": 14,
    "start_time": "2023-11-22T21:48:09.189Z"
   },
   {
    "duration": 262,
    "start_time": "2023-11-22T21:48:09.205Z"
   },
   {
    "duration": 20,
    "start_time": "2023-11-22T21:48:09.469Z"
   },
   {
    "duration": 157,
    "start_time": "2023-11-22T21:48:09.491Z"
   },
   {
    "duration": 198,
    "start_time": "2023-11-22T21:48:09.650Z"
   },
   {
    "duration": 178,
    "start_time": "2023-11-22T21:48:09.850Z"
   },
   {
    "duration": 116,
    "start_time": "2023-11-22T21:48:10.030Z"
   },
   {
    "duration": 174,
    "start_time": "2023-11-22T21:48:10.149Z"
   },
   {
    "duration": 141,
    "start_time": "2023-11-22T21:48:10.324Z"
   },
   {
    "duration": 49,
    "start_time": "2023-11-22T21:48:10.467Z"
   },
   {
    "duration": 205,
    "start_time": "2023-11-22T21:48:10.518Z"
   },
   {
    "duration": 8,
    "start_time": "2023-11-22T21:48:10.725Z"
   },
   {
    "duration": 8,
    "start_time": "2023-11-22T21:48:10.735Z"
   },
   {
    "duration": 38,
    "start_time": "2023-11-22T21:48:10.744Z"
   },
   {
    "duration": 148,
    "start_time": "2023-11-22T21:48:10.789Z"
   },
   {
    "duration": 18,
    "start_time": "2023-11-22T21:48:28.334Z"
   },
   {
    "duration": 4,
    "start_time": "2023-11-22T21:50:52.800Z"
   },
   {
    "duration": 4,
    "start_time": "2023-11-22T21:50:54.508Z"
   },
   {
    "duration": 30,
    "start_time": "2023-11-22T21:50:54.514Z"
   },
   {
    "duration": 14,
    "start_time": "2023-11-22T21:50:54.546Z"
   },
   {
    "duration": 12,
    "start_time": "2023-11-22T21:50:54.562Z"
   },
   {
    "duration": 32,
    "start_time": "2023-11-22T21:50:54.577Z"
   },
   {
    "duration": 7,
    "start_time": "2023-11-22T21:50:54.611Z"
   },
   {
    "duration": 9,
    "start_time": "2023-11-22T21:50:54.621Z"
   },
   {
    "duration": 293,
    "start_time": "2023-11-22T21:50:54.631Z"
   },
   {
    "duration": 7,
    "start_time": "2023-11-22T21:50:54.926Z"
   },
   {
    "duration": 29,
    "start_time": "2023-11-22T21:50:54.935Z"
   },
   {
    "duration": 168,
    "start_time": "2023-11-22T21:50:54.966Z"
   },
   {
    "duration": 104,
    "start_time": "2023-11-22T21:50:55.135Z"
   },
   {
    "duration": 184,
    "start_time": "2023-11-22T21:50:55.240Z"
   },
   {
    "duration": 117,
    "start_time": "2023-11-22T21:50:55.427Z"
   },
   {
    "duration": 255,
    "start_time": "2023-11-22T21:50:55.545Z"
   },
   {
    "duration": 119,
    "start_time": "2023-11-22T21:50:55.802Z"
   },
   {
    "duration": 24,
    "start_time": "2023-11-22T21:50:55.923Z"
   },
   {
    "duration": 175,
    "start_time": "2023-11-22T21:50:55.949Z"
   },
   {
    "duration": 8,
    "start_time": "2023-11-22T21:50:56.126Z"
   },
   {
    "duration": 12,
    "start_time": "2023-11-22T21:50:56.135Z"
   },
   {
    "duration": 10,
    "start_time": "2023-11-22T21:50:56.149Z"
   },
   {
    "duration": 164,
    "start_time": "2023-11-22T21:50:56.160Z"
   },
   {
    "duration": 13,
    "start_time": "2023-11-22T21:51:40.416Z"
   },
   {
    "duration": 35,
    "start_time": "2023-11-22T21:51:51.397Z"
   },
   {
    "duration": 12,
    "start_time": "2023-11-22T21:55:39.690Z"
   },
   {
    "duration": 5,
    "start_time": "2023-11-22T21:56:40.046Z"
   },
   {
    "duration": 38,
    "start_time": "2023-11-22T21:56:40.054Z"
   },
   {
    "duration": 17,
    "start_time": "2023-11-22T21:56:40.094Z"
   },
   {
    "duration": 14,
    "start_time": "2023-11-22T21:56:40.113Z"
   },
   {
    "duration": 24,
    "start_time": "2023-11-22T21:56:40.129Z"
   },
   {
    "duration": 23,
    "start_time": "2023-11-22T21:56:40.155Z"
   },
   {
    "duration": 15,
    "start_time": "2023-11-22T21:56:40.180Z"
   },
   {
    "duration": 258,
    "start_time": "2023-11-22T21:56:40.196Z"
   },
   {
    "duration": 7,
    "start_time": "2023-11-22T21:56:40.456Z"
   },
   {
    "duration": 24,
    "start_time": "2023-11-22T21:56:40.464Z"
   },
   {
    "duration": 250,
    "start_time": "2023-11-22T21:56:40.491Z"
   },
   {
    "duration": 107,
    "start_time": "2023-11-22T21:56:40.743Z"
   },
   {
    "duration": 182,
    "start_time": "2023-11-22T21:56:40.852Z"
   },
   {
    "duration": 122,
    "start_time": "2023-11-22T21:56:41.037Z"
   },
   {
    "duration": 170,
    "start_time": "2023-11-22T21:56:41.161Z"
   },
   {
    "duration": 103,
    "start_time": "2023-11-22T21:56:41.332Z"
   },
   {
    "duration": 23,
    "start_time": "2023-11-22T21:56:41.437Z"
   },
   {
    "duration": 145,
    "start_time": "2023-11-22T21:56:41.474Z"
   },
   {
    "duration": 8,
    "start_time": "2023-11-22T21:56:41.621Z"
   },
   {
    "duration": 17,
    "start_time": "2023-11-22T21:56:41.630Z"
   },
   {
    "duration": 13,
    "start_time": "2023-11-22T21:56:41.648Z"
   },
   {
    "duration": 163,
    "start_time": "2023-11-22T21:56:41.663Z"
   },
   {
    "duration": 11,
    "start_time": "2023-11-22T21:56:41.828Z"
   },
   {
    "duration": 56,
    "start_time": "2023-11-22T21:56:41.841Z"
   },
   {
    "duration": 12,
    "start_time": "2023-11-22T21:56:41.898Z"
   },
   {
    "duration": 0,
    "start_time": "2023-11-22T21:56:41.912Z"
   },
   {
    "duration": 21,
    "start_time": "2023-11-22T21:57:03.991Z"
   },
   {
    "duration": 4,
    "start_time": "2023-11-22T21:57:09.667Z"
   },
   {
    "duration": 36,
    "start_time": "2023-11-22T21:57:09.673Z"
   },
   {
    "duration": 15,
    "start_time": "2023-11-22T21:57:09.710Z"
   },
   {
    "duration": 11,
    "start_time": "2023-11-22T21:57:09.727Z"
   },
   {
    "duration": 27,
    "start_time": "2023-11-22T21:57:09.740Z"
   },
   {
    "duration": 12,
    "start_time": "2023-11-22T21:57:09.769Z"
   },
   {
    "duration": 20,
    "start_time": "2023-11-22T21:57:09.783Z"
   },
   {
    "duration": 265,
    "start_time": "2023-11-22T21:57:09.805Z"
   },
   {
    "duration": 19,
    "start_time": "2023-11-22T21:57:10.073Z"
   },
   {
    "duration": 20,
    "start_time": "2023-11-22T21:57:10.094Z"
   },
   {
    "duration": 139,
    "start_time": "2023-11-22T21:57:10.116Z"
   },
   {
    "duration": 94,
    "start_time": "2023-11-22T21:57:10.257Z"
   },
   {
    "duration": 190,
    "start_time": "2023-11-22T21:57:10.352Z"
   },
   {
    "duration": 118,
    "start_time": "2023-11-22T21:57:10.544Z"
   },
   {
    "duration": 171,
    "start_time": "2023-11-22T21:57:10.664Z"
   },
   {
    "duration": 115,
    "start_time": "2023-11-22T21:57:10.837Z"
   },
   {
    "duration": 38,
    "start_time": "2023-11-22T21:57:10.954Z"
   },
   {
    "duration": 165,
    "start_time": "2023-11-22T21:57:10.993Z"
   },
   {
    "duration": 29,
    "start_time": "2023-11-22T21:57:11.160Z"
   },
   {
    "duration": 7,
    "start_time": "2023-11-22T21:57:11.191Z"
   },
   {
    "duration": 23,
    "start_time": "2023-11-22T21:57:11.200Z"
   },
   {
    "duration": 150,
    "start_time": "2023-11-22T21:57:11.225Z"
   },
   {
    "duration": 14,
    "start_time": "2023-11-22T21:57:11.384Z"
   },
   {
    "duration": 43,
    "start_time": "2023-11-22T21:57:11.399Z"
   },
   {
    "duration": 6,
    "start_time": "2023-11-22T21:57:11.444Z"
   },
   {
    "duration": 5,
    "start_time": "2023-11-22T21:57:11.451Z"
   },
   {
    "duration": 3,
    "start_time": "2023-11-22T21:58:11.408Z"
   },
   {
    "duration": 6,
    "start_time": "2023-11-22T22:39:12.097Z"
   },
   {
    "duration": 6,
    "start_time": "2023-11-22T22:48:08.598Z"
   },
   {
    "duration": 7,
    "start_time": "2023-11-22T22:48:16.482Z"
   },
   {
    "duration": 12,
    "start_time": "2023-11-22T22:50:48.375Z"
   },
   {
    "duration": 19,
    "start_time": "2023-11-22T22:59:59.499Z"
   },
   {
    "duration": 6,
    "start_time": "2023-11-22T23:00:38.430Z"
   },
   {
    "duration": 22,
    "start_time": "2023-11-22T23:00:39.286Z"
   },
   {
    "duration": 8,
    "start_time": "2023-11-22T23:01:33.994Z"
   },
   {
    "duration": 19,
    "start_time": "2023-11-22T23:01:34.760Z"
   },
   {
    "duration": 20,
    "start_time": "2023-11-22T23:04:05.183Z"
   },
   {
    "duration": 6,
    "start_time": "2023-11-22T23:04:14.909Z"
   },
   {
    "duration": 18,
    "start_time": "2023-11-22T23:04:15.813Z"
   },
   {
    "duration": 7,
    "start_time": "2023-11-22T23:04:42.142Z"
   },
   {
    "duration": 20,
    "start_time": "2023-11-22T23:04:43.627Z"
   },
   {
    "duration": 23,
    "start_time": "2023-11-22T23:05:06.791Z"
   },
   {
    "duration": 86,
    "start_time": "2023-11-22T23:05:25.766Z"
   },
   {
    "duration": 22,
    "start_time": "2023-11-22T23:05:31.351Z"
   },
   {
    "duration": 24,
    "start_time": "2023-11-22T23:05:49.906Z"
   },
   {
    "duration": 31,
    "start_time": "2023-11-22T23:06:58.247Z"
   },
   {
    "duration": 31,
    "start_time": "2023-11-22T23:07:31.661Z"
   },
   {
    "duration": 17,
    "start_time": "2023-11-22T23:07:43.353Z"
   },
   {
    "duration": 19,
    "start_time": "2023-11-22T23:08:21.777Z"
   },
   {
    "duration": 22,
    "start_time": "2023-11-22T23:25:03.801Z"
   },
   {
    "duration": 5,
    "start_time": "2023-11-22T23:25:21.055Z"
   },
   {
    "duration": 22,
    "start_time": "2023-11-22T23:25:26.212Z"
   },
   {
    "duration": 4,
    "start_time": "2023-11-22T23:31:28.447Z"
   },
   {
    "duration": 4,
    "start_time": "2023-11-22T23:31:30.687Z"
   },
   {
    "duration": 68,
    "start_time": "2023-11-22T23:31:30.693Z"
   },
   {
    "duration": 34,
    "start_time": "2023-11-22T23:31:30.763Z"
   },
   {
    "duration": 33,
    "start_time": "2023-11-22T23:31:30.798Z"
   },
   {
    "duration": 76,
    "start_time": "2023-11-22T23:31:30.833Z"
   },
   {
    "duration": 32,
    "start_time": "2023-11-22T23:31:30.910Z"
   },
   {
    "duration": 47,
    "start_time": "2023-11-22T23:31:30.944Z"
   },
   {
    "duration": 281,
    "start_time": "2023-11-22T23:31:30.992Z"
   },
   {
    "duration": 6,
    "start_time": "2023-11-22T23:31:31.286Z"
   },
   {
    "duration": 50,
    "start_time": "2023-11-22T23:31:31.294Z"
   },
   {
    "duration": 220,
    "start_time": "2023-11-22T23:31:31.346Z"
   },
   {
    "duration": 236,
    "start_time": "2023-11-22T23:31:31.568Z"
   },
   {
    "duration": 171,
    "start_time": "2023-11-22T23:31:31.806Z"
   },
   {
    "duration": 113,
    "start_time": "2023-11-22T23:31:31.986Z"
   },
   {
    "duration": 163,
    "start_time": "2023-11-22T23:31:32.101Z"
   },
   {
    "duration": 103,
    "start_time": "2023-11-22T23:31:32.266Z"
   },
   {
    "duration": 31,
    "start_time": "2023-11-22T23:31:32.371Z"
   },
   {
    "duration": 139,
    "start_time": "2023-11-22T23:31:32.404Z"
   },
   {
    "duration": 7,
    "start_time": "2023-11-22T23:31:32.545Z"
   },
   {
    "duration": 9,
    "start_time": "2023-11-22T23:31:32.553Z"
   },
   {
    "duration": 19,
    "start_time": "2023-11-22T23:31:32.563Z"
   },
   {
    "duration": 140,
    "start_time": "2023-11-22T23:31:32.584Z"
   },
   {
    "duration": 10,
    "start_time": "2023-11-22T23:31:32.726Z"
   },
   {
    "duration": 52,
    "start_time": "2023-11-22T23:31:32.738Z"
   },
   {
    "duration": 6,
    "start_time": "2023-11-22T23:31:32.792Z"
   },
   {
    "duration": 34,
    "start_time": "2023-11-22T23:31:32.799Z"
   },
   {
    "duration": 5263,
    "start_time": "2023-11-22T23:31:32.835Z"
   },
   {
    "duration": 88,
    "start_time": "2023-11-22T23:31:38.100Z"
   },
   {
    "duration": 525230,
    "start_time": "2023-11-22T23:31:44.865Z"
   },
   {
    "duration": 1837,
    "start_time": "2023-11-22T23:40:32.434Z"
   },
   {
    "duration": 31,
    "start_time": "2023-11-22T23:40:34.274Z"
   },
   {
    "duration": 107,
    "start_time": "2023-11-22T23:40:34.306Z"
   },
   {
    "duration": 15,
    "start_time": "2023-11-22T23:40:34.416Z"
   },
   {
    "duration": 51,
    "start_time": "2023-11-22T23:40:34.432Z"
   },
   {
    "duration": 15,
    "start_time": "2023-11-22T23:40:34.485Z"
   },
   {
    "duration": 10,
    "start_time": "2023-11-22T23:40:34.502Z"
   },
   {
    "duration": 294,
    "start_time": "2023-11-22T23:40:34.513Z"
   },
   {
    "duration": 5,
    "start_time": "2023-11-22T23:40:34.809Z"
   },
   {
    "duration": 18,
    "start_time": "2023-11-22T23:40:34.817Z"
   },
   {
    "duration": 172,
    "start_time": "2023-11-22T23:40:34.837Z"
   },
   {
    "duration": 104,
    "start_time": "2023-11-22T23:40:35.011Z"
   },
   {
    "duration": 175,
    "start_time": "2023-11-22T23:40:35.117Z"
   },
   {
    "duration": 125,
    "start_time": "2023-11-22T23:40:35.294Z"
   },
   {
    "duration": 170,
    "start_time": "2023-11-22T23:40:35.421Z"
   },
   {
    "duration": 106,
    "start_time": "2023-11-22T23:40:35.593Z"
   },
   {
    "duration": 23,
    "start_time": "2023-11-22T23:40:35.701Z"
   },
   {
    "duration": 164,
    "start_time": "2023-11-22T23:40:35.726Z"
   },
   {
    "duration": 9,
    "start_time": "2023-11-22T23:40:35.891Z"
   },
   {
    "duration": 60,
    "start_time": "2023-11-22T23:40:35.902Z"
   },
   {
    "duration": 49,
    "start_time": "2023-11-22T23:40:35.963Z"
   },
   {
    "duration": 177,
    "start_time": "2023-11-22T23:40:36.014Z"
   },
   {
    "duration": 12,
    "start_time": "2023-11-22T23:40:36.193Z"
   },
   {
    "duration": 54,
    "start_time": "2023-11-22T23:40:36.206Z"
   },
   {
    "duration": 6,
    "start_time": "2023-11-22T23:40:36.261Z"
   },
   {
    "duration": 24,
    "start_time": "2023-11-22T23:40:36.269Z"
   },
   {
    "duration": 1878,
    "start_time": "2023-11-22T23:40:49.688Z"
   },
   {
    "duration": 33,
    "start_time": "2023-11-22T23:40:51.568Z"
   },
   {
    "duration": 104,
    "start_time": "2023-11-22T23:40:51.603Z"
   },
   {
    "duration": 13,
    "start_time": "2023-11-22T23:40:51.709Z"
   },
   {
    "duration": 35,
    "start_time": "2023-11-22T23:40:51.725Z"
   },
   {
    "duration": 13,
    "start_time": "2023-11-22T23:40:51.773Z"
   },
   {
    "duration": 24,
    "start_time": "2023-11-22T23:40:51.788Z"
   },
   {
    "duration": 289,
    "start_time": "2023-11-22T23:40:51.814Z"
   },
   {
    "duration": 5,
    "start_time": "2023-11-22T23:40:52.105Z"
   },
   {
    "duration": 43,
    "start_time": "2023-11-22T23:40:52.112Z"
   },
   {
    "duration": 177,
    "start_time": "2023-11-22T23:40:52.156Z"
   },
   {
    "duration": 101,
    "start_time": "2023-11-22T23:40:52.335Z"
   },
   {
    "duration": 177,
    "start_time": "2023-11-22T23:40:52.438Z"
   },
   {
    "duration": 118,
    "start_time": "2023-11-22T23:40:52.618Z"
   },
   {
    "duration": 164,
    "start_time": "2023-11-22T23:40:52.738Z"
   },
   {
    "duration": 106,
    "start_time": "2023-11-22T23:40:52.904Z"
   },
   {
    "duration": 26,
    "start_time": "2023-11-22T23:40:53.011Z"
   },
   {
    "duration": 161,
    "start_time": "2023-11-22T23:40:53.039Z"
   },
   {
    "duration": 8,
    "start_time": "2023-11-22T23:40:53.201Z"
   },
   {
    "duration": 34,
    "start_time": "2023-11-22T23:40:53.211Z"
   },
   {
    "duration": 40,
    "start_time": "2023-11-22T23:40:53.247Z"
   },
   {
    "duration": 152,
    "start_time": "2023-11-22T23:40:53.289Z"
   },
   {
    "duration": 12,
    "start_time": "2023-11-22T23:40:53.442Z"
   },
   {
    "duration": 62,
    "start_time": "2023-11-22T23:40:53.455Z"
   },
   {
    "duration": 6,
    "start_time": "2023-11-22T23:40:53.518Z"
   },
   {
    "duration": 35,
    "start_time": "2023-11-22T23:40:53.525Z"
   },
   {
    "duration": 1926,
    "start_time": "2023-11-22T23:41:26.259Z"
   },
   {
    "duration": 28,
    "start_time": "2023-11-22T23:41:28.188Z"
   },
   {
    "duration": 95,
    "start_time": "2023-11-22T23:41:28.218Z"
   },
   {
    "duration": 12,
    "start_time": "2023-11-22T23:41:28.315Z"
   },
   {
    "duration": 53,
    "start_time": "2023-11-22T23:41:28.329Z"
   },
   {
    "duration": 7,
    "start_time": "2023-11-22T23:41:28.390Z"
   },
   {
    "duration": 33,
    "start_time": "2023-11-22T23:41:28.399Z"
   },
   {
    "duration": 280,
    "start_time": "2023-11-22T23:41:28.434Z"
   },
   {
    "duration": 6,
    "start_time": "2023-11-22T23:41:28.715Z"
   },
   {
    "duration": 13,
    "start_time": "2023-11-22T23:41:28.723Z"
   },
   {
    "duration": 166,
    "start_time": "2023-11-22T23:41:28.737Z"
   },
   {
    "duration": 103,
    "start_time": "2023-11-22T23:41:28.904Z"
   },
   {
    "duration": 166,
    "start_time": "2023-11-22T23:41:29.009Z"
   },
   {
    "duration": 112,
    "start_time": "2023-11-22T23:41:29.187Z"
   },
   {
    "duration": 157,
    "start_time": "2023-11-22T23:41:29.300Z"
   },
   {
    "duration": 109,
    "start_time": "2023-11-22T23:41:29.458Z"
   },
   {
    "duration": 37,
    "start_time": "2023-11-22T23:41:29.569Z"
   },
   {
    "duration": 148,
    "start_time": "2023-11-22T23:41:29.607Z"
   },
   {
    "duration": 8,
    "start_time": "2023-11-22T23:41:29.757Z"
   },
   {
    "duration": 48,
    "start_time": "2023-11-22T23:41:29.766Z"
   },
   {
    "duration": 37,
    "start_time": "2023-11-22T23:41:29.815Z"
   },
   {
    "duration": 156,
    "start_time": "2023-11-22T23:41:29.854Z"
   },
   {
    "duration": 12,
    "start_time": "2023-11-22T23:41:30.012Z"
   },
   {
    "duration": 136,
    "start_time": "2023-11-22T23:41:30.026Z"
   },
   {
    "duration": 44,
    "start_time": "2023-11-22T23:41:30.163Z"
   },
   {
    "duration": 51,
    "start_time": "2023-11-22T23:41:30.209Z"
   },
   {
    "duration": 44139,
    "start_time": "2023-11-22T23:41:30.261Z"
   },
   {
    "duration": 36251,
    "start_time": "2023-11-22T23:44:06.543Z"
   },
   {
    "duration": 74192,
    "start_time": "2023-11-22T23:47:05.003Z"
   },
   {
    "duration": 71559,
    "start_time": "2023-11-22T23:58:32.816Z"
   },
   {
    "duration": 88,
    "start_time": "2023-11-23T00:12:56.936Z"
   },
   {
    "duration": 74,
    "start_time": "2023-11-23T00:13:22.981Z"
   },
   {
    "duration": 141,
    "start_time": "2023-11-23T00:14:05.656Z"
   },
   {
    "duration": 14,
    "start_time": "2023-11-23T00:14:34.897Z"
   },
   {
    "duration": 17,
    "start_time": "2023-11-23T00:14:43.861Z"
   },
   {
    "duration": 19,
    "start_time": "2023-11-23T00:15:14.822Z"
   },
   {
    "duration": 18,
    "start_time": "2023-11-23T00:19:00.010Z"
   },
   {
    "duration": 18,
    "start_time": "2023-11-23T00:23:05.988Z"
   },
   {
    "duration": 18,
    "start_time": "2023-11-23T00:30:58.497Z"
   },
   {
    "duration": 19,
    "start_time": "2023-11-23T01:30:46.646Z"
   },
   {
    "duration": 15,
    "start_time": "2023-11-23T01:31:30.399Z"
   },
   {
    "duration": 14,
    "start_time": "2023-11-23T01:31:45.684Z"
   },
   {
    "duration": 22,
    "start_time": "2023-11-23T01:31:59.156Z"
   },
   {
    "duration": 18,
    "start_time": "2023-11-23T01:32:40.613Z"
   },
   {
    "duration": 15,
    "start_time": "2023-11-23T01:37:17.155Z"
   },
   {
    "duration": 18,
    "start_time": "2023-11-23T01:37:25.505Z"
   },
   {
    "duration": 17,
    "start_time": "2023-11-23T01:41:31.052Z"
   },
   {
    "duration": 27,
    "start_time": "2023-11-23T01:41:36.566Z"
   },
   {
    "duration": 22,
    "start_time": "2023-11-23T01:43:13.830Z"
   },
   {
    "duration": 16,
    "start_time": "2023-11-23T01:43:24.397Z"
   },
   {
    "duration": 16,
    "start_time": "2023-11-23T01:44:22.056Z"
   },
   {
    "duration": 25,
    "start_time": "2023-11-23T01:44:33.282Z"
   },
   {
    "duration": 26,
    "start_time": "2023-11-23T01:44:39.458Z"
   },
   {
    "duration": 18,
    "start_time": "2023-11-23T01:45:14.164Z"
   },
   {
    "duration": 36603,
    "start_time": "2023-11-23T01:45:19.672Z"
   },
   {
    "duration": 36203,
    "start_time": "2023-11-23T01:47:45.183Z"
   },
   {
    "duration": 17,
    "start_time": "2023-11-23T01:50:07.227Z"
   },
   {
    "duration": 18,
    "start_time": "2023-11-23T01:50:33.901Z"
   },
   {
    "duration": 43270,
    "start_time": "2023-11-23T01:50:40.606Z"
   },
   {
    "duration": 85708,
    "start_time": "2023-11-23T01:52:23.379Z"
   },
   {
    "duration": 9,
    "start_time": "2023-11-23T02:06:11.530Z"
   },
   {
    "duration": 10,
    "start_time": "2023-11-23T02:07:28.752Z"
   },
   {
    "duration": 22,
    "start_time": "2023-11-23T02:07:43.920Z"
   },
   {
    "duration": 88,
    "start_time": "2023-11-23T02:07:47.367Z"
   },
   {
    "duration": 10,
    "start_time": "2023-11-23T02:07:49.552Z"
   },
   {
    "duration": 20,
    "start_time": "2023-11-23T02:17:56.825Z"
   },
   {
    "duration": 11,
    "start_time": "2023-11-23T02:18:04.331Z"
   },
   {
    "duration": 19,
    "start_time": "2023-11-23T02:18:18.287Z"
   },
   {
    "duration": 19,
    "start_time": "2023-11-23T02:18:24.096Z"
   },
   {
    "duration": 10,
    "start_time": "2023-11-23T02:18:25.830Z"
   },
   {
    "duration": 11,
    "start_time": "2023-11-23T02:18:34.843Z"
   },
   {
    "duration": 20,
    "start_time": "2023-11-23T02:18:47.115Z"
   },
   {
    "duration": 20,
    "start_time": "2023-11-23T02:18:59.313Z"
   },
   {
    "duration": 20,
    "start_time": "2023-11-23T02:19:10.410Z"
   },
   {
    "duration": 10,
    "start_time": "2023-11-23T02:19:19.716Z"
   },
   {
    "duration": 20,
    "start_time": "2023-11-23T02:19:39.296Z"
   },
   {
    "duration": 20,
    "start_time": "2023-11-23T02:19:41.904Z"
   },
   {
    "duration": 88,
    "start_time": "2023-11-23T02:19:44.411Z"
   },
   {
    "duration": 10,
    "start_time": "2023-11-23T02:19:56.476Z"
   },
   {
    "duration": 20,
    "start_time": "2023-11-23T02:20:30.440Z"
   },
   {
    "duration": 21,
    "start_time": "2023-11-23T02:21:02.315Z"
   },
   {
    "duration": 20,
    "start_time": "2023-11-23T02:21:15.829Z"
   },
   {
    "duration": 20,
    "start_time": "2023-11-23T02:22:10.915Z"
   },
   {
    "duration": 20,
    "start_time": "2023-11-23T02:22:17.198Z"
   },
   {
    "duration": 20,
    "start_time": "2023-11-23T02:22:34.215Z"
   },
   {
    "duration": 19,
    "start_time": "2023-11-23T02:23:29.644Z"
   },
   {
    "duration": 20,
    "start_time": "2023-11-23T02:23:32.019Z"
   },
   {
    "duration": 19,
    "start_time": "2023-11-23T02:23:40.931Z"
   },
   {
    "duration": 10,
    "start_time": "2023-11-23T02:24:02.255Z"
   },
   {
    "duration": 10,
    "start_time": "2023-11-23T02:24:10.248Z"
   },
   {
    "duration": 10,
    "start_time": "2023-11-23T02:24:38.388Z"
   },
   {
    "duration": 10,
    "start_time": "2023-11-23T02:25:30.421Z"
   },
   {
    "duration": 86799,
    "start_time": "2023-11-23T02:25:40.784Z"
   },
   {
    "duration": 1832,
    "start_time": "2023-11-23T03:06:50.407Z"
   },
   {
    "duration": 29,
    "start_time": "2023-11-23T03:06:52.241Z"
   },
   {
    "duration": 95,
    "start_time": "2023-11-23T03:06:52.272Z"
   },
   {
    "duration": 12,
    "start_time": "2023-11-23T03:06:52.369Z"
   },
   {
    "duration": 45,
    "start_time": "2023-11-23T03:06:52.384Z"
   },
   {
    "duration": 6,
    "start_time": "2023-11-23T03:06:52.430Z"
   },
   {
    "duration": 8,
    "start_time": "2023-11-23T03:06:52.437Z"
   },
   {
    "duration": 281,
    "start_time": "2023-11-23T03:06:52.447Z"
   },
   {
    "duration": 5,
    "start_time": "2023-11-23T03:06:52.730Z"
   },
   {
    "duration": 8,
    "start_time": "2023-11-23T03:06:52.737Z"
   },
   {
    "duration": 154,
    "start_time": "2023-11-23T03:06:52.746Z"
   },
   {
    "duration": 100,
    "start_time": "2023-11-23T03:06:52.901Z"
   },
   {
    "duration": 159,
    "start_time": "2023-11-23T03:06:53.002Z"
   },
   {
    "duration": 112,
    "start_time": "2023-11-23T03:06:53.163Z"
   },
   {
    "duration": 151,
    "start_time": "2023-11-23T03:06:53.277Z"
   },
   {
    "duration": 107,
    "start_time": "2023-11-23T03:06:53.430Z"
   },
   {
    "duration": 35,
    "start_time": "2023-11-23T03:06:53.539Z"
   },
   {
    "duration": 138,
    "start_time": "2023-11-23T03:06:53.575Z"
   },
   {
    "duration": 8,
    "start_time": "2023-11-23T03:06:53.714Z"
   },
   {
    "duration": 24,
    "start_time": "2023-11-23T03:06:53.724Z"
   },
   {
    "duration": 20,
    "start_time": "2023-11-23T03:06:53.750Z"
   },
   {
    "duration": 160,
    "start_time": "2023-11-23T03:06:53.771Z"
   },
   {
    "duration": 12,
    "start_time": "2023-11-23T03:06:53.933Z"
   },
   {
    "duration": 65,
    "start_time": "2023-11-23T03:06:53.947Z"
   },
   {
    "duration": 6,
    "start_time": "2023-11-23T03:06:54.014Z"
   },
   {
    "duration": 8,
    "start_time": "2023-11-23T03:06:54.022Z"
   },
   {
    "duration": 72154,
    "start_time": "2023-11-23T03:06:54.031Z"
   },
   {
    "duration": 87888,
    "start_time": "2023-11-23T03:08:06.186Z"
   },
   {
    "duration": 1811,
    "start_time": "2023-11-23T03:14:04.015Z"
   },
   {
    "duration": 29,
    "start_time": "2023-11-23T03:14:05.828Z"
   },
   {
    "duration": 99,
    "start_time": "2023-11-23T03:14:05.859Z"
   },
   {
    "duration": 15,
    "start_time": "2023-11-23T03:14:05.959Z"
   },
   {
    "duration": 44,
    "start_time": "2023-11-23T03:14:05.976Z"
   },
   {
    "duration": 8,
    "start_time": "2023-11-23T03:14:06.022Z"
   },
   {
    "duration": 44,
    "start_time": "2023-11-23T03:14:06.032Z"
   },
   {
    "duration": 272,
    "start_time": "2023-11-23T03:14:06.078Z"
   },
   {
    "duration": 5,
    "start_time": "2023-11-23T03:14:06.352Z"
   },
   {
    "duration": 19,
    "start_time": "2023-11-23T03:14:06.360Z"
   },
   {
    "duration": 149,
    "start_time": "2023-11-23T03:14:06.381Z"
   },
   {
    "duration": 98,
    "start_time": "2023-11-23T03:14:06.531Z"
   },
   {
    "duration": 166,
    "start_time": "2023-11-23T03:14:06.631Z"
   },
   {
    "duration": 109,
    "start_time": "2023-11-23T03:14:06.798Z"
   },
   {
    "duration": 158,
    "start_time": "2023-11-23T03:14:06.908Z"
   },
   {
    "duration": 108,
    "start_time": "2023-11-23T03:14:07.067Z"
   },
   {
    "duration": 23,
    "start_time": "2023-11-23T03:14:07.177Z"
   },
   {
    "duration": 151,
    "start_time": "2023-11-23T03:14:07.202Z"
   },
   {
    "duration": 9,
    "start_time": "2023-11-23T03:14:07.355Z"
   },
   {
    "duration": 31,
    "start_time": "2023-11-23T03:14:07.374Z"
   },
   {
    "duration": 35,
    "start_time": "2023-11-23T03:14:07.406Z"
   },
   {
    "duration": 157,
    "start_time": "2023-11-23T03:14:07.443Z"
   },
   {
    "duration": 11,
    "start_time": "2023-11-23T03:14:07.602Z"
   },
   {
    "duration": 69,
    "start_time": "2023-11-23T03:14:07.615Z"
   },
   {
    "duration": 6,
    "start_time": "2023-11-23T03:14:07.686Z"
   },
   {
    "duration": 28,
    "start_time": "2023-11-23T03:14:07.693Z"
   },
   {
    "duration": 69778,
    "start_time": "2023-11-23T03:14:07.722Z"
   },
   {
    "duration": 85602,
    "start_time": "2023-11-23T03:15:17.573Z"
   },
   {
    "duration": 54,
    "start_time": "2023-11-23T15:45:24.953Z"
   },
   {
    "duration": 2093,
    "start_time": "2023-11-23T15:45:34.728Z"
   },
   {
    "duration": 63,
    "start_time": "2023-11-23T15:45:36.823Z"
   },
   {
    "duration": 89,
    "start_time": "2023-11-23T15:45:36.887Z"
   },
   {
    "duration": 11,
    "start_time": "2023-11-23T15:45:36.977Z"
   },
   {
    "duration": 38,
    "start_time": "2023-11-23T15:45:36.990Z"
   },
   {
    "duration": 9,
    "start_time": "2023-11-23T15:45:37.030Z"
   },
   {
    "duration": 30,
    "start_time": "2023-11-23T15:45:37.041Z"
   },
   {
    "duration": 285,
    "start_time": "2023-11-23T15:45:37.073Z"
   },
   {
    "duration": 5,
    "start_time": "2023-11-23T15:45:37.360Z"
   },
   {
    "duration": 25,
    "start_time": "2023-11-23T15:45:37.367Z"
   },
   {
    "duration": 145,
    "start_time": "2023-11-23T15:45:37.393Z"
   },
   {
    "duration": 97,
    "start_time": "2023-11-23T15:45:37.539Z"
   },
   {
    "duration": 161,
    "start_time": "2023-11-23T15:45:37.638Z"
   },
   {
    "duration": 113,
    "start_time": "2023-11-23T15:45:37.802Z"
   },
   {
    "duration": 162,
    "start_time": "2023-11-23T15:45:37.917Z"
   },
   {
    "duration": 109,
    "start_time": "2023-11-23T15:45:38.081Z"
   },
   {
    "duration": 34,
    "start_time": "2023-11-23T15:45:38.192Z"
   },
   {
    "duration": 146,
    "start_time": "2023-11-23T15:45:38.228Z"
   },
   {
    "duration": 8,
    "start_time": "2023-11-23T15:45:38.376Z"
   },
   {
    "duration": 6,
    "start_time": "2023-11-23T15:45:38.386Z"
   },
   {
    "duration": 25,
    "start_time": "2023-11-23T15:45:38.394Z"
   },
   {
    "duration": 149,
    "start_time": "2023-11-23T15:45:38.421Z"
   },
   {
    "duration": 27,
    "start_time": "2023-11-23T15:45:38.572Z"
   },
   {
    "duration": 99,
    "start_time": "2023-11-23T15:45:38.600Z"
   },
   {
    "duration": 7,
    "start_time": "2023-11-23T15:45:38.701Z"
   },
   {
    "duration": 8,
    "start_time": "2023-11-23T15:45:38.709Z"
   },
   {
    "duration": 67905,
    "start_time": "2023-11-23T15:45:38.719Z"
   },
   {
    "duration": 83098,
    "start_time": "2023-11-23T15:46:46.625Z"
   },
   {
    "duration": 103,
    "start_time": "2023-11-23T16:24:56.024Z"
   },
   {
    "duration": 19,
    "start_time": "2023-11-23T16:26:33.034Z"
   },
   {
    "duration": 23,
    "start_time": "2023-11-23T16:26:51.366Z"
   },
   {
    "duration": 77386,
    "start_time": "2023-11-23T17:45:13.428Z"
   },
   {
    "duration": 75635,
    "start_time": "2023-11-23T17:48:57.990Z"
   },
   {
    "duration": 120227,
    "start_time": "2023-11-23T17:51:42.738Z"
   },
   {
    "duration": 134179,
    "start_time": "2023-11-23T17:54:39.016Z"
   },
   {
    "duration": 18,
    "start_time": "2023-11-23T17:57:47.423Z"
   },
   {
    "duration": 114806,
    "start_time": "2023-11-23T17:59:19.633Z"
   },
   {
    "duration": 105,
    "start_time": "2023-11-23T21:10:50.928Z"
   },
   {
    "duration": 95957,
    "start_time": "2023-11-23T21:11:14.302Z"
   },
   {
    "duration": 54993,
    "start_time": "2023-11-23T21:23:53.224Z"
   },
   {
    "duration": 54574,
    "start_time": "2023-11-23T21:27:58.048Z"
   },
   {
    "duration": 2660,
    "start_time": "2023-11-23T21:32:24.979Z"
   },
   {
    "duration": 51934,
    "start_time": "2023-11-23T21:32:45.244Z"
   },
   {
    "duration": 15554,
    "start_time": "2023-11-23T21:34:36.377Z"
   },
   {
    "duration": 700558,
    "start_time": "2023-11-23T21:35:09.967Z"
   },
   {
    "duration": 876505,
    "start_time": "2023-11-23T21:50:46.323Z"
   },
   {
    "duration": 634657,
    "start_time": "2023-11-23T22:07:15.758Z"
   },
   {
    "duration": 27,
    "start_time": "2023-11-23T22:17:50.416Z"
   },
   {
    "duration": 25,
    "start_time": "2023-11-23T22:18:39.863Z"
   },
   {
    "duration": 92978,
    "start_time": "2023-11-23T22:23:10.783Z"
   },
   {
    "duration": 639115,
    "start_time": "2023-11-23T22:27:59.798Z"
   },
   {
    "duration": 82362,
    "start_time": "2023-11-23T22:38:56.252Z"
   },
   {
    "duration": 1817,
    "start_time": "2023-11-23T22:48:57.815Z"
   },
   {
    "duration": 28,
    "start_time": "2023-11-23T22:48:59.634Z"
   },
   {
    "duration": 91,
    "start_time": "2023-11-23T22:48:59.663Z"
   },
   {
    "duration": 12,
    "start_time": "2023-11-23T22:48:59.755Z"
   },
   {
    "duration": 24,
    "start_time": "2023-11-23T22:48:59.769Z"
   },
   {
    "duration": 19,
    "start_time": "2023-11-23T22:48:59.795Z"
   },
   {
    "duration": 6,
    "start_time": "2023-11-23T22:48:59.816Z"
   },
   {
    "duration": 260,
    "start_time": "2023-11-23T22:48:59.823Z"
   },
   {
    "duration": 6,
    "start_time": "2023-11-23T22:49:00.084Z"
   },
   {
    "duration": 29,
    "start_time": "2023-11-23T22:49:00.092Z"
   },
   {
    "duration": 145,
    "start_time": "2023-11-23T22:49:00.123Z"
   },
   {
    "duration": 93,
    "start_time": "2023-11-23T22:49:00.270Z"
   },
   {
    "duration": 160,
    "start_time": "2023-11-23T22:49:00.365Z"
   },
   {
    "duration": 115,
    "start_time": "2023-11-23T22:49:00.529Z"
   },
   {
    "duration": 149,
    "start_time": "2023-11-23T22:49:00.646Z"
   },
   {
    "duration": 93,
    "start_time": "2023-11-23T22:49:00.796Z"
   },
   {
    "duration": 42,
    "start_time": "2023-11-23T22:49:00.890Z"
   },
   {
    "duration": 152,
    "start_time": "2023-11-23T22:49:00.933Z"
   },
   {
    "duration": 8,
    "start_time": "2023-11-23T22:49:01.086Z"
   },
   {
    "duration": 52,
    "start_time": "2023-11-23T22:49:01.096Z"
   },
   {
    "duration": 74,
    "start_time": "2023-11-23T22:49:01.150Z"
   },
   {
    "duration": 196,
    "start_time": "2023-11-23T22:49:01.226Z"
   },
   {
    "duration": 11,
    "start_time": "2023-11-23T22:49:01.424Z"
   },
   {
    "duration": 78,
    "start_time": "2023-11-23T22:49:01.436Z"
   },
   {
    "duration": 18,
    "start_time": "2023-11-23T22:49:01.515Z"
   },
   {
    "duration": 31,
    "start_time": "2023-11-23T22:49:01.535Z"
   },
   {
    "duration": 80061,
    "start_time": "2023-11-23T22:49:01.568Z"
   },
   {
    "duration": 1864,
    "start_time": "2023-11-23T22:56:46.668Z"
   },
   {
    "duration": 0,
    "start_time": "2023-11-23T22:56:48.535Z"
   },
   {
    "duration": 0,
    "start_time": "2023-11-23T22:56:48.536Z"
   },
   {
    "duration": 0,
    "start_time": "2023-11-23T22:56:48.537Z"
   },
   {
    "duration": 0,
    "start_time": "2023-11-23T22:56:48.538Z"
   },
   {
    "duration": 0,
    "start_time": "2023-11-23T22:56:48.539Z"
   },
   {
    "duration": 0,
    "start_time": "2023-11-23T22:56:48.540Z"
   },
   {
    "duration": 0,
    "start_time": "2023-11-23T22:56:48.541Z"
   },
   {
    "duration": 0,
    "start_time": "2023-11-23T22:56:48.543Z"
   },
   {
    "duration": 0,
    "start_time": "2023-11-23T22:56:48.544Z"
   },
   {
    "duration": 0,
    "start_time": "2023-11-23T22:56:48.545Z"
   },
   {
    "duration": 0,
    "start_time": "2023-11-23T22:56:48.546Z"
   },
   {
    "duration": 0,
    "start_time": "2023-11-23T22:56:48.547Z"
   },
   {
    "duration": 0,
    "start_time": "2023-11-23T22:56:48.547Z"
   },
   {
    "duration": 0,
    "start_time": "2023-11-23T22:56:48.548Z"
   },
   {
    "duration": 0,
    "start_time": "2023-11-23T22:56:48.549Z"
   },
   {
    "duration": 0,
    "start_time": "2023-11-23T22:56:48.550Z"
   },
   {
    "duration": 0,
    "start_time": "2023-11-23T22:56:48.551Z"
   },
   {
    "duration": 0,
    "start_time": "2023-11-23T22:56:48.552Z"
   },
   {
    "duration": 0,
    "start_time": "2023-11-23T22:56:48.553Z"
   },
   {
    "duration": 0,
    "start_time": "2023-11-23T22:56:48.554Z"
   },
   {
    "duration": 0,
    "start_time": "2023-11-23T22:56:48.555Z"
   },
   {
    "duration": 0,
    "start_time": "2023-11-23T22:56:48.556Z"
   },
   {
    "duration": 0,
    "start_time": "2023-11-23T22:56:48.556Z"
   },
   {
    "duration": 0,
    "start_time": "2023-11-23T22:56:48.558Z"
   },
   {
    "duration": 0,
    "start_time": "2023-11-23T22:56:48.558Z"
   },
   {
    "duration": 0,
    "start_time": "2023-11-23T22:56:48.559Z"
   },
   {
    "duration": 0,
    "start_time": "2023-11-23T22:56:48.560Z"
   },
   {
    "duration": 0,
    "start_time": "2023-11-23T22:56:48.561Z"
   },
   {
    "duration": 0,
    "start_time": "2023-11-23T22:56:48.562Z"
   },
   {
    "duration": 7,
    "start_time": "2023-11-23T23:03:19.198Z"
   },
   {
    "duration": 1806,
    "start_time": "2023-11-23T23:03:26.536Z"
   },
   {
    "duration": 30,
    "start_time": "2023-11-23T23:03:28.344Z"
   },
   {
    "duration": 91,
    "start_time": "2023-11-23T23:03:28.375Z"
   },
   {
    "duration": 12,
    "start_time": "2023-11-23T23:03:28.467Z"
   },
   {
    "duration": 33,
    "start_time": "2023-11-23T23:03:28.481Z"
   },
   {
    "duration": 6,
    "start_time": "2023-11-23T23:03:28.516Z"
   },
   {
    "duration": 7,
    "start_time": "2023-11-23T23:03:28.523Z"
   },
   {
    "duration": 254,
    "start_time": "2023-11-23T23:03:28.531Z"
   },
   {
    "duration": 5,
    "start_time": "2023-11-23T23:03:28.787Z"
   },
   {
    "duration": 19,
    "start_time": "2023-11-23T23:03:28.794Z"
   },
   {
    "duration": 145,
    "start_time": "2023-11-23T23:03:28.815Z"
   },
   {
    "duration": 98,
    "start_time": "2023-11-23T23:03:28.962Z"
   },
   {
    "duration": 160,
    "start_time": "2023-11-23T23:03:29.061Z"
   },
   {
    "duration": 107,
    "start_time": "2023-11-23T23:03:29.222Z"
   },
   {
    "duration": 154,
    "start_time": "2023-11-23T23:03:29.331Z"
   },
   {
    "duration": 100,
    "start_time": "2023-11-23T23:03:29.487Z"
   },
   {
    "duration": 33,
    "start_time": "2023-11-23T23:03:29.588Z"
   },
   {
    "duration": 136,
    "start_time": "2023-11-23T23:03:29.622Z"
   },
   {
    "duration": 7,
    "start_time": "2023-11-23T23:03:29.760Z"
   },
   {
    "duration": 35,
    "start_time": "2023-11-23T23:03:29.769Z"
   },
   {
    "duration": 15,
    "start_time": "2023-11-23T23:03:29.805Z"
   },
   {
    "duration": 142,
    "start_time": "2023-11-23T23:03:29.822Z"
   },
   {
    "duration": 11,
    "start_time": "2023-11-23T23:03:29.966Z"
   },
   {
    "duration": 43,
    "start_time": "2023-11-23T23:03:29.978Z"
   },
   {
    "duration": 6,
    "start_time": "2023-11-23T23:03:30.023Z"
   },
   {
    "duration": 47,
    "start_time": "2023-11-23T23:03:30.030Z"
   },
   {
    "duration": 84850,
    "start_time": "2023-11-23T23:03:30.078Z"
   },
   {
    "duration": 1803,
    "start_time": "2023-11-23T23:06:22.258Z"
   },
   {
    "duration": 29,
    "start_time": "2023-11-23T23:06:24.063Z"
   },
   {
    "duration": 89,
    "start_time": "2023-11-23T23:06:24.094Z"
   },
   {
    "duration": 11,
    "start_time": "2023-11-23T23:06:24.185Z"
   },
   {
    "duration": 32,
    "start_time": "2023-11-23T23:06:24.198Z"
   },
   {
    "duration": 5,
    "start_time": "2023-11-23T23:06:24.232Z"
   },
   {
    "duration": 15,
    "start_time": "2023-11-23T23:06:24.239Z"
   },
   {
    "duration": 251,
    "start_time": "2023-11-23T23:06:24.255Z"
   },
   {
    "duration": 6,
    "start_time": "2023-11-23T23:06:24.508Z"
   },
   {
    "duration": 5,
    "start_time": "2023-11-23T23:06:24.515Z"
   },
   {
    "duration": 159,
    "start_time": "2023-11-23T23:06:24.522Z"
   },
   {
    "duration": 102,
    "start_time": "2023-11-23T23:06:24.682Z"
   },
   {
    "duration": 153,
    "start_time": "2023-11-23T23:06:24.786Z"
   },
   {
    "duration": 103,
    "start_time": "2023-11-23T23:06:24.942Z"
   },
   {
    "duration": 196,
    "start_time": "2023-11-23T23:06:25.047Z"
   },
   {
    "duration": 131,
    "start_time": "2023-11-23T23:06:25.244Z"
   },
   {
    "duration": 22,
    "start_time": "2023-11-23T23:06:25.377Z"
   },
   {
    "duration": 148,
    "start_time": "2023-11-23T23:06:25.400Z"
   },
   {
    "duration": 8,
    "start_time": "2023-11-23T23:06:25.550Z"
   },
   {
    "duration": 6,
    "start_time": "2023-11-23T23:06:25.559Z"
   },
   {
    "duration": 9,
    "start_time": "2023-11-23T23:06:25.567Z"
   },
   {
    "duration": 157,
    "start_time": "2023-11-23T23:06:25.578Z"
   },
   {
    "duration": 12,
    "start_time": "2023-11-23T23:06:25.737Z"
   },
   {
    "duration": 64,
    "start_time": "2023-11-23T23:06:25.750Z"
   },
   {
    "duration": 6,
    "start_time": "2023-11-23T23:06:25.816Z"
   },
   {
    "duration": 12,
    "start_time": "2023-11-23T23:06:25.824Z"
   },
   {
    "duration": 88582,
    "start_time": "2023-11-23T23:06:25.838Z"
   },
   {
    "duration": 1953,
    "start_time": "2023-11-23T23:16:12.901Z"
   },
   {
    "duration": 29,
    "start_time": "2023-11-23T23:16:14.856Z"
   },
   {
    "duration": 91,
    "start_time": "2023-11-23T23:16:14.888Z"
   },
   {
    "duration": 11,
    "start_time": "2023-11-23T23:16:14.981Z"
   },
   {
    "duration": 54,
    "start_time": "2023-11-23T23:16:14.993Z"
   },
   {
    "duration": 12,
    "start_time": "2023-11-23T23:16:15.049Z"
   },
   {
    "duration": 9,
    "start_time": "2023-11-23T23:16:15.063Z"
   },
   {
    "duration": 250,
    "start_time": "2023-11-23T23:16:15.073Z"
   },
   {
    "duration": 5,
    "start_time": "2023-11-23T23:16:15.325Z"
   },
   {
    "duration": 5,
    "start_time": "2023-11-23T23:16:15.333Z"
   },
   {
    "duration": 164,
    "start_time": "2023-11-23T23:16:15.340Z"
   },
   {
    "duration": 90,
    "start_time": "2023-11-23T23:16:15.506Z"
   },
   {
    "duration": 181,
    "start_time": "2023-11-23T23:16:15.598Z"
   },
   {
    "duration": 108,
    "start_time": "2023-11-23T23:16:15.781Z"
   },
   {
    "duration": 156,
    "start_time": "2023-11-23T23:16:15.891Z"
   },
   {
    "duration": 104,
    "start_time": "2023-11-23T23:16:16.049Z"
   },
   {
    "duration": 24,
    "start_time": "2023-11-23T23:16:16.155Z"
   },
   {
    "duration": 148,
    "start_time": "2023-11-23T23:16:16.180Z"
   },
   {
    "duration": 8,
    "start_time": "2023-11-23T23:16:16.330Z"
   },
   {
    "duration": 7,
    "start_time": "2023-11-23T23:16:16.339Z"
   },
   {
    "duration": 10,
    "start_time": "2023-11-23T23:16:16.347Z"
   },
   {
    "duration": 170,
    "start_time": "2023-11-23T23:16:16.359Z"
   },
   {
    "duration": 11,
    "start_time": "2023-11-23T23:16:16.531Z"
   },
   {
    "duration": 34,
    "start_time": "2023-11-23T23:16:16.544Z"
   },
   {
    "duration": 6,
    "start_time": "2023-11-23T23:16:16.580Z"
   },
   {
    "duration": 26,
    "start_time": "2023-11-23T23:16:16.587Z"
   },
   {
    "duration": 87614,
    "start_time": "2023-11-23T23:16:16.615Z"
   },
   {
    "duration": 648103,
    "start_time": "2023-11-23T23:17:44.232Z"
   },
   {
    "duration": 96979,
    "start_time": "2023-11-23T23:28:32.336Z"
   },
   {
    "duration": 992801,
    "start_time": "2023-11-23T23:30:09.317Z"
   },
   {
    "duration": 1852,
    "start_time": "2023-11-24T01:03:17.203Z"
   },
   {
    "duration": 29,
    "start_time": "2023-11-24T01:03:19.057Z"
   },
   {
    "duration": 91,
    "start_time": "2023-11-24T01:03:19.088Z"
   },
   {
    "duration": 12,
    "start_time": "2023-11-24T01:03:19.180Z"
   },
   {
    "duration": 34,
    "start_time": "2023-11-24T01:03:19.194Z"
   },
   {
    "duration": 6,
    "start_time": "2023-11-24T01:03:19.229Z"
   },
   {
    "duration": 10,
    "start_time": "2023-11-24T01:03:19.236Z"
   },
   {
    "duration": 257,
    "start_time": "2023-11-24T01:03:19.248Z"
   },
   {
    "duration": 10,
    "start_time": "2023-11-24T01:03:19.507Z"
   },
   {
    "duration": 7,
    "start_time": "2023-11-24T01:03:19.518Z"
   },
   {
    "duration": 142,
    "start_time": "2023-11-24T01:03:19.526Z"
   },
   {
    "duration": 97,
    "start_time": "2023-11-24T01:03:19.670Z"
   },
   {
    "duration": 164,
    "start_time": "2023-11-24T01:03:19.768Z"
   },
   {
    "duration": 113,
    "start_time": "2023-11-24T01:03:19.935Z"
   },
   {
    "duration": 152,
    "start_time": "2023-11-24T01:03:20.050Z"
   },
   {
    "duration": 93,
    "start_time": "2023-11-24T01:03:20.204Z"
   },
   {
    "duration": 33,
    "start_time": "2023-11-24T01:03:20.299Z"
   },
   {
    "duration": 150,
    "start_time": "2023-11-24T01:03:20.334Z"
   },
   {
    "duration": 8,
    "start_time": "2023-11-24T01:03:20.486Z"
   },
   {
    "duration": 9,
    "start_time": "2023-11-24T01:03:20.496Z"
   },
   {
    "duration": 10,
    "start_time": "2023-11-24T01:03:20.514Z"
   },
   {
    "duration": 149,
    "start_time": "2023-11-24T01:03:20.525Z"
   },
   {
    "duration": 11,
    "start_time": "2023-11-24T01:03:20.676Z"
   },
   {
    "duration": 45,
    "start_time": "2023-11-24T01:03:20.689Z"
   },
   {
    "duration": 5,
    "start_time": "2023-11-24T01:03:20.735Z"
   },
   {
    "duration": 4,
    "start_time": "2023-11-24T01:03:20.742Z"
   },
   {
    "duration": 83779,
    "start_time": "2023-11-24T01:03:20.748Z"
   },
   {
    "duration": 620500,
    "start_time": "2023-11-24T01:04:44.529Z"
   },
   {
    "duration": 92788,
    "start_time": "2023-11-24T01:15:05.031Z"
   },
   {
    "duration": 960298,
    "start_time": "2023-11-24T01:16:37.821Z"
   },
   {
    "duration": 2070,
    "start_time": "2023-11-24T01:35:00.943Z"
   },
   {
    "duration": 30,
    "start_time": "2023-11-24T01:35:03.015Z"
   },
   {
    "duration": 90,
    "start_time": "2023-11-24T01:35:03.046Z"
   },
   {
    "duration": 12,
    "start_time": "2023-11-24T01:35:03.137Z"
   },
   {
    "duration": 46,
    "start_time": "2023-11-24T01:35:03.151Z"
   },
   {
    "duration": 7,
    "start_time": "2023-11-24T01:35:03.199Z"
   },
   {
    "duration": 28,
    "start_time": "2023-11-24T01:35:03.208Z"
   },
   {
    "duration": 275,
    "start_time": "2023-11-24T01:35:03.238Z"
   },
   {
    "duration": 6,
    "start_time": "2023-11-24T01:35:03.514Z"
   },
   {
    "duration": 19,
    "start_time": "2023-11-24T01:35:03.521Z"
   },
   {
    "duration": 138,
    "start_time": "2023-11-24T01:35:03.541Z"
   },
   {
    "duration": 94,
    "start_time": "2023-11-24T01:35:03.680Z"
   },
   {
    "duration": 155,
    "start_time": "2023-11-24T01:35:03.775Z"
   },
   {
    "duration": 117,
    "start_time": "2023-11-24T01:35:03.933Z"
   },
   {
    "duration": 151,
    "start_time": "2023-11-24T01:35:04.052Z"
   },
   {
    "duration": 95,
    "start_time": "2023-11-24T01:35:04.205Z"
   },
   {
    "duration": 23,
    "start_time": "2023-11-24T01:35:04.313Z"
   },
   {
    "duration": 143,
    "start_time": "2023-11-24T01:35:04.338Z"
   },
   {
    "duration": 8,
    "start_time": "2023-11-24T01:35:04.483Z"
   },
   {
    "duration": 24,
    "start_time": "2023-11-24T01:35:04.493Z"
   },
   {
    "duration": 16,
    "start_time": "2023-11-24T01:35:04.518Z"
   },
   {
    "duration": 143,
    "start_time": "2023-11-24T01:35:04.535Z"
   },
   {
    "duration": 11,
    "start_time": "2023-11-24T01:35:04.680Z"
   },
   {
    "duration": 49,
    "start_time": "2023-11-24T01:35:04.692Z"
   },
   {
    "duration": 6,
    "start_time": "2023-11-24T01:35:04.742Z"
   },
   {
    "duration": 6,
    "start_time": "2023-11-24T01:35:04.749Z"
   },
   {
    "duration": 95,
    "start_time": "2023-11-24T01:35:04.757Z"
   },
   {
    "duration": 0,
    "start_time": "2023-11-24T01:35:04.853Z"
   },
   {
    "duration": 0,
    "start_time": "2023-11-24T01:35:04.855Z"
   },
   {
    "duration": 0,
    "start_time": "2023-11-24T01:35:04.856Z"
   },
   {
    "duration": 1818,
    "start_time": "2023-11-24T01:36:25.708Z"
   },
   {
    "duration": 30,
    "start_time": "2023-11-24T01:36:27.528Z"
   },
   {
    "duration": 89,
    "start_time": "2023-11-24T01:36:27.559Z"
   },
   {
    "duration": 13,
    "start_time": "2023-11-24T01:36:27.649Z"
   },
   {
    "duration": 27,
    "start_time": "2023-11-24T01:36:27.663Z"
   },
   {
    "duration": 6,
    "start_time": "2023-11-24T01:36:27.692Z"
   },
   {
    "duration": 18,
    "start_time": "2023-11-24T01:36:27.699Z"
   },
   {
    "duration": 257,
    "start_time": "2023-11-24T01:36:27.718Z"
   },
   {
    "duration": 5,
    "start_time": "2023-11-24T01:36:27.977Z"
   },
   {
    "duration": 5,
    "start_time": "2023-11-24T01:36:27.984Z"
   },
   {
    "duration": 157,
    "start_time": "2023-11-24T01:36:27.990Z"
   },
   {
    "duration": 96,
    "start_time": "2023-11-24T01:36:28.149Z"
   },
   {
    "duration": 167,
    "start_time": "2023-11-24T01:36:28.246Z"
   },
   {
    "duration": 111,
    "start_time": "2023-11-24T01:36:28.415Z"
   },
   {
    "duration": 154,
    "start_time": "2023-11-24T01:36:28.528Z"
   },
   {
    "duration": 96,
    "start_time": "2023-11-24T01:36:28.684Z"
   },
   {
    "duration": 38,
    "start_time": "2023-11-24T01:36:28.781Z"
   },
   {
    "duration": 133,
    "start_time": "2023-11-24T01:36:28.821Z"
   },
   {
    "duration": 8,
    "start_time": "2023-11-24T01:36:28.955Z"
   },
   {
    "duration": 10,
    "start_time": "2023-11-24T01:36:28.965Z"
   },
   {
    "duration": 14,
    "start_time": "2023-11-24T01:36:28.976Z"
   },
   {
    "duration": 149,
    "start_time": "2023-11-24T01:36:28.992Z"
   },
   {
    "duration": 12,
    "start_time": "2023-11-24T01:36:29.142Z"
   },
   {
    "duration": 38,
    "start_time": "2023-11-24T01:36:29.155Z"
   },
   {
    "duration": 23,
    "start_time": "2023-11-24T01:36:29.195Z"
   },
   {
    "duration": 13,
    "start_time": "2023-11-24T01:36:29.219Z"
   },
   {
    "duration": 117496,
    "start_time": "2023-11-24T01:36:29.233Z"
   },
   {
    "duration": 1807,
    "start_time": "2023-11-24T01:41:07.703Z"
   },
   {
    "duration": 29,
    "start_time": "2023-11-24T01:41:09.512Z"
   },
   {
    "duration": 91,
    "start_time": "2023-11-24T01:41:09.542Z"
   },
   {
    "duration": 12,
    "start_time": "2023-11-24T01:41:09.634Z"
   },
   {
    "duration": 24,
    "start_time": "2023-11-24T01:41:09.648Z"
   },
   {
    "duration": 6,
    "start_time": "2023-11-24T01:41:09.674Z"
   },
   {
    "duration": 32,
    "start_time": "2023-11-24T01:41:09.681Z"
   },
   {
    "duration": 248,
    "start_time": "2023-11-24T01:41:09.715Z"
   },
   {
    "duration": 5,
    "start_time": "2023-11-24T01:41:09.964Z"
   },
   {
    "duration": 9,
    "start_time": "2023-11-24T01:41:09.971Z"
   },
   {
    "duration": 149,
    "start_time": "2023-11-24T01:41:09.982Z"
   },
   {
    "duration": 97,
    "start_time": "2023-11-24T01:41:10.132Z"
   },
   {
    "duration": 155,
    "start_time": "2023-11-24T01:41:10.231Z"
   },
   {
    "duration": 112,
    "start_time": "2023-11-24T01:41:10.389Z"
   },
   {
    "duration": 167,
    "start_time": "2023-11-24T01:41:10.503Z"
   },
   {
    "duration": 97,
    "start_time": "2023-11-24T01:41:10.671Z"
   },
   {
    "duration": 24,
    "start_time": "2023-11-24T01:41:10.769Z"
   },
   {
    "duration": 147,
    "start_time": "2023-11-24T01:41:10.794Z"
   },
   {
    "duration": 7,
    "start_time": "2023-11-24T01:41:10.943Z"
   },
   {
    "duration": 68,
    "start_time": "2023-11-24T01:41:10.952Z"
   },
   {
    "duration": 69,
    "start_time": "2023-11-24T01:41:11.022Z"
   },
   {
    "duration": 164,
    "start_time": "2023-11-24T01:41:11.092Z"
   },
   {
    "duration": 11,
    "start_time": "2023-11-24T01:41:11.258Z"
   },
   {
    "duration": 58,
    "start_time": "2023-11-24T01:41:11.270Z"
   },
   {
    "duration": 6,
    "start_time": "2023-11-24T01:41:11.330Z"
   },
   {
    "duration": 30,
    "start_time": "2023-11-24T01:41:11.338Z"
   },
   {
    "duration": 86165,
    "start_time": "2023-11-24T01:41:11.369Z"
   },
   {
    "duration": 633996,
    "start_time": "2023-11-24T01:42:37.536Z"
   },
   {
    "duration": 93223,
    "start_time": "2023-11-24T01:53:11.534Z"
   },
   {
    "duration": 960175,
    "start_time": "2023-11-24T01:54:44.758Z"
   },
   {
    "duration": 5,
    "start_time": "2023-11-24T02:12:33.877Z"
   },
   {
    "duration": 5,
    "start_time": "2023-11-24T02:12:58.478Z"
   },
   {
    "duration": 5,
    "start_time": "2023-11-24T02:19:25.421Z"
   },
   {
    "duration": 6,
    "start_time": "2023-11-24T02:19:41.683Z"
   },
   {
    "duration": 126,
    "start_time": "2023-11-24T02:20:02.293Z"
   },
   {
    "duration": 8,
    "start_time": "2023-11-24T02:20:24.404Z"
   },
   {
    "duration": 1819,
    "start_time": "2023-11-24T02:31:35.004Z"
   },
   {
    "duration": 29,
    "start_time": "2023-11-24T02:31:36.825Z"
   },
   {
    "duration": 105,
    "start_time": "2023-11-24T02:31:36.855Z"
   },
   {
    "duration": 11,
    "start_time": "2023-11-24T02:31:36.961Z"
   },
   {
    "duration": 39,
    "start_time": "2023-11-24T02:31:36.975Z"
   },
   {
    "duration": 6,
    "start_time": "2023-11-24T02:31:37.016Z"
   },
   {
    "duration": 8,
    "start_time": "2023-11-24T02:31:37.024Z"
   },
   {
    "duration": 247,
    "start_time": "2023-11-24T02:31:37.034Z"
   },
   {
    "duration": 5,
    "start_time": "2023-11-24T02:31:37.283Z"
   },
   {
    "duration": 25,
    "start_time": "2023-11-24T02:31:37.290Z"
   },
   {
    "duration": 143,
    "start_time": "2023-11-24T02:31:37.316Z"
   },
   {
    "duration": 92,
    "start_time": "2023-11-24T02:31:37.460Z"
   },
   {
    "duration": 168,
    "start_time": "2023-11-24T02:31:37.554Z"
   },
   {
    "duration": 114,
    "start_time": "2023-11-24T02:31:37.726Z"
   },
   {
    "duration": 150,
    "start_time": "2023-11-24T02:31:37.842Z"
   },
   {
    "duration": 93,
    "start_time": "2023-11-24T02:31:37.993Z"
   },
   {
    "duration": 36,
    "start_time": "2023-11-24T02:31:38.088Z"
   },
   {
    "duration": 141,
    "start_time": "2023-11-24T02:31:38.126Z"
   },
   {
    "duration": 7,
    "start_time": "2023-11-24T02:31:38.269Z"
   },
   {
    "duration": 14,
    "start_time": "2023-11-24T02:31:38.278Z"
   },
   {
    "duration": 12,
    "start_time": "2023-11-24T02:31:38.293Z"
   },
   {
    "duration": 148,
    "start_time": "2023-11-24T02:31:38.306Z"
   },
   {
    "duration": 12,
    "start_time": "2023-11-24T02:31:38.455Z"
   },
   {
    "duration": 46,
    "start_time": "2023-11-24T02:31:38.468Z"
   },
   {
    "duration": 5,
    "start_time": "2023-11-24T02:31:38.515Z"
   },
   {
    "duration": 150,
    "start_time": "2023-11-24T02:31:38.521Z"
   },
   {
    "duration": 0,
    "start_time": "2023-11-24T02:31:38.673Z"
   },
   {
    "duration": 0,
    "start_time": "2023-11-24T02:31:38.674Z"
   },
   {
    "duration": 0,
    "start_time": "2023-11-24T02:31:38.675Z"
   },
   {
    "duration": 0,
    "start_time": "2023-11-24T02:31:38.676Z"
   },
   {
    "duration": 0,
    "start_time": "2023-11-24T02:31:38.677Z"
   },
   {
    "duration": 0,
    "start_time": "2023-11-24T02:31:38.678Z"
   },
   {
    "duration": 9,
    "start_time": "2023-11-24T02:35:17.929Z"
   },
   {
    "duration": 9,
    "start_time": "2023-11-24T02:37:49.266Z"
   },
   {
    "duration": 9,
    "start_time": "2023-11-24T02:37:51.661Z"
   },
   {
    "duration": 10,
    "start_time": "2023-11-24T02:37:57.711Z"
   },
   {
    "duration": 1865,
    "start_time": "2023-11-24T02:38:11.874Z"
   },
   {
    "duration": 30,
    "start_time": "2023-11-24T02:38:13.741Z"
   },
   {
    "duration": 92,
    "start_time": "2023-11-24T02:38:13.772Z"
   },
   {
    "duration": 11,
    "start_time": "2023-11-24T02:38:13.866Z"
   },
   {
    "duration": 35,
    "start_time": "2023-11-24T02:38:13.880Z"
   },
   {
    "duration": 6,
    "start_time": "2023-11-24T02:38:13.917Z"
   },
   {
    "duration": 5,
    "start_time": "2023-11-24T02:38:13.925Z"
   },
   {
    "duration": 265,
    "start_time": "2023-11-24T02:38:13.932Z"
   },
   {
    "duration": 6,
    "start_time": "2023-11-24T02:38:14.198Z"
   },
   {
    "duration": 4,
    "start_time": "2023-11-24T02:38:14.214Z"
   },
   {
    "duration": 149,
    "start_time": "2023-11-24T02:38:14.219Z"
   },
   {
    "duration": 96,
    "start_time": "2023-11-24T02:38:14.370Z"
   },
   {
    "duration": 161,
    "start_time": "2023-11-24T02:38:14.468Z"
   },
   {
    "duration": 107,
    "start_time": "2023-11-24T02:38:14.632Z"
   },
   {
    "duration": 152,
    "start_time": "2023-11-24T02:38:14.741Z"
   },
   {
    "duration": 92,
    "start_time": "2023-11-24T02:38:14.894Z"
   },
   {
    "duration": 33,
    "start_time": "2023-11-24T02:38:14.988Z"
   },
   {
    "duration": 147,
    "start_time": "2023-11-24T02:38:15.023Z"
   },
   {
    "duration": 7,
    "start_time": "2023-11-24T02:38:15.172Z"
   },
   {
    "duration": 7,
    "start_time": "2023-11-24T02:38:15.181Z"
   },
   {
    "duration": 10,
    "start_time": "2023-11-24T02:38:15.189Z"
   },
   {
    "duration": 148,
    "start_time": "2023-11-24T02:38:15.214Z"
   },
   {
    "duration": 11,
    "start_time": "2023-11-24T02:38:15.364Z"
   },
   {
    "duration": 44,
    "start_time": "2023-11-24T02:38:15.376Z"
   },
   {
    "duration": 5,
    "start_time": "2023-11-24T02:38:15.422Z"
   },
   {
    "duration": 148,
    "start_time": "2023-11-24T02:38:15.429Z"
   },
   {
    "duration": 0,
    "start_time": "2023-11-24T02:38:15.578Z"
   },
   {
    "duration": 0,
    "start_time": "2023-11-24T02:38:15.580Z"
   },
   {
    "duration": 0,
    "start_time": "2023-11-24T02:38:15.581Z"
   },
   {
    "duration": 0,
    "start_time": "2023-11-24T02:38:15.582Z"
   },
   {
    "duration": 0,
    "start_time": "2023-11-24T02:38:15.583Z"
   },
   {
    "duration": 2,
    "start_time": "2023-11-24T02:39:28.840Z"
   },
   {
    "duration": 5,
    "start_time": "2023-11-24T02:39:35.054Z"
   },
   {
    "duration": 6,
    "start_time": "2023-11-24T02:39:49.219Z"
   },
   {
    "duration": 30,
    "start_time": "2023-11-24T02:39:49.227Z"
   },
   {
    "duration": 14,
    "start_time": "2023-11-24T02:39:49.259Z"
   },
   {
    "duration": 11,
    "start_time": "2023-11-24T02:39:49.274Z"
   },
   {
    "duration": 30,
    "start_time": "2023-11-24T02:39:49.287Z"
   },
   {
    "duration": 6,
    "start_time": "2023-11-24T02:39:49.318Z"
   },
   {
    "duration": 7,
    "start_time": "2023-11-24T02:39:49.326Z"
   },
   {
    "duration": 248,
    "start_time": "2023-11-24T02:39:49.335Z"
   },
   {
    "duration": 5,
    "start_time": "2023-11-24T02:39:49.585Z"
   },
   {
    "duration": 20,
    "start_time": "2023-11-24T02:39:49.592Z"
   },
   {
    "duration": 144,
    "start_time": "2023-11-24T02:39:49.614Z"
   },
   {
    "duration": 92,
    "start_time": "2023-11-24T02:39:49.760Z"
   },
   {
    "duration": 159,
    "start_time": "2023-11-24T02:39:49.853Z"
   },
   {
    "duration": 189,
    "start_time": "2023-11-24T02:39:50.015Z"
   },
   {
    "duration": 159,
    "start_time": "2023-11-24T02:39:50.205Z"
   },
   {
    "duration": 107,
    "start_time": "2023-11-24T02:39:50.365Z"
   },
   {
    "duration": 40,
    "start_time": "2023-11-24T02:39:50.474Z"
   },
   {
    "duration": 145,
    "start_time": "2023-11-24T02:39:50.516Z"
   },
   {
    "duration": 8,
    "start_time": "2023-11-24T02:39:50.663Z"
   },
   {
    "duration": 6,
    "start_time": "2023-11-24T02:39:50.672Z"
   },
   {
    "duration": 12,
    "start_time": "2023-11-24T02:39:50.679Z"
   },
   {
    "duration": 157,
    "start_time": "2023-11-24T02:39:50.693Z"
   },
   {
    "duration": 12,
    "start_time": "2023-11-24T02:39:50.851Z"
   },
   {
    "duration": 49,
    "start_time": "2023-11-24T02:39:50.865Z"
   },
   {
    "duration": 5,
    "start_time": "2023-11-24T02:39:50.916Z"
   },
   {
    "duration": 10,
    "start_time": "2023-11-24T02:39:50.923Z"
   },
   {
    "duration": 6,
    "start_time": "2023-11-24T02:39:50.935Z"
   },
   {
    "duration": 85775,
    "start_time": "2023-11-24T02:39:50.943Z"
   },
   {
    "duration": 1981,
    "start_time": "2023-11-24T02:44:24.133Z"
   },
   {
    "duration": 30,
    "start_time": "2023-11-24T02:44:26.116Z"
   },
   {
    "duration": 91,
    "start_time": "2023-11-24T02:44:26.148Z"
   },
   {
    "duration": 11,
    "start_time": "2023-11-24T02:44:26.241Z"
   },
   {
    "duration": 29,
    "start_time": "2023-11-24T02:44:26.254Z"
   },
   {
    "duration": 7,
    "start_time": "2023-11-24T02:44:26.284Z"
   },
   {
    "duration": 24,
    "start_time": "2023-11-24T02:44:26.292Z"
   },
   {
    "duration": 259,
    "start_time": "2023-11-24T02:44:26.318Z"
   },
   {
    "duration": 6,
    "start_time": "2023-11-24T02:44:26.578Z"
   },
   {
    "duration": 8,
    "start_time": "2023-11-24T02:44:26.586Z"
   },
   {
    "duration": 151,
    "start_time": "2023-11-24T02:44:26.596Z"
   },
   {
    "duration": 101,
    "start_time": "2023-11-24T02:44:26.748Z"
   },
   {
    "duration": 162,
    "start_time": "2023-11-24T02:44:26.851Z"
   },
   {
    "duration": 109,
    "start_time": "2023-11-24T02:44:27.016Z"
   },
   {
    "duration": 160,
    "start_time": "2023-11-24T02:44:27.126Z"
   },
   {
    "duration": 101,
    "start_time": "2023-11-24T02:44:27.288Z"
   },
   {
    "duration": 37,
    "start_time": "2023-11-24T02:44:27.391Z"
   },
   {
    "duration": 143,
    "start_time": "2023-11-24T02:44:27.429Z"
   },
   {
    "duration": 8,
    "start_time": "2023-11-24T02:44:27.573Z"
   },
   {
    "duration": 6,
    "start_time": "2023-11-24T02:44:27.583Z"
   },
   {
    "duration": 23,
    "start_time": "2023-11-24T02:44:27.591Z"
   },
   {
    "duration": 142,
    "start_time": "2023-11-24T02:44:27.616Z"
   },
   {
    "duration": 11,
    "start_time": "2023-11-24T02:44:27.760Z"
   },
   {
    "duration": 53,
    "start_time": "2023-11-24T02:44:27.772Z"
   },
   {
    "duration": 6,
    "start_time": "2023-11-24T02:44:27.826Z"
   },
   {
    "duration": 5,
    "start_time": "2023-11-24T02:44:27.833Z"
   },
   {
    "duration": 5,
    "start_time": "2023-11-24T02:44:27.839Z"
   },
   {
    "duration": 87174,
    "start_time": "2023-11-24T02:44:27.846Z"
   },
   {
    "duration": 2126,
    "start_time": "2023-11-24T13:58:50.840Z"
   },
   {
    "duration": 63,
    "start_time": "2023-11-24T13:58:52.968Z"
   },
   {
    "duration": 92,
    "start_time": "2023-11-24T13:58:53.033Z"
   },
   {
    "duration": 12,
    "start_time": "2023-11-24T13:58:53.127Z"
   },
   {
    "duration": 27,
    "start_time": "2023-11-24T13:58:53.141Z"
   },
   {
    "duration": 6,
    "start_time": "2023-11-24T13:58:53.170Z"
   },
   {
    "duration": 15,
    "start_time": "2023-11-24T13:58:53.177Z"
   },
   {
    "duration": 286,
    "start_time": "2023-11-24T13:58:53.193Z"
   },
   {
    "duration": 5,
    "start_time": "2023-11-24T13:58:53.481Z"
   },
   {
    "duration": 21,
    "start_time": "2023-11-24T13:58:53.487Z"
   },
   {
    "duration": 141,
    "start_time": "2023-11-24T13:58:53.509Z"
   },
   {
    "duration": 101,
    "start_time": "2023-11-24T13:58:53.651Z"
   },
   {
    "duration": 162,
    "start_time": "2023-11-24T13:58:53.753Z"
   },
   {
    "duration": 115,
    "start_time": "2023-11-24T13:58:53.918Z"
   },
   {
    "duration": 158,
    "start_time": "2023-11-24T13:58:54.034Z"
   },
   {
    "duration": 97,
    "start_time": "2023-11-24T13:58:54.193Z"
   },
   {
    "duration": 37,
    "start_time": "2023-11-24T13:58:54.291Z"
   },
   {
    "duration": 147,
    "start_time": "2023-11-24T13:58:54.329Z"
   },
   {
    "duration": 8,
    "start_time": "2023-11-24T13:58:54.479Z"
   },
   {
    "duration": 21,
    "start_time": "2023-11-24T13:58:54.489Z"
   },
   {
    "duration": 18,
    "start_time": "2023-11-24T13:58:54.514Z"
   },
   {
    "duration": 158,
    "start_time": "2023-11-24T13:58:54.534Z"
   },
   {
    "duration": 12,
    "start_time": "2023-11-24T13:58:54.694Z"
   },
   {
    "duration": 43,
    "start_time": "2023-11-24T13:58:54.707Z"
   },
   {
    "duration": 6,
    "start_time": "2023-11-24T13:58:54.752Z"
   },
   {
    "duration": 19,
    "start_time": "2023-11-24T13:58:54.759Z"
   },
   {
    "duration": 19,
    "start_time": "2023-11-24T13:58:54.779Z"
   },
   {
    "duration": 90921,
    "start_time": "2023-11-24T13:58:54.800Z"
   },
   {
    "duration": 702297,
    "start_time": "2023-11-24T14:00:25.723Z"
   },
   {
    "duration": 95884,
    "start_time": "2023-11-24T14:12:08.021Z"
   },
   {
    "duration": 1893,
    "start_time": "2023-11-24T14:18:10.203Z"
   },
   {
    "duration": 33,
    "start_time": "2023-11-24T14:18:12.098Z"
   },
   {
    "duration": 96,
    "start_time": "2023-11-24T14:18:12.133Z"
   },
   {
    "duration": 11,
    "start_time": "2023-11-24T14:18:12.231Z"
   },
   {
    "duration": 24,
    "start_time": "2023-11-24T14:18:12.244Z"
   },
   {
    "duration": 6,
    "start_time": "2023-11-24T14:18:12.269Z"
   },
   {
    "duration": 10,
    "start_time": "2023-11-24T14:18:12.277Z"
   },
   {
    "duration": 285,
    "start_time": "2023-11-24T14:18:12.289Z"
   },
   {
    "duration": 6,
    "start_time": "2023-11-24T14:18:12.576Z"
   },
   {
    "duration": 20,
    "start_time": "2023-11-24T14:18:12.584Z"
   },
   {
    "duration": 151,
    "start_time": "2023-11-24T14:18:12.606Z"
   },
   {
    "duration": 100,
    "start_time": "2023-11-24T14:18:12.759Z"
   },
   {
    "duration": 176,
    "start_time": "2023-11-24T14:18:12.860Z"
   },
   {
    "duration": 122,
    "start_time": "2023-11-24T14:18:13.038Z"
   },
   {
    "duration": 200,
    "start_time": "2023-11-24T14:18:13.161Z"
   },
   {
    "duration": 112,
    "start_time": "2023-11-24T14:18:13.363Z"
   },
   {
    "duration": 24,
    "start_time": "2023-11-24T14:18:13.477Z"
   },
   {
    "duration": 157,
    "start_time": "2023-11-24T14:18:13.502Z"
   },
   {
    "duration": 8,
    "start_time": "2023-11-24T14:18:13.661Z"
   },
   {
    "duration": 16,
    "start_time": "2023-11-24T14:18:13.671Z"
   },
   {
    "duration": 12,
    "start_time": "2023-11-24T14:18:13.688Z"
   },
   {
    "duration": 160,
    "start_time": "2023-11-24T14:18:13.702Z"
   },
   {
    "duration": 12,
    "start_time": "2023-11-24T14:18:13.863Z"
   },
   {
    "duration": 53,
    "start_time": "2023-11-24T14:18:13.877Z"
   },
   {
    "duration": 5,
    "start_time": "2023-11-24T14:18:13.932Z"
   },
   {
    "duration": 30,
    "start_time": "2023-11-24T14:18:13.938Z"
   },
   {
    "duration": 18,
    "start_time": "2023-11-24T14:18:13.969Z"
   },
   {
    "duration": 10339,
    "start_time": "2023-11-24T14:18:13.990Z"
   },
   {
    "duration": 80599,
    "start_time": "2023-11-24T14:18:24.332Z"
   },
   {
    "duration": 9844,
    "start_time": "2023-11-24T14:19:44.932Z"
   },
   {
    "duration": 124639,
    "start_time": "2023-11-24T14:19:54.778Z"
   },
   {
    "duration": 116373,
    "start_time": "2023-11-24T14:28:33.148Z"
   },
   {
    "duration": 81047,
    "start_time": "2023-11-24T14:30:50.976Z"
   },
   {
    "duration": 80667,
    "start_time": "2023-11-24T14:42:18.566Z"
   },
   {
    "duration": 84806,
    "start_time": "2023-11-24T14:43:58.414Z"
   },
   {
    "duration": 145,
    "start_time": "2023-11-24T17:28:58.238Z"
   },
   {
    "duration": 13,
    "start_time": "2023-11-24T17:29:23.591Z"
   },
   {
    "duration": 8,
    "start_time": "2023-11-24T17:29:37.827Z"
   },
   {
    "duration": 11,
    "start_time": "2023-11-24T17:30:34.863Z"
   },
   {
    "duration": 3,
    "start_time": "2023-11-24T17:30:44.146Z"
   },
   {
    "duration": 12,
    "start_time": "2023-11-24T17:30:45.264Z"
   },
   {
    "duration": 17,
    "start_time": "2023-11-24T17:30:56.621Z"
   },
   {
    "duration": 5,
    "start_time": "2023-11-24T17:31:08.658Z"
   },
   {
    "duration": 3,
    "start_time": "2023-11-24T18:01:42.414Z"
   },
   {
    "duration": 15,
    "start_time": "2023-11-24T18:01:48.338Z"
   },
   {
    "duration": 3,
    "start_time": "2023-11-24T18:02:06.663Z"
   },
   {
    "duration": 2,
    "start_time": "2023-11-24T18:02:09.911Z"
   },
   {
    "duration": 6,
    "start_time": "2023-11-24T18:02:14.065Z"
   },
   {
    "duration": 14,
    "start_time": "2023-11-24T18:02:37.673Z"
   },
   {
    "duration": 15,
    "start_time": "2023-11-24T18:11:43.995Z"
   },
   {
    "duration": 4,
    "start_time": "2023-11-24T18:12:03.928Z"
   },
   {
    "duration": 3,
    "start_time": "2023-11-24T18:13:31.135Z"
   },
   {
    "duration": 15,
    "start_time": "2023-11-24T18:13:32.888Z"
   },
   {
    "duration": 4,
    "start_time": "2023-11-24T18:13:50.856Z"
   },
   {
    "duration": 6,
    "start_time": "2023-11-24T18:13:56.132Z"
   },
   {
    "duration": 2,
    "start_time": "2023-11-24T18:14:19.589Z"
   },
   {
    "duration": 4,
    "start_time": "2023-11-24T19:53:46.130Z"
   },
   {
    "duration": 20,
    "start_time": "2023-11-24T19:53:47.055Z"
   },
   {
    "duration": 94,
    "start_time": "2023-11-24T19:55:24.545Z"
   },
   {
    "duration": 3,
    "start_time": "2023-11-24T19:55:28.355Z"
   },
   {
    "duration": 15,
    "start_time": "2023-11-24T19:55:31.757Z"
   },
   {
    "duration": 87,
    "start_time": "2023-11-24T19:55:40.034Z"
   },
   {
    "duration": 2,
    "start_time": "2023-11-24T19:57:47.506Z"
   },
   {
    "duration": 5,
    "start_time": "2023-11-24T19:57:51.920Z"
   },
   {
    "duration": 2,
    "start_time": "2023-11-24T19:58:24.710Z"
   },
   {
    "duration": 11,
    "start_time": "2023-11-24T19:58:29.135Z"
   },
   {
    "duration": 3,
    "start_time": "2023-11-24T19:59:03.307Z"
   },
   {
    "duration": 12,
    "start_time": "2023-11-24T19:59:04.568Z"
   },
   {
    "duration": 11,
    "start_time": "2023-11-24T19:59:09.243Z"
   },
   {
    "duration": 2,
    "start_time": "2023-11-24T19:59:12.061Z"
   },
   {
    "duration": 82,
    "start_time": "2023-11-24T19:59:21.163Z"
   },
   {
    "duration": 87,
    "start_time": "2023-11-24T19:59:22.751Z"
   },
   {
    "duration": 10,
    "start_time": "2023-11-24T19:59:45.699Z"
   },
   {
    "duration": 9,
    "start_time": "2023-11-24T20:00:01.447Z"
   },
   {
    "duration": 2,
    "start_time": "2023-11-24T20:00:07.239Z"
   },
   {
    "duration": 4,
    "start_time": "2023-11-24T20:00:11.090Z"
   },
   {
    "duration": 4,
    "start_time": "2023-11-24T20:00:54.965Z"
   },
   {
    "duration": 11,
    "start_time": "2023-11-24T20:01:00.125Z"
   },
   {
    "duration": 10,
    "start_time": "2023-11-24T20:01:02.295Z"
   },
   {
    "duration": 4,
    "start_time": "2023-11-24T20:01:06.126Z"
   },
   {
    "duration": 4,
    "start_time": "2023-11-24T20:03:28.278Z"
   },
   {
    "duration": 85,
    "start_time": "2023-11-24T20:04:55.130Z"
   },
   {
    "duration": 85,
    "start_time": "2023-11-24T20:05:38.606Z"
   },
   {
    "duration": 88,
    "start_time": "2023-11-24T20:07:53.922Z"
   },
   {
    "duration": 3,
    "start_time": "2023-11-24T20:08:11.656Z"
   },
   {
    "duration": 4,
    "start_time": "2023-11-24T20:08:14.238Z"
   },
   {
    "duration": 3,
    "start_time": "2023-11-24T20:09:04.508Z"
   },
   {
    "duration": 4,
    "start_time": "2023-11-24T20:09:16.426Z"
   },
   {
    "duration": 4,
    "start_time": "2023-11-24T20:09:37.402Z"
   },
   {
    "duration": 4,
    "start_time": "2023-11-24T20:09:38.688Z"
   },
   {
    "duration": 3,
    "start_time": "2023-11-24T20:13:06.998Z"
   },
   {
    "duration": 4,
    "start_time": "2023-11-24T20:13:07.791Z"
   },
   {
    "duration": 10,
    "start_time": "2023-11-24T20:13:10.628Z"
   },
   {
    "duration": 209,
    "start_time": "2023-11-24T20:13:25.245Z"
   },
   {
    "duration": 12,
    "start_time": "2023-11-24T20:13:33.258Z"
   },
   {
    "duration": 1122,
    "start_time": "2023-11-24T20:13:36.468Z"
   },
   {
    "duration": 1028,
    "start_time": "2023-11-24T20:13:51.992Z"
   },
   {
    "duration": 1114,
    "start_time": "2023-11-24T20:14:00.663Z"
   },
   {
    "duration": 1069,
    "start_time": "2023-11-24T20:14:12.950Z"
   },
   {
    "duration": 1145,
    "start_time": "2023-11-24T20:14:38.702Z"
   },
   {
    "duration": 1078,
    "start_time": "2023-11-24T20:14:48.689Z"
   },
   {
    "duration": 312,
    "start_time": "2023-11-24T20:16:42.158Z"
   },
   {
    "duration": 328,
    "start_time": "2023-11-24T20:17:01.777Z"
   },
   {
    "duration": 629,
    "start_time": "2023-11-24T20:17:43.481Z"
   },
   {
    "duration": 7,
    "start_time": "2023-11-24T21:15:45.356Z"
   },
   {
    "duration": 3,
    "start_time": "2023-11-24T21:15:45.848Z"
   },
   {
    "duration": 5,
    "start_time": "2023-11-24T21:15:46.409Z"
   },
   {
    "duration": 89,
    "start_time": "2023-11-24T21:16:11.048Z"
   },
   {
    "duration": 3,
    "start_time": "2023-11-24T21:16:43.167Z"
   },
   {
    "duration": 81,
    "start_time": "2023-11-24T21:16:48.820Z"
   },
   {
    "duration": 4,
    "start_time": "2023-11-24T21:16:52.740Z"
   },
   {
    "duration": 11,
    "start_time": "2023-11-24T21:16:59.614Z"
   },
   {
    "duration": 3,
    "start_time": "2023-11-24T21:17:04.074Z"
   },
   {
    "duration": 15,
    "start_time": "2023-11-24T21:17:39.807Z"
   },
   {
    "duration": 10,
    "start_time": "2023-11-24T21:17:49.258Z"
   },
   {
    "duration": 75,
    "start_time": "2023-11-24T21:18:03.670Z"
   },
   {
    "duration": 5,
    "start_time": "2023-11-24T21:18:25.311Z"
   },
   {
    "duration": 5,
    "start_time": "2023-11-24T21:19:16.811Z"
   },
   {
    "duration": 165,
    "start_time": "2023-11-24T21:19:23.025Z"
   },
   {
    "duration": 9,
    "start_time": "2023-11-24T21:20:12.320Z"
   },
   {
    "duration": 42,
    "start_time": "2023-11-24T21:20:12.331Z"
   },
   {
    "duration": 21,
    "start_time": "2023-11-24T21:20:12.376Z"
   },
   {
    "duration": 26,
    "start_time": "2023-11-24T21:20:12.399Z"
   },
   {
    "duration": 38,
    "start_time": "2023-11-24T21:20:12.428Z"
   },
   {
    "duration": 9,
    "start_time": "2023-11-24T21:20:12.468Z"
   },
   {
    "duration": 13,
    "start_time": "2023-11-24T21:20:12.479Z"
   },
   {
    "duration": 238,
    "start_time": "2023-11-24T21:20:12.494Z"
   },
   {
    "duration": 6,
    "start_time": "2023-11-24T21:20:12.733Z"
   },
   {
    "duration": 17,
    "start_time": "2023-11-24T21:20:12.741Z"
   },
   {
    "duration": 153,
    "start_time": "2023-11-24T21:20:12.760Z"
   },
   {
    "duration": 114,
    "start_time": "2023-11-24T21:20:12.915Z"
   },
   {
    "duration": 184,
    "start_time": "2023-11-24T21:20:13.031Z"
   },
   {
    "duration": 179,
    "start_time": "2023-11-24T21:20:13.220Z"
   },
   {
    "duration": 175,
    "start_time": "2023-11-24T21:20:13.401Z"
   },
   {
    "duration": 149,
    "start_time": "2023-11-24T21:20:13.578Z"
   },
   {
    "duration": 30,
    "start_time": "2023-11-24T21:20:13.729Z"
   },
   {
    "duration": 162,
    "start_time": "2023-11-24T21:20:13.761Z"
   },
   {
    "duration": 8,
    "start_time": "2023-11-24T21:20:13.925Z"
   },
   {
    "duration": 5,
    "start_time": "2023-11-24T21:20:13.935Z"
   },
   {
    "duration": 11,
    "start_time": "2023-11-24T21:20:13.942Z"
   },
   {
    "duration": 174,
    "start_time": "2023-11-24T21:20:13.955Z"
   },
   {
    "duration": 12,
    "start_time": "2023-11-24T21:20:14.131Z"
   },
   {
    "duration": 35,
    "start_time": "2023-11-24T21:20:14.144Z"
   },
   {
    "duration": 33,
    "start_time": "2023-11-24T21:20:14.181Z"
   },
   {
    "duration": 9,
    "start_time": "2023-11-24T21:20:14.215Z"
   },
   {
    "duration": 13,
    "start_time": "2023-11-24T21:20:14.226Z"
   },
   {
    "duration": 28,
    "start_time": "2023-11-24T21:20:14.241Z"
   },
   {
    "duration": 12468,
    "start_time": "2023-11-24T21:20:14.271Z"
   },
   {
    "duration": 0,
    "start_time": "2023-11-24T21:20:26.742Z"
   },
   {
    "duration": 0,
    "start_time": "2023-11-24T21:20:26.743Z"
   },
   {
    "duration": 0,
    "start_time": "2023-11-24T21:20:26.745Z"
   },
   {
    "duration": 0,
    "start_time": "2023-11-24T21:20:26.747Z"
   },
   {
    "duration": 0,
    "start_time": "2023-11-24T21:20:26.748Z"
   },
   {
    "duration": 758,
    "start_time": "2023-11-24T21:21:12.664Z"
   },
   {
    "duration": 10545,
    "start_time": "2023-11-24T21:21:51.862Z"
   },
   {
    "duration": 91,
    "start_time": "2023-11-24T21:24:39.206Z"
   },
   {
    "duration": 10889,
    "start_time": "2023-11-24T21:24:45.264Z"
   },
   {
    "duration": 26,
    "start_time": "2023-11-24T21:25:59.669Z"
   },
   {
    "duration": 10763,
    "start_time": "2023-11-24T21:26:08.091Z"
   },
   {
    "duration": 11142,
    "start_time": "2023-11-24T21:26:31.113Z"
   },
   {
    "duration": 11179,
    "start_time": "2023-11-24T21:27:00.840Z"
   },
   {
    "duration": 10855,
    "start_time": "2023-11-24T21:27:12.211Z"
   },
   {
    "duration": 10302,
    "start_time": "2023-11-24T21:27:24.042Z"
   },
   {
    "duration": 10637,
    "start_time": "2023-11-24T21:28:07.345Z"
   },
   {
    "duration": 9,
    "start_time": "2023-11-24T21:28:57.940Z"
   },
   {
    "duration": 5,
    "start_time": "2023-11-24T21:29:00.430Z"
   },
   {
    "duration": 71,
    "start_time": "2023-11-24T21:29:00.437Z"
   },
   {
    "duration": 16,
    "start_time": "2023-11-24T21:29:00.510Z"
   },
   {
    "duration": 39,
    "start_time": "2023-11-24T21:29:00.527Z"
   },
   {
    "duration": 68,
    "start_time": "2023-11-24T21:29:00.568Z"
   },
   {
    "duration": 24,
    "start_time": "2023-11-24T21:29:00.638Z"
   },
   {
    "duration": 30,
    "start_time": "2023-11-24T21:29:00.664Z"
   },
   {
    "duration": 262,
    "start_time": "2023-11-24T21:29:00.696Z"
   },
   {
    "duration": 6,
    "start_time": "2023-11-24T21:29:00.960Z"
   },
   {
    "duration": 39,
    "start_time": "2023-11-24T21:29:00.967Z"
   },
   {
    "duration": 190,
    "start_time": "2023-11-24T21:29:01.008Z"
   },
   {
    "duration": 93,
    "start_time": "2023-11-24T21:29:01.199Z"
   },
   {
    "duration": 185,
    "start_time": "2023-11-24T21:29:01.294Z"
   },
   {
    "duration": 110,
    "start_time": "2023-11-24T21:29:01.482Z"
   },
   {
    "duration": 164,
    "start_time": "2023-11-24T21:29:01.593Z"
   },
   {
    "duration": 101,
    "start_time": "2023-11-24T21:29:01.758Z"
   },
   {
    "duration": 23,
    "start_time": "2023-11-24T21:29:01.861Z"
   },
   {
    "duration": 150,
    "start_time": "2023-11-24T21:29:01.885Z"
   },
   {
    "duration": 8,
    "start_time": "2023-11-24T21:29:02.036Z"
   },
   {
    "duration": 38,
    "start_time": "2023-11-24T21:29:02.046Z"
   },
   {
    "duration": 20,
    "start_time": "2023-11-24T21:29:02.086Z"
   },
   {
    "duration": 150,
    "start_time": "2023-11-24T21:29:02.107Z"
   },
   {
    "duration": 11,
    "start_time": "2023-11-24T21:29:02.259Z"
   },
   {
    "duration": 64,
    "start_time": "2023-11-24T21:29:02.272Z"
   },
   {
    "duration": 7,
    "start_time": "2023-11-24T21:29:02.337Z"
   },
   {
    "duration": 26,
    "start_time": "2023-11-24T21:29:02.346Z"
   },
   {
    "duration": 9,
    "start_time": "2023-11-24T21:29:02.373Z"
   },
   {
    "duration": 15,
    "start_time": "2023-11-24T21:29:02.383Z"
   },
   {
    "duration": 10813,
    "start_time": "2023-11-24T21:29:02.400Z"
   },
   {
    "duration": 11,
    "start_time": "2023-11-24T21:29:13.215Z"
   },
   {
    "duration": 0,
    "start_time": "2023-11-24T21:29:13.228Z"
   },
   {
    "duration": 0,
    "start_time": "2023-11-24T21:29:13.230Z"
   },
   {
    "duration": 0,
    "start_time": "2023-11-24T21:29:13.231Z"
   },
   {
    "duration": 0,
    "start_time": "2023-11-24T21:29:13.232Z"
   },
   {
    "duration": 0,
    "start_time": "2023-11-24T21:29:13.234Z"
   },
   {
    "duration": 7,
    "start_time": "2023-11-24T21:30:30.495Z"
   },
   {
    "duration": 60,
    "start_time": "2023-11-24T21:30:30.504Z"
   },
   {
    "duration": 16,
    "start_time": "2023-11-24T21:30:30.565Z"
   },
   {
    "duration": 53,
    "start_time": "2023-11-24T21:30:30.583Z"
   },
   {
    "duration": 51,
    "start_time": "2023-11-24T21:30:30.638Z"
   },
   {
    "duration": 28,
    "start_time": "2023-11-24T21:30:30.691Z"
   },
   {
    "duration": 34,
    "start_time": "2023-11-24T21:30:30.721Z"
   },
   {
    "duration": 244,
    "start_time": "2023-11-24T21:30:30.757Z"
   },
   {
    "duration": 10,
    "start_time": "2023-11-24T21:30:31.003Z"
   },
   {
    "duration": 61,
    "start_time": "2023-11-24T21:30:31.016Z"
   },
   {
    "duration": 181,
    "start_time": "2023-11-24T21:30:31.079Z"
   },
   {
    "duration": 98,
    "start_time": "2023-11-24T21:30:31.262Z"
   },
   {
    "duration": 164,
    "start_time": "2023-11-24T21:30:31.363Z"
   },
   {
    "duration": 112,
    "start_time": "2023-11-24T21:30:31.529Z"
   },
   {
    "duration": 147,
    "start_time": "2023-11-24T21:30:31.642Z"
   },
   {
    "duration": 103,
    "start_time": "2023-11-24T21:30:31.791Z"
   },
   {
    "duration": 32,
    "start_time": "2023-11-24T21:30:31.895Z"
   },
   {
    "duration": 162,
    "start_time": "2023-11-24T21:30:31.929Z"
   },
   {
    "duration": 7,
    "start_time": "2023-11-24T21:30:32.093Z"
   },
   {
    "duration": 34,
    "start_time": "2023-11-24T21:30:32.102Z"
   },
   {
    "duration": 32,
    "start_time": "2023-11-24T21:30:32.138Z"
   },
   {
    "duration": 151,
    "start_time": "2023-11-24T21:30:32.171Z"
   },
   {
    "duration": 11,
    "start_time": "2023-11-24T21:30:32.324Z"
   },
   {
    "duration": 68,
    "start_time": "2023-11-24T21:30:32.337Z"
   },
   {
    "duration": 6,
    "start_time": "2023-11-24T21:30:32.406Z"
   },
   {
    "duration": 30,
    "start_time": "2023-11-24T21:30:32.414Z"
   },
   {
    "duration": 40,
    "start_time": "2023-11-24T21:30:32.446Z"
   },
   {
    "duration": 15,
    "start_time": "2023-11-24T21:30:32.489Z"
   },
   {
    "duration": 10831,
    "start_time": "2023-11-24T21:30:32.506Z"
   },
   {
    "duration": 11,
    "start_time": "2023-11-24T21:30:43.338Z"
   },
   {
    "duration": 0,
    "start_time": "2023-11-24T21:30:43.351Z"
   },
   {
    "duration": 0,
    "start_time": "2023-11-24T21:30:43.353Z"
   },
   {
    "duration": 0,
    "start_time": "2023-11-24T21:30:43.354Z"
   },
   {
    "duration": 0,
    "start_time": "2023-11-24T21:30:43.355Z"
   },
   {
    "duration": 0,
    "start_time": "2023-11-24T21:30:43.356Z"
   },
   {
    "duration": 4638,
    "start_time": "2023-11-24T21:31:32.379Z"
   },
   {
    "duration": 9710,
    "start_time": "2023-11-24T21:49:25.364Z"
   },
   {
    "duration": 15464,
    "start_time": "2023-11-24T21:49:42.272Z"
   },
   {
    "duration": 14999,
    "start_time": "2023-11-24T21:50:01.230Z"
   },
   {
    "duration": 14867,
    "start_time": "2023-11-24T21:50:42.631Z"
   },
   {
    "duration": 47523,
    "start_time": "2023-11-24T21:51:03.530Z"
   },
   {
    "duration": 19530,
    "start_time": "2023-11-24T21:52:41.789Z"
   },
   {
    "duration": 20698,
    "start_time": "2023-11-24T21:56:34.871Z"
   },
   {
    "duration": 10749,
    "start_time": "2023-11-24T21:57:03.575Z"
   },
   {
    "duration": 11362,
    "start_time": "2023-11-24T22:01:51.916Z"
   },
   {
    "duration": 10955,
    "start_time": "2023-11-24T22:02:06.987Z"
   },
   {
    "duration": 103,
    "start_time": "2023-11-24T22:28:27.504Z"
   },
   {
    "duration": 90,
    "start_time": "2023-11-24T22:28:32.640Z"
   },
   {
    "duration": 22,
    "start_time": "2023-11-24T22:28:37.150Z"
   },
   {
    "duration": 22,
    "start_time": "2023-11-24T22:28:55.399Z"
   },
   {
    "duration": 25,
    "start_time": "2023-11-24T22:30:31.107Z"
   },
   {
    "duration": 191,
    "start_time": "2023-11-24T22:30:48.045Z"
   },
   {
    "duration": 207,
    "start_time": "2023-11-24T22:30:59.330Z"
   },
   {
    "duration": 501339,
    "start_time": "2023-11-24T22:31:16.913Z"
   },
   {
    "duration": 21,
    "start_time": "2023-11-25T01:23:11.688Z"
   },
   {
    "duration": 1016054,
    "start_time": "2023-11-25T01:23:22.493Z"
   },
   {
    "duration": 12054,
    "start_time": "2023-11-25T01:42:48.323Z"
   },
   {
    "duration": 11121,
    "start_time": "2023-11-25T01:47:45.645Z"
   },
   {
    "duration": 10922,
    "start_time": "2023-11-25T01:48:01.904Z"
   },
   {
    "duration": 11185,
    "start_time": "2023-11-25T01:48:27.953Z"
   },
   {
    "duration": 11437,
    "start_time": "2023-11-25T01:49:43.201Z"
   },
   {
    "duration": 10,
    "start_time": "2023-11-25T01:53:37.202Z"
   },
   {
    "duration": 3,
    "start_time": "2023-11-25T01:53:48.489Z"
   },
   {
    "duration": 10,
    "start_time": "2023-11-25T01:54:14.573Z"
   },
   {
    "duration": 3,
    "start_time": "2023-11-25T01:54:28.516Z"
   },
   {
    "duration": 4,
    "start_time": "2023-11-25T01:54:33.702Z"
   },
   {
    "duration": 4,
    "start_time": "2023-11-25T01:54:36.632Z"
   },
   {
    "duration": 81,
    "start_time": "2023-11-25T01:54:50.654Z"
   },
   {
    "duration": 3,
    "start_time": "2023-11-25T01:54:56.167Z"
   },
   {
    "duration": 4,
    "start_time": "2023-11-25T01:54:58.848Z"
   },
   {
    "duration": 3,
    "start_time": "2023-11-25T01:55:07.623Z"
   },
   {
    "duration": 82,
    "start_time": "2023-11-25T01:55:08.685Z"
   },
   {
    "duration": 3,
    "start_time": "2023-11-25T01:55:11.591Z"
   },
   {
    "duration": 3,
    "start_time": "2023-11-25T01:55:14.977Z"
   },
   {
    "duration": 3,
    "start_time": "2023-11-25T01:55:44.257Z"
   },
   {
    "duration": 3,
    "start_time": "2023-11-25T01:55:48.643Z"
   },
   {
    "duration": 95,
    "start_time": "2023-11-25T02:13:49.886Z"
   },
   {
    "duration": 20,
    "start_time": "2023-11-25T02:13:54.979Z"
   },
   {
    "duration": 56431,
    "start_time": "2023-11-25T02:14:07.148Z"
   },
   {
    "duration": 55800,
    "start_time": "2023-11-25T02:19:59.267Z"
   },
   {
    "duration": 55723,
    "start_time": "2023-11-25T02:22:24.197Z"
   },
   {
    "duration": 55507,
    "start_time": "2023-11-25T02:23:30.330Z"
   },
   {
    "duration": 248,
    "start_time": "2023-11-25T02:59:53.391Z"
   },
   {
    "duration": 1773,
    "start_time": "2023-11-25T03:15:24.755Z"
   },
   {
    "duration": 29,
    "start_time": "2023-11-25T03:15:26.530Z"
   },
   {
    "duration": 88,
    "start_time": "2023-11-25T03:15:26.561Z"
   },
   {
    "duration": 12,
    "start_time": "2023-11-25T03:15:26.651Z"
   },
   {
    "duration": 23,
    "start_time": "2023-11-25T03:15:26.664Z"
   },
   {
    "duration": 6,
    "start_time": "2023-11-25T03:15:26.688Z"
   },
   {
    "duration": 22,
    "start_time": "2023-11-25T03:15:26.695Z"
   },
   {
    "duration": 250,
    "start_time": "2023-11-25T03:15:26.718Z"
   },
   {
    "duration": 6,
    "start_time": "2023-11-25T03:15:26.969Z"
   },
   {
    "duration": 11,
    "start_time": "2023-11-25T03:15:26.977Z"
   },
   {
    "duration": 145,
    "start_time": "2023-11-25T03:15:26.990Z"
   },
   {
    "duration": 91,
    "start_time": "2023-11-25T03:15:27.136Z"
   },
   {
    "duration": 164,
    "start_time": "2023-11-25T03:15:27.228Z"
   },
   {
    "duration": 106,
    "start_time": "2023-11-25T03:15:27.394Z"
   },
   {
    "duration": 158,
    "start_time": "2023-11-25T03:15:27.502Z"
   },
   {
    "duration": 102,
    "start_time": "2023-11-25T03:15:27.661Z"
   },
   {
    "duration": 23,
    "start_time": "2023-11-25T03:15:27.764Z"
   },
   {
    "duration": 147,
    "start_time": "2023-11-25T03:15:27.788Z"
   },
   {
    "duration": 8,
    "start_time": "2023-11-25T03:15:27.937Z"
   },
   {
    "duration": 12,
    "start_time": "2023-11-25T03:15:27.946Z"
   },
   {
    "duration": 10,
    "start_time": "2023-11-25T03:15:27.959Z"
   },
   {
    "duration": 149,
    "start_time": "2023-11-25T03:15:27.970Z"
   },
   {
    "duration": 11,
    "start_time": "2023-11-25T03:15:28.120Z"
   },
   {
    "duration": 38,
    "start_time": "2023-11-25T03:15:28.132Z"
   },
   {
    "duration": 5,
    "start_time": "2023-11-25T03:15:28.172Z"
   },
   {
    "duration": 4,
    "start_time": "2023-11-25T03:15:28.179Z"
   },
   {
    "duration": 154,
    "start_time": "2023-11-25T03:15:28.185Z"
   },
   {
    "duration": 0,
    "start_time": "2023-11-25T03:15:28.341Z"
   },
   {
    "duration": 0,
    "start_time": "2023-11-25T03:15:28.342Z"
   },
   {
    "duration": 0,
    "start_time": "2023-11-25T03:15:28.343Z"
   },
   {
    "duration": 0,
    "start_time": "2023-11-25T03:15:28.345Z"
   },
   {
    "duration": 0,
    "start_time": "2023-11-25T03:15:28.346Z"
   },
   {
    "duration": 3,
    "start_time": "2023-11-25T03:18:47.408Z"
   },
   {
    "duration": 5,
    "start_time": "2023-11-25T03:18:48.111Z"
   },
   {
    "duration": 6,
    "start_time": "2023-11-25T03:18:50.023Z"
   },
   {
    "duration": 40,
    "start_time": "2023-11-25T03:18:50.030Z"
   },
   {
    "duration": 13,
    "start_time": "2023-11-25T03:18:50.072Z"
   },
   {
    "duration": 12,
    "start_time": "2023-11-25T03:18:50.086Z"
   },
   {
    "duration": 29,
    "start_time": "2023-11-25T03:18:50.100Z"
   },
   {
    "duration": 5,
    "start_time": "2023-11-25T03:18:50.131Z"
   },
   {
    "duration": 7,
    "start_time": "2023-11-25T03:18:50.138Z"
   },
   {
    "duration": 248,
    "start_time": "2023-11-25T03:18:50.146Z"
   },
   {
    "duration": 5,
    "start_time": "2023-11-25T03:18:50.395Z"
   },
   {
    "duration": 4,
    "start_time": "2023-11-25T03:18:50.413Z"
   },
   {
    "duration": 150,
    "start_time": "2023-11-25T03:18:50.418Z"
   },
   {
    "duration": 99,
    "start_time": "2023-11-25T03:18:50.569Z"
   },
   {
    "duration": 160,
    "start_time": "2023-11-25T03:18:50.670Z"
   },
   {
    "duration": 199,
    "start_time": "2023-11-25T03:18:50.832Z"
   },
   {
    "duration": 162,
    "start_time": "2023-11-25T03:18:51.033Z"
   },
   {
    "duration": 99,
    "start_time": "2023-11-25T03:18:51.197Z"
   },
   {
    "duration": 28,
    "start_time": "2023-11-25T03:18:51.298Z"
   },
   {
    "duration": 144,
    "start_time": "2023-11-25T03:18:51.328Z"
   },
   {
    "duration": 8,
    "start_time": "2023-11-25T03:18:51.474Z"
   },
   {
    "duration": 9,
    "start_time": "2023-11-25T03:18:51.483Z"
   },
   {
    "duration": 22,
    "start_time": "2023-11-25T03:18:51.494Z"
   },
   {
    "duration": 143,
    "start_time": "2023-11-25T03:18:51.517Z"
   },
   {
    "duration": 11,
    "start_time": "2023-11-25T03:18:51.662Z"
   },
   {
    "duration": 50,
    "start_time": "2023-11-25T03:18:51.675Z"
   },
   {
    "duration": 6,
    "start_time": "2023-11-25T03:18:51.727Z"
   },
   {
    "duration": 3,
    "start_time": "2023-11-25T03:18:51.735Z"
   },
   {
    "duration": 6,
    "start_time": "2023-11-25T03:18:51.739Z"
   },
   {
    "duration": 14,
    "start_time": "2023-11-25T03:18:51.747Z"
   },
   {
    "duration": 10269,
    "start_time": "2023-11-25T03:18:51.763Z"
   },
   {
    "duration": 909857,
    "start_time": "2023-11-25T03:19:02.034Z"
   },
   {
    "duration": 50613,
    "start_time": "2023-11-25T03:34:11.893Z"
   },
   {
    "duration": 1837,
    "start_time": "2023-11-25T03:55:31.043Z"
   },
   {
    "duration": 29,
    "start_time": "2023-11-25T03:55:32.882Z"
   },
   {
    "duration": 88,
    "start_time": "2023-11-25T03:55:32.913Z"
   },
   {
    "duration": 19,
    "start_time": "2023-11-25T03:55:33.003Z"
   },
   {
    "duration": 43,
    "start_time": "2023-11-25T03:55:33.024Z"
   },
   {
    "duration": 6,
    "start_time": "2023-11-25T03:55:33.068Z"
   },
   {
    "duration": 7,
    "start_time": "2023-11-25T03:55:33.076Z"
   },
   {
    "duration": 287,
    "start_time": "2023-11-25T03:55:33.084Z"
   },
   {
    "duration": 5,
    "start_time": "2023-11-25T03:55:33.373Z"
   },
   {
    "duration": 22,
    "start_time": "2023-11-25T03:55:33.380Z"
   },
   {
    "duration": 143,
    "start_time": "2023-11-25T03:55:33.403Z"
   },
   {
    "duration": 96,
    "start_time": "2023-11-25T03:55:33.547Z"
   },
   {
    "duration": 153,
    "start_time": "2023-11-25T03:55:33.644Z"
   },
   {
    "duration": 103,
    "start_time": "2023-11-25T03:55:33.800Z"
   },
   {
    "duration": 145,
    "start_time": "2023-11-25T03:55:33.913Z"
   },
   {
    "duration": 104,
    "start_time": "2023-11-25T03:55:34.060Z"
   },
   {
    "duration": 24,
    "start_time": "2023-11-25T03:55:34.165Z"
   },
   {
    "duration": 154,
    "start_time": "2023-11-25T03:55:34.190Z"
   },
   {
    "duration": 7,
    "start_time": "2023-11-25T03:55:34.346Z"
   },
   {
    "duration": 13,
    "start_time": "2023-11-25T03:55:34.355Z"
   },
   {
    "duration": 16,
    "start_time": "2023-11-25T03:55:34.369Z"
   },
   {
    "duration": 143,
    "start_time": "2023-11-25T03:55:34.386Z"
   },
   {
    "duration": 11,
    "start_time": "2023-11-25T03:55:34.531Z"
   },
   {
    "duration": 34,
    "start_time": "2023-11-25T03:55:34.544Z"
   },
   {
    "duration": 6,
    "start_time": "2023-11-25T03:55:34.580Z"
   },
   {
    "duration": 3,
    "start_time": "2023-11-25T03:55:34.613Z"
   },
   {
    "duration": 6,
    "start_time": "2023-11-25T03:55:34.617Z"
   },
   {
    "duration": 10,
    "start_time": "2023-11-25T03:55:34.624Z"
   },
   {
    "duration": 10497,
    "start_time": "2023-11-25T03:55:34.636Z"
   },
   {
    "duration": 902672,
    "start_time": "2023-11-25T03:55:45.135Z"
   },
   {
    "duration": 49470,
    "start_time": "2023-11-25T04:10:47.813Z"
   },
   {
    "duration": 4650292,
    "start_time": "2023-11-25T04:11:37.284Z"
   },
   {
    "duration": 6,
    "start_time": "2023-11-25T15:36:06.971Z"
   },
   {
    "duration": 59,
    "start_time": "2023-11-25T15:36:06.980Z"
   },
   {
    "duration": 15,
    "start_time": "2023-11-25T15:36:07.041Z"
   },
   {
    "duration": 17,
    "start_time": "2023-11-25T15:36:07.058Z"
   },
   {
    "duration": 186,
    "start_time": "2023-11-25T15:36:07.078Z"
   },
   {
    "duration": 23,
    "start_time": "2023-11-25T15:36:07.266Z"
   },
   {
    "duration": 14,
    "start_time": "2023-11-25T15:36:07.291Z"
   },
   {
    "duration": 252,
    "start_time": "2023-11-25T15:36:07.306Z"
   },
   {
    "duration": 6,
    "start_time": "2023-11-25T15:36:07.559Z"
   },
   {
    "duration": 13,
    "start_time": "2023-11-25T15:36:07.567Z"
   },
   {
    "duration": 145,
    "start_time": "2023-11-25T15:36:07.581Z"
   },
   {
    "duration": 111,
    "start_time": "2023-11-25T15:36:07.727Z"
   },
   {
    "duration": 175,
    "start_time": "2023-11-25T15:36:07.840Z"
   },
   {
    "duration": 120,
    "start_time": "2023-11-25T15:36:08.019Z"
   },
   {
    "duration": 190,
    "start_time": "2023-11-25T15:36:08.141Z"
   },
   {
    "duration": 103,
    "start_time": "2023-11-25T15:36:08.333Z"
   },
   {
    "duration": 26,
    "start_time": "2023-11-25T15:36:08.438Z"
   },
   {
    "duration": 16,
    "start_time": "2023-11-25T15:36:08.465Z"
   },
   {
    "duration": 9,
    "start_time": "2023-11-25T15:36:08.483Z"
   },
   {
    "duration": 20,
    "start_time": "2023-11-25T15:36:08.494Z"
   },
   {
    "duration": 16,
    "start_time": "2023-11-25T15:36:08.516Z"
   },
   {
    "duration": 149,
    "start_time": "2023-11-25T15:36:08.534Z"
   },
   {
    "duration": 9,
    "start_time": "2023-11-25T15:36:08.686Z"
   },
   {
    "duration": 39,
    "start_time": "2023-11-25T15:36:08.697Z"
   },
   {
    "duration": 6,
    "start_time": "2023-11-25T15:36:08.738Z"
   },
   {
    "duration": 10,
    "start_time": "2023-11-25T15:36:08.745Z"
   },
   {
    "duration": 13,
    "start_time": "2023-11-25T15:36:08.757Z"
   },
   {
    "duration": 11,
    "start_time": "2023-11-25T15:36:08.772Z"
   },
   {
    "duration": 169,
    "start_time": "2023-11-25T15:36:08.785Z"
   },
   {
    "duration": 0,
    "start_time": "2023-11-25T15:36:08.956Z"
   },
   {
    "duration": 0,
    "start_time": "2023-11-25T15:36:08.957Z"
   },
   {
    "duration": 0,
    "start_time": "2023-11-25T15:36:08.959Z"
   },
   {
    "duration": 5,
    "start_time": "2023-11-25T15:36:44.762Z"
   },
   {
    "duration": 35,
    "start_time": "2023-11-25T15:36:44.770Z"
   },
   {
    "duration": 14,
    "start_time": "2023-11-25T15:36:44.807Z"
   },
   {
    "duration": 11,
    "start_time": "2023-11-25T15:36:44.823Z"
   },
   {
    "duration": 38,
    "start_time": "2023-11-25T15:36:44.836Z"
   },
   {
    "duration": 7,
    "start_time": "2023-11-25T15:36:44.876Z"
   },
   {
    "duration": 11,
    "start_time": "2023-11-25T15:36:44.884Z"
   },
   {
    "duration": 258,
    "start_time": "2023-11-25T15:36:44.896Z"
   },
   {
    "duration": 6,
    "start_time": "2023-11-25T15:36:45.155Z"
   },
   {
    "duration": 19,
    "start_time": "2023-11-25T15:36:45.162Z"
   },
   {
    "duration": 154,
    "start_time": "2023-11-25T15:36:45.183Z"
   },
   {
    "duration": 104,
    "start_time": "2023-11-25T15:36:45.339Z"
   },
   {
    "duration": 170,
    "start_time": "2023-11-25T15:36:45.445Z"
   },
   {
    "duration": 108,
    "start_time": "2023-11-25T15:36:45.616Z"
   },
   {
    "duration": 151,
    "start_time": "2023-11-25T15:36:45.726Z"
   },
   {
    "duration": 101,
    "start_time": "2023-11-25T15:36:45.878Z"
   },
   {
    "duration": 35,
    "start_time": "2023-11-25T15:36:45.981Z"
   },
   {
    "duration": 4,
    "start_time": "2023-11-25T15:36:46.018Z"
   },
   {
    "duration": 11,
    "start_time": "2023-11-25T15:36:46.024Z"
   },
   {
    "duration": 7,
    "start_time": "2023-11-25T15:36:46.036Z"
   },
   {
    "duration": 10,
    "start_time": "2023-11-25T15:36:46.044Z"
   },
   {
    "duration": 159,
    "start_time": "2023-11-25T15:36:46.056Z"
   },
   {
    "duration": 9,
    "start_time": "2023-11-25T15:36:46.216Z"
   },
   {
    "duration": 26,
    "start_time": "2023-11-25T15:36:46.227Z"
   },
   {
    "duration": 5,
    "start_time": "2023-11-25T15:36:46.255Z"
   },
   {
    "duration": 12,
    "start_time": "2023-11-25T15:36:46.261Z"
   },
   {
    "duration": 8,
    "start_time": "2023-11-25T15:36:46.275Z"
   },
   {
    "duration": 29,
    "start_time": "2023-11-25T15:36:46.285Z"
   },
   {
    "duration": 140,
    "start_time": "2023-11-25T15:36:46.315Z"
   },
   {
    "duration": 0,
    "start_time": "2023-11-25T15:36:46.457Z"
   },
   {
    "duration": 0,
    "start_time": "2023-11-25T15:36:46.458Z"
   },
   {
    "duration": 0,
    "start_time": "2023-11-25T15:36:46.460Z"
   },
   {
    "duration": 33,
    "start_time": "2023-11-25T15:37:13.680Z"
   },
   {
    "duration": 33,
    "start_time": "2023-11-25T15:37:56.788Z"
   },
   {
    "duration": 6,
    "start_time": "2023-11-25T15:38:23.653Z"
   },
   {
    "duration": 56,
    "start_time": "2023-11-25T15:38:23.661Z"
   },
   {
    "duration": 26,
    "start_time": "2023-11-25T15:38:23.719Z"
   },
   {
    "duration": 39,
    "start_time": "2023-11-25T15:38:23.747Z"
   },
   {
    "duration": 40,
    "start_time": "2023-11-25T15:38:23.788Z"
   },
   {
    "duration": 20,
    "start_time": "2023-11-25T15:38:23.830Z"
   },
   {
    "duration": 24,
    "start_time": "2023-11-25T15:38:23.852Z"
   },
   {
    "duration": 248,
    "start_time": "2023-11-25T15:38:23.877Z"
   },
   {
    "duration": 5,
    "start_time": "2023-11-25T15:38:24.127Z"
   },
   {
    "duration": 33,
    "start_time": "2023-11-25T15:38:24.134Z"
   },
   {
    "duration": 162,
    "start_time": "2023-11-25T15:38:24.169Z"
   },
   {
    "duration": 110,
    "start_time": "2023-11-25T15:38:24.332Z"
   },
   {
    "duration": 177,
    "start_time": "2023-11-25T15:38:24.443Z"
   },
   {
    "duration": 119,
    "start_time": "2023-11-25T15:38:24.621Z"
   },
   {
    "duration": 173,
    "start_time": "2023-11-25T15:38:24.742Z"
   },
   {
    "duration": 108,
    "start_time": "2023-11-25T15:38:24.917Z"
   },
   {
    "duration": 25,
    "start_time": "2023-11-25T15:38:25.027Z"
   },
   {
    "duration": 4,
    "start_time": "2023-11-25T15:38:25.054Z"
   },
   {
    "duration": 27,
    "start_time": "2023-11-25T15:38:25.060Z"
   },
   {
    "duration": 28,
    "start_time": "2023-11-25T15:38:25.089Z"
   },
   {
    "duration": 21,
    "start_time": "2023-11-25T15:38:25.118Z"
   },
   {
    "duration": 168,
    "start_time": "2023-11-25T15:38:25.141Z"
   },
   {
    "duration": 9,
    "start_time": "2023-11-25T15:38:25.312Z"
   },
   {
    "duration": 48,
    "start_time": "2023-11-25T15:38:25.325Z"
   },
   {
    "duration": 6,
    "start_time": "2023-11-25T15:38:25.375Z"
   },
   {
    "duration": 15,
    "start_time": "2023-11-25T15:38:25.383Z"
   },
   {
    "duration": 31,
    "start_time": "2023-11-25T15:38:25.399Z"
   },
   {
    "duration": 11,
    "start_time": "2023-11-25T15:38:25.433Z"
   },
   {
    "duration": 44,
    "start_time": "2023-11-25T15:38:25.447Z"
   },
   {
    "duration": 0,
    "start_time": "2023-11-25T15:38:25.493Z"
   },
   {
    "duration": 0,
    "start_time": "2023-11-25T15:38:25.494Z"
   },
   {
    "duration": 42,
    "start_time": "2023-11-25T15:38:46.161Z"
   },
   {
    "duration": 39,
    "start_time": "2023-11-25T15:38:50.523Z"
   },
   {
    "duration": 35,
    "start_time": "2023-11-25T15:39:05.049Z"
   },
   {
    "duration": 33,
    "start_time": "2023-11-25T15:39:25.911Z"
   },
   {
    "duration": 32,
    "start_time": "2023-11-25T15:39:41.393Z"
   },
   {
    "duration": 32,
    "start_time": "2023-11-25T15:39:55.191Z"
   },
   {
    "duration": 42,
    "start_time": "2023-11-25T15:40:13.283Z"
   },
   {
    "duration": 11813,
    "start_time": "2023-11-25T15:41:58.949Z"
   },
   {
    "duration": 12385,
    "start_time": "2023-11-25T15:42:28.851Z"
   },
   {
    "duration": 11447,
    "start_time": "2023-11-25T15:42:51.404Z"
   },
   {
    "duration": 57421,
    "start_time": "2023-11-25T15:43:21.729Z"
   },
   {
    "duration": 6,
    "start_time": "2023-11-25T15:46:01.241Z"
   },
   {
    "duration": 85,
    "start_time": "2023-11-25T15:46:01.249Z"
   },
   {
    "duration": 29,
    "start_time": "2023-11-25T15:46:01.336Z"
   },
   {
    "duration": 27,
    "start_time": "2023-11-25T15:46:01.367Z"
   },
   {
    "duration": 35,
    "start_time": "2023-11-25T15:46:01.397Z"
   },
   {
    "duration": 15,
    "start_time": "2023-11-25T15:46:01.434Z"
   },
   {
    "duration": 34,
    "start_time": "2023-11-25T15:46:01.450Z"
   },
   {
    "duration": 266,
    "start_time": "2023-11-25T15:46:01.486Z"
   },
   {
    "duration": 6,
    "start_time": "2023-11-25T15:46:01.754Z"
   },
   {
    "duration": 25,
    "start_time": "2023-11-25T15:46:01.762Z"
   },
   {
    "duration": 147,
    "start_time": "2023-11-25T15:46:01.788Z"
   },
   {
    "duration": 100,
    "start_time": "2023-11-25T15:46:01.937Z"
   },
   {
    "duration": 166,
    "start_time": "2023-11-25T15:46:02.039Z"
   },
   {
    "duration": 117,
    "start_time": "2023-11-25T15:46:02.208Z"
   },
   {
    "duration": 165,
    "start_time": "2023-11-25T15:46:02.327Z"
   },
   {
    "duration": 130,
    "start_time": "2023-11-25T15:46:02.493Z"
   },
   {
    "duration": 23,
    "start_time": "2023-11-25T15:46:02.624Z"
   },
   {
    "duration": 145,
    "start_time": "2023-11-25T15:46:02.649Z"
   },
   {
    "duration": 7,
    "start_time": "2023-11-25T15:46:02.796Z"
   },
   {
    "duration": 18,
    "start_time": "2023-11-25T15:46:02.814Z"
   },
   {
    "duration": 34,
    "start_time": "2023-11-25T15:46:02.833Z"
   },
   {
    "duration": 162,
    "start_time": "2023-11-25T15:46:02.869Z"
   },
   {
    "duration": 11,
    "start_time": "2023-11-25T15:46:03.033Z"
   },
   {
    "duration": 58,
    "start_time": "2023-11-25T15:46:03.046Z"
   },
   {
    "duration": 19,
    "start_time": "2023-11-25T15:46:03.106Z"
   },
   {
    "duration": 0,
    "start_time": "2023-11-25T15:46:03.127Z"
   },
   {
    "duration": 0,
    "start_time": "2023-11-25T15:46:03.128Z"
   },
   {
    "duration": 0,
    "start_time": "2023-11-25T15:46:03.129Z"
   },
   {
    "duration": 0,
    "start_time": "2023-11-25T15:46:03.131Z"
   },
   {
    "duration": 0,
    "start_time": "2023-11-25T15:46:03.132Z"
   },
   {
    "duration": 0,
    "start_time": "2023-11-25T15:46:03.134Z"
   },
   {
    "duration": 0,
    "start_time": "2023-11-25T15:46:03.135Z"
   },
   {
    "duration": 8,
    "start_time": "2023-11-25T15:46:18.269Z"
   },
   {
    "duration": 79,
    "start_time": "2023-11-25T15:46:18.280Z"
   },
   {
    "duration": 17,
    "start_time": "2023-11-25T15:46:18.361Z"
   },
   {
    "duration": 14,
    "start_time": "2023-11-25T15:46:18.381Z"
   },
   {
    "duration": 41,
    "start_time": "2023-11-25T15:46:18.398Z"
   },
   {
    "duration": 8,
    "start_time": "2023-11-25T15:46:18.441Z"
   },
   {
    "duration": 12,
    "start_time": "2023-11-25T15:46:18.450Z"
   },
   {
    "duration": 287,
    "start_time": "2023-11-25T15:46:18.464Z"
   },
   {
    "duration": 7,
    "start_time": "2023-11-25T15:46:18.752Z"
   },
   {
    "duration": 9,
    "start_time": "2023-11-25T15:46:18.761Z"
   },
   {
    "duration": 162,
    "start_time": "2023-11-25T15:46:18.772Z"
   },
   {
    "duration": 103,
    "start_time": "2023-11-25T15:46:18.935Z"
   },
   {
    "duration": 172,
    "start_time": "2023-11-25T15:46:19.039Z"
   },
   {
    "duration": 125,
    "start_time": "2023-11-25T15:46:19.216Z"
   },
   {
    "duration": 168,
    "start_time": "2023-11-25T15:46:19.343Z"
   },
   {
    "duration": 104,
    "start_time": "2023-11-25T15:46:19.514Z"
   },
   {
    "duration": 25,
    "start_time": "2023-11-25T15:46:19.619Z"
   },
   {
    "duration": 167,
    "start_time": "2023-11-25T15:46:19.645Z"
   },
   {
    "duration": 9,
    "start_time": "2023-11-25T15:46:19.814Z"
   },
   {
    "duration": 16,
    "start_time": "2023-11-25T15:46:19.825Z"
   },
   {
    "duration": 14,
    "start_time": "2023-11-25T15:46:19.844Z"
   },
   {
    "duration": 156,
    "start_time": "2023-11-25T15:46:19.860Z"
   },
   {
    "duration": 12,
    "start_time": "2023-11-25T15:46:20.018Z"
   },
   {
    "duration": 45,
    "start_time": "2023-11-25T15:46:20.032Z"
   },
   {
    "duration": 6,
    "start_time": "2023-11-25T15:46:20.079Z"
   },
   {
    "duration": 3,
    "start_time": "2023-11-25T15:46:20.088Z"
   },
   {
    "duration": 27,
    "start_time": "2023-11-25T15:46:20.115Z"
   },
   {
    "duration": 12,
    "start_time": "2023-11-25T15:46:20.144Z"
   },
   {
    "duration": 12288,
    "start_time": "2023-11-25T15:46:20.158Z"
   },
   {
    "duration": 1275037,
    "start_time": "2023-11-25T15:46:32.449Z"
   },
   {
    "duration": 83996,
    "start_time": "2023-11-25T16:07:47.488Z"
   },
   {
    "duration": 69,
    "start_time": "2023-11-25T16:09:11.486Z"
   },
   {
    "duration": 2050,
    "start_time": "2023-11-25T17:32:25.253Z"
   },
   {
    "duration": 30,
    "start_time": "2023-11-25T17:32:27.305Z"
   },
   {
    "duration": 105,
    "start_time": "2023-11-25T17:32:27.337Z"
   },
   {
    "duration": 12,
    "start_time": "2023-11-25T17:32:27.444Z"
   },
   {
    "duration": 34,
    "start_time": "2023-11-25T17:32:27.459Z"
   },
   {
    "duration": 6,
    "start_time": "2023-11-25T17:32:27.495Z"
   },
   {
    "duration": 17,
    "start_time": "2023-11-25T17:32:27.519Z"
   },
   {
    "duration": 324,
    "start_time": "2023-11-25T17:32:27.538Z"
   },
   {
    "duration": 6,
    "start_time": "2023-11-25T17:32:27.864Z"
   },
   {
    "duration": 8,
    "start_time": "2023-11-25T17:32:27.872Z"
   },
   {
    "duration": 210,
    "start_time": "2023-11-25T17:32:27.882Z"
   },
   {
    "duration": 121,
    "start_time": "2023-11-25T17:32:28.094Z"
   },
   {
    "duration": 192,
    "start_time": "2023-11-25T17:32:28.218Z"
   },
   {
    "duration": 124,
    "start_time": "2023-11-25T17:32:28.413Z"
   },
   {
    "duration": 167,
    "start_time": "2023-11-25T17:32:28.539Z"
   },
   {
    "duration": 116,
    "start_time": "2023-11-25T17:32:28.713Z"
   },
   {
    "duration": 24,
    "start_time": "2023-11-25T17:32:28.831Z"
   },
   {
    "duration": 153,
    "start_time": "2023-11-25T17:32:28.857Z"
   },
   {
    "duration": 13,
    "start_time": "2023-11-25T17:32:29.014Z"
   },
   {
    "duration": 6,
    "start_time": "2023-11-25T17:32:29.028Z"
   },
   {
    "duration": 10,
    "start_time": "2023-11-25T17:32:29.036Z"
   },
   {
    "duration": 195,
    "start_time": "2023-11-25T17:32:29.047Z"
   },
   {
    "duration": 12,
    "start_time": "2023-11-25T17:32:29.244Z"
   },
   {
    "duration": 62,
    "start_time": "2023-11-25T17:32:29.258Z"
   },
   {
    "duration": 6,
    "start_time": "2023-11-25T17:32:29.322Z"
   },
   {
    "duration": 7,
    "start_time": "2023-11-25T17:32:29.330Z"
   },
   {
    "duration": 19,
    "start_time": "2023-11-25T17:32:29.339Z"
   },
   {
    "duration": 23,
    "start_time": "2023-11-25T17:32:29.360Z"
   },
   {
    "duration": 2003,
    "start_time": "2023-11-25T17:32:52.947Z"
   },
   {
    "duration": 29,
    "start_time": "2023-11-25T17:32:54.952Z"
   },
   {
    "duration": 97,
    "start_time": "2023-11-25T17:32:54.982Z"
   },
   {
    "duration": 13,
    "start_time": "2023-11-25T17:32:55.081Z"
   },
   {
    "duration": 42,
    "start_time": "2023-11-25T17:32:55.097Z"
   },
   {
    "duration": 6,
    "start_time": "2023-11-25T17:32:55.141Z"
   },
   {
    "duration": 7,
    "start_time": "2023-11-25T17:32:55.149Z"
   },
   {
    "duration": 584,
    "start_time": "2023-11-25T17:32:55.158Z"
   },
   {
    "duration": 6,
    "start_time": "2023-11-25T17:32:55.744Z"
   },
   {
    "duration": 76,
    "start_time": "2023-11-25T17:32:55.752Z"
   },
   {
    "duration": 320,
    "start_time": "2023-11-25T17:32:55.830Z"
   },
   {
    "duration": 267,
    "start_time": "2023-11-25T17:32:56.152Z"
   },
   {
    "duration": 320,
    "start_time": "2023-11-25T17:32:56.428Z"
   },
   {
    "duration": 226,
    "start_time": "2023-11-25T17:32:56.751Z"
   },
   {
    "duration": 164,
    "start_time": "2023-11-25T17:32:57.018Z"
   },
   {
    "duration": 110,
    "start_time": "2023-11-25T17:32:57.183Z"
   },
   {
    "duration": 44,
    "start_time": "2023-11-25T17:32:57.295Z"
   },
   {
    "duration": 155,
    "start_time": "2023-11-25T17:32:57.340Z"
   },
   {
    "duration": 8,
    "start_time": "2023-11-25T17:32:57.497Z"
   },
   {
    "duration": 6,
    "start_time": "2023-11-25T17:32:57.522Z"
   },
   {
    "duration": 12,
    "start_time": "2023-11-25T17:32:57.531Z"
   },
   {
    "duration": 156,
    "start_time": "2023-11-25T17:32:57.545Z"
   },
   {
    "duration": 29,
    "start_time": "2023-11-25T17:32:57.703Z"
   },
   {
    "duration": 36,
    "start_time": "2023-11-25T17:32:57.733Z"
   },
   {
    "duration": 6,
    "start_time": "2023-11-25T17:32:57.771Z"
   },
   {
    "duration": 16,
    "start_time": "2023-11-25T17:32:57.778Z"
   },
   {
    "duration": 7,
    "start_time": "2023-11-25T17:32:57.796Z"
   },
   {
    "duration": 10,
    "start_time": "2023-11-25T17:32:57.805Z"
   },
   {
    "duration": 12,
    "start_time": "2023-11-25T17:32:57.817Z"
   },
   {
    "duration": 81,
    "start_time": "2023-11-25T17:32:57.831Z"
   },
   {
    "duration": 0,
    "start_time": "2023-11-25T17:32:57.919Z"
   },
   {
    "duration": 0,
    "start_time": "2023-11-25T17:32:57.921Z"
   },
   {
    "duration": 81,
    "start_time": "2023-11-25T17:33:09.301Z"
   },
   {
    "duration": 72,
    "start_time": "2023-11-25T17:33:32.341Z"
   },
   {
    "duration": 73,
    "start_time": "2023-11-25T17:33:41.578Z"
   },
   {
    "duration": 76,
    "start_time": "2023-11-25T17:33:43.985Z"
   },
   {
    "duration": 70,
    "start_time": "2023-11-25T17:33:54.864Z"
   },
   {
    "duration": 86,
    "start_time": "2023-11-25T17:34:05.129Z"
   },
   {
    "duration": 81,
    "start_time": "2023-11-25T17:34:31.222Z"
   },
   {
    "duration": 86,
    "start_time": "2023-11-25T17:35:23.657Z"
   },
   {
    "duration": 85,
    "start_time": "2023-11-25T17:35:46.841Z"
   },
   {
    "duration": 74,
    "start_time": "2023-11-25T17:36:01.328Z"
   },
   {
    "duration": 82,
    "start_time": "2023-11-25T17:36:18.553Z"
   },
   {
    "duration": 74,
    "start_time": "2023-11-25T17:36:23.630Z"
   },
   {
    "duration": 74,
    "start_time": "2023-11-25T17:36:27.937Z"
   },
   {
    "duration": 83,
    "start_time": "2023-11-25T17:36:34.748Z"
   },
   {
    "duration": 84,
    "start_time": "2023-11-25T17:37:03.125Z"
   },
   {
    "duration": 77,
    "start_time": "2023-11-25T17:37:14.755Z"
   },
   {
    "duration": 80,
    "start_time": "2023-11-25T17:38:35.270Z"
   },
   {
    "duration": 72,
    "start_time": "2023-11-25T17:38:41.480Z"
   },
   {
    "duration": 148,
    "start_time": "2023-11-25T17:39:00.962Z"
   },
   {
    "duration": 16,
    "start_time": "2023-11-25T17:39:11.465Z"
   },
   {
    "duration": 16,
    "start_time": "2023-11-25T17:39:31.149Z"
   },
   {
    "duration": 8,
    "start_time": "2023-11-25T17:39:33.157Z"
   },
   {
    "duration": 8,
    "start_time": "2023-11-25T17:39:45.983Z"
   },
   {
    "duration": 17,
    "start_time": "2023-11-25T17:39:47.107Z"
   },
   {
    "duration": 6,
    "start_time": "2023-11-25T17:39:57.387Z"
   },
   {
    "duration": 9,
    "start_time": "2023-11-25T17:40:27.644Z"
   },
   {
    "duration": 5,
    "start_time": "2023-11-25T17:40:28.573Z"
   },
   {
    "duration": 11,
    "start_time": "2023-11-25T17:40:43.525Z"
   },
   {
    "duration": 3,
    "start_time": "2023-11-25T17:40:57.408Z"
   },
   {
    "duration": 9,
    "start_time": "2023-11-25T17:41:06.598Z"
   },
   {
    "duration": 8,
    "start_time": "2023-11-25T17:41:26.612Z"
   },
   {
    "duration": 4,
    "start_time": "2023-11-25T17:41:30.024Z"
   },
   {
    "duration": 9,
    "start_time": "2023-11-25T17:42:11.361Z"
   },
   {
    "duration": 5,
    "start_time": "2023-11-25T17:42:24.443Z"
   },
   {
    "duration": 3,
    "start_time": "2023-11-25T17:42:25.670Z"
   },
   {
    "duration": 82,
    "start_time": "2023-11-25T17:47:55.138Z"
   },
   {
    "duration": 76,
    "start_time": "2023-11-25T17:48:07.670Z"
   },
   {
    "duration": 7907,
    "start_time": "2023-11-25T17:53:49.326Z"
   },
   {
    "duration": 99,
    "start_time": "2023-11-25T17:53:57.236Z"
   },
   {
    "duration": 7,
    "start_time": "2023-11-25T17:53:57.920Z"
   },
   {
    "duration": 10,
    "start_time": "2023-11-25T17:53:57.930Z"
   },
   {
    "duration": 20,
    "start_time": "2023-11-25T17:53:58.018Z"
   },
   {
    "duration": 17,
    "start_time": "2023-11-25T17:53:58.120Z"
   },
   {
    "duration": 8404,
    "start_time": "2023-11-25T17:54:04.126Z"
   },
   {
    "duration": 86,
    "start_time": "2023-11-25T17:54:12.537Z"
   },
   {
    "duration": 604,
    "start_time": "2023-11-25T17:54:12.625Z"
   },
   {
    "duration": 86,
    "start_time": "2023-11-25T17:54:13.231Z"
   },
   {
    "duration": 116,
    "start_time": "2023-11-25T17:54:13.320Z"
   },
   {
    "duration": 92,
    "start_time": "2023-11-25T17:54:13.438Z"
   },
   {
    "duration": 91,
    "start_time": "2023-11-25T17:54:13.533Z"
   },
   {
    "duration": 1390,
    "start_time": "2023-11-25T17:54:13.628Z"
   },
   {
    "duration": 7,
    "start_time": "2023-11-25T17:54:15.022Z"
   },
   {
    "duration": 99,
    "start_time": "2023-11-25T17:54:15.032Z"
   },
   {
    "duration": 709,
    "start_time": "2023-11-25T17:54:15.134Z"
   },
   {
    "duration": 501,
    "start_time": "2023-11-25T17:54:15.919Z"
   },
   {
    "duration": 803,
    "start_time": "2023-11-25T17:54:16.430Z"
   },
   {
    "duration": 582,
    "start_time": "2023-11-25T17:54:17.237Z"
   },
   {
    "duration": 699,
    "start_time": "2023-11-25T17:54:17.823Z"
   },
   {
    "duration": 411,
    "start_time": "2023-11-25T17:54:18.524Z"
   },
   {
    "duration": 186,
    "start_time": "2023-11-25T17:54:18.937Z"
   },
   {
    "duration": 698,
    "start_time": "2023-11-25T17:54:19.130Z"
   },
   {
    "duration": 9,
    "start_time": "2023-11-25T17:54:19.830Z"
   },
   {
    "duration": 87,
    "start_time": "2023-11-25T17:54:19.841Z"
   },
   {
    "duration": 92,
    "start_time": "2023-11-25T17:54:19.931Z"
   },
   {
    "duration": 800,
    "start_time": "2023-11-25T17:54:20.029Z"
   },
   {
    "duration": 20,
    "start_time": "2023-11-25T17:54:20.831Z"
   },
   {
    "duration": 127,
    "start_time": "2023-11-25T17:54:20.914Z"
   },
   {
    "duration": 14,
    "start_time": "2023-11-25T17:54:21.114Z"
   },
   {
    "duration": 89,
    "start_time": "2023-11-25T17:54:21.130Z"
   },
   {
    "duration": 12,
    "start_time": "2023-11-25T17:54:21.315Z"
   },
   {
    "duration": 91,
    "start_time": "2023-11-25T17:54:21.329Z"
   },
   {
    "duration": 50113,
    "start_time": "2023-11-25T17:54:21.423Z"
   },
   {
    "duration": 720511,
    "start_time": "2023-11-25T17:55:11.613Z"
   },
   {
    "duration": 1,
    "start_time": "2023-11-25T18:07:12.212Z"
   },
   {
    "duration": 0,
    "start_time": "2023-11-25T18:07:12.222Z"
   },
   {
    "duration": 0,
    "start_time": "2023-11-25T18:07:12.225Z"
   },
   {
    "duration": 0,
    "start_time": "2023-11-25T18:07:12.228Z"
   },
   {
    "duration": 0,
    "start_time": "2023-11-25T18:07:12.229Z"
   },
   {
    "duration": 0,
    "start_time": "2023-11-25T18:07:12.234Z"
   },
   {
    "duration": 0,
    "start_time": "2023-11-25T18:07:12.236Z"
   },
   {
    "duration": 280,
    "start_time": "2023-11-25T18:09:34.439Z"
   },
   {
    "duration": 52112,
    "start_time": "2023-11-25T18:09:41.014Z"
   },
   {
    "duration": 19660,
    "start_time": "2023-11-25T19:49:05.567Z"
   },
   {
    "duration": 8,
    "start_time": "2023-11-25T19:55:11.151Z"
   },
   {
    "duration": 16,
    "start_time": "2023-11-25T19:55:12.992Z"
   },
   {
    "duration": 8,
    "start_time": "2023-11-25T19:55:29.824Z"
   },
   {
    "duration": 14,
    "start_time": "2023-11-25T19:55:30.640Z"
   },
   {
    "duration": 8,
    "start_time": "2023-11-25T19:55:42.087Z"
   },
   {
    "duration": 16839,
    "start_time": "2023-11-25T19:55:42.682Z"
   },
   {
    "duration": 18,
    "start_time": "2023-11-25T20:17:22.498Z"
   },
   {
    "duration": 100,
    "start_time": "2023-11-25T20:17:34.126Z"
   },
   {
    "duration": 124,
    "start_time": "2023-11-25T20:18:13.808Z"
   },
   {
    "duration": 503,
    "start_time": "2023-11-25T20:18:23.716Z"
   },
   {
    "duration": 8038,
    "start_time": "2023-11-25T20:18:46.892Z"
   },
   {
    "duration": 97,
    "start_time": "2023-11-25T20:20:09.995Z"
   },
   {
    "duration": 14066,
    "start_time": "2023-11-25T20:20:16.666Z"
   },
   {
    "duration": 14850,
    "start_time": "2023-11-25T20:20:55.184Z"
   },
   {
    "duration": 14097,
    "start_time": "2023-11-25T20:21:15.231Z"
   },
   {
    "duration": 14330,
    "start_time": "2023-11-25T20:21:39.597Z"
   },
   {
    "duration": 96106,
    "start_time": "2023-11-25T20:22:29.625Z"
   },
   {
    "duration": 0,
    "start_time": "2023-11-25T20:26:54.624Z"
   },
   {
    "duration": 57059,
    "start_time": "2023-11-25T20:26:56.665Z"
   },
   {
    "duration": 89583,
    "start_time": "2023-11-25T20:27:56.846Z"
   },
   {
    "duration": 8,
    "start_time": "2023-11-25T20:29:27.653Z"
   },
   {
    "duration": 25866,
    "start_time": "2023-11-25T20:29:30.157Z"
   },
   {
    "duration": 14510,
    "start_time": "2023-11-25T20:30:32.908Z"
   },
   {
    "duration": 13584,
    "start_time": "2023-11-25T20:31:21.545Z"
   },
   {
    "duration": 15,
    "start_time": "2023-11-25T20:32:02.720Z"
   },
   {
    "duration": 122186,
    "start_time": "2023-11-25T20:32:07.927Z"
   },
   {
    "duration": 0,
    "start_time": "2023-11-25T21:53:04.326Z"
   },
   {
    "duration": 33499,
    "start_time": "2023-11-25T21:53:06.349Z"
   },
   {
    "duration": 8673,
    "start_time": "2023-11-25T21:53:41.050Z"
   },
   {
    "duration": 0,
    "start_time": "2023-11-25T21:54:41.025Z"
   },
   {
    "duration": 3829,
    "start_time": "2023-11-25T21:58:02.294Z"
   },
   {
    "duration": 19,
    "start_time": "2023-11-25T21:58:11.481Z"
   },
   {
    "duration": 18,
    "start_time": "2023-11-25T21:58:23.569Z"
   },
   {
    "duration": 10,
    "start_time": "2023-11-25T22:05:04.262Z"
   },
   {
    "duration": 21,
    "start_time": "2023-11-25T22:05:43.061Z"
   },
   {
    "duration": 19,
    "start_time": "2023-11-25T22:05:55.748Z"
   },
   {
    "duration": 226,
    "start_time": "2023-11-25T22:07:29.252Z"
   },
   {
    "duration": 12,
    "start_time": "2023-11-25T22:08:05.495Z"
   },
   {
    "duration": 15,
    "start_time": "2023-11-25T22:08:17.434Z"
   },
   {
    "duration": 10,
    "start_time": "2023-11-25T22:08:27.359Z"
   },
   {
    "duration": 14,
    "start_time": "2023-11-25T22:08:30.905Z"
   },
   {
    "duration": 6,
    "start_time": "2023-11-25T22:10:13.939Z"
   },
   {
    "duration": 6,
    "start_time": "2023-11-25T22:10:28.730Z"
   },
   {
    "duration": 621,
    "start_time": "2023-11-25T22:10:40.185Z"
   },
   {
    "duration": 9,
    "start_time": "2023-11-25T22:10:43.205Z"
   },
   {
    "duration": 6,
    "start_time": "2023-11-25T22:10:46.171Z"
   },
   {
    "duration": 938,
    "start_time": "2023-11-25T22:10:50.979Z"
   },
   {
    "duration": 86,
    "start_time": "2023-11-25T22:11:32.268Z"
   },
   {
    "duration": 921,
    "start_time": "2023-11-25T22:11:38.479Z"
   },
   {
    "duration": 6,
    "start_time": "2023-11-25T22:11:40.628Z"
   },
   {
    "duration": 6,
    "start_time": "2023-11-25T22:11:41.351Z"
   },
   {
    "duration": 10,
    "start_time": "2023-11-25T22:11:42.413Z"
   },
   {
    "duration": 10,
    "start_time": "2023-11-25T22:11:43.233Z"
   },
   {
    "duration": 12,
    "start_time": "2023-11-25T22:11:43.414Z"
   },
   {
    "duration": 747,
    "start_time": "2023-11-25T22:15:16.842Z"
   },
   {
    "duration": 5,
    "start_time": "2023-11-25T22:15:21.732Z"
   },
   {
    "duration": 670,
    "start_time": "2023-11-25T22:15:46.615Z"
   },
   {
    "duration": 77,
    "start_time": "2023-11-25T22:18:38.591Z"
   },
   {
    "duration": 350316,
    "start_time": "2023-11-25T22:19:45.289Z"
   },
   {
    "duration": 7,
    "start_time": "2023-11-25T22:29:47.835Z"
   },
   {
    "duration": 37,
    "start_time": "2023-11-25T22:29:47.845Z"
   },
   {
    "duration": 17,
    "start_time": "2023-11-25T22:29:47.883Z"
   },
   {
    "duration": 17,
    "start_time": "2023-11-25T22:29:47.902Z"
   },
   {
    "duration": 29,
    "start_time": "2023-11-25T22:29:47.922Z"
   },
   {
    "duration": 6,
    "start_time": "2023-11-25T22:29:47.953Z"
   },
   {
    "duration": 26,
    "start_time": "2023-11-25T22:29:47.961Z"
   },
   {
    "duration": 267,
    "start_time": "2023-11-25T22:29:47.990Z"
   },
   {
    "duration": 7,
    "start_time": "2023-11-25T22:29:48.260Z"
   },
   {
    "duration": 6,
    "start_time": "2023-11-25T22:29:48.269Z"
   },
   {
    "duration": 173,
    "start_time": "2023-11-25T22:29:48.277Z"
   },
   {
    "duration": 112,
    "start_time": "2023-11-25T22:29:48.452Z"
   },
   {
    "duration": 165,
    "start_time": "2023-11-25T22:29:48.566Z"
   },
   {
    "duration": 122,
    "start_time": "2023-11-25T22:29:48.733Z"
   },
   {
    "duration": 159,
    "start_time": "2023-11-25T22:29:48.858Z"
   },
   {
    "duration": 104,
    "start_time": "2023-11-25T22:29:49.019Z"
   },
   {
    "duration": 24,
    "start_time": "2023-11-25T22:29:49.124Z"
   },
   {
    "duration": 152,
    "start_time": "2023-11-25T22:29:49.150Z"
   },
   {
    "duration": 12,
    "start_time": "2023-11-25T22:29:49.304Z"
   },
   {
    "duration": 19,
    "start_time": "2023-11-25T22:29:49.318Z"
   },
   {
    "duration": 16,
    "start_time": "2023-11-25T22:29:49.339Z"
   },
   {
    "duration": 269,
    "start_time": "2023-11-25T22:29:49.357Z"
   },
   {
    "duration": 13,
    "start_time": "2023-11-25T22:29:49.628Z"
   },
   {
    "duration": 51,
    "start_time": "2023-11-25T22:29:49.643Z"
   },
   {
    "duration": 19,
    "start_time": "2023-11-25T22:29:49.695Z"
   },
   {
    "duration": 31,
    "start_time": "2023-11-25T22:29:49.715Z"
   },
   {
    "duration": 26,
    "start_time": "2023-11-25T22:29:49.747Z"
   },
   {
    "duration": 34,
    "start_time": "2023-11-25T22:29:49.775Z"
   },
   {
    "duration": 12162,
    "start_time": "2023-11-25T22:29:49.811Z"
   },
   {
    "duration": 1035732,
    "start_time": "2023-11-25T22:30:01.974Z"
   },
   {
    "duration": 55875,
    "start_time": "2023-11-25T22:47:17.708Z"
   },
   {
    "duration": 4930552,
    "start_time": "2023-11-25T22:48:13.585Z"
   },
   {
    "duration": 10,
    "start_time": "2023-11-26T00:10:24.138Z"
   },
   {
    "duration": 0,
    "start_time": "2023-11-26T00:10:24.149Z"
   },
   {
    "duration": 0,
    "start_time": "2023-11-26T00:10:24.150Z"
   },
   {
    "duration": 8,
    "start_time": "2023-11-26T00:10:36.736Z"
   },
   {
    "duration": 0,
    "start_time": "2023-11-26T01:38:38.834Z"
   },
   {
    "duration": 0,
    "start_time": "2023-11-26T01:38:38.834Z"
   },
   {
    "duration": 0,
    "start_time": "2023-11-26T01:38:38.835Z"
   },
   {
    "duration": 0,
    "start_time": "2023-11-26T01:38:38.837Z"
   },
   {
    "duration": 0,
    "start_time": "2023-11-26T01:38:38.838Z"
   },
   {
    "duration": 0,
    "start_time": "2023-11-26T01:38:38.838Z"
   },
   {
    "duration": 0,
    "start_time": "2023-11-26T01:38:38.839Z"
   },
   {
    "duration": 0,
    "start_time": "2023-11-26T01:38:38.841Z"
   },
   {
    "duration": 0,
    "start_time": "2023-11-26T01:38:38.841Z"
   },
   {
    "duration": 0,
    "start_time": "2023-11-26T01:38:38.842Z"
   },
   {
    "duration": 0,
    "start_time": "2023-11-26T01:38:38.843Z"
   },
   {
    "duration": 0,
    "start_time": "2023-11-26T01:38:38.845Z"
   },
   {
    "duration": 0,
    "start_time": "2023-11-26T01:38:38.845Z"
   },
   {
    "duration": 0,
    "start_time": "2023-11-26T01:38:38.847Z"
   },
   {
    "duration": 0,
    "start_time": "2023-11-26T01:38:38.848Z"
   },
   {
    "duration": 0,
    "start_time": "2023-11-26T01:38:38.849Z"
   },
   {
    "duration": 0,
    "start_time": "2023-11-26T01:38:38.850Z"
   },
   {
    "duration": 0,
    "start_time": "2023-11-26T01:38:38.913Z"
   },
   {
    "duration": 0,
    "start_time": "2023-11-26T01:38:38.914Z"
   },
   {
    "duration": 0,
    "start_time": "2023-11-26T01:38:38.915Z"
   },
   {
    "duration": 0,
    "start_time": "2023-11-26T01:38:38.917Z"
   },
   {
    "duration": 0,
    "start_time": "2023-11-26T01:38:38.918Z"
   },
   {
    "duration": 0,
    "start_time": "2023-11-26T01:38:38.919Z"
   },
   {
    "duration": 0,
    "start_time": "2023-11-26T01:38:38.920Z"
   },
   {
    "duration": 0,
    "start_time": "2023-11-26T01:38:38.921Z"
   },
   {
    "duration": 0,
    "start_time": "2023-11-26T01:38:38.922Z"
   },
   {
    "duration": 0,
    "start_time": "2023-11-26T01:38:38.923Z"
   },
   {
    "duration": 0,
    "start_time": "2023-11-26T01:38:38.924Z"
   },
   {
    "duration": 0,
    "start_time": "2023-11-26T01:38:38.926Z"
   },
   {
    "duration": 0,
    "start_time": "2023-11-26T01:38:38.927Z"
   },
   {
    "duration": 0,
    "start_time": "2023-11-26T01:38:38.928Z"
   },
   {
    "duration": 0,
    "start_time": "2023-11-26T01:38:38.929Z"
   },
   {
    "duration": 0,
    "start_time": "2023-11-26T01:38:38.930Z"
   },
   {
    "duration": 0,
    "start_time": "2023-11-26T01:38:38.931Z"
   },
   {
    "duration": 6,
    "start_time": "2023-11-26T01:38:44.931Z"
   },
   {
    "duration": 47,
    "start_time": "2023-11-26T01:38:44.939Z"
   },
   {
    "duration": 14,
    "start_time": "2023-11-26T01:38:44.988Z"
   },
   {
    "duration": 32,
    "start_time": "2023-11-26T01:38:45.004Z"
   },
   {
    "duration": 63,
    "start_time": "2023-11-26T01:38:45.038Z"
   },
   {
    "duration": 7,
    "start_time": "2023-11-26T01:38:45.102Z"
   },
   {
    "duration": 16,
    "start_time": "2023-11-26T01:38:45.111Z"
   },
   {
    "duration": 225,
    "start_time": "2023-11-26T01:38:45.129Z"
   },
   {
    "duration": 5,
    "start_time": "2023-11-26T01:38:45.356Z"
   },
   {
    "duration": 9,
    "start_time": "2023-11-26T01:38:45.364Z"
   },
   {
    "duration": 151,
    "start_time": "2023-11-26T01:38:45.374Z"
   },
   {
    "duration": 96,
    "start_time": "2023-11-26T01:38:45.526Z"
   },
   {
    "duration": 158,
    "start_time": "2023-11-26T01:38:45.624Z"
   },
   {
    "duration": 110,
    "start_time": "2023-11-26T01:38:45.784Z"
   },
   {
    "duration": 157,
    "start_time": "2023-11-26T01:38:45.895Z"
   },
   {
    "duration": 100,
    "start_time": "2023-11-26T01:38:46.053Z"
   },
   {
    "duration": 23,
    "start_time": "2023-11-26T01:38:46.154Z"
   },
   {
    "duration": 145,
    "start_time": "2023-11-26T01:38:46.179Z"
   },
   {
    "duration": 15,
    "start_time": "2023-11-26T01:38:46.326Z"
   },
   {
    "duration": 12,
    "start_time": "2023-11-26T01:38:46.343Z"
   },
   {
    "duration": 16,
    "start_time": "2023-11-26T01:38:46.357Z"
   },
   {
    "duration": 149,
    "start_time": "2023-11-26T01:38:46.375Z"
   },
   {
    "duration": 11,
    "start_time": "2023-11-26T01:38:46.526Z"
   },
   {
    "duration": 64,
    "start_time": "2023-11-26T01:38:46.538Z"
   },
   {
    "duration": 5,
    "start_time": "2023-11-26T01:38:46.604Z"
   },
   {
    "duration": 7,
    "start_time": "2023-11-26T01:38:46.611Z"
   },
   {
    "duration": 15,
    "start_time": "2023-11-26T01:38:46.619Z"
   },
   {
    "duration": 4,
    "start_time": "2023-11-26T01:38:46.637Z"
   },
   {
    "duration": 11280,
    "start_time": "2023-11-26T01:38:46.643Z"
   },
   {
    "duration": 938697,
    "start_time": "2023-11-26T01:38:57.924Z"
   },
   {
    "duration": 50384,
    "start_time": "2023-11-26T01:54:36.622Z"
   },
   {
    "duration": 4762801,
    "start_time": "2023-11-26T01:55:27.007Z"
   },
   {
    "duration": 8,
    "start_time": "2023-11-26T03:14:49.810Z"
   },
   {
    "duration": 30095,
    "start_time": "2023-11-26T03:14:49.820Z"
   },
   {
    "duration": 42837,
    "start_time": "2023-11-26T03:26:54.765Z"
   },
   {
    "duration": 0,
    "start_time": "2023-11-26T03:30:07.625Z"
   },
   {
    "duration": 4573444,
    "start_time": "2023-11-26T03:30:11.199Z"
   },
   {
    "duration": 4,
    "start_time": "2023-11-26T04:48:18.309Z"
   },
   {
    "duration": 3,
    "start_time": "2023-11-26T04:48:25.346Z"
   },
   {
    "duration": 727,
    "start_time": "2023-11-26T04:48:27.192Z"
   },
   {
    "duration": 7,
    "start_time": "2023-11-26T04:58:13.175Z"
   },
   {
    "duration": 8,
    "start_time": "2023-11-26T04:59:51.046Z"
   },
   {
    "duration": 8,
    "start_time": "2023-11-26T05:00:09.827Z"
   },
   {
    "duration": 8,
    "start_time": "2023-11-26T05:00:23.587Z"
   },
   {
    "duration": 5,
    "start_time": "2023-11-26T05:13:03.860Z"
   },
   {
    "duration": 32,
    "start_time": "2023-11-26T05:13:03.868Z"
   },
   {
    "duration": 15,
    "start_time": "2023-11-26T05:13:03.902Z"
   },
   {
    "duration": 13,
    "start_time": "2023-11-26T05:13:03.918Z"
   },
   {
    "duration": 27,
    "start_time": "2023-11-26T05:13:03.933Z"
   },
   {
    "duration": 6,
    "start_time": "2023-11-26T05:13:03.962Z"
   },
   {
    "duration": 15,
    "start_time": "2023-11-26T05:13:03.970Z"
   },
   {
    "duration": 258,
    "start_time": "2023-11-26T05:13:03.986Z"
   },
   {
    "duration": 6,
    "start_time": "2023-11-26T05:13:04.246Z"
   },
   {
    "duration": 12,
    "start_time": "2023-11-26T05:13:04.253Z"
   },
   {
    "duration": 149,
    "start_time": "2023-11-26T05:13:04.266Z"
   },
   {
    "duration": 99,
    "start_time": "2023-11-26T05:13:04.416Z"
   },
   {
    "duration": 165,
    "start_time": "2023-11-26T05:13:04.517Z"
   },
   {
    "duration": 109,
    "start_time": "2023-11-26T05:13:04.684Z"
   },
   {
    "duration": 164,
    "start_time": "2023-11-26T05:13:04.795Z"
   },
   {
    "duration": 105,
    "start_time": "2023-11-26T05:13:04.960Z"
   },
   {
    "duration": 23,
    "start_time": "2023-11-26T05:13:05.067Z"
   },
   {
    "duration": 144,
    "start_time": "2023-11-26T05:13:05.091Z"
   },
   {
    "duration": 8,
    "start_time": "2023-11-26T05:13:05.237Z"
   },
   {
    "duration": 43,
    "start_time": "2023-11-26T05:13:05.246Z"
   },
   {
    "duration": 10,
    "start_time": "2023-11-26T05:13:05.291Z"
   },
   {
    "duration": 140,
    "start_time": "2023-11-26T05:13:05.303Z"
   },
   {
    "duration": 12,
    "start_time": "2023-11-26T05:13:05.445Z"
   },
   {
    "duration": 55,
    "start_time": "2023-11-26T05:13:05.459Z"
   },
   {
    "duration": 7,
    "start_time": "2023-11-26T05:13:05.516Z"
   },
   {
    "duration": 7,
    "start_time": "2023-11-26T05:13:05.525Z"
   },
   {
    "duration": 27,
    "start_time": "2023-11-26T05:13:05.534Z"
   },
   {
    "duration": 15,
    "start_time": "2023-11-26T05:13:05.563Z"
   },
   {
    "duration": 10926,
    "start_time": "2023-11-26T05:13:05.579Z"
   },
   {
    "duration": 940136,
    "start_time": "2023-11-26T05:13:16.507Z"
   },
   {
    "duration": 51541,
    "start_time": "2023-11-26T05:28:56.644Z"
   },
   {
    "duration": 4850836,
    "start_time": "2023-11-26T05:29:48.187Z"
   },
   {
    "duration": 9,
    "start_time": "2023-11-26T06:50:39.025Z"
   },
   {
    "duration": 29191,
    "start_time": "2023-11-26T06:50:39.035Z"
   },
   {
    "duration": 4,
    "start_time": "2023-11-26T06:51:08.227Z"
   },
   {
    "duration": 861,
    "start_time": "2023-11-26T06:51:08.233Z"
   },
   {
    "duration": 8,
    "start_time": "2023-11-26T06:51:09.096Z"
   },
   {
    "duration": 10,
    "start_time": "2023-11-26T12:25:08.733Z"
   },
   {
    "duration": 49,
    "start_time": "2023-11-27T16:51:30.830Z"
   },
   {
    "duration": 7,
    "start_time": "2023-11-27T16:53:47.599Z"
   },
   {
    "duration": 6,
    "start_time": "2023-11-27T17:09:08.117Z"
   },
   {
    "duration": 2009,
    "start_time": "2023-11-27T17:16:09.664Z"
   },
   {
    "duration": 73,
    "start_time": "2023-11-27T17:16:11.675Z"
   },
   {
    "duration": 86,
    "start_time": "2023-11-27T17:16:11.749Z"
   },
   {
    "duration": 11,
    "start_time": "2023-11-27T17:16:11.837Z"
   },
   {
    "duration": 32,
    "start_time": "2023-11-27T17:16:11.850Z"
   },
   {
    "duration": 5,
    "start_time": "2023-11-27T17:16:11.883Z"
   },
   {
    "duration": 11,
    "start_time": "2023-11-27T17:16:11.889Z"
   },
   {
    "duration": 254,
    "start_time": "2023-11-27T17:16:11.902Z"
   },
   {
    "duration": 10,
    "start_time": "2023-11-27T17:16:12.158Z"
   },
   {
    "duration": 4,
    "start_time": "2023-11-27T17:16:12.171Z"
   },
   {
    "duration": 156,
    "start_time": "2023-11-27T17:16:12.176Z"
   },
   {
    "duration": 94,
    "start_time": "2023-11-27T17:16:12.333Z"
   },
   {
    "duration": 153,
    "start_time": "2023-11-27T17:16:12.428Z"
   },
   {
    "duration": 106,
    "start_time": "2023-11-27T17:16:12.583Z"
   },
   {
    "duration": 146,
    "start_time": "2023-11-27T17:16:12.690Z"
   },
   {
    "duration": 89,
    "start_time": "2023-11-27T17:16:12.838Z"
   },
   {
    "duration": 4,
    "start_time": "2023-11-27T17:16:12.928Z"
   },
   {
    "duration": 142,
    "start_time": "2023-11-27T17:16:12.933Z"
   },
   {
    "duration": 3,
    "start_time": "2023-11-27T17:16:13.077Z"
   },
   {
    "duration": 8,
    "start_time": "2023-11-27T17:16:13.082Z"
   },
   {
    "duration": 10,
    "start_time": "2023-11-27T17:16:13.091Z"
   },
   {
    "duration": 152,
    "start_time": "2023-11-27T17:16:13.102Z"
   },
   {
    "duration": 12,
    "start_time": "2023-11-27T17:16:13.256Z"
   },
   {
    "duration": 5,
    "start_time": "2023-11-27T17:16:13.269Z"
   },
   {
    "duration": 32,
    "start_time": "2023-11-27T17:16:13.275Z"
   },
   {
    "duration": 110,
    "start_time": "2023-11-27T17:16:13.308Z"
   },
   {
    "duration": 0,
    "start_time": "2023-11-27T17:16:13.420Z"
   },
   {
    "duration": 0,
    "start_time": "2023-11-27T17:16:13.421Z"
   },
   {
    "duration": 0,
    "start_time": "2023-11-27T17:16:13.422Z"
   },
   {
    "duration": 0,
    "start_time": "2023-11-27T17:16:13.423Z"
   },
   {
    "duration": 0,
    "start_time": "2023-11-27T17:16:13.424Z"
   },
   {
    "duration": 0,
    "start_time": "2023-11-27T17:16:13.425Z"
   },
   {
    "duration": 0,
    "start_time": "2023-11-27T17:16:13.426Z"
   },
   {
    "duration": 0,
    "start_time": "2023-11-27T17:16:13.427Z"
   },
   {
    "duration": 0,
    "start_time": "2023-11-27T17:16:13.428Z"
   },
   {
    "duration": 0,
    "start_time": "2023-11-27T17:16:13.429Z"
   },
   {
    "duration": 0,
    "start_time": "2023-11-27T17:16:13.430Z"
   },
   {
    "duration": 0,
    "start_time": "2023-11-27T17:16:13.432Z"
   },
   {
    "duration": 0,
    "start_time": "2023-11-27T17:16:13.432Z"
   },
   {
    "duration": 0,
    "start_time": "2023-11-27T17:16:13.433Z"
   },
   {
    "duration": 0,
    "start_time": "2023-11-27T17:16:13.434Z"
   },
   {
    "duration": 0,
    "start_time": "2023-11-27T17:16:13.435Z"
   },
   {
    "duration": 0,
    "start_time": "2023-11-27T17:16:13.465Z"
   },
   {
    "duration": 28,
    "start_time": "2023-11-27T17:17:07.766Z"
   },
   {
    "duration": 4,
    "start_time": "2023-11-27T17:17:52.742Z"
   },
   {
    "duration": 11,
    "start_time": "2023-11-27T17:18:09.786Z"
   },
   {
    "duration": 4,
    "start_time": "2023-11-27T17:18:17.817Z"
   },
   {
    "duration": 6,
    "start_time": "2023-11-27T17:18:20.018Z"
   },
   {
    "duration": 32,
    "start_time": "2023-11-27T17:18:20.026Z"
   },
   {
    "duration": 14,
    "start_time": "2023-11-27T17:18:20.060Z"
   },
   {
    "duration": 11,
    "start_time": "2023-11-27T17:18:20.076Z"
   },
   {
    "duration": 24,
    "start_time": "2023-11-27T17:18:20.089Z"
   },
   {
    "duration": 18,
    "start_time": "2023-11-27T17:18:20.115Z"
   },
   {
    "duration": 7,
    "start_time": "2023-11-27T17:18:20.259Z"
   },
   {
    "duration": 229,
    "start_time": "2023-11-27T17:18:20.267Z"
   },
   {
    "duration": 5,
    "start_time": "2023-11-27T17:18:20.498Z"
   },
   {
    "duration": 26,
    "start_time": "2023-11-27T17:18:20.505Z"
   },
   {
    "duration": 126,
    "start_time": "2023-11-27T17:18:20.533Z"
   },
   {
    "duration": 85,
    "start_time": "2023-11-27T17:18:20.661Z"
   },
   {
    "duration": 172,
    "start_time": "2023-11-27T17:18:20.748Z"
   },
   {
    "duration": 193,
    "start_time": "2023-11-27T17:18:20.922Z"
   },
   {
    "duration": 145,
    "start_time": "2023-11-27T17:18:21.116Z"
   },
   {
    "duration": 99,
    "start_time": "2023-11-27T17:18:21.266Z"
   },
   {
    "duration": 4,
    "start_time": "2023-11-27T17:18:21.366Z"
   },
   {
    "duration": 137,
    "start_time": "2023-11-27T17:18:21.371Z"
   },
   {
    "duration": 4,
    "start_time": "2023-11-27T17:18:21.509Z"
   },
   {
    "duration": 6,
    "start_time": "2023-11-27T17:18:21.514Z"
   },
   {
    "duration": 20,
    "start_time": "2023-11-27T17:18:21.521Z"
   },
   {
    "duration": 143,
    "start_time": "2023-11-27T17:18:21.543Z"
   },
   {
    "duration": 7,
    "start_time": "2023-11-27T17:18:21.687Z"
   },
   {
    "duration": 14,
    "start_time": "2023-11-27T17:18:21.695Z"
   },
   {
    "duration": 4,
    "start_time": "2023-11-27T17:18:21.711Z"
   },
   {
    "duration": 3,
    "start_time": "2023-11-27T17:18:21.717Z"
   },
   {
    "duration": 49,
    "start_time": "2023-11-27T17:18:21.721Z"
   },
   {
    "duration": 16,
    "start_time": "2023-11-27T17:18:21.771Z"
   },
   {
    "duration": 0,
    "start_time": "2023-11-27T17:18:21.788Z"
   },
   {
    "duration": 0,
    "start_time": "2023-11-27T17:18:21.789Z"
   },
   {
    "duration": 0,
    "start_time": "2023-11-27T17:18:21.791Z"
   },
   {
    "duration": 0,
    "start_time": "2023-11-27T17:18:21.792Z"
   },
   {
    "duration": 0,
    "start_time": "2023-11-27T17:18:21.793Z"
   },
   {
    "duration": 0,
    "start_time": "2023-11-27T17:18:21.794Z"
   },
   {
    "duration": 0,
    "start_time": "2023-11-27T17:18:21.795Z"
   },
   {
    "duration": 0,
    "start_time": "2023-11-27T17:18:21.796Z"
   },
   {
    "duration": 0,
    "start_time": "2023-11-27T17:18:21.797Z"
   },
   {
    "duration": 0,
    "start_time": "2023-11-27T17:18:21.798Z"
   },
   {
    "duration": 0,
    "start_time": "2023-11-27T17:18:21.799Z"
   },
   {
    "duration": 0,
    "start_time": "2023-11-27T17:18:21.800Z"
   },
   {
    "duration": 0,
    "start_time": "2023-11-27T17:18:21.801Z"
   },
   {
    "duration": 0,
    "start_time": "2023-11-27T17:18:21.802Z"
   },
   {
    "duration": 0,
    "start_time": "2023-11-27T17:18:21.803Z"
   },
   {
    "duration": 0,
    "start_time": "2023-11-27T17:18:21.804Z"
   },
   {
    "duration": 0,
    "start_time": "2023-11-27T17:18:21.805Z"
   },
   {
    "duration": 4,
    "start_time": "2023-11-27T17:18:45.104Z"
   },
   {
    "duration": 4,
    "start_time": "2023-11-27T17:18:49.703Z"
   },
   {
    "duration": 4,
    "start_time": "2023-11-27T17:19:36.984Z"
   },
   {
    "duration": 4,
    "start_time": "2023-11-27T17:19:47.357Z"
   },
   {
    "duration": 4,
    "start_time": "2023-11-27T17:21:00.853Z"
   },
   {
    "duration": 5,
    "start_time": "2023-11-27T17:21:01.698Z"
   },
   {
    "duration": 5,
    "start_time": "2023-11-27T17:21:03.915Z"
   },
   {
    "duration": 5,
    "start_time": "2023-11-27T17:21:05.957Z"
   },
   {
    "duration": 5,
    "start_time": "2023-11-27T17:21:13.983Z"
   },
   {
    "duration": 11,
    "start_time": "2023-11-27T17:32:01.104Z"
   },
   {
    "duration": 15,
    "start_time": "2023-11-27T17:32:06.558Z"
   },
   {
    "duration": 5,
    "start_time": "2023-11-27T17:32:11.511Z"
   },
   {
    "duration": 9,
    "start_time": "2023-11-27T17:34:35.966Z"
   },
   {
    "duration": 9,
    "start_time": "2023-11-27T17:34:59.177Z"
   },
   {
    "duration": 4,
    "start_time": "2023-11-27T17:35:06.653Z"
   },
   {
    "duration": 12,
    "start_time": "2023-11-27T17:35:10.807Z"
   },
   {
    "duration": 12,
    "start_time": "2023-11-27T17:35:14.036Z"
   },
   {
    "duration": 3,
    "start_time": "2023-11-27T17:35:20.804Z"
   },
   {
    "duration": 12,
    "start_time": "2023-11-27T17:35:22.472Z"
   },
   {
    "duration": 13,
    "start_time": "2023-11-27T17:35:23.484Z"
   },
   {
    "duration": 12,
    "start_time": "2023-11-27T17:39:54.997Z"
   },
   {
    "duration": 20,
    "start_time": "2023-11-27T17:40:29.527Z"
   },
   {
    "duration": 24,
    "start_time": "2023-11-27T17:40:40.432Z"
   },
   {
    "duration": 5,
    "start_time": "2023-11-27T17:42:51.585Z"
   },
   {
    "duration": 29,
    "start_time": "2023-11-27T17:42:51.592Z"
   },
   {
    "duration": 14,
    "start_time": "2023-11-27T17:42:51.622Z"
   },
   {
    "duration": 11,
    "start_time": "2023-11-27T17:42:51.637Z"
   },
   {
    "duration": 38,
    "start_time": "2023-11-27T17:42:51.650Z"
   },
   {
    "duration": 6,
    "start_time": "2023-11-27T17:42:51.689Z"
   },
   {
    "duration": 10,
    "start_time": "2023-11-27T17:42:51.696Z"
   },
   {
    "duration": 222,
    "start_time": "2023-11-27T17:42:51.707Z"
   },
   {
    "duration": 5,
    "start_time": "2023-11-27T17:42:51.930Z"
   },
   {
    "duration": 24,
    "start_time": "2023-11-27T17:42:51.937Z"
   },
   {
    "duration": 241,
    "start_time": "2023-11-27T17:42:51.963Z"
   },
   {
    "duration": 85,
    "start_time": "2023-11-27T17:42:52.205Z"
   },
   {
    "duration": 165,
    "start_time": "2023-11-27T17:42:52.292Z"
   },
   {
    "duration": 87,
    "start_time": "2023-11-27T17:42:52.466Z"
   },
   {
    "duration": 145,
    "start_time": "2023-11-27T17:42:52.554Z"
   },
   {
    "duration": 93,
    "start_time": "2023-11-27T17:42:52.700Z"
   },
   {
    "duration": 3,
    "start_time": "2023-11-27T17:42:52.795Z"
   },
   {
    "duration": 121,
    "start_time": "2023-11-27T17:42:52.799Z"
   },
   {
    "duration": 3,
    "start_time": "2023-11-27T17:42:52.922Z"
   },
   {
    "duration": 7,
    "start_time": "2023-11-27T17:42:52.926Z"
   },
   {
    "duration": 13,
    "start_time": "2023-11-27T17:42:52.935Z"
   },
   {
    "duration": 158,
    "start_time": "2023-11-27T17:42:52.949Z"
   },
   {
    "duration": 6,
    "start_time": "2023-11-27T17:42:53.108Z"
   },
   {
    "duration": 7,
    "start_time": "2023-11-27T17:42:53.116Z"
   },
   {
    "duration": 5,
    "start_time": "2023-11-27T17:42:53.124Z"
   },
   {
    "duration": 46,
    "start_time": "2023-11-27T17:42:53.130Z"
   },
   {
    "duration": 22,
    "start_time": "2023-11-27T17:42:53.177Z"
   },
   {
    "duration": 19,
    "start_time": "2023-11-27T17:42:53.201Z"
   },
   {
    "duration": 0,
    "start_time": "2023-11-27T17:42:53.221Z"
   },
   {
    "duration": 0,
    "start_time": "2023-11-27T17:42:53.223Z"
   },
   {
    "duration": 0,
    "start_time": "2023-11-27T17:42:53.224Z"
   },
   {
    "duration": 0,
    "start_time": "2023-11-27T17:42:53.225Z"
   },
   {
    "duration": 0,
    "start_time": "2023-11-27T17:42:53.227Z"
   },
   {
    "duration": 0,
    "start_time": "2023-11-27T17:42:53.228Z"
   },
   {
    "duration": 0,
    "start_time": "2023-11-27T17:42:53.229Z"
   },
   {
    "duration": 0,
    "start_time": "2023-11-27T17:42:53.231Z"
   },
   {
    "duration": 1,
    "start_time": "2023-11-27T17:42:53.231Z"
   },
   {
    "duration": 0,
    "start_time": "2023-11-27T17:42:53.233Z"
   },
   {
    "duration": 0,
    "start_time": "2023-11-27T17:42:53.234Z"
   },
   {
    "duration": 0,
    "start_time": "2023-11-27T17:42:53.265Z"
   },
   {
    "duration": 0,
    "start_time": "2023-11-27T17:42:53.266Z"
   },
   {
    "duration": 0,
    "start_time": "2023-11-27T17:42:53.268Z"
   },
   {
    "duration": 0,
    "start_time": "2023-11-27T17:42:53.269Z"
   },
   {
    "duration": 0,
    "start_time": "2023-11-27T17:42:53.271Z"
   },
   {
    "duration": 16,
    "start_time": "2023-11-27T17:43:18.401Z"
   },
   {
    "duration": 5,
    "start_time": "2023-11-27T17:52:40.166Z"
   },
   {
    "duration": 28,
    "start_time": "2023-11-27T17:52:40.173Z"
   },
   {
    "duration": 13,
    "start_time": "2023-11-27T17:52:40.203Z"
   },
   {
    "duration": 10,
    "start_time": "2023-11-27T17:52:40.218Z"
   },
   {
    "duration": 39,
    "start_time": "2023-11-27T17:52:40.230Z"
   },
   {
    "duration": 5,
    "start_time": "2023-11-27T17:52:40.270Z"
   },
   {
    "duration": 5,
    "start_time": "2023-11-27T17:52:40.277Z"
   },
   {
    "duration": 235,
    "start_time": "2023-11-27T17:52:40.284Z"
   },
   {
    "duration": 5,
    "start_time": "2023-11-27T17:52:40.521Z"
   },
   {
    "duration": 4,
    "start_time": "2023-11-27T17:52:40.527Z"
   },
   {
    "duration": 137,
    "start_time": "2023-11-27T17:52:40.532Z"
   },
   {
    "duration": 80,
    "start_time": "2023-11-27T17:52:40.670Z"
   },
   {
    "duration": 151,
    "start_time": "2023-11-27T17:52:40.766Z"
   },
   {
    "duration": 102,
    "start_time": "2023-11-27T17:52:40.919Z"
   },
   {
    "duration": 141,
    "start_time": "2023-11-27T17:52:41.022Z"
   },
   {
    "duration": 83,
    "start_time": "2023-11-27T17:52:41.165Z"
   },
   {
    "duration": 16,
    "start_time": "2023-11-27T17:52:41.250Z"
   },
   {
    "duration": 129,
    "start_time": "2023-11-27T17:52:41.268Z"
   },
   {
    "duration": 3,
    "start_time": "2023-11-27T17:52:41.399Z"
   },
   {
    "duration": 5,
    "start_time": "2023-11-27T17:52:41.404Z"
   },
   {
    "duration": 9,
    "start_time": "2023-11-27T17:52:41.410Z"
   },
   {
    "duration": 146,
    "start_time": "2023-11-27T17:52:41.421Z"
   },
   {
    "duration": 5,
    "start_time": "2023-11-27T17:52:41.569Z"
   },
   {
    "duration": 6,
    "start_time": "2023-11-27T17:52:41.576Z"
   },
   {
    "duration": 3,
    "start_time": "2023-11-27T17:52:41.584Z"
   },
   {
    "duration": 27,
    "start_time": "2023-11-27T17:52:41.588Z"
   },
   {
    "duration": 54,
    "start_time": "2023-11-27T17:52:41.616Z"
   },
   {
    "duration": 8,
    "start_time": "2023-11-27T17:52:41.671Z"
   },
   {
    "duration": 11,
    "start_time": "2023-11-27T17:52:41.681Z"
   },
   {
    "duration": 0,
    "start_time": "2023-11-27T17:52:41.694Z"
   },
   {
    "duration": 0,
    "start_time": "2023-11-27T17:52:41.695Z"
   },
   {
    "duration": 0,
    "start_time": "2023-11-27T17:52:41.697Z"
   },
   {
    "duration": 0,
    "start_time": "2023-11-27T17:52:41.699Z"
   },
   {
    "duration": 0,
    "start_time": "2023-11-27T17:52:41.700Z"
   },
   {
    "duration": 0,
    "start_time": "2023-11-27T17:52:41.701Z"
   },
   {
    "duration": 0,
    "start_time": "2023-11-27T17:52:41.703Z"
   },
   {
    "duration": 0,
    "start_time": "2023-11-27T17:52:41.704Z"
   },
   {
    "duration": 0,
    "start_time": "2023-11-27T17:52:41.705Z"
   },
   {
    "duration": 0,
    "start_time": "2023-11-27T17:52:41.707Z"
   },
   {
    "duration": 0,
    "start_time": "2023-11-27T17:52:41.708Z"
   },
   {
    "duration": 0,
    "start_time": "2023-11-27T17:52:41.710Z"
   },
   {
    "duration": 0,
    "start_time": "2023-11-27T17:52:41.711Z"
   },
   {
    "duration": 0,
    "start_time": "2023-11-27T17:52:41.712Z"
   },
   {
    "duration": 0,
    "start_time": "2023-11-27T17:52:41.714Z"
   },
   {
    "duration": 7,
    "start_time": "2023-11-27T17:55:44.784Z"
   },
   {
    "duration": 11,
    "start_time": "2023-11-27T17:55:49.281Z"
   },
   {
    "duration": 16,
    "start_time": "2023-11-27T17:55:54.539Z"
   },
   {
    "duration": 7,
    "start_time": "2023-11-27T17:56:09.956Z"
   },
   {
    "duration": 13,
    "start_time": "2023-11-27T17:56:12.619Z"
   },
   {
    "duration": 4,
    "start_time": "2023-11-27T17:57:03.365Z"
   },
   {
    "duration": 28,
    "start_time": "2023-11-27T17:57:03.371Z"
   },
   {
    "duration": 14,
    "start_time": "2023-11-27T17:57:03.401Z"
   },
   {
    "duration": 14,
    "start_time": "2023-11-27T17:57:03.416Z"
   },
   {
    "duration": 33,
    "start_time": "2023-11-27T17:57:03.432Z"
   },
   {
    "duration": 6,
    "start_time": "2023-11-27T17:57:03.467Z"
   },
   {
    "duration": 6,
    "start_time": "2023-11-27T17:57:03.474Z"
   },
   {
    "duration": 247,
    "start_time": "2023-11-27T17:57:03.481Z"
   },
   {
    "duration": 6,
    "start_time": "2023-11-27T17:57:03.730Z"
   },
   {
    "duration": 6,
    "start_time": "2023-11-27T17:57:03.738Z"
   },
   {
    "duration": 143,
    "start_time": "2023-11-27T17:57:03.746Z"
   },
   {
    "duration": 87,
    "start_time": "2023-11-27T17:57:03.891Z"
   },
   {
    "duration": 148,
    "start_time": "2023-11-27T17:57:03.979Z"
   },
   {
    "duration": 102,
    "start_time": "2023-11-27T17:57:04.128Z"
   },
   {
    "duration": 138,
    "start_time": "2023-11-27T17:57:04.232Z"
   },
   {
    "duration": 95,
    "start_time": "2023-11-27T17:57:04.372Z"
   },
   {
    "duration": 3,
    "start_time": "2023-11-27T17:57:04.469Z"
   },
   {
    "duration": 272,
    "start_time": "2023-11-27T17:57:04.474Z"
   },
   {
    "duration": 4,
    "start_time": "2023-11-27T17:57:04.748Z"
   },
   {
    "duration": 12,
    "start_time": "2023-11-27T17:57:04.754Z"
   },
   {
    "duration": 9,
    "start_time": "2023-11-27T17:57:04.768Z"
   },
   {
    "duration": 145,
    "start_time": "2023-11-27T17:57:04.779Z"
   },
   {
    "duration": 7,
    "start_time": "2023-11-27T17:57:04.926Z"
   },
   {
    "duration": 6,
    "start_time": "2023-11-27T17:57:04.934Z"
   },
   {
    "duration": 3,
    "start_time": "2023-11-27T17:57:04.942Z"
   },
   {
    "duration": 26,
    "start_time": "2023-11-27T17:57:04.966Z"
   },
   {
    "duration": 22,
    "start_time": "2023-11-27T17:57:04.994Z"
   },
   {
    "duration": 8,
    "start_time": "2023-11-27T17:57:05.018Z"
   },
   {
    "duration": 40,
    "start_time": "2023-11-27T17:57:05.030Z"
   },
   {
    "duration": 9,
    "start_time": "2023-11-27T17:57:05.072Z"
   },
   {
    "duration": 19,
    "start_time": "2023-11-27T17:57:05.082Z"
   },
   {
    "duration": 8,
    "start_time": "2023-11-27T17:57:05.103Z"
   },
   {
    "duration": 8,
    "start_time": "2023-11-27T17:57:05.113Z"
   },
   {
    "duration": 6,
    "start_time": "2023-11-27T17:57:05.123Z"
   },
   {
    "duration": 11,
    "start_time": "2023-11-27T17:57:05.131Z"
   },
   {
    "duration": 45,
    "start_time": "2023-11-27T17:57:05.143Z"
   },
   {
    "duration": 0,
    "start_time": "2023-11-27T17:57:05.190Z"
   },
   {
    "duration": 0,
    "start_time": "2023-11-27T17:57:05.191Z"
   },
   {
    "duration": 0,
    "start_time": "2023-11-27T17:57:05.193Z"
   },
   {
    "duration": 0,
    "start_time": "2023-11-27T17:57:05.194Z"
   },
   {
    "duration": 0,
    "start_time": "2023-11-27T17:57:05.195Z"
   },
   {
    "duration": 0,
    "start_time": "2023-11-27T17:57:05.197Z"
   },
   {
    "duration": 0,
    "start_time": "2023-11-27T17:57:05.198Z"
   },
   {
    "duration": 0,
    "start_time": "2023-11-27T17:57:05.199Z"
   },
   {
    "duration": 8,
    "start_time": "2023-11-27T18:01:10.536Z"
   },
   {
    "duration": 5,
    "start_time": "2023-11-27T18:01:18.580Z"
   },
   {
    "duration": 39,
    "start_time": "2023-11-27T18:01:18.588Z"
   },
   {
    "duration": 14,
    "start_time": "2023-11-27T18:01:18.628Z"
   },
   {
    "duration": 37,
    "start_time": "2023-11-27T18:01:18.643Z"
   },
   {
    "duration": 46,
    "start_time": "2023-11-27T18:01:18.682Z"
   },
   {
    "duration": 6,
    "start_time": "2023-11-27T18:01:18.731Z"
   },
   {
    "duration": 22,
    "start_time": "2023-11-27T18:01:18.739Z"
   },
   {
    "duration": 268,
    "start_time": "2023-11-27T18:01:18.763Z"
   },
   {
    "duration": 5,
    "start_time": "2023-11-27T18:01:19.032Z"
   },
   {
    "duration": 18,
    "start_time": "2023-11-27T18:01:19.039Z"
   },
   {
    "duration": 145,
    "start_time": "2023-11-27T18:01:19.058Z"
   },
   {
    "duration": 88,
    "start_time": "2023-11-27T18:01:19.204Z"
   },
   {
    "duration": 155,
    "start_time": "2023-11-27T18:01:19.294Z"
   },
   {
    "duration": 101,
    "start_time": "2023-11-27T18:01:19.450Z"
   },
   {
    "duration": 136,
    "start_time": "2023-11-27T18:01:19.564Z"
   },
   {
    "duration": 102,
    "start_time": "2023-11-27T18:01:19.701Z"
   },
   {
    "duration": 4,
    "start_time": "2023-11-27T18:01:19.804Z"
   },
   {
    "duration": 139,
    "start_time": "2023-11-27T18:01:19.809Z"
   },
   {
    "duration": 3,
    "start_time": "2023-11-27T18:01:19.950Z"
   },
   {
    "duration": 13,
    "start_time": "2023-11-27T18:01:19.954Z"
   },
   {
    "duration": 8,
    "start_time": "2023-11-27T18:01:19.968Z"
   },
   {
    "duration": 165,
    "start_time": "2023-11-27T18:01:19.978Z"
   },
   {
    "duration": 6,
    "start_time": "2023-11-27T18:01:20.144Z"
   },
   {
    "duration": 22,
    "start_time": "2023-11-27T18:01:20.151Z"
   },
   {
    "duration": 12,
    "start_time": "2023-11-27T18:01:20.175Z"
   },
   {
    "duration": 29,
    "start_time": "2023-11-27T18:01:20.189Z"
   },
   {
    "duration": 21,
    "start_time": "2023-11-27T18:01:20.220Z"
   },
   {
    "duration": 29,
    "start_time": "2023-11-27T18:01:20.243Z"
   },
   {
    "duration": 67,
    "start_time": "2023-11-27T18:01:20.274Z"
   },
   {
    "duration": 19,
    "start_time": "2023-11-27T18:01:20.342Z"
   },
   {
    "duration": 10,
    "start_time": "2023-11-27T18:01:20.363Z"
   },
   {
    "duration": 4,
    "start_time": "2023-11-27T18:01:20.374Z"
   },
   {
    "duration": 2,
    "start_time": "2023-11-27T18:01:20.379Z"
   },
   {
    "duration": 13,
    "start_time": "2023-11-27T18:01:20.383Z"
   },
   {
    "duration": 38,
    "start_time": "2023-11-27T18:01:20.397Z"
   },
   {
    "duration": 25,
    "start_time": "2023-11-27T18:01:20.437Z"
   },
   {
    "duration": 0,
    "start_time": "2023-11-27T18:01:20.464Z"
   },
   {
    "duration": 0,
    "start_time": "2023-11-27T18:01:20.465Z"
   },
   {
    "duration": 0,
    "start_time": "2023-11-27T18:01:20.466Z"
   },
   {
    "duration": 0,
    "start_time": "2023-11-27T18:01:20.467Z"
   },
   {
    "duration": 0,
    "start_time": "2023-11-27T18:01:20.468Z"
   },
   {
    "duration": 0,
    "start_time": "2023-11-27T18:01:20.469Z"
   },
   {
    "duration": 0,
    "start_time": "2023-11-27T18:01:20.470Z"
   },
   {
    "duration": 0,
    "start_time": "2023-11-27T18:01:20.471Z"
   },
   {
    "duration": 6,
    "start_time": "2023-11-27T22:58:29.052Z"
   },
   {
    "duration": 28,
    "start_time": "2023-11-27T22:58:29.060Z"
   },
   {
    "duration": 14,
    "start_time": "2023-11-27T22:58:29.089Z"
   },
   {
    "duration": 11,
    "start_time": "2023-11-27T22:58:29.104Z"
   },
   {
    "duration": 23,
    "start_time": "2023-11-27T22:58:29.117Z"
   },
   {
    "duration": 6,
    "start_time": "2023-11-27T22:58:29.141Z"
   },
   {
    "duration": 5,
    "start_time": "2023-11-27T22:58:29.165Z"
   },
   {
    "duration": 238,
    "start_time": "2023-11-27T22:58:29.172Z"
   },
   {
    "duration": 6,
    "start_time": "2023-11-27T22:58:29.411Z"
   },
   {
    "duration": 6,
    "start_time": "2023-11-27T22:58:29.419Z"
   },
   {
    "duration": 143,
    "start_time": "2023-11-27T22:58:29.426Z"
   },
   {
    "duration": 82,
    "start_time": "2023-11-27T22:58:29.570Z"
   },
   {
    "duration": 155,
    "start_time": "2023-11-27T22:58:29.664Z"
   },
   {
    "duration": 105,
    "start_time": "2023-11-27T22:58:29.822Z"
   },
   {
    "duration": 150,
    "start_time": "2023-11-27T22:58:29.929Z"
   },
   {
    "duration": 92,
    "start_time": "2023-11-27T22:58:30.080Z"
   },
   {
    "duration": 4,
    "start_time": "2023-11-27T22:58:30.173Z"
   },
   {
    "duration": 135,
    "start_time": "2023-11-27T22:58:30.179Z"
   },
   {
    "duration": 4,
    "start_time": "2023-11-27T22:58:30.316Z"
   },
   {
    "duration": 24,
    "start_time": "2023-11-27T22:58:30.321Z"
   },
   {
    "duration": 14,
    "start_time": "2023-11-27T22:58:30.347Z"
   },
   {
    "duration": 130,
    "start_time": "2023-11-27T22:58:30.363Z"
   },
   {
    "duration": 6,
    "start_time": "2023-11-27T22:58:30.494Z"
   },
   {
    "duration": 17,
    "start_time": "2023-11-27T22:58:30.502Z"
   },
   {
    "duration": 24,
    "start_time": "2023-11-27T22:58:30.520Z"
   },
   {
    "duration": 47,
    "start_time": "2023-11-27T22:58:30.545Z"
   },
   {
    "duration": 44,
    "start_time": "2023-11-27T22:58:30.593Z"
   },
   {
    "duration": 7,
    "start_time": "2023-11-27T22:58:30.639Z"
   },
   {
    "duration": 32,
    "start_time": "2023-11-27T22:58:30.647Z"
   },
   {
    "duration": 23,
    "start_time": "2023-11-27T22:58:30.680Z"
   },
   {
    "duration": 32,
    "start_time": "2023-11-27T22:58:30.704Z"
   },
   {
    "duration": 26,
    "start_time": "2023-11-27T22:58:30.738Z"
   },
   {
    "duration": 40,
    "start_time": "2023-11-27T22:58:30.765Z"
   },
   {
    "duration": 40,
    "start_time": "2023-11-27T22:58:30.806Z"
   },
   {
    "duration": 67,
    "start_time": "2023-11-27T22:58:30.848Z"
   },
   {
    "duration": 52,
    "start_time": "2023-11-27T22:58:30.917Z"
   },
   {
    "duration": 0,
    "start_time": "2023-11-27T22:58:30.971Z"
   },
   {
    "duration": 0,
    "start_time": "2023-11-27T22:58:30.972Z"
   },
   {
    "duration": 0,
    "start_time": "2023-11-27T22:58:30.973Z"
   },
   {
    "duration": 0,
    "start_time": "2023-11-27T22:58:30.974Z"
   },
   {
    "duration": 0,
    "start_time": "2023-11-27T22:58:30.975Z"
   },
   {
    "duration": 0,
    "start_time": "2023-11-27T22:58:30.976Z"
   },
   {
    "duration": 0,
    "start_time": "2023-11-27T22:58:30.977Z"
   },
   {
    "duration": 0,
    "start_time": "2023-11-27T22:58:30.979Z"
   },
   {
    "duration": 10,
    "start_time": "2023-11-27T23:01:51.444Z"
   },
   {
    "duration": 6,
    "start_time": "2023-11-27T23:01:55.630Z"
   },
   {
    "duration": 6,
    "start_time": "2023-11-27T23:02:03.760Z"
   },
   {
    "duration": 5,
    "start_time": "2023-11-27T23:02:14.365Z"
   },
   {
    "duration": 29,
    "start_time": "2023-11-27T23:02:14.372Z"
   },
   {
    "duration": 13,
    "start_time": "2023-11-27T23:02:14.403Z"
   },
   {
    "duration": 11,
    "start_time": "2023-11-27T23:02:14.418Z"
   },
   {
    "duration": 40,
    "start_time": "2023-11-27T23:02:14.431Z"
   },
   {
    "duration": 5,
    "start_time": "2023-11-27T23:02:14.473Z"
   },
   {
    "duration": 10,
    "start_time": "2023-11-27T23:02:14.480Z"
   },
   {
    "duration": 238,
    "start_time": "2023-11-27T23:02:14.491Z"
   },
   {
    "duration": 6,
    "start_time": "2023-11-27T23:02:14.730Z"
   },
   {
    "duration": 3,
    "start_time": "2023-11-27T23:02:14.738Z"
   },
   {
    "duration": 137,
    "start_time": "2023-11-27T23:02:14.742Z"
   },
   {
    "duration": 85,
    "start_time": "2023-11-27T23:02:14.880Z"
   },
   {
    "duration": 145,
    "start_time": "2023-11-27T23:02:14.966Z"
   },
   {
    "duration": 101,
    "start_time": "2023-11-27T23:02:15.113Z"
   },
   {
    "duration": 141,
    "start_time": "2023-11-27T23:02:15.216Z"
   },
   {
    "duration": 82,
    "start_time": "2023-11-27T23:02:15.364Z"
   },
   {
    "duration": 4,
    "start_time": "2023-11-27T23:02:15.447Z"
   },
   {
    "duration": 138,
    "start_time": "2023-11-27T23:02:15.465Z"
   },
   {
    "duration": 3,
    "start_time": "2023-11-27T23:02:15.605Z"
   },
   {
    "duration": 9,
    "start_time": "2023-11-27T23:02:15.609Z"
   },
   {
    "duration": 18,
    "start_time": "2023-11-27T23:02:15.619Z"
   },
   {
    "duration": 329,
    "start_time": "2023-11-27T23:02:15.639Z"
   },
   {
    "duration": 6,
    "start_time": "2023-11-27T23:02:15.969Z"
   },
   {
    "duration": 9,
    "start_time": "2023-11-27T23:02:15.976Z"
   },
   {
    "duration": 5,
    "start_time": "2023-11-27T23:02:15.987Z"
   },
   {
    "duration": 24,
    "start_time": "2023-11-27T23:02:15.994Z"
   },
   {
    "duration": 22,
    "start_time": "2023-11-27T23:02:16.020Z"
   },
   {
    "duration": 6,
    "start_time": "2023-11-27T23:02:16.068Z"
   },
   {
    "duration": 10,
    "start_time": "2023-11-27T23:02:16.076Z"
   },
   {
    "duration": 8,
    "start_time": "2023-11-27T23:02:16.087Z"
   },
   {
    "duration": 86,
    "start_time": "2023-11-27T23:02:16.096Z"
   },
   {
    "duration": 0,
    "start_time": "2023-11-27T23:02:16.184Z"
   },
   {
    "duration": 0,
    "start_time": "2023-11-27T23:02:16.185Z"
   },
   {
    "duration": 0,
    "start_time": "2023-11-27T23:02:16.186Z"
   },
   {
    "duration": 0,
    "start_time": "2023-11-27T23:02:16.187Z"
   },
   {
    "duration": 0,
    "start_time": "2023-11-27T23:02:16.188Z"
   },
   {
    "duration": 0,
    "start_time": "2023-11-27T23:02:16.189Z"
   },
   {
    "duration": 0,
    "start_time": "2023-11-27T23:02:16.190Z"
   },
   {
    "duration": 0,
    "start_time": "2023-11-27T23:02:16.191Z"
   },
   {
    "duration": 0,
    "start_time": "2023-11-27T23:02:16.191Z"
   },
   {
    "duration": 0,
    "start_time": "2023-11-27T23:02:16.192Z"
   },
   {
    "duration": 0,
    "start_time": "2023-11-27T23:02:16.193Z"
   },
   {
    "duration": 0,
    "start_time": "2023-11-27T23:02:16.194Z"
   },
   {
    "duration": 0,
    "start_time": "2023-11-27T23:02:16.195Z"
   },
   {
    "duration": 17,
    "start_time": "2023-11-27T23:06:04.128Z"
   },
   {
    "duration": 18,
    "start_time": "2023-11-27T23:06:14.646Z"
   },
   {
    "duration": 1463,
    "start_time": "2023-11-27T23:06:36.913Z"
   },
   {
    "duration": 1234,
    "start_time": "2023-11-27T23:06:44.403Z"
   },
   {
    "duration": 1266,
    "start_time": "2023-11-27T23:06:50.307Z"
   },
   {
    "duration": 5,
    "start_time": "2023-11-27T23:06:56.122Z"
   },
   {
    "duration": 5,
    "start_time": "2023-11-27T23:11:02.297Z"
   },
   {
    "duration": 4,
    "start_time": "2023-11-27T23:11:15.240Z"
   },
   {
    "duration": 5,
    "start_time": "2023-11-27T23:19:51.925Z"
   },
   {
    "duration": 32,
    "start_time": "2023-11-27T23:19:51.932Z"
   },
   {
    "duration": 12,
    "start_time": "2023-11-27T23:19:51.966Z"
   },
   {
    "duration": 11,
    "start_time": "2023-11-27T23:19:51.980Z"
   },
   {
    "duration": 35,
    "start_time": "2023-11-27T23:19:51.992Z"
   },
   {
    "duration": 6,
    "start_time": "2023-11-27T23:19:52.029Z"
   },
   {
    "duration": 30,
    "start_time": "2023-11-27T23:19:52.036Z"
   },
   {
    "duration": 220,
    "start_time": "2023-11-27T23:19:52.068Z"
   },
   {
    "duration": 5,
    "start_time": "2023-11-27T23:19:52.290Z"
   },
   {
    "duration": 4,
    "start_time": "2023-11-27T23:19:52.298Z"
   },
   {
    "duration": 152,
    "start_time": "2023-11-27T23:19:52.304Z"
   },
   {
    "duration": 82,
    "start_time": "2023-11-27T23:19:52.458Z"
   },
   {
    "duration": 147,
    "start_time": "2023-11-27T23:19:52.542Z"
   },
   {
    "duration": 97,
    "start_time": "2023-11-27T23:19:52.691Z"
   },
   {
    "duration": 136,
    "start_time": "2023-11-27T23:19:52.789Z"
   },
   {
    "duration": 94,
    "start_time": "2023-11-27T23:19:52.927Z"
   },
   {
    "duration": 3,
    "start_time": "2023-11-27T23:19:53.022Z"
   },
   {
    "duration": 122,
    "start_time": "2023-11-27T23:19:53.026Z"
   },
   {
    "duration": 3,
    "start_time": "2023-11-27T23:19:53.150Z"
   },
   {
    "duration": 13,
    "start_time": "2023-11-27T23:19:53.154Z"
   },
   {
    "duration": 13,
    "start_time": "2023-11-27T23:19:53.168Z"
   },
   {
    "duration": 129,
    "start_time": "2023-11-27T23:19:53.182Z"
   },
   {
    "duration": 4,
    "start_time": "2023-11-27T23:19:53.312Z"
   },
   {
    "duration": 9,
    "start_time": "2023-11-27T23:19:53.317Z"
   },
   {
    "duration": 27,
    "start_time": "2023-11-27T23:19:53.327Z"
   },
   {
    "duration": 29,
    "start_time": "2023-11-27T23:19:53.355Z"
   },
   {
    "duration": 6,
    "start_time": "2023-11-27T23:19:53.386Z"
   },
   {
    "duration": 12,
    "start_time": "2023-11-27T23:19:53.395Z"
   },
   {
    "duration": 11,
    "start_time": "2023-11-27T23:19:53.408Z"
   },
   {
    "duration": 27,
    "start_time": "2023-11-27T23:19:53.421Z"
   },
   {
    "duration": 22,
    "start_time": "2023-11-27T23:19:53.449Z"
   },
   {
    "duration": 7,
    "start_time": "2023-11-27T23:19:53.472Z"
   },
   {
    "duration": 13,
    "start_time": "2023-11-27T23:19:53.480Z"
   },
   {
    "duration": 13,
    "start_time": "2023-11-27T23:19:53.494Z"
   },
   {
    "duration": 24,
    "start_time": "2023-11-27T23:19:53.508Z"
   },
   {
    "duration": 27,
    "start_time": "2023-11-27T23:19:53.534Z"
   },
   {
    "duration": 12,
    "start_time": "2023-11-27T23:19:53.562Z"
   },
   {
    "duration": 88,
    "start_time": "2023-11-27T23:19:53.576Z"
   },
   {
    "duration": 0,
    "start_time": "2023-11-27T23:19:53.665Z"
   },
   {
    "duration": 0,
    "start_time": "2023-11-27T23:19:53.667Z"
   },
   {
    "duration": 0,
    "start_time": "2023-11-27T23:19:53.667Z"
   },
   {
    "duration": 0,
    "start_time": "2023-11-27T23:19:53.668Z"
   },
   {
    "duration": 0,
    "start_time": "2023-11-27T23:19:53.669Z"
   },
   {
    "duration": 0,
    "start_time": "2023-11-27T23:19:53.670Z"
   },
   {
    "duration": 0,
    "start_time": "2023-11-27T23:19:53.671Z"
   },
   {
    "duration": 0,
    "start_time": "2023-11-27T23:19:53.672Z"
   },
   {
    "duration": 0,
    "start_time": "2023-11-27T23:19:53.673Z"
   },
   {
    "duration": 0,
    "start_time": "2023-11-27T23:19:53.674Z"
   },
   {
    "duration": 0,
    "start_time": "2023-11-27T23:19:53.675Z"
   },
   {
    "duration": 0,
    "start_time": "2023-11-27T23:19:53.676Z"
   },
   {
    "duration": 0,
    "start_time": "2023-11-27T23:19:53.677Z"
   },
   {
    "duration": 0,
    "start_time": "2023-11-27T23:19:53.678Z"
   },
   {
    "duration": 0,
    "start_time": "2023-11-27T23:19:53.679Z"
   },
   {
    "duration": 0,
    "start_time": "2023-11-27T23:19:53.681Z"
   },
   {
    "duration": 17,
    "start_time": "2023-11-27T23:20:19.980Z"
   },
   {
    "duration": 10,
    "start_time": "2023-11-27T23:20:41.403Z"
   },
   {
    "duration": 4,
    "start_time": "2023-11-27T23:20:54.488Z"
   },
   {
    "duration": 28,
    "start_time": "2023-11-27T23:20:54.494Z"
   },
   {
    "duration": 12,
    "start_time": "2023-11-27T23:20:54.524Z"
   },
   {
    "duration": 10,
    "start_time": "2023-11-27T23:20:54.538Z"
   },
   {
    "duration": 22,
    "start_time": "2023-11-27T23:20:54.549Z"
   },
   {
    "duration": 5,
    "start_time": "2023-11-27T23:20:54.573Z"
   },
   {
    "duration": 15,
    "start_time": "2023-11-27T23:20:54.579Z"
   },
   {
    "duration": 230,
    "start_time": "2023-11-27T23:20:54.596Z"
   },
   {
    "duration": 4,
    "start_time": "2023-11-27T23:20:54.828Z"
   },
   {
    "duration": 5,
    "start_time": "2023-11-27T23:20:54.834Z"
   },
   {
    "duration": 133,
    "start_time": "2023-11-27T23:20:54.840Z"
   },
   {
    "duration": 77,
    "start_time": "2023-11-27T23:20:54.974Z"
   },
   {
    "duration": 159,
    "start_time": "2023-11-27T23:20:55.053Z"
   },
   {
    "duration": 100,
    "start_time": "2023-11-27T23:20:55.213Z"
   },
   {
    "duration": 134,
    "start_time": "2023-11-27T23:20:55.315Z"
   },
   {
    "duration": 88,
    "start_time": "2023-11-27T23:20:55.451Z"
   },
   {
    "duration": 4,
    "start_time": "2023-11-27T23:20:55.540Z"
   },
   {
    "duration": 132,
    "start_time": "2023-11-27T23:20:55.545Z"
   },
   {
    "duration": 4,
    "start_time": "2023-11-27T23:20:55.679Z"
   },
   {
    "duration": 5,
    "start_time": "2023-11-27T23:20:55.684Z"
   },
   {
    "duration": 11,
    "start_time": "2023-11-27T23:20:55.691Z"
   },
   {
    "duration": 135,
    "start_time": "2023-11-27T23:20:55.703Z"
   },
   {
    "duration": 4,
    "start_time": "2023-11-27T23:20:55.839Z"
   },
   {
    "duration": 20,
    "start_time": "2023-11-27T23:20:55.846Z"
   },
   {
    "duration": 11,
    "start_time": "2023-11-27T23:20:55.867Z"
   },
   {
    "duration": 11,
    "start_time": "2023-11-27T23:20:55.880Z"
   },
   {
    "duration": 8,
    "start_time": "2023-11-27T23:20:55.892Z"
   },
   {
    "duration": 7,
    "start_time": "2023-11-27T23:20:55.901Z"
   },
   {
    "duration": 3,
    "start_time": "2023-11-27T23:20:55.909Z"
   },
   {
    "duration": 24,
    "start_time": "2023-11-27T23:20:55.913Z"
   },
   {
    "duration": 47,
    "start_time": "2023-11-27T23:20:55.938Z"
   },
   {
    "duration": 6,
    "start_time": "2023-11-27T23:20:55.987Z"
   },
   {
    "duration": 9,
    "start_time": "2023-11-27T23:20:55.995Z"
   },
   {
    "duration": 7,
    "start_time": "2023-11-27T23:20:56.005Z"
   },
   {
    "duration": 10,
    "start_time": "2023-11-27T23:20:56.014Z"
   },
   {
    "duration": 99,
    "start_time": "2023-11-27T23:20:56.026Z"
   },
   {
    "duration": 0,
    "start_time": "2023-11-27T23:20:56.127Z"
   },
   {
    "duration": 0,
    "start_time": "2023-11-27T23:20:56.128Z"
   },
   {
    "duration": 0,
    "start_time": "2023-11-27T23:20:56.129Z"
   },
   {
    "duration": 0,
    "start_time": "2023-11-27T23:20:56.130Z"
   },
   {
    "duration": 0,
    "start_time": "2023-11-27T23:20:56.131Z"
   },
   {
    "duration": 0,
    "start_time": "2023-11-27T23:20:56.133Z"
   },
   {
    "duration": 0,
    "start_time": "2023-11-27T23:20:56.134Z"
   },
   {
    "duration": 0,
    "start_time": "2023-11-27T23:20:56.136Z"
   },
   {
    "duration": 0,
    "start_time": "2023-11-27T23:20:56.136Z"
   },
   {
    "duration": 0,
    "start_time": "2023-11-27T23:20:56.138Z"
   },
   {
    "duration": 0,
    "start_time": "2023-11-27T23:20:56.139Z"
   },
   {
    "duration": 0,
    "start_time": "2023-11-27T23:20:56.140Z"
   },
   {
    "duration": 0,
    "start_time": "2023-11-27T23:20:56.140Z"
   },
   {
    "duration": 0,
    "start_time": "2023-11-27T23:20:56.142Z"
   },
   {
    "duration": 0,
    "start_time": "2023-11-27T23:20:56.143Z"
   },
   {
    "duration": 0,
    "start_time": "2023-11-27T23:20:56.144Z"
   },
   {
    "duration": 6,
    "start_time": "2023-11-27T23:21:18.093Z"
   },
   {
    "duration": 5,
    "start_time": "2023-11-27T23:21:20.180Z"
   },
   {
    "duration": 28,
    "start_time": "2023-11-27T23:21:20.186Z"
   },
   {
    "duration": 12,
    "start_time": "2023-11-27T23:21:20.216Z"
   },
   {
    "duration": 9,
    "start_time": "2023-11-27T23:21:20.230Z"
   },
   {
    "duration": 22,
    "start_time": "2023-11-27T23:21:20.241Z"
   },
   {
    "duration": 4,
    "start_time": "2023-11-27T23:21:20.265Z"
   },
   {
    "duration": 10,
    "start_time": "2023-11-27T23:21:20.271Z"
   },
   {
    "duration": 227,
    "start_time": "2023-11-27T23:21:20.282Z"
   },
   {
    "duration": 5,
    "start_time": "2023-11-27T23:21:20.511Z"
   },
   {
    "duration": 4,
    "start_time": "2023-11-27T23:21:20.518Z"
   },
   {
    "duration": 134,
    "start_time": "2023-11-27T23:21:20.523Z"
   },
   {
    "duration": 82,
    "start_time": "2023-11-27T23:21:20.658Z"
   },
   {
    "duration": 176,
    "start_time": "2023-11-27T23:21:20.742Z"
   },
   {
    "duration": 98,
    "start_time": "2023-11-27T23:21:20.920Z"
   },
   {
    "duration": 135,
    "start_time": "2023-11-27T23:21:21.020Z"
   },
   {
    "duration": 84,
    "start_time": "2023-11-27T23:21:21.157Z"
   },
   {
    "duration": 3,
    "start_time": "2023-11-27T23:21:21.243Z"
   },
   {
    "duration": 134,
    "start_time": "2023-11-27T23:21:21.247Z"
   },
   {
    "duration": 5,
    "start_time": "2023-11-27T23:21:21.383Z"
   },
   {
    "duration": 5,
    "start_time": "2023-11-27T23:21:21.389Z"
   },
   {
    "duration": 9,
    "start_time": "2023-11-27T23:21:21.395Z"
   },
   {
    "duration": 150,
    "start_time": "2023-11-27T23:21:21.406Z"
   },
   {
    "duration": 8,
    "start_time": "2023-11-27T23:21:21.558Z"
   },
   {
    "duration": 6,
    "start_time": "2023-11-27T23:21:21.568Z"
   },
   {
    "duration": 11,
    "start_time": "2023-11-27T23:21:21.576Z"
   },
   {
    "duration": 11,
    "start_time": "2023-11-27T23:21:21.589Z"
   },
   {
    "duration": 5,
    "start_time": "2023-11-27T23:21:21.601Z"
   },
   {
    "duration": 4,
    "start_time": "2023-11-27T23:21:21.609Z"
   },
   {
    "duration": 9,
    "start_time": "2023-11-27T23:21:21.614Z"
   },
   {
    "duration": 51,
    "start_time": "2023-11-27T23:21:21.625Z"
   },
   {
    "duration": 21,
    "start_time": "2023-11-27T23:21:21.677Z"
   },
   {
    "duration": 4,
    "start_time": "2023-11-27T23:21:21.699Z"
   },
   {
    "duration": 7,
    "start_time": "2023-11-27T23:21:21.704Z"
   },
   {
    "duration": 8,
    "start_time": "2023-11-27T23:21:21.712Z"
   },
   {
    "duration": 12,
    "start_time": "2023-11-27T23:21:21.721Z"
   },
   {
    "duration": 39,
    "start_time": "2023-11-27T23:21:21.734Z"
   },
   {
    "duration": 84,
    "start_time": "2023-11-27T23:21:21.774Z"
   },
   {
    "duration": 0,
    "start_time": "2023-11-27T23:21:21.859Z"
   },
   {
    "duration": 0,
    "start_time": "2023-11-27T23:21:21.861Z"
   },
   {
    "duration": 0,
    "start_time": "2023-11-27T23:21:21.862Z"
   },
   {
    "duration": 0,
    "start_time": "2023-11-27T23:21:21.863Z"
   },
   {
    "duration": 0,
    "start_time": "2023-11-27T23:21:21.864Z"
   },
   {
    "duration": 0,
    "start_time": "2023-11-27T23:21:21.865Z"
   },
   {
    "duration": 0,
    "start_time": "2023-11-27T23:21:21.866Z"
   },
   {
    "duration": 0,
    "start_time": "2023-11-27T23:21:21.867Z"
   },
   {
    "duration": 0,
    "start_time": "2023-11-27T23:21:21.868Z"
   },
   {
    "duration": 0,
    "start_time": "2023-11-27T23:21:21.869Z"
   },
   {
    "duration": 0,
    "start_time": "2023-11-27T23:21:21.870Z"
   },
   {
    "duration": 0,
    "start_time": "2023-11-27T23:21:21.871Z"
   },
   {
    "duration": 0,
    "start_time": "2023-11-27T23:21:21.872Z"
   },
   {
    "duration": 0,
    "start_time": "2023-11-27T23:21:21.873Z"
   },
   {
    "duration": 0,
    "start_time": "2023-11-27T23:21:21.874Z"
   },
   {
    "duration": 0,
    "start_time": "2023-11-27T23:21:21.875Z"
   },
   {
    "duration": 10,
    "start_time": "2023-11-27T23:21:45.194Z"
   },
   {
    "duration": 10,
    "start_time": "2023-11-27T23:28:32.634Z"
   },
   {
    "duration": 15,
    "start_time": "2023-11-27T23:29:23.060Z"
   },
   {
    "duration": 4,
    "start_time": "2023-11-27T23:29:25.161Z"
   },
   {
    "duration": 34,
    "start_time": "2023-11-27T23:29:25.167Z"
   },
   {
    "duration": 13,
    "start_time": "2023-11-27T23:29:25.202Z"
   },
   {
    "duration": 10,
    "start_time": "2023-11-27T23:29:25.217Z"
   },
   {
    "duration": 22,
    "start_time": "2023-11-27T23:29:25.228Z"
   },
   {
    "duration": 6,
    "start_time": "2023-11-27T23:29:25.265Z"
   },
   {
    "duration": 9,
    "start_time": "2023-11-27T23:29:25.272Z"
   },
   {
    "duration": 233,
    "start_time": "2023-11-27T23:29:25.283Z"
   },
   {
    "duration": 5,
    "start_time": "2023-11-27T23:29:25.518Z"
   },
   {
    "duration": 3,
    "start_time": "2023-11-27T23:29:25.526Z"
   },
   {
    "duration": 143,
    "start_time": "2023-11-27T23:29:25.530Z"
   },
   {
    "duration": 90,
    "start_time": "2023-11-27T23:29:25.675Z"
   },
   {
    "duration": 152,
    "start_time": "2023-11-27T23:29:25.767Z"
   },
   {
    "duration": 104,
    "start_time": "2023-11-27T23:29:25.920Z"
   },
   {
    "duration": 144,
    "start_time": "2023-11-27T23:29:26.026Z"
   },
   {
    "duration": 98,
    "start_time": "2023-11-27T23:29:26.171Z"
   },
   {
    "duration": 3,
    "start_time": "2023-11-27T23:29:26.271Z"
   },
   {
    "duration": 340,
    "start_time": "2023-11-27T23:29:26.275Z"
   },
   {
    "duration": 3,
    "start_time": "2023-11-27T23:29:26.617Z"
   },
   {
    "duration": 7,
    "start_time": "2023-11-27T23:29:26.621Z"
   },
   {
    "duration": 12,
    "start_time": "2023-11-27T23:29:26.630Z"
   },
   {
    "duration": 133,
    "start_time": "2023-11-27T23:29:26.643Z"
   },
   {
    "duration": 3,
    "start_time": "2023-11-27T23:29:26.777Z"
   },
   {
    "duration": 6,
    "start_time": "2023-11-27T23:29:26.781Z"
   },
   {
    "duration": 10,
    "start_time": "2023-11-27T23:29:26.788Z"
   },
   {
    "duration": 13,
    "start_time": "2023-11-27T23:29:26.799Z"
   },
   {
    "duration": 10,
    "start_time": "2023-11-27T23:29:26.813Z"
   },
   {
    "duration": 5,
    "start_time": "2023-11-27T23:29:26.826Z"
   },
   {
    "duration": 31,
    "start_time": "2023-11-27T23:29:26.833Z"
   },
   {
    "duration": 35,
    "start_time": "2023-11-27T23:29:26.866Z"
   },
   {
    "duration": 22,
    "start_time": "2023-11-27T23:29:26.902Z"
   },
   {
    "duration": 5,
    "start_time": "2023-11-27T23:29:26.926Z"
   },
   {
    "duration": 6,
    "start_time": "2023-11-27T23:29:26.932Z"
   },
   {
    "duration": 29,
    "start_time": "2023-11-27T23:29:26.940Z"
   },
   {
    "duration": 9,
    "start_time": "2023-11-27T23:29:26.970Z"
   },
   {
    "duration": 6,
    "start_time": "2023-11-27T23:29:26.980Z"
   },
   {
    "duration": 12,
    "start_time": "2023-11-27T23:29:26.988Z"
   },
   {
    "duration": 75,
    "start_time": "2023-11-27T23:29:27.001Z"
   },
   {
    "duration": 0,
    "start_time": "2023-11-27T23:29:27.078Z"
   },
   {
    "duration": 0,
    "start_time": "2023-11-27T23:29:27.079Z"
   },
   {
    "duration": 0,
    "start_time": "2023-11-27T23:29:27.080Z"
   },
   {
    "duration": 0,
    "start_time": "2023-11-27T23:29:27.081Z"
   },
   {
    "duration": 0,
    "start_time": "2023-11-27T23:29:27.083Z"
   },
   {
    "duration": 0,
    "start_time": "2023-11-27T23:29:27.084Z"
   },
   {
    "duration": 0,
    "start_time": "2023-11-27T23:29:27.085Z"
   },
   {
    "duration": 0,
    "start_time": "2023-11-27T23:29:27.086Z"
   },
   {
    "duration": 0,
    "start_time": "2023-11-27T23:29:27.087Z"
   },
   {
    "duration": 0,
    "start_time": "2023-11-27T23:29:27.089Z"
   },
   {
    "duration": 0,
    "start_time": "2023-11-27T23:29:27.090Z"
   },
   {
    "duration": 0,
    "start_time": "2023-11-27T23:29:27.091Z"
   },
   {
    "duration": 0,
    "start_time": "2023-11-27T23:29:27.092Z"
   },
   {
    "duration": 0,
    "start_time": "2023-11-27T23:29:27.093Z"
   },
   {
    "duration": 0,
    "start_time": "2023-11-27T23:29:27.094Z"
   },
   {
    "duration": 0,
    "start_time": "2023-11-27T23:29:27.095Z"
   },
   {
    "duration": 18,
    "start_time": "2023-11-27T23:29:39.490Z"
   },
   {
    "duration": 5,
    "start_time": "2023-11-27T23:29:55.184Z"
   },
   {
    "duration": 29,
    "start_time": "2023-11-27T23:29:55.191Z"
   },
   {
    "duration": 14,
    "start_time": "2023-11-27T23:29:55.222Z"
   },
   {
    "duration": 10,
    "start_time": "2023-11-27T23:29:55.237Z"
   },
   {
    "duration": 32,
    "start_time": "2023-11-27T23:29:55.249Z"
   },
   {
    "duration": 6,
    "start_time": "2023-11-27T23:29:55.282Z"
   },
   {
    "duration": 7,
    "start_time": "2023-11-27T23:29:55.289Z"
   },
   {
    "duration": 243,
    "start_time": "2023-11-27T23:29:55.298Z"
   },
   {
    "duration": 5,
    "start_time": "2023-11-27T23:29:55.543Z"
   },
   {
    "duration": 14,
    "start_time": "2023-11-27T23:29:55.549Z"
   },
   {
    "duration": 128,
    "start_time": "2023-11-27T23:29:55.565Z"
   },
   {
    "duration": 91,
    "start_time": "2023-11-27T23:29:55.694Z"
   },
   {
    "duration": 149,
    "start_time": "2023-11-27T23:29:55.787Z"
   },
   {
    "duration": 100,
    "start_time": "2023-11-27T23:29:55.939Z"
   },
   {
    "duration": 139,
    "start_time": "2023-11-27T23:29:56.041Z"
   },
   {
    "duration": 94,
    "start_time": "2023-11-27T23:29:56.182Z"
   },
   {
    "duration": 4,
    "start_time": "2023-11-27T23:29:56.277Z"
   },
   {
    "duration": 129,
    "start_time": "2023-11-27T23:29:56.282Z"
   },
   {
    "duration": 3,
    "start_time": "2023-11-27T23:29:56.413Z"
   },
   {
    "duration": 24,
    "start_time": "2023-11-27T23:29:56.418Z"
   },
   {
    "duration": 18,
    "start_time": "2023-11-27T23:29:56.443Z"
   },
   {
    "duration": 124,
    "start_time": "2023-11-27T23:29:56.463Z"
   },
   {
    "duration": 4,
    "start_time": "2023-11-27T23:29:56.588Z"
   },
   {
    "duration": 7,
    "start_time": "2023-11-27T23:29:56.593Z"
   },
   {
    "duration": 16,
    "start_time": "2023-11-27T23:29:56.602Z"
   },
   {
    "duration": 15,
    "start_time": "2023-11-27T23:29:56.620Z"
   },
   {
    "duration": 29,
    "start_time": "2023-11-27T23:29:56.637Z"
   },
   {
    "duration": 4,
    "start_time": "2023-11-27T23:29:56.668Z"
   },
   {
    "duration": 4,
    "start_time": "2023-11-27T23:29:56.673Z"
   },
   {
    "duration": 34,
    "start_time": "2023-11-27T23:29:56.678Z"
   },
   {
    "duration": 21,
    "start_time": "2023-11-27T23:29:56.713Z"
   },
   {
    "duration": 7,
    "start_time": "2023-11-27T23:29:56.735Z"
   },
   {
    "duration": 8,
    "start_time": "2023-11-27T23:29:56.764Z"
   },
   {
    "duration": 34,
    "start_time": "2023-11-27T23:29:56.773Z"
   },
   {
    "duration": 10,
    "start_time": "2023-11-27T23:29:56.808Z"
   },
   {
    "duration": 23,
    "start_time": "2023-11-27T23:29:56.819Z"
   },
   {
    "duration": 2,
    "start_time": "2023-11-27T23:29:56.844Z"
   },
   {
    "duration": 6,
    "start_time": "2023-11-27T23:29:56.847Z"
   },
   {
    "duration": 12,
    "start_time": "2023-11-27T23:29:56.855Z"
   },
   {
    "duration": 10041,
    "start_time": "2023-11-27T23:29:56.869Z"
   },
   {
    "duration": 863411,
    "start_time": "2023-11-27T23:30:06.914Z"
   },
   {
    "duration": 47868,
    "start_time": "2023-11-27T23:44:30.327Z"
   },
   {
    "duration": 4483053,
    "start_time": "2023-11-27T23:45:18.196Z"
   },
   {
    "duration": 14,
    "start_time": "2023-11-28T01:00:01.251Z"
   },
   {
    "duration": 2155218,
    "start_time": "2023-11-28T01:00:01.267Z"
   },
   {
    "duration": 0,
    "start_time": "2023-11-28T01:35:56.487Z"
   },
   {
    "duration": 0,
    "start_time": "2023-11-28T01:35:56.488Z"
   },
   {
    "duration": 0,
    "start_time": "2023-11-28T01:35:56.489Z"
   },
   {
    "duration": 121193,
    "start_time": "2023-11-28T01:36:04.881Z"
   },
   {
    "duration": 40,
    "start_time": "2023-11-28T01:39:37.780Z"
   },
   {
    "duration": 3543,
    "start_time": "2023-11-28T01:43:02.918Z"
   },
   {
    "duration": 120,
    "start_time": "2023-11-28T01:43:09.043Z"
   },
   {
    "duration": 8,
    "start_time": "2023-11-28T01:45:29.020Z"
   },
   {
    "duration": 11,
    "start_time": "2023-11-28T01:45:32.753Z"
   },
   {
    "duration": 13,
    "start_time": "2023-11-28T01:45:47.223Z"
   },
   {
    "duration": 6,
    "start_time": "2023-11-28T01:46:12.047Z"
   },
   {
    "duration": 14,
    "start_time": "2023-11-28T01:46:40.578Z"
   },
   {
    "duration": 59,
    "start_time": "2023-11-28T01:49:10.239Z"
   },
   {
    "duration": 9,
    "start_time": "2023-11-28T01:49:43.014Z"
   },
   {
    "duration": 6,
    "start_time": "2023-11-28T01:49:44.236Z"
   },
   {
    "duration": 53,
    "start_time": "2023-11-28T01:49:44.972Z"
   },
   {
    "duration": 9,
    "start_time": "2023-11-28T03:03:41.536Z"
   },
   {
    "duration": 5,
    "start_time": "2023-11-28T03:03:42.869Z"
   },
   {
    "duration": 6,
    "start_time": "2023-11-28T03:04:43.161Z"
   },
   {
    "duration": 6,
    "start_time": "2023-11-28T03:04:47.567Z"
   },
   {
    "duration": 67,
    "start_time": "2023-11-28T03:04:49.517Z"
   },
   {
    "duration": 9,
    "start_time": "2023-11-28T03:05:11.619Z"
   },
   {
    "duration": 6,
    "start_time": "2023-11-28T03:05:12.324Z"
   },
   {
    "duration": 126,
    "start_time": "2023-11-28T03:05:13.152Z"
   },
   {
    "duration": 8,
    "start_time": "2023-11-28T03:05:42.595Z"
   },
   {
    "duration": 6,
    "start_time": "2023-11-28T03:05:43.326Z"
   },
   {
    "duration": 109,
    "start_time": "2023-11-28T03:05:44.029Z"
   },
   {
    "duration": 18,
    "start_time": "2023-11-28T03:15:55.492Z"
   },
   {
    "duration": 578358,
    "start_time": "2023-11-28T03:16:25.711Z"
   },
   {
    "duration": 4,
    "start_time": "2023-11-28T03:26:04.071Z"
   },
   {
    "duration": 1813,
    "start_time": "2023-11-28T03:28:58.625Z"
   },
   {
    "duration": 29,
    "start_time": "2023-11-28T03:29:00.439Z"
   },
   {
    "duration": 91,
    "start_time": "2023-11-28T03:29:00.469Z"
   },
   {
    "duration": 11,
    "start_time": "2023-11-28T03:29:00.564Z"
   },
   {
    "duration": 42,
    "start_time": "2023-11-28T03:29:00.576Z"
   },
   {
    "duration": 14,
    "start_time": "2023-11-28T03:29:00.620Z"
   },
   {
    "duration": 28,
    "start_time": "2023-11-28T03:29:00.635Z"
   },
   {
    "duration": 231,
    "start_time": "2023-11-28T03:29:00.664Z"
   },
   {
    "duration": 5,
    "start_time": "2023-11-28T03:29:00.897Z"
   },
   {
    "duration": 25,
    "start_time": "2023-11-28T03:29:00.904Z"
   },
   {
    "duration": 141,
    "start_time": "2023-11-28T03:29:00.931Z"
   },
   {
    "duration": 93,
    "start_time": "2023-11-28T03:29:01.073Z"
   },
   {
    "duration": 149,
    "start_time": "2023-11-28T03:29:01.168Z"
   },
   {
    "duration": 104,
    "start_time": "2023-11-28T03:29:01.319Z"
   },
   {
    "duration": 136,
    "start_time": "2023-11-28T03:29:01.425Z"
   },
   {
    "duration": 83,
    "start_time": "2023-11-28T03:29:01.564Z"
   },
   {
    "duration": 18,
    "start_time": "2023-11-28T03:29:01.648Z"
   },
   {
    "duration": 133,
    "start_time": "2023-11-28T03:29:01.667Z"
   },
   {
    "duration": 3,
    "start_time": "2023-11-28T03:29:01.802Z"
   },
   {
    "duration": 26,
    "start_time": "2023-11-28T03:29:01.806Z"
   },
   {
    "duration": 22,
    "start_time": "2023-11-28T03:29:01.833Z"
   },
   {
    "duration": 143,
    "start_time": "2023-11-28T03:29:01.857Z"
   },
   {
    "duration": 4,
    "start_time": "2023-11-28T03:29:02.001Z"
   },
   {
    "duration": 24,
    "start_time": "2023-11-28T03:29:02.006Z"
   },
   {
    "duration": 44,
    "start_time": "2023-11-28T03:29:02.031Z"
   },
   {
    "duration": 48,
    "start_time": "2023-11-28T03:29:02.077Z"
   },
   {
    "duration": 20,
    "start_time": "2023-11-28T03:29:02.127Z"
   },
   {
    "duration": 17,
    "start_time": "2023-11-28T03:29:02.150Z"
   },
   {
    "duration": 12,
    "start_time": "2023-11-28T03:29:02.168Z"
   },
   {
    "duration": 33,
    "start_time": "2023-11-28T03:29:02.181Z"
   },
   {
    "duration": 24,
    "start_time": "2023-11-28T03:29:02.215Z"
   },
   {
    "duration": 15,
    "start_time": "2023-11-28T03:29:02.241Z"
   },
   {
    "duration": 23,
    "start_time": "2023-11-28T03:29:02.257Z"
   },
   {
    "duration": 22,
    "start_time": "2023-11-28T03:29:02.281Z"
   },
   {
    "duration": 31,
    "start_time": "2023-11-28T03:29:02.304Z"
   },
   {
    "duration": 37,
    "start_time": "2023-11-28T03:29:02.337Z"
   },
   {
    "duration": 2,
    "start_time": "2023-11-28T03:29:02.376Z"
   },
   {
    "duration": 16,
    "start_time": "2023-11-28T03:29:02.380Z"
   },
   {
    "duration": 17,
    "start_time": "2023-11-28T03:29:02.397Z"
   },
   {
    "duration": 9827,
    "start_time": "2023-11-28T03:29:02.416Z"
   },
   {
    "duration": 833741,
    "start_time": "2023-11-28T03:29:12.244Z"
   },
   {
    "duration": 45378,
    "start_time": "2023-11-28T03:43:05.987Z"
   },
   {
    "duration": 1117338,
    "start_time": "2023-11-28T03:43:51.367Z"
   },
   {
    "duration": 0,
    "start_time": "2023-11-28T04:02:28.706Z"
   },
   {
    "duration": 0,
    "start_time": "2023-11-28T04:02:28.707Z"
   },
   {
    "duration": 0,
    "start_time": "2023-11-28T04:02:28.708Z"
   },
   {
    "duration": 0,
    "start_time": "2023-11-28T04:02:28.709Z"
   },
   {
    "duration": 0,
    "start_time": "2023-11-28T04:02:28.711Z"
   },
   {
    "duration": 1737,
    "start_time": "2023-11-28T04:05:15.797Z"
   },
   {
    "duration": 29,
    "start_time": "2023-11-28T04:05:17.536Z"
   },
   {
    "duration": 102,
    "start_time": "2023-11-28T04:05:17.567Z"
   },
   {
    "duration": 11,
    "start_time": "2023-11-28T04:05:17.671Z"
   },
   {
    "duration": 40,
    "start_time": "2023-11-28T04:05:17.684Z"
   },
   {
    "duration": 6,
    "start_time": "2023-11-28T04:05:17.725Z"
   },
   {
    "duration": 27,
    "start_time": "2023-11-28T04:05:17.732Z"
   },
   {
    "duration": 232,
    "start_time": "2023-11-28T04:05:17.761Z"
   },
   {
    "duration": 5,
    "start_time": "2023-11-28T04:05:17.995Z"
   },
   {
    "duration": 11,
    "start_time": "2023-11-28T04:05:18.001Z"
   },
   {
    "duration": 137,
    "start_time": "2023-11-28T04:05:18.014Z"
   },
   {
    "duration": 87,
    "start_time": "2023-11-28T04:05:18.152Z"
   },
   {
    "duration": 151,
    "start_time": "2023-11-28T04:05:18.240Z"
   },
   {
    "duration": 103,
    "start_time": "2023-11-28T04:05:18.393Z"
   },
   {
    "duration": 156,
    "start_time": "2023-11-28T04:05:18.497Z"
   },
   {
    "duration": 100,
    "start_time": "2023-11-28T04:05:18.655Z"
   },
   {
    "duration": 11,
    "start_time": "2023-11-28T04:05:18.757Z"
   },
   {
    "duration": 145,
    "start_time": "2023-11-28T04:05:18.770Z"
   },
   {
    "duration": 4,
    "start_time": "2023-11-28T04:05:18.917Z"
   },
   {
    "duration": 6,
    "start_time": "2023-11-28T04:05:18.923Z"
   },
   {
    "duration": 35,
    "start_time": "2023-11-28T04:05:18.931Z"
   },
   {
    "duration": 143,
    "start_time": "2023-11-28T04:05:18.968Z"
   },
   {
    "duration": 5,
    "start_time": "2023-11-28T04:05:19.113Z"
   },
   {
    "duration": 5,
    "start_time": "2023-11-28T04:05:19.119Z"
   },
   {
    "duration": 41,
    "start_time": "2023-11-28T04:05:19.125Z"
   },
   {
    "duration": 23,
    "start_time": "2023-11-28T04:05:19.168Z"
   },
   {
    "duration": 7,
    "start_time": "2023-11-28T04:05:19.192Z"
   },
   {
    "duration": 7,
    "start_time": "2023-11-28T04:05:19.201Z"
   },
   {
    "duration": 8,
    "start_time": "2023-11-28T04:05:19.210Z"
   },
   {
    "duration": 11,
    "start_time": "2023-11-28T04:05:19.220Z"
   },
   {
    "duration": 12,
    "start_time": "2023-11-28T04:05:19.233Z"
   },
   {
    "duration": 9430,
    "start_time": "2023-11-28T04:05:19.247Z"
   },
   {
    "duration": 842024,
    "start_time": "2023-11-28T04:05:28.679Z"
   },
   {
    "duration": 46358,
    "start_time": "2023-11-28T04:19:30.705Z"
   },
   {
    "duration": 4345642,
    "start_time": "2023-11-28T04:20:17.065Z"
   },
   {
    "duration": 147,
    "start_time": "2023-11-28T05:32:42.709Z"
   },
   {
    "duration": 1096608,
    "start_time": "2023-11-28T05:32:42.857Z"
   },
   {
    "duration": 4,
    "start_time": "2023-11-28T05:50:59.467Z"
   },
   {
    "duration": 693,
    "start_time": "2023-11-28T05:50:59.473Z"
   },
   {
    "duration": 7,
    "start_time": "2023-11-28T05:51:00.167Z"
   },
   {
    "duration": 10,
    "start_time": "2023-11-28T14:07:16.907Z"
   },
   {
    "duration": 2606647,
    "start_time": "2023-11-28T14:08:46.268Z"
   },
   {
    "duration": 0,
    "start_time": "2023-11-28T14:52:12.916Z"
   },
   {
    "duration": 0,
    "start_time": "2023-11-28T14:52:12.917Z"
   },
   {
    "duration": 828963,
    "start_time": "2023-11-28T14:52:29.992Z"
   },
   {
    "duration": 3,
    "start_time": "2023-11-28T15:06:18.957Z"
   },
   {
    "duration": 675,
    "start_time": "2023-11-28T15:06:18.962Z"
   },
   {
    "duration": 7,
    "start_time": "2023-11-28T15:08:26.708Z"
   }
  ],
  "kernelspec": {
   "display_name": "Python 3 (ipykernel)",
   "language": "python",
   "name": "python3"
  },
  "language_info": {
   "codemirror_mode": {
    "name": "ipython",
    "version": 3
   },
   "file_extension": ".py",
   "mimetype": "text/x-python",
   "name": "python",
   "nbconvert_exporter": "python",
   "pygments_lexer": "ipython3",
   "version": "3.9.5"
  },
  "toc": {
   "base_numbering": 1,
   "nav_menu": {},
   "number_sections": false,
   "sideBar": true,
   "skip_h1_title": false,
   "title_cell": "Table of Contents",
   "title_sidebar": "Contents",
   "toc_cell": false,
   "toc_position": {
    "height": "calc(100% - 180px)",
    "left": "10px",
    "top": "150px",
    "width": "294.797px"
   },
   "toc_section_display": true,
   "toc_window_display": true
  },
  "varInspector": {
   "cols": {
    "lenName": 16,
    "lenType": 16,
    "lenVar": 40
   },
   "kernels_config": {
    "python": {
     "delete_cmd_postfix": "",
     "delete_cmd_prefix": "del ",
     "library": "var_list.py",
     "varRefreshCmd": "print(var_dic_list())"
    },
    "r": {
     "delete_cmd_postfix": ") ",
     "delete_cmd_prefix": "rm(",
     "library": "var_list.r",
     "varRefreshCmd": "cat(var_dic_list()) "
    }
   },
   "types_to_exclude": [
    "module",
    "function",
    "builtin_function_or_method",
    "instance",
    "_Feature"
   ],
   "window_display": false
  }
 },
 "nbformat": 4,
 "nbformat_minor": 5
}
